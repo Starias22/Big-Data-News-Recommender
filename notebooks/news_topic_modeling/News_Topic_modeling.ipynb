{
 "cells": [
  {
   "cell_type": "markdown",
   "metadata": {
    "id": "u-qFVy2lBaqu"
   },
   "source": [
    "# News Topic modeling\n"
   ]
  },
  {
   "cell_type": "markdown",
   "metadata": {
    "id": "mNfMRWDbFXDJ"
   },
   "source": [
    "## I- Modules import"
   ]
  },
  {
   "cell_type": "code",
   "execution_count": 1,
   "metadata": {
    "id": "3QYNQcr-FQLs"
   },
   "outputs": [],
   "source": [
    "from pyspark import SparkConf, SparkContext\n",
    "from pyspark.sql import SparkSession\n",
    "from pyspark.ml.feature import  CountVectorizer,IDF\n",
    "from pyspark.sql.functions import col,explode,split\n",
    "from pyspark.ml import Pipeline,PipelineModel\n",
    "from pyspark.ml.clustering import LDA"
   ]
  },
  {
   "cell_type": "markdown",
   "metadata": {
    "id": "Nj7Qu-EvK9_Y"
   },
   "source": [
    "## II- Spark context and session creation"
   ]
  },
  {
   "cell_type": "code",
   "execution_count": 2,
   "metadata": {
    "colab": {
     "base_uri": "https://localhost:8080/",
     "height": 219
    },
    "id": "aFZWn6-QBByS",
    "outputId": "cc18968f-50af-4a70-9d51-126be08a96c8",
    "scrolled": false
   },
   "outputs": [
    {
     "name": "stderr",
     "output_type": "stream",
     "text": [
      "Setting default log level to \"WARN\".\n",
      "To adjust logging level use sc.setLogLevel(newLevel). For SparkR, use setLogLevel(newLevel).\n",
      "24/06/12 09:33:10 WARN NativeCodeLoader: Unable to load native-hadoop library for your platform... using builtin-java classes where applicable\n"
     ]
    },
    {
     "data": {
      "text/html": [
       "\n",
       "            <div>\n",
       "                <p><b>SparkSession - in-memory</b></p>\n",
       "                \n",
       "        <div>\n",
       "            <p><b>SparkContext</b></p>\n",
       "\n",
       "            <p><a href=\"http://node15.cm.cluster:4040\">Spark UI</a></p>\n",
       "\n",
       "            <dl>\n",
       "              <dt>Version</dt>\n",
       "                <dd><code>v3.5.1</code></dd>\n",
       "              <dt>Master</dt>\n",
       "                <dd><code>spark://node02:7077</code></dd>\n",
       "              <dt>AppName</dt>\n",
       "                <dd><code>NewsTopicModeling</code></dd>\n",
       "            </dl>\n",
       "        </div>\n",
       "        \n",
       "            </div>\n",
       "        "
      ],
      "text/plain": [
       "<pyspark.sql.session.SparkSession at 0x7fffb37a7d60>"
      ]
     },
     "execution_count": 2,
     "metadata": {},
     "output_type": "execute_result"
    }
   ],
   "source": [
    "spark = (SparkSession.builder\n",
    "    .master(\"spark://node02:7077\")\n",
    "    .appName(\"NewsTopicModeling\")\n",
    "    .getOrCreate()\n",
    "        )\n",
    "spark"
   ]
  },
  {
   "cell_type": "markdown",
   "metadata": {
    "id": "PuV9CWoMN60A"
   },
   "source": [
    "## III- Dataframe preparing"
   ]
  },
  {
   "cell_type": "markdown",
   "metadata": {
    "id": "Em4ZWvqhPoHt"
   },
   "source": [
    "### 1. Load the data"
   ]
  },
  {
   "cell_type": "code",
   "execution_count": 3,
   "metadata": {
    "id": "xMI_45McvZto",
    "outputId": "90225c3f-2d6b-4538-9654-f3ed34df5ad6"
   },
   "outputs": [
    {
     "name": "stderr",
     "output_type": "stream",
     "text": [
      "                                                                                \r"
     ]
    }
   ],
   "source": [
    "# Load data\n",
    "df = spark.read.parquet(\"input/news.parquet\", header=True, inferSchema=True)"
   ]
  },
  {
   "cell_type": "markdown",
   "metadata": {
    "id": "x4csdl2FOVf8"
   },
   "source": [
    "### 2. Partition and cache the dataframe"
   ]
  },
  {
   "cell_type": "code",
   "execution_count": 4,
   "metadata": {
    "colab": {
     "base_uri": "https://localhost:8080/"
    },
    "id": "4EXrJ3GIBByT",
    "outputId": "0d866061-6fee-4bbb-fd79-84c946204d72"
   },
   "outputs": [
    {
     "data": {
      "text/plain": [
       "9"
      ]
     },
     "execution_count": 4,
     "metadata": {},
     "output_type": "execute_result"
    }
   ],
   "source": [
    "df.rdd.getNumPartitions()"
   ]
  },
  {
   "cell_type": "code",
   "execution_count": 5,
   "metadata": {
    "id": "PPBefKKqBByU"
   },
   "outputs": [],
   "source": [
    "num_partitions=4*40\n",
    "df= df.repartition(num_partitions).cache()"
   ]
  },
  {
   "cell_type": "code",
   "execution_count": 6,
   "metadata": {
    "colab": {
     "base_uri": "https://localhost:8080/"
    },
    "id": "ytFY1tjRBByU",
    "outputId": "cf5d7480-394e-43ac-e8e0-bc5cef64d4e2"
   },
   "outputs": [
    {
     "name": "stderr",
     "output_type": "stream",
     "text": [
      "[Stage 3:============================================>         (133 + 27) / 160]\r"
     ]
    },
    {
     "data": {
      "text/plain": [
       "160"
      ]
     },
     "execution_count": 6,
     "metadata": {},
     "output_type": "execute_result"
    }
   ],
   "source": [
    "df.rdd.getNumPartitions()"
   ]
  },
  {
   "cell_type": "markdown",
   "metadata": {
    "id": "4G5XozIiQTEx"
   },
   "source": [
    "### 3. Preview the data"
   ]
  },
  {
   "cell_type": "code",
   "execution_count": 7,
   "metadata": {
    "colab": {
     "base_uri": "https://localhost:8080/"
    },
    "id": "r86OcjwLv0EU",
    "outputId": "63e295fa-1b60-414b-f44f-3f8c8fd24a4b"
   },
   "outputs": [
    {
     "name": "stderr",
     "output_type": "stream",
     "text": [
      "                                                                                \r"
     ]
    },
    {
     "data": {
      "text/plain": [
       "1716608"
      ]
     },
     "execution_count": 7,
     "metadata": {},
     "output_type": "execute_result"
    }
   ],
   "source": [
    "df.count()"
   ]
  },
  {
   "cell_type": "code",
   "execution_count": 8,
   "metadata": {
    "colab": {
     "base_uri": "https://localhost:8080/"
    },
    "id": "sfy_ivN4BByV",
    "outputId": "c374612e-8073-411f-a842-736cbe7eef50"
   },
   "outputs": [
    {
     "name": "stdout",
     "output_type": "stream",
     "text": [
      "+--------------+--------------------+\n",
      "|category_label|description_filtered|\n",
      "+--------------+--------------------+\n",
      "|          22.0|billie jean king ...|\n",
      "|          23.0|huffpost accolade...|\n",
      "|          22.0|genus arizona wom...|\n",
      "|          21.0|trumpet transform...|\n",
      "|          21.0|observe instigato...|\n",
      "|          21.0|friend diaspora c...|\n",
      "|          21.0|effort father nyc...|\n",
      "|          21.0|seeding future he...|\n",
      "|          21.0|help improve surv...|\n",
      "|          21.0|watched traumatiz...|\n",
      "|          21.0|marshall speech w...|\n",
      "|          21.0|help phratry slai...|\n",
      "|          21.0|irma tim duncan p...|\n",
      "|          23.0|natalie portman s...|\n",
      "|          21.0|let choose create...|\n",
      "|          21.0|german supermarke...|\n",
      "|          21.0|one world rarest ...|\n",
      "|          23.0|spectacular new t...|\n",
      "|          21.0|sex act set polit...|\n",
      "|          22.0|floor detail trea...|\n",
      "+--------------+--------------------+\n",
      "only showing top 20 rows\n",
      "\n"
     ]
    }
   ],
   "source": [
    "df.show()"
   ]
  },
  {
   "cell_type": "code",
   "execution_count": 9,
   "metadata": {
    "colab": {
     "base_uri": "https://localhost:8080/"
    },
    "id": "awWri7zZQcOl",
    "outputId": "80402c12-f32a-483f-9ed0-ddad43eda4c4"
   },
   "outputs": [
    {
     "name": "stdout",
     "output_type": "stream",
     "text": [
      "root\n",
      " |-- category_label: double (nullable = true)\n",
      " |-- description_filtered: string (nullable = true)\n",
      "\n"
     ]
    }
   ],
   "source": [
    "df.printSchema()"
   ]
  },
  {
   "cell_type": "markdown",
   "metadata": {
    "id": "VMpXsNNsO_Z6"
   },
   "source": [
    "### 4. Convert filtered descriptions to arrays"
   ]
  },
  {
   "cell_type": "code",
   "execution_count": 10,
   "metadata": {
    "colab": {
     "base_uri": "https://localhost:8080/"
    },
    "id": "Drqnhee0i26r",
    "outputId": "63a0cd7d-df8f-45c9-a6b5-ef7cf9bf7ebc"
   },
   "outputs": [
    {
     "name": "stdout",
     "output_type": "stream",
     "text": [
      "+--------------+---------------------------------------------------------------------------------------------------------+\n",
      "|category_label|description_filtered                                                                                     |\n",
      "+--------------+---------------------------------------------------------------------------------------------------------+\n",
      "|22.0          |[billie, jean, king, quotation, card, fraud]                                                             |\n",
      "|23.0          |[huffpost, accolade, roll, barbershop, outreach, get, shirley, temple, boy, meter, reading]              |\n",
      "|22.0          |[genus, arizona, woman, allegedly, injects, married, man, iv, feces]                                     |\n",
      "|21.0          |[trumpet, transforming, capitalism, making, front, see]                                                  |\n",
      "|21.0          |[observe, instigator, conduct, social, change]                                                           |\n",
      "|21.0          |[friend, diaspora, confederate, state, america, republic, sudan, urge, leadership, choose, peace, treaty]|\n",
      "|21.0          |[effort, father, nyc, homeless, frigidness, ha, little, shock, first, base, night]                       |\n",
      "|21.0          |[seeding, future, hebdomad, daily, giving]                                                               |\n",
      "|21.0          |[help, improve, survival, fittest, nation, leading, suit, expiry, learn, cpr, utilize, aed]              |\n",
      "|21.0          |[watched, traumatized, fair, sex, fight, back, transform, country, rosi, jose, orozco]                   |\n",
      "|21.0          |[marshall, speech, winning, repose]                                                                      |\n",
      "|21.0          |[help, phratry, slain, officeholder, billy, club, paint]                                                 |\n",
      "|21.0          |[irma, tim, duncan, pen, emotional, supplication, nt, forget, u, virgo, virgin, island]                  |\n",
      "|23.0          |[natalie, portman, still, represent, nt, wearing, pant]                                                  |\n",
      "|21.0          |[let, choose, create, better, internet]                                                                  |\n",
      "|21.0          |[german, supermarket, striptease, shelf, foreign, intellectual, nourishment]                             |\n",
      "|21.0          |[one, world, rarest, hummingbird, embody, facilitate, save, swarm, forest, republic, peru]               |\n",
      "|23.0          |[spectacular, new, twist, adelson, newsprint, mystery]                                                   |\n",
      "|21.0          |[sex, act, set, politics, digression, critical, development, humanitarian, issue]                        |\n",
      "|22.0          |[floor, detail, treasure, state, rape, sheath, uncover]                                                  |\n",
      "+--------------+---------------------------------------------------------------------------------------------------------+\n",
      "only showing top 20 rows\n",
      "\n"
     ]
    }
   ],
   "source": [
    "# Create a new DataFrame with description_filtered as arrays\n",
    "df= df.withColumn('description_filtered', split(col('description_filtered'), ' '))\n",
    "# Show the new DataFrame\n",
    "df.show(truncate=False)"
   ]
  },
  {
   "cell_type": "markdown",
   "metadata": {
    "id": "3RmBazOpQqXF"
   },
   "source": [
    "## IV- Feature Engineering\n"
   ]
  },
  {
   "cell_type": "markdown",
   "metadata": {
    "id": "LjsTG0YLSyEn"
   },
   "source": [
    "### 1. Explode the filtered descriptions to get the words"
   ]
  },
  {
   "cell_type": "code",
   "execution_count": 11,
   "metadata": {
    "colab": {
     "base_uri": "https://localhost:8080/"
    },
    "id": "4qON2vCKBByX",
    "outputId": "3b8af783-1259-46dd-9346-ee5ee60033c4"
   },
   "outputs": [
    {
     "name": "stdout",
     "output_type": "stream",
     "text": [
      "+----------+\n",
      "|       col|\n",
      "+----------+\n",
      "|    billie|\n",
      "|      jean|\n",
      "|      king|\n",
      "| quotation|\n",
      "|      card|\n",
      "|     fraud|\n",
      "|  huffpost|\n",
      "|  accolade|\n",
      "|      roll|\n",
      "|barbershop|\n",
      "|  outreach|\n",
      "|       get|\n",
      "|   shirley|\n",
      "|    temple|\n",
      "|       boy|\n",
      "|     meter|\n",
      "|   reading|\n",
      "|     genus|\n",
      "|   arizona|\n",
      "|     woman|\n",
      "+----------+\n",
      "only showing top 20 rows\n",
      "\n"
     ]
    }
   ],
   "source": [
    "exploded_df=df.select(explode(df.description_filtered)).alias('words')\n",
    "exploded_df.show()"
   ]
  },
  {
   "cell_type": "markdown",
   "metadata": {
    "id": "MohTRQirTXD3"
   },
   "source": [
    "### 2. Get unique words in the filtered_description"
   ]
  },
  {
   "cell_type": "code",
   "execution_count": 12,
   "metadata": {
    "id": "2NbJFyQlBByX"
   },
   "outputs": [],
   "source": [
    "unique_words=exploded_df.distinct()"
   ]
  },
  {
   "cell_type": "markdown",
   "metadata": {
    "id": "t-UjxthKU0Rq"
   },
   "source": [
    "### 3. Cache and show the unique words dataframe"
   ]
  },
  {
   "cell_type": "code",
   "execution_count": 13,
   "metadata": {
    "colab": {
     "base_uri": "https://localhost:8080/"
    },
    "id": "h1S8h39xBByX",
    "outputId": "8c884387-1347-4441-d313-56027086df18"
   },
   "outputs": [
    {
     "name": "stderr",
     "output_type": "stream",
     "text": [
      "[Stage 19:===========================================>         (166 + 34) / 200]\r"
     ]
    },
    {
     "name": "stdout",
     "output_type": "stream",
     "text": [
      "+-------------+\n",
      "|          col|\n",
      "+-------------+\n",
      "|      barrier|\n",
      "|     vladimir|\n",
      "|vladimirovich|\n",
      "|       travel|\n",
      "|         hope|\n",
      "|   lieutenant|\n",
      "|   stateowned|\n",
      "|        still|\n",
      "|        inner|\n",
      "|  requirement|\n",
      "|       online|\n",
      "|          fog|\n",
      "|   electrical|\n",
      "|        trail|\n",
      "|     priority|\n",
      "|      alquran|\n",
      "|     ignominy|\n",
      "|      implore|\n",
      "|     tortured|\n",
      "|        1970s|\n",
      "+-------------+\n",
      "only showing top 20 rows\n",
      "\n"
     ]
    },
    {
     "name": "stderr",
     "output_type": "stream",
     "text": [
      "\r",
      "                                                                                \r"
     ]
    }
   ],
   "source": [
    "unique_words=unique_words.cache()\n",
    "unique_words.show()"
   ]
  },
  {
   "cell_type": "markdown",
   "metadata": {
    "id": "KCb1pLl3VLOL"
   },
   "source": [
    "### 4. Get the vocabulary size"
   ]
  },
  {
   "cell_type": "code",
   "execution_count": 14,
   "metadata": {
    "colab": {
     "base_uri": "https://localhost:8080/"
    },
    "id": "dCakXZ3PBByX",
    "outputId": "e54847cd-6dce-4cf7-ffcb-7770061fcf18"
   },
   "outputs": [
    {
     "data": {
      "text/plain": [
       "128622"
      ]
     },
     "execution_count": 14,
     "metadata": {},
     "output_type": "execute_result"
    }
   ],
   "source": [
    "vocabulary_size=unique_words.count()\n",
    "vocabulary_size"
   ]
  },
  {
   "cell_type": "code",
   "execution_count": 15,
   "metadata": {
    "id": "tkAXIk7LlR9l"
   },
   "outputs": [],
   "source": [
    "minDF=3.0 # The minimum document frequency"
   ]
  },
  {
   "cell_type": "markdown",
   "metadata": {
    "id": "cV9aikKbYQzj"
   },
   "source": [
    "### 5. Define the CountVectorizer and IDF stages"
   ]
  },
  {
   "cell_type": "code",
   "execution_count": 16,
   "metadata": {
    "id": "qYJp-K7O8pWN"
   },
   "outputs": [],
   "source": [
    "# Define the CountVectorizer and IDF stages\n",
    "vectorizer = CountVectorizer(inputCol=\"description_filtered\", outputCol=\"raw_features\",vocabSize=vocabulary_size, minDF=minDF)\n",
    "idf = IDF(inputCol=\"raw_features\", outputCol=\"features\")"
   ]
  },
  {
   "cell_type": "markdown",
   "metadata": {
    "id": "74T1zTMRxKP8"
   },
   "source": [
    "## V- Models set up, training and evaluation"
   ]
  },
  {
   "cell_type": "markdown",
   "metadata": {
    "id": "HmY4gqj5Q2w_"
   },
   "source": [
    "### 1. Set up LDA model\n",
    "\n",
    "We instanciate LDA model with 30 topics\n",
    "\n",
    "We choose 30 since our data set contains 32 categories."
   ]
  },
  {
   "cell_type": "code",
   "execution_count": 17,
   "metadata": {
    "id": "f8ya3gJ_PxLc",
    "outputId": "63ef37ef-87fb-44e4-88cf-f0c9b94a1bd7"
   },
   "outputs": [
    {
     "data": {
      "text/plain": [
       "LDA_2272ffdb448c"
      ]
     },
     "execution_count": 17,
     "metadata": {},
     "output_type": "execute_result"
    }
   ],
   "source": [
    "num_topics = 30\n",
    "# LDA model with 30 topics\n",
    "lda = LDA(featuresCol=\"features\",seed=0,k=num_topics)\n",
    "lda"
   ]
  },
  {
   "cell_type": "markdown",
   "metadata": {
    "id": "XT81OlVr5Ck1"
   },
   "source": [
    "### 2. Set up pipelines\n",
    "\n",
    "We will  set up the pipelines of the following transformations for Naive Bayes and Linear reggression\n",
    "\n",
    "- CountVectorizer\n",
    "- IDF"
   ]
  },
  {
   "cell_type": "code",
   "execution_count": 18,
   "metadata": {
    "id": "eCKhelqdlbo-",
    "outputId": "52721549-9b15-4352-fec9-26baccf0ee04"
   },
   "outputs": [
    {
     "data": {
      "text/plain": [
       "Pipeline_4409f428b81b"
      ]
     },
     "execution_count": 18,
     "metadata": {},
     "output_type": "execute_result"
    }
   ],
   "source": [
    "# Create pipeline for LDA\n",
    "pipeline = Pipeline(stages=[vectorizer, idf, lda])\n",
    "\n",
    "\n",
    "pipeline"
   ]
  },
  {
   "cell_type": "markdown",
   "metadata": {
    "id": "UD0gwMNf7yY7"
   },
   "source": [
    "### 3. Split the data\n",
    "\n",
    "First of all let us split the data into train and test set: 80% for train and 20% for test"
   ]
  },
  {
   "cell_type": "code",
   "execution_count": 19,
   "metadata": {
    "id": "pThnAKRy8LqP"
   },
   "outputs": [],
   "source": [
    "# Split data\n",
    "(train_set, test_set) = df.randomSplit([0.8, 0.2], seed=0)"
   ]
  },
  {
   "cell_type": "markdown",
   "metadata": {
    "id": "M84xeE8i67YF"
   },
   "source": [
    "### 4. Create a function for model training\n",
    "\n",
    "Let us create a function which takes as argument a model that it trains and then returns the trained model."
   ]
  },
  {
   "cell_type": "code",
   "execution_count": 20,
   "metadata": {
    "id": "AvRF-E1-7ncY"
   },
   "outputs": [],
   "source": [
    "def train_model(model):\n",
    "    return model.fit(train_set)"
   ]
  },
  {
   "cell_type": "code",
   "execution_count": 21,
   "metadata": {
    "id": "d9fdT3-7lbpG",
    "outputId": "ebe577b4-4bfc-42bf-aa3b-e125650b7d7f"
   },
   "outputs": [
    {
     "name": "stderr",
     "output_type": "stream",
     "text": [
      "24/06/12 09:35:37 WARN DAGScheduler: Broadcasting large task binary with size 1987.5 KiB\n",
      "24/06/12 09:35:40 WARN DAGScheduler: Broadcasting large task binary with size 1987.6 KiB\n",
      "24/06/12 09:35:42 WARN DAGScheduler: Broadcasting large task binary with size 2004.4 KiB\n",
      "24/06/12 09:35:43 WARN DAGScheduler: Broadcasting large task binary with size 2008.0 KiB\n",
      "24/06/12 09:35:49 WARN DAGScheduler: Broadcasting large task binary with size 2009.3 KiB\n",
      "24/06/12 09:35:52 WARN DAGScheduler: Broadcasting large task binary with size 2004.4 KiB\n",
      "24/06/12 09:35:53 WARN DAGScheduler: Broadcasting large task binary with size 2008.0 KiB\n",
      "24/06/12 09:35:58 WARN DAGScheduler: Broadcasting large task binary with size 2009.3 KiB\n",
      "24/06/12 09:36:00 WARN DAGScheduler: Broadcasting large task binary with size 2004.4 KiB\n",
      "24/06/12 09:36:01 WARN DAGScheduler: Broadcasting large task binary with size 2008.0 KiB\n",
      "24/06/12 09:36:05 WARN DAGScheduler: Broadcasting large task binary with size 2009.3 KiB\n",
      "24/06/12 09:36:07 WARN DAGScheduler: Broadcasting large task binary with size 2004.4 KiB\n",
      "24/06/12 09:36:08 WARN DAGScheduler: Broadcasting large task binary with size 2008.0 KiB\n",
      "24/06/12 09:36:12 WARN DAGScheduler: Broadcasting large task binary with size 2009.3 KiB\n",
      "24/06/12 09:36:14 WARN DAGScheduler: Broadcasting large task binary with size 2004.4 KiB\n",
      "24/06/12 09:36:15 WARN DAGScheduler: Broadcasting large task binary with size 2008.0 KiB\n",
      "24/06/12 09:36:18 WARN DAGScheduler: Broadcasting large task binary with size 2009.3 KiB\n",
      "24/06/12 09:36:21 WARN DAGScheduler: Broadcasting large task binary with size 2004.4 KiB\n",
      "24/06/12 09:36:21 WARN DAGScheduler: Broadcasting large task binary with size 2008.0 KiB\n",
      "24/06/12 09:36:25 WARN DAGScheduler: Broadcasting large task binary with size 2009.3 KiB\n",
      "24/06/12 09:36:27 WARN DAGScheduler: Broadcasting large task binary with size 2004.4 KiB\n",
      "24/06/12 09:36:28 WARN DAGScheduler: Broadcasting large task binary with size 2008.0 KiB\n",
      "24/06/12 09:36:31 WARN DAGScheduler: Broadcasting large task binary with size 2009.3 KiB\n",
      "24/06/12 09:36:33 WARN DAGScheduler: Broadcasting large task binary with size 2004.4 KiB\n",
      "24/06/12 09:36:34 WARN DAGScheduler: Broadcasting large task binary with size 2008.0 KiB\n",
      "24/06/12 09:36:37 WARN DAGScheduler: Broadcasting large task binary with size 2009.3 KiB\n",
      "24/06/12 09:36:39 WARN DAGScheduler: Broadcasting large task binary with size 2004.4 KiB\n",
      "24/06/12 09:36:40 WARN DAGScheduler: Broadcasting large task binary with size 2008.0 KiB\n",
      "24/06/12 09:36:43 WARN DAGScheduler: Broadcasting large task binary with size 2009.3 KiB\n",
      "24/06/12 09:36:46 WARN DAGScheduler: Broadcasting large task binary with size 2004.4 KiB\n",
      "24/06/12 09:36:46 WARN DAGScheduler: Broadcasting large task binary with size 2008.0 KiB\n",
      "24/06/12 09:36:49 WARN DAGScheduler: Broadcasting large task binary with size 2009.3 KiB\n",
      "24/06/12 09:36:52 WARN DAGScheduler: Broadcasting large task binary with size 2004.4 KiB\n",
      "24/06/12 09:36:52 WARN DAGScheduler: Broadcasting large task binary with size 2008.0 KiB\n",
      "24/06/12 09:36:55 WARN DAGScheduler: Broadcasting large task binary with size 2009.3 KiB\n",
      "24/06/12 09:36:58 WARN DAGScheduler: Broadcasting large task binary with size 2004.4 KiB\n",
      "24/06/12 09:36:59 WARN DAGScheduler: Broadcasting large task binary with size 2008.0 KiB\n",
      "24/06/12 09:37:01 WARN DAGScheduler: Broadcasting large task binary with size 2009.3 KiB\n",
      "24/06/12 09:37:04 WARN DAGScheduler: Broadcasting large task binary with size 2004.4 KiB\n",
      "24/06/12 09:37:04 WARN DAGScheduler: Broadcasting large task binary with size 2008.0 KiB\n",
      "24/06/12 09:37:07 WARN DAGScheduler: Broadcasting large task binary with size 2009.3 KiB\n",
      "24/06/12 09:37:09 WARN DAGScheduler: Broadcasting large task binary with size 2004.4 KiB\n",
      "24/06/12 09:37:10 WARN DAGScheduler: Broadcasting large task binary with size 2008.0 KiB\n",
      "24/06/12 09:37:13 WARN DAGScheduler: Broadcasting large task binary with size 2009.3 KiB\n",
      "24/06/12 09:37:15 WARN DAGScheduler: Broadcasting large task binary with size 2004.4 KiB\n",
      "24/06/12 09:37:16 WARN DAGScheduler: Broadcasting large task binary with size 2008.0 KiB\n",
      "24/06/12 09:37:19 WARN DAGScheduler: Broadcasting large task binary with size 2009.3 KiB\n",
      "24/06/12 09:37:21 WARN DAGScheduler: Broadcasting large task binary with size 2004.4 KiB\n",
      "24/06/12 09:37:22 WARN DAGScheduler: Broadcasting large task binary with size 2008.0 KiB\n",
      "24/06/12 09:37:25 WARN DAGScheduler: Broadcasting large task binary with size 2009.3 KiB\n",
      "24/06/12 09:37:27 WARN DAGScheduler: Broadcasting large task binary with size 2004.4 KiB\n",
      "24/06/12 09:37:28 WARN DAGScheduler: Broadcasting large task binary with size 2008.0 KiB\n",
      "24/06/12 09:37:32 WARN DAGScheduler: Broadcasting large task binary with size 2009.3 KiB\n",
      "24/06/12 09:37:34 WARN DAGScheduler: Broadcasting large task binary with size 2004.4 KiB\n",
      "24/06/12 09:37:35 WARN DAGScheduler: Broadcasting large task binary with size 2008.0 KiB\n",
      "24/06/12 09:37:38 WARN DAGScheduler: Broadcasting large task binary with size 2009.3 KiB\n",
      "24/06/12 09:37:40 WARN DAGScheduler: Broadcasting large task binary with size 2004.4 KiB\n",
      "24/06/12 09:37:41 WARN DAGScheduler: Broadcasting large task binary with size 2008.0 KiB\n",
      "24/06/12 09:37:43 WARN DAGScheduler: Broadcasting large task binary with size 2009.3 KiB\n",
      "24/06/12 09:37:46 WARN DAGScheduler: Broadcasting large task binary with size 2004.4 KiB\n",
      "24/06/12 09:37:46 WARN DAGScheduler: Broadcasting large task binary with size 2008.0 KiB\n",
      "24/06/12 09:37:49 WARN DAGScheduler: Broadcasting large task binary with size 2009.3 KiB\n",
      "                                                                                \r"
     ]
    },
    {
     "data": {
      "text/plain": [
       "PipelineModel_3ed20f173a7c"
      ]
     },
     "execution_count": 21,
     "metadata": {},
     "output_type": "execute_result"
    }
   ],
   "source": [
    "fitted_model=train_model(pipeline)\n",
    "fitted_model"
   ]
  },
  {
   "cell_type": "markdown",
   "metadata": {
    "id": "G6EEx9rvlbpG"
   },
   "source": [
    "### 5. Visualize the topics"
   ]
  },
  {
   "cell_type": "code",
   "execution_count": 23,
   "metadata": {
    "id": "E265riGdlbpG",
    "outputId": "dcf11618-c0a5-46df-9e66-3c0f1e79c48f"
   },
   "outputs": [
    {
     "data": {
      "text/plain": [
       "73489"
      ]
     },
     "execution_count": 23,
     "metadata": {},
     "output_type": "execute_result"
    }
   ],
   "source": [
    "fitted_vectorizer=fitted_model.stages[0]\n",
    "vocabulary= fitted_vectorizer.vocabulary\n",
    "len(vocabulary)"
   ]
  },
  {
   "cell_type": "code",
   "execution_count": 24,
   "metadata": {
    "id": "6TGqC1_3lbpG",
    "outputId": "3de23766-c402-4b85-f5b9-2403e0a83d25"
   },
   "outputs": [
    {
     "data": {
      "text/plain": [
       "['new', 'photo', 'state', 'trump', 'day', 'nt', 'say', 'woman', 'make', 'get']"
      ]
     },
     "execution_count": 24,
     "metadata": {},
     "output_type": "execute_result"
    }
   ],
   "source": [
    "vocabulary[:10]"
   ]
  },
  {
   "cell_type": "code",
   "execution_count": 25,
   "metadata": {
    "id": "0jPE8W6AlbpH",
    "outputId": "19b9e9f1-e5cd-42af-9b08-c6583d940609"
   },
   "outputs": [
    {
     "name": "stdout",
     "output_type": "stream",
     "text": [
      "+-----+--------------------+--------------------+\n",
      "|topic|         termIndices|         termWeights|\n",
      "+-----+--------------------+--------------------+\n",
      "|    0|[96, 2, 198, 588,...|[0.01022540609806...|\n",
      "|    1|[123, 469, 337, 5...|[0.01101762943972...|\n",
      "|    2|[261, 671, 485, 9...|[0.00658080796295...|\n",
      "|    3|[430, 470, 643, 3...|[0.00929968391042...|\n",
      "|    4|[187, 3, 278, 329...|[0.00766232554540...|\n",
      "|    5|[133, 99, 309, 36...|[0.01120993625942...|\n",
      "|    6|[21, 92, 16, 31, ...|[0.01790640739366...|\n",
      "|    7|[281, 334, 341, 4...|[0.00636672732379...|\n",
      "|    8|[342, 455, 325, 5...|[0.00901083155412...|\n",
      "|    9|[316, 26, 609, 75...|[0.00872033001026...|\n",
      "|   10|[46, 22, 151, 91,...|[0.01155021560144...|\n",
      "|   11|[567, 637, 521, 7...|[0.00668455764965...|\n",
      "|   12|[189, 226, 68, 38...|[0.00715842597608...|\n",
      "|   13|[203, 67, 581, 52...|[0.00836252371731...|\n",
      "|   14|[401, 285, 511, 6...|[0.00747224889808...|\n",
      "|   15|[343, 406, 57, 70...|[0.00829819700176...|\n",
      "|   16|[387, 354, 564, 4...|[0.00805366547810...|\n",
      "|   17|[238, 244, 734, 6...|[0.00826746085499...|\n",
      "|   18|[173, 251, 696, 3...|[0.01066901414352...|\n",
      "|   19|[4, 297, 335, 553...|[0.00939288800871...|\n",
      "+-----+--------------------+--------------------+\n",
      "only showing top 20 rows\n",
      "\n"
     ]
    },
    {
     "name": "stderr",
     "output_type": "stream",
     "text": [
      "                                                                                \r"
     ]
    },
    {
     "data": {
      "text/plain": [
       "[['sexual',\n",
       "  'state',\n",
       "  'tree',\n",
       "  'assault',\n",
       "  'woman',\n",
       "  '100',\n",
       "  'charged',\n",
       "  'pine',\n",
       "  'arrested',\n",
       "  'push'],\n",
       " ['dog',\n",
       "  'ampere',\n",
       "  'race',\n",
       "  'human',\n",
       "  'legal',\n",
       "  'miss',\n",
       "  'walk',\n",
       "  'commonwealth',\n",
       "  'peace',\n",
       "  'turkey']]"
      ]
     },
     "execution_count": 25,
     "metadata": {},
     "output_type": "execute_result"
    }
   ],
   "source": [
    "topics = fitted_model.stages[-1].describeTopics()\n",
    "topics.show()\n",
    "\n",
    "topics_rdd = topics.rdd\n",
    "topics_words = topics_rdd\\\n",
    "       .map(lambda row: row['termIndices'])\\\n",
    "       .map(lambda idx_list: [vocabulary[idx] for idx in idx_list])\\\n",
    "       .collect()\n",
    "topics_words[:2]"
   ]
  },
  {
   "cell_type": "code",
   "execution_count": 31,
   "metadata": {
    "id": "Jol1uLnplR9v",
    "outputId": "70493f22-eb96-4e54-c409-5aad64c96fde"
   },
   "outputs": [
    {
     "name": "stdout",
     "output_type": "stream",
     "text": [
      "topic: 0\n",
      "*************************\n",
      "sexual\n",
      "state\n",
      "tree\n",
      "assault\n",
      "woman\n",
      "100\n",
      "charged\n",
      "pine\n",
      "arrested\n",
      "push\n",
      "*************************\n",
      "topic: 1\n",
      "*************************\n",
      "dog\n",
      "ampere\n",
      "race\n",
      "human\n",
      "legal\n",
      "miss\n",
      "walk\n",
      "commonwealth\n",
      "peace\n",
      "turkey\n",
      "*************************\n",
      "topic: 2\n",
      "*************************\n",
      "crisis\n",
      "martin\n",
      "cut\n",
      "gas\n",
      "course\n",
      "meeting\n",
      "poor\n",
      "read\n",
      "climate\n",
      "voter\n",
      "*************************\n",
      "topic: 3\n",
      "*************************\n",
      "monophosphate\n",
      "deoxyadenosine\n",
      "activity\n",
      "role\n",
      "angstrom\n",
      "problem\n",
      "unit\n",
      "disney\n",
      "aid\n",
      "gender\n",
      "*************************\n",
      "topic: 4\n",
      "*************************\n",
      "bill\n",
      "trump\n",
      "republican\n",
      "fox\n",
      "face\n",
      "gop\n",
      "news\n",
      "horn\n",
      "storm\n",
      "ring\n",
      "*************************\n",
      "topic: 5\n",
      "*************************\n",
      "space\n",
      "national\n",
      "administration\n",
      "red\n",
      "police\n",
      "guy\n",
      "mar\n",
      "aeronautics\n",
      "officer\n",
      "nasa\n",
      "*************************\n",
      "topic: 6\n",
      "*************************\n",
      "bank\n",
      "india\n",
      "covid19\n",
      "coronavirus\n",
      "ha\n",
      "case\n",
      "said\n",
      "today\n",
      "country\n",
      "test\n",
      "*************************\n",
      "topic: 7\n",
      "*************************\n",
      "long\n",
      "small\n",
      "insurance\n",
      "lead\n",
      "8\n",
      "fry\n",
      "study\n",
      "brain\n",
      "crataegus\n",
      "god\n",
      "*************************\n",
      "topic: 8\n",
      "*************************\n",
      "divorcement\n",
      "dad\n",
      "move\n",
      "dating\n",
      "along\n",
      "religious\n",
      "joe\n",
      "biden\n",
      "protest\n",
      "campus\n",
      "*************************\n",
      "topic: 9\n",
      "*************************\n",
      "ceremony\n",
      "wedding\n",
      "sentence\n",
      "board\n",
      "journalist\n",
      "instagram\n",
      "exercise\n",
      "seek\n",
      "craft\n",
      "marriage\n",
      "*************************\n",
      "topic: 10\n",
      "*************************\n",
      "thing\n",
      "10\n",
      "matter\n",
      "know\n",
      "5\n",
      "11\n",
      "photo\n",
      "nt\n",
      "affair\n",
      "life\n",
      "*************************\n",
      "topic: 11\n",
      "*************************\n",
      "c\n",
      "h\n",
      "calendar\n",
      "homo\n",
      "abuse\n",
      "beer\n",
      "best\n",
      "met\n",
      "dream\n",
      "household\n",
      "*************************\n",
      "topic: 12\n",
      "*************************\n",
      "cleaning\n",
      "lady\n",
      "person\n",
      "wo\n",
      "nt\n",
      "photo\n",
      "ar\n",
      "woman\n",
      "appearance\n",
      "never\n",
      "*************************\n",
      "topic: 13\n",
      "*************************\n",
      "atomic\n",
      "number\n",
      "flight\n",
      "true\n",
      "hollywood\n",
      "dear\n",
      "animal\n",
      "parenting\n",
      "4\n",
      "catch\n",
      "*************************\n",
      "topic: 14\n",
      "*************************\n",
      "education\n",
      "father\n",
      "robert\n",
      "say\n",
      "ca\n",
      "fix\n",
      "access\n",
      "nt\n",
      "safe\n",
      "practice\n",
      "*************************\n",
      "topic: 15\n",
      "*************************\n",
      "gift\n",
      "getting\n",
      "right\n",
      "spirit\n",
      "office\n",
      "social\n",
      "job\n",
      "5\n",
      "die\n",
      "middle\n",
      "*************************\n",
      "topic: 16\n",
      "*************************\n",
      "question\n",
      "apple\n",
      "prince\n",
      "divorce\n",
      "healthy\n",
      "vacation\n",
      "friend\n",
      "kate\n",
      "stay\n",
      "truth\n",
      "*************************\n",
      "topic: 17\n",
      "*************************\n",
      "court\n",
      "fashion\n",
      "supreme\n",
      "transgender\n",
      "internet\n",
      "lost\n",
      "mom\n",
      "60\n",
      "pregnant\n",
      "sign\n",
      "*************************\n",
      "topic: 18\n",
      "*************************\n",
      "m\n",
      "reason\n",
      "eat\n",
      "adult\n",
      "thousand\n",
      "kid\n",
      "plant\n",
      "re\n",
      "desire\n",
      "dangerous\n",
      "*************************\n",
      "topic: 19\n",
      "*************************\n",
      "day\n",
      "north\n",
      "pope\n",
      "clarence\n",
      "francis\n",
      "jr\n",
      "investigation\n",
      "st\n",
      "shepard\n",
      "valentine\n",
      "*************************\n",
      "topic: 20\n",
      "*************************\n",
      "post\n",
      "relationship\n",
      "sleep\n",
      "2012\n",
      "wedding\n",
      "marriage\n",
      "beyond\n",
      "halloween\n",
      "taylor\n",
      "bride\n",
      "*************************\n",
      "topic: 21\n",
      "*************************\n",
      "hotel\n",
      "muslim\n",
      "language\n",
      "hither\n",
      "american\n",
      "best\n",
      "spring\n",
      "charles\n",
      "intelligence\n",
      "gun\n",
      "*************************\n",
      "topic: 22\n",
      "*************************\n",
      "cancer\n",
      "r\n",
      "net\n",
      "early\n",
      "center\n",
      "disease\n",
      "per\n",
      "profit\n",
      "new\n",
      "crore\n",
      "*************************\n",
      "topic: 23\n",
      "*************************\n",
      "factor\n",
      "antiophthalmic\n",
      "refugee\n",
      "male\n",
      "le\n",
      "25\n",
      "syrian\n",
      "high\n",
      "manner\n",
      "color\n",
      "*************************\n",
      "topic: 24\n",
      "*************************\n",
      "room\n",
      "20\n",
      "beautiful\n",
      "13\n",
      "formula\n",
      "sander\n",
      "samsung\n",
      "san\n",
      "bernie\n",
      "shower\n",
      "*************************\n",
      "topic: 25\n",
      "*************************\n",
      "obama\n",
      "great\n",
      "good\n",
      "fair\n",
      "daily\n",
      "day\n",
      "sex\n",
      "black\n",
      "trade\n",
      "michelle\n",
      "*************************\n",
      "topic: 26\n",
      "*************************\n",
      "donald\n",
      "trump\n",
      "moslem\n",
      "injured\n",
      "hero\n",
      "motion\n",
      "clean\n",
      "trumpet\n",
      "lie\n",
      "harvey\n",
      "*************************\n",
      "topic: 27\n",
      "*************************\n",
      "point\n",
      "health\n",
      "organization\n",
      "rate\n",
      "much\n",
      "hour\n",
      "twentyfour\n",
      "world\n",
      "gentleman\n",
      "period\n",
      "*************************\n",
      "topic: 28\n",
      "*************************\n",
      "united\n",
      "state\n",
      "clinton\n",
      "hillary\n",
      "america\n",
      "china\n",
      "learn\n",
      "mexican\n",
      "president\n",
      "letter\n",
      "*************************\n",
      "topic: 29\n",
      "*************************\n",
      "de\n",
      "la\n",
      "prison\n",
      "federal\n",
      "election\n",
      "town\n",
      "market\n",
      "enough\n",
      "term\n",
      "vega\n",
      "*************************\n"
     ]
    }
   ],
   "source": [
    "topics_words_dict={}\n",
    "for idx, topic in enumerate(topics_words):\n",
    "    print(\"topic: {}\".format(idx))\n",
    "    print(\"*\"*25)\n",
    "    topic_words_array=[]\n",
    "    for word in topic:\n",
    "        print(word)\n",
    "        topic_words_array.append(word)\n",
    "    topics_words_dict[idx]=topic_words_array\n",
    "    print(\"*\"*25)"
   ]
  },
  {
   "cell_type": "code",
   "execution_count": 27,
   "metadata": {
    "id": "WIiT-KeWlR9v",
    "outputId": "197a8ede-69be-42bd-8826-ef59c9f4fb1a"
   },
   "outputs": [
    {
     "data": {
      "text/plain": [
       "{0: ['sexual',\n",
       "  'state',\n",
       "  'tree',\n",
       "  'assault',\n",
       "  'woman',\n",
       "  '100',\n",
       "  'charged',\n",
       "  'pine',\n",
       "  'arrested',\n",
       "  'push'],\n",
       " 1: ['dog',\n",
       "  'ampere',\n",
       "  'race',\n",
       "  'human',\n",
       "  'legal',\n",
       "  'miss',\n",
       "  'walk',\n",
       "  'commonwealth',\n",
       "  'peace',\n",
       "  'turkey'],\n",
       " 2: ['crisis',\n",
       "  'martin',\n",
       "  'cut',\n",
       "  'gas',\n",
       "  'course',\n",
       "  'meeting',\n",
       "  'poor',\n",
       "  'read',\n",
       "  'climate',\n",
       "  'voter'],\n",
       " 3: ['monophosphate',\n",
       "  'deoxyadenosine',\n",
       "  'activity',\n",
       "  'role',\n",
       "  'angstrom',\n",
       "  'problem',\n",
       "  'unit',\n",
       "  'disney',\n",
       "  'aid',\n",
       "  'gender'],\n",
       " 4: ['bill',\n",
       "  'trump',\n",
       "  'republican',\n",
       "  'fox',\n",
       "  'face',\n",
       "  'gop',\n",
       "  'news',\n",
       "  'horn',\n",
       "  'storm',\n",
       "  'ring'],\n",
       " 5: ['space',\n",
       "  'national',\n",
       "  'administration',\n",
       "  'red',\n",
       "  'police',\n",
       "  'guy',\n",
       "  'mar',\n",
       "  'aeronautics',\n",
       "  'officer',\n",
       "  'nasa'],\n",
       " 6: ['bank',\n",
       "  'india',\n",
       "  'covid19',\n",
       "  'coronavirus',\n",
       "  'ha',\n",
       "  'case',\n",
       "  'said',\n",
       "  'today',\n",
       "  'country',\n",
       "  'test'],\n",
       " 7: ['long',\n",
       "  'small',\n",
       "  'insurance',\n",
       "  'lead',\n",
       "  '8',\n",
       "  'fry',\n",
       "  'study',\n",
       "  'brain',\n",
       "  'crataegus',\n",
       "  'god'],\n",
       " 8: ['divorcement',\n",
       "  'dad',\n",
       "  'move',\n",
       "  'dating',\n",
       "  'along',\n",
       "  'religious',\n",
       "  'joe',\n",
       "  'biden',\n",
       "  'protest',\n",
       "  'campus'],\n",
       " 9: ['ceremony',\n",
       "  'wedding',\n",
       "  'sentence',\n",
       "  'board',\n",
       "  'journalist',\n",
       "  'instagram',\n",
       "  'exercise',\n",
       "  'seek',\n",
       "  'craft',\n",
       "  'marriage'],\n",
       " 10: ['thing',\n",
       "  '10',\n",
       "  'matter',\n",
       "  'know',\n",
       "  '5',\n",
       "  '11',\n",
       "  'photo',\n",
       "  'nt',\n",
       "  'affair',\n",
       "  'life'],\n",
       " 11: ['c',\n",
       "  'h',\n",
       "  'calendar',\n",
       "  'homo',\n",
       "  'abuse',\n",
       "  'beer',\n",
       "  'best',\n",
       "  'met',\n",
       "  'dream',\n",
       "  'household'],\n",
       " 12: ['cleaning',\n",
       "  'lady',\n",
       "  'person',\n",
       "  'wo',\n",
       "  'nt',\n",
       "  'photo',\n",
       "  'ar',\n",
       "  'woman',\n",
       "  'appearance',\n",
       "  'never'],\n",
       " 13: ['atomic',\n",
       "  'number',\n",
       "  'flight',\n",
       "  'true',\n",
       "  'hollywood',\n",
       "  'dear',\n",
       "  'animal',\n",
       "  'parenting',\n",
       "  '4',\n",
       "  'catch'],\n",
       " 14: ['education',\n",
       "  'father',\n",
       "  'robert',\n",
       "  'say',\n",
       "  'ca',\n",
       "  'fix',\n",
       "  'access',\n",
       "  'nt',\n",
       "  'safe',\n",
       "  'practice'],\n",
       " 15: ['gift',\n",
       "  'getting',\n",
       "  'right',\n",
       "  'spirit',\n",
       "  'office',\n",
       "  'social',\n",
       "  'job',\n",
       "  '5',\n",
       "  'die',\n",
       "  'middle'],\n",
       " 16: ['question',\n",
       "  'apple',\n",
       "  'prince',\n",
       "  'divorce',\n",
       "  'healthy',\n",
       "  'vacation',\n",
       "  'friend',\n",
       "  'kate',\n",
       "  'stay',\n",
       "  'truth'],\n",
       " 17: ['court',\n",
       "  'fashion',\n",
       "  'supreme',\n",
       "  'transgender',\n",
       "  'internet',\n",
       "  'lost',\n",
       "  'mom',\n",
       "  '60',\n",
       "  'pregnant',\n",
       "  'sign'],\n",
       " 18: ['m',\n",
       "  'reason',\n",
       "  'eat',\n",
       "  'adult',\n",
       "  'thousand',\n",
       "  'kid',\n",
       "  'plant',\n",
       "  're',\n",
       "  'desire',\n",
       "  'dangerous'],\n",
       " 19: ['day',\n",
       "  'north',\n",
       "  'pope',\n",
       "  'clarence',\n",
       "  'francis',\n",
       "  'jr',\n",
       "  'investigation',\n",
       "  'st',\n",
       "  'shepard',\n",
       "  'valentine'],\n",
       " 20: ['post',\n",
       "  'relationship',\n",
       "  'sleep',\n",
       "  '2012',\n",
       "  'wedding',\n",
       "  'marriage',\n",
       "  'beyond',\n",
       "  'halloween',\n",
       "  'taylor',\n",
       "  'bride'],\n",
       " 21: ['hotel',\n",
       "  'muslim',\n",
       "  'language',\n",
       "  'hither',\n",
       "  'american',\n",
       "  'best',\n",
       "  'spring',\n",
       "  'charles',\n",
       "  'intelligence',\n",
       "  'gun'],\n",
       " 22: ['cancer',\n",
       "  'r',\n",
       "  'net',\n",
       "  'early',\n",
       "  'center',\n",
       "  'disease',\n",
       "  'per',\n",
       "  'profit',\n",
       "  'new',\n",
       "  'crore'],\n",
       " 23: ['factor',\n",
       "  'antiophthalmic',\n",
       "  'refugee',\n",
       "  'male',\n",
       "  'le',\n",
       "  '25',\n",
       "  'syrian',\n",
       "  'high',\n",
       "  'manner',\n",
       "  'color'],\n",
       " 24: ['room',\n",
       "  '20',\n",
       "  'beautiful',\n",
       "  '13',\n",
       "  'formula',\n",
       "  'sander',\n",
       "  'samsung',\n",
       "  'san',\n",
       "  'bernie',\n",
       "  'shower'],\n",
       " 25: ['obama',\n",
       "  'great',\n",
       "  'good',\n",
       "  'fair',\n",
       "  'daily',\n",
       "  'day',\n",
       "  'sex',\n",
       "  'black',\n",
       "  'trade',\n",
       "  'michelle'],\n",
       " 26: ['donald',\n",
       "  'trump',\n",
       "  'moslem',\n",
       "  'injured',\n",
       "  'hero',\n",
       "  'motion',\n",
       "  'clean',\n",
       "  'trumpet',\n",
       "  'lie',\n",
       "  'harvey'],\n",
       " 27: ['point',\n",
       "  'health',\n",
       "  'organization',\n",
       "  'rate',\n",
       "  'much',\n",
       "  'hour',\n",
       "  'twentyfour',\n",
       "  'world',\n",
       "  'gentleman',\n",
       "  'period'],\n",
       " 28: ['united',\n",
       "  'state',\n",
       "  'clinton',\n",
       "  'hillary',\n",
       "  'america',\n",
       "  'china',\n",
       "  'learn',\n",
       "  'mexican',\n",
       "  'president',\n",
       "  'letter'],\n",
       " 29: ['de',\n",
       "  'la',\n",
       "  'prison',\n",
       "  'federal',\n",
       "  'election',\n",
       "  'town',\n",
       "  'market',\n",
       "  'enough',\n",
       "  'term',\n",
       "  'vega']}"
      ]
     },
     "execution_count": 27,
     "metadata": {},
     "output_type": "execute_result"
    }
   ],
   "source": [
    "topics_words_dict"
   ]
  },
  {
   "cell_type": "markdown",
   "metadata": {
    "id": "PFhj3jcDlbpH"
   },
   "source": [
    "### 6. Get topics distributions"
   ]
  },
  {
   "cell_type": "code",
   "execution_count": null,
   "metadata": {},
   "outputs": [],
   "source": [
    "filter"
   ]
  },
  {
   "cell_type": "code",
   "execution_count": 28,
   "metadata": {
    "id": "dxDtRTLllbpI"
   },
   "outputs": [],
   "source": [
    "# Transform the training and test data\n",
    "train_set_transformed = fitted_model.transform(train_set)\n",
    "test_set_transformed = fitted_model.transform(test_set)\n",
    "\n",
    "# Get the LDA model from the pipeline model\n",
    "#lda_model = fitted_model.stages[-1]\n",
    "\n",
    "# Extract the topic distributions\n",
    "train_topic_distributions = train_set_transformed.select(\"description_filtered\", \"topicDistribution\")\n",
    "test_topic_distributions = test_set_transformed.select(\"description_filtered\", \"topicDistribution\")"
   ]
  },
  {
   "cell_type": "code",
   "execution_count": 29,
   "metadata": {
    "id": "thwp6950lbpI",
    "outputId": "28bc7fde-8bfc-4f14-e24b-a8f3cfd18c13"
   },
   "outputs": [
    {
     "name": "stderr",
     "output_type": "stream",
     "text": [
      "24/06/12 09:44:34 WARN DAGScheduler: Broadcasting large task binary with size 18.7 MiB\n"
     ]
    },
    {
     "name": "stdout",
     "output_type": "stream",
     "text": [
      "+--------------------------------------------------------------------------------------------------------------------------+------------------------------------------------------------------------------------------------------------------------------------------------------------------------------------------------------------------------------------------------------------------------------------------------------------------------------------------------------------------------------------------------------------------------------------------------------------------------------------------------------------------------------------------------------------------------------------------------------------------------------------------------------------------------------+\n",
      "|description_filtered                                                                                                      |topicDistribution                                                                                                                                                                                                                                                                                                                                                                                                                                                                                                                                                                                                                                                             |\n",
      "+--------------------------------------------------------------------------------------------------------------------------+------------------------------------------------------------------------------------------------------------------------------------------------------------------------------------------------------------------------------------------------------------------------------------------------------------------------------------------------------------------------------------------------------------------------------------------------------------------------------------------------------------------------------------------------------------------------------------------------------------------------------------------------------------------------------+\n",
      "|[10, credit, score, truth, myth]                                                                                          |[0.0010362481873121,0.001038237598122347,0.001031406833556618,0.0010203029578708161,0.001045614782375242,0.0010374166155584037,0.22213101241781724,0.22940631015038715,0.0010306597823807615,0.0010256427454610917,0.0010620539280064188,0.001023831190078189,0.0010402239535659177,0.0010265190617906685,0.0010332980209456868,0.24929811133644378,0.27228916006048354,0.0010291243259410241,0.001035503039041376,0.001026675207614058,0.001035112963742237,0.0010329553530584912,0.0010322550261887278,0.0010365864929086181,0.0010252732404100575,0.0010364995246813693,0.0010285703990858357,0.0010367550034212241,0.0010369384802470891,0.001031701321504095]            |\n",
      "|[10, way, freelance, life, different, day, job]                                                                           |[8.381473219791276E-4,8.397564146303438E-4,8.342314958915869E-4,8.252503620439791E-4,8.457232933193306E-4,8.390923803325321E-4,8.424107130830122E-4,8.405535121736713E-4,8.33627259425924E-4,8.295693357450681E-4,0.276393580604198,8.281040976764336E-4,8.413630360121498E-4,8.302781255830861E-4,8.357611426164674E-4,0.1530509672750898,8.321344968717482E-4,8.323853381190303E-4,8.375446246376604E-4,0.21087619136299,8.372291205223268E-4,0.3379514692224776,8.349175384746215E-4,8.384209532706601E-4,8.292704694379818E-4,8.383506108685938E-4,8.319373061553434E-4,8.385572494166362E-4,8.387056507481176E-4,8.344696862090081E-4]                                   |\n",
      "|[20000, worth, cigarette, tobacco, seized, dublin, port]                                                                  |[0.282602015330364,5.76256593580671E-4,5.724652907731019E-4,5.663022683690693E-4,5.803511775900379E-4,5.758009207974242E-4,5.780780229355979E-4,5.768035768568729E-4,5.720506523834708E-4,5.692660290850754E-4,5.894754532425072E-4,5.682605552550508E-4,5.773590872897436E-4,5.697524139583699E-4,0.14463517367891265,0.1869656168112114,5.710262907357952E-4,5.71198422701929E-4,5.747388218255493E-4,5.698390801131465E-4,5.745223169871793E-4,5.733247708910422E-4,0.09386930882495015,5.753401749612952E-4,0.13519215792441905,5.752919046859476E-4,5.708909747697793E-4,5.75433703931632E-4,0.1429592701849887,5.726287414338814E-4]                                    |\n",
      "|[2024, g60, bmw, m5, go, full, electric, 1000, hp, paultanorg]                                                            |[4.3656833891829515E-4,4.374064718905093E-4,4.3452869070175837E-4,4.298506602617973E-4,4.405144580994647E-4,0.22082827210034256,4.38789024379657E-4,0.09882167342406417,4.342139602203081E-4,4.3210029719902395E-4,4.474402221885072E-4,4.3133709420000463E-4,4.382433176445951E-4,4.324694867127301E-4,4.353254424331222E-4,4.3524288894801325E-4,4.3343642045911516E-4,4.335670769006306E-4,4.3625441012509807E-4,4.3253527049285625E-4,4.3609007253917116E-4,4.3518107745129574E-4,4.3488603178362206E-4,0.15074917796127335,0.1774483042859502,4.3667422661881525E-4,0.16843608254122444,4.367818590665965E-4,4.36859157318396E-4,0.17326019373059215]                    |\n",
      "|[5th8th, grader, need, know, money]                                                                                       |[0.0012749303444605463,0.001277377982237673,0.0012689738671545334,0.0012553124024337339,0.0012864543754951827,0.0012763679002944918,0.0012814155130532361,0.0012785904705663491,0.0012680547454377439,0.0012618821193368865,0.9631441313599954,0.0012596533029617784,0.0012798218608950005,0.0012629602802380015,0.0012713006574147625,0.0012710595727249846,0.0012657840607650983,0.001266165622704979,0.0012740135639503574,0.0012631523915982647,0.001273533641435615,0.0012708790618043274,0.0012700174265429412,0.001275346573001736,0.0012614275050775987,0.0012752395731207462,0.0012654841082133561,0.0012755538970456988,0.0012757796346410883,0.0012693361853978416]|\n",
      "|[83rd, annual, general, meeting, tamilnad, mercantile, bank, tmb, today, turned, nonevent, contentious]                   |[4.014016276682024E-4,4.021722468568253E-4,0.1052400876206995,3.952250754390622E-4,4.050298767209024E-4,4.0185423063113864E-4,0.17371748030090092,4.025539891148934E-4,3.99236900276599E-4,3.97293498290291E-4,4.1139775256116397E-4,3.965917732709774E-4,4.029416825166434E-4,3.9763294863164977E-4,4.0025884971610934E-4,4.001829461284305E-4,3.9852199335845597E-4,3.986421250850754E-4,4.0111298665292464E-4,3.9769343335776446E-4,0.0535068485197561,4.001261137080889E-4,0.107909247101554,0.405712249590349,0.1443013829557076,4.014989858400436E-4,3.984275556952513E-4,4.015979482153296E-4,4.016690198927981E-4,3.996403514039984E-4]                               |\n",
      "|[aaa, study, find, nearautonomous, driverassist, system, remain, flawed]                                                  |[7.618015314701966E-4,7.632640538856267E-4,7.582423930798666E-4,7.500793394734201E-4,7.686874170630626E-4,7.626605056409203E-4,0.20462931769203152,0.4729715279277754,7.576931957572506E-4,7.540049032658094E-4,7.807727132674349E-4,7.526731318985608E-4,7.647243301367358E-4,7.546491303242159E-4,7.596327061992355E-4,7.594886523003164E-4,7.563364070758347E-4,7.565643995080493E-4,7.612537330749862E-4,7.547639214804874E-4,7.609669678346787E-4,7.59380792685617E-4,7.58865944902522E-4,7.620502380300045E-4,7.537332603163407E-4,0.3018877655244672,7.561571782150509E-4,7.621741191302952E-4,7.623090027701889E-4,7.584588869391806E-4]                              |\n",
      "|[according, moody, low, capital, level, remain, key, credit, weakness, publicsector, bank]                                |[4.2438975903548616E-4,4.252045113164452E-4,4.2240700917025323E-4,4.1785947781208333E-4,4.282257966473241E-4,4.248682824124448E-4,0.5366275100472213,4.2560811582072953E-4,0.15355560062050236,4.200463585193553E-4,4.3495835851861843E-4,4.1930444595251744E-4,4.2601801228853815E-4,4.20405249063522E-4,4.231815345882928E-4,4.2310128402845966E-4,4.213452090720468E-4,4.2147222070100326E-4,4.2408458764980824E-4,4.204691977288328E-4,4.2392483445131664E-4,4.230411968353107E-4,4.227543818084994E-4,0.1868122406366483,4.198950297533249E-4,4.244926928761104E-4,4.2124536299671856E-4,0.11199914570676836,4.2467246471910864E-4,4.2252761509329733E-4]                |\n",
      "|[according, ordinance, every, appeal, act, ha, made, within, 45, day, date, irdai, order]                                 |[3.865807620845983E-4,3.8732292786731716E-4,3.847746559342545E-4,3.806322653590586E-4,3.90075046081388E-4,3.870166536862658E-4,3.885471765073968E-4,3.8769057513861945E-4,0.1406279191000816,3.826243162800943E-4,0.17219099895414416,3.819485009022069E-4,3.880639538209442E-4,3.8295123316992594E-4,0.2742524070451459,3.85407077660314E-4,3.838074518904524E-4,0.2793179983708981,3.863027784992719E-4,3.8300948463173E-4,3.8615725775582974E-4,3.8535234365088606E-4,3.850910810514914E-4,3.867069697220825E-4,3.824864694342459E-4,3.866745255218002E-4,3.837165011285515E-4,3.8676983393055284E-4,3.868382814434622E-4,0.12397412840657754]                             |\n",
      "|[addition, west, bengal, also, request, reserve, bank, india, rbi, increase, additional, credit, limit, msmes]            |[3.378302458409209E-4,0.07393700146318907,3.36251902207088E-4,3.3263189582383477E-4,3.408838763818363E-4,3.3821116848713873E-4,0.5781669448039831,0.1430022836579214,3.360083539090021E-4,3.343727353026828E-4,3.462432494194336E-4,3.33782144932708E-4,3.391263968084029E-4,3.346584257044997E-4,0.11088083009111747,0.08559115232684297,3.354066693036902E-4,3.3550777534797704E-4,3.375873179143112E-4,3.347093312526143E-4,3.374601483462577E-4,3.3675673949449137E-4,3.365284239216545E-4,3.379405378194367E-4,3.342522719004623E-4,3.379121850581046E-4,3.353271880640474E-4,3.3799547441531623E-4,3.3805529022185943E-4,3.3634790906811763E-4]                         |\n",
      "|[aiming, tackle, inflationary, pressure, reserve, bank, today, increased, key, statutory, deposit, ratio, bank, one]      |[3.3562336008607083E-4,3.362676967892274E-4,3.3405532702735435E-4,3.304589684393349E-4,3.386570426981668E-4,3.360017943442861E-4,0.26530468871112833,3.365868823892103E-4,3.3381336971540534E-4,3.32188435834522E-4,3.439814054781281E-4,3.3160170351298837E-4,3.369110439102431E-4,3.3247225995556705E-4,0.21792825164895294,3.346043856597722E-4,3.332156156319837E-4,3.3331606119813657E-4,3.3538201909306487E-4,3.3252283296172013E-4,3.352556802640427E-4,0.047705182233045845,3.3433004235573093E-4,3.357329315790911E-4,3.320687593630331E-4,3.3570476403292426E-4,3.331366536057824E-4,0.46035799072986816,3.3584693435814185E-4,3.341507067207762E-4]                |\n",
      "|[airline, airport, push, covid, testing, quarantine, hit, traffic]                                                        |[0.15778770226886407,6.21778287082076E-4,6.176874883102455E-4,0.16149373973062675,6.261963249152682E-4,6.21286618187649E-4,0.2953872277509231,6.22368479590969E-4,6.172400953422423E-4,6.142354992577652E-4,6.360413775341936E-4,6.131505974926988E-4,6.22967872863538E-4,6.147603063610766E-4,6.188200799805991E-4,6.187027292606118E-4,6.161348137063173E-4,6.163205433278677E-4,6.201406181471486E-4,0.2571669877488685,6.199070103949226E-4,6.186148635133759E-4,6.181954527326001E-4,6.207894754906596E-4,6.140142105873581E-4,0.11267924643140344,6.159888083840553E-4,6.208903928315086E-4,6.210002731777217E-4,6.178638508421867E-4]                                  |\n",
      "|[alteryx, stock, buy]                                                                                                     |[0.0012539703293763446,0.0012563777276807509,0.0012481117773056577,0.0012346749087815963,0.0012653049038921747,0.0012553842516110113,0.001260348880984028,0.0012575702825486942,0.0012472077660655462,0.0012411366187130791,0.0012851980154650448,0.9637037929010365,0.0012587814286652676,0.0012421970545137056,0.0012504003148415155,0.0012501631936135632,0.0012449744117347579,0.0012453497007499637,0.0012530686208526974,0.0012423860075388125,0.0012525965883246582,0.001249985650315241,0.0012491381804466475,0.001254379715067514,0.0012406894783699926,0.0012542744742788515,0.0012446793904402139,0.001254583630678255,0.0012548056571185765,0.0012484681389892092]|\n",
      "|[amp, chief, tightlipped, executive, departure]                                                                           |[8.621107686202261E-4,8.637658667941996E-4,8.580829852586488E-4,8.488450720644397E-4,8.699033443447933E-4,8.630828471105692E-4,8.664960542197179E-4,8.64585754131191E-4,8.574614730847667E-4,8.532875294215251E-4,8.835799563880449E-4,8.517803987721376E-4,8.65418423043016E-4,8.540165842498031E-4,8.596563660698434E-4,8.594933440593628E-4,8.559260309983537E-4,8.561840440405935E-4,0.4023139394212272,8.541464903838903E-4,8.611663148908261E-4,8.593712821687306E-4,0.288975440901474,8.623922232962715E-4,8.529801182363603E-4,8.623198697363755E-4,8.557232024078413E-4,8.625324162814267E-4,0.285487982931557,8.583279856686787E-4]                                 |\n",
      "|[andhra, bank, ha, reported, 212, per, cent, increase, net, profit, r, 14109, crore, quarter, ended, june, 2007, compared]|[2.845483339575537E-4,2.8509461576392656E-4,2.8321892353047265E-4,2.8016985732651586E-4,2.87120351986422E-4,2.8486917824456785E-4,0.17683071553061028,2.8536522782935574E-4,2.8301378718371435E-4,2.8163613507840564E-4,2.9163445540859813E-4,2.8113869144245375E-4,2.856400585822794E-4,2.8187676696086203E-4,2.8373823369900856E-4,2.836844266441122E-4,2.825069990730695E-4,2.825921588739051E-4,2.8434372013851447E-4,2.819196437871296E-4,2.842366075008829E-4,2.8364413888884384E-4,0.8152213336761392,2.846412309054004E-4,2.81534670923463E-4,2.8461734988493925E-4,2.8244005345583493E-4,2.8468750301094073E-4,2.847378847880821E-4,2.832997883810641E-4]            |\n",
      "|[apex, banking, lobby, indian, bank, association, iba, ha, appointed, mohan, v, tanksale, chief, executive]               |[3.081850245592852E-4,3.087766845756402E-4,0.10490385919586565,3.034428392535445E-4,3.1097069344137424E-4,0.15801097641971829,0.34928577249402704,3.0906977568214057E-4,3.0652300697304964E-4,3.0503091688764743E-4,3.158597717034641E-4,3.0449215190162546E-4,3.0936743591137775E-4,3.0529153743474516E-4,0.07016429170934482,3.0724935471048825E-4,3.0597412129108154E-4,3.060663550952612E-4,3.07963414002075E-4,3.0533797592803845E-4,3.078474037959998E-4,3.072057203560894E-4,0.04411858162420075,3.08285638215204E-4,0.1103629294404739,3.082597734604235E-4,3.0590161467542956E-4,3.083357540242763E-4,0.15608131938694478,3.06832765546561E-4]                       |\n",
      "|[appointment, 1960born, gupta, period, four, year, till, march, 2020, according, notification]                            |[4.6868530940850103E-4,0.18298123184884135,4.664956106368429E-4,4.614734320939861E-4,4.7292173226449715E-4,4.6921377851562746E-4,4.710693637705294E-4,4.700308318080352E-4,4.6615772641595487E-4,4.638885678013023E-4,4.803570032074924E-4,4.6306921833917756E-4,4.7048351109336826E-4,0.14720206875711475,4.673509769067129E-4,4.6726235022008305E-4,4.653229854805328E-4,4.654632539092376E-4,4.6834828585349766E-4,0.16310843015727103,4.6817185846411054E-4,4.6719599144412434E-4,0.24103525523042263,0.10404256440146899,4.637214441420857E-4,4.6879898693674205E-4,4.652127180019063E-4,0.15040412834099018,4.689975224107935E-4,4.666288047661457E-4]                  |\n",
      "|[ashok, leyland, ha, offloaded, 28, per, cent, stake, indusind, bank, bringing, stake, bank, 16, per, cent]               |[2.848743381386302E-4,2.854212458145969E-4,2.835434046193189E-4,2.8049084513070304E-4,2.8744930290270705E-4,2.8519555001373776E-4,0.8317975872219721,2.856921679176371E-4,2.8333803324995477E-4,0.04252863015198221,2.9196857808823183E-4,2.8146078923041033E-4,2.8596731354139335E-4,2.8219971035396886E-4,2.8406330975634317E-4,2.840094410552164E-4,2.8283066451720523E-4,2.8291592188474683E-4,2.846694898956635E-4,2.8224263630415925E-4,2.8456225454008544E-4,2.839691071427284E-4,2.837765807231063E-4,2.849673415175798E-4,2.818572223809386E-4,2.8494343313688043E-4,2.827636422010133E-4,0.11799992183373692,2.850641061356602E-4,2.83624362115954E-4]              |\n",
      "|[asset, quality, earnings, profile, remain, stress]                                                                       |[7.353472087112903E-4,7.367589435679956E-4,7.319116649741151E-4,7.240320815966552E-4,7.419939750158856E-4,7.3617635414188E-4,0.09990551184303677,7.374582758192212E-4,7.313815390799801E-4,7.278213262462952E-4,7.536595971801988E-4,7.265358019765673E-4,7.381685102606132E-4,7.284431818737146E-4,7.332536980744647E-4,7.331146465919271E-4,7.300718662466801E-4,7.30291941412806E-4,7.34818433165156E-4,7.285539867918517E-4,7.345416261359659E-4,0.17482479088135439,7.325135633334971E-4,0.5229402989168183,7.275591163711856E-4,7.355255638921297E-4,0.1832558009000118,7.357068578910738E-4,7.358370575611708E-4,7.32120640866522E-4]                                  |\n",
      "|[audusd, steady, range, 07150]                                                                                            |[0.25391839890065404,0.0011456431361621289,0.0011381057299328378,0.0011258531598206441,0.001153783489120417,0.0011447372230638715,0.0011492642800447507,0.0011467305816563133,0.0011372813964147057,0.0011317453477093862,0.0011719232620791122,0.4231878165371571,0.0011478349798044443,0.001132712318843777,0.0011401925603997114,0.001139976338557225,0.0011352448854176276,0.0011355870972156255,0.0011426256873165621,0.001132884617931463,0.0011421952587804946,0.0011398144435660308,0.0011390416679769894,0.0011438212243389024,0.0011313376174111895,0.0011437252592604303,0.0011349758667027374,0.2920841068253234,0.0011442096247195044,0.0011384306826184205]     |\n",
      "+--------------------------------------------------------------------------------------------------------------------------+------------------------------------------------------------------------------------------------------------------------------------------------------------------------------------------------------------------------------------------------------------------------------------------------------------------------------------------------------------------------------------------------------------------------------------------------------------------------------------------------------------------------------------------------------------------------------------------------------------------------------------------------------------------------------+\n",
      "only showing top 20 rows\n",
      "\n"
     ]
    },
    {
     "name": "stderr",
     "output_type": "stream",
     "text": [
      "24/06/12 09:44:35 WARN DAGScheduler: Broadcasting large task binary with size 18.7 MiB\n"
     ]
    },
    {
     "name": "stdout",
     "output_type": "stream",
     "text": [
      "+----------------------------------------------------------------------------------------------------------------------+----------------------------------------------------------------------------------------------------------------------------------------------------------------------------------------------------------------------------------------------------------------------------------------------------------------------------------------------------------------------------------------------------------------------------------------------------------------------------------------------------------------------------------------------------------------------------------------------------------------------------------------------------------------------+\n",
      "|description_filtered                                                                                                  |topicDistribution                                                                                                                                                                                                                                                                                                                                                                                                                                                                                                                                                                                                                                                     |\n",
      "+----------------------------------------------------------------------------------------------------------------------+----------------------------------------------------------------------------------------------------------------------------------------------------------------------------------------------------------------------------------------------------------------------------------------------------------------------------------------------------------------------------------------------------------------------------------------------------------------------------------------------------------------------------------------------------------------------------------------------------------------------------------------------------------------------+\n",
      "|[aversion, equity, visible, shriram, transport, r, 500, crore, nonconvertible, debenture, issue, receiving, high]     |[0.0853531978807243,3.157218686234475E-4,3.1364467381106903E-4,3.1026805136279416E-4,3.17965226407561E-4,3.154722127165773E-4,0.29508078700387214,3.160215521048911E-4,3.134174999988034E-4,3.118918489589224E-4,0.14824800223355783,3.113409657588735E-4,3.163259074805833E-4,3.1215833153434386E-4,3.1421977262999315E-4,3.1416018517037124E-4,3.12856268462154E-4,0.20077022561114655,3.1489030549712826E-4,3.1220581454919694E-4,0.058824970438324624,3.1411556936683456E-4,3.139026041379227E-4,3.152197773640812E-4,3.1177948467418385E-4,3.151933308440514E-4,0.2041857135200559,3.152710204067349E-4,3.153268146166118E-4,3.137342258416243E-4]               |\n",
      "|[axis, trustee, provide, facility, agency, service, ifsc, banking, unit, ecb, transaction, trusteeship, service]      |[3.5648486671450855E-4,3.571692537718201E-4,3.54819368651973E-4,0.06675590222124374,3.597071154320479E-4,3.568868234973512E-4,0.466902302915545,3.575082791484295E-4,3.545623718801809E-4,0.09799092079298348,3.6536242725372474E-4,3.5221323405149974E-4,3.5785258973681616E-4,3.531379021000481E-4,3.5546996538423205E-4,3.554025553925231E-4,3.5392746290153923E-4,0.05723539551631889,3.56228524570502E-4,3.5319161859731463E-4,3.5609433283639185E-4,3.55352082508609E-4,3.5511115959655274E-4,3.566012488970458E-4,0.049086679051042394,3.56571330526534E-4,3.538435927938534E-4,0.25348365838191195,3.5672233780282447E-4,3.5492067690805613E-4]               |\n",
      "|[bank, register, loss, book, first, three, quarter, financial, year, due, regulator]                                  |[5.112768307991107E-4,5.122583906866176E-4,0.19447128618550116,5.034095780742997E-4,5.158982362671895E-4,5.118533242474437E-4,0.6491149514240893,5.127446268114042E-4,5.085195550836901E-4,5.060441879194754E-4,5.240091833938728E-4,5.051503805224182E-4,5.132384430793244E-4,5.06476555610099E-4,5.098212415604005E-4,5.097245609714687E-4,5.076089575214256E-4,5.077619727665484E-4,5.109091804125908E-4,5.065535967502269E-4,5.107167202805948E-4,5.096521718782186E-4,0.14264176181401683,5.114437481605072E-4,5.058618769889125E-4,5.114008387107001E-4,5.07488669545838E-4,5.115268899421867E-4,5.116174159873589E-4,5.090334424208061E-4]                     |\n",
      "|[bank, today, borrowed, r, 83000, crore, reserve, bank, india, rbi, via, repo, route]                                 |[3.7078572371131114E-4,3.7149756585090816E-4,3.690534120139135E-4,3.6508027253583054E-4,3.7413723715312155E-4,3.712038055163448E-4,0.5207364675692364,3.718501916742369E-4,3.687861054803263E-4,3.669909316137662E-4,3.800194192102963E-4,3.6634272891301303E-4,3.7220831473254164E-4,3.673044912304467E-4,3.697301082854797E-4,0.15067879473515147,3.681257262970915E-4,3.682366952772792E-4,0.11268538735201113,3.6736036263548865E-4,3.7037952305534437E-4,3.696074963845171E-4,3.693569085343357E-4,3.709067747169313E-4,3.6685871695766643E-4,3.7087565613237386E-4,3.680384916301506E-4,0.2062844221784118,3.7103272126294605E-4,3.6915878438349454E-4]         |\n",
      "|[bank, turned, best, class, trader, indian, secondary, market, sticking, strictly, sell, peak]                        |[0.10490493899793368,3.8767483803982456E-4,0.056808562131971836,3.8097809659287885E-4,0.12876103802560293,3.873682855865665E-4,0.5843769135544663,3.8804281934420583E-4,3.8484530412973456E-4,3.829719574327669E-4,3.9656778492497356E-4,3.822955280289171E-4,3.884165372670936E-4,3.8329917134945245E-4,3.8583041458064394E-4,3.857572471473042E-4,3.841561680050594E-4,3.842719692517988E-4,3.866537617938579E-4,3.833574757366134E-4,3.865081088346799E-4,0.04410385331047428,0.07178517002012014,3.870583202527588E-4,3.8283398534334876E-4,3.870258465746147E-4,3.840651346080334E-4,3.8712124157784126E-4,3.8718975128024653E-4,3.8523421174768366E-4]          |\n",
      "|[bharti, axa, life, insurance, targeting, five, per, cent, market, share, end2012, ha, charted, aggressive, road, map]|[0.13381013825972396,3.073096751221529E-4,3.052878257464296E-4,3.0200117109653227E-4,0.19176256261816646,3.07066671126287E-4,0.4434587516901601,3.076013737422742E-4,0.0991526770776593,3.03581703715067E-4,3.143591102410814E-4,3.030454984214302E-4,3.078976197764021E-4,3.0384108604428786E-4,3.0584760145025504E-4,3.0578960165772944E-4,3.045204269196202E-4,3.0461222251745114E-4,3.065002684273005E-4,3.038873039065252E-4,3.063848093898929E-4,0.08725812951172045,3.055388836959182E-4,3.068209617411648E-4,3.034723333000058E-4,0.03721875545151398,3.0444826478543226E-4,3.068708394482788E-4,3.0692514705938983E-4,3.0537499172439013E-4]                 |\n",
      "|[bill, seek, replace, ordinance, wa, promulgated, president, september]                                               |[7.023507187383414E-4,7.036991062478505E-4,6.990693346728356E-4,6.915433238538707E-4,0.16139664091416003,7.031426587666072E-4,7.059233553472817E-4,7.043670580716418E-4,0.32447016998629197,0.14256312577854746,7.198413939604447E-4,6.939346973270459E-4,7.050454228828538E-4,6.9575648929926E-4,7.00351148082229E-4,7.002183361159702E-4,6.973120913690782E-4,6.975222913254002E-4,0.12461094636348378,6.95862322180565E-4,7.015812842529615E-4,7.001188938404083E-4,0.17014795218218529,7.025800162962773E-4,6.949120935718144E-4,7.025210707679372E-4,6.971468494866365E-4,7.026942297451387E-4,0.05999440165572705,6.992689334020694E-4]                         |\n",
      "|[bond, carry, coupon, rate, 855, per, annum]                                                                          |[0.2634873305317999,5.683019056216135E-4,5.645629382342445E-4,5.584849906397979E-4,5.723399676956484E-4,5.678525229788308E-4,0.3676816395044476,5.688413383009093E-4,5.641540235430301E-4,5.614078393871598E-4,5.813382911827333E-4,0.1776659909934757,5.69389180427655E-4,0.10894425086470226,5.655981207388146E-4,5.654908628316458E-4,5.631438022582072E-4,5.633135581024919E-4,5.66805085298547E-4,5.619729799774314E-4,5.665915691087677E-4,5.654105540260891E-4,5.650272148994987E-4,5.673981373115281E-4,5.612055827699062E-4,5.67350533362914E-4,5.63010354203607E-4,0.0680694818148352,5.675908052283239E-4,5.647241326102534E-4]                            |\n",
      "|[central, government, learnt, considering, proposal, recapitalisation, regional, rural, bank, rrbs]                   |[4.245048915716363E-4,4.2531986488654336E-4,4.22521603807007E-4,4.1797283875073896E-4,4.283419698606564E-4,4.249835447669436E-4,0.48025120019230516,4.257235788844657E-4,4.2221557009578604E-4,4.2016031273600776E-4,4.350763582057728E-4,4.194181988961028E-4,0.18558259059569418,4.205193006435183E-4,4.232963393456077E-4,4.232160670147489E-4,4.2145951565341006E-4,4.2158656173911204E-4,4.2419963739621333E-4,4.205832666573189E-4,4.240398408582687E-4,4.231559635204219E-4,4.2286907068384407E-4,4.2464348035979555E-4,4.2000894291596897E-4,0.14879635782434864,4.213596424909468E-4,0.17436524510951149,4.2478767395052536E-4,4.226422424491147E-4]         |\n",
      "|[citibank, introduce, private, banking, service, time, october, threshold, limit, look, individual]                   |[0.10875776556678612,4.286626352086483E-4,4.258423814010634E-4,4.2125786565909467E-4,4.317084921955265E-4,4.2832367180575055E-4,0.43183813894729817,4.290695221671821E-4,4.2553394244042346E-4,0.1434933330681575,4.384958089727547E-4,4.227145855066861E-4,4.2948275226090067E-4,4.2382434128259913E-4,4.26623205917057E-4,4.265423026915787E-4,4.2477194584363416E-4,4.2489999043871716E-4,4.2753360337238186E-4,4.238888100326156E-4,4.273725509257913E-4,4.264817268182456E-4,4.261925791683431E-4,4.279809346873604E-4,4.233099724359156E-4,4.279450276564382E-4,4.2467128773522735E-4,0.17531590487136378,4.281262615569365E-4,0.1299236013482133]              |\n",
      "|[concerned, unusual, steep, fall, sbis, profit, march, quarter, change, guard, helm, finance]                         |[3.6917873344980735E-4,0.13043622902721047,3.674539296147719E-4,3.634980097758931E-4,3.7251572138810856E-4,3.6959500328308774E-4,3.7105662924099165E-4,3.702385879945978E-4,3.6718778159116895E-4,3.6540038803203786E-4,3.7837240998999164E-4,0.12240736638226817,3.705951589434267E-4,3.657125886771221E-4,3.681276930755521E-4,3.680578827199548E-4,3.6653026450002063E-4,0.19898341947265366,0.13414505751194358,3.6576821793471914E-4,3.687742932731889E-4,3.68005612575828E-4,0.2794043640961802,0.12578017137328604,3.6526874639591103E-4,3.6926827610257853E-4,3.664434079093217E-4,3.6935929417996585E-4,3.6942466051099554E-4,3.675588452988179E-4]          |\n",
      "|[consumer, affair, ministry, consult, commodity, market, regulator, fmc, taking, decision, n, repeated, request]      |[3.180971574586621E-4,0.08217505802774297,3.16611006856249E-4,3.1320244958613996E-4,0.08196650074629855,3.1845582993535453E-4,3.197152173820807E-4,0.1629241994766754,0.09830964179460544,3.148416044475715E-4,0.06459706109241624,3.1428551120186445E-4,3.193175986225469E-4,3.1511060731468857E-4,3.171915447428926E-4,0.12385794929679778,3.1581514506685485E-4,3.159103453802748E-4,3.178684192569082E-4,0.08089258706786631,3.1774867782292753E-4,3.170863559644706E-4,3.1687137659063664E-4,3.1820100714437905E-4,3.1472817746394996E-4,3.181743105033073E-4,3.1574030642602844E-4,0.13484214451586118,3.183090567151785E-4,0.1637815762758531]                 |\n",
      "|[corporates, planning, bigticket, external, commercial, borrowing, lot, cheer, new, year, government]                 |[4.1677492559233484E-4,4.1757505875781144E-4,4.148277522452804E-4,4.103618173279317E-4,4.2054213310897625E-4,4.172448628155043E-4,0.3559704492579694,4.1797142137878354E-4,4.1452729121468847E-4,4.125094587935555E-4,4.271538924956437E-4,0.12362780432388776,4.183739630666113E-4,4.128619097578395E-4,0.07544078712436163,4.15509569716686E-4,4.1378500404621677E-4,4.139097367029484E-4,4.164752299025443E-4,4.129247109909427E-4,4.1631834315871753E-4,4.1545056066896E-4,4.15168891969723E-4,4.1691099076625397E-4,4.1236084532220483E-4,4.168760124889283E-4,4.1368694951095963E-4,0.4341488592091648,4.170525586826269E-4,4.1494619413387637E-4]              |\n",
      "|[country, lag, level, digitisation, ability, realise, financial, return, compared, world]                             |[4.5523303454458403E-4,4.5610700038700063E-4,0.11093414536409851,4.482281535960243E-4,0.15174104275835248,4.5574633545311807E-4,0.5208056317097998,4.565399375614796E-4,4.5277799861158466E-4,4.505739697222115E-4,4.6656972566635146E-4,4.4977813734900485E-4,4.5697962397933884E-4,4.5095894327078266E-4,4.5393700025101906E-4,4.5385091734000154E-4,4.519672165335894E-4,4.521034589568331E-4,4.5490568428911015E-4,4.5102753951840055E-4,4.5473432074483573E-4,4.5378646320370957E-4,4.5347880338877727E-4,0.2047180531715303,4.504116428706758E-4,4.553434492837914E-4,4.5186011396837835E-4,4.5545568336367707E-4,4.5553628636319817E-4,4.53235556001386E-4]    |\n",
      "|[deshawn, stevenson, installs, atm, kitchen, photo]                                                                   |[7.930508357520411E-4,7.945733512319394E-4,7.893457005450582E-4,7.808477962780661E-4,0.32011322172375023,7.939450452751015E-4,0.24312667458985826,7.953275609703786E-4,7.887739750003321E-4,7.849343877558846E-4,8.128002205436998E-4,7.835479867682416E-4,7.960935284084205E-4,7.856050411822505E-4,7.907930446832205E-4,7.906430816551608E-4,7.873615304813151E-4,7.875988752243846E-4,7.924805665190519E-4,7.857245411026187E-4,7.921820380914386E-4,7.905307976097855E-4,7.8999483063171E-4,0.17619300344422437,7.846516019396243E-4,0.24001253004915044,7.871749496049069E-4,7.93438707058661E-4,7.935791236624408E-4,7.895710750409835E-4]                      |\n",
      "|[due, diligence, deal, may, happen, week, say, source]                                                                |[6.864298744559795E-4,6.877476967975868E-4,6.832228726091527E-4,6.758674609552335E-4,6.926344794451002E-4,6.872038628348578E-4,0.37973558414504216,6.88400507529352E-4,6.827280121582611E-4,6.79404634549495E-4,7.035240720942763E-4,6.782046269170088E-4,6.890634952073138E-4,6.799851226173795E-4,6.84475629948562E-4,0.2667394526601335,6.815054623920397E-4,6.817108975481908E-4,6.85936274524593E-4,6.800885564851738E-4,0.10880369085284547,6.842486404319888E-4,6.837847310218214E-4,6.866539743107838E-4,6.791598676018991E-4,0.22692087694051516,6.813439662025255E-4,6.867655987756347E-4,6.868871372028962E-4,6.834179468464441E-4]                        |\n",
      "|[eye, credit, policy, pronouncement]                                                                                  |[0.0010363391583126597,0.16002421004113143,0.00103149737954041,0.0010203925290584723,0.001045706575657924,0.0010375076891338043,0.001041610688786404,0.0010393143263475943,0.0010307502627817913,0.0010257327854225882,0.0010621471644187753,0.0010239210710053079,0.0010403152735939103,0.0010266091786826626,0.0010333887329546701,0.0010331927649900616,0.0010289045153238328,0.0010292146715461395,0.0010355939446260501,0.0010267653382141362,0.0010352038350821082,0.41475143310118107,0.001032345646634518,0.0010366774936084548,0.0010253632479331801,0.0010365905177463469,0.0010286606960625726,0.397311789965035,0.001037029511847526,0.001031791893340714]|\n",
      "|[farmer, longer, wait, endlessly, claiming, payment, government]                                                      |[6.129799604513737E-4,6.141567721212512E-4,6.101161167603714E-4,6.035477546998581E-4,0.10899730583809021,6.136711299114682E-4,0.20177815721861778,0.12007190241883119,6.09674207760199E-4,6.067064408389312E-4,6.282450311913015E-4,6.056348373750442E-4,0.2766309532591664,6.072248150619046E-4,6.112348255650381E-4,6.111189132841623E-4,0.12932172725408725,6.087659272544984E-4,6.125391770913861E-4,6.073171812170389E-4,6.123084328116127E-4,6.110321245608664E-4,6.106178547535266E-4,6.131800809954398E-4,6.064878646384785E-4,6.1312863600272E-4,6.08438258587871E-4,0.14853814905595647,6.133882948070579E-4,6.102903175092562E-4]                          |\n",
      "|[fcnr, b, deposit, revised, interest, rate, u, dollar, ha, fixed, 198, per, cent, deposit, one, year]                 |[3.0440596858598095E-4,3.0499037349206637E-4,3.0298378324731195E-4,2.9972193335979383E-4,3.071574787718579E-4,3.0474920347546244E-4,0.30584707942952566,3.0527987062862983E-4,3.027643311511839E-4,3.0129053751598274E-4,3.119866057095566E-4,3.007583790256867E-4,3.0557388086012807E-4,0.11817187239672718,3.0353933425925284E-4,3.03481772197766E-4,3.022221760679169E-4,3.023132788739858E-4,3.041870754830186E-4,3.0159383130753394E-4,3.040724878283704E-4,3.034386729007503E-4,0.13373447737402722,3.045053484874596E-4,3.011819925320469E-4,3.044798008939609E-4,3.0215055854981794E-4,0.4343500630856337,3.046087475070983E-4,3.030702913734455E-4]          |\n",
      "|[former, rbi, deputy, governor, tarapore, came, heavily, rbi, practice, keeping, rbi, nominee, director, board]       |[3.2806553129242737E-4,3.286953583187895E-4,3.2653280842597464E-4,3.2301743544791366E-4,3.31030899071475E-4,3.2843544367268276E-4,0.5651852669277043,3.290073562482511E-4,0.09548629078960712,0.07901658351995645,3.362353636943662E-4,3.241344375211967E-4,0.09001589205452341,3.2498539009426263E-4,0.06136343288475099,3.2706950292776663E-4,0.10107543950401418,3.258101899618398E-4,3.2782962500429514E-4,3.2503482425802195E-4,3.2770613117149856E-4,3.270230537931459E-4,3.268013375002355E-4,3.281726353689966E-4,3.245909758428319E-4,3.2814510212163137E-4,3.2563482240969915E-4,3.282259840664933E-4,3.2828407094459913E-4,3.2662604028514805E-4]          |\n",
      "+----------------------------------------------------------------------------------------------------------------------+----------------------------------------------------------------------------------------------------------------------------------------------------------------------------------------------------------------------------------------------------------------------------------------------------------------------------------------------------------------------------------------------------------------------------------------------------------------------------------------------------------------------------------------------------------------------------------------------------------------------------------------------------------------------+\n",
      "only showing top 20 rows\n",
      "\n"
     ]
    }
   ],
   "source": [
    "# Show the topic distributions for the training set\n",
    "train_topic_distributions.show(truncate=False)\n",
    "\n",
    "# Show the topic distributions for the test set\n",
    "test_topic_distributions.show(truncate=False)"
   ]
  },
  {
   "cell_type": "markdown",
   "metadata": {
    "id": "uEH0OfIqUxOg"
   },
   "source": [
    "### 8. Save the model and other important data"
   ]
  },
  {
   "cell_type": "code",
   "execution_count": 36,
   "metadata": {
    "id": "U0UFEcBKlR9y",
    "outputId": "668559d5-87e7-4218-c199-f79dc0400eba"
   },
   "outputs": [
    {
     "name": "stderr",
     "output_type": "stream",
     "text": [
      "24/06/12 09:47:36 WARN TaskSetManager: Stage 150 contains a task of very large size (1373 KiB). The maximum recommended task size is 1000 KiB.\n",
      "24/06/12 09:47:37 WARN TaskSetManager: Stage 154 contains a task of very large size (1179 KiB). The maximum recommended task size is 1000 KiB.\n",
      "24/06/12 09:47:39 WARN TaskSetManager: Stage 158 contains a task of very large size (17586 KiB). The maximum recommended task size is 1000 KiB.\n",
      "                                                                                \r"
     ]
    }
   ],
   "source": [
    "fitted_model.save('output/news_topic_model')"
   ]
  },
  {
   "cell_type": "markdown",
   "metadata": {},
   "source": [
    "Let us perform a test to assure everythin is okay"
   ]
  },
  {
   "cell_type": "code",
   "execution_count": 40,
   "metadata": {},
   "outputs": [
    {
     "name": "stderr",
     "output_type": "stream",
     "text": [
      "                                                                                \r"
     ]
    }
   ],
   "source": [
    "# Load the fitted model\n",
    "fillted_model=PipelineModel.load('output/news_topic_model')\n",
    "test_topic=fitted_model.transform(test_set)"
   ]
  },
  {
   "cell_type": "code",
   "execution_count": 43,
   "metadata": {},
   "outputs": [
    {
     "name": "stderr",
     "output_type": "stream",
     "text": [
      "24/06/12 09:52:09 WARN DAGScheduler: Broadcasting large task binary with size 18.7 MiB\n"
     ]
    },
    {
     "name": "stdout",
     "output_type": "stream",
     "text": [
      "+--------------------+\n",
      "|   topicDistribution|\n",
      "+--------------------+\n",
      "|[0.08535319788072...|\n",
      "|[3.56484866714508...|\n",
      "|[5.11276830799110...|\n",
      "|[3.70785723711311...|\n",
      "|[0.10490493899793...|\n",
      "|[0.13381013825972...|\n",
      "|[7.02350718738341...|\n",
      "|[0.26348733053179...|\n",
      "|[4.24504891571636...|\n",
      "|[0.10875776556678...|\n",
      "|[3.69178733449807...|\n",
      "|[3.18097157458662...|\n",
      "|[4.16774925592334...|\n",
      "|[4.55233034544584...|\n",
      "|[7.93050835752041...|\n",
      "|[6.86429874455979...|\n",
      "|[0.00103633915831...|\n",
      "|[6.12979960451373...|\n",
      "|[3.04405968585980...|\n",
      "|[3.28065531292427...|\n",
      "+--------------------+\n",
      "only showing top 20 rows\n",
      "\n"
     ]
    }
   ],
   "source": [
    "test_topic.select('topicDistribution').show()"
   ]
  },
  {
   "cell_type": "markdown",
   "metadata": {},
   "source": [
    "Let us also save the dictionary topics--->words"
   ]
  },
  {
   "cell_type": "code",
   "execution_count": 44,
   "metadata": {
    "id": "rOvz4kGFlR9y",
    "outputId": "a3fcfce5-fca0-4d24-ca9b-326dc058fe0d"
   },
   "outputs": [
    {
     "name": "stdout",
     "output_type": "stream",
     "text": [
      "Data successfully written to output/news_topic_model/topics.json\n"
     ]
    }
   ],
   "source": [
    "# Specify the file name\n",
    "file_name = 'output/news_topic_model/topics.json'\n",
    "\n",
    "# Write the data to a JSON file\n",
    "with open(file_name, 'w') as json_file:\n",
    "    json.dump(topics_words_dict, json_file, indent=4)\n",
    "\n",
    "print(f\"Data successfully written to {file_name}\")"
   ]
  },
  {
   "cell_type": "markdown",
   "metadata": {
    "id": "GnFsw8x5Vyy2"
   },
   "source": [
    "## VII- Summary\n",
    "\n",
    "In this notebook we have studied two models for our news categorization task. There are Naive Bayes and Logistic regression.\n",
    "\n",
    " Our study reveals that the Logistic regression was the one with best performance.\n",
    "\n",
    " Then we tunned the Logistic regression hyperparameters using grid search and then we find the best model that we save.\n",
    "\n",
    " The next step of our work will be to ..."
   ]
  },
  {
   "cell_type": "code",
   "execution_count": 45,
   "metadata": {
    "id": "NSyD5awwBByb"
   },
   "outputs": [],
   "source": [
    "# Remove the cache and stop the spark session\n",
    "df.unpersist()\n",
    "spark.stop()"
   ]
  }
 ],
 "metadata": {
  "colab": {
   "provenance": []
  },
  "kernelspec": {
   "display_name": "Python 3 (ipykernel)",
   "language": "python",
   "name": "python3"
  },
  "language_info": {
   "codemirror_mode": {
    "name": "ipython",
    "version": 3
   },
   "file_extension": ".py",
   "mimetype": "text/x-python",
   "name": "python",
   "nbconvert_exporter": "python",
   "pygments_lexer": "ipython3",
   "version": "3.8.2"
  }
 },
 "nbformat": 4,
 "nbformat_minor": 1
}
