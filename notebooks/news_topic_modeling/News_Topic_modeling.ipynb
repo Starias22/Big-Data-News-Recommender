{
 "cells": [
  {
   "cell_type": "markdown",
   "metadata": {
    "id": "u-qFVy2lBaqu"
   },
   "source": [
    "# News Topic modeling\n"
   ]
  },
  {
   "cell_type": "markdown",
   "metadata": {
    "id": "mNfMRWDbFXDJ"
   },
   "source": [
    "## I- Modules import"
   ]
  },
  {
   "cell_type": "code",
   "execution_count": 2,
   "metadata": {
    "id": "3QYNQcr-FQLs"
   },
   "outputs": [],
   "source": [
    "from pyspark import SparkConf, SparkContext\n",
    "from pyspark.sql import SparkSession\n",
    "from pyspark.ml.evaluation import MulticlassClassificationEvaluator\n",
    "from pyspark.ml.tuning import CrossValidator, ParamGridBuilder\n",
    "from pyspark.ml.feature import  IDF, HashingTF,CountVectorizer\n",
    "from pyspark.ml import  Pipeline\n",
    "from math import ceil,log2\n",
    "from pyspark.ml.classification import LogisticRegression,NaiveBayes,LogisticRegressionModel\n",
    "from pyspark.sql.functions import col,explode,split\n",
    "\n",
    "import numpy as np\n",
    "from pyspark.ml.clustering import LDA"
   ]
  },
  {
   "cell_type": "markdown",
   "metadata": {
    "id": "Nj7Qu-EvK9_Y"
   },
   "source": [
    "## II- Spark context and session creation"
   ]
  },
  {
   "cell_type": "code",
   "execution_count": 34,
   "metadata": {
    "colab": {
     "base_uri": "https://localhost:8080/",
     "height": 219
    },
    "id": "aFZWn6-QBByS",
    "outputId": "cc18968f-50af-4a70-9d51-126be08a96c8",
    "scrolled": false
   },
   "outputs": [
    {
     "data": {
      "text/html": [
       "\n",
       "            <div>\n",
       "                <p><b>SparkSession - in-memory</b></p>\n",
       "                \n",
       "        <div>\n",
       "            <p><b>SparkContext</b></p>\n",
       "\n",
       "            <p><a href=\"http://node02.cm.cluster:4040\">Spark UI</a></p>\n",
       "\n",
       "            <dl>\n",
       "              <dt>Version</dt>\n",
       "                <dd><code>v3.5.1</code></dd>\n",
       "              <dt>Master</dt>\n",
       "                <dd><code>spark://node02:7077</code></dd>\n",
       "              <dt>AppName</dt>\n",
       "                <dd><code>NewsTopicModeling</code></dd>\n",
       "            </dl>\n",
       "        </div>\n",
       "        \n",
       "            </div>\n",
       "        "
      ],
      "text/plain": [
       "<pyspark.sql.session.SparkSession at 0x7fffe82905e0>"
      ]
     },
     "execution_count": 34,
     "metadata": {},
     "output_type": "execute_result"
    }
   ],
   "source": [
    "spark = (SparkSession.builder\n",
    "    .master(\"spark://node02:7077\")\n",
    "    .appName(\"NewsTopicModeling\")\n",
    "    .getOrCreate()\n",
    "        )\n",
    "spark"
   ]
  },
  {
   "cell_type": "markdown",
   "metadata": {
    "id": "PuV9CWoMN60A"
   },
   "source": [
    "## III- Dataframe preparing"
   ]
  },
  {
   "cell_type": "markdown",
   "metadata": {
    "id": "Em4ZWvqhPoHt"
   },
   "source": [
    "### 1. Load the data"
   ]
  },
  {
   "cell_type": "code",
   "execution_count": 35,
   "metadata": {
    "id": "xMI_45McvZto"
   },
   "outputs": [
    {
     "name": "stderr",
     "output_type": "stream",
     "text": [
      "[Stage 143:>              (0 + 10) / 10][Stage 269:>              (0 + 10) / 10]\r"
     ]
    }
   ],
   "source": [
    "# Load data\n",
    "df = spark.read.parquet(\"input/news.parquet\", header=True, inferSchema=True)"
   ]
  },
  {
   "cell_type": "markdown",
   "metadata": {
    "id": "x4csdl2FOVf8"
   },
   "source": [
    "### 2. Partition and cache the dataframe"
   ]
  },
  {
   "cell_type": "code",
   "execution_count": 36,
   "metadata": {
    "colab": {
     "base_uri": "https://localhost:8080/"
    },
    "id": "4EXrJ3GIBByT",
    "outputId": "0d866061-6fee-4bbb-fd79-84c946204d72"
   },
   "outputs": [
    {
     "data": {
      "text/plain": [
       "9"
      ]
     },
     "execution_count": 36,
     "metadata": {},
     "output_type": "execute_result"
    }
   ],
   "source": [
    "df.rdd.getNumPartitions()"
   ]
  },
  {
   "cell_type": "code",
   "execution_count": 37,
   "metadata": {
    "id": "PPBefKKqBByU"
   },
   "outputs": [],
   "source": [
    "num_partitions=4*20\n",
    "df= df.repartition(num_partitions).cache()"
   ]
  },
  {
   "cell_type": "code",
   "execution_count": 38,
   "metadata": {
    "colab": {
     "base_uri": "https://localhost:8080/"
    },
    "id": "ytFY1tjRBByU",
    "outputId": "cf5d7480-394e-43ac-e8e0-bc5cef64d4e2"
   },
   "outputs": [
    {
     "name": "stderr",
     "output_type": "stream",
     "text": [
      "[Stage 143:>              (0 + 10) / 10][Stage 269:>              (0 + 10) / 10]\r"
     ]
    },
    {
     "data": {
      "text/plain": [
       "80"
      ]
     },
     "execution_count": 38,
     "metadata": {},
     "output_type": "execute_result"
    }
   ],
   "source": [
    "df.rdd.getNumPartitions()"
   ]
  },
  {
   "cell_type": "markdown",
   "metadata": {
    "id": "4G5XozIiQTEx"
   },
   "source": [
    "### 3. Preview the data"
   ]
  },
  {
   "cell_type": "code",
   "execution_count": 39,
   "metadata": {
    "colab": {
     "base_uri": "https://localhost:8080/"
    },
    "id": "r86OcjwLv0EU",
    "outputId": "63e295fa-1b60-414b-f44f-3f8c8fd24a4b"
   },
   "outputs": [
    {
     "name": "stderr",
     "output_type": "stream",
     "text": [
      "\r",
      "                                                                                \r"
     ]
    },
    {
     "data": {
      "text/plain": [
       "1716608"
      ]
     },
     "execution_count": 39,
     "metadata": {},
     "output_type": "execute_result"
    }
   ],
   "source": [
    "df.count()"
   ]
  },
  {
   "cell_type": "code",
   "execution_count": 40,
   "metadata": {
    "colab": {
     "base_uri": "https://localhost:8080/"
    },
    "id": "sfy_ivN4BByV",
    "outputId": "c374612e-8073-411f-a842-736cbe7eef50"
   },
   "outputs": [
    {
     "name": "stdout",
     "output_type": "stream",
     "text": [
      "+--------------+--------------------+\n",
      "|category_label|description_filtered|\n",
      "+--------------+--------------------+\n",
      "|           4.0|covid19 wrap worl...|\n",
      "|           2.0|research reveals ...|\n",
      "|           2.0|annastacia palasz...|\n",
      "|           3.0|growing city hall...|\n",
      "|           4.0|million philippin...|\n",
      "|           4.0|youngest assailan...|\n",
      "|           2.0|new threatened sp...|\n",
      "|           2.0|polluting elite r...|\n",
      "|           2.0|ed miliband shado...|\n",
      "|           3.0|obama pledge stop...|\n",
      "|           4.0|san aotea ii crew...|\n",
      "|           3.0|russia appears de...|\n",
      "|           4.0|bharat transport ...|\n",
      "|           2.0|restore trust bla...|\n",
      "|           3.0|huffpollster batt...|\n",
      "|           3.0|send united incid...|\n",
      "|           2.0|            20230928|\n",
      "|           4.0|america benefit a...|\n",
      "|           3.0|oklahoma approves...|\n",
      "|           2.0|hear podcast wild...|\n",
      "+--------------+--------------------+\n",
      "only showing top 20 rows\n",
      "\n"
     ]
    }
   ],
   "source": [
    "df.show()"
   ]
  },
  {
   "cell_type": "code",
   "execution_count": 41,
   "metadata": {
    "colab": {
     "base_uri": "https://localhost:8080/"
    },
    "id": "awWri7zZQcOl",
    "outputId": "80402c12-f32a-483f-9ed0-ddad43eda4c4"
   },
   "outputs": [
    {
     "name": "stdout",
     "output_type": "stream",
     "text": [
      "root\n",
      " |-- category_label: double (nullable = true)\n",
      " |-- description_filtered: string (nullable = true)\n",
      "\n"
     ]
    },
    {
     "name": "stderr",
     "output_type": "stream",
     "text": [
      "\r",
      "[Stage 143:>              (0 + 10) / 10][Stage 269:>              (0 + 10) / 10]\r"
     ]
    }
   ],
   "source": [
    "df.printSchema()"
   ]
  },
  {
   "cell_type": "markdown",
   "metadata": {
    "id": "VMpXsNNsO_Z6"
   },
   "source": [
    "### 4. Convert filtered descriptions to arrays"
   ]
  },
  {
   "cell_type": "code",
   "execution_count": 42,
   "metadata": {
    "colab": {
     "base_uri": "https://localhost:8080/"
    },
    "id": "Drqnhee0i26r",
    "outputId": "63a0cd7d-df8f-45c9-a6b5-ef7cf9bf7ebc"
   },
   "outputs": [
    {
     "name": "stdout",
     "output_type": "stream",
     "text": [
      "+--------------+-------------------------------------------------------------------------------------------------------------------------------------------------------------------------------------------------------------------------------------------------------------------------------------------------------------------------------------------------------------------------------------------+\n",
      "|category_label|description_filtered                                                                                                                                                                                                                                                                                                                                                                       |\n",
      "+--------------+-------------------------------------------------------------------------------------------------------------------------------------------------------------------------------------------------------------------------------------------------------------------------------------------------------------------------------------------------------------------------------------------+\n",
      "|4.0           |[covid19, wrap, world, reacts, russia, vaccine, new, case, spell, uncertainty, election, nz]                                                                                                                                                                                                                                                                                               |\n",
      "|2.0           |[research, reveals, lightning, strike, arctic, region, tripled, summer, month, 2010, 2020]                                                                                                                                                                                                                                                                                                 |\n",
      "|2.0           |[annastacia, palaszczuk, brings, forward, qld, border, reopening, steven, marshall, concerned, omicron, sa, record, four, covid, case, perth, stripped, ash, series, finale, victoria, record, 1073, new, case, six, death, nsw, record, 208, case, act, six, katherine, lockdown, extended, nt, record, one, case, australia, renewables, superpower, ha, wasted, time, chris, bowen, say]|\n",
      "|3.0           |[growing, city, hall, part]                                                                                                                                                                                                                                                                                                                                                                |\n",
      "|4.0           |[million, philippine, latest, hit, stayathome, order, case, soar, internationally]                                                                                                                                                                                                                                                                                                         |\n",
      "|4.0           |[youngest, assailant, delhi, mob, ravishment, case, released, prison]                                                                                                                                                                                                                                                                                                                      |\n",
      "|2.0           |[new, threatened, specie, commissioner, seems, nice]                                                                                                                                                                                                                                                                                                                                       |\n",
      "|2.0           |[polluting, elite, responsible, amount, carbon, dioxide, year, poorest, 10, two, decade, data, show]                                                                                                                                                                                                                                                                                       |\n",
      "|2.0           |[ed, miliband, shadow, secretary, state, climate, change, net, zero]                                                                                                                                                                                                                                                                                                                       |\n",
      "|3.0           |[obama, pledge, stop, epidemic, gun, violence]                                                                                                                                                                                                                                                                                                                                             |\n",
      "|4.0           |[san, aotea, ii, crew, back, new, zealand, soil]                                                                                                                                                                                                                                                                                                                                           |\n",
      "|3.0           |[russia, appears, defend, michael, flynn, superweird, message, twitter]                                                                                                                                                                                                                                                                                                                    |\n",
      "|4.0           |[bharat, transport, squad, republic, mauritius, undertake, crude, spill]                                                                                                                                                                                                                                                                                                                   |\n",
      "|2.0           |[restore, trust, blamed, new, balloting, organisation, defeat, campaigner, annual, general, encounter, bath]                                                                                                                                                                                                                                                                               |\n",
      "|3.0           |[huffpollster, battleground, state, poll, missed, white, workingclass, area]                                                                                                                                                                                                                                                                                                               |\n",
      "|3.0           |[send, united, incident, equal, law, furiousness]                                                                                                                                                                                                                                                                                                                                          |\n",
      "|2.0           |[20230928]                                                                                                                                                                                                                                                                                                                                                                                 |\n",
      "|4.0           |[america, benefit, australia, compulsory, voting, system]                                                                                                                                                                                                                                                                                                                                  |\n",
      "|3.0           |[oklahoma, approves, tax, hike, avert, teacher, strike]                                                                                                                                                                                                                                                                                                                                    |\n",
      "|2.0           |[hear, podcast, wild, night, teach, u, ecosystem, health]                                                                                                                                                                                                                                                                                                                                  |\n",
      "+--------------+-------------------------------------------------------------------------------------------------------------------------------------------------------------------------------------------------------------------------------------------------------------------------------------------------------------------------------------------------------------------------------------------+\n",
      "only showing top 20 rows\n",
      "\n"
     ]
    },
    {
     "name": "stderr",
     "output_type": "stream",
     "text": [
      "[Stage 143:>              (0 + 10) / 10][Stage 269:>              (0 + 10) / 10]\r"
     ]
    }
   ],
   "source": [
    "# Create a new DataFrame with description_filtered as arrays\n",
    "df= df.withColumn('description_filtered', split(col('description_filtered'), ' '))\n",
    "# Show the new DataFrame\n",
    "df.show(truncate=False)"
   ]
  },
  {
   "cell_type": "markdown",
   "metadata": {
    "id": "3RmBazOpQqXF"
   },
   "source": [
    "## IV- Feature Engineering\n"
   ]
  },
  {
   "cell_type": "markdown",
   "metadata": {
    "id": "LjsTG0YLSyEn"
   },
   "source": [
    "### 1. Explode the filtered descriptions to get the words"
   ]
  },
  {
   "cell_type": "code",
   "execution_count": 43,
   "metadata": {
    "colab": {
     "base_uri": "https://localhost:8080/"
    },
    "id": "4qON2vCKBByX",
    "outputId": "3b8af783-1259-46dd-9346-ee5ee60033c4"
   },
   "outputs": [
    {
     "name": "stdout",
     "output_type": "stream",
     "text": [
      "+-----------+\n",
      "|        col|\n",
      "+-----------+\n",
      "|    covid19|\n",
      "|       wrap|\n",
      "|      world|\n",
      "|     reacts|\n",
      "|     russia|\n",
      "|    vaccine|\n",
      "|        new|\n",
      "|       case|\n",
      "|      spell|\n",
      "|uncertainty|\n",
      "|   election|\n",
      "|         nz|\n",
      "|   research|\n",
      "|    reveals|\n",
      "|  lightning|\n",
      "|     strike|\n",
      "|     arctic|\n",
      "|     region|\n",
      "|    tripled|\n",
      "|     summer|\n",
      "+-----------+\n",
      "only showing top 20 rows\n",
      "\n"
     ]
    },
    {
     "name": "stderr",
     "output_type": "stream",
     "text": [
      "\r",
      "                                                                                \r"
     ]
    }
   ],
   "source": [
    "exploded_df=df.select(explode(df.description_filtered)).alias('words')\n",
    "exploded_df.show()"
   ]
  },
  {
   "cell_type": "code",
   "execution_count": 44,
   "metadata": {
    "id": "DH41jOsrBByX"
   },
   "outputs": [
    {
     "name": "stderr",
     "output_type": "stream",
     "text": [
      "\r",
      "[Stage 143:>              (0 + 10) / 10][Stage 269:>              (0 + 10) / 10]\r"
     ]
    }
   ],
   "source": [
    "#df=df.unpersist()"
   ]
  },
  {
   "cell_type": "markdown",
   "metadata": {
    "id": "MohTRQirTXD3"
   },
   "source": [
    "### 2. Get unique words in the filtered_description"
   ]
  },
  {
   "cell_type": "code",
   "execution_count": 45,
   "metadata": {
    "id": "2NbJFyQlBByX"
   },
   "outputs": [],
   "source": [
    "unique_words=exploded_df.distinct()"
   ]
  },
  {
   "cell_type": "markdown",
   "metadata": {
    "id": "t-UjxthKU0Rq"
   },
   "source": [
    "### 3. Cache and show the unique words dataframe"
   ]
  },
  {
   "cell_type": "code",
   "execution_count": 46,
   "metadata": {
    "colab": {
     "base_uri": "https://localhost:8080/"
    },
    "id": "h1S8h39xBByX",
    "outputId": "8c884387-1347-4441-d313-56027086df18"
   },
   "outputs": [
    {
     "name": "stderr",
     "output_type": "stream",
     "text": [
      "[Stage 143:>              (0 + 10) / 10][Stage 269:>              (0 + 10) / 10]\r"
     ]
    },
    {
     "name": "stdout",
     "output_type": "stream",
     "text": [
      "+--------------+\n",
      "|           col|\n",
      "+--------------+\n",
      "|          earl|\n",
      "|       barrier|\n",
      "|         still|\n",
      "|          hope|\n",
      "|       hydrate|\n",
      "|         oscar|\n",
      "|        filing|\n",
      "|       carreys|\n",
      "|        patton|\n",
      "|    stateowned|\n",
      "|        online|\n",
      "|     soundness|\n",
      "|   transaction|\n",
      "|       gizelle|\n",
      "|    indigenous|\n",
      "|     involving|\n",
      "|         inner|\n",
      "|pacificcalling|\n",
      "|        wields|\n",
      "|           art|\n",
      "+--------------+\n",
      "only showing top 20 rows\n",
      "\n"
     ]
    },
    {
     "name": "stderr",
     "output_type": "stream",
     "text": [
      "\r",
      "                                                                                \r"
     ]
    }
   ],
   "source": [
    "unique_words=unique_words.cache()\n",
    "unique_words.show()"
   ]
  },
  {
   "cell_type": "markdown",
   "metadata": {
    "id": "KCb1pLl3VLOL"
   },
   "source": [
    "### 4. Get the vocabulary size"
   ]
  },
  {
   "cell_type": "code",
   "execution_count": 47,
   "metadata": {
    "colab": {
     "base_uri": "https://localhost:8080/"
    },
    "id": "dCakXZ3PBByX",
    "outputId": "e54847cd-6dce-4cf7-ffcb-7770061fcf18"
   },
   "outputs": [
    {
     "name": "stderr",
     "output_type": "stream",
     "text": [
      "                                                                                \r"
     ]
    },
    {
     "data": {
      "text/plain": [
       "128622"
      ]
     },
     "execution_count": 47,
     "metadata": {},
     "output_type": "execute_result"
    },
    {
     "name": "stderr",
     "output_type": "stream",
     "text": [
      "\r",
      "[Stage 143:>              (0 + 10) / 10][Stage 269:>              (0 + 10) / 10]\r"
     ]
    }
   ],
   "source": [
    "vocabulary_size=unique_words.count()\n",
    "vocabulary_size"
   ]
  },
  {
   "cell_type": "markdown",
   "metadata": {
    "id": "mtwfZn61Yzh-"
   },
   "source": [
    "### 7. Get the number of features for HashingTF"
   ]
  },
  {
   "cell_type": "code",
   "execution_count": 29,
   "metadata": {
    "colab": {
     "base_uri": "https://localhost:8080/"
    },
    "id": "FviyZsE_YxxT",
    "outputId": "d2a86ec1-65aa-430f-a263-82d33fccbe3b"
   },
   "outputs": [
    {
     "data": {
      "text/plain": [
       "131072"
      ]
     },
     "execution_count": 29,
     "metadata": {},
     "output_type": "execute_result"
    }
   ],
   "source": [
    "num_features=2**n\n",
    "num_features"
   ]
  },
  {
   "cell_type": "markdown",
   "metadata": {
    "id": "cV9aikKbYQzj"
   },
   "source": [
    "### 5. Define the CountVectorizer"
   ]
  },
  {
   "cell_type": "code",
   "execution_count": 89,
   "metadata": {
    "colab": {
     "base_uri": "https://localhost:8080/"
    },
    "id": "qYJp-K7O8pWN",
    "outputId": "dbdeed43-bf9e-40c4-ee66-ecd519909310"
   },
   "outputs": [
    {
     "name": "stderr",
     "output_type": "stream",
     "text": [
      "24/06/06 00:42:39 WARN DAGScheduler: Broadcasting large task binary with size 3.2 MiB\n",
      "24/06/06 00:42:39 WARN DAGScheduler: Broadcasting large task binary with size 3.2 MiB\n",
      "24/06/06 00:42:39 WARN DAGScheduler: Broadcasting large task binary with size 3.2 MiB\n",
      "24/06/06 00:42:39 WARN DAGScheduler: Broadcasting large task binary with size 3.2 MiB\n",
      "24/06/06 00:42:40 WARN DAGScheduler: Broadcasting large task binary with size 3.2 MiB\n",
      "24/06/06 00:42:40 WARN DAGScheduler: Broadcasting large task binary with size 3.2 MiB\n",
      "24/06/06 00:42:41 WARN DAGScheduler: Broadcasting large task binary with size 3.2 MiB\n",
      "24/06/06 00:42:41 WARN DAGScheduler: Broadcasting large task binary with size 3.2 MiB\n",
      "24/06/06 00:42:41 WARN DAGScheduler: Broadcasting large task binary with size 3.2 MiB\n",
      "24/06/06 00:42:41 WARN DAGScheduler: Broadcasting large task binary with size 3.2 MiB\n",
      "24/06/06 00:42:42 WARN DAGScheduler: Broadcasting large task binary with size 3.2 MiB\n",
      "24/06/06 00:42:42 WARN DAGScheduler: Broadcasting large task binary with size 3.2 MiB\n"
     ]
    },
    {
     "name": "stdout",
     "output_type": "stream",
     "text": [
      "+--------------+-------------------------------------------------------------------------------------------------------------------------------------------------------------------------------------------------------------------------------------------------------------------------------------------------------------------------------------------------------------------------------------------+----------------------------------------------------------------------------------------------------------------------------------------------------------------------------------------------------------------------------------------------------------------------------------------------------------------------------------------------------------------------------------+\n",
      "|category_label|description_filtered                                                                                                                                                                                                                                                                                                                                                                       |features                                                                                                                                                                                                                                                                                                                                                                          |\n",
      "+--------------+-------------------------------------------------------------------------------------------------------------------------------------------------------------------------------------------------------------------------------------------------------------------------------------------------------------------------------------------------------------------------------------------+----------------------------------------------------------------------------------------------------------------------------------------------------------------------------------------------------------------------------------------------------------------------------------------------------------------------------------------------------------------------------------+\n",
      "|4.0           |[covid19, wrap, world, reacts, russia, vaccine, new, case, spell, uncertainty, election, nz]                                                                                                                                                                                                                                                                                               |(79269,[0,16,19,56,210,449,854,1869,3358,4537,4776,6364],[1.0,1.0,1.0,1.0,1.0,1.0,1.0,1.0,1.0,1.0,1.0,1.0])                                                                                                                                                                                                                                                                       |\n",
      "|2.0           |[research, reveals, lightning, strike, arctic, region, tripled, summer, month, 2010, 2020]                                                                                                                                                                                                                                                                                                 |(79269,[145,159,267,273,604,855,1445,3933,4628,7817,15343],[1.0,1.0,1.0,1.0,1.0,1.0,1.0,1.0,1.0,1.0,1.0])                                                                                                                                                                                                                                                                         |\n",
      "|2.0           |[annastacia, palaszczuk, brings, forward, qld, border, reopening, steven, marshall, concerned, omicron, sa, record, four, covid, case, perth, stripped, ash, series, finale, victoria, record, 1073, new, case, six, death, nsw, record, 208, case, act, six, katherine, lockdown, extended, nt, record, one, case, australia, renewables, superpower, ha, wasted, time, chris, bowen, say]|(79269,[0,5,6,12,13,17,56,65,247,316,417,541,543,683,729,908,917,1051,1075,1255,1257,3070,3801,3932,4108,4575,5092,5565,6827,7174,8224,8360,9002,13259,13393,14765,15693,18240,22351,28057,32404,57761],[1.0,1.0,1.0,1.0,1.0,1.0,4.0,1.0,4.0,1.0,1.0,1.0,1.0,1.0,1.0,1.0,1.0,1.0,1.0,1.0,2.0,1.0,1.0,1.0,1.0,1.0,1.0,1.0,1.0,1.0,1.0,1.0,1.0,1.0,1.0,1.0,1.0,1.0,1.0,1.0,1.0,1.0])|\n",
      "|3.0           |[growing, city, hall, part]                                                                                                                                                                                                                                                                                                                                                                |(79269,[88,220,1464,1703],[1.0,1.0,1.0,1.0])                                                                                                                                                                                                                                                                                                                                      |\n",
      "|4.0           |[million, philippine, latest, hit, stayathome, order, case, soar, internationally]                                                                                                                                                                                                                                                                                                         |(79269,[56,151,246,431,505,1901,4174,7642,21288],[1.0,1.0,1.0,1.0,1.0,1.0,1.0,1.0,1.0])                                                                                                                                                                                                                                                                                           |\n",
      "|4.0           |[youngest, assailant, delhi, mob, ravishment, case, released, prison]                                                                                                                                                                                                                                                                                                                      |(79269,[56,285,2253,2502,2731,5225,6990,13590],[1.0,1.0,1.0,1.0,1.0,1.0,1.0,1.0])                                                                                                                                                                                                                                                                                                 |\n",
      "|2.0           |[new, threatened, specie, commissioner, seems, nice]                                                                                                                                                                                                                                                                                                                                       |(79269,[0,1837,3212,3363,4251,5913],[1.0,1.0,1.0,1.0,1.0,1.0])                                                                                                                                                                                                                                                                                                                    |\n",
      "|2.0           |[polluting, elite, responsible, amount, carbon, dioxide, year, poorest, 10, two, decade, data, show]                                                                                                                                                                                                                                                                                       |(79269,[15,22,25,89,674,1692,1800,2675,3710,5087,8225,12797,16051],[1.0,1.0,1.0,1.0,1.0,1.0,1.0,1.0,1.0,1.0,1.0,1.0,1.0])                                                                                                                                                                                                                                                         |\n",
      "|2.0           |[ed, miliband, shadow, secretary, state, climate, change, net, zero]                                                                                                                                                                                                                                                                                                                       |(79269,[2,106,196,509,2055,2711,3156,3756,19789],[1.0,1.0,1.0,1.0,1.0,1.0,1.0,1.0,1.0])                                                                                                                                                                                                                                                                                           |\n",
      "|3.0           |[obama, pledge, stop, epidemic, gun, violence]                                                                                                                                                                                                                                                                                                                                             |(79269,[128,156,388,733,2106,3272],[1.0,1.0,1.0,1.0,1.0,1.0])                                                                                                                                                                                                                                                                                                                     |\n",
      "|4.0           |[san, aotea, ii, crew, back, new, zealand, soil]                                                                                                                                                                                                                                                                                                                                           |(79269,[0,62,576,1700,1923,2223,5508,78945],[1.0,1.0,1.0,1.0,1.0,1.0,1.0,1.0])                                                                                                                                                                                                                                                                                                    |\n",
      "|3.0           |[russia, appears, defend, michael, flynn, superweird, message, twitter]                                                                                                                                                                                                                                                                                                                    |(79269,[336,455,567,854,2422,2726,7045],[1.0,1.0,1.0,1.0,1.0,1.0,1.0])                                                                                                                                                                                                                                                                                                            |\n",
      "|4.0           |[bharat, transport, squad, republic, mauritius, undertake, crude, spill]                                                                                                                                                                                                                                                                                                                   |(79269,[52,1539,2442,2629,4443,6585,6787,10456],[1.0,1.0,1.0,1.0,1.0,1.0,1.0,1.0])                                                                                                                                                                                                                                                                                                |\n",
      "|2.0           |[restore, trust, blamed, new, balloting, organisation, defeat, campaigner, annual, general, encounter, bath]                                                                                                                                                                                                                                                                               |(79269,[0,930,1180,2362,2547,2591,2804,3211,3689,5885,5948,6544],[1.0,1.0,1.0,1.0,1.0,1.0,1.0,1.0,1.0,1.0,1.0,1.0])                                                                                                                                                                                                                                                               |\n",
      "|3.0           |[huffpollster, battleground, state, poll, missed, white, workingclass, area]                                                                                                                                                                                                                                                                                                               |(79269,[2,72,452,654,4177,5496,12385,20783],[1.0,1.0,1.0,1.0,1.0,1.0,1.0,1.0])                                                                                                                                                                                                                                                                                                    |\n",
      "|3.0           |[send, united, incident, equal, law, furiousness]                                                                                                                                                                                                                                                                                                                                          |(79269,[46,136,138,1412,2651,6566],[1.0,1.0,1.0,1.0,1.0,1.0])                                                                                                                                                                                                                                                                                                                     |\n",
      "|2.0           |[20230928]                                                                                                                                                                                                                                                                                                                                                                                 |(79269,[],[])                                                                                                                                                                                                                                                                                                                                                                     |\n",
      "|4.0           |[america, benefit, australia, compulsory, voting, system]                                                                                                                                                                                                                                                                                                                                  |(79269,[74,258,543,966,2126,10276],[1.0,1.0,1.0,1.0,1.0,1.0])                                                                                                                                                                                                                                                                                                                     |\n",
      "|3.0           |[oklahoma, approves, tax, hike, avert, teacher, strike]                                                                                                                                                                                                                                                                                                                                    |(79269,[313,700,855,2281,4407,5024,11080],[1.0,1.0,1.0,1.0,1.0,1.0,1.0])                                                                                                                                                                                                                                                                                                          |\n",
      "|2.0           |[hear, podcast, wild, night, teach, u, ecosystem, health]                                                                                                                                                                                                                                                                                                                                  |(79269,[10,41,483,849,1130,1333,2674,5900],[1.0,1.0,1.0,1.0,1.0,1.0,1.0,1.0])                                                                                                                                                                                                                                                                                                     |\n",
      "+--------------+-------------------------------------------------------------------------------------------------------------------------------------------------------------------------------------------------------------------------------------------------------------------------------------------------------------------------------------------------------------------------------------------+----------------------------------------------------------------------------------------------------------------------------------------------------------------------------------------------------------------------------------------------------------------------------------------------------------------------------------------------------------------------------------+\n",
      "only showing top 20 rows\n",
      "\n"
     ]
    },
    {
     "name": "stderr",
     "output_type": "stream",
     "text": [
      "24/06/06 00:42:43 WARN DAGScheduler: Broadcasting large task binary with size 3.2 MiB\n",
      "24/06/06 00:42:43 WARN DAGScheduler: Broadcasting large task binary with size 3.2 MiB\n",
      "24/06/06 00:42:43 WARN DAGScheduler: Broadcasting large task binary with size 3.2 MiB\n",
      "24/06/06 00:42:43 WARN DAGScheduler: Broadcasting large task binary with size 3.2 MiB\n",
      "24/06/06 00:42:44 WARN DAGScheduler: Broadcasting large task binary with size 3.2 MiB\n",
      "24/06/06 00:42:44 WARN DAGScheduler: Broadcasting large task binary with size 3.2 MiB\n",
      "24/06/06 00:42:44 WARN DAGScheduler: Broadcasting large task binary with size 3.2 MiB\n",
      "24/06/06 00:42:45 WARN DAGScheduler: Broadcasting large task binary with size 3.2 MiB\n",
      "24/06/06 00:42:45 WARN DAGScheduler: Broadcasting large task binary with size 3.2 MiB\n",
      "24/06/06 00:42:45 WARN DAGScheduler: Broadcasting large task binary with size 3.2 MiB\n",
      "24/06/06 00:42:46 WARN DAGScheduler: Broadcasting large task binary with size 3.2 MiB\n",
      "24/06/06 00:42:46 WARN DAGScheduler: Broadcasting large task binary with size 3.2 MiB\n",
      "24/06/06 00:42:46 WARN DAGScheduler: Broadcasting large task binary with size 3.2 MiB\n",
      "24/06/06 00:42:47 WARN DAGScheduler: Broadcasting large task binary with size 3.2 MiB\n",
      "24/06/06 00:42:47 WARN DAGScheduler: Broadcasting large task binary with size 3.2 MiB\n",
      "24/06/06 00:42:47 WARN DAGScheduler: Broadcasting large task binary with size 3.2 MiB\n",
      "24/06/06 00:42:48 WARN DAGScheduler: Broadcasting large task binary with size 3.2 MiB\n",
      "24/06/06 00:42:48 WARN DAGScheduler: Broadcasting large task binary with size 3.2 MiB\n",
      "24/06/06 00:42:48 WARN DAGScheduler: Broadcasting large task binary with size 3.2 MiB\n",
      "24/06/06 00:42:48 WARN DAGScheduler: Broadcasting large task binary with size 3.2 MiB\n",
      "24/06/06 00:42:49 WARN DAGScheduler: Broadcasting large task binary with size 3.2 MiB\n",
      "24/06/06 00:42:49 WARN DAGScheduler: Broadcasting large task binary with size 3.2 MiB\n",
      "24/06/06 00:42:49 WARN DAGScheduler: Broadcasting large task binary with size 3.2 MiB\n",
      "24/06/06 00:42:50 WARN DAGScheduler: Broadcasting large task binary with size 3.2 MiB\n",
      "24/06/06 00:42:50 WARN DAGScheduler: Broadcasting large task binary with size 3.2 MiB\n",
      "24/06/06 00:42:51 WARN DAGScheduler: Broadcasting large task binary with size 3.2 MiB\n",
      "24/06/06 00:42:51 WARN DAGScheduler: Broadcasting large task binary with size 3.2 MiB\n",
      "24/06/06 00:42:51 WARN DAGScheduler: Broadcasting large task binary with size 3.2 MiB\n",
      "24/06/06 00:42:51 WARN DAGScheduler: Broadcasting large task binary with size 3.2 MiB\n",
      "24/06/06 00:42:51 WARN DAGScheduler: Broadcasting large task binary with size 3.2 MiB\n",
      "24/06/06 00:42:52 WARN DAGScheduler: Broadcasting large task binary with size 3.2 MiB\n",
      "24/06/06 00:42:52 WARN DAGScheduler: Broadcasting large task binary with size 3.2 MiB\n",
      "24/06/06 00:42:52 WARN DAGScheduler: Broadcasting large task binary with size 3.2 MiB\n",
      "24/06/06 00:42:53 WARN DAGScheduler: Broadcasting large task binary with size 3.2 MiB\n",
      "24/06/06 00:42:53 WARN DAGScheduler: Broadcasting large task binary with size 3.2 MiB\n",
      "24/06/06 00:42:54 WARN DAGScheduler: Broadcasting large task binary with size 3.2 MiB\n",
      "24/06/06 00:42:54 WARN DAGScheduler: Broadcasting large task binary with size 3.2 MiB\n",
      "24/06/06 00:42:54 WARN DAGScheduler: Broadcasting large task binary with size 3.2 MiB\n",
      "24/06/06 00:42:54 WARN DAGScheduler: Broadcasting large task binary with size 3.2 MiB\n",
      "24/06/06 00:42:54 WARN DAGScheduler: Broadcasting large task binary with size 3.2 MiB\n",
      "24/06/06 00:42:55 WARN OnlineLDAOptimizer: The input data is not directly cached, which may hurt performance if its parent RDDs are also uncached.\n",
      "24/06/06 00:42:55 WARN DAGScheduler: Broadcasting large task binary with size 3.2 MiB\n",
      "24/06/06 00:42:55 WARN DAGScheduler: Broadcasting large task binary with size 3.2 MiB\n",
      "24/06/06 00:42:55 WARN DAGScheduler: Broadcasting large task binary with size 3.2 MiB\n",
      "24/06/06 00:42:56 WARN DAGScheduler: Broadcasting large task binary with size 3.2 MiB\n",
      "24/06/06 00:42:56 WARN DAGScheduler: Broadcasting large task binary with size 3.2 MiB\n",
      "24/06/06 00:42:56 WARN DAGScheduler: Broadcasting large task binary with size 3.2 MiB\n",
      "24/06/06 00:42:56 WARN DAGScheduler: Broadcasting large task binary with size 3.2 MiB\n",
      "24/06/06 00:42:57 WARN DAGScheduler: Broadcasting large task binary with size 3.2 MiB\n",
      "24/06/06 00:42:57 WARN DAGScheduler: Broadcasting large task binary with size 3.2 MiB\n",
      "24/06/06 00:42:58 WARN DAGScheduler: Broadcasting large task binary with size 3.2 MiB\n",
      "24/06/06 00:42:58 WARN DAGScheduler: Broadcasting large task binary with size 3.2 MiB\n",
      "24/06/06 00:42:58 WARN DAGScheduler: Broadcasting large task binary with size 3.2 MiB\n",
      "24/06/06 00:42:59 WARN DAGScheduler: Broadcasting large task binary with size 3.2 MiB\n",
      "24/06/06 00:42:59 WARN DAGScheduler: Broadcasting large task binary with size 3.2 MiB\n",
      "24/06/06 00:42:59 WARN DAGScheduler: Broadcasting large task binary with size 3.2 MiB\n",
      "24/06/06 00:42:59 WARN DAGScheduler: Broadcasting large task binary with size 3.2 MiB\n",
      "24/06/06 00:43:00 WARN DAGScheduler: Broadcasting large task binary with size 3.2 MiB\n",
      "24/06/06 00:43:00 WARN DAGScheduler: Broadcasting large task binary with size 3.2 MiB\n",
      "24/06/06 00:43:01 WARN DAGScheduler: Broadcasting large task binary with size 3.2 MiB\n",
      "24/06/06 00:43:01 WARN DAGScheduler: Broadcasting large task binary with size 3.2 MiB\n",
      "24/06/06 00:43:01 WARN DAGScheduler: Broadcasting large task binary with size 3.2 MiB\n",
      "24/06/06 00:43:02 WARN DAGScheduler: Broadcasting large task binary with size 3.2 MiB\n",
      "24/06/06 00:43:02 WARN DAGScheduler: Broadcasting large task binary with size 3.2 MiB\n",
      "24/06/06 00:43:02 WARN DAGScheduler: Broadcasting large task binary with size 3.2 MiB\n",
      "24/06/06 00:43:02 WARN DAGScheduler: Broadcasting large task binary with size 3.2 MiB\n",
      "24/06/06 00:43:02 WARN DAGScheduler: Broadcasting large task binary with size 3.2 MiB\n",
      "24/06/06 00:43:03 WARN DAGScheduler: Broadcasting large task binary with size 3.2 MiB\n",
      "24/06/06 00:43:03 WARN DAGScheduler: Broadcasting large task binary with size 3.2 MiB\n",
      "24/06/06 00:43:04 WARN DAGScheduler: Broadcasting large task binary with size 3.2 MiB\n",
      "24/06/06 00:43:04 WARN DAGScheduler: Broadcasting large task binary with size 3.2 MiB\n",
      "                                                                                \r"
     ]
    }
   ],
   "source": [
    "cv = CountVectorizer(inputCol=\"description_filtered\", outputCol=\"features\", vocabSize=vocabulary_size, minDF=3.0)\n",
    "# train the model\n",
    "cv_model = cv.fit(df)\n",
    "# transform the data. Output column name will be features.\n",
    "vectorized_tokens = cv_model.transform(df)\n",
    "vectorized_tokens.show(truncate=False)"
   ]
  },
  {
   "cell_type": "markdown",
   "metadata": {
    "id": "74T1zTMRxKP8"
   },
   "source": [
    "## V- Models set up, training and evaluation"
   ]
  },
  {
   "cell_type": "markdown",
   "metadata": {
    "id": "HmY4gqj5Q2w_"
   },
   "source": [
    "### 1. Set up LDA model"
   ]
  },
  {
   "cell_type": "code",
   "execution_count": 94,
   "metadata": {
    "id": "f8ya3gJ_PxLc"
   },
   "outputs": [],
   "source": [
    "#num_topics = 20\n",
    "#lda = LDA(k=num_topics, maxIter=10)\n",
    "lda = LDA(seed=0)"
   ]
  },
  {
   "cell_type": "code",
   "execution_count": null,
   "metadata": {},
   "outputs": [],
   "source": []
  },
  {
   "cell_type": "markdown",
   "metadata": {
    "id": "XT81OlVr5Ck1"
   },
   "source": [
    "### 2. Set up pipelines\n",
    "\n",
    "We will  set up and returns  the pipelines of the following transformations for Native Bayes and Linear reggression\n",
    "\n",
    "- HashingTF\n",
    "- IDF\n",
    "- 3-Fold Cross-validation  without grid search"
   ]
  },
  {
   "cell_type": "code",
   "execution_count": 76,
   "metadata": {
    "id": "LArI4unEDer1",
    "scrolled": true
   },
   "outputs": [
    {
     "data": {
      "text/plain": [
       "Pipeline_e2fc5f35ee3e"
      ]
     },
     "execution_count": 76,
     "metadata": {},
     "output_type": "execute_result"
    }
   ],
   "source": [
    "from pyspark.ml import Pipeline\n",
    "from pyspark.ml.feature import CountVectorizer, IDF\n",
    "from pyspark.ml.tuning import CrossValidator, ParamGridBuilder\n",
    "from pyspark.ml.evaluation import ClusteringEvaluator\n",
    "from pyspark.ml.clustering import LDA\n",
    "\n",
    "# Assuming you have a DataFrame `data` with a column named \"text\" containing text documents\n",
    "\n",
    "# Configure an ML pipeline, which consists of several stages: vectorization, LDA, and evaluation\n",
    "vectorizer = CountVectorizer(inputCol=\"description_filtered\", outputCol=\"raw_features\")\n",
    "idf = IDF(inputCol=\"raw_features\", outputCol=\"features\")\n",
    "lda = LDA(featuresCol=\"features\")\n",
    "\n",
    "\n",
    "# Define parameter grid for cross-validation\n",
    "param_grid = (ParamGridBuilder() \n",
    "    .addGrid(lda.k, [3, 5, 7]) # Define different numbers of topics to try\n",
    "    .addGrid(lda.maxIter, [10, 20, 30])   # Define different numbers of iterations\n",
    "    .build())\n",
    "\n",
    "# Create cross-validator\n",
    "crossval = CrossValidator(estimator=lda,\n",
    "                          estimatorParamMaps=param_grid,\n",
    "                          evaluator=evaluator,\n",
    "                          numFolds=3)  \n",
    "\n",
    "# Create pipeline for LDA\n",
    "pipeline = Pipeline(stages=[vectorizer, idf, crossval])\n",
    "\n",
    "pipeline"
   ]
  },
  {
   "cell_type": "markdown",
   "metadata": {
    "id": "UD0gwMNf7yY7"
   },
   "source": [
    "### 3. Split the data\n",
    "\n",
    "First of all let us split the data into train and test set: 80% for train and 20% for test"
   ]
  },
  {
   "cell_type": "code",
   "execution_count": 77,
   "metadata": {
    "id": "pThnAKRy8LqP"
   },
   "outputs": [],
   "source": [
    "# Split data\n",
    "(train_set, test_set) = df.randomSplit([0.8, 0.2], seed=0)"
   ]
  },
  {
   "cell_type": "markdown",
   "metadata": {
    "id": "M84xeE8i67YF"
   },
   "source": [
    "### 4. Create a function for model training\n",
    "\n",
    "Let us create a function which takes as argument a model that it trains and then returns the trained model."
   ]
  },
  {
   "cell_type": "code",
   "execution_count": 78,
   "metadata": {
    "colab": {
     "base_uri": "https://localhost:8080/"
    },
    "id": "AvRF-E1-7ncY",
    "outputId": "a361d112-8d8c-43c1-c926-d4a562e61afd"
   },
   "outputs": [
    {
     "name": "stderr",
     "output_type": "stream",
     "text": [
      "Exception in thread \"serve RDD 622\" java.net.SocketTimeoutException: Accept timed out\n",
      "\tat java.base/java.net.PlainSocketImpl.socketAccept(Native Method)\n",
      "\tat java.base/java.net.AbstractPlainSocketImpl.accept(AbstractPlainSocketImpl.java:458)\n",
      "\tat java.base/java.net.ServerSocket.implAccept(ServerSocket.java:551)\n",
      "\tat java.base/java.net.ServerSocket.accept(ServerSocket.java:519)\n",
      "\tat org.apache.spark.security.SocketAuthServer$$anon$1.run(SocketAuthServer.scala:65)\n"
     ]
    }
   ],
   "source": [
    "def train_model(model):    \n",
    "    return model.fit(train_set)"
   ]
  },
  {
   "cell_type": "code",
   "execution_count": 95,
   "metadata": {},
   "outputs": [
    {
     "name": "stderr",
     "output_type": "stream",
     "text": [
      "                                                                                \r"
     ]
    }
   ],
   "source": [
    "num_topics = 3\n",
    "lda = LDA(k=num_topics, maxIter=10)\n",
    "model = lda.fit(vectorized_tokens)"
   ]
  },
  {
   "cell_type": "code",
   "execution_count": 92,
   "metadata": {},
   "outputs": [
    {
     "name": "stderr",
     "output_type": "stream",
     "text": [
      "ERROR:root:KeyboardInterrupt while sending command.>             (60 + 20) / 80]\n",
      "Traceback (most recent call last):\n",
      "  File \"/home/gbetoho.adede/.local/lib/python3.8/site-packages/py4j/java_gateway.py\", line 1038, in send_command\n",
      "    response = connection.send_command(command)\n",
      "  File \"/home/gbetoho.adede/.local/lib/python3.8/site-packages/py4j/clientserver.py\", line 511, in send_command\n",
      "    answer = smart_decode(self.stream.readline()[:-1])\n",
      "  File \"/home/team1337/.local/easybuild_new/software/Python/3.8.2-GCCcore-9.3.0/lib/python3.8/socket.py\", line 669, in readinto\n",
      "    return self._sock.recv_into(b)\n",
      "KeyboardInterrupt\n"
     ]
    },
    {
     "ename": "KeyboardInterrupt",
     "evalue": "",
     "output_type": "error",
     "traceback": [
      "\u001b[0;31m---------------------------------------------------------------------------\u001b[0m",
      "\u001b[0;31mKeyboardInterrupt\u001b[0m                         Traceback (most recent call last)",
      "Input \u001b[0;32mIn [92]\u001b[0m, in \u001b[0;36m<module>\u001b[0;34m\u001b[0m\n\u001b[1;32m      1\u001b[0m ll \u001b[38;5;241m=\u001b[39m model\u001b[38;5;241m.\u001b[39mlogLikelihood(vectorized_tokens)\n\u001b[0;32m----> 2\u001b[0m lp \u001b[38;5;241m=\u001b[39m \u001b[43mmodel\u001b[49m\u001b[38;5;241;43m.\u001b[39;49m\u001b[43mlogPerplexity\u001b[49m\u001b[43m(\u001b[49m\u001b[43mvectorized_tokens\u001b[49m\u001b[43m)\u001b[49m\n\u001b[1;32m      3\u001b[0m \u001b[38;5;28mprint\u001b[39m(\u001b[38;5;124m\"\u001b[39m\u001b[38;5;124mThe lower bound on the log likelihood of the entire corpus: \u001b[39m\u001b[38;5;124m\"\u001b[39m \u001b[38;5;241m+\u001b[39m \u001b[38;5;28mstr\u001b[39m(ll))\n\u001b[1;32m      4\u001b[0m \u001b[38;5;28mprint\u001b[39m(\u001b[38;5;124m\"\u001b[39m\u001b[38;5;124mThe upper bound on perplexity: \u001b[39m\u001b[38;5;124m\"\u001b[39m \u001b[38;5;241m+\u001b[39m \u001b[38;5;28mstr\u001b[39m(lp))\n",
      "File \u001b[0;32m~/.local/lib/python3.8/site-packages/pyspark/ml/clustering.py:1506\u001b[0m, in \u001b[0;36mLDAModel.logPerplexity\u001b[0;34m(self, dataset)\u001b[0m\n\u001b[1;32m   1496\u001b[0m \u001b[38;5;129m@since\u001b[39m(\u001b[38;5;124m\"\u001b[39m\u001b[38;5;124m2.0.0\u001b[39m\u001b[38;5;124m\"\u001b[39m)\n\u001b[1;32m   1497\u001b[0m \u001b[38;5;28;01mdef\u001b[39;00m \u001b[38;5;21mlogPerplexity\u001b[39m(\u001b[38;5;28mself\u001b[39m, dataset: DataFrame) \u001b[38;5;241m-\u001b[39m\u001b[38;5;241m>\u001b[39m \u001b[38;5;28mfloat\u001b[39m:\n\u001b[1;32m   1498\u001b[0m     \u001b[38;5;124m\"\"\"\u001b[39m\n\u001b[1;32m   1499\u001b[0m \u001b[38;5;124m    Calculate an upper bound on perplexity.  (Lower is better.)\u001b[39m\n\u001b[1;32m   1500\u001b[0m \u001b[38;5;124m    See Equation (16) in the Online LDA paper (Hoffman et al., 2010).\u001b[39m\n\u001b[0;32m   (...)\u001b[0m\n\u001b[1;32m   1504\u001b[0m \u001b[38;5;124m        :py:func:`topicsMatrix` to the driver. This implementation may be changed in the future.\u001b[39m\n\u001b[1;32m   1505\u001b[0m \u001b[38;5;124m    \"\"\"\u001b[39m\n\u001b[0;32m-> 1506\u001b[0m     \u001b[38;5;28;01mreturn\u001b[39;00m \u001b[38;5;28;43mself\u001b[39;49m\u001b[38;5;241;43m.\u001b[39;49m\u001b[43m_call_java\u001b[49m\u001b[43m(\u001b[49m\u001b[38;5;124;43m\"\u001b[39;49m\u001b[38;5;124;43mlogPerplexity\u001b[39;49m\u001b[38;5;124;43m\"\u001b[39;49m\u001b[43m,\u001b[49m\u001b[43m \u001b[49m\u001b[43mdataset\u001b[49m\u001b[43m)\u001b[49m\n",
      "File \u001b[0;32m~/.local/lib/python3.8/site-packages/pyspark/ml/wrapper.py:72\u001b[0m, in \u001b[0;36mJavaWrapper._call_java\u001b[0;34m(self, name, *args)\u001b[0m\n\u001b[1;32m     69\u001b[0m \u001b[38;5;28;01massert\u001b[39;00m sc \u001b[38;5;129;01mis\u001b[39;00m \u001b[38;5;129;01mnot\u001b[39;00m \u001b[38;5;28;01mNone\u001b[39;00m\n\u001b[1;32m     71\u001b[0m java_args \u001b[38;5;241m=\u001b[39m [_py2java(sc, arg) \u001b[38;5;28;01mfor\u001b[39;00m arg \u001b[38;5;129;01min\u001b[39;00m args]\n\u001b[0;32m---> 72\u001b[0m \u001b[38;5;28;01mreturn\u001b[39;00m _java2py(sc, \u001b[43mm\u001b[49m\u001b[43m(\u001b[49m\u001b[38;5;241;43m*\u001b[39;49m\u001b[43mjava_args\u001b[49m\u001b[43m)\u001b[49m)\n",
      "File \u001b[0;32m~/.local/lib/python3.8/site-packages/py4j/java_gateway.py:1321\u001b[0m, in \u001b[0;36mJavaMember.__call__\u001b[0;34m(self, *args)\u001b[0m\n\u001b[1;32m   1314\u001b[0m args_command, temp_args \u001b[38;5;241m=\u001b[39m \u001b[38;5;28mself\u001b[39m\u001b[38;5;241m.\u001b[39m_build_args(\u001b[38;5;241m*\u001b[39margs)\n\u001b[1;32m   1316\u001b[0m command \u001b[38;5;241m=\u001b[39m proto\u001b[38;5;241m.\u001b[39mCALL_COMMAND_NAME \u001b[38;5;241m+\u001b[39m\\\n\u001b[1;32m   1317\u001b[0m     \u001b[38;5;28mself\u001b[39m\u001b[38;5;241m.\u001b[39mcommand_header \u001b[38;5;241m+\u001b[39m\\\n\u001b[1;32m   1318\u001b[0m     args_command \u001b[38;5;241m+\u001b[39m\\\n\u001b[1;32m   1319\u001b[0m     proto\u001b[38;5;241m.\u001b[39mEND_COMMAND_PART\n\u001b[0;32m-> 1321\u001b[0m answer \u001b[38;5;241m=\u001b[39m \u001b[38;5;28;43mself\u001b[39;49m\u001b[38;5;241;43m.\u001b[39;49m\u001b[43mgateway_client\u001b[49m\u001b[38;5;241;43m.\u001b[39;49m\u001b[43msend_command\u001b[49m\u001b[43m(\u001b[49m\u001b[43mcommand\u001b[49m\u001b[43m)\u001b[49m\n\u001b[1;32m   1322\u001b[0m return_value \u001b[38;5;241m=\u001b[39m get_return_value(\n\u001b[1;32m   1323\u001b[0m     answer, \u001b[38;5;28mself\u001b[39m\u001b[38;5;241m.\u001b[39mgateway_client, \u001b[38;5;28mself\u001b[39m\u001b[38;5;241m.\u001b[39mtarget_id, \u001b[38;5;28mself\u001b[39m\u001b[38;5;241m.\u001b[39mname)\n\u001b[1;32m   1325\u001b[0m \u001b[38;5;28;01mfor\u001b[39;00m temp_arg \u001b[38;5;129;01min\u001b[39;00m temp_args:\n",
      "File \u001b[0;32m~/.local/lib/python3.8/site-packages/py4j/java_gateway.py:1038\u001b[0m, in \u001b[0;36mGatewayClient.send_command\u001b[0;34m(self, command, retry, binary)\u001b[0m\n\u001b[1;32m   1036\u001b[0m connection \u001b[38;5;241m=\u001b[39m \u001b[38;5;28mself\u001b[39m\u001b[38;5;241m.\u001b[39m_get_connection()\n\u001b[1;32m   1037\u001b[0m \u001b[38;5;28;01mtry\u001b[39;00m:\n\u001b[0;32m-> 1038\u001b[0m     response \u001b[38;5;241m=\u001b[39m \u001b[43mconnection\u001b[49m\u001b[38;5;241;43m.\u001b[39;49m\u001b[43msend_command\u001b[49m\u001b[43m(\u001b[49m\u001b[43mcommand\u001b[49m\u001b[43m)\u001b[49m\n\u001b[1;32m   1039\u001b[0m     \u001b[38;5;28;01mif\u001b[39;00m binary:\n\u001b[1;32m   1040\u001b[0m         \u001b[38;5;28;01mreturn\u001b[39;00m response, \u001b[38;5;28mself\u001b[39m\u001b[38;5;241m.\u001b[39m_create_connection_guard(connection)\n",
      "File \u001b[0;32m~/.local/lib/python3.8/site-packages/py4j/clientserver.py:511\u001b[0m, in \u001b[0;36mClientServerConnection.send_command\u001b[0;34m(self, command)\u001b[0m\n\u001b[1;32m    509\u001b[0m \u001b[38;5;28;01mtry\u001b[39;00m:\n\u001b[1;32m    510\u001b[0m     \u001b[38;5;28;01mwhile\u001b[39;00m \u001b[38;5;28;01mTrue\u001b[39;00m:\n\u001b[0;32m--> 511\u001b[0m         answer \u001b[38;5;241m=\u001b[39m smart_decode(\u001b[38;5;28;43mself\u001b[39;49m\u001b[38;5;241;43m.\u001b[39;49m\u001b[43mstream\u001b[49m\u001b[38;5;241;43m.\u001b[39;49m\u001b[43mreadline\u001b[49m\u001b[43m(\u001b[49m\u001b[43m)\u001b[49m[:\u001b[38;5;241m-\u001b[39m\u001b[38;5;241m1\u001b[39m])\n\u001b[1;32m    512\u001b[0m         logger\u001b[38;5;241m.\u001b[39mdebug(\u001b[38;5;124m\"\u001b[39m\u001b[38;5;124mAnswer received: \u001b[39m\u001b[38;5;132;01m{0}\u001b[39;00m\u001b[38;5;124m\"\u001b[39m\u001b[38;5;241m.\u001b[39mformat(answer))\n\u001b[1;32m    513\u001b[0m         \u001b[38;5;66m# Happens when a the other end is dead. There might be an empty\u001b[39m\n\u001b[1;32m    514\u001b[0m         \u001b[38;5;66m# answer before the socket raises an error.\u001b[39m\n",
      "File \u001b[0;32m/home/team1337/.local/easybuild_new/software/Python/3.8.2-GCCcore-9.3.0/lib/python3.8/socket.py:669\u001b[0m, in \u001b[0;36mSocketIO.readinto\u001b[0;34m(self, b)\u001b[0m\n\u001b[1;32m    667\u001b[0m \u001b[38;5;28;01mwhile\u001b[39;00m \u001b[38;5;28;01mTrue\u001b[39;00m:\n\u001b[1;32m    668\u001b[0m     \u001b[38;5;28;01mtry\u001b[39;00m:\n\u001b[0;32m--> 669\u001b[0m         \u001b[38;5;28;01mreturn\u001b[39;00m \u001b[38;5;28;43mself\u001b[39;49m\u001b[38;5;241;43m.\u001b[39;49m\u001b[43m_sock\u001b[49m\u001b[38;5;241;43m.\u001b[39;49m\u001b[43mrecv_into\u001b[49m\u001b[43m(\u001b[49m\u001b[43mb\u001b[49m\u001b[43m)\u001b[49m\n\u001b[1;32m    670\u001b[0m     \u001b[38;5;28;01mexcept\u001b[39;00m timeout:\n\u001b[1;32m    671\u001b[0m         \u001b[38;5;28mself\u001b[39m\u001b[38;5;241m.\u001b[39m_timeout_occurred \u001b[38;5;241m=\u001b[39m \u001b[38;5;28;01mTrue\u001b[39;00m\n",
      "\u001b[0;31mKeyboardInterrupt\u001b[0m: "
     ]
    }
   ],
   "source": [
    "ll = model.logLikelihood(vectorized_tokens)\n",
    "lp = model.logPerplexity(vectorized_tokens)\n",
    "print(\"The lower bound on the log likelihood of the entire corpus: \" + str(ll))\n",
    "print(\"The upper bound on perplexity: \" + str(lp))"
   ]
  },
  {
   "cell_type": "code",
   "execution_count": 96,
   "metadata": {
    "colab": {
     "base_uri": "https://localhost:8080/"
    },
    "id": "Sab9GsSNpbf1",
    "outputId": "ea835406-2c19-4d73-e659-943b8355a5a0"
   },
   "outputs": [
    {
     "name": "stdout",
     "output_type": "stream",
     "text": [
      "topic: 0\n",
      "*************************\n",
      "photo\n",
      "state\n",
      "new\n",
      "trump\n",
      "10\n",
      "best\n",
      "day\n",
      "united\n",
      "u\n",
      "year\n",
      "*************************\n",
      "topic: 1\n",
      "*************************\n",
      "woman\n",
      "video\n",
      "nt\n",
      "say\n",
      "new\n",
      "make\n",
      "time\n",
      "photo\n",
      "get\n",
      "world\n",
      "*************************\n",
      "topic: 2\n",
      "*************************\n",
      "new\n",
      "covid19\n",
      "nt\n",
      "trump\n",
      "day\n",
      "coronavirus\n",
      "bank\n",
      "school\n",
      "5\n",
      "woman\n",
      "*************************\n"
     ]
    }
   ],
   "source": [
    "# extract vocabulary from CountVectorizer\n",
    "vocab = cv_model.vocabulary\n",
    "topics = model.describeTopics()\n",
    "topics_rdd = topics.rdd\n",
    "topics_words = topics_rdd\\\n",
    "       .map(lambda row: row['termIndices'])\\\n",
    "       .map(lambda idx_list: [vocab[idx] for idx in idx_list])\\\n",
    "       .collect()\n",
    "for idx, topic in enumerate(topics_words):\n",
    "    print(\"topic: {}\".format(idx))\n",
    "    print(\"*\"*25)\n",
    "    for word in topic:\n",
    "       print(word)\n",
    "    print(\"*\"*25)"
   ]
  },
  {
   "cell_type": "code",
   "execution_count": 101,
   "metadata": {},
   "outputs": [
    {
     "name": "stderr",
     "output_type": "stream",
     "text": [
      "24/06/06 01:17:16 WARN DAGScheduler: Broadcasting large task binary with size 2.7 MiB\n"
     ]
    },
    {
     "name": "stdout",
     "output_type": "stream",
     "text": [
      "+-------------------------------------------------------------------------------------------------------------------------------------------------------------------------------------------------------------------------------------------------------------------------------------------------------------------------------------------------------------------------------------------+--------------------------------------------------------------+\n",
      "|description_filtered                                                                                                                                                                                                                                                                                                                                                                       |topicDistribution                                             |\n",
      "+-------------------------------------------------------------------------------------------------------------------------------------------------------------------------------------------------------------------------------------------------------------------------------------------------------------------------------------------------------------------------------------------+--------------------------------------------------------------+\n",
      "|[covid19, wrap, world, reacts, russia, vaccine, new, case, spell, uncertainty, election, nz]                                                                                                                                                                                                                                                                                               |[0.03980659267941952,0.03267551397993906,0.9275178933406414]  |\n",
      "|[research, reveals, lightning, strike, arctic, region, tripled, summer, month, 2010, 2020]                                                                                                                                                                                                                                                                                                 |[0.034936625704991404,0.044390202969062514,0.9206731713259461]|\n",
      "|[annastacia, palaszczuk, brings, forward, qld, border, reopening, steven, marshall, concerned, omicron, sa, record, four, covid, case, perth, stripped, ash, series, finale, victoria, record, 1073, new, case, six, death, nsw, record, 208, case, act, six, katherine, lockdown, extended, nt, record, one, case, australia, renewables, superpower, ha, wasted, time, chris, bowen, say]|[0.007936980481644743,0.2045608933633965,0.7875021261549587]  |\n",
      "|[growing, city, hall, part]                                                                                                                                                                                                                                                                                                                                                                |[0.8390540325564921,0.08358494864493744,0.07736101879857044]  |\n",
      "|[million, philippine, latest, hit, stayathome, order, case, soar, internationally]                                                                                                                                                                                                                                                                                                         |[0.2198330360492254,0.03677091981259463,0.74339604413818]     |\n",
      "|[youngest, assailant, delhi, mob, ravishment, case, released, prison]                                                                                                                                                                                                                                                                                                                      |[0.03763753161425357,0.04319380998166729,0.9191686584040791]  |\n",
      "|[new, threatened, specie, commissioner, seems, nice]                                                                                                                                                                                                                                                                                                                                       |[0.05712246198123219,0.05254862525699325,0.8903289127617745]  |\n",
      "|[polluting, elite, responsible, amount, carbon, dioxide, year, poorest, 10, two, decade, data, show]                                                                                                                                                                                                                                                                                       |[0.9391516116115005,0.03156262637795531,0.02928576201054409]  |\n",
      "|[ed, miliband, shadow, secretary, state, climate, change, net, zero]                                                                                                                                                                                                                                                                                                                       |[0.7522191711157832,0.038001727467931005,0.2097791014162858]  |\n",
      "|[obama, pledge, stop, epidemic, gun, violence]                                                                                                                                                                                                                                                                                                                                             |[0.053379938190744616,0.5388561319474372,0.40776392986181814] |\n",
      "|[san, aotea, ii, crew, back, new, zealand, soil]                                                                                                                                                                                                                                                                                                                                           |[0.048100471361407174,0.5963601226561174,0.3555394059824754]  |\n",
      "|[russia, appears, defend, michael, flynn, superweird, message, twitter]                                                                                                                                                                                                                                                                                                                    |[0.04944962417741186,0.05638081911037684,0.8941695567122113]  |\n",
      "|[bharat, transport, squad, republic, mauritius, undertake, crude, spill]                                                                                                                                                                                                                                                                                                                   |[0.8971207554238788,0.0460436736656056,0.05683557091051565]   |\n",
      "|[restore, trust, blamed, new, balloting, organisation, defeat, campaigner, annual, general, encounter, bath]                                                                                                                                                                                                                                                                               |[0.585647144307507,0.031172221992192592,0.38318063370030053]  |\n",
      "|[huffpollster, battleground, state, poll, missed, white, workingclass, area]                                                                                                                                                                                                                                                                                                               |[0.9199889978158693,0.039683839763677016,0.04032716242045379] |\n",
      "|[send, united, incident, equal, law, furiousness]                                                                                                                                                                                                                                                                                                                                          |[0.5431929545474226,0.055671255254491465,0.401135790198086]   |\n",
      "|[20230928]                                                                                                                                                                                                                                                                                                                                                                                 |[0.0,0.0,0.0]                                                 |\n",
      "|[america, benefit, australia, compulsory, voting, system]                                                                                                                                                                                                                                                                                                                                  |[0.9001752367018756,0.05029236184958349,0.04953240144854092]  |\n",
      "|[oklahoma, approves, tax, hike, avert, teacher, strike]                                                                                                                                                                                                                                                                                                                                    |[0.3937558403966448,0.5540377670748772,0.05220639252847803]   |\n",
      "|[hear, podcast, wild, night, teach, u, ecosystem, health]                                                                                                                                                                                                                                                                                                                                  |[0.04594606132860829,0.913457416704969,0.04059652196642273]   |\n",
      "+-------------------------------------------------------------------------------------------------------------------------------------------------------------------------------------------------------------------------------------------------------------------------------------------------------------------------------------------------------------------------------------------+--------------------------------------------------------------+\n",
      "only showing top 20 rows\n",
      "\n"
     ]
    }
   ],
   "source": [
    "new_data_topics = model.transform(vectorized_tokens)\n",
    "\n",
    "# Show the resulting DataFrame with topic distributions\n",
    "new_data_topics.select(\"description_filtered\" ,\"topicDistribution\").show(truncate=False)"
   ]
  },
  {
   "cell_type": "markdown",
   "metadata": {
    "id": "K-fBEB1f9aRD"
   },
   "source": [
    "### 5. Define a function to evaluate the model\n",
    "\n",
    "The function takes as parameter a fitted model, evaluates the model on train and test split and then return the train and test performance. The accuracy is the metric used."
   ]
  },
  {
   "cell_type": "code",
   "execution_count": 86,
   "metadata": {},
   "outputs": [
    {
     "name": "stderr",
     "output_type": "stream",
     "text": [
      "24/06/06 00:37:41 WARN DAGScheduler: Broadcasting large task binary with size 3.2 MiB\n",
      "24/06/06 00:37:41 WARN DAGScheduler: Broadcasting large task binary with size 3.2 MiB\n",
      "24/06/06 00:37:41 WARN DAGScheduler: Broadcasting large task binary with size 3.2 MiB\n",
      "24/06/06 00:37:41 WARN DAGScheduler: Broadcasting large task binary with size 3.2 MiB\n",
      "24/06/06 00:37:42 WARN DAGScheduler: Broadcasting large task binary with size 3.2 MiB\n",
      "24/06/06 00:37:42 WARN DAGScheduler: Broadcasting large task binary with size 3.2 MiB\n",
      "24/06/06 00:37:42 WARN OnlineLDAOptimizer: The input data is not directly cached, which may hurt performance if its parent RDDs are also uncached.\n",
      "24/06/06 00:37:42 WARN DAGScheduler: Broadcasting large task binary with size 3.2 MiB\n",
      "24/06/06 00:37:42 WARN DAGScheduler: Broadcasting large task binary with size 3.2 MiB\n",
      "24/06/06 00:37:42 WARN DAGScheduler: Broadcasting large task binary with size 3.2 MiB\n",
      "24/06/06 00:37:43 WARN DAGScheduler: Broadcasting large task binary with size 3.2 MiB\n",
      "24/06/06 00:37:43 WARN DAGScheduler: Broadcasting large task binary with size 3.2 MiB\n",
      "24/06/06 00:37:43 WARN DAGScheduler: Broadcasting large task binary with size 3.2 MiB\n",
      "                                                                                \r"
     ]
    }
   ],
   "source": [
    "\n",
    "# Custom evaluator for LDA using log-likelihood and perplexity\n",
    "class LDAMetricsEvaluator:\n",
    "    def __init__(self, featuresCol=\"features\"):\n",
    "        self.featuresCol = featuresCol\n",
    "\n",
    "    def evaluate(self, model, dataset):\n",
    "        log_likelihood = model.logLikelihood(dataset)\n",
    "        perplexity = model.logPerplexity(dataset)\n",
    "        # For simplicity, we can use negative log-likelihood as the evaluation metric\n",
    "        return -log_likelihood\n",
    "    \n",
    "\n",
    "evaluator = LDAMetricsEvaluator(featuresCol=\"features\")\n",
    "\n",
    "# Function to evaluate model and get best parameters\n",
    "def evaluate_model(fitted_model):\n",
    "\n",
    "    print('Making predictions on the training set')\n",
    "\n",
    "    train_predictions = fitted_model.transform(train_set)\n",
    "\n",
    "    print('Making predictions on the test set')\n",
    "    test_predictions = fitted_model.transform(test_set)\n",
    "\n",
    "    print('Evaluating the model on training set')\n",
    "    train_accuracy = evaluator.evaluate(train_predictions)\n",
    "\n",
    "    print('Evaluating the model on test set')\n",
    "    test_accuracy = evaluator.evaluate(test_predictions)\n",
    "    return train_accuracy, test_accuracy"
   ]
  },
  {
   "cell_type": "markdown",
   "metadata": {
    "id": "yG6dMBjzLXWA"
   },
   "source": [
    "### 6. Create a function which takes pipelines and train the models, evaluate them and then return the results"
   ]
  },
  {
   "cell_type": "code",
   "execution_count": 87,
   "metadata": {
    "id": "8MmY_Fp54MXb"
   },
   "outputs": [
    {
     "name": "stderr",
     "output_type": "stream",
     "text": [
      "24/06/06 00:37:44 WARN DAGScheduler: Broadcasting large task binary with size 3.2 MiB\n",
      "24/06/06 00:37:44 WARN DAGScheduler: Broadcasting large task binary with size 3.2 MiB\n",
      "24/06/06 00:37:44 WARN DAGScheduler: Broadcasting large task binary with size 3.2 MiB\n",
      "24/06/06 00:37:44 WARN DAGScheduler: Broadcasting large task binary with size 3.2 MiB\n",
      "24/06/06 00:37:44 WARN DAGScheduler: Broadcasting large task binary with size 3.2 MiB\n"
     ]
    }
   ],
   "source": [
    "def train_and_evaluate_model(model_pipeline,model_name=\"LDA\"):\n",
    "\n",
    "\n",
    "    print(f\"Training {model_name} model\")\n",
    "\n",
    "    # Fit the model pipeline to the training set\n",
    "    #fitted_model = model_pipeline.fit(train_set)\n",
    "    fitted_model = train_model(model_pipeline)\n",
    "\n",
    "    print(\"Done\")\n",
    "    print(f\"Evaluating {model_name} model\")\n",
    "\n",
    "    # Evaluate the fitted model\n",
    "    train_accuracy, test_accuracy = evaluate_model(fitted_model,model_name)\n",
    "    print(\"Done\")\n",
    "    \n",
    "    # Store the results\n",
    "    results = {\n",
    "            'model_name': model_name,\n",
    "            'fitted_model': fitted_model,\n",
    "            \"train_accuracy\": train_accuracy,\n",
    "            \"test_accuracy\": test_accuracy\n",
    "        }\n",
    "\n",
    "    \n",
    "\n",
    "    return results"
   ]
  },
  {
   "cell_type": "code",
   "execution_count": 88,
   "metadata": {
    "id": "9T4JAj-QId2e",
    "scrolled": false
   },
   "outputs": [
    {
     "name": "stdout",
     "output_type": "stream",
     "text": [
      "Training LDA model\n"
     ]
    },
    {
     "name": "stderr",
     "output_type": "stream",
     "text": [
      "24/06/06 00:37:45 WARN DAGScheduler: Broadcasting large task binary with size 3.2 MiB\n",
      "24/06/06 00:37:45 WARN DAGScheduler: Broadcasting large task binary with size 3.2 MiB\n",
      "24/06/06 00:37:45 WARN DAGScheduler: Broadcasting large task binary with size 3.2 MiB\n",
      "24/06/06 00:37:45 WARN DAGScheduler: Broadcasting large task binary with size 3.2 MiB\n",
      "24/06/06 00:37:46 WARN DAGScheduler: Broadcasting large task binary with size 3.2 MiB\n",
      "24/06/06 00:37:46 WARN DAGScheduler: Broadcasting large task binary with size 3.2 MiB\n",
      "24/06/06 00:37:46 WARN DAGScheduler: Broadcasting large task binary with size 3.2 MiB\n",
      "24/06/06 00:37:46 WARN DAGScheduler: Broadcasting large task binary with size 3.2 MiB\n",
      "24/06/06 00:37:47 WARN DAGScheduler: Broadcasting large task binary with size 3.2 MiB\n",
      "24/06/06 00:37:47 WARN DAGScheduler: Broadcasting large task binary with size 3.2 MiB\n",
      "24/06/06 00:37:48 WARN DAGScheduler: Broadcasting large task binary with size 3.2 MiB\n",
      "24/06/06 00:37:48 WARN DAGScheduler: Broadcasting large task binary with size 3.2 MiB\n",
      "24/06/06 00:37:48 WARN DAGScheduler: Broadcasting large task binary with size 3.2 MiB\n",
      "24/06/06 00:37:48 WARN DAGScheduler: Broadcasting large task binary with size 3.2 MiB\n",
      "24/06/06 00:37:48 WARN DAGScheduler: Broadcasting large task binary with size 3.2 MiB\n",
      "24/06/06 00:37:48 WARN DAGScheduler: Broadcasting large task binary with size 3.2 MiB\n",
      "24/06/06 00:37:49 WARN DAGScheduler: Broadcasting large task binary with size 1340.3 KiB\n",
      "24/06/06 00:37:49 WARN DAGScheduler: Broadcasting large task binary with size 3.2 MiB\n",
      "24/06/06 00:37:49 WARN DAGScheduler: Broadcasting large task binary with size 3.2 MiB\n",
      "24/06/06 00:37:49 WARN DAGScheduler: Broadcasting large task binary with size 3.2 MiB\n",
      "24/06/06 00:37:50 WARN DAGScheduler: Broadcasting large task binary with size 3.2 MiB\n",
      "24/06/06 00:37:50 WARN DAGScheduler: Broadcasting large task binary with size 3.2 MiB\n",
      "24/06/06 00:37:50 WARN DAGScheduler: Broadcasting large task binary with size 3.2 MiB\n",
      "24/06/06 00:37:50 WARN DAGScheduler: Broadcasting large task binary with size 1341.4 KiB\n",
      "24/06/06 00:37:51 WARN DAGScheduler: Broadcasting large task binary with size 3.2 MiB\n",
      "24/06/06 00:37:51 WARN DAGScheduler: Broadcasting large task binary with size 3.2 MiB\n",
      "24/06/06 00:37:51 WARN DAGScheduler: Broadcasting large task binary with size 3.2 MiB\n",
      "24/06/06 00:37:51 WARN DAGScheduler: Broadcasting large task binary with size 3.2 MiB\n",
      "24/06/06 00:37:51 WARN DAGScheduler: Broadcasting large task binary with size 3.2 MiB\n",
      "24/06/06 00:37:52 WARN DAGScheduler: Broadcasting large task binary with size 3.2 MiB\n",
      "24/06/06 00:37:52 WARN DAGScheduler: Broadcasting large task binary with size 3.2 MiB\n",
      "24/06/06 00:37:52 WARN DAGScheduler: Broadcasting large task binary with size 3.2 MiB\n",
      "24/06/06 00:37:52 WARN DAGScheduler: Broadcasting large task binary with size 3.2 MiB\n",
      "24/06/06 00:37:53 WARN DAGScheduler: Broadcasting large task binary with size 3.2 MiB\n",
      "24/06/06 00:37:53 WARN DAGScheduler: Broadcasting large task binary with size 3.2 MiB\n",
      "24/06/06 00:37:53 WARN DAGScheduler: Broadcasting large task binary with size 3.2 MiB\n",
      "24/06/06 00:37:53 WARN DAGScheduler: Broadcasting large task binary with size 3.2 MiB\n",
      "24/06/06 00:37:53 WARN DAGScheduler: Broadcasting large task binary with size 3.2 MiB\n",
      "24/06/06 00:37:54 WARN DAGScheduler: Broadcasting large task binary with size 3.2 MiB\n",
      "24/06/06 00:37:54 WARN DAGScheduler: Broadcasting large task binary with size 3.2 MiB\n",
      "24/06/06 00:37:54 WARN DAGScheduler: Broadcasting large task binary with size 3.2 MiB\n",
      "24/06/06 00:37:54 WARN DAGScheduler: Broadcasting large task binary with size 3.2 MiB\n",
      "24/06/06 00:37:54 WARN OnlineLDAOptimizer: The input data is not directly cached, which may hurt performance if its parent RDDs are also uncached.\n",
      "24/06/06 00:37:54 WARN DAGScheduler: Broadcasting large task binary with size 3.2 MiB\n",
      "24/06/06 00:37:54 WARN DAGScheduler: Broadcasting large task binary with size 3.2 MiB\n",
      "24/06/06 00:37:55 WARN DAGScheduler: Broadcasting large task binary with size 3.2 MiB\n",
      "24/06/06 00:37:55 WARN DAGScheduler: Broadcasting large task binary with size 3.2 MiB\n",
      "24/06/06 00:37:55 WARN DAGScheduler: Broadcasting large task binary with size 3.2 MiB\n",
      "24/06/06 00:37:55 WARN DAGScheduler: Broadcasting large task binary with size 3.2 MiB\n",
      "24/06/06 00:37:56 WARN DAGScheduler: Broadcasting large task binary with size 3.2 MiB\n",
      "24/06/06 00:37:56 WARN DAGScheduler: Broadcasting large task binary with size 3.2 MiB\n",
      "24/06/06 00:37:56 WARN DAGScheduler: Broadcasting large task binary with size 3.2 MiB\n",
      "24/06/06 00:37:56 WARN DAGScheduler: Broadcasting large task binary with size 3.2 MiB\n",
      "24/06/06 00:37:56 WARN DAGScheduler: Broadcasting large task binary with size 3.2 MiB\n",
      "24/06/06 00:37:57 WARN DAGScheduler: Broadcasting large task binary with size 3.2 MiB\n",
      "24/06/06 00:37:57 WARN DAGScheduler: Broadcasting large task binary with size 3.2 MiB\n",
      "24/06/06 00:37:57 WARN DAGScheduler: Broadcasting large task binary with size 3.2 MiB\n",
      "24/06/06 00:37:57 WARN DAGScheduler: Broadcasting large task binary with size 3.2 MiB\n",
      "24/06/06 00:37:57 WARN DAGScheduler: Broadcasting large task binary with size 3.2 MiB\n",
      "24/06/06 00:37:58 WARN DAGScheduler: Broadcasting large task binary with size 3.2 MiB\n",
      "24/06/06 00:37:58 WARN DAGScheduler: Broadcasting large task binary with size 3.2 MiB\n",
      "24/06/06 00:37:58 WARN DAGScheduler: Broadcasting large task binary with size 3.2 MiB\n",
      "24/06/06 00:37:58 WARN DAGScheduler: Broadcasting large task binary with size 3.2 MiB\n",
      "24/06/06 00:37:58 WARN DAGScheduler: Broadcasting large task binary with size 3.2 MiB\n",
      "24/06/06 00:37:59 WARN DAGScheduler: Broadcasting large task binary with size 3.2 MiB\n",
      "24/06/06 00:37:59 WARN DAGScheduler: Broadcasting large task binary with size 3.2 MiB\n",
      "24/06/06 00:37:59 WARN DAGScheduler: Broadcasting large task binary with size 3.2 MiB\n",
      "24/06/06 00:37:59 WARN DAGScheduler: Broadcasting large task binary with size 3.2 MiB\n",
      "24/06/06 00:37:59 WARN DAGScheduler: Broadcasting large task binary with size 3.2 MiB\n",
      "24/06/06 00:38:00 WARN DAGScheduler: Broadcasting large task binary with size 3.2 MiB\n",
      "24/06/06 00:38:00 WARN DAGScheduler: Broadcasting large task binary with size 3.2 MiB\n",
      "24/06/06 00:38:00 WARN DAGScheduler: Broadcasting large task binary with size 3.2 MiB\n",
      "24/06/06 00:38:00 WARN DAGScheduler: Broadcasting large task binary with size 3.2 MiB\n",
      "24/06/06 00:38:01 WARN DAGScheduler: Broadcasting large task binary with size 3.2 MiB\n",
      "24/06/06 00:38:01 WARN DAGScheduler: Broadcasting large task binary with size 3.2 MiB\n",
      "24/06/06 00:38:01 WARN DAGScheduler: Broadcasting large task binary with size 3.2 MiB\n",
      "24/06/06 00:38:01 WARN DAGScheduler: Broadcasting large task binary with size 3.2 MiB\n",
      "24/06/06 00:38:01 WARN DAGScheduler: Broadcasting large task binary with size 3.2 MiB\n",
      "24/06/06 00:38:02 WARN DAGScheduler: Broadcasting large task binary with size 3.2 MiB\n",
      "24/06/06 00:38:02 WARN DAGScheduler: Broadcasting large task binary with size 3.2 MiB\n",
      "24/06/06 00:38:02 WARN DAGScheduler: Broadcasting large task binary with size 3.2 MiB\n",
      "24/06/06 00:38:02 WARN DAGScheduler: Broadcasting large task binary with size 3.2 MiB\n",
      "24/06/06 00:38:02 WARN DAGScheduler: Broadcasting large task binary with size 3.2 MiB\n",
      "24/06/06 00:38:03 WARN DAGScheduler: Broadcasting large task binary with size 3.2 MiB\n",
      "24/06/06 00:38:03 WARN DAGScheduler: Broadcasting large task binary with size 3.2 MiB\n",
      "24/06/06 00:38:03 WARN DAGScheduler: Broadcasting large task binary with size 3.2 MiB\n",
      "24/06/06 00:38:03 WARN DAGScheduler: Broadcasting large task binary with size 3.2 MiB\n",
      "24/06/06 00:38:04 WARN DAGScheduler: Broadcasting large task binary with size 3.2 MiB\n",
      "24/06/06 00:38:04 WARN DAGScheduler: Broadcasting large task binary with size 3.2 MiB\n",
      "24/06/06 00:38:04 WARN DAGScheduler: Broadcasting large task binary with size 3.2 MiB\n",
      "24/06/06 00:38:04 WARN DAGScheduler: Broadcasting large task binary with size 3.2 MiB\n",
      "24/06/06 00:38:04 WARN DAGScheduler: Broadcasting large task binary with size 3.2 MiB\n",
      "24/06/06 00:38:04 WARN DAGScheduler: Broadcasting large task binary with size 3.2 MiB\n",
      "24/06/06 00:38:05 WARN DAGScheduler: Broadcasting large task binary with size 3.2 MiB\n",
      "24/06/06 00:38:05 WARN DAGScheduler: Broadcasting large task binary with size 3.2 MiB\n"
     ]
    },
    {
     "name": "stderr",
     "output_type": "stream",
     "text": [
      "24/06/06 00:38:05 WARN DAGScheduler: Broadcasting large task binary with size 3.2 MiB\n",
      "24/06/06 00:38:05 WARN DAGScheduler: Broadcasting large task binary with size 3.2 MiB\n",
      "24/06/06 00:38:05 WARN DAGScheduler: Broadcasting large task binary with size 3.2 MiB\n",
      "24/06/06 00:38:06 WARN DAGScheduler: Broadcasting large task binary with size 3.2 MiB\n",
      "24/06/06 00:38:06 WARN DAGScheduler: Broadcasting large task binary with size 3.2 MiB\n",
      "24/06/06 00:38:06 WARN DAGScheduler: Broadcasting large task binary with size 3.2 MiB\n",
      "24/06/06 00:38:06 WARN DAGScheduler: Broadcasting large task binary with size 3.2 MiB\n",
      "24/06/06 00:38:06 WARN DAGScheduler: Broadcasting large task binary with size 3.2 MiB\n",
      "24/06/06 00:38:07 WARN DAGScheduler: Broadcasting large task binary with size 3.2 MiB\n",
      "24/06/06 00:38:07 WARN DAGScheduler: Broadcasting large task binary with size 3.2 MiB\n",
      "24/06/06 00:38:07 WARN DAGScheduler: Broadcasting large task binary with size 3.2 MiB\n",
      "24/06/06 00:38:07 WARN DAGScheduler: Broadcasting large task binary with size 3.2 MiB\n",
      "24/06/06 00:38:07 WARN DAGScheduler: Broadcasting large task binary with size 3.2 MiB\n",
      "24/06/06 00:38:08 WARN DAGScheduler: Broadcasting large task binary with size 3.2 MiB\n",
      "24/06/06 00:38:08 WARN DAGScheduler: Broadcasting large task binary with size 3.2 MiB\n",
      "24/06/06 00:38:08 WARN DAGScheduler: Broadcasting large task binary with size 3.2 MiB\n",
      "24/06/06 00:38:08 WARN DAGScheduler: Broadcasting large task binary with size 3.2 MiB\n",
      "24/06/06 00:38:08 WARN DAGScheduler: Broadcasting large task binary with size 3.2 MiB\n",
      "24/06/06 00:38:08 WARN DAGScheduler: Broadcasting large task binary with size 3.2 MiB\n",
      "24/06/06 00:38:09 WARN DAGScheduler: Broadcasting large task binary with size 3.2 MiB\n",
      "24/06/06 00:38:09 WARN DAGScheduler: Broadcasting large task binary with size 3.2 MiB\n",
      "24/06/06 00:38:09 WARN DAGScheduler: Broadcasting large task binary with size 3.2 MiB\n",
      "24/06/06 00:38:09 WARN DAGScheduler: Broadcasting large task binary with size 3.2 MiB\n",
      "24/06/06 00:38:09 WARN DAGScheduler: Broadcasting large task binary with size 3.2 MiB\n",
      "24/06/06 00:38:10 WARN DAGScheduler: Broadcasting large task binary with size 3.2 MiB\n",
      "24/06/06 00:38:10 WARN OnlineLDAOptimizer: The input data is not directly cached, which may hurt performance if its parent RDDs are also uncached.\n",
      "24/06/06 00:38:10 WARN DAGScheduler: Broadcasting large task binary with size 3.2 MiB\n",
      "24/06/06 00:38:10 WARN DAGScheduler: Broadcasting large task binary with size 3.2 MiB\n",
      "24/06/06 00:38:10 WARN DAGScheduler: Broadcasting large task binary with size 3.2 MiB\n",
      "24/06/06 00:38:10 WARN DAGScheduler: Broadcasting large task binary with size 3.2 MiB\n",
      "24/06/06 00:38:11 WARN DAGScheduler: Broadcasting large task binary with size 3.2 MiB\n",
      "24/06/06 00:38:11 WARN DAGScheduler: Broadcasting large task binary with size 3.2 MiB\n",
      "24/06/06 00:38:11 WARN DAGScheduler: Broadcasting large task binary with size 3.2 MiB\n",
      "24/06/06 00:38:11 WARN DAGScheduler: Broadcasting large task binary with size 3.2 MiB\n",
      "24/06/06 00:38:12 WARN DAGScheduler: Broadcasting large task binary with size 3.2 MiB\n",
      "24/06/06 00:38:12 WARN DAGScheduler: Broadcasting large task binary with size 3.2 MiB\n",
      "24/06/06 00:38:12 WARN DAGScheduler: Broadcasting large task binary with size 3.2 MiB\n",
      "24/06/06 00:38:13 WARN DAGScheduler: Broadcasting large task binary with size 3.2 MiB\n",
      "24/06/06 00:38:13 WARN DAGScheduler: Broadcasting large task binary with size 3.2 MiB\n",
      "24/06/06 00:38:13 WARN DAGScheduler: Broadcasting large task binary with size 3.2 MiB\n",
      "24/06/06 00:38:13 WARN DAGScheduler: Broadcasting large task binary with size 3.2 MiB\n"
     ]
    },
    {
     "ename": "IllegalArgumentException",
     "evalue": "prediction does not exist. Available: category_label, description_filtered, raw_features, features, CrossValidator_ffc12df31bb4_rand, topicDistribution",
     "output_type": "error",
     "traceback": [
      "\u001b[0;31m---------------------------------------------------------------------------\u001b[0m",
      "\u001b[0;31mIllegalArgumentException\u001b[0m                  Traceback (most recent call last)",
      "Input \u001b[0;32mIn [88]\u001b[0m, in \u001b[0;36m<module>\u001b[0;34m\u001b[0m\n\u001b[0;32m----> 1\u001b[0m results \u001b[38;5;241m=\u001b[39m \u001b[43mtrain_and_evaluate_model\u001b[49m\u001b[43m(\u001b[49m\u001b[43mpipeline\u001b[49m\u001b[43m)\u001b[49m\n",
      "Input \u001b[0;32mIn [87]\u001b[0m, in \u001b[0;36mtrain_and_evaluate_model\u001b[0;34m(model_pipeline, model_name)\u001b[0m\n\u001b[1;32m      4\u001b[0m \u001b[38;5;28mprint\u001b[39m(\u001b[38;5;124mf\u001b[39m\u001b[38;5;124m\"\u001b[39m\u001b[38;5;124mTraining \u001b[39m\u001b[38;5;132;01m{model_name}\u001b[39;00m\u001b[38;5;124m model\u001b[39m\u001b[38;5;124m\"\u001b[39m)\n\u001b[1;32m      6\u001b[0m \u001b[38;5;66m# Fit the model pipeline to the training set\u001b[39m\n\u001b[1;32m      7\u001b[0m \u001b[38;5;66m#fitted_model = model_pipeline.fit(train_set)\u001b[39m\n\u001b[0;32m----> 8\u001b[0m fitted_model \u001b[38;5;241m=\u001b[39m \u001b[43mtrain_model\u001b[49m\u001b[43m(\u001b[49m\u001b[43mmodel_pipeline\u001b[49m\u001b[43m)\u001b[49m\n\u001b[1;32m     10\u001b[0m \u001b[38;5;28mprint\u001b[39m(\u001b[38;5;124m\"\u001b[39m\u001b[38;5;124mDone\u001b[39m\u001b[38;5;124m\"\u001b[39m)\n\u001b[1;32m     11\u001b[0m \u001b[38;5;28mprint\u001b[39m(\u001b[38;5;124mf\u001b[39m\u001b[38;5;124m\"\u001b[39m\u001b[38;5;124mEvaluating \u001b[39m\u001b[38;5;132;01m{model_name}\u001b[39;00m\u001b[38;5;124m model\u001b[39m\u001b[38;5;124m\"\u001b[39m)\n",
      "Input \u001b[0;32mIn [78]\u001b[0m, in \u001b[0;36mtrain_model\u001b[0;34m(model)\u001b[0m\n\u001b[1;32m      1\u001b[0m \u001b[38;5;28;01mdef\u001b[39;00m \u001b[38;5;21mtrain_model\u001b[39m(model):    \n\u001b[0;32m----> 2\u001b[0m     \u001b[38;5;28;01mreturn\u001b[39;00m \u001b[43mmodel\u001b[49m\u001b[38;5;241;43m.\u001b[39;49m\u001b[43mfit\u001b[49m\u001b[43m(\u001b[49m\u001b[43mtrain_set\u001b[49m\u001b[43m)\u001b[49m\n",
      "File \u001b[0;32m~/.local/lib/python3.8/site-packages/pyspark/ml/base.py:205\u001b[0m, in \u001b[0;36mEstimator.fit\u001b[0;34m(self, dataset, params)\u001b[0m\n\u001b[1;32m    203\u001b[0m         \u001b[38;5;28;01mreturn\u001b[39;00m \u001b[38;5;28mself\u001b[39m\u001b[38;5;241m.\u001b[39mcopy(params)\u001b[38;5;241m.\u001b[39m_fit(dataset)\n\u001b[1;32m    204\u001b[0m     \u001b[38;5;28;01melse\u001b[39;00m:\n\u001b[0;32m--> 205\u001b[0m         \u001b[38;5;28;01mreturn\u001b[39;00m \u001b[38;5;28;43mself\u001b[39;49m\u001b[38;5;241;43m.\u001b[39;49m\u001b[43m_fit\u001b[49m\u001b[43m(\u001b[49m\u001b[43mdataset\u001b[49m\u001b[43m)\u001b[49m\n\u001b[1;32m    206\u001b[0m \u001b[38;5;28;01melse\u001b[39;00m:\n\u001b[1;32m    207\u001b[0m     \u001b[38;5;28;01mraise\u001b[39;00m \u001b[38;5;167;01mTypeError\u001b[39;00m(\n\u001b[1;32m    208\u001b[0m         \u001b[38;5;124m\"\u001b[39m\u001b[38;5;124mParams must be either a param map or a list/tuple of param maps, \u001b[39m\u001b[38;5;124m\"\u001b[39m\n\u001b[1;32m    209\u001b[0m         \u001b[38;5;124m\"\u001b[39m\u001b[38;5;124mbut got \u001b[39m\u001b[38;5;132;01m%s\u001b[39;00m\u001b[38;5;124m.\u001b[39m\u001b[38;5;124m\"\u001b[39m \u001b[38;5;241m%\u001b[39m \u001b[38;5;28mtype\u001b[39m(params)\n\u001b[1;32m    210\u001b[0m     )\n",
      "File \u001b[0;32m~/.local/lib/python3.8/site-packages/pyspark/ml/pipeline.py:134\u001b[0m, in \u001b[0;36mPipeline._fit\u001b[0;34m(self, dataset)\u001b[0m\n\u001b[1;32m    132\u001b[0m     dataset \u001b[38;5;241m=\u001b[39m stage\u001b[38;5;241m.\u001b[39mtransform(dataset)\n\u001b[1;32m    133\u001b[0m \u001b[38;5;28;01melse\u001b[39;00m:  \u001b[38;5;66m# must be an Estimator\u001b[39m\n\u001b[0;32m--> 134\u001b[0m     model \u001b[38;5;241m=\u001b[39m \u001b[43mstage\u001b[49m\u001b[38;5;241;43m.\u001b[39;49m\u001b[43mfit\u001b[49m\u001b[43m(\u001b[49m\u001b[43mdataset\u001b[49m\u001b[43m)\u001b[49m\n\u001b[1;32m    135\u001b[0m     transformers\u001b[38;5;241m.\u001b[39mappend(model)\n\u001b[1;32m    136\u001b[0m     \u001b[38;5;28;01mif\u001b[39;00m i \u001b[38;5;241m<\u001b[39m indexOfLastEstimator:\n",
      "File \u001b[0;32m~/.local/lib/python3.8/site-packages/pyspark/ml/base.py:205\u001b[0m, in \u001b[0;36mEstimator.fit\u001b[0;34m(self, dataset, params)\u001b[0m\n\u001b[1;32m    203\u001b[0m         \u001b[38;5;28;01mreturn\u001b[39;00m \u001b[38;5;28mself\u001b[39m\u001b[38;5;241m.\u001b[39mcopy(params)\u001b[38;5;241m.\u001b[39m_fit(dataset)\n\u001b[1;32m    204\u001b[0m     \u001b[38;5;28;01melse\u001b[39;00m:\n\u001b[0;32m--> 205\u001b[0m         \u001b[38;5;28;01mreturn\u001b[39;00m \u001b[38;5;28;43mself\u001b[39;49m\u001b[38;5;241;43m.\u001b[39;49m\u001b[43m_fit\u001b[49m\u001b[43m(\u001b[49m\u001b[43mdataset\u001b[49m\u001b[43m)\u001b[49m\n\u001b[1;32m    206\u001b[0m \u001b[38;5;28;01melse\u001b[39;00m:\n\u001b[1;32m    207\u001b[0m     \u001b[38;5;28;01mraise\u001b[39;00m \u001b[38;5;167;01mTypeError\u001b[39;00m(\n\u001b[1;32m    208\u001b[0m         \u001b[38;5;124m\"\u001b[39m\u001b[38;5;124mParams must be either a param map or a list/tuple of param maps, \u001b[39m\u001b[38;5;124m\"\u001b[39m\n\u001b[1;32m    209\u001b[0m         \u001b[38;5;124m\"\u001b[39m\u001b[38;5;124mbut got \u001b[39m\u001b[38;5;132;01m%s\u001b[39;00m\u001b[38;5;124m.\u001b[39m\u001b[38;5;124m\"\u001b[39m \u001b[38;5;241m%\u001b[39m \u001b[38;5;28mtype\u001b[39m(params)\n\u001b[1;32m    210\u001b[0m     )\n",
      "File \u001b[0;32m~/.local/lib/python3.8/site-packages/pyspark/ml/tuning.py:847\u001b[0m, in \u001b[0;36mCrossValidator._fit\u001b[0;34m(self, dataset)\u001b[0m\n\u001b[1;32m    841\u001b[0m train \u001b[38;5;241m=\u001b[39m datasets[i][\u001b[38;5;241m0\u001b[39m]\u001b[38;5;241m.\u001b[39mcache()\n\u001b[1;32m    843\u001b[0m tasks \u001b[38;5;241m=\u001b[39m \u001b[38;5;28mmap\u001b[39m(\n\u001b[1;32m    844\u001b[0m     inheritable_thread_target,\n\u001b[1;32m    845\u001b[0m     _parallelFitTasks(est, train, eva, validation, epm, collectSubModelsParam),\n\u001b[1;32m    846\u001b[0m )\n\u001b[0;32m--> 847\u001b[0m \u001b[38;5;28;01mfor\u001b[39;00m j, metric, subModel \u001b[38;5;129;01min\u001b[39;00m pool\u001b[38;5;241m.\u001b[39mimap_unordered(\u001b[38;5;28;01mlambda\u001b[39;00m f: f(), tasks):\n\u001b[1;32m    848\u001b[0m     metrics_all[i][j] \u001b[38;5;241m=\u001b[39m metric\n\u001b[1;32m    849\u001b[0m     \u001b[38;5;28;01mif\u001b[39;00m collectSubModelsParam:\n",
      "File \u001b[0;32m/home/team1337/.local/easybuild_new/software/Python/3.8.2-GCCcore-9.3.0/lib/python3.8/multiprocessing/pool.py:865\u001b[0m, in \u001b[0;36mIMapIterator.next\u001b[0;34m(self, timeout)\u001b[0m\n\u001b[1;32m    863\u001b[0m \u001b[38;5;28;01mif\u001b[39;00m success:\n\u001b[1;32m    864\u001b[0m     \u001b[38;5;28;01mreturn\u001b[39;00m value\n\u001b[0;32m--> 865\u001b[0m \u001b[38;5;28;01mraise\u001b[39;00m value\n",
      "File \u001b[0;32m/home/team1337/.local/easybuild_new/software/Python/3.8.2-GCCcore-9.3.0/lib/python3.8/multiprocessing/pool.py:125\u001b[0m, in \u001b[0;36mworker\u001b[0;34m(inqueue, outqueue, initializer, initargs, maxtasks, wrap_exception)\u001b[0m\n\u001b[1;32m    123\u001b[0m job, i, func, args, kwds \u001b[38;5;241m=\u001b[39m task\n\u001b[1;32m    124\u001b[0m \u001b[38;5;28;01mtry\u001b[39;00m:\n\u001b[0;32m--> 125\u001b[0m     result \u001b[38;5;241m=\u001b[39m (\u001b[38;5;28;01mTrue\u001b[39;00m, \u001b[43mfunc\u001b[49m\u001b[43m(\u001b[49m\u001b[38;5;241;43m*\u001b[39;49m\u001b[43margs\u001b[49m\u001b[43m,\u001b[49m\u001b[43m \u001b[49m\u001b[38;5;241;43m*\u001b[39;49m\u001b[38;5;241;43m*\u001b[39;49m\u001b[43mkwds\u001b[49m\u001b[43m)\u001b[49m)\n\u001b[1;32m    126\u001b[0m \u001b[38;5;28;01mexcept\u001b[39;00m \u001b[38;5;167;01mException\u001b[39;00m \u001b[38;5;28;01mas\u001b[39;00m e:\n\u001b[1;32m    127\u001b[0m     \u001b[38;5;28;01mif\u001b[39;00m wrap_exception \u001b[38;5;129;01mand\u001b[39;00m func \u001b[38;5;129;01mis\u001b[39;00m \u001b[38;5;129;01mnot\u001b[39;00m _helper_reraises_exception:\n",
      "File \u001b[0;32m~/.local/lib/python3.8/site-packages/pyspark/ml/tuning.py:847\u001b[0m, in \u001b[0;36mCrossValidator._fit.<locals>.<lambda>\u001b[0;34m(f)\u001b[0m\n\u001b[1;32m    841\u001b[0m train \u001b[38;5;241m=\u001b[39m datasets[i][\u001b[38;5;241m0\u001b[39m]\u001b[38;5;241m.\u001b[39mcache()\n\u001b[1;32m    843\u001b[0m tasks \u001b[38;5;241m=\u001b[39m \u001b[38;5;28mmap\u001b[39m(\n\u001b[1;32m    844\u001b[0m     inheritable_thread_target,\n\u001b[1;32m    845\u001b[0m     _parallelFitTasks(est, train, eva, validation, epm, collectSubModelsParam),\n\u001b[1;32m    846\u001b[0m )\n\u001b[0;32m--> 847\u001b[0m \u001b[38;5;28;01mfor\u001b[39;00m j, metric, subModel \u001b[38;5;129;01min\u001b[39;00m pool\u001b[38;5;241m.\u001b[39mimap_unordered(\u001b[38;5;28;01mlambda\u001b[39;00m f: \u001b[43mf\u001b[49m\u001b[43m(\u001b[49m\u001b[43m)\u001b[49m, tasks):\n\u001b[1;32m    848\u001b[0m     metrics_all[i][j] \u001b[38;5;241m=\u001b[39m metric\n\u001b[1;32m    849\u001b[0m     \u001b[38;5;28;01mif\u001b[39;00m collectSubModelsParam:\n",
      "File \u001b[0;32m~/.local/lib/python3.8/site-packages/pyspark/util.py:342\u001b[0m, in \u001b[0;36minheritable_thread_target.<locals>.wrapped\u001b[0;34m(*args, **kwargs)\u001b[0m\n\u001b[1;32m    340\u001b[0m \u001b[38;5;28;01massert\u001b[39;00m SparkContext\u001b[38;5;241m.\u001b[39m_active_spark_context \u001b[38;5;129;01mis\u001b[39;00m \u001b[38;5;129;01mnot\u001b[39;00m \u001b[38;5;28;01mNone\u001b[39;00m\n\u001b[1;32m    341\u001b[0m SparkContext\u001b[38;5;241m.\u001b[39m_active_spark_context\u001b[38;5;241m.\u001b[39m_jsc\u001b[38;5;241m.\u001b[39msc()\u001b[38;5;241m.\u001b[39msetLocalProperties(properties)\n\u001b[0;32m--> 342\u001b[0m \u001b[38;5;28;01mreturn\u001b[39;00m \u001b[43mf\u001b[49m\u001b[43m(\u001b[49m\u001b[38;5;241;43m*\u001b[39;49m\u001b[43margs\u001b[49m\u001b[43m,\u001b[49m\u001b[43m \u001b[49m\u001b[38;5;241;43m*\u001b[39;49m\u001b[38;5;241;43m*\u001b[39;49m\u001b[43mkwargs\u001b[49m\u001b[43m)\u001b[49m\n",
      "File \u001b[0;32m~/.local/lib/python3.8/site-packages/pyspark/ml/tuning.py:118\u001b[0m, in \u001b[0;36m_parallelFitTasks.<locals>.singleTask\u001b[0;34m()\u001b[0m\n\u001b[1;32m    113\u001b[0m index, model \u001b[38;5;241m=\u001b[39m \u001b[38;5;28mnext\u001b[39m(modelIter)\n\u001b[1;32m    114\u001b[0m \u001b[38;5;66m# TODO: duplicate evaluator to take extra params from input\u001b[39m\n\u001b[1;32m    115\u001b[0m \u001b[38;5;66m#  Note: Supporting tuning params in evaluator need update method\u001b[39m\n\u001b[1;32m    116\u001b[0m \u001b[38;5;66m#  `MetaAlgorithmReadWrite.getAllNestedStages`, make it return\u001b[39m\n\u001b[1;32m    117\u001b[0m \u001b[38;5;66m#  all nested stages and evaluators\u001b[39m\n\u001b[0;32m--> 118\u001b[0m metric \u001b[38;5;241m=\u001b[39m \u001b[43meva\u001b[49m\u001b[38;5;241;43m.\u001b[39;49m\u001b[43mevaluate\u001b[49m\u001b[43m(\u001b[49m\u001b[43mmodel\u001b[49m\u001b[38;5;241;43m.\u001b[39;49m\u001b[43mtransform\u001b[49m\u001b[43m(\u001b[49m\u001b[43mvalidation\u001b[49m\u001b[43m,\u001b[49m\u001b[43m \u001b[49m\u001b[43mepm\u001b[49m\u001b[43m[\u001b[49m\u001b[43mindex\u001b[49m\u001b[43m]\u001b[49m\u001b[43m)\u001b[49m\u001b[43m)\u001b[49m\n\u001b[1;32m    119\u001b[0m \u001b[38;5;28;01mreturn\u001b[39;00m index, metric, model \u001b[38;5;28;01mif\u001b[39;00m collectSubModel \u001b[38;5;28;01melse\u001b[39;00m \u001b[38;5;28;01mNone\u001b[39;00m\n",
      "File \u001b[0;32m~/.local/lib/python3.8/site-packages/pyspark/ml/evaluation.py:111\u001b[0m, in \u001b[0;36mEvaluator.evaluate\u001b[0;34m(self, dataset, params)\u001b[0m\n\u001b[1;32m    109\u001b[0m         \u001b[38;5;28;01mreturn\u001b[39;00m \u001b[38;5;28mself\u001b[39m\u001b[38;5;241m.\u001b[39mcopy(params)\u001b[38;5;241m.\u001b[39m_evaluate(dataset)\n\u001b[1;32m    110\u001b[0m     \u001b[38;5;28;01melse\u001b[39;00m:\n\u001b[0;32m--> 111\u001b[0m         \u001b[38;5;28;01mreturn\u001b[39;00m \u001b[38;5;28;43mself\u001b[39;49m\u001b[38;5;241;43m.\u001b[39;49m\u001b[43m_evaluate\u001b[49m\u001b[43m(\u001b[49m\u001b[43mdataset\u001b[49m\u001b[43m)\u001b[49m\n\u001b[1;32m    112\u001b[0m \u001b[38;5;28;01melse\u001b[39;00m:\n\u001b[1;32m    113\u001b[0m     \u001b[38;5;28;01mraise\u001b[39;00m \u001b[38;5;167;01mTypeError\u001b[39;00m(\u001b[38;5;124m\"\u001b[39m\u001b[38;5;124mParams must be a param map but got \u001b[39m\u001b[38;5;132;01m%s\u001b[39;00m\u001b[38;5;124m.\u001b[39m\u001b[38;5;124m\"\u001b[39m \u001b[38;5;241m%\u001b[39m \u001b[38;5;28mtype\u001b[39m(params))\n",
      "File \u001b[0;32m~/.local/lib/python3.8/site-packages/pyspark/ml/evaluation.py:148\u001b[0m, in \u001b[0;36mJavaEvaluator._evaluate\u001b[0;34m(self, dataset)\u001b[0m\n\u001b[1;32m    146\u001b[0m \u001b[38;5;28mself\u001b[39m\u001b[38;5;241m.\u001b[39m_transfer_params_to_java()\n\u001b[1;32m    147\u001b[0m \u001b[38;5;28;01massert\u001b[39;00m \u001b[38;5;28mself\u001b[39m\u001b[38;5;241m.\u001b[39m_java_obj \u001b[38;5;129;01mis\u001b[39;00m \u001b[38;5;129;01mnot\u001b[39;00m \u001b[38;5;28;01mNone\u001b[39;00m\n\u001b[0;32m--> 148\u001b[0m \u001b[38;5;28;01mreturn\u001b[39;00m \u001b[38;5;28;43mself\u001b[39;49m\u001b[38;5;241;43m.\u001b[39;49m\u001b[43m_java_obj\u001b[49m\u001b[38;5;241;43m.\u001b[39;49m\u001b[43mevaluate\u001b[49m\u001b[43m(\u001b[49m\u001b[43mdataset\u001b[49m\u001b[38;5;241;43m.\u001b[39;49m\u001b[43m_jdf\u001b[49m\u001b[43m)\u001b[49m\n",
      "File \u001b[0;32m~/.local/lib/python3.8/site-packages/py4j/java_gateway.py:1322\u001b[0m, in \u001b[0;36mJavaMember.__call__\u001b[0;34m(self, *args)\u001b[0m\n\u001b[1;32m   1316\u001b[0m command \u001b[38;5;241m=\u001b[39m proto\u001b[38;5;241m.\u001b[39mCALL_COMMAND_NAME \u001b[38;5;241m+\u001b[39m\\\n\u001b[1;32m   1317\u001b[0m     \u001b[38;5;28mself\u001b[39m\u001b[38;5;241m.\u001b[39mcommand_header \u001b[38;5;241m+\u001b[39m\\\n\u001b[1;32m   1318\u001b[0m     args_command \u001b[38;5;241m+\u001b[39m\\\n\u001b[1;32m   1319\u001b[0m     proto\u001b[38;5;241m.\u001b[39mEND_COMMAND_PART\n\u001b[1;32m   1321\u001b[0m answer \u001b[38;5;241m=\u001b[39m \u001b[38;5;28mself\u001b[39m\u001b[38;5;241m.\u001b[39mgateway_client\u001b[38;5;241m.\u001b[39msend_command(command)\n\u001b[0;32m-> 1322\u001b[0m return_value \u001b[38;5;241m=\u001b[39m \u001b[43mget_return_value\u001b[49m\u001b[43m(\u001b[49m\n\u001b[1;32m   1323\u001b[0m \u001b[43m    \u001b[49m\u001b[43manswer\u001b[49m\u001b[43m,\u001b[49m\u001b[43m \u001b[49m\u001b[38;5;28;43mself\u001b[39;49m\u001b[38;5;241;43m.\u001b[39;49m\u001b[43mgateway_client\u001b[49m\u001b[43m,\u001b[49m\u001b[43m \u001b[49m\u001b[38;5;28;43mself\u001b[39;49m\u001b[38;5;241;43m.\u001b[39;49m\u001b[43mtarget_id\u001b[49m\u001b[43m,\u001b[49m\u001b[43m \u001b[49m\u001b[38;5;28;43mself\u001b[39;49m\u001b[38;5;241;43m.\u001b[39;49m\u001b[43mname\u001b[49m\u001b[43m)\u001b[49m\n\u001b[1;32m   1325\u001b[0m \u001b[38;5;28;01mfor\u001b[39;00m temp_arg \u001b[38;5;129;01min\u001b[39;00m temp_args:\n\u001b[1;32m   1326\u001b[0m     \u001b[38;5;28;01mif\u001b[39;00m \u001b[38;5;28mhasattr\u001b[39m(temp_arg, \u001b[38;5;124m\"\u001b[39m\u001b[38;5;124m_detach\u001b[39m\u001b[38;5;124m\"\u001b[39m):\n",
      "File \u001b[0;32m~/.local/lib/python3.8/site-packages/pyspark/errors/exceptions/captured.py:185\u001b[0m, in \u001b[0;36mcapture_sql_exception.<locals>.deco\u001b[0;34m(*a, **kw)\u001b[0m\n\u001b[1;32m    181\u001b[0m converted \u001b[38;5;241m=\u001b[39m convert_exception(e\u001b[38;5;241m.\u001b[39mjava_exception)\n\u001b[1;32m    182\u001b[0m \u001b[38;5;28;01mif\u001b[39;00m \u001b[38;5;129;01mnot\u001b[39;00m \u001b[38;5;28misinstance\u001b[39m(converted, UnknownException):\n\u001b[1;32m    183\u001b[0m     \u001b[38;5;66m# Hide where the exception came from that shows a non-Pythonic\u001b[39m\n\u001b[1;32m    184\u001b[0m     \u001b[38;5;66m# JVM exception message.\u001b[39m\n\u001b[0;32m--> 185\u001b[0m     \u001b[38;5;28;01mraise\u001b[39;00m converted \u001b[38;5;28;01mfrom\u001b[39;00m \u001b[38;5;28mNone\u001b[39m\n\u001b[1;32m    186\u001b[0m \u001b[38;5;28;01melse\u001b[39;00m:\n\u001b[1;32m    187\u001b[0m     \u001b[38;5;28;01mraise\u001b[39;00m\n",
      "\u001b[0;31mIllegalArgumentException\u001b[0m: prediction does not exist. Available: category_label, description_filtered, raw_features, features, CrossValidator_ffc12df31bb4_rand, topicDistribution"
     ]
    },
    {
     "name": "stderr",
     "output_type": "stream",
     "text": [
      "24/06/06 00:38:14 WARN DAGScheduler: Broadcasting large task binary with size 3.2 MiB\n",
      "24/06/06 00:38:14 WARN DAGScheduler: Broadcasting large task binary with size 3.2 MiB\n",
      "24/06/06 00:38:14 WARN DAGScheduler: Broadcasting large task binary with size 3.2 MiB\n",
      "24/06/06 00:38:14 WARN DAGScheduler: Broadcasting large task binary with size 3.2 MiB\n",
      "24/06/06 00:38:14 WARN OnlineLDAOptimizer: The input data is not directly cached, which may hurt performance if its parent RDDs are also uncached.\n",
      "24/06/06 00:38:14 WARN DAGScheduler: Broadcasting large task binary with size 3.2 MiB\n",
      "24/06/06 00:38:14 WARN DAGScheduler: Broadcasting large task binary with size 3.2 MiB\n",
      "24/06/06 00:38:15 WARN DAGScheduler: Broadcasting large task binary with size 3.2 MiB\n",
      "24/06/06 00:38:15 WARN DAGScheduler: Broadcasting large task binary with size 3.2 MiB\n",
      "24/06/06 00:38:15 WARN DAGScheduler: Broadcasting large task binary with size 3.2 MiB\n",
      "24/06/06 00:38:15 WARN DAGScheduler: Broadcasting large task binary with size 3.2 MiB\n",
      "24/06/06 00:38:16 WARN DAGScheduler: Broadcasting large task binary with size 3.2 MiB\n",
      "24/06/06 00:38:16 WARN DAGScheduler: Broadcasting large task binary with size 3.2 MiB\n",
      "24/06/06 00:38:16 WARN DAGScheduler: Broadcasting large task binary with size 3.2 MiB\n",
      "24/06/06 00:38:16 WARN DAGScheduler: Broadcasting large task binary with size 3.2 MiB\n",
      "24/06/06 00:38:16 WARN DAGScheduler: Broadcasting large task binary with size 3.2 MiB\n",
      "24/06/06 00:38:17 WARN DAGScheduler: Broadcasting large task binary with size 3.2 MiB\n",
      "24/06/06 00:38:17 WARN DAGScheduler: Broadcasting large task binary with size 3.2 MiB\n",
      "24/06/06 00:38:17 WARN DAGScheduler: Broadcasting large task binary with size 3.2 MiB\n",
      "24/06/06 00:38:18 WARN DAGScheduler: Broadcasting large task binary with size 3.2 MiB\n",
      "24/06/06 00:38:18 WARN DAGScheduler: Broadcasting large task binary with size 3.2 MiB\n",
      "24/06/06 00:38:18 WARN DAGScheduler: Broadcasting large task binary with size 3.2 MiB\n",
      "24/06/06 00:38:18 WARN DAGScheduler: Broadcasting large task binary with size 3.2 MiB\n",
      "24/06/06 00:38:18 WARN DAGScheduler: Broadcasting large task binary with size 3.2 MiB\n",
      "24/06/06 00:38:18 WARN DAGScheduler: Broadcasting large task binary with size 3.2 MiB\n",
      "24/06/06 00:38:19 WARN DAGScheduler: Broadcasting large task binary with size 3.2 MiB\n",
      "24/06/06 00:38:19 WARN DAGScheduler: Broadcasting large task binary with size 3.2 MiB\n",
      "24/06/06 00:38:19 WARN DAGScheduler: Broadcasting large task binary with size 3.2 MiB\n",
      "24/06/06 00:38:20 WARN DAGScheduler: Broadcasting large task binary with size 3.2 MiB\n",
      "24/06/06 00:38:20 WARN DAGScheduler: Broadcasting large task binary with size 3.2 MiB\n",
      "24/06/06 00:38:20 WARN DAGScheduler: Broadcasting large task binary with size 3.2 MiB\n",
      "24/06/06 00:38:20 WARN DAGScheduler: Broadcasting large task binary with size 3.2 MiB\n",
      "24/06/06 00:38:20 WARN DAGScheduler: Broadcasting large task binary with size 3.2 MiB\n",
      "24/06/06 00:38:21 WARN DAGScheduler: Broadcasting large task binary with size 3.2 MiB\n",
      "24/06/06 00:38:21 WARN DAGScheduler: Broadcasting large task binary with size 3.2 MiB\n",
      "24/06/06 00:38:21 WARN DAGScheduler: Broadcasting large task binary with size 3.2 MiB\n",
      "24/06/06 00:38:21 WARN DAGScheduler: Broadcasting large task binary with size 3.2 MiB\n",
      "24/06/06 00:38:22 WARN DAGScheduler: Broadcasting large task binary with size 3.2 MiB\n",
      "24/06/06 00:38:22 WARN DAGScheduler: Broadcasting large task binary with size 3.2 MiB\n",
      "24/06/06 00:38:22 WARN DAGScheduler: Broadcasting large task binary with size 3.2 MiB\n",
      "24/06/06 00:38:22 WARN DAGScheduler: Broadcasting large task binary with size 3.2 MiB\n",
      "24/06/06 00:38:23 WARN DAGScheduler: Broadcasting large task binary with size 3.2 MiB\n",
      "24/06/06 00:38:23 WARN DAGScheduler: Broadcasting large task binary with size 3.2 MiB\n",
      "24/06/06 00:38:23 WARN OnlineLDAOptimizer: The input data is not directly cached, which may hurt performance if its parent RDDs are also uncached.\n",
      "24/06/06 00:38:23 WARN DAGScheduler: Broadcasting large task binary with size 3.2 MiB\n",
      "24/06/06 00:38:23 WARN DAGScheduler: Broadcasting large task binary with size 3.2 MiB\n",
      "24/06/06 00:38:23 WARN DAGScheduler: Broadcasting large task binary with size 3.2 MiB\n",
      "24/06/06 00:38:24 WARN DAGScheduler: Broadcasting large task binary with size 3.2 MiB\n",
      "24/06/06 00:38:24 WARN DAGScheduler: Broadcasting large task binary with size 3.2 MiB\n",
      "24/06/06 00:38:24 WARN DAGScheduler: Broadcasting large task binary with size 3.2 MiB\n",
      "24/06/06 00:38:24 WARN DAGScheduler: Broadcasting large task binary with size 3.2 MiB\n",
      "24/06/06 00:38:25 WARN DAGScheduler: Broadcasting large task binary with size 3.2 MiB\n",
      "24/06/06 00:38:25 WARN DAGScheduler: Broadcasting large task binary with size 3.2 MiB\n",
      "24/06/06 00:38:25 WARN DAGScheduler: Broadcasting large task binary with size 3.2 MiB\n",
      "24/06/06 00:38:25 WARN DAGScheduler: Broadcasting large task binary with size 3.2 MiB\n",
      "24/06/06 00:38:25 WARN DAGScheduler: Broadcasting large task binary with size 3.2 MiB\n",
      "24/06/06 00:38:25 WARN DAGScheduler: Broadcasting large task binary with size 3.2 MiB\n",
      "24/06/06 00:38:26 WARN DAGScheduler: Broadcasting large task binary with size 3.2 MiB\n",
      "24/06/06 00:38:26 WARN DAGScheduler: Broadcasting large task binary with size 3.2 MiB\n",
      "24/06/06 00:38:26 WARN DAGScheduler: Broadcasting large task binary with size 3.2 MiB\n",
      "24/06/06 00:38:26 WARN DAGScheduler: Broadcasting large task binary with size 3.2 MiB\n",
      "24/06/06 00:38:27 WARN DAGScheduler: Broadcasting large task binary with size 3.2 MiB\n",
      "24/06/06 00:38:27 WARN DAGScheduler: Broadcasting large task binary with size 3.2 MiB\n",
      "24/06/06 00:38:27 WARN DAGScheduler: Broadcasting large task binary with size 3.2 MiB\n",
      "24/06/06 00:38:27 WARN DAGScheduler: Broadcasting large task binary with size 3.2 MiB\n",
      "24/06/06 00:38:27 WARN DAGScheduler: Broadcasting large task binary with size 3.2 MiB\n",
      "24/06/06 00:38:28 WARN DAGScheduler: Broadcasting large task binary with size 3.2 MiB\n",
      "24/06/06 00:38:28 WARN DAGScheduler: Broadcasting large task binary with size 3.2 MiB\n",
      "24/06/06 00:38:28 WARN DAGScheduler: Broadcasting large task binary with size 3.2 MiB\n",
      "24/06/06 00:38:28 WARN DAGScheduler: Broadcasting large task binary with size 3.2 MiB\n",
      "24/06/06 00:38:29 WARN DAGScheduler: Broadcasting large task binary with size 3.2 MiB\n",
      "24/06/06 00:38:29 WARN DAGScheduler: Broadcasting large task binary with size 3.2 MiB\n",
      "24/06/06 00:38:29 WARN DAGScheduler: Broadcasting large task binary with size 3.2 MiB\n",
      "24/06/06 00:38:29 WARN DAGScheduler: Broadcasting large task binary with size 3.2 MiB\n",
      "24/06/06 00:38:29 WARN DAGScheduler: Broadcasting large task binary with size 3.2 MiB\n",
      "24/06/06 00:38:30 WARN DAGScheduler: Broadcasting large task binary with size 3.2 MiB\n",
      "24/06/06 00:38:30 WARN DAGScheduler: Broadcasting large task binary with size 3.2 MiB\n",
      "24/06/06 00:38:30 WARN DAGScheduler: Broadcasting large task binary with size 3.2 MiB\n",
      "24/06/06 00:38:30 WARN DAGScheduler: Broadcasting large task binary with size 3.2 MiB\n",
      "24/06/06 00:38:31 WARN DAGScheduler: Broadcasting large task binary with size 3.2 MiB\n",
      "24/06/06 00:38:31 WARN DAGScheduler: Broadcasting large task binary with size 3.2 MiB\n",
      "24/06/06 00:38:31 WARN DAGScheduler: Broadcasting large task binary with size 3.2 MiB\n",
      "24/06/06 00:38:31 WARN DAGScheduler: Broadcasting large task binary with size 3.2 MiB\n",
      "24/06/06 00:38:31 WARN DAGScheduler: Broadcasting large task binary with size 3.2 MiB\n",
      "24/06/06 00:38:32 WARN DAGScheduler: Broadcasting large task binary with size 3.2 MiB\n",
      "24/06/06 00:38:32 WARN DAGScheduler: Broadcasting large task binary with size 3.2 MiB\n",
      "24/06/06 00:38:32 WARN DAGScheduler: Broadcasting large task binary with size 3.2 MiB\n",
      "24/06/06 00:38:33 WARN DAGScheduler: Broadcasting large task binary with size 3.2 MiB\n",
      "24/06/06 00:38:33 WARN DAGScheduler: Broadcasting large task binary with size 3.2 MiB\n",
      "24/06/06 00:38:33 WARN DAGScheduler: Broadcasting large task binary with size 3.2 MiB\n",
      "24/06/06 00:38:33 WARN DAGScheduler: Broadcasting large task binary with size 3.2 MiB\n",
      "24/06/06 00:38:33 WARN DAGScheduler: Broadcasting large task binary with size 3.2 MiB\n",
      "24/06/06 00:38:33 WARN DAGScheduler: Broadcasting large task binary with size 3.2 MiB\n",
      "24/06/06 00:38:34 WARN DAGScheduler: Broadcasting large task binary with size 3.2 MiB\n",
      "24/06/06 00:38:34 WARN OnlineLDAOptimizer: The input data is not directly cached, which may hurt performance if its parent RDDs are also uncached.\n"
     ]
    },
    {
     "name": "stderr",
     "output_type": "stream",
     "text": [
      "24/06/06 00:38:34 WARN DAGScheduler: Broadcasting large task binary with size 3.2 MiB\n",
      "24/06/06 00:38:34 WARN DAGScheduler: Broadcasting large task binary with size 3.2 MiB\n",
      "24/06/06 00:38:34 WARN DAGScheduler: Broadcasting large task binary with size 3.2 MiB\n",
      "24/06/06 00:38:35 WARN DAGScheduler: Broadcasting large task binary with size 3.2 MiB\n",
      "24/06/06 00:38:35 WARN DAGScheduler: Broadcasting large task binary with size 3.2 MiB\n",
      "24/06/06 00:38:35 WARN DAGScheduler: Broadcasting large task binary with size 3.2 MiB\n",
      "24/06/06 00:38:35 WARN DAGScheduler: Broadcasting large task binary with size 3.2 MiB\n",
      "24/06/06 00:38:36 WARN DAGScheduler: Broadcasting large task binary with size 3.2 MiB\n",
      "24/06/06 00:38:36 WARN DAGScheduler: Broadcasting large task binary with size 3.2 MiB\n",
      "24/06/06 00:38:36 WARN DAGScheduler: Broadcasting large task binary with size 3.2 MiB\n",
      "24/06/06 00:38:36 WARN DAGScheduler: Broadcasting large task binary with size 3.2 MiB\n",
      "24/06/06 00:38:37 WARN DAGScheduler: Broadcasting large task binary with size 3.2 MiB\n",
      "24/06/06 00:38:37 WARN DAGScheduler: Broadcasting large task binary with size 3.2 MiB\n",
      "24/06/06 00:38:37 WARN DAGScheduler: Broadcasting large task binary with size 3.2 MiB\n",
      "24/06/06 00:38:37 WARN DAGScheduler: Broadcasting large task binary with size 3.2 MiB\n",
      "24/06/06 00:38:37 WARN DAGScheduler: Broadcasting large task binary with size 3.2 MiB\n",
      "24/06/06 00:38:37 WARN DAGScheduler: Broadcasting large task binary with size 3.2 MiB\n",
      "24/06/06 00:38:38 WARN DAGScheduler: Broadcasting large task binary with size 3.2 MiB\n",
      "24/06/06 00:38:38 WARN DAGScheduler: Broadcasting large task binary with size 3.2 MiB\n",
      "24/06/06 00:38:38 WARN DAGScheduler: Broadcasting large task binary with size 3.2 MiB\n",
      "24/06/06 00:38:39 WARN DAGScheduler: Broadcasting large task binary with size 3.2 MiB\n",
      "24/06/06 00:38:39 WARN DAGScheduler: Broadcasting large task binary with size 3.2 MiB\n",
      "24/06/06 00:38:39 WARN DAGScheduler: Broadcasting large task binary with size 3.2 MiB\n",
      "24/06/06 00:38:39 WARN DAGScheduler: Broadcasting large task binary with size 3.2 MiB\n",
      "24/06/06 00:38:39 WARN DAGScheduler: Broadcasting large task binary with size 3.2 MiB\n",
      "24/06/06 00:38:39 WARN DAGScheduler: Broadcasting large task binary with size 3.2 MiB\n",
      "24/06/06 00:38:40 WARN DAGScheduler: Broadcasting large task binary with size 3.2 MiB\n",
      "24/06/06 00:38:40 WARN DAGScheduler: Broadcasting large task binary with size 3.2 MiB\n",
      "24/06/06 00:38:40 WARN DAGScheduler: Broadcasting large task binary with size 3.2 MiB\n",
      "24/06/06 00:38:41 WARN DAGScheduler: Broadcasting large task binary with size 3.2 MiB\n",
      "24/06/06 00:38:41 WARN DAGScheduler: Broadcasting large task binary with size 3.2 MiB\n",
      "24/06/06 00:38:41 WARN DAGScheduler: Broadcasting large task binary with size 3.2 MiB\n",
      "24/06/06 00:38:41 WARN DAGScheduler: Broadcasting large task binary with size 3.2 MiB\n",
      "24/06/06 00:38:41 WARN DAGScheduler: Broadcasting large task binary with size 3.2 MiB\n",
      "24/06/06 00:38:41 WARN DAGScheduler: Broadcasting large task binary with size 3.2 MiB\n",
      "24/06/06 00:38:42 WARN DAGScheduler: Broadcasting large task binary with size 3.2 MiB\n",
      "24/06/06 00:38:42 WARN DAGScheduler: Broadcasting large task binary with size 3.2 MiB\n",
      "24/06/06 00:38:42 WARN DAGScheduler: Broadcasting large task binary with size 3.2 MiB\n",
      "24/06/06 00:38:42 WARN DAGScheduler: Broadcasting large task binary with size 3.2 MiB\n",
      "24/06/06 00:38:43 WARN DAGScheduler: Broadcasting large task binary with size 3.2 MiB\n",
      "24/06/06 00:38:43 WARN DAGScheduler: Broadcasting large task binary with size 3.2 MiB\n",
      "24/06/06 00:38:43 WARN DAGScheduler: Broadcasting large task binary with size 3.2 MiB\n",
      "24/06/06 00:38:43 WARN DAGScheduler: Broadcasting large task binary with size 3.2 MiB\n",
      "24/06/06 00:38:43 WARN DAGScheduler: Broadcasting large task binary with size 3.2 MiB\n",
      "24/06/06 00:38:44 WARN DAGScheduler: Broadcasting large task binary with size 3.2 MiB\n",
      "24/06/06 00:38:44 WARN DAGScheduler: Broadcasting large task binary with size 3.2 MiB\n",
      "24/06/06 00:38:44 WARN DAGScheduler: Broadcasting large task binary with size 3.2 MiB\n",
      "24/06/06 00:38:45 WARN DAGScheduler: Broadcasting large task binary with size 3.2 MiB\n",
      "24/06/06 00:38:45 WARN DAGScheduler: Broadcasting large task binary with size 3.2 MiB\n",
      "24/06/06 00:38:45 WARN DAGScheduler: Broadcasting large task binary with size 3.2 MiB\n",
      "24/06/06 00:38:45 WARN DAGScheduler: Broadcasting large task binary with size 3.2 MiB\n",
      "24/06/06 00:38:45 WARN DAGScheduler: Broadcasting large task binary with size 3.2 MiB\n",
      "24/06/06 00:38:46 WARN DAGScheduler: Broadcasting large task binary with size 3.2 MiB\n",
      "24/06/06 00:38:46 WARN DAGScheduler: Broadcasting large task binary with size 3.2 MiB\n",
      "24/06/06 00:38:46 WARN DAGScheduler: Broadcasting large task binary with size 3.2 MiB\n",
      "24/06/06 00:38:46 WARN DAGScheduler: Broadcasting large task binary with size 3.2 MiB\n",
      "24/06/06 00:38:47 WARN DAGScheduler: Broadcasting large task binary with size 3.2 MiB\n",
      "24/06/06 00:38:47 WARN DAGScheduler: Broadcasting large task binary with size 3.2 MiB\n",
      "24/06/06 00:38:47 WARN DAGScheduler: Broadcasting large task binary with size 3.2 MiB\n",
      "24/06/06 00:38:47 WARN DAGScheduler: Broadcasting large task binary with size 3.2 MiB\n",
      "24/06/06 00:38:47 WARN DAGScheduler: Broadcasting large task binary with size 3.2 MiB\n",
      "24/06/06 00:38:48 WARN DAGScheduler: Broadcasting large task binary with size 3.2 MiB\n",
      "24/06/06 00:38:48 WARN DAGScheduler: Broadcasting large task binary with size 3.2 MiB\n",
      "24/06/06 00:38:48 WARN DAGScheduler: Broadcasting large task binary with size 3.2 MiB\n",
      "24/06/06 00:38:48 WARN DAGScheduler: Broadcasting large task binary with size 3.2 MiB\n",
      "24/06/06 00:38:48 WARN DAGScheduler: Broadcasting large task binary with size 3.2 MiB\n",
      "24/06/06 00:38:48 WARN DAGScheduler: Broadcasting large task binary with size 3.2 MiB\n",
      "24/06/06 00:38:49 WARN DAGScheduler: Broadcasting large task binary with size 3.2 MiB\n",
      "24/06/06 00:38:49 WARN DAGScheduler: Broadcasting large task binary with size 3.2 MiB\n",
      "24/06/06 00:38:49 WARN DAGScheduler: Broadcasting large task binary with size 3.2 MiB\n",
      "24/06/06 00:38:49 WARN DAGScheduler: Broadcasting large task binary with size 3.2 MiB\n",
      "24/06/06 00:38:50 WARN DAGScheduler: Broadcasting large task binary with size 3.2 MiB\n",
      "24/06/06 00:38:50 WARN DAGScheduler: Broadcasting large task binary with size 3.2 MiB\n",
      "24/06/06 00:38:50 WARN DAGScheduler: Broadcasting large task binary with size 3.2 MiB\n",
      "24/06/06 00:38:50 WARN DAGScheduler: Broadcasting large task binary with size 3.2 MiB\n",
      "24/06/06 00:38:51 WARN DAGScheduler: Broadcasting large task binary with size 3.2 MiB\n",
      "24/06/06 00:38:51 WARN DAGScheduler: Broadcasting large task binary with size 3.2 MiB\n",
      "24/06/06 00:38:51 WARN DAGScheduler: Broadcasting large task binary with size 3.2 MiB\n",
      "24/06/06 00:38:51 WARN DAGScheduler: Broadcasting large task binary with size 3.2 MiB\n",
      "24/06/06 00:38:51 WARN DAGScheduler: Broadcasting large task binary with size 3.2 MiB\n",
      "24/06/06 00:38:51 WARN DAGScheduler: Broadcasting large task binary with size 3.2 MiB\n",
      "24/06/06 00:38:52 WARN DAGScheduler: Broadcasting large task binary with size 3.2 MiB\n",
      "24/06/06 00:38:52 WARN DAGScheduler: Broadcasting large task binary with size 3.2 MiB\n",
      "24/06/06 00:38:52 WARN DAGScheduler: Broadcasting large task binary with size 3.2 MiB\n",
      "24/06/06 00:38:52 WARN DAGScheduler: Broadcasting large task binary with size 3.2 MiB\n",
      "24/06/06 00:38:53 WARN DAGScheduler: Broadcasting large task binary with size 3.2 MiB\n",
      "24/06/06 00:38:53 WARN DAGScheduler: Broadcasting large task binary with size 3.2 MiB\n",
      "24/06/06 00:38:53 WARN DAGScheduler: Broadcasting large task binary with size 3.2 MiB\n",
      "24/06/06 00:38:53 WARN DAGScheduler: Broadcasting large task binary with size 3.2 MiB\n",
      "24/06/06 00:38:53 WARN OnlineLDAOptimizer: The input data is not directly cached, which may hurt performance if its parent RDDs are also uncached.\n",
      "24/06/06 00:38:54 WARN DAGScheduler: Broadcasting large task binary with size 3.2 MiB\n",
      "24/06/06 00:38:54 WARN DAGScheduler: Broadcasting large task binary with size 3.2 MiB\n",
      "24/06/06 00:38:54 WARN DAGScheduler: Broadcasting large task binary with size 3.2 MiB\n",
      "24/06/06 00:38:54 WARN DAGScheduler: Broadcasting large task binary with size 3.2 MiB\n",
      "24/06/06 00:38:54 WARN DAGScheduler: Broadcasting large task binary with size 3.2 MiB\n",
      "24/06/06 00:38:54 WARN DAGScheduler: Broadcasting large task binary with size 3.2 MiB\n"
     ]
    },
    {
     "name": "stderr",
     "output_type": "stream",
     "text": [
      "24/06/06 00:38:55 WARN DAGScheduler: Broadcasting large task binary with size 3.2 MiB\n",
      "24/06/06 00:38:55 WARN DAGScheduler: Broadcasting large task binary with size 3.2 MiB\n",
      "24/06/06 00:38:55 WARN DAGScheduler: Broadcasting large task binary with size 3.2 MiB\n",
      "24/06/06 00:38:56 WARN DAGScheduler: Broadcasting large task binary with size 3.2 MiB\n",
      "24/06/06 00:38:56 WARN DAGScheduler: Broadcasting large task binary with size 3.2 MiB\n",
      "24/06/06 00:38:56 WARN DAGScheduler: Broadcasting large task binary with size 3.2 MiB\n",
      "24/06/06 00:38:56 WARN DAGScheduler: Broadcasting large task binary with size 3.2 MiB\n",
      "24/06/06 00:38:56 WARN DAGScheduler: Broadcasting large task binary with size 3.2 MiB\n",
      "24/06/06 00:38:57 WARN DAGScheduler: Broadcasting large task binary with size 3.2 MiB\n",
      "24/06/06 00:38:57 WARN DAGScheduler: Broadcasting large task binary with size 3.2 MiB\n",
      "24/06/06 00:38:57 WARN DAGScheduler: Broadcasting large task binary with size 3.2 MiB\n",
      "24/06/06 00:38:57 WARN DAGScheduler: Broadcasting large task binary with size 3.2 MiB\n",
      "24/06/06 00:38:58 WARN DAGScheduler: Broadcasting large task binary with size 3.2 MiB\n",
      "24/06/06 00:38:58 WARN DAGScheduler: Broadcasting large task binary with size 3.2 MiB\n",
      "24/06/06 00:38:58 WARN DAGScheduler: Broadcasting large task binary with size 3.2 MiB\n",
      "24/06/06 00:38:58 WARN DAGScheduler: Broadcasting large task binary with size 3.2 MiB\n",
      "24/06/06 00:38:58 WARN DAGScheduler: Broadcasting large task binary with size 3.2 MiB\n",
      "24/06/06 00:38:58 WARN DAGScheduler: Broadcasting large task binary with size 3.2 MiB\n",
      "24/06/06 00:38:59 WARN DAGScheduler: Broadcasting large task binary with size 3.2 MiB\n",
      "24/06/06 00:38:59 WARN DAGScheduler: Broadcasting large task binary with size 3.2 MiB\n",
      "24/06/06 00:38:59 WARN DAGScheduler: Broadcasting large task binary with size 3.2 MiB\n",
      "24/06/06 00:38:59 WARN DAGScheduler: Broadcasting large task binary with size 3.2 MiB\n",
      "24/06/06 00:39:00 WARN DAGScheduler: Broadcasting large task binary with size 3.2 MiB\n",
      "24/06/06 00:39:00 WARN DAGScheduler: Broadcasting large task binary with size 3.2 MiB\n",
      "24/06/06 00:39:00 WARN DAGScheduler: Broadcasting large task binary with size 3.2 MiB\n",
      "24/06/06 00:39:00 WARN DAGScheduler: Broadcasting large task binary with size 3.2 MiB\n",
      "24/06/06 00:39:00 WARN DAGScheduler: Broadcasting large task binary with size 3.2 MiB\n",
      "24/06/06 00:39:00 WARN DAGScheduler: Broadcasting large task binary with size 3.2 MiB\n",
      "24/06/06 00:39:01 WARN DAGScheduler: Broadcasting large task binary with size 3.2 MiB\n",
      "24/06/06 00:39:01 WARN DAGScheduler: Broadcasting large task binary with size 3.2 MiB\n",
      "24/06/06 00:39:01 WARN DAGScheduler: Broadcasting large task binary with size 3.2 MiB\n",
      "24/06/06 00:39:02 WARN DAGScheduler: Broadcasting large task binary with size 3.2 MiB\n",
      "24/06/06 00:39:02 WARN DAGScheduler: Broadcasting large task binary with size 3.2 MiB\n",
      "24/06/06 00:39:02 WARN DAGScheduler: Broadcasting large task binary with size 3.2 MiB\n",
      "24/06/06 00:39:02 WARN DAGScheduler: Broadcasting large task binary with size 3.2 MiB\n",
      "24/06/06 00:39:02 WARN DAGScheduler: Broadcasting large task binary with size 3.2 MiB\n",
      "24/06/06 00:39:02 WARN DAGScheduler: Broadcasting large task binary with size 3.2 MiB\n",
      "24/06/06 00:39:03 WARN DAGScheduler: Broadcasting large task binary with size 3.2 MiB\n",
      "24/06/06 00:39:03 WARN DAGScheduler: Broadcasting large task binary with size 3.2 MiB\n",
      "24/06/06 00:39:03 WARN DAGScheduler: Broadcasting large task binary with size 3.2 MiB\n",
      "24/06/06 00:39:03 WARN DAGScheduler: Broadcasting large task binary with size 3.2 MiB\n",
      "24/06/06 00:39:04 WARN DAGScheduler: Broadcasting large task binary with size 3.2 MiB\n",
      "24/06/06 00:39:04 WARN DAGScheduler: Broadcasting large task binary with size 3.2 MiB\n",
      "24/06/06 00:39:04 WARN DAGScheduler: Broadcasting large task binary with size 3.2 MiB\n",
      "24/06/06 00:39:04 WARN DAGScheduler: Broadcasting large task binary with size 3.2 MiB\n",
      "24/06/06 00:39:04 WARN DAGScheduler: Broadcasting large task binary with size 3.2 MiB\n",
      "24/06/06 00:39:05 WARN DAGScheduler: Broadcasting large task binary with size 3.2 MiB\n",
      "24/06/06 00:39:05 WARN DAGScheduler: Broadcasting large task binary with size 3.2 MiB\n",
      "24/06/06 00:39:05 WARN DAGScheduler: Broadcasting large task binary with size 3.2 MiB\n",
      "24/06/06 00:39:06 WARN DAGScheduler: Broadcasting large task binary with size 3.2 MiB\n",
      "24/06/06 00:39:06 WARN DAGScheduler: Broadcasting large task binary with size 3.2 MiB\n",
      "24/06/06 00:39:06 WARN DAGScheduler: Broadcasting large task binary with size 3.2 MiB\n",
      "24/06/06 00:39:06 WARN DAGScheduler: Broadcasting large task binary with size 3.2 MiB\n",
      "24/06/06 00:39:06 WARN DAGScheduler: Broadcasting large task binary with size 3.2 MiB\n",
      "24/06/06 00:39:07 WARN DAGScheduler: Broadcasting large task binary with size 3.2 MiB\n",
      "24/06/06 00:39:07 WARN DAGScheduler: Broadcasting large task binary with size 3.2 MiB\n",
      "24/06/06 00:39:07 WARN DAGScheduler: Broadcasting large task binary with size 3.2 MiB\n",
      "24/06/06 00:39:07 WARN DAGScheduler: Broadcasting large task binary with size 3.2 MiB\n",
      "24/06/06 00:39:08 WARN DAGScheduler: Broadcasting large task binary with size 3.2 MiB\n",
      "24/06/06 00:39:08 WARN DAGScheduler: Broadcasting large task binary with size 3.2 MiB\n",
      "24/06/06 00:39:08 WARN DAGScheduler: Broadcasting large task binary with size 3.2 MiB\n",
      "24/06/06 00:39:08 WARN DAGScheduler: Broadcasting large task binary with size 3.2 MiB\n",
      "24/06/06 00:39:08 WARN DAGScheduler: Broadcasting large task binary with size 3.2 MiB\n",
      "24/06/06 00:39:09 WARN DAGScheduler: Broadcasting large task binary with size 3.2 MiB\n",
      "24/06/06 00:39:09 WARN DAGScheduler: Broadcasting large task binary with size 3.2 MiB\n",
      "24/06/06 00:39:09 WARN DAGScheduler: Broadcasting large task binary with size 3.2 MiB\n",
      "24/06/06 00:39:09 WARN DAGScheduler: Broadcasting large task binary with size 3.2 MiB\n",
      "24/06/06 00:39:09 WARN DAGScheduler: Broadcasting large task binary with size 3.2 MiB\n",
      "24/06/06 00:39:10 WARN DAGScheduler: Broadcasting large task binary with size 3.2 MiB\n",
      "24/06/06 00:39:10 WARN DAGScheduler: Broadcasting large task binary with size 3.2 MiB\n",
      "24/06/06 00:39:10 WARN DAGScheduler: Broadcasting large task binary with size 3.2 MiB\n",
      "24/06/06 00:39:10 WARN DAGScheduler: Broadcasting large task binary with size 3.2 MiB\n",
      "24/06/06 00:39:11 WARN DAGScheduler: Broadcasting large task binary with size 3.2 MiB\n",
      "24/06/06 00:39:11 WARN DAGScheduler: Broadcasting large task binary with size 3.2 MiB\n",
      "24/06/06 00:39:11 WARN DAGScheduler: Broadcasting large task binary with size 3.2 MiB\n",
      "24/06/06 00:39:11 WARN DAGScheduler: Broadcasting large task binary with size 3.2 MiB\n",
      "24/06/06 00:39:12 WARN DAGScheduler: Broadcasting large task binary with size 3.2 MiB\n",
      "24/06/06 00:39:12 WARN DAGScheduler: Broadcasting large task binary with size 3.2 MiB\n",
      "24/06/06 00:39:12 WARN DAGScheduler: Broadcasting large task binary with size 3.2 MiB\n",
      "24/06/06 00:39:12 WARN DAGScheduler: Broadcasting large task binary with size 3.2 MiB\n",
      "24/06/06 00:39:12 WARN DAGScheduler: Broadcasting large task binary with size 3.2 MiB\n",
      "24/06/06 00:39:12 WARN DAGScheduler: Broadcasting large task binary with size 3.2 MiB\n",
      "24/06/06 00:39:13 WARN DAGScheduler: Broadcasting large task binary with size 3.2 MiB\n",
      "24/06/06 00:39:13 WARN DAGScheduler: Broadcasting large task binary with size 3.2 MiB\n",
      "24/06/06 00:39:13 WARN DAGScheduler: Broadcasting large task binary with size 3.2 MiB\n",
      "24/06/06 00:39:13 WARN DAGScheduler: Broadcasting large task binary with size 3.2 MiB\n",
      "24/06/06 00:39:14 WARN DAGScheduler: Broadcasting large task binary with size 3.2 MiB\n",
      "24/06/06 00:39:14 WARN DAGScheduler: Broadcasting large task binary with size 3.2 MiB\n",
      "24/06/06 00:39:14 WARN DAGScheduler: Broadcasting large task binary with size 3.2 MiB\n",
      "24/06/06 00:39:14 WARN DAGScheduler: Broadcasting large task binary with size 3.2 MiB\n",
      "24/06/06 00:39:14 WARN DAGScheduler: Broadcasting large task binary with size 3.2 MiB\n",
      "24/06/06 00:39:15 WARN DAGScheduler: Broadcasting large task binary with size 3.2 MiB\n",
      "24/06/06 00:39:15 WARN DAGScheduler: Broadcasting large task binary with size 3.2 MiB\n",
      "24/06/06 00:39:15 WARN DAGScheduler: Broadcasting large task binary with size 3.2 MiB\n",
      "24/06/06 00:39:15 WARN DAGScheduler: Broadcasting large task binary with size 3.2 MiB\n"
     ]
    },
    {
     "name": "stderr",
     "output_type": "stream",
     "text": [
      "24/06/06 00:39:16 WARN DAGScheduler: Broadcasting large task binary with size 3.2 MiB\n",
      "24/06/06 00:39:16 WARN DAGScheduler: Broadcasting large task binary with size 3.2 MiB\n",
      "24/06/06 00:39:16 WARN DAGScheduler: Broadcasting large task binary with size 3.2 MiB\n",
      "24/06/06 00:39:16 WARN DAGScheduler: Broadcasting large task binary with size 3.2 MiB\n",
      "24/06/06 00:39:17 WARN DAGScheduler: Broadcasting large task binary with size 3.2 MiB\n",
      "24/06/06 00:39:17 WARN DAGScheduler: Broadcasting large task binary with size 3.2 MiB\n",
      "24/06/06 00:39:17 WARN DAGScheduler: Broadcasting large task binary with size 3.2 MiB\n",
      "24/06/06 00:39:17 WARN DAGScheduler: Broadcasting large task binary with size 3.2 MiB\n",
      "24/06/06 00:39:17 WARN DAGScheduler: Broadcasting large task binary with size 3.2 MiB\n",
      "24/06/06 00:39:17 WARN OnlineLDAOptimizer: The input data is not directly cached, which may hurt performance if its parent RDDs are also uncached.\n",
      "24/06/06 00:39:18 WARN DAGScheduler: Broadcasting large task binary with size 3.2 MiB\n",
      "24/06/06 00:39:18 WARN DAGScheduler: Broadcasting large task binary with size 3.2 MiB\n",
      "24/06/06 00:39:18 WARN DAGScheduler: Broadcasting large task binary with size 3.2 MiB\n",
      "24/06/06 00:39:18 WARN DAGScheduler: Broadcasting large task binary with size 3.2 MiB\n",
      "24/06/06 00:39:18 WARN DAGScheduler: Broadcasting large task binary with size 3.2 MiB\n",
      "24/06/06 00:39:18 WARN DAGScheduler: Broadcasting large task binary with size 3.2 MiB\n",
      "24/06/06 00:39:19 WARN DAGScheduler: Broadcasting large task binary with size 3.2 MiB\n",
      "24/06/06 00:39:19 WARN DAGScheduler: Broadcasting large task binary with size 3.2 MiB\n",
      "24/06/06 00:39:19 WARN DAGScheduler: Broadcasting large task binary with size 3.2 MiB\n",
      "24/06/06 00:39:19 WARN DAGScheduler: Broadcasting large task binary with size 3.2 MiB\n",
      "24/06/06 00:39:20 WARN DAGScheduler: Broadcasting large task binary with size 3.2 MiB\n",
      "24/06/06 00:39:20 WARN DAGScheduler: Broadcasting large task binary with size 3.2 MiB\n",
      "24/06/06 00:39:20 WARN DAGScheduler: Broadcasting large task binary with size 3.2 MiB\n",
      "24/06/06 00:39:21 WARN DAGScheduler: Broadcasting large task binary with size 3.2 MiB\n",
      "24/06/06 00:39:21 WARN DAGScheduler: Broadcasting large task binary with size 3.2 MiB\n",
      "24/06/06 00:39:21 WARN DAGScheduler: Broadcasting large task binary with size 3.2 MiB\n",
      "24/06/06 00:39:21 WARN DAGScheduler: Broadcasting large task binary with size 3.2 MiB\n",
      "24/06/06 00:39:21 WARN OnlineLDAOptimizer: The input data is not directly cached, which may hurt performance if its parent RDDs are also uncached.\n",
      "24/06/06 00:39:21 WARN DAGScheduler: Broadcasting large task binary with size 3.2 MiB\n",
      "24/06/06 00:39:21 WARN DAGScheduler: Broadcasting large task binary with size 3.2 MiB\n",
      "24/06/06 00:39:22 WARN DAGScheduler: Broadcasting large task binary with size 3.2 MiB\n",
      "24/06/06 00:39:22 WARN DAGScheduler: Broadcasting large task binary with size 3.2 MiB\n",
      "24/06/06 00:39:22 WARN DAGScheduler: Broadcasting large task binary with size 3.2 MiB\n",
      "24/06/06 00:39:22 WARN DAGScheduler: Broadcasting large task binary with size 3.2 MiB\n",
      "24/06/06 00:39:23 WARN DAGScheduler: Broadcasting large task binary with size 3.2 MiB\n",
      "24/06/06 00:39:23 WARN DAGScheduler: Broadcasting large task binary with size 3.2 MiB\n",
      "24/06/06 00:39:23 WARN DAGScheduler: Broadcasting large task binary with size 3.2 MiB\n",
      "24/06/06 00:39:23 WARN DAGScheduler: Broadcasting large task binary with size 3.2 MiB\n",
      "24/06/06 00:39:24 WARN DAGScheduler: Broadcasting large task binary with size 3.2 MiB\n",
      "24/06/06 00:39:24 WARN DAGScheduler: Broadcasting large task binary with size 3.2 MiB\n",
      "24/06/06 00:39:24 WARN DAGScheduler: Broadcasting large task binary with size 3.2 MiB\n",
      "24/06/06 00:39:24 WARN DAGScheduler: Broadcasting large task binary with size 3.2 MiB\n",
      "24/06/06 00:39:25 WARN DAGScheduler: Broadcasting large task binary with size 3.2 MiB\n",
      "24/06/06 00:39:25 WARN DAGScheduler: Broadcasting large task binary with size 3.2 MiB\n",
      "24/06/06 00:39:25 WARN DAGScheduler: Broadcasting large task binary with size 3.2 MiB\n",
      "24/06/06 00:39:25 WARN DAGScheduler: Broadcasting large task binary with size 3.2 MiB\n",
      "24/06/06 00:39:26 WARN DAGScheduler: Broadcasting large task binary with size 3.2 MiB\n",
      "24/06/06 00:39:26 WARN DAGScheduler: Broadcasting large task binary with size 3.2 MiB\n",
      "24/06/06 00:39:26 WARN DAGScheduler: Broadcasting large task binary with size 3.2 MiB\n",
      "24/06/06 00:39:26 WARN DAGScheduler: Broadcasting large task binary with size 3.2 MiB\n",
      "24/06/06 00:39:27 WARN DAGScheduler: Broadcasting large task binary with size 3.2 MiB\n",
      "24/06/06 00:39:27 WARN DAGScheduler: Broadcasting large task binary with size 3.2 MiB\n",
      "24/06/06 00:39:27 WARN DAGScheduler: Broadcasting large task binary with size 3.2 MiB\n",
      "24/06/06 00:39:27 WARN DAGScheduler: Broadcasting large task binary with size 3.2 MiB\n",
      "24/06/06 00:39:27 WARN DAGScheduler: Broadcasting large task binary with size 3.2 MiB\n",
      "24/06/06 00:39:28 WARN DAGScheduler: Broadcasting large task binary with size 3.2 MiB\n",
      "24/06/06 00:39:28 WARN DAGScheduler: Broadcasting large task binary with size 3.2 MiB\n",
      "24/06/06 00:39:28 WARN DAGScheduler: Broadcasting large task binary with size 3.2 MiB\n",
      "24/06/06 00:39:29 WARN DAGScheduler: Broadcasting large task binary with size 3.2 MiB\n",
      "24/06/06 00:39:29 WARN DAGScheduler: Broadcasting large task binary with size 3.2 MiB\n",
      "24/06/06 00:39:29 WARN DAGScheduler: Broadcasting large task binary with size 3.2 MiB\n",
      "24/06/06 00:39:29 WARN DAGScheduler: Broadcasting large task binary with size 3.2 MiB\n",
      "24/06/06 00:39:29 WARN DAGScheduler: Broadcasting large task binary with size 3.2 MiB\n",
      "24/06/06 00:39:30 WARN DAGScheduler: Broadcasting large task binary with size 3.2 MiB\n",
      "24/06/06 00:39:30 WARN DAGScheduler: Broadcasting large task binary with size 3.2 MiB\n",
      "24/06/06 00:39:30 WARN DAGScheduler: Broadcasting large task binary with size 3.2 MiB\n",
      "24/06/06 00:39:30 WARN DAGScheduler: Broadcasting large task binary with size 3.2 MiB\n",
      "24/06/06 00:39:31 WARN DAGScheduler: Broadcasting large task binary with size 3.2 MiB\n",
      "24/06/06 00:39:31 WARN DAGScheduler: Broadcasting large task binary with size 3.2 MiB\n",
      "24/06/06 00:39:31 WARN DAGScheduler: Broadcasting large task binary with size 3.2 MiB\n",
      "24/06/06 00:39:31 WARN DAGScheduler: Broadcasting large task binary with size 3.2 MiB\n",
      "24/06/06 00:39:32 WARN DAGScheduler: Broadcasting large task binary with size 3.2 MiB\n",
      "24/06/06 00:39:32 WARN DAGScheduler: Broadcasting large task binary with size 3.2 MiB\n",
      "24/06/06 00:39:32 WARN DAGScheduler: Broadcasting large task binary with size 3.2 MiB\n",
      "24/06/06 00:39:32 WARN DAGScheduler: Broadcasting large task binary with size 3.2 MiB\n",
      "24/06/06 00:39:32 WARN DAGScheduler: Broadcasting large task binary with size 3.2 MiB\n",
      "24/06/06 00:39:33 WARN DAGScheduler: Broadcasting large task binary with size 3.2 MiB\n",
      "24/06/06 00:39:33 WARN DAGScheduler: Broadcasting large task binary with size 3.2 MiB\n",
      "24/06/06 00:39:33 WARN DAGScheduler: Broadcasting large task binary with size 3.2 MiB\n",
      "24/06/06 00:39:33 WARN DAGScheduler: Broadcasting large task binary with size 3.2 MiB\n",
      "24/06/06 00:39:34 WARN DAGScheduler: Broadcasting large task binary with size 3.2 MiB\n",
      "24/06/06 00:39:34 WARN DAGScheduler: Broadcasting large task binary with size 3.2 MiB\n",
      "24/06/06 00:39:34 WARN DAGScheduler: Broadcasting large task binary with size 3.2 MiB\n",
      "24/06/06 00:39:34 WARN DAGScheduler: Broadcasting large task binary with size 3.2 MiB\n",
      "24/06/06 00:39:34 WARN DAGScheduler: Broadcasting large task binary with size 3.2 MiB\n",
      "24/06/06 00:39:35 WARN DAGScheduler: Broadcasting large task binary with size 3.2 MiB\n",
      "24/06/06 00:39:35 WARN DAGScheduler: Broadcasting large task binary with size 3.2 MiB\n",
      "24/06/06 00:39:35 WARN DAGScheduler: Broadcasting large task binary with size 3.2 MiB\n",
      "24/06/06 00:39:35 WARN DAGScheduler: Broadcasting large task binary with size 3.2 MiB\n",
      "24/06/06 00:39:36 WARN DAGScheduler: Broadcasting large task binary with size 3.2 MiB\n",
      "24/06/06 00:39:36 WARN DAGScheduler: Broadcasting large task binary with size 3.2 MiB\n",
      "24/06/06 00:39:36 WARN DAGScheduler: Broadcasting large task binary with size 3.2 MiB\n",
      "24/06/06 00:39:36 WARN DAGScheduler: Broadcasting large task binary with size 3.2 MiB\n",
      "24/06/06 00:39:36 WARN DAGScheduler: Broadcasting large task binary with size 3.2 MiB\n"
     ]
    },
    {
     "name": "stderr",
     "output_type": "stream",
     "text": [
      "24/06/06 00:39:37 WARN DAGScheduler: Broadcasting large task binary with size 3.2 MiB\n",
      "24/06/06 00:39:37 WARN DAGScheduler: Broadcasting large task binary with size 3.2 MiB\n",
      "24/06/06 00:39:37 WARN DAGScheduler: Broadcasting large task binary with size 3.2 MiB\n",
      "24/06/06 00:39:38 WARN DAGScheduler: Broadcasting large task binary with size 3.2 MiB\n",
      "24/06/06 00:39:38 WARN DAGScheduler: Broadcasting large task binary with size 3.2 MiB\n",
      "24/06/06 00:39:38 WARN DAGScheduler: Broadcasting large task binary with size 3.2 MiB\n",
      "24/06/06 00:39:38 WARN DAGScheduler: Broadcasting large task binary with size 3.2 MiB\n",
      "24/06/06 00:39:38 WARN DAGScheduler: Broadcasting large task binary with size 3.2 MiB\n",
      "24/06/06 00:39:38 WARN DAGScheduler: Broadcasting large task binary with size 3.2 MiB\n",
      "24/06/06 00:39:39 WARN DAGScheduler: Broadcasting large task binary with size 3.2 MiB\n",
      "24/06/06 00:39:39 WARN DAGScheduler: Broadcasting large task binary with size 3.2 MiB\n",
      "24/06/06 00:39:39 WARN DAGScheduler: Broadcasting large task binary with size 3.2 MiB\n",
      "24/06/06 00:39:39 WARN DAGScheduler: Broadcasting large task binary with size 3.2 MiB\n",
      "24/06/06 00:39:40 WARN DAGScheduler: Broadcasting large task binary with size 3.2 MiB\n",
      "24/06/06 00:39:40 WARN DAGScheduler: Broadcasting large task binary with size 3.2 MiB\n",
      "24/06/06 00:39:40 WARN DAGScheduler: Broadcasting large task binary with size 3.2 MiB\n",
      "24/06/06 00:39:40 WARN DAGScheduler: Broadcasting large task binary with size 3.2 MiB\n",
      "24/06/06 00:39:40 WARN DAGScheduler: Broadcasting large task binary with size 3.2 MiB\n",
      "24/06/06 00:39:41 WARN DAGScheduler: Broadcasting large task binary with size 3.2 MiB\n",
      "24/06/06 00:39:41 WARN DAGScheduler: Broadcasting large task binary with size 3.2 MiB\n",
      "24/06/06 00:39:41 WARN DAGScheduler: Broadcasting large task binary with size 3.2 MiB\n",
      "24/06/06 00:39:42 WARN DAGScheduler: Broadcasting large task binary with size 3.2 MiB\n",
      "24/06/06 00:39:42 WARN DAGScheduler: Broadcasting large task binary with size 3.2 MiB\n",
      "24/06/06 00:39:42 WARN DAGScheduler: Broadcasting large task binary with size 3.2 MiB\n",
      "24/06/06 00:39:42 WARN DAGScheduler: Broadcasting large task binary with size 3.2 MiB\n",
      "24/06/06 00:39:42 WARN DAGScheduler: Broadcasting large task binary with size 3.2 MiB\n",
      "24/06/06 00:39:42 WARN DAGScheduler: Broadcasting large task binary with size 3.2 MiB\n",
      "24/06/06 00:39:43 WARN DAGScheduler: Broadcasting large task binary with size 3.2 MiB\n",
      "24/06/06 00:39:43 WARN DAGScheduler: Broadcasting large task binary with size 3.2 MiB\n",
      "24/06/06 00:39:43 WARN DAGScheduler: Broadcasting large task binary with size 3.2 MiB\n",
      "24/06/06 00:39:43 WARN DAGScheduler: Broadcasting large task binary with size 3.2 MiB\n",
      "24/06/06 00:39:44 WARN DAGScheduler: Broadcasting large task binary with size 3.2 MiB\n",
      "24/06/06 00:39:44 WARN OnlineLDAOptimizer: The input data is not directly cached, which may hurt performance if its parent RDDs are also uncached.\n",
      "24/06/06 00:39:44 WARN DAGScheduler: Broadcasting large task binary with size 3.2 MiB\n",
      "24/06/06 00:39:44 WARN DAGScheduler: Broadcasting large task binary with size 3.2 MiB\n",
      "24/06/06 00:39:44 WARN DAGScheduler: Broadcasting large task binary with size 3.2 MiB\n",
      "24/06/06 00:39:45 WARN DAGScheduler: Broadcasting large task binary with size 3.2 MiB\n",
      "24/06/06 00:39:45 WARN DAGScheduler: Broadcasting large task binary with size 3.2 MiB\n",
      "24/06/06 00:39:45 WARN DAGScheduler: Broadcasting large task binary with size 3.2 MiB\n",
      "24/06/06 00:39:45 WARN DAGScheduler: Broadcasting large task binary with size 3.2 MiB\n",
      "24/06/06 00:39:46 WARN DAGScheduler: Broadcasting large task binary with size 3.2 MiB\n",
      "24/06/06 00:39:46 WARN DAGScheduler: Broadcasting large task binary with size 3.2 MiB\n",
      "24/06/06 00:39:46 WARN DAGScheduler: Broadcasting large task binary with size 3.2 MiB\n",
      "24/06/06 00:39:46 WARN DAGScheduler: Broadcasting large task binary with size 3.2 MiB\n",
      "24/06/06 00:39:47 WARN DAGScheduler: Broadcasting large task binary with size 3.2 MiB\n",
      "24/06/06 00:39:47 WARN DAGScheduler: Broadcasting large task binary with size 3.2 MiB\n",
      "24/06/06 00:39:47 WARN DAGScheduler: Broadcasting large task binary with size 3.2 MiB\n",
      "24/06/06 00:39:47 WARN DAGScheduler: Broadcasting large task binary with size 3.2 MiB\n",
      "24/06/06 00:39:48 WARN DAGScheduler: Broadcasting large task binary with size 3.2 MiB\n",
      "24/06/06 00:39:48 WARN DAGScheduler: Broadcasting large task binary with size 3.2 MiB\n",
      "24/06/06 00:39:48 WARN DAGScheduler: Broadcasting large task binary with size 3.2 MiB\n",
      "24/06/06 00:39:48 WARN DAGScheduler: Broadcasting large task binary with size 3.2 MiB\n",
      "24/06/06 00:39:49 WARN DAGScheduler: Broadcasting large task binary with size 3.2 MiB\n",
      "24/06/06 00:39:49 WARN DAGScheduler: Broadcasting large task binary with size 3.2 MiB\n",
      "24/06/06 00:39:49 WARN DAGScheduler: Broadcasting large task binary with size 3.2 MiB\n",
      "24/06/06 00:39:49 WARN DAGScheduler: Broadcasting large task binary with size 3.2 MiB\n",
      "24/06/06 00:39:49 WARN DAGScheduler: Broadcasting large task binary with size 3.2 MiB\n",
      "24/06/06 00:39:50 WARN DAGScheduler: Broadcasting large task binary with size 3.2 MiB\n",
      "24/06/06 00:39:50 WARN DAGScheduler: Broadcasting large task binary with size 3.2 MiB\n",
      "24/06/06 00:39:50 WARN DAGScheduler: Broadcasting large task binary with size 3.2 MiB\n",
      "24/06/06 00:39:50 WARN DAGScheduler: Broadcasting large task binary with size 3.2 MiB\n",
      "24/06/06 00:39:51 WARN DAGScheduler: Broadcasting large task binary with size 3.2 MiB\n",
      "24/06/06 00:39:51 WARN DAGScheduler: Broadcasting large task binary with size 3.2 MiB\n",
      "24/06/06 00:39:51 WARN DAGScheduler: Broadcasting large task binary with size 3.2 MiB\n",
      "24/06/06 00:39:51 WARN DAGScheduler: Broadcasting large task binary with size 3.2 MiB\n",
      "24/06/06 00:39:51 WARN DAGScheduler: Broadcasting large task binary with size 3.2 MiB\n",
      "24/06/06 00:39:52 WARN DAGScheduler: Broadcasting large task binary with size 3.2 MiB\n",
      "24/06/06 00:39:52 WARN DAGScheduler: Broadcasting large task binary with size 3.2 MiB\n",
      "24/06/06 00:39:52 WARN DAGScheduler: Broadcasting large task binary with size 3.2 MiB\n",
      "24/06/06 00:39:53 WARN DAGScheduler: Broadcasting large task binary with size 3.2 MiB\n",
      "24/06/06 00:39:53 WARN DAGScheduler: Broadcasting large task binary with size 3.2 MiB\n",
      "24/06/06 00:39:53 WARN DAGScheduler: Broadcasting large task binary with size 3.2 MiB\n",
      "24/06/06 00:39:53 WARN DAGScheduler: Broadcasting large task binary with size 3.2 MiB\n",
      "24/06/06 00:39:53 WARN OnlineLDAOptimizer: The input data is not directly cached, which may hurt performance if its parent RDDs are also uncached.\n",
      "24/06/06 00:39:53 WARN DAGScheduler: Broadcasting large task binary with size 3.2 MiB\n",
      "24/06/06 00:39:54 WARN DAGScheduler: Broadcasting large task binary with size 3.2 MiB\n",
      "24/06/06 00:39:54 WARN DAGScheduler: Broadcasting large task binary with size 3.2 MiB\n",
      "24/06/06 00:39:54 WARN DAGScheduler: Broadcasting large task binary with size 3.2 MiB\n",
      "24/06/06 00:39:54 WARN DAGScheduler: Broadcasting large task binary with size 3.2 MiB\n",
      "24/06/06 00:39:55 WARN DAGScheduler: Broadcasting large task binary with size 3.2 MiB\n",
      "24/06/06 00:39:55 WARN DAGScheduler: Broadcasting large task binary with size 3.2 MiB\n",
      "24/06/06 00:39:55 WARN DAGScheduler: Broadcasting large task binary with size 3.2 MiB\n",
      "24/06/06 00:39:56 WARN DAGScheduler: Broadcasting large task binary with size 3.2 MiB\n",
      "24/06/06 00:39:56 WARN DAGScheduler: Broadcasting large task binary with size 3.2 MiB\n",
      "24/06/06 00:39:56 WARN DAGScheduler: Broadcasting large task binary with size 3.2 MiB\n",
      "24/06/06 00:39:56 WARN DAGScheduler: Broadcasting large task binary with size 3.2 MiB\n",
      "24/06/06 00:39:57 WARN DAGScheduler: Broadcasting large task binary with size 3.2 MiB\n",
      "24/06/06 00:39:57 WARN DAGScheduler: Broadcasting large task binary with size 3.2 MiB\n",
      "24/06/06 00:39:57 WARN DAGScheduler: Broadcasting large task binary with size 3.2 MiB\n",
      "24/06/06 00:39:58 WARN DAGScheduler: Broadcasting large task binary with size 3.2 MiB\n",
      "24/06/06 00:39:58 WARN DAGScheduler: Broadcasting large task binary with size 3.2 MiB\n",
      "24/06/06 00:39:58 WARN DAGScheduler: Broadcasting large task binary with size 3.2 MiB\n",
      "24/06/06 00:39:58 WARN DAGScheduler: Broadcasting large task binary with size 3.2 MiB\n",
      "24/06/06 00:39:59 WARN DAGScheduler: Broadcasting large task binary with size 3.2 MiB\n",
      "24/06/06 00:39:59 WARN DAGScheduler: Broadcasting large task binary with size 3.2 MiB\n"
     ]
    },
    {
     "name": "stderr",
     "output_type": "stream",
     "text": [
      "24/06/06 00:39:59 WARN DAGScheduler: Broadcasting large task binary with size 3.2 MiB\n",
      "24/06/06 00:39:59 WARN DAGScheduler: Broadcasting large task binary with size 3.2 MiB\n",
      "24/06/06 00:39:59 WARN DAGScheduler: Broadcasting large task binary with size 3.2 MiB\n",
      "24/06/06 00:40:00 WARN DAGScheduler: Broadcasting large task binary with size 3.2 MiB\n",
      "24/06/06 00:40:00 WARN DAGScheduler: Broadcasting large task binary with size 3.2 MiB\n",
      "24/06/06 00:40:00 WARN DAGScheduler: Broadcasting large task binary with size 3.2 MiB\n",
      "24/06/06 00:40:01 WARN DAGScheduler: Broadcasting large task binary with size 3.2 MiB\n",
      "24/06/06 00:40:01 WARN DAGScheduler: Broadcasting large task binary with size 3.2 MiB\n",
      "24/06/06 00:40:01 WARN DAGScheduler: Broadcasting large task binary with size 3.2 MiB\n",
      "24/06/06 00:40:01 WARN DAGScheduler: Broadcasting large task binary with size 3.2 MiB\n",
      "24/06/06 00:40:02 WARN DAGScheduler: Broadcasting large task binary with size 3.2 MiB\n",
      "24/06/06 00:40:02 WARN DAGScheduler: Broadcasting large task binary with size 3.2 MiB\n",
      "24/06/06 00:40:02 WARN DAGScheduler: Broadcasting large task binary with size 3.2 MiB\n",
      "24/06/06 00:40:02 WARN DAGScheduler: Broadcasting large task binary with size 3.2 MiB\n",
      "24/06/06 00:40:03 WARN DAGScheduler: Broadcasting large task binary with size 3.2 MiB\n",
      "24/06/06 00:40:03 WARN DAGScheduler: Broadcasting large task binary with size 3.2 MiB\n",
      "24/06/06 00:40:03 WARN DAGScheduler: Broadcasting large task binary with size 3.2 MiB\n",
      "24/06/06 00:40:03 WARN DAGScheduler: Broadcasting large task binary with size 3.2 MiB\n",
      "24/06/06 00:40:04 WARN DAGScheduler: Broadcasting large task binary with size 3.2 MiB\n",
      "24/06/06 00:40:04 WARN DAGScheduler: Broadcasting large task binary with size 3.2 MiB\n",
      "24/06/06 00:40:04 WARN DAGScheduler: Broadcasting large task binary with size 3.2 MiB\n",
      "24/06/06 00:40:04 WARN DAGScheduler: Broadcasting large task binary with size 3.2 MiB\n",
      "24/06/06 00:40:05 WARN DAGScheduler: Broadcasting large task binary with size 3.2 MiB\n",
      "24/06/06 00:40:05 WARN DAGScheduler: Broadcasting large task binary with size 3.2 MiB\n",
      "24/06/06 00:40:05 WARN DAGScheduler: Broadcasting large task binary with size 3.2 MiB\n",
      "24/06/06 00:40:06 WARN DAGScheduler: Broadcasting large task binary with size 3.2 MiB\n",
      "24/06/06 00:40:06 WARN DAGScheduler: Broadcasting large task binary with size 3.2 MiB\n",
      "24/06/06 00:40:06 WARN DAGScheduler: Broadcasting large task binary with size 3.2 MiB\n",
      "24/06/06 00:40:06 WARN DAGScheduler: Broadcasting large task binary with size 3.2 MiB\n",
      "24/06/06 00:40:07 WARN DAGScheduler: Broadcasting large task binary with size 3.2 MiB\n",
      "24/06/06 00:40:07 WARN DAGScheduler: Broadcasting large task binary with size 3.2 MiB\n",
      "24/06/06 00:40:07 WARN DAGScheduler: Broadcasting large task binary with size 3.2 MiB\n",
      "24/06/06 00:40:07 WARN DAGScheduler: Broadcasting large task binary with size 3.2 MiB\n",
      "24/06/06 00:40:07 WARN DAGScheduler: Broadcasting large task binary with size 3.2 MiB\n",
      "24/06/06 00:40:08 WARN DAGScheduler: Broadcasting large task binary with size 3.2 MiB\n",
      "24/06/06 00:40:08 WARN DAGScheduler: Broadcasting large task binary with size 3.2 MiB\n",
      "24/06/06 00:40:08 WARN DAGScheduler: Broadcasting large task binary with size 3.2 MiB\n",
      "24/06/06 00:40:08 WARN DAGScheduler: Broadcasting large task binary with size 3.2 MiB\n",
      "24/06/06 00:40:09 WARN DAGScheduler: Broadcasting large task binary with size 3.2 MiB\n",
      "24/06/06 00:40:09 WARN DAGScheduler: Broadcasting large task binary with size 3.2 MiB\n",
      "24/06/06 00:40:09 WARN DAGScheduler: Broadcasting large task binary with size 3.2 MiB\n",
      "24/06/06 00:40:09 WARN DAGScheduler: Broadcasting large task binary with size 3.2 MiB\n",
      "24/06/06 00:40:10 WARN DAGScheduler: Broadcasting large task binary with size 3.2 MiB\n",
      "24/06/06 00:40:10 WARN DAGScheduler: Broadcasting large task binary with size 3.2 MiB\n",
      "24/06/06 00:40:10 WARN DAGScheduler: Broadcasting large task binary with size 3.2 MiB\n",
      "24/06/06 00:40:10 WARN DAGScheduler: Broadcasting large task binary with size 3.2 MiB\n",
      "24/06/06 00:40:11 WARN DAGScheduler: Broadcasting large task binary with size 3.2 MiB\n",
      "24/06/06 00:40:11 WARN DAGScheduler: Broadcasting large task binary with size 3.2 MiB\n",
      "24/06/06 00:40:11 WARN DAGScheduler: Broadcasting large task binary with size 3.2 MiB\n",
      "24/06/06 00:40:11 WARN DAGScheduler: Broadcasting large task binary with size 3.2 MiB\n",
      "24/06/06 00:40:12 WARN DAGScheduler: Broadcasting large task binary with size 3.2 MiB\n",
      "24/06/06 00:40:12 WARN DAGScheduler: Broadcasting large task binary with size 3.2 MiB\n",
      "24/06/06 00:40:12 WARN DAGScheduler: Broadcasting large task binary with size 3.2 MiB\n",
      "24/06/06 00:40:12 WARN DAGScheduler: Broadcasting large task binary with size 3.2 MiB\n",
      "24/06/06 00:40:13 WARN DAGScheduler: Broadcasting large task binary with size 3.2 MiB\n",
      "24/06/06 00:40:13 WARN DAGScheduler: Broadcasting large task binary with size 3.2 MiB\n",
      "24/06/06 00:40:13 WARN DAGScheduler: Broadcasting large task binary with size 3.2 MiB\n",
      "24/06/06 00:40:13 WARN DAGScheduler: Broadcasting large task binary with size 3.2 MiB\n",
      "24/06/06 00:40:14 WARN DAGScheduler: Broadcasting large task binary with size 3.2 MiB\n",
      "24/06/06 00:40:14 WARN DAGScheduler: Broadcasting large task binary with size 3.2 MiB\n",
      "24/06/06 00:40:14 WARN DAGScheduler: Broadcasting large task binary with size 3.2 MiB\n",
      "24/06/06 00:40:14 WARN DAGScheduler: Broadcasting large task binary with size 3.2 MiB\n",
      "24/06/06 00:40:15 WARN DAGScheduler: Broadcasting large task binary with size 3.2 MiB\n",
      "24/06/06 00:40:15 WARN DAGScheduler: Broadcasting large task binary with size 3.2 MiB\n",
      "24/06/06 00:40:15 WARN DAGScheduler: Broadcasting large task binary with size 3.2 MiB\n",
      "24/06/06 00:40:15 WARN DAGScheduler: Broadcasting large task binary with size 3.2 MiB\n",
      "24/06/06 00:40:16 WARN DAGScheduler: Broadcasting large task binary with size 3.2 MiB\n",
      "24/06/06 00:40:16 WARN DAGScheduler: Broadcasting large task binary with size 3.2 MiB\n",
      "24/06/06 00:40:16 WARN DAGScheduler: Broadcasting large task binary with size 3.2 MiB\n",
      "24/06/06 00:40:16 WARN DAGScheduler: Broadcasting large task binary with size 3.2 MiB\n",
      "24/06/06 00:40:16 WARN DAGScheduler: Broadcasting large task binary with size 3.2 MiB\n",
      "24/06/06 00:40:17 WARN DAGScheduler: Broadcasting large task binary with size 3.2 MiB\n",
      "24/06/06 00:40:17 WARN DAGScheduler: Broadcasting large task binary with size 3.2 MiB\n",
      "24/06/06 00:40:18 WARN DAGScheduler: Broadcasting large task binary with size 3.2 MiB\n",
      "24/06/06 00:40:18 WARN DAGScheduler: Broadcasting large task binary with size 3.2 MiB\n",
      "24/06/06 00:40:18 WARN DAGScheduler: Broadcasting large task binary with size 3.2 MiB\n",
      "24/06/06 00:40:18 WARN DAGScheduler: Broadcasting large task binary with size 3.2 MiB\n",
      "24/06/06 00:40:18 WARN DAGScheduler: Broadcasting large task binary with size 3.2 MiB\n",
      "24/06/06 00:40:18 WARN OnlineLDAOptimizer: The input data is not directly cached, which may hurt performance if its parent RDDs are also uncached.\n",
      "24/06/06 00:40:18 WARN DAGScheduler: Broadcasting large task binary with size 3.2 MiB\n",
      "24/06/06 00:40:19 WARN DAGScheduler: Broadcasting large task binary with size 3.2 MiB\n",
      "24/06/06 00:40:19 WARN DAGScheduler: Broadcasting large task binary with size 3.2 MiB\n",
      "24/06/06 00:40:19 WARN DAGScheduler: Broadcasting large task binary with size 3.2 MiB\n",
      "24/06/06 00:40:19 WARN DAGScheduler: Broadcasting large task binary with size 3.2 MiB\n",
      "24/06/06 00:40:20 WARN DAGScheduler: Broadcasting large task binary with size 3.2 MiB\n",
      "24/06/06 00:40:20 WARN DAGScheduler: Broadcasting large task binary with size 3.2 MiB\n",
      "24/06/06 00:40:20 WARN DAGScheduler: Broadcasting large task binary with size 3.2 MiB\n",
      "24/06/06 00:40:21 WARN DAGScheduler: Broadcasting large task binary with size 3.2 MiB\n",
      "24/06/06 00:40:21 WARN DAGScheduler: Broadcasting large task binary with size 3.2 MiB\n",
      "24/06/06 00:40:21 WARN DAGScheduler: Broadcasting large task binary with size 3.2 MiB\n",
      "24/06/06 00:40:22 WARN DAGScheduler: Broadcasting large task binary with size 3.2 MiB\n",
      "24/06/06 00:40:22 WARN DAGScheduler: Broadcasting large task binary with size 3.2 MiB\n",
      "24/06/06 00:40:22 WARN DAGScheduler: Broadcasting large task binary with size 3.2 MiB\n",
      "24/06/06 00:40:22 WARN DAGScheduler: Broadcasting large task binary with size 3.2 MiB\n",
      "24/06/06 00:40:22 WARN DAGScheduler: Broadcasting large task binary with size 3.2 MiB\n"
     ]
    },
    {
     "name": "stderr",
     "output_type": "stream",
     "text": [
      "24/06/06 00:40:23 WARN DAGScheduler: Broadcasting large task binary with size 3.2 MiB\n",
      "24/06/06 00:40:23 WARN DAGScheduler: Broadcasting large task binary with size 3.2 MiB\n",
      "24/06/06 00:40:23 WARN DAGScheduler: Broadcasting large task binary with size 3.2 MiB\n",
      "24/06/06 00:40:23 WARN DAGScheduler: Broadcasting large task binary with size 3.2 MiB\n",
      "24/06/06 00:40:24 WARN DAGScheduler: Broadcasting large task binary with size 3.2 MiB\n",
      "24/06/06 00:40:24 WARN DAGScheduler: Broadcasting large task binary with size 3.2 MiB\n",
      "24/06/06 00:40:24 WARN DAGScheduler: Broadcasting large task binary with size 3.2 MiB\n",
      "24/06/06 00:40:25 WARN DAGScheduler: Broadcasting large task binary with size 3.2 MiB\n",
      "24/06/06 00:40:25 WARN DAGScheduler: Broadcasting large task binary with size 3.2 MiB\n",
      "24/06/06 00:40:25 WARN DAGScheduler: Broadcasting large task binary with size 3.2 MiB\n",
      "24/06/06 00:40:25 WARN DAGScheduler: Broadcasting large task binary with size 3.2 MiB\n",
      "24/06/06 00:40:26 WARN DAGScheduler: Broadcasting large task binary with size 3.2 MiB\n",
      "24/06/06 00:40:26 WARN OnlineLDAOptimizer: The input data is not directly cached, which may hurt performance if its parent RDDs are also uncached.\n",
      "24/06/06 00:40:26 WARN DAGScheduler: Broadcasting large task binary with size 3.2 MiB\n",
      "24/06/06 00:40:26 WARN DAGScheduler: Broadcasting large task binary with size 3.2 MiB\n",
      "24/06/06 00:40:26 WARN DAGScheduler: Broadcasting large task binary with size 3.2 MiB\n",
      "24/06/06 00:40:27 WARN DAGScheduler: Broadcasting large task binary with size 3.2 MiB\n",
      "24/06/06 00:40:27 WARN DAGScheduler: Broadcasting large task binary with size 3.2 MiB\n",
      "24/06/06 00:40:27 WARN DAGScheduler: Broadcasting large task binary with size 3.2 MiB\n",
      "24/06/06 00:40:27 WARN DAGScheduler: Broadcasting large task binary with size 3.2 MiB\n",
      "24/06/06 00:40:28 WARN DAGScheduler: Broadcasting large task binary with size 3.2 MiB\n",
      "24/06/06 00:40:28 WARN DAGScheduler: Broadcasting large task binary with size 3.2 MiB\n",
      "24/06/06 00:40:28 WARN DAGScheduler: Broadcasting large task binary with size 3.2 MiB\n",
      "24/06/06 00:40:29 WARN DAGScheduler: Broadcasting large task binary with size 3.2 MiB\n",
      "24/06/06 00:40:29 WARN DAGScheduler: Broadcasting large task binary with size 3.2 MiB\n",
      "24/06/06 00:40:29 WARN DAGScheduler: Broadcasting large task binary with size 3.2 MiB\n",
      "24/06/06 00:40:30 WARN DAGScheduler: Broadcasting large task binary with size 3.2 MiB\n",
      "24/06/06 00:40:30 WARN DAGScheduler: Broadcasting large task binary with size 3.2 MiB\n",
      "24/06/06 00:40:31 WARN DAGScheduler: Broadcasting large task binary with size 3.2 MiB\n",
      "24/06/06 00:40:31 WARN DAGScheduler: Broadcasting large task binary with size 3.2 MiB\n",
      "24/06/06 00:40:31 WARN DAGScheduler: Broadcasting large task binary with size 3.2 MiB\n",
      "24/06/06 00:40:31 WARN DAGScheduler: Broadcasting large task binary with size 3.2 MiB\n",
      "24/06/06 00:40:31 WARN DAGScheduler: Broadcasting large task binary with size 3.2 MiB\n",
      "24/06/06 00:40:31 WARN OnlineLDAOptimizer: The input data is not directly cached, which may hurt performance if its parent RDDs are also uncached.\n",
      "24/06/06 00:40:32 WARN DAGScheduler: Broadcasting large task binary with size 3.2 MiB\n",
      "24/06/06 00:40:32 WARN DAGScheduler: Broadcasting large task binary with size 3.2 MiB\n",
      "24/06/06 00:40:32 WARN DAGScheduler: Broadcasting large task binary with size 3.2 MiB\n",
      "24/06/06 00:40:32 WARN DAGScheduler: Broadcasting large task binary with size 3.2 MiB\n",
      "24/06/06 00:40:32 WARN DAGScheduler: Broadcasting large task binary with size 3.2 MiB\n",
      "24/06/06 00:40:33 WARN DAGScheduler: Broadcasting large task binary with size 3.2 MiB\n",
      "24/06/06 00:40:33 WARN DAGScheduler: Broadcasting large task binary with size 3.2 MiB\n",
      "24/06/06 00:40:34 WARN DAGScheduler: Broadcasting large task binary with size 3.2 MiB\n",
      "24/06/06 00:40:34 WARN DAGScheduler: Broadcasting large task binary with size 3.2 MiB\n",
      "24/06/06 00:40:34 WARN DAGScheduler: Broadcasting large task binary with size 3.2 MiB\n",
      "24/06/06 00:40:35 WARN DAGScheduler: Broadcasting large task binary with size 3.2 MiB\n",
      "24/06/06 00:40:35 WARN DAGScheduler: Broadcasting large task binary with size 3.2 MiB\n",
      "24/06/06 00:40:35 WARN DAGScheduler: Broadcasting large task binary with size 3.2 MiB\n",
      "24/06/06 00:40:36 WARN DAGScheduler: Broadcasting large task binary with size 3.2 MiB\n",
      "24/06/06 00:40:36 WARN DAGScheduler: Broadcasting large task binary with size 3.2 MiB\n",
      "24/06/06 00:40:36 WARN DAGScheduler: Broadcasting large task binary with size 3.2 MiB\n",
      "24/06/06 00:40:36 WARN DAGScheduler: Broadcasting large task binary with size 3.2 MiB\n",
      "24/06/06 00:40:36 WARN DAGScheduler: Broadcasting large task binary with size 3.2 MiB\n",
      "24/06/06 00:40:37 WARN DAGScheduler: Broadcasting large task binary with size 3.2 MiB\n",
      "24/06/06 00:40:37 WARN DAGScheduler: Broadcasting large task binary with size 3.2 MiB\n",
      "24/06/06 00:40:37 WARN DAGScheduler: Broadcasting large task binary with size 3.2 MiB\n",
      "24/06/06 00:40:38 WARN DAGScheduler: Broadcasting large task binary with size 3.2 MiB\n",
      "24/06/06 00:40:38 WARN DAGScheduler: Broadcasting large task binary with size 3.2 MiB\n",
      "24/06/06 00:40:38 WARN DAGScheduler: Broadcasting large task binary with size 3.2 MiB\n",
      "24/06/06 00:40:38 WARN DAGScheduler: Broadcasting large task binary with size 3.2 MiB\n",
      "24/06/06 00:40:39 WARN DAGScheduler: Broadcasting large task binary with size 3.2 MiB\n",
      "24/06/06 00:40:39 WARN DAGScheduler: Broadcasting large task binary with size 3.2 MiB\n",
      "24/06/06 00:40:39 WARN DAGScheduler: Broadcasting large task binary with size 3.2 MiB\n",
      "24/06/06 00:40:39 WARN DAGScheduler: Broadcasting large task binary with size 3.2 MiB\n",
      "24/06/06 00:40:40 WARN DAGScheduler: Broadcasting large task binary with size 3.2 MiB\n",
      "24/06/06 00:40:40 WARN DAGScheduler: Broadcasting large task binary with size 3.2 MiB\n",
      "24/06/06 00:40:40 WARN DAGScheduler: Broadcasting large task binary with size 3.2 MiB\n",
      "24/06/06 00:40:41 WARN DAGScheduler: Broadcasting large task binary with size 3.2 MiB\n",
      "24/06/06 00:40:41 WARN DAGScheduler: Broadcasting large task binary with size 3.2 MiB\n",
      "24/06/06 00:40:41 WARN DAGScheduler: Broadcasting large task binary with size 3.2 MiB\n",
      "24/06/06 00:40:41 WARN DAGScheduler: Broadcasting large task binary with size 3.2 MiB\n",
      "24/06/06 00:40:42 WARN DAGScheduler: Broadcasting large task binary with size 3.2 MiB\n",
      "24/06/06 00:40:42 WARN DAGScheduler: Broadcasting large task binary with size 3.2 MiB\n",
      "24/06/06 00:40:42 WARN DAGScheduler: Broadcasting large task binary with size 3.2 MiB\n",
      "24/06/06 00:40:42 WARN DAGScheduler: Broadcasting large task binary with size 3.2 MiB\n",
      "24/06/06 00:40:43 WARN DAGScheduler: Broadcasting large task binary with size 3.2 MiB\n",
      "24/06/06 00:40:43 WARN DAGScheduler: Broadcasting large task binary with size 3.2 MiB\n",
      "24/06/06 00:40:43 WARN DAGScheduler: Broadcasting large task binary with size 3.2 MiB\n",
      "24/06/06 00:40:44 WARN DAGScheduler: Broadcasting large task binary with size 3.2 MiB\n",
      "24/06/06 00:40:44 WARN DAGScheduler: Broadcasting large task binary with size 3.2 MiB\n",
      "24/06/06 00:40:44 WARN DAGScheduler: Broadcasting large task binary with size 3.2 MiB\n",
      "24/06/06 00:40:44 WARN DAGScheduler: Broadcasting large task binary with size 3.2 MiB\n",
      "24/06/06 00:40:45 WARN DAGScheduler: Broadcasting large task binary with size 3.2 MiB\n",
      "24/06/06 00:40:45 WARN DAGScheduler: Broadcasting large task binary with size 3.2 MiB\n",
      "24/06/06 00:40:46 WARN DAGScheduler: Broadcasting large task binary with size 3.2 MiB\n",
      "24/06/06 00:40:46 WARN DAGScheduler: Broadcasting large task binary with size 3.2 MiB\n",
      "24/06/06 00:40:46 WARN DAGScheduler: Broadcasting large task binary with size 3.2 MiB\n",
      "24/06/06 00:40:46 WARN DAGScheduler: Broadcasting large task binary with size 3.2 MiB\n",
      "24/06/06 00:40:47 WARN DAGScheduler: Broadcasting large task binary with size 3.2 MiB\n",
      "24/06/06 00:40:47 WARN DAGScheduler: Broadcasting large task binary with size 3.2 MiB\n",
      "24/06/06 00:40:47 WARN DAGScheduler: Broadcasting large task binary with size 3.2 MiB\n",
      "24/06/06 00:40:47 WARN DAGScheduler: Broadcasting large task binary with size 3.2 MiB\n",
      "24/06/06 00:40:48 WARN DAGScheduler: Broadcasting large task binary with size 3.2 MiB\n",
      "24/06/06 00:40:48 WARN DAGScheduler: Broadcasting large task binary with size 3.2 MiB\n",
      "24/06/06 00:40:48 WARN DAGScheduler: Broadcasting large task binary with size 3.2 MiB\n",
      "24/06/06 00:40:48 WARN DAGScheduler: Broadcasting large task binary with size 3.2 MiB\n"
     ]
    },
    {
     "name": "stderr",
     "output_type": "stream",
     "text": [
      "24/06/06 00:40:49 WARN DAGScheduler: Broadcasting large task binary with size 3.2 MiB\n",
      "24/06/06 00:40:49 WARN DAGScheduler: Broadcasting large task binary with size 3.2 MiB\n",
      "24/06/06 00:40:49 WARN DAGScheduler: Broadcasting large task binary with size 3.2 MiB\n",
      "24/06/06 00:40:49 WARN DAGScheduler: Broadcasting large task binary with size 3.2 MiB\n",
      "24/06/06 00:40:50 WARN DAGScheduler: Broadcasting large task binary with size 3.2 MiB\n",
      "24/06/06 00:40:50 WARN DAGScheduler: Broadcasting large task binary with size 3.2 MiB\n",
      "24/06/06 00:40:50 WARN DAGScheduler: Broadcasting large task binary with size 3.2 MiB\n",
      "24/06/06 00:40:51 WARN DAGScheduler: Broadcasting large task binary with size 3.2 MiB\n",
      "24/06/06 00:40:51 WARN DAGScheduler: Broadcasting large task binary with size 3.2 MiB\n",
      "24/06/06 00:40:51 WARN DAGScheduler: Broadcasting large task binary with size 3.2 MiB\n",
      "24/06/06 00:40:51 WARN DAGScheduler: Broadcasting large task binary with size 3.2 MiB\n",
      "24/06/06 00:40:52 WARN DAGScheduler: Broadcasting large task binary with size 3.2 MiB\n",
      "24/06/06 00:40:52 WARN DAGScheduler: Broadcasting large task binary with size 3.2 MiB\n",
      "24/06/06 00:40:52 WARN DAGScheduler: Broadcasting large task binary with size 3.2 MiB\n",
      "24/06/06 00:40:53 WARN DAGScheduler: Broadcasting large task binary with size 3.2 MiB\n",
      "24/06/06 00:40:53 WARN DAGScheduler: Broadcasting large task binary with size 3.2 MiB\n",
      "24/06/06 00:40:53 WARN DAGScheduler: Broadcasting large task binary with size 3.2 MiB\n",
      "24/06/06 00:40:53 WARN DAGScheduler: Broadcasting large task binary with size 3.2 MiB\n",
      "24/06/06 00:40:54 WARN DAGScheduler: Broadcasting large task binary with size 3.2 MiB\n",
      "24/06/06 00:40:54 WARN DAGScheduler: Broadcasting large task binary with size 3.2 MiB\n",
      "24/06/06 00:40:54 WARN OnlineLDAOptimizer: The input data is not directly cached, which may hurt performance if its parent RDDs are also uncached.\n",
      "24/06/06 00:40:54 WARN DAGScheduler: Broadcasting large task binary with size 3.2 MiB\n",
      "24/06/06 00:40:54 WARN DAGScheduler: Broadcasting large task binary with size 3.2 MiB\n",
      "24/06/06 00:40:54 WARN DAGScheduler: Broadcasting large task binary with size 3.2 MiB\n",
      "24/06/06 00:40:55 WARN DAGScheduler: Broadcasting large task binary with size 3.2 MiB\n",
      "24/06/06 00:40:55 WARN DAGScheduler: Broadcasting large task binary with size 3.2 MiB\n",
      "24/06/06 00:40:55 WARN DAGScheduler: Broadcasting large task binary with size 3.2 MiB\n",
      "24/06/06 00:40:55 WARN DAGScheduler: Broadcasting large task binary with size 3.2 MiB\n",
      "24/06/06 00:40:56 WARN DAGScheduler: Broadcasting large task binary with size 3.2 MiB\n",
      "24/06/06 00:40:56 WARN DAGScheduler: Broadcasting large task binary with size 3.2 MiB\n",
      "24/06/06 00:40:56 WARN DAGScheduler: Broadcasting large task binary with size 3.2 MiB\n",
      "24/06/06 00:40:56 WARN DAGScheduler: Broadcasting large task binary with size 3.2 MiB\n",
      "24/06/06 00:40:57 WARN DAGScheduler: Broadcasting large task binary with size 3.2 MiB\n",
      "24/06/06 00:40:57 WARN DAGScheduler: Broadcasting large task binary with size 3.2 MiB\n",
      "24/06/06 00:40:57 WARN DAGScheduler: Broadcasting large task binary with size 3.2 MiB\n",
      "24/06/06 00:40:58 WARN DAGScheduler: Broadcasting large task binary with size 3.2 MiB\n",
      "24/06/06 00:40:58 WARN DAGScheduler: Broadcasting large task binary with size 3.2 MiB\n",
      "24/06/06 00:40:58 WARN DAGScheduler: Broadcasting large task binary with size 3.2 MiB\n",
      "24/06/06 00:40:58 WARN DAGScheduler: Broadcasting large task binary with size 3.2 MiB\n",
      "24/06/06 00:40:58 WARN DAGScheduler: Broadcasting large task binary with size 3.2 MiB\n",
      "24/06/06 00:40:58 WARN DAGScheduler: Broadcasting large task binary with size 3.2 MiB\n",
      "24/06/06 00:40:59 WARN DAGScheduler: Broadcasting large task binary with size 3.2 MiB\n",
      "24/06/06 00:40:59 WARN DAGScheduler: Broadcasting large task binary with size 3.2 MiB\n",
      "24/06/06 00:41:00 WARN DAGScheduler: Broadcasting large task binary with size 3.2 MiB\n",
      "24/06/06 00:41:00 WARN DAGScheduler: Broadcasting large task binary with size 3.2 MiB\n",
      "24/06/06 00:41:00 WARN DAGScheduler: Broadcasting large task binary with size 3.2 MiB\n",
      "24/06/06 00:41:00 WARN DAGScheduler: Broadcasting large task binary with size 3.2 MiB\n",
      "24/06/06 00:41:01 WARN DAGScheduler: Broadcasting large task binary with size 3.2 MiB\n",
      "24/06/06 00:41:01 WARN DAGScheduler: Broadcasting large task binary with size 3.2 MiB\n",
      "24/06/06 00:41:01 WARN DAGScheduler: Broadcasting large task binary with size 3.2 MiB\n",
      "24/06/06 00:41:02 WARN DAGScheduler: Broadcasting large task binary with size 3.2 MiB\n",
      "24/06/06 00:41:02 WARN DAGScheduler: Broadcasting large task binary with size 3.2 MiB\n",
      "24/06/06 00:41:02 WARN DAGScheduler: Broadcasting large task binary with size 3.2 MiB\n",
      "24/06/06 00:41:02 WARN DAGScheduler: Broadcasting large task binary with size 3.2 MiB\n",
      "24/06/06 00:41:03 WARN DAGScheduler: Broadcasting large task binary with size 3.2 MiB\n",
      "24/06/06 00:41:03 WARN DAGScheduler: Broadcasting large task binary with size 3.2 MiB\n",
      "24/06/06 00:41:03 WARN DAGScheduler: Broadcasting large task binary with size 3.2 MiB\n",
      "24/06/06 00:41:03 WARN DAGScheduler: Broadcasting large task binary with size 3.2 MiB\n",
      "24/06/06 00:41:03 WARN DAGScheduler: Broadcasting large task binary with size 3.2 MiB\n",
      "24/06/06 00:41:04 WARN DAGScheduler: Broadcasting large task binary with size 3.2 MiB\n",
      "24/06/06 00:41:04 WARN DAGScheduler: Broadcasting large task binary with size 3.2 MiB\n",
      "24/06/06 00:41:04 WARN DAGScheduler: Broadcasting large task binary with size 3.2 MiB\n",
      "24/06/06 00:41:05 WARN DAGScheduler: Broadcasting large task binary with size 3.2 MiB\n",
      "24/06/06 00:41:05 WARN DAGScheduler: Broadcasting large task binary with size 3.2 MiB\n",
      "24/06/06 00:41:05 WARN DAGScheduler: Broadcasting large task binary with size 3.2 MiB\n",
      "24/06/06 00:41:05 WARN DAGScheduler: Broadcasting large task binary with size 3.2 MiB\n",
      "24/06/06 00:41:05 WARN DAGScheduler: Broadcasting large task binary with size 3.2 MiB\n",
      "24/06/06 00:41:06 WARN DAGScheduler: Broadcasting large task binary with size 3.2 MiB\n",
      "24/06/06 00:41:06 WARN DAGScheduler: Broadcasting large task binary with size 3.2 MiB\n",
      "24/06/06 00:41:06 WARN DAGScheduler: Broadcasting large task binary with size 3.2 MiB\n",
      "24/06/06 00:41:07 WARN DAGScheduler: Broadcasting large task binary with size 3.2 MiB\n",
      "24/06/06 00:41:07 WARN DAGScheduler: Broadcasting large task binary with size 3.2 MiB\n",
      "24/06/06 00:41:07 WARN DAGScheduler: Broadcasting large task binary with size 3.2 MiB\n",
      "24/06/06 00:41:08 WARN DAGScheduler: Broadcasting large task binary with size 3.2 MiB\n",
      "24/06/06 00:41:08 WARN OnlineLDAOptimizer: The input data is not directly cached, which may hurt performance if its parent RDDs are also uncached.\n",
      "24/06/06 00:41:08 WARN DAGScheduler: Broadcasting large task binary with size 3.2 MiB\n",
      "24/06/06 00:41:08 WARN DAGScheduler: Broadcasting large task binary with size 3.2 MiB\n",
      "24/06/06 00:41:08 WARN DAGScheduler: Broadcasting large task binary with size 3.2 MiB\n",
      "24/06/06 00:41:09 WARN DAGScheduler: Broadcasting large task binary with size 3.2 MiB\n",
      "24/06/06 00:41:09 WARN DAGScheduler: Broadcasting large task binary with size 3.2 MiB\n",
      "24/06/06 00:41:09 WARN DAGScheduler: Broadcasting large task binary with size 3.2 MiB\n",
      "24/06/06 00:41:10 WARN DAGScheduler: Broadcasting large task binary with size 3.2 MiB\n",
      "24/06/06 00:41:10 WARN DAGScheduler: Broadcasting large task binary with size 3.2 MiB\n",
      "24/06/06 00:41:10 WARN DAGScheduler: Broadcasting large task binary with size 3.2 MiB\n",
      "24/06/06 00:41:10 WARN DAGScheduler: Broadcasting large task binary with size 3.2 MiB\n",
      "24/06/06 00:41:10 WARN DAGScheduler: Broadcasting large task binary with size 3.2 MiB\n",
      "24/06/06 00:41:11 WARN DAGScheduler: Broadcasting large task binary with size 3.2 MiB\n",
      "24/06/06 00:41:11 WARN DAGScheduler: Broadcasting large task binary with size 3.2 MiB\n",
      "24/06/06 00:41:11 WARN DAGScheduler: Broadcasting large task binary with size 3.2 MiB\n",
      "24/06/06 00:41:12 WARN DAGScheduler: Broadcasting large task binary with size 3.2 MiB\n",
      "24/06/06 00:41:12 WARN DAGScheduler: Broadcasting large task binary with size 3.2 MiB\n",
      "24/06/06 00:41:12 WARN DAGScheduler: Broadcasting large task binary with size 3.2 MiB\n",
      "24/06/06 00:41:12 WARN DAGScheduler: Broadcasting large task binary with size 3.2 MiB\n",
      "24/06/06 00:41:13 WARN DAGScheduler: Broadcasting large task binary with size 3.2 MiB\n",
      "24/06/06 00:41:13 WARN DAGScheduler: Broadcasting large task binary with size 3.2 MiB\n"
     ]
    },
    {
     "name": "stderr",
     "output_type": "stream",
     "text": [
      "24/06/06 00:41:13 WARN DAGScheduler: Broadcasting large task binary with size 3.2 MiB\n",
      "24/06/06 00:41:13 WARN DAGScheduler: Broadcasting large task binary with size 3.2 MiB\n",
      "24/06/06 00:41:14 WARN DAGScheduler: Broadcasting large task binary with size 3.2 MiB\n",
      "24/06/06 00:41:14 WARN DAGScheduler: Broadcasting large task binary with size 3.2 MiB\n",
      "24/06/06 00:41:14 WARN DAGScheduler: Broadcasting large task binary with size 3.2 MiB\n",
      "24/06/06 00:41:15 WARN DAGScheduler: Broadcasting large task binary with size 3.2 MiB\n",
      "24/06/06 00:41:15 WARN DAGScheduler: Broadcasting large task binary with size 3.2 MiB\n",
      "24/06/06 00:41:15 WARN DAGScheduler: Broadcasting large task binary with size 3.2 MiB\n",
      "24/06/06 00:41:15 WARN DAGScheduler: Broadcasting large task binary with size 3.2 MiB\n",
      "24/06/06 00:41:15 WARN DAGScheduler: Broadcasting large task binary with size 3.2 MiB\n",
      "24/06/06 00:41:16 WARN DAGScheduler: Broadcasting large task binary with size 3.2 MiB\n",
      "24/06/06 00:41:16 WARN DAGScheduler: Broadcasting large task binary with size 3.2 MiB\n",
      "24/06/06 00:41:16 WARN DAGScheduler: Broadcasting large task binary with size 3.2 MiB\n",
      "24/06/06 00:41:17 WARN DAGScheduler: Broadcasting large task binary with size 3.2 MiB\n",
      "24/06/06 00:41:17 WARN DAGScheduler: Broadcasting large task binary with size 3.2 MiB\n",
      "24/06/06 00:41:17 WARN DAGScheduler: Broadcasting large task binary with size 3.2 MiB\n",
      "24/06/06 00:41:17 WARN DAGScheduler: Broadcasting large task binary with size 3.2 MiB\n",
      "24/06/06 00:41:18 WARN DAGScheduler: Broadcasting large task binary with size 3.2 MiB\n",
      "24/06/06 00:41:18 WARN DAGScheduler: Broadcasting large task binary with size 3.2 MiB\n",
      "24/06/06 00:41:18 WARN DAGScheduler: Broadcasting large task binary with size 3.2 MiB\n",
      "24/06/06 00:41:18 WARN DAGScheduler: Broadcasting large task binary with size 3.2 MiB\n",
      "24/06/06 00:41:19 WARN DAGScheduler: Broadcasting large task binary with size 3.2 MiB\n",
      "24/06/06 00:41:19 WARN DAGScheduler: Broadcasting large task binary with size 3.2 MiB\n",
      "24/06/06 00:41:19 WARN DAGScheduler: Broadcasting large task binary with size 3.2 MiB\n",
      "24/06/06 00:41:20 WARN DAGScheduler: Broadcasting large task binary with size 3.2 MiB\n",
      "24/06/06 00:41:20 WARN DAGScheduler: Broadcasting large task binary with size 3.2 MiB\n",
      "24/06/06 00:41:20 WARN DAGScheduler: Broadcasting large task binary with size 3.2 MiB\n",
      "24/06/06 00:41:20 WARN DAGScheduler: Broadcasting large task binary with size 3.2 MiB\n",
      "24/06/06 00:41:20 WARN DAGScheduler: Broadcasting large task binary with size 3.2 MiB\n",
      "24/06/06 00:41:21 WARN DAGScheduler: Broadcasting large task binary with size 3.2 MiB\n",
      "24/06/06 00:41:21 WARN DAGScheduler: Broadcasting large task binary with size 3.2 MiB\n",
      "24/06/06 00:41:21 WARN DAGScheduler: Broadcasting large task binary with size 3.2 MiB\n",
      "24/06/06 00:41:22 WARN DAGScheduler: Broadcasting large task binary with size 3.2 MiB\n",
      "24/06/06 00:41:22 WARN DAGScheduler: Broadcasting large task binary with size 3.2 MiB\n",
      "24/06/06 00:41:22 WARN DAGScheduler: Broadcasting large task binary with size 3.2 MiB\n",
      "24/06/06 00:41:22 WARN DAGScheduler: Broadcasting large task binary with size 3.2 MiB\n",
      "24/06/06 00:41:22 WARN DAGScheduler: Broadcasting large task binary with size 3.2 MiB\n",
      "24/06/06 00:41:23 WARN DAGScheduler: Broadcasting large task binary with size 3.2 MiB\n",
      "24/06/06 00:41:23 WARN DAGScheduler: Broadcasting large task binary with size 3.2 MiB\n",
      "24/06/06 00:41:24 WARN DAGScheduler: Broadcasting large task binary with size 3.2 MiB\n",
      "24/06/06 00:41:24 WARN DAGScheduler: Broadcasting large task binary with size 3.2 MiB\n",
      "24/06/06 00:41:24 WARN DAGScheduler: Broadcasting large task binary with size 3.2 MiB\n",
      "24/06/06 00:41:25 WARN DAGScheduler: Broadcasting large task binary with size 3.2 MiB\n",
      "24/06/06 00:41:25 WARN DAGScheduler: Broadcasting large task binary with size 3.2 MiB\n",
      "24/06/06 00:41:25 WARN DAGScheduler: Broadcasting large task binary with size 3.2 MiB\n",
      "24/06/06 00:41:25 WARN DAGScheduler: Broadcasting large task binary with size 3.2 MiB\n",
      "24/06/06 00:41:26 WARN DAGScheduler: Broadcasting large task binary with size 3.2 MiB\n",
      "24/06/06 00:41:26 WARN DAGScheduler: Broadcasting large task binary with size 3.2 MiB\n",
      "24/06/06 00:41:26 WARN DAGScheduler: Broadcasting large task binary with size 3.2 MiB\n",
      "24/06/06 00:41:27 WARN DAGScheduler: Broadcasting large task binary with size 3.2 MiB\n",
      "24/06/06 00:41:27 WARN DAGScheduler: Broadcasting large task binary with size 3.2 MiB\n",
      "24/06/06 00:41:27 WARN DAGScheduler: Broadcasting large task binary with size 3.2 MiB\n",
      "24/06/06 00:41:27 WARN DAGScheduler: Broadcasting large task binary with size 3.2 MiB\n",
      "24/06/06 00:41:27 WARN DAGScheduler: Broadcasting large task binary with size 3.2 MiB\n",
      "24/06/06 00:41:28 WARN DAGScheduler: Broadcasting large task binary with size 3.2 MiB\n",
      "24/06/06 00:41:28 WARN DAGScheduler: Broadcasting large task binary with size 3.2 MiB\n",
      "24/06/06 00:41:28 WARN DAGScheduler: Broadcasting large task binary with size 3.2 MiB\n",
      "24/06/06 00:41:29 WARN DAGScheduler: Broadcasting large task binary with size 3.2 MiB\n",
      "24/06/06 00:41:29 WARN DAGScheduler: Broadcasting large task binary with size 3.2 MiB\n",
      "24/06/06 00:41:29 WARN DAGScheduler: Broadcasting large task binary with size 3.2 MiB\n",
      "24/06/06 00:41:29 WARN DAGScheduler: Broadcasting large task binary with size 3.2 MiB\n",
      "24/06/06 00:41:30 WARN DAGScheduler: Broadcasting large task binary with size 3.2 MiB\n",
      "24/06/06 00:41:30 WARN DAGScheduler: Broadcasting large task binary with size 3.2 MiB\n",
      "24/06/06 00:41:30 WARN DAGScheduler: Broadcasting large task binary with size 3.2 MiB\n",
      "24/06/06 00:41:30 WARN DAGScheduler: Broadcasting large task binary with size 3.2 MiB\n",
      "24/06/06 00:41:30 WARN DAGScheduler: Broadcasting large task binary with size 3.2 MiB\n",
      "24/06/06 00:41:31 WARN DAGScheduler: Broadcasting large task binary with size 3.2 MiB\n",
      "24/06/06 00:41:31 WARN DAGScheduler: Broadcasting large task binary with size 3.2 MiB\n",
      "24/06/06 00:41:32 WARN DAGScheduler: Broadcasting large task binary with size 3.2 MiB\n",
      "24/06/06 00:41:32 WARN DAGScheduler: Broadcasting large task binary with size 3.2 MiB\n",
      "24/06/06 00:41:32 WARN DAGScheduler: Broadcasting large task binary with size 3.2 MiB\n",
      "24/06/06 00:41:32 WARN DAGScheduler: Broadcasting large task binary with size 3.2 MiB\n",
      "24/06/06 00:41:33 WARN DAGScheduler: Broadcasting large task binary with size 3.2 MiB\n",
      "24/06/06 00:41:33 WARN DAGScheduler: Broadcasting large task binary with size 3.2 MiB\n",
      "24/06/06 00:41:33 WARN DAGScheduler: Broadcasting large task binary with size 3.2 MiB\n",
      "24/06/06 00:41:33 WARN DAGScheduler: Broadcasting large task binary with size 3.2 MiB\n",
      "24/06/06 00:41:34 WARN DAGScheduler: Broadcasting large task binary with size 3.2 MiB\n",
      "24/06/06 00:41:34 WARN DAGScheduler: Broadcasting large task binary with size 3.2 MiB\n",
      "24/06/06 00:41:34 WARN DAGScheduler: Broadcasting large task binary with size 3.2 MiB\n",
      "24/06/06 00:41:34 WARN DAGScheduler: Broadcasting large task binary with size 3.2 MiB\n",
      "24/06/06 00:41:35 WARN DAGScheduler: Broadcasting large task binary with size 3.2 MiB\n",
      "24/06/06 00:41:35 WARN DAGScheduler: Broadcasting large task binary with size 3.2 MiB\n",
      "24/06/06 00:41:35 WARN DAGScheduler: Broadcasting large task binary with size 3.2 MiB\n",
      "24/06/06 00:41:36 WARN DAGScheduler: Broadcasting large task binary with size 3.2 MiB\n",
      "24/06/06 00:41:36 WARN DAGScheduler: Broadcasting large task binary with size 3.2 MiB\n",
      "24/06/06 00:41:36 WARN DAGScheduler: Broadcasting large task binary with size 3.2 MiB\n",
      "24/06/06 00:41:36 WARN DAGScheduler: Broadcasting large task binary with size 3.2 MiB\n",
      "24/06/06 00:41:36 WARN DAGScheduler: Broadcasting large task binary with size 3.2 MiB\n",
      "24/06/06 00:41:37 WARN DAGScheduler: Broadcasting large task binary with size 3.2 MiB\n",
      "24/06/06 00:41:37 WARN DAGScheduler: Broadcasting large task binary with size 3.2 MiB\n",
      "24/06/06 00:41:37 WARN DAGScheduler: Broadcasting large task binary with size 3.2 MiB\n",
      "24/06/06 00:41:37 WARN DAGScheduler: Broadcasting large task binary with size 3.2 MiB\n",
      "24/06/06 00:41:38 WARN DAGScheduler: Broadcasting large task binary with size 3.2 MiB\n",
      "24/06/06 00:41:38 WARN DAGScheduler: Broadcasting large task binary with size 3.2 MiB\n",
      "24/06/06 00:41:38 WARN DAGScheduler: Broadcasting large task binary with size 3.2 MiB\n",
      "24/06/06 00:41:39 WARN DAGScheduler: Broadcasting large task binary with size 3.2 MiB\n"
     ]
    },
    {
     "name": "stderr",
     "output_type": "stream",
     "text": [
      "24/06/06 00:41:39 WARN DAGScheduler: Broadcasting large task binary with size 3.2 MiB\n",
      "24/06/06 00:41:39 WARN DAGScheduler: Broadcasting large task binary with size 3.2 MiB\n",
      "24/06/06 00:41:39 WARN DAGScheduler: Broadcasting large task binary with size 3.2 MiB\n",
      "24/06/06 00:41:40 WARN DAGScheduler: Broadcasting large task binary with size 3.2 MiB\n",
      "24/06/06 00:41:40 WARN DAGScheduler: Broadcasting large task binary with size 3.2 MiB\n",
      "24/06/06 00:41:40 WARN DAGScheduler: Broadcasting large task binary with size 3.2 MiB\n",
      "24/06/06 00:41:40 WARN DAGScheduler: Broadcasting large task binary with size 3.2 MiB\n",
      "24/06/06 00:41:41 WARN DAGScheduler: Broadcasting large task binary with size 3.2 MiB\n",
      "24/06/06 00:41:41 WARN DAGScheduler: Broadcasting large task binary with size 3.2 MiB\n",
      "24/06/06 00:41:41 WARN DAGScheduler: Broadcasting large task binary with size 3.2 MiB\n",
      "24/06/06 00:41:41 WARN DAGScheduler: Broadcasting large task binary with size 3.2 MiB\n",
      "24/06/06 00:41:42 WARN DAGScheduler: Broadcasting large task binary with size 3.2 MiB\n",
      "24/06/06 00:41:42 WARN DAGScheduler: Broadcasting large task binary with size 3.2 MiB\n",
      "24/06/06 00:41:42 WARN DAGScheduler: Broadcasting large task binary with size 3.2 MiB\n",
      "24/06/06 00:41:42 WARN DAGScheduler: Broadcasting large task binary with size 3.2 MiB\n",
      "24/06/06 00:41:43 WARN DAGScheduler: Broadcasting large task binary with size 3.2 MiB\n",
      "24/06/06 00:41:43 WARN DAGScheduler: Broadcasting large task binary with size 3.2 MiB\n",
      "24/06/06 00:41:44 WARN DAGScheduler: Broadcasting large task binary with size 3.2 MiB\n",
      "24/06/06 00:41:44 WARN DAGScheduler: Broadcasting large task binary with size 3.2 MiB\n",
      "24/06/06 00:41:44 WARN DAGScheduler: Broadcasting large task binary with size 3.2 MiB\n",
      "24/06/06 00:41:44 WARN OnlineLDAOptimizer: The input data is not directly cached, which may hurt performance if its parent RDDs are also uncached.\n",
      "24/06/06 00:41:44 WARN DAGScheduler: Broadcasting large task binary with size 3.2 MiB\n",
      "24/06/06 00:41:44 WARN OnlineLDAOptimizer: The input data is not directly cached, which may hurt performance if its parent RDDs are also uncached.\n",
      "24/06/06 00:41:44 WARN DAGScheduler: Broadcasting large task binary with size 3.2 MiB\n",
      "24/06/06 00:41:44 WARN DAGScheduler: Broadcasting large task binary with size 3.2 MiB\n",
      "24/06/06 00:41:44 WARN DAGScheduler: Broadcasting large task binary with size 3.2 MiB\n",
      "24/06/06 00:41:45 WARN DAGScheduler: Broadcasting large task binary with size 3.2 MiB\n",
      "24/06/06 00:41:45 WARN DAGScheduler: Broadcasting large task binary with size 3.2 MiB\n",
      "24/06/06 00:41:45 WARN DAGScheduler: Broadcasting large task binary with size 3.2 MiB\n",
      "24/06/06 00:41:46 WARN DAGScheduler: Broadcasting large task binary with size 3.2 MiB\n",
      "24/06/06 00:41:46 WARN DAGScheduler: Broadcasting large task binary with size 3.2 MiB\n",
      "24/06/06 00:41:47 WARN DAGScheduler: Broadcasting large task binary with size 3.2 MiB\n",
      "24/06/06 00:41:47 WARN DAGScheduler: Broadcasting large task binary with size 3.2 MiB\n",
      "24/06/06 00:41:47 WARN DAGScheduler: Broadcasting large task binary with size 3.2 MiB\n",
      "24/06/06 00:41:48 WARN DAGScheduler: Broadcasting large task binary with size 3.2 MiB\n",
      "24/06/06 00:41:48 WARN DAGScheduler: Broadcasting large task binary with size 3.2 MiB\n",
      "24/06/06 00:41:48 WARN DAGScheduler: Broadcasting large task binary with size 3.2 MiB\n",
      "24/06/06 00:41:49 WARN DAGScheduler: Broadcasting large task binary with size 3.2 MiB\n",
      "24/06/06 00:41:49 WARN DAGScheduler: Broadcasting large task binary with size 3.2 MiB\n",
      "24/06/06 00:41:49 WARN DAGScheduler: Broadcasting large task binary with size 3.2 MiB\n",
      "24/06/06 00:41:49 WARN DAGScheduler: Broadcasting large task binary with size 3.2 MiB\n",
      "24/06/06 00:41:50 WARN DAGScheduler: Broadcasting large task binary with size 3.2 MiB\n",
      "24/06/06 00:41:50 WARN DAGScheduler: Broadcasting large task binary with size 3.2 MiB\n",
      "24/06/06 00:41:50 WARN DAGScheduler: Broadcasting large task binary with size 3.2 MiB\n",
      "24/06/06 00:41:51 WARN DAGScheduler: Broadcasting large task binary with size 3.2 MiB\n",
      "24/06/06 00:41:51 WARN DAGScheduler: Broadcasting large task binary with size 3.2 MiB\n",
      "24/06/06 00:41:51 WARN DAGScheduler: Broadcasting large task binary with size 3.2 MiB\n",
      "24/06/06 00:41:52 WARN DAGScheduler: Broadcasting large task binary with size 3.2 MiB\n",
      "24/06/06 00:41:52 WARN DAGScheduler: Broadcasting large task binary with size 3.2 MiB\n",
      "24/06/06 00:41:52 WARN DAGScheduler: Broadcasting large task binary with size 3.2 MiB\n",
      "24/06/06 00:41:53 WARN DAGScheduler: Broadcasting large task binary with size 3.2 MiB\n",
      "24/06/06 00:41:53 WARN DAGScheduler: Broadcasting large task binary with size 3.2 MiB\n",
      "24/06/06 00:41:53 WARN DAGScheduler: Broadcasting large task binary with size 3.2 MiB\n",
      "24/06/06 00:41:54 WARN DAGScheduler: Broadcasting large task binary with size 3.2 MiB\n",
      "24/06/06 00:41:54 WARN DAGScheduler: Broadcasting large task binary with size 3.2 MiB\n",
      "24/06/06 00:41:54 WARN DAGScheduler: Broadcasting large task binary with size 3.2 MiB\n",
      "24/06/06 00:41:54 WARN DAGScheduler: Broadcasting large task binary with size 3.2 MiB\n",
      "24/06/06 00:41:55 WARN DAGScheduler: Broadcasting large task binary with size 3.2 MiB\n",
      "24/06/06 00:41:55 WARN DAGScheduler: Broadcasting large task binary with size 3.2 MiB\n",
      "24/06/06 00:41:56 WARN DAGScheduler: Broadcasting large task binary with size 3.2 MiB\n",
      "24/06/06 00:41:56 WARN DAGScheduler: Broadcasting large task binary with size 3.2 MiB\n",
      "24/06/06 00:41:56 WARN DAGScheduler: Broadcasting large task binary with size 3.2 MiB\n",
      "24/06/06 00:41:57 WARN DAGScheduler: Broadcasting large task binary with size 3.2 MiB\n",
      "24/06/06 00:41:57 WARN DAGScheduler: Broadcasting large task binary with size 3.2 MiB\n",
      "24/06/06 00:41:57 WARN DAGScheduler: Broadcasting large task binary with size 3.2 MiB\n",
      "24/06/06 00:41:57 WARN DAGScheduler: Broadcasting large task binary with size 3.2 MiB\n",
      "24/06/06 00:41:57 WARN DAGScheduler: Broadcasting large task binary with size 3.2 MiB\n",
      "24/06/06 00:41:58 WARN DAGScheduler: Broadcasting large task binary with size 3.2 MiB\n",
      "24/06/06 00:41:58 WARN DAGScheduler: Broadcasting large task binary with size 3.2 MiB\n",
      "24/06/06 00:41:59 WARN DAGScheduler: Broadcasting large task binary with size 3.2 MiB\n",
      "24/06/06 00:41:59 WARN DAGScheduler: Broadcasting large task binary with size 3.2 MiB\n",
      "24/06/06 00:41:59 WARN DAGScheduler: Broadcasting large task binary with size 3.2 MiB\n",
      "24/06/06 00:42:00 WARN DAGScheduler: Broadcasting large task binary with size 3.2 MiB\n",
      "24/06/06 00:42:00 WARN DAGScheduler: Broadcasting large task binary with size 3.2 MiB\n",
      "24/06/06 00:42:00 WARN DAGScheduler: Broadcasting large task binary with size 3.2 MiB\n",
      "24/06/06 00:42:00 WARN DAGScheduler: Broadcasting large task binary with size 3.2 MiB\n",
      "24/06/06 00:42:01 WARN DAGScheduler: Broadcasting large task binary with size 3.2 MiB\n",
      "24/06/06 00:42:01 WARN DAGScheduler: Broadcasting large task binary with size 3.2 MiB\n",
      "24/06/06 00:42:02 WARN DAGScheduler: Broadcasting large task binary with size 3.2 MiB\n",
      "24/06/06 00:42:02 WARN DAGScheduler: Broadcasting large task binary with size 3.2 MiB\n",
      "24/06/06 00:42:02 WARN DAGScheduler: Broadcasting large task binary with size 3.2 MiB\n",
      "24/06/06 00:42:03 WARN DAGScheduler: Broadcasting large task binary with size 3.2 MiB\n",
      "24/06/06 00:42:03 WARN DAGScheduler: Broadcasting large task binary with size 3.2 MiB\n",
      "24/06/06 00:42:03 WARN DAGScheduler: Broadcasting large task binary with size 3.2 MiB\n",
      "24/06/06 00:42:03 WARN DAGScheduler: Broadcasting large task binary with size 3.2 MiB\n",
      "24/06/06 00:42:04 WARN DAGScheduler: Broadcasting large task binary with size 3.2 MiB\n",
      "24/06/06 00:42:04 WARN DAGScheduler: Broadcasting large task binary with size 3.2 MiB\n",
      "24/06/06 00:42:04 WARN DAGScheduler: Broadcasting large task binary with size 3.2 MiB\n",
      "24/06/06 00:42:04 WARN DAGScheduler: Broadcasting large task binary with size 3.2 MiB\n",
      "24/06/06 00:42:05 WARN DAGScheduler: Broadcasting large task binary with size 3.2 MiB\n",
      "24/06/06 00:42:05 WARN DAGScheduler: Broadcasting large task binary with size 3.2 MiB\n",
      "24/06/06 00:42:05 WARN DAGScheduler: Broadcasting large task binary with size 3.2 MiB\n",
      "24/06/06 00:42:06 WARN DAGScheduler: Broadcasting large task binary with size 3.2 MiB\n",
      "24/06/06 00:42:06 WARN DAGScheduler: Broadcasting large task binary with size 3.2 MiB\n"
     ]
    },
    {
     "name": "stderr",
     "output_type": "stream",
     "text": [
      "24/06/06 00:42:06 WARN DAGScheduler: Broadcasting large task binary with size 3.2 MiB\n",
      "24/06/06 00:42:07 WARN DAGScheduler: Broadcasting large task binary with size 3.2 MiB\n",
      "24/06/06 00:42:07 WARN DAGScheduler: Broadcasting large task binary with size 3.2 MiB\n",
      "24/06/06 00:42:07 WARN DAGScheduler: Broadcasting large task binary with size 3.2 MiB\n",
      "24/06/06 00:42:08 WARN BlockManager: Asked to remove block broadcast_2700_piece0, which does not exist\n",
      "24/06/06 00:42:08 WARN DAGScheduler: Broadcasting large task binary with size 3.2 MiB\n",
      "24/06/06 00:42:08 WARN DAGScheduler: Broadcasting large task binary with size 3.2 MiB\n",
      "24/06/06 00:42:08 WARN DAGScheduler: Broadcasting large task binary with size 3.2 MiB\n",
      "24/06/06 00:42:09 WARN DAGScheduler: Broadcasting large task binary with size 3.2 MiB\n",
      "24/06/06 00:42:09 WARN DAGScheduler: Broadcasting large task binary with size 3.2 MiB\n",
      "24/06/06 00:42:09 WARN DAGScheduler: Broadcasting large task binary with size 3.2 MiB\n",
      "24/06/06 00:42:10 WARN DAGScheduler: Broadcasting large task binary with size 3.2 MiB\n",
      "24/06/06 00:42:10 WARN DAGScheduler: Broadcasting large task binary with size 3.2 MiB\n",
      "24/06/06 00:42:10 WARN DAGScheduler: Broadcasting large task binary with size 3.2 MiB\n",
      "24/06/06 00:42:11 WARN DAGScheduler: Broadcasting large task binary with size 3.2 MiB\n",
      "24/06/06 00:42:11 WARN DAGScheduler: Broadcasting large task binary with size 3.2 MiB\n",
      "24/06/06 00:42:11 WARN DAGScheduler: Broadcasting large task binary with size 3.2 MiB\n",
      "24/06/06 00:42:11 WARN DAGScheduler: Broadcasting large task binary with size 3.2 MiB\n",
      "24/06/06 00:42:12 WARN DAGScheduler: Broadcasting large task binary with size 3.2 MiB\n",
      "24/06/06 00:42:12 WARN DAGScheduler: Broadcasting large task binary with size 3.2 MiB\n",
      "24/06/06 00:42:13 WARN DAGScheduler: Broadcasting large task binary with size 3.2 MiB\n",
      "24/06/06 00:42:13 WARN DAGScheduler: Broadcasting large task binary with size 3.2 MiB\n",
      "24/06/06 00:42:13 WARN DAGScheduler: Broadcasting large task binary with size 3.2 MiB\n",
      "24/06/06 00:42:14 WARN DAGScheduler: Broadcasting large task binary with size 3.2 MiB\n",
      "24/06/06 00:42:14 WARN DAGScheduler: Broadcasting large task binary with size 3.2 MiB\n",
      "24/06/06 00:42:14 WARN DAGScheduler: Broadcasting large task binary with size 3.2 MiB\n",
      "24/06/06 00:42:14 WARN OnlineLDAOptimizer: The input data is not directly cached, which may hurt performance if its parent RDDs are also uncached.\n",
      "24/06/06 00:42:14 WARN DAGScheduler: Broadcasting large task binary with size 3.2 MiB\n",
      "24/06/06 00:42:14 WARN DAGScheduler: Broadcasting large task binary with size 3.2 MiB\n",
      "24/06/06 00:42:15 WARN DAGScheduler: Broadcasting large task binary with size 3.2 MiB\n",
      "24/06/06 00:42:15 WARN DAGScheduler: Broadcasting large task binary with size 3.2 MiB\n",
      "24/06/06 00:42:16 WARN DAGScheduler: Broadcasting large task binary with size 3.2 MiB\n",
      "24/06/06 00:42:16 WARN DAGScheduler: Broadcasting large task binary with size 3.2 MiB\n",
      "24/06/06 00:42:16 WARN DAGScheduler: Broadcasting large task binary with size 3.2 MiB\n",
      "24/06/06 00:42:16 WARN DAGScheduler: Broadcasting large task binary with size 3.2 MiB\n",
      "24/06/06 00:42:17 WARN DAGScheduler: Broadcasting large task binary with size 3.2 MiB\n",
      "24/06/06 00:42:17 WARN DAGScheduler: Broadcasting large task binary with size 3.2 MiB\n",
      "24/06/06 00:42:17 WARN DAGScheduler: Broadcasting large task binary with size 3.2 MiB\n",
      "24/06/06 00:42:18 WARN DAGScheduler: Broadcasting large task binary with size 3.2 MiB\n",
      "24/06/06 00:42:18 WARN DAGScheduler: Broadcasting large task binary with size 3.2 MiB\n",
      "24/06/06 00:42:18 WARN DAGScheduler: Broadcasting large task binary with size 3.2 MiB\n",
      "24/06/06 00:42:19 WARN DAGScheduler: Broadcasting large task binary with size 3.2 MiB\n",
      "24/06/06 00:42:19 WARN DAGScheduler: Broadcasting large task binary with size 3.2 MiB\n",
      "24/06/06 00:42:19 WARN DAGScheduler: Broadcasting large task binary with size 3.2 MiB\n",
      "24/06/06 00:42:19 WARN DAGScheduler: Broadcasting large task binary with size 3.2 MiB\n",
      "24/06/06 00:42:20 WARN DAGScheduler: Broadcasting large task binary with size 3.2 MiB\n",
      "24/06/06 00:42:20 WARN DAGScheduler: Broadcasting large task binary with size 3.2 MiB\n",
      "24/06/06 00:42:20 WARN DAGScheduler: Broadcasting large task binary with size 3.2 MiB\n",
      "24/06/06 00:42:21 WARN DAGScheduler: Broadcasting large task binary with size 3.2 MiB\n",
      "24/06/06 00:42:21 WARN DAGScheduler: Broadcasting large task binary with size 3.2 MiB\n",
      "24/06/06 00:42:21 WARN DAGScheduler: Broadcasting large task binary with size 3.2 MiB\n",
      "24/06/06 00:42:21 WARN DAGScheduler: Broadcasting large task binary with size 3.2 MiB\n",
      "24/06/06 00:42:22 WARN DAGScheduler: Broadcasting large task binary with size 3.2 MiB\n",
      "24/06/06 00:42:22 WARN DAGScheduler: Broadcasting large task binary with size 3.2 MiB\n",
      "24/06/06 00:42:22 WARN DAGScheduler: Broadcasting large task binary with size 3.2 MiB\n",
      "24/06/06 00:42:23 WARN DAGScheduler: Broadcasting large task binary with size 3.2 MiB\n",
      "24/06/06 00:42:23 WARN DAGScheduler: Broadcasting large task binary with size 3.2 MiB\n",
      "24/06/06 00:42:23 WARN DAGScheduler: Broadcasting large task binary with size 3.2 MiB\n",
      "24/06/06 00:42:23 WARN DAGScheduler: Broadcasting large task binary with size 3.2 MiB\n",
      "24/06/06 00:42:24 WARN DAGScheduler: Broadcasting large task binary with size 3.2 MiB\n",
      "24/06/06 00:42:24 WARN DAGScheduler: Broadcasting large task binary with size 3.2 MiB\n",
      "24/06/06 00:42:24 WARN DAGScheduler: Broadcasting large task binary with size 3.2 MiB\n",
      "24/06/06 00:42:24 WARN DAGScheduler: Broadcasting large task binary with size 3.2 MiB\n",
      "24/06/06 00:42:25 WARN OnlineLDAOptimizer: The input data is not directly cached, which may hurt performance if its parent RDDs are also uncached.\n",
      "24/06/06 00:42:25 WARN DAGScheduler: Broadcasting large task binary with size 3.2 MiB\n",
      "24/06/06 00:42:25 WARN DAGScheduler: Broadcasting large task binary with size 3.2 MiB\n",
      "24/06/06 00:42:25 WARN DAGScheduler: Broadcasting large task binary with size 3.2 MiB\n",
      "24/06/06 00:42:26 WARN DAGScheduler: Broadcasting large task binary with size 3.2 MiB\n",
      "24/06/06 00:42:26 WARN DAGScheduler: Broadcasting large task binary with size 3.2 MiB\n",
      "24/06/06 00:42:26 WARN DAGScheduler: Broadcasting large task binary with size 3.2 MiB\n",
      "24/06/06 00:42:27 WARN DAGScheduler: Broadcasting large task binary with size 3.2 MiB\n",
      "24/06/06 00:42:27 WARN DAGScheduler: Broadcasting large task binary with size 3.2 MiB\n",
      "24/06/06 00:42:27 WARN DAGScheduler: Broadcasting large task binary with size 3.2 MiB\n",
      "24/06/06 00:42:28 WARN DAGScheduler: Broadcasting large task binary with size 3.2 MiB\n",
      "24/06/06 00:42:28 WARN DAGScheduler: Broadcasting large task binary with size 3.2 MiB\n",
      "24/06/06 00:42:28 WARN DAGScheduler: Broadcasting large task binary with size 3.2 MiB\n",
      "24/06/06 00:42:29 WARN DAGScheduler: Broadcasting large task binary with size 3.2 MiB\n",
      "24/06/06 00:42:29 WARN DAGScheduler: Broadcasting large task binary with size 3.2 MiB\n",
      "24/06/06 00:42:29 WARN DAGScheduler: Broadcasting large task binary with size 3.2 MiB\n",
      "24/06/06 00:42:30 WARN DAGScheduler: Broadcasting large task binary with size 3.2 MiB\n",
      "24/06/06 00:42:30 WARN DAGScheduler: Broadcasting large task binary with size 3.2 MiB\n",
      "24/06/06 00:42:30 WARN DAGScheduler: Broadcasting large task binary with size 3.2 MiB\n",
      "24/06/06 00:42:30 WARN DAGScheduler: Broadcasting large task binary with size 3.2 MiB\n",
      "24/06/06 00:42:31 WARN DAGScheduler: Broadcasting large task binary with size 3.2 MiB\n",
      "24/06/06 00:42:31 WARN DAGScheduler: Broadcasting large task binary with size 3.2 MiB\n",
      "24/06/06 00:42:31 WARN DAGScheduler: Broadcasting large task binary with size 3.2 MiB\n",
      "24/06/06 00:42:31 WARN DAGScheduler: Broadcasting large task binary with size 3.2 MiB\n",
      "24/06/06 00:42:32 WARN DAGScheduler: Broadcasting large task binary with size 3.2 MiB\n",
      "24/06/06 00:42:32 WARN DAGScheduler: Broadcasting large task binary with size 3.2 MiB\n",
      "24/06/06 00:42:32 WARN DAGScheduler: Broadcasting large task binary with size 3.2 MiB\n",
      "24/06/06 00:42:33 WARN DAGScheduler: Broadcasting large task binary with size 3.2 MiB\n",
      "24/06/06 00:42:33 WARN DAGScheduler: Broadcasting large task binary with size 3.2 MiB\n",
      "24/06/06 00:42:33 WARN DAGScheduler: Broadcasting large task binary with size 3.2 MiB\n",
      "24/06/06 00:42:34 WARN DAGScheduler: Broadcasting large task binary with size 3.2 MiB\n"
     ]
    },
    {
     "name": "stderr",
     "output_type": "stream",
     "text": [
      "24/06/06 00:42:34 WARN DAGScheduler: Broadcasting large task binary with size 3.2 MiB\n",
      "24/06/06 00:42:34 WARN DAGScheduler: Broadcasting large task binary with size 3.2 MiB\n",
      "24/06/06 00:42:35 WARN DAGScheduler: Broadcasting large task binary with size 3.2 MiB\n",
      "24/06/06 00:42:35 WARN DAGScheduler: Broadcasting large task binary with size 3.2 MiB\n",
      "24/06/06 00:42:35 WARN DAGScheduler: Broadcasting large task binary with size 3.2 MiB\n",
      "24/06/06 00:42:35 WARN DAGScheduler: Broadcasting large task binary with size 3.2 MiB\n",
      "24/06/06 00:42:36 WARN DAGScheduler: Broadcasting large task binary with size 3.2 MiB\n",
      "24/06/06 00:42:36 WARN DAGScheduler: Broadcasting large task binary with size 3.2 MiB\n",
      "24/06/06 00:42:36 WARN DAGScheduler: Broadcasting large task binary with size 3.2 MiB\n",
      "24/06/06 00:42:37 WARN DAGScheduler: Broadcasting large task binary with size 3.2 MiB\n",
      "24/06/06 00:42:37 WARN DAGScheduler: Broadcasting large task binary with size 3.2 MiB\n",
      "24/06/06 00:42:37 WARN DAGScheduler: Broadcasting large task binary with size 3.2 MiB\n",
      "24/06/06 00:42:38 WARN DAGScheduler: Broadcasting large task binary with size 3.2 MiB\n",
      "24/06/06 00:42:38 WARN DAGScheduler: Broadcasting large task binary with size 3.2 MiB\n",
      "24/06/06 00:42:38 WARN DAGScheduler: Broadcasting large task binary with size 3.2 MiB\n"
     ]
    }
   ],
   "source": [
    "results = train_and_evaluate_model(pipeline)"
   ]
  },
  {
   "cell_type": "code",
   "execution_count": null,
   "metadata": {
    "id": "ycLhdvlMJ8nB"
   },
   "outputs": [],
   "source": [
    "results[0]"
   ]
  },
  {
   "cell_type": "code",
   "execution_count": null,
   "metadata": {
    "id": "OQNk6X_RKBuE"
   },
   "outputs": [],
   "source": [
    "results[1]"
   ]
  },
  {
   "cell_type": "markdown",
   "metadata": {
    "id": "808-IeqCNb1v"
   },
   "source": [
    "We remark that\n",
    "- Naive Bayes\n",
    "- Logistic regression\n",
    "\n",
    "We can then conclude that t\n",
    "- he two models set a good performance on both training and test set.\n",
    "- The Logistic regression models outperforms the Naive Bayes model\n",
    "\n",
    "In the next section, we will tune the parameters of the Naive bayes to get the best parameters."
   ]
  },
  {
   "cell_type": "markdown",
   "metadata": {
    "id": "xkME6ByNOegG"
   },
   "source": [
    "## VI- Logistic regression hyperparameters tuning"
   ]
  },
  {
   "cell_type": "markdown",
   "metadata": {
    "id": "pAWi0NqwSzgp"
   },
   "source": [
    "### 1. Pipeline creation"
   ]
  },
  {
   "cell_type": "code",
   "execution_count": null,
   "metadata": {
    "id": "Wtq5K0JbOdpD"
   },
   "outputs": [],
   "source": [
    "# Define parameter grids for Logistic regresion grid search\n",
    "reg_values = np.logspace(-4, 4, num=100)\n",
    "l1_ratios = np.linspace(0, 1, num=10)\n",
    "\n",
    "paramGrid_lr=paramGrid_lr.addGrid(lr.regParam, reg_values).build()\n",
    "\n",
    "# Create Cross-validation for Logistic Regression\n",
    "cv_lr = CrossValidator(estimator=lr, estimatorParamMaps=paramGrid_lr,\n",
    "                        evaluator=MulticlassClassificationEvaluator(labelCol=\"category_label\", predictionCol=\"prediction\", metricName=\"accuracy\"),\n",
    "                        numFolds=3, parallelism=1)\n",
    "\n",
    "\n",
    "# Create pipeline for Logistic Regression\n",
    "pipeline_lr = Pipeline(stages=[hashingTF, idf, cv_lr])\n",
    "\n",
    "pipeline_lr"
   ]
  },
  {
   "cell_type": "markdown",
   "metadata": {
    "id": "0XhMJxEzS87h"
   },
   "source": [
    "### 2. Hyperparameters tuning"
   ]
  },
  {
   "cell_type": "code",
   "execution_count": null,
   "metadata": {
    "id": "4bSLe3K5TL1L"
   },
   "outputs": [],
   "source": [
    "results=train_and_evaluate_models(model_pipelines=[pipeline_lr],model_names=[\"Logistic Regression\"])\n",
    "results"
   ]
  },
  {
   "cell_type": "markdown",
   "metadata": {
    "id": "yUlLvsWVTkDy"
   },
   "source": [
    "### 3. Get the best parameters"
   ]
  },
  {
   "cell_type": "code",
   "execution_count": null,
   "metadata": {
    "id": "k5rCb_boTk3e"
   },
   "outputs": [],
   "source": [
    "fitted_model=results['fitted_model']\n",
    "\n",
    "# Get the best model\n",
    "best_model = fitted_model.stages[-1].bestModel\n",
    "\n",
    "# Print the best parameters\n",
    "print(f\"Best parameters for Logistic regression:\")\n",
    "\n",
    "for param, value in best_model.extractParamMap().items():\n",
    "     print(f\"  {param.name}: {value}\")"
   ]
  },
  {
   "cell_type": "markdown",
   "metadata": {
    "id": "uEH0OfIqUxOg"
   },
   "source": [
    "### 4. Save the best model"
   ]
  },
  {
   "cell_type": "code",
   "execution_count": null,
   "metadata": {
    "id": "xX4pmvAVBByZ",
    "outputId": "843aa553-e419-43ba-dbb3-3ebb1a67f454"
   },
   "outputs": [
    {
     "name": "stderr",
     "output_type": "stream",
     "text": [
      "24/06/04 20:03:43 WARN TaskSetManager: Stage 216 contains a task of very large size (33450 KiB). The maximum recommended task size is 1000 KiB.\n",
      "                                                                                \r"
     ]
    }
   ],
   "source": [
    "best_model.save('output/news_categorization_model')"
   ]
  },
  {
   "cell_type": "markdown",
   "metadata": {
    "id": "GnFsw8x5Vyy2"
   },
   "source": [
    "## VII- Summary\n",
    "\n",
    "In this notebook we have studied two models for our news categorization task. There are Naive Bayes and Logistic regression.\n",
    "\n",
    " Our study reveals that the Logistic regression was the one with best performance.\n",
    "\n",
    " Then we tunned the Logistic regression hyperparameters using grid search and then we find the best model that we save.\n",
    "\n",
    " The next step of our work will be to ..."
   ]
  },
  {
   "cell_type": "code",
   "execution_count": null,
   "metadata": {
    "id": "NSyD5awwBByb"
   },
   "outputs": [],
   "source": [
    "#df.unpersist()"
   ]
  }
 ],
 "metadata": {
  "colab": {
   "provenance": []
  },
  "kernelspec": {
   "display_name": "Python 3 (ipykernel)",
   "language": "python",
   "name": "python3"
  },
  "language_info": {
   "codemirror_mode": {
    "name": "ipython",
    "version": 3
   },
   "file_extension": ".py",
   "mimetype": "text/x-python",
   "name": "python",
   "nbconvert_exporter": "python",
   "pygments_lexer": "ipython3",
   "version": "3.8.2"
  }
 },
 "nbformat": 4,
 "nbformat_minor": 1
}
