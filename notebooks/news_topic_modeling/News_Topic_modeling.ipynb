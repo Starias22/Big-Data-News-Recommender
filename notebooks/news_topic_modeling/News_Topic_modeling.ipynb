{
  "cells": [
    {
      "cell_type": "markdown",
      "metadata": {
        "id": "u-qFVy2lBaqu"
      },
      "source": [
        "# News Topic modeling\n"
      ]
    },
    {
      "cell_type": "markdown",
      "metadata": {
        "id": "mNfMRWDbFXDJ"
      },
      "source": [
        "## I- Modules import"
      ]
    },
    {
      "cell_type": "code",
      "execution_count": null,
      "metadata": {
        "id": "3QYNQcr-FQLs"
      },
      "outputs": [],
      "source": [
        "from pyspark import SparkConf, SparkContext\n",
        "from pyspark.sql import SparkSession\n",
        "from pyspark.ml.evaluation import MulticlassClassificationEvaluator\n",
        "from pyspark.ml.feature import  IDF, HashingTF,CountVectorizer\n",
        "from pyspark.ml import  Pipeline\n",
        "from math import ceil,log2\n",
        "from pyspark.ml.classification import LogisticRegression,NaiveBayes,LogisticRegressionModel\n",
        "from pyspark.sql.functions import col,explode,split\n",
        "from pyspark.ml import Pipeline\n",
        "\n",
        "from pyspark.ml.clustering import LDA\n",
        "\n",
        "\n",
        "import numpy as np\n"
      ]
    },
    {
      "cell_type": "markdown",
      "metadata": {
        "id": "Nj7Qu-EvK9_Y"
      },
      "source": [
        "## II- Spark context and session creation"
      ]
    },
    {
      "cell_type": "code",
      "execution_count": null,
      "metadata": {
        "colab": {
          "base_uri": "https://localhost:8080/",
          "height": 219
        },
        "id": "aFZWn6-QBByS",
        "outputId": "cc18968f-50af-4a70-9d51-126be08a96c8",
        "scrolled": false
      },
      "outputs": [
        {
          "name": "stderr",
          "output_type": "stream",
          "text": [
            "Setting default log level to \"WARN\".\n",
            "To adjust logging level use sc.setLogLevel(newLevel). For SparkR, use setLogLevel(newLevel).\n",
            "24/06/08 15:20:43 WARN NativeCodeLoader: Unable to load native-hadoop library for your platform... using builtin-java classes where applicable\n"
          ]
        },
        {
          "data": {
            "text/html": [
              "\n",
              "            <div>\n",
              "                <p><b>SparkSession - in-memory</b></p>\n",
              "                \n",
              "        <div>\n",
              "            <p><b>SparkContext</b></p>\n",
              "\n",
              "            <p><a href=\"http://node15.cm.cluster:4040\">Spark UI</a></p>\n",
              "\n",
              "            <dl>\n",
              "              <dt>Version</dt>\n",
              "                <dd><code>v3.5.1</code></dd>\n",
              "              <dt>Master</dt>\n",
              "                <dd><code>spark://node02:7077</code></dd>\n",
              "              <dt>AppName</dt>\n",
              "                <dd><code>NewsTopicModeling</code></dd>\n",
              "            </dl>\n",
              "        </div>\n",
              "        \n",
              "            </div>\n",
              "        "
            ],
            "text/plain": [
              "<pyspark.sql.session.SparkSession at 0x7fffb37a2d90>"
            ]
          },
          "execution_count": 2,
          "metadata": {},
          "output_type": "execute_result"
        }
      ],
      "source": [
        "spark = (SparkSession.builder\n",
        "    .master(\"spark://node02:7077\")\n",
        "    .appName(\"NewsTopicModeling\")\n",
        "    .getOrCreate()\n",
        "        )\n",
        "spark"
      ]
    },
    {
      "cell_type": "markdown",
      "metadata": {
        "id": "PuV9CWoMN60A"
      },
      "source": [
        "## III- Dataframe preparing"
      ]
    },
    {
      "cell_type": "markdown",
      "metadata": {
        "id": "Em4ZWvqhPoHt"
      },
      "source": [
        "### 1. Load the data"
      ]
    },
    {
      "cell_type": "code",
      "execution_count": null,
      "metadata": {
        "id": "xMI_45McvZto",
        "outputId": "90225c3f-2d6b-4538-9654-f3ed34df5ad6"
      },
      "outputs": [
        {
          "name": "stderr",
          "output_type": "stream",
          "text": [
            "                                                                                \r"
          ]
        }
      ],
      "source": [
        "# Load data\n",
        "df = spark.read.parquet(\"input/news.parquet\", header=True, inferSchema=True)"
      ]
    },
    {
      "cell_type": "markdown",
      "metadata": {
        "id": "x4csdl2FOVf8"
      },
      "source": [
        "### 2. Partition and cache the dataframe"
      ]
    },
    {
      "cell_type": "code",
      "execution_count": null,
      "metadata": {
        "colab": {
          "base_uri": "https://localhost:8080/"
        },
        "id": "4EXrJ3GIBByT",
        "outputId": "0d866061-6fee-4bbb-fd79-84c946204d72"
      },
      "outputs": [
        {
          "data": {
            "text/plain": [
              "9"
            ]
          },
          "execution_count": 10,
          "metadata": {},
          "output_type": "execute_result"
        }
      ],
      "source": [
        "df.rdd.getNumPartitions()"
      ]
    },
    {
      "cell_type": "code",
      "execution_count": null,
      "metadata": {
        "id": "PPBefKKqBByU"
      },
      "outputs": [],
      "source": [
        "num_partitions=4*20\n",
        "df= df.repartition(num_partitions).cache()"
      ]
    },
    {
      "cell_type": "code",
      "execution_count": null,
      "metadata": {
        "colab": {
          "base_uri": "https://localhost:8080/"
        },
        "id": "ytFY1tjRBByU",
        "outputId": "cf5d7480-394e-43ac-e8e0-bc5cef64d4e2"
      },
      "outputs": [
        {
          "name": "stderr",
          "output_type": "stream",
          "text": [
            "[Stage 3:============================================>           (64 + 16) / 80]\r"
          ]
        },
        {
          "data": {
            "text/plain": [
              "80"
            ]
          },
          "execution_count": 12,
          "metadata": {},
          "output_type": "execute_result"
        }
      ],
      "source": [
        "df.rdd.getNumPartitions()"
      ]
    },
    {
      "cell_type": "markdown",
      "metadata": {
        "id": "4G5XozIiQTEx"
      },
      "source": [
        "### 3. Preview the data"
      ]
    },
    {
      "cell_type": "code",
      "execution_count": null,
      "metadata": {
        "colab": {
          "base_uri": "https://localhost:8080/"
        },
        "id": "r86OcjwLv0EU",
        "outputId": "63e295fa-1b60-414b-f44f-3f8c8fd24a4b"
      },
      "outputs": [
        {
          "name": "stderr",
          "output_type": "stream",
          "text": [
            "                                                                                \r"
          ]
        },
        {
          "data": {
            "text/plain": [
              "1716608"
            ]
          },
          "execution_count": 13,
          "metadata": {},
          "output_type": "execute_result"
        }
      ],
      "source": [
        "df.count()"
      ]
    },
    {
      "cell_type": "code",
      "execution_count": null,
      "metadata": {
        "colab": {
          "base_uri": "https://localhost:8080/"
        },
        "id": "sfy_ivN4BByV",
        "outputId": "c374612e-8073-411f-a842-736cbe7eef50"
      },
      "outputs": [
        {
          "name": "stdout",
          "output_type": "stream",
          "text": [
            "+--------------+--------------------+\n",
            "|category_label|description_filtered|\n",
            "+--------------+--------------------+\n",
            "|          17.0|fourth july nupti...|\n",
            "|          18.0|marilyn marilyn m...|\n",
            "|          19.0|protrump troll ta...|\n",
            "|          20.0|huffpost story gr...|\n",
            "|          17.0|oct represent upr...|\n",
            "|          20.0|yoga aid maine ho...|\n",
            "|          19.0|portrait postapar...|\n",
            "|          19.0|remuneration care...|\n",
            "|          17.0|barbie ken marria...|\n",
            "|          19.0|roald dahl true g...|\n",
            "|          16.0|beyonc nt need sy...|\n",
            "|          19.0|solidness gold li...|\n",
            "|          19.0|bront society mel...|\n",
            "|          17.0|wedding donts dig...|\n",
            "|          19.0|dale chihuly youn...|\n",
            "|          18.0|child divorce kid...|\n",
            "|          17.0|bridal marketplac...|\n",
            "|          16.0|tyrese apologizes...|\n",
            "|          20.0|preacher speaks m...|\n",
            "|          16.0|marcus antonius a...|\n",
            "+--------------+--------------------+\n",
            "only showing top 20 rows\n",
            "\n"
          ]
        }
      ],
      "source": [
        "df.show()"
      ]
    },
    {
      "cell_type": "code",
      "execution_count": null,
      "metadata": {
        "colab": {
          "base_uri": "https://localhost:8080/"
        },
        "id": "awWri7zZQcOl",
        "outputId": "80402c12-f32a-483f-9ed0-ddad43eda4c4"
      },
      "outputs": [
        {
          "name": "stdout",
          "output_type": "stream",
          "text": [
            "root\n",
            " |-- category_label: double (nullable = true)\n",
            " |-- description_filtered: string (nullable = true)\n",
            "\n"
          ]
        }
      ],
      "source": [
        "df.printSchema()"
      ]
    },
    {
      "cell_type": "markdown",
      "metadata": {
        "id": "VMpXsNNsO_Z6"
      },
      "source": [
        "### 4. Convert filtered descriptions to arrays"
      ]
    },
    {
      "cell_type": "code",
      "execution_count": null,
      "metadata": {
        "colab": {
          "base_uri": "https://localhost:8080/"
        },
        "id": "Drqnhee0i26r",
        "outputId": "63a0cd7d-df8f-45c9-a6b5-ef7cf9bf7ebc"
      },
      "outputs": [
        {
          "name": "stdout",
          "output_type": "stream",
          "text": [
            "+--------------+--------------------------------------------------------------------------------------------------+\n",
            "|category_label|description_filtered                                                                              |\n",
            "+--------------+--------------------------------------------------------------------------------------------------+\n",
            "|17.0          |[fourth, july, nuptials, mate, recreates, big, solar, day, every, year]                           |\n",
            "|18.0          |[marilyn, marilyn, monroe, quote, dearest, honour, death, day, remembrance]                       |\n",
            "|19.0          |[protrump, troll, target, megyn, kelly, new, book, amazon, river]                                 |\n",
            "|20.0          |[huffpost, story, grisly, killing, show, rampant, transphobia, brazil]                            |\n",
            "|17.0          |[oct, represent, upright, calendar, month, trade, hymeneal, garb]                                 |\n",
            "|20.0          |[yoga, aid, maine, honey, bigger, consistency]                                                    |\n",
            "|19.0          |[portrait, postapartheid, confederate, state, america, africa, endeavor, shed, light, inequality] |\n",
            "|19.0          |[remuneration, care, folk, music, behind, mantle]                                                 |\n",
            "|17.0          |[barbie, ken, marriage, doll, house, lensman, dina, goldstein, capture, nighttime, english, photo]|\n",
            "|19.0          |[roald, dahl, true, genius, washington, audiobook, proofreader]                                   |\n",
            "|16.0          |[beyonc, nt, need, sympathy, need, everyone, honor, life, story]                                  |\n",
            "|19.0          |[solidness, gold, lifesize, darth, vader, masque, sale, 14, million]                              |\n",
            "|19.0          |[bront, society, melodramatic, bronts, wealthy, person, desire]                                   |\n",
            "|17.0          |[wedding, donts, digital, era]                                                                    |\n",
            "|19.0          |[dale, chihuly, young, man, camel, riding, tourist, eyepatchwearing, glassblower, photo]          |\n",
            "|18.0          |[child, divorce, kid, need, know, parent, disassociate]                                           |\n",
            "|17.0          |[bridal, marketplace, 2012, livestreaming, coverage, knot, telecasting]                           |\n",
            "|16.0          |[tyrese, apologizes, male, chauvinist, rant, cleaning, lady, continue, run, business, enterprise] |\n",
            "|20.0          |[preacher, speaks, misogyny, look, evangelical, lap]                                              |\n",
            "|16.0          |[marcus, antonius, anderson, recall, time, evergreen, state, mistaken, idris, elba]               |\n",
            "+--------------+--------------------------------------------------------------------------------------------------+\n",
            "only showing top 20 rows\n",
            "\n"
          ]
        }
      ],
      "source": [
        "# Create a new DataFrame with description_filtered as arrays\n",
        "df= df.withColumn('description_filtered', split(col('description_filtered'), ' '))\n",
        "# Show the new DataFrame\n",
        "df.show(truncate=False)"
      ]
    },
    {
      "cell_type": "markdown",
      "metadata": {
        "id": "3RmBazOpQqXF"
      },
      "source": [
        "## IV- Feature Engineering\n"
      ]
    },
    {
      "cell_type": "markdown",
      "metadata": {
        "id": "LjsTG0YLSyEn"
      },
      "source": [
        "### 1. Explode the filtered descriptions to get the words"
      ]
    },
    {
      "cell_type": "code",
      "execution_count": null,
      "metadata": {
        "colab": {
          "base_uri": "https://localhost:8080/"
        },
        "id": "4qON2vCKBByX",
        "outputId": "3b8af783-1259-46dd-9346-ee5ee60033c4"
      },
      "outputs": [
        {
          "name": "stdout",
          "output_type": "stream",
          "text": [
            "+-----------+\n",
            "|        col|\n",
            "+-----------+\n",
            "|     fourth|\n",
            "|       july|\n",
            "|   nuptials|\n",
            "|       mate|\n",
            "|  recreates|\n",
            "|        big|\n",
            "|      solar|\n",
            "|        day|\n",
            "|      every|\n",
            "|       year|\n",
            "|    marilyn|\n",
            "|    marilyn|\n",
            "|     monroe|\n",
            "|      quote|\n",
            "|    dearest|\n",
            "|     honour|\n",
            "|      death|\n",
            "|        day|\n",
            "|remembrance|\n",
            "|   protrump|\n",
            "+-----------+\n",
            "only showing top 20 rows\n",
            "\n"
          ]
        }
      ],
      "source": [
        "exploded_df=df.select(explode(df.description_filtered)).alias('words')\n",
        "exploded_df.show()"
      ]
    },
    {
      "cell_type": "markdown",
      "metadata": {
        "id": "MohTRQirTXD3"
      },
      "source": [
        "### 2. Get unique words in the filtered_description"
      ]
    },
    {
      "cell_type": "code",
      "execution_count": null,
      "metadata": {
        "id": "2NbJFyQlBByX"
      },
      "outputs": [],
      "source": [
        "unique_words=exploded_df.distinct()"
      ]
    },
    {
      "cell_type": "markdown",
      "metadata": {
        "id": "t-UjxthKU0Rq"
      },
      "source": [
        "### 3. Cache and show the unique words dataframe"
      ]
    },
    {
      "cell_type": "code",
      "execution_count": null,
      "metadata": {
        "colab": {
          "base_uri": "https://localhost:8080/"
        },
        "id": "h1S8h39xBByX",
        "outputId": "8c884387-1347-4441-d313-56027086df18"
      },
      "outputs": [
        {
          "name": "stderr",
          "output_type": "stream",
          "text": [
            "[Stage 19:==========================================>          (160 + 40) / 200]\r"
          ]
        },
        {
          "name": "stdout",
          "output_type": "stream",
          "text": [
            "+---------+\n",
            "|      col|\n",
            "+---------+\n",
            "|    1970s|\n",
            "|   travel|\n",
            "|      art|\n",
            "|    32812|\n",
            "|    oscar|\n",
            "|     pant|\n",
            "|    hobbs|\n",
            "|   outfit|\n",
            "|    salma|\n",
            "|   voyage|\n",
            "|   patton|\n",
            "|   online|\n",
            "| everyday|\n",
            "|traveling|\n",
            "|  letdown|\n",
            "|     hope|\n",
            "|   teigen|\n",
            "|recognize|\n",
            "|     foxy|\n",
            "|    still|\n",
            "+---------+\n",
            "only showing top 20 rows\n",
            "\n"
          ]
        },
        {
          "name": "stderr",
          "output_type": "stream",
          "text": [
            "\r",
            "                                                                                \r"
          ]
        }
      ],
      "source": [
        "unique_words=unique_words.cache()\n",
        "unique_words.show()"
      ]
    },
    {
      "cell_type": "markdown",
      "metadata": {
        "id": "KCb1pLl3VLOL"
      },
      "source": [
        "### 4. Get the vocabulary size"
      ]
    },
    {
      "cell_type": "code",
      "execution_count": null,
      "metadata": {
        "colab": {
          "base_uri": "https://localhost:8080/"
        },
        "id": "dCakXZ3PBByX",
        "outputId": "e54847cd-6dce-4cf7-ffcb-7770061fcf18"
      },
      "outputs": [
        {
          "data": {
            "text/plain": [
              "128622"
            ]
          },
          "execution_count": 21,
          "metadata": {},
          "output_type": "execute_result"
        }
      ],
      "source": [
        "vocabulary_size=unique_words.count()\n",
        "vocabulary_size"
      ]
    },
    {
      "cell_type": "code",
      "execution_count": null,
      "metadata": {
        "id": "tkAXIk7LlR9l"
      },
      "outputs": [],
      "source": [
        "minDF=3.0 # The minimum document frequency"
      ]
    },
    {
      "cell_type": "markdown",
      "metadata": {
        "id": "cV9aikKbYQzj"
      },
      "source": [
        "### 5. Define the CountVectorizer and IDF stages"
      ]
    },
    {
      "cell_type": "code",
      "execution_count": null,
      "metadata": {
        "id": "qYJp-K7O8pWN"
      },
      "outputs": [],
      "source": [
        "# Define the HashingTF and IDF stages\n",
        "vectorizer = CountVectorizer(inputCol=\"description_filtered\", outputCol=\"raw_features\",vocabSize=vocabulary_size, minDF=minDF)\n",
        "idf = IDF(inputCol=\"raw_features\", outputCol=\"features\")"
      ]
    },
    {
      "cell_type": "markdown",
      "metadata": {
        "id": "74T1zTMRxKP8"
      },
      "source": [
        "## V- Models set up, training and evaluation"
      ]
    },
    {
      "cell_type": "markdown",
      "metadata": {
        "id": "HmY4gqj5Q2w_"
      },
      "source": [
        "### 1. Set up LDA model\n",
        "\n",
        "We instanciate LDA model with 30 topics\n",
        "\n",
        "We choose 30 since our data set contains 32 categories."
      ]
    },
    {
      "cell_type": "code",
      "execution_count": null,
      "metadata": {
        "id": "f8ya3gJ_PxLc",
        "outputId": "63ef37ef-87fb-44e4-88cf-f0c9b94a1bd7"
      },
      "outputs": [
        {
          "data": {
            "text/plain": [
              "LDA_aa7f50f63c85"
            ]
          },
          "execution_count": 24,
          "metadata": {},
          "output_type": "execute_result"
        }
      ],
      "source": [
        "num_topics = 30\n",
        "# LDA model with 30 topics\n",
        "lda = LDA(featuresCol=\"features\",seed=0,k=num_topics)\n",
        "lda"
      ]
    },
    {
      "cell_type": "markdown",
      "metadata": {
        "id": "XT81OlVr5Ck1"
      },
      "source": [
        "### 2. Set up pipelines\n",
        "\n",
        "We will  set up the pipelines of the following transformations for Naive Bayes and Linear reggression\n",
        "\n",
        "- CountVectorizer\n",
        "- IDF"
      ]
    },
    {
      "cell_type": "code",
      "execution_count": null,
      "metadata": {
        "id": "eCKhelqdlbo-",
        "outputId": "52721549-9b15-4352-fec9-26baccf0ee04"
      },
      "outputs": [
        {
          "data": {
            "text/plain": [
              "Pipeline_d0dd0490e003"
            ]
          },
          "execution_count": 25,
          "metadata": {},
          "output_type": "execute_result"
        }
      ],
      "source": [
        "# Create pipeline for LDA\n",
        "pipeline = Pipeline(stages=[vectorizer, idf, lda])\n",
        "\n",
        "\n",
        "pipeline"
      ]
    },
    {
      "cell_type": "markdown",
      "metadata": {
        "id": "UD0gwMNf7yY7"
      },
      "source": [
        "### 3. Split the data\n",
        "\n",
        "First of all let us split the data into train and test set: 80% for train and 20% for test"
      ]
    },
    {
      "cell_type": "code",
      "execution_count": null,
      "metadata": {
        "id": "pThnAKRy8LqP"
      },
      "outputs": [],
      "source": [
        "# Split data\n",
        "(train_set, test_set) = df.randomSplit([0.8, 0.2], seed=0)"
      ]
    },
    {
      "cell_type": "markdown",
      "metadata": {
        "id": "M84xeE8i67YF"
      },
      "source": [
        "### 4. Create a function for model training\n",
        "\n",
        "Let us create a function which takes as argument a model that it trains and then returns the trained model."
      ]
    },
    {
      "cell_type": "code",
      "execution_count": null,
      "metadata": {
        "id": "AvRF-E1-7ncY"
      },
      "outputs": [],
      "source": [
        "def train_model(model):\n",
        "    return model.fit(train_set)"
      ]
    },
    {
      "cell_type": "code",
      "execution_count": null,
      "metadata": {
        "id": "d9fdT3-7lbpG",
        "outputId": "ebe577b4-4bfc-42bf-aa3b-e125650b7d7f"
      },
      "outputs": [
        {
          "name": "stderr",
          "output_type": "stream",
          "text": [
            "24/06/08 15:25:37 WARN DAGScheduler: Broadcasting large task binary with size 1984.0 KiB\n",
            "24/06/08 15:25:40 WARN DAGScheduler: Broadcasting large task binary with size 1984.0 KiB\n",
            "24/06/08 15:25:41 WARN DAGScheduler: Broadcasting large task binary with size 2000.9 KiB\n",
            "24/06/08 15:25:42 WARN DAGScheduler: Broadcasting large task binary with size 2004.4 KiB\n",
            "24/06/08 15:25:48 WARN DAGScheduler: Broadcasting large task binary with size 2005.7 KiB\n",
            "24/06/08 15:25:50 WARN DAGScheduler: Broadcasting large task binary with size 2000.9 KiB\n",
            "24/06/08 15:25:51 WARN DAGScheduler: Broadcasting large task binary with size 2004.4 KiB\n",
            "24/06/08 15:25:55 WARN DAGScheduler: Broadcasting large task binary with size 2005.7 KiB\n",
            "24/06/08 15:25:57 WARN DAGScheduler: Broadcasting large task binary with size 2000.9 KiB\n",
            "24/06/08 15:25:58 WARN DAGScheduler: Broadcasting large task binary with size 2004.4 KiB\n",
            "24/06/08 15:26:01 WARN DAGScheduler: Broadcasting large task binary with size 2005.7 KiB\n",
            "24/06/08 15:26:03 WARN DAGScheduler: Broadcasting large task binary with size 2000.9 KiB\n",
            "24/06/08 15:26:04 WARN DAGScheduler: Broadcasting large task binary with size 2004.4 KiB\n",
            "24/06/08 15:26:07 WARN DAGScheduler: Broadcasting large task binary with size 2005.7 KiB\n",
            "24/06/08 15:26:09 WARN DAGScheduler: Broadcasting large task binary with size 2000.9 KiB\n",
            "24/06/08 15:26:10 WARN DAGScheduler: Broadcasting large task binary with size 2004.4 KiB\n",
            "24/06/08 15:26:13 WARN DAGScheduler: Broadcasting large task binary with size 2005.7 KiB\n",
            "24/06/08 15:26:15 WARN DAGScheduler: Broadcasting large task binary with size 2000.9 KiB\n",
            "24/06/08 15:26:16 WARN DAGScheduler: Broadcasting large task binary with size 2004.4 KiB\n",
            "24/06/08 15:26:19 WARN DAGScheduler: Broadcasting large task binary with size 2005.7 KiB\n",
            "24/06/08 15:26:21 WARN DAGScheduler: Broadcasting large task binary with size 2000.9 KiB\n",
            "24/06/08 15:26:22 WARN DAGScheduler: Broadcasting large task binary with size 2004.4 KiB\n",
            "24/06/08 15:26:25 WARN DAGScheduler: Broadcasting large task binary with size 2005.7 KiB\n",
            "24/06/08 15:26:27 WARN DAGScheduler: Broadcasting large task binary with size 2000.9 KiB\n",
            "24/06/08 15:26:27 WARN DAGScheduler: Broadcasting large task binary with size 2004.4 KiB\n",
            "24/06/08 15:26:31 WARN DAGScheduler: Broadcasting large task binary with size 2005.7 KiB\n",
            "24/06/08 15:26:32 WARN DAGScheduler: Broadcasting large task binary with size 2000.9 KiB\n",
            "24/06/08 15:26:33 WARN DAGScheduler: Broadcasting large task binary with size 2004.4 KiB\n",
            "24/06/08 15:26:36 WARN DAGScheduler: Broadcasting large task binary with size 2005.7 KiB\n",
            "24/06/08 15:26:37 WARN DAGScheduler: Broadcasting large task binary with size 2000.9 KiB\n",
            "24/06/08 15:26:38 WARN DAGScheduler: Broadcasting large task binary with size 2004.4 KiB\n",
            "24/06/08 15:26:41 WARN DAGScheduler: Broadcasting large task binary with size 2005.7 KiB\n",
            "24/06/08 15:26:43 WARN DAGScheduler: Broadcasting large task binary with size 2000.9 KiB\n",
            "24/06/08 15:26:44 WARN DAGScheduler: Broadcasting large task binary with size 2004.4 KiB\n",
            "24/06/08 15:26:46 WARN DAGScheduler: Broadcasting large task binary with size 2005.7 KiB\n",
            "24/06/08 15:26:48 WARN DAGScheduler: Broadcasting large task binary with size 2000.9 KiB\n",
            "24/06/08 15:26:49 WARN DAGScheduler: Broadcasting large task binary with size 2004.4 KiB\n",
            "24/06/08 15:26:52 WARN DAGScheduler: Broadcasting large task binary with size 2005.7 KiB\n",
            "24/06/08 15:26:53 WARN DAGScheduler: Broadcasting large task binary with size 2000.9 KiB\n",
            "24/06/08 15:26:54 WARN DAGScheduler: Broadcasting large task binary with size 2004.4 KiB\n",
            "24/06/08 15:26:57 WARN DAGScheduler: Broadcasting large task binary with size 2005.7 KiB\n",
            "24/06/08 15:26:58 WARN DAGScheduler: Broadcasting large task binary with size 2000.9 KiB\n",
            "24/06/08 15:26:59 WARN DAGScheduler: Broadcasting large task binary with size 2004.4 KiB\n",
            "24/06/08 15:27:02 WARN DAGScheduler: Broadcasting large task binary with size 2005.7 KiB\n",
            "24/06/08 15:27:03 WARN DAGScheduler: Broadcasting large task binary with size 2000.9 KiB\n",
            "24/06/08 15:27:04 WARN DAGScheduler: Broadcasting large task binary with size 2004.4 KiB\n",
            "24/06/08 15:27:07 WARN DAGScheduler: Broadcasting large task binary with size 2005.7 KiB\n",
            "24/06/08 15:27:09 WARN DAGScheduler: Broadcasting large task binary with size 2000.9 KiB\n",
            "24/06/08 15:27:10 WARN DAGScheduler: Broadcasting large task binary with size 2004.4 KiB\n",
            "24/06/08 15:27:12 WARN DAGScheduler: Broadcasting large task binary with size 2005.7 KiB\n",
            "24/06/08 15:27:14 WARN DAGScheduler: Broadcasting large task binary with size 2000.9 KiB\n",
            "24/06/08 15:27:15 WARN DAGScheduler: Broadcasting large task binary with size 2004.4 KiB\n",
            "24/06/08 15:27:17 WARN DAGScheduler: Broadcasting large task binary with size 2005.7 KiB\n",
            "24/06/08 15:27:19 WARN DAGScheduler: Broadcasting large task binary with size 2000.9 KiB\n",
            "24/06/08 15:27:19 WARN DAGScheduler: Broadcasting large task binary with size 2004.4 KiB\n",
            "24/06/08 15:27:22 WARN DAGScheduler: Broadcasting large task binary with size 2005.7 KiB\n",
            "24/06/08 15:27:24 WARN DAGScheduler: Broadcasting large task binary with size 2000.9 KiB\n",
            "24/06/08 15:27:25 WARN DAGScheduler: Broadcasting large task binary with size 2004.4 KiB\n",
            "24/06/08 15:27:28 WARN DAGScheduler: Broadcasting large task binary with size 2005.7 KiB\n",
            "24/06/08 15:27:29 WARN DAGScheduler: Broadcasting large task binary with size 2000.9 KiB\n",
            "24/06/08 15:27:30 WARN DAGScheduler: Broadcasting large task binary with size 2004.4 KiB\n",
            "24/06/08 15:27:33 WARN DAGScheduler: Broadcasting large task binary with size 2005.7 KiB\n",
            "                                                                                \r"
          ]
        },
        {
          "data": {
            "text/plain": [
              "PipelineModel_1e76b8ba508c"
            ]
          },
          "execution_count": 28,
          "metadata": {},
          "output_type": "execute_result"
        }
      ],
      "source": [
        "fitted_model=train_model(pipeline)\n",
        "fitted_model"
      ]
    },
    {
      "cell_type": "markdown",
      "metadata": {
        "id": "G6EEx9rvlbpG"
      },
      "source": [
        "### 5. Visualize the topics"
      ]
    },
    {
      "cell_type": "code",
      "execution_count": null,
      "metadata": {
        "id": "E265riGdlbpG",
        "outputId": "dcf11618-c0a5-46df-9e66-3c0f1e79c48f"
      },
      "outputs": [
        {
          "data": {
            "text/plain": [
              "73411"
            ]
          },
          "execution_count": 29,
          "metadata": {},
          "output_type": "execute_result"
        }
      ],
      "source": [
        "fitted_vectirizer=fitted_model.stages[0]\n",
        "vocabulary= fitted_vectirizer.vocabulary\n",
        "len(vocabulary)"
      ]
    },
    {
      "cell_type": "code",
      "execution_count": null,
      "metadata": {
        "id": "6TGqC1_3lbpG",
        "outputId": "3de23766-c402-4b85-f5b9-2403e0a83d25"
      },
      "outputs": [
        {
          "data": {
            "text/plain": [
              "['new', 'photo', 'state', 'trump', 'day', 'nt', 'say', 'woman', 'get', 'make']"
            ]
          },
          "execution_count": 30,
          "metadata": {},
          "output_type": "execute_result"
        }
      ],
      "source": [
        "vocabulary[:10]"
      ]
    },
    {
      "cell_type": "code",
      "execution_count": null,
      "metadata": {
        "id": "0jPE8W6AlbpH",
        "outputId": "19b9e9f1-e5cd-42af-9b08-c6583d940609"
      },
      "outputs": [
        {
          "name": "stdout",
          "output_type": "stream",
          "text": [
            "+-----+--------------------+--------------------+\n",
            "|topic|         termIndices|         termWeights|\n",
            "+-----+--------------------+--------------------+\n",
            "|    0|[31, 137, 101, 31...|[0.00985414811177...|\n",
            "|    1|[107, 195, 330, 3...|[0.01330611945988...|\n",
            "|    2|[30, 16, 57, 216,...|[0.01347184457240...|\n",
            "|    3|[379, 205, 622, 4...|[0.00632639774673...|\n",
            "|    4|[133, 282, 103, 4...|[0.00819584782418...|\n",
            "|    5|[673, 430, 776, 6...|[0.00602703665300...|\n",
            "|    6|[100, 123, 958, 8...|[0.01240321325915...|\n",
            "|    7|[230, 328, 366, 3...|[0.01068304711893...|\n",
            "|    8|[389, 541, 235, 5...|[0.00606431922978...|\n",
            "|    9|[26, 56, 312, 174...|[0.02147667718198...|\n",
            "|   10|[21, 3, 36, 191, ...|[0.01721008314916...|\n",
            "|   11|[46, 2, 352, 169,...|[0.01180906612486...|\n",
            "|   12|[179, 114, 397, 5...|[0.01102264094365...|\n",
            "|   13|[534, 335, 765, 7...|[0.00627261569473...|\n",
            "|   14|[426, 386, 575, 7...|[0.00693743278268...|\n",
            "|   15|[694, 175, 584, 1...|[0.00462890601493...|\n",
            "|   16|[814, 537, 737, 1...|[0.00570331910335...|\n",
            "|   17|[202, 644, 331, 3...|[0.01180933663158...|\n",
            "|   18|[149, 479, 250, 2...|[0.01214242249347...|\n",
            "|   19|[274, 28, 83, 267...|[0.00751921096972...|\n",
            "+-----+--------------------+--------------------+\n",
            "only showing top 20 rows\n",
            "\n"
          ]
        },
        {
          "name": "stderr",
          "output_type": "stream",
          "text": [
            "                                                                                \r"
          ]
        },
        {
          "data": {
            "text/plain": [
              "[['best',\n",
              "  'space',\n",
              "  'national',\n",
              "  'administration',\n",
              "  'recipe',\n",
              "  'aeronautics',\n",
              "  'ever',\n",
              "  'date',\n",
              "  'charles',\n",
              "  'herbert'],\n",
              " ['change',\n",
              "  'climate',\n",
              "  'pope',\n",
              "  'trump',\n",
              "  'francis',\n",
              "  'take',\n",
              "  'hope',\n",
              "  'small',\n",
              "  '2016',\n",
              "  'movement']]"
            ]
          },
          "execution_count": 31,
          "metadata": {},
          "output_type": "execute_result"
        }
      ],
      "source": [
        "topics = fitted_model.stages[-1].describeTopics()\n",
        "topics.show()\n",
        "\n",
        "topics_rdd = topics.rdd\n",
        "topics_words = topics_rdd\\\n",
        "       .map(lambda row: row['termIndices'])\\\n",
        "       .map(lambda idx_list: [vocabulary[idx] for idx in idx_list])\\\n",
        "       .collect()\n",
        "topics_words[:2]"
      ]
    },
    {
      "cell_type": "code",
      "execution_count": null,
      "metadata": {
        "id": "Jol1uLnplR9v",
        "outputId": "70493f22-eb96-4e54-c409-5aad64c96fde"
      },
      "outputs": [
        {
          "name": "stdout",
          "output_type": "stream",
          "text": [
            "topic: 0\n",
            "*************************\n",
            "best\n",
            "space\n",
            "national\n",
            "administration\n",
            "recipe\n",
            "aeronautics\n",
            "ever\n",
            "date\n",
            "charles\n",
            "herbert\n",
            "*************************\n",
            "topic: 1\n",
            "*************************\n",
            "change\n",
            "climate\n",
            "pope\n",
            "trump\n",
            "francis\n",
            "take\n",
            "hope\n",
            "small\n",
            "2016\n",
            "movement\n",
            "*************************\n",
            "topic: 2\n",
            "*************************\n",
            "coronavirus\n",
            "covid19\n",
            "case\n",
            "update\n",
            "new\n",
            "2020\n",
            "death\n",
            "concern\n",
            "report\n",
            "30\n",
            "*************************\n",
            "topic: 3\n",
            "*************************\n",
            "vitamin\n",
            "better\n",
            "happy\n",
            "become\n",
            "24hour\n",
            "interval\n",
            "tie\n",
            "shopping\n",
            "day\n",
            "fresh\n",
            "*************************\n",
            "topic: 4\n",
            "*************************\n",
            "law\n",
            "cause\n",
            "sex\n",
            "problem\n",
            "china\n",
            "learn\n",
            "stay\n",
            "aid\n",
            "winter\n",
            "serve\n",
            "*************************\n",
            "topic: 5\n",
            "*************************\n",
            "lost\n",
            "lesson\n",
            "weight\n",
            "final\n",
            "biden\n",
            "angle\n",
            "joe\n",
            "meditation\n",
            "hour\n",
            "hollywood\n",
            "*************************\n",
            "topic: 6\n",
            "*************************\n",
            "great\n",
            "dog\n",
            "taylor\n",
            "kingdom\n",
            "obama\n",
            "talking\n",
            "unwashed\n",
            "security\n",
            "track\n",
            "britain\n",
            "*************************\n",
            "topic: 7\n",
            "*************************\n",
            "clinton\n",
            "hillary\n",
            "name\n",
            "hotel\n",
            "vaccine\n",
            "really\n",
            "monophosphate\n",
            "deoxyadenosine\n",
            "town\n",
            "san\n",
            "*************************\n",
            "topic: 8\n",
            "*************************\n",
            "head\n",
            "green\n",
            "care\n",
            "note\n",
            "sweet\n",
            "super\n",
            "brother\n",
            "pregnant\n",
            "adorable\n",
            "car\n",
            "*************************\n",
            "topic: 9\n",
            "*************************\n",
            "wedding\n",
            "marriage\n",
            "ceremony\n",
            "holiday\n",
            "dress\n",
            "economic\n",
            "mind\n",
            "way\n",
            "trend\n",
            "nt\n",
            "*************************\n",
            "topic: 10\n",
            "*************************\n",
            "bank\n",
            "trump\n",
            "donald\n",
            "r\n",
            "india\n",
            "ha\n",
            "insurance\n",
            "per\n",
            "cornet\n",
            "word\n",
            "*************************\n",
            "topic: 11\n",
            "*************************\n",
            "united\n",
            "state\n",
            "center\n",
            "m\n",
            "golden\n",
            "ask\n",
            "mexican\n",
            "visit\n",
            "nt\n",
            "together\n",
            "*************************\n",
            "topic: 12\n",
            "*************************\n",
            "mother\n",
            "hour\n",
            "latin\n",
            "twentyfour\n",
            "american\n",
            "period\n",
            "party\n",
            "exercise\n",
            "voter\n",
            "embody\n",
            "*************************\n",
            "topic: 13\n",
            "*************************\n",
            "sport\n",
            "2012\n",
            "bar\n",
            "football\n",
            "musical\n",
            "19\n",
            "gift\n",
            "meeting\n",
            "positive\n",
            "reality\n",
            "*************************\n",
            "topic: 14\n",
            "*************************\n",
            "virus\n",
            "gun\n",
            "base\n",
            "greater\n",
            "wellness\n",
            "d\n",
            "control\n",
            "sale\n",
            "extent\n",
            "14\n",
            "*************************\n",
            "topic: 15\n",
            "*************************\n",
            "transgender\n",
            "river\n",
            "florida\n",
            "safety\n",
            "new\n",
            "letter\n",
            "arab\n",
            "serial\n",
            "cancer\n",
            "police\n",
            "*************************\n",
            "topic: 16\n",
            "*************************\n",
            "something\n",
            "beautiful\n",
            "four\n",
            "stephen\n",
            "user\n",
            "stone\n",
            "universe\n",
            "chirrup\n",
            "difference\n",
            "flight\n",
            "*************************\n",
            "topic: 17\n",
            "*************************\n",
            "tree\n",
            "birth\n",
            "music\n",
            "apple\n",
            "pine\n",
            "plant\n",
            "state\n",
            "blast\n",
            "los\n",
            "district\n",
            "*************************\n",
            "topic: 18\n",
            "*************************\n",
            "mom\n",
            "single\n",
            "sign\n",
            "daughter\n",
            "husband\n",
            "person\n",
            "night\n",
            "value\n",
            "magazine\n",
            "day\n",
            "*************************\n",
            "topic: 19\n",
            "*************************\n",
            "leader\n",
            "house\n",
            "york\n",
            "room\n",
            "relationship\n",
            "full\n",
            "new\n",
            "deal\n",
            "loss\n",
            "prison\n",
            "*************************\n",
            "topic: 20\n",
            "*************************\n",
            "future\n",
            "personal\n",
            "example\n",
            "bus\n",
            "hospital\n",
            "secret\n",
            "dangerous\n",
            "kind\n",
            "harris\n",
            "look\n",
            "*************************\n",
            "topic: 21\n",
            "*************************\n",
            "number\n",
            "atomic\n",
            "organization\n",
            "divorcement\n",
            "lady\n",
            "cleaning\n",
            "world\n",
            "factor\n",
            "health\n",
            "antiophthalmic\n",
            "*************************\n",
            "topic: 22\n",
            "*************************\n",
            "book\n",
            "still\n",
            "company\n",
            "men\n",
            "body\n",
            "mental\n",
            "die\n",
            "health\n",
            "orlando\n",
            "investment\n",
            "*************************\n",
            "topic: 23\n",
            "*************************\n",
            "never\n",
            "hand\n",
            "solar\n",
            "mean\n",
            "sound\n",
            "female\n",
            "tiny\n",
            "roll\n",
            "adult\n",
            "day\n",
            "*************************\n",
            "topic: 24\n",
            "*************************\n",
            "art\n",
            "police\n",
            "day\n",
            "facebook\n",
            "clarence\n",
            "gentleman\n",
            "feel\n",
            "man\n",
            "jr\n",
            "class\n",
            "*************************\n",
            "topic: 25\n",
            "*************************\n",
            "market\n",
            "california\n",
            "going\n",
            "c\n",
            "design\n",
            "member\n",
            "thanks\n",
            "bit\n",
            "maine\n",
            "h\n",
            "*************************\n",
            "topic: 26\n",
            "*************************\n",
            "know\n",
            "father\n",
            "young\n",
            "christian\n",
            "church\n",
            "saint\n",
            "true\n",
            "king\n",
            "trans\n",
            "pop\n",
            "*************************\n",
            "topic: 27\n",
            "*************************\n",
            "50\n",
            "bill\n",
            "medium\n",
            "side\n",
            "business\n",
            "giving\n",
            "message\n",
            "pick\n",
            "enough\n",
            "love\n",
            "*************************\n",
            "topic: 28\n",
            "*************************\n",
            "sexual\n",
            "la\n",
            "win\n",
            "job\n",
            "assault\n",
            "survey\n",
            "vega\n",
            "use\n",
            "crataegus\n",
            "union\n",
            "*************************\n",
            "topic: 29\n",
            "*************************\n",
            "angstrom\n",
            "court\n",
            "unit\n",
            "drive\n",
            "supreme\n",
            "save\n",
            "manner\n",
            "edward\n",
            "awesome\n",
            "thanksgiving\n",
            "*************************\n"
          ]
        }
      ],
      "source": [
        "topics_words_dict={}\n",
        "for idx, topic in enumerate(topics_words):\n",
        "    print(\"topic: {}\".format(idx))\n",
        "    print(\"*\"*25)\n",
        "    topic_words_array=[]\n",
        "    for word in topic:\n",
        "        print(word)\n",
        "        topic_words_array.append(word)\n",
        "    topics_words_dict[idx]=topic_words_array\n",
        "    print(\"*\"*25)"
      ]
    },
    {
      "cell_type": "code",
      "execution_count": null,
      "metadata": {
        "id": "WIiT-KeWlR9v",
        "outputId": "197a8ede-69be-42bd-8826-ef59c9f4fb1a"
      },
      "outputs": [
        {
          "data": {
            "text/plain": [
              "{0: ['best',\n",
              "  'space',\n",
              "  'national',\n",
              "  'administration',\n",
              "  'recipe',\n",
              "  'aeronautics',\n",
              "  'ever',\n",
              "  'date',\n",
              "  'charles',\n",
              "  'herbert'],\n",
              " 1: ['change',\n",
              "  'climate',\n",
              "  'pope',\n",
              "  'trump',\n",
              "  'francis',\n",
              "  'take',\n",
              "  'hope',\n",
              "  'small',\n",
              "  '2016',\n",
              "  'movement'],\n",
              " 2: ['coronavirus',\n",
              "  'covid19',\n",
              "  'case',\n",
              "  'update',\n",
              "  'new',\n",
              "  '2020',\n",
              "  'death',\n",
              "  'concern',\n",
              "  'report',\n",
              "  '30'],\n",
              " 3: ['vitamin',\n",
              "  'better',\n",
              "  'happy',\n",
              "  'become',\n",
              "  '24hour',\n",
              "  'interval',\n",
              "  'tie',\n",
              "  'shopping',\n",
              "  'day',\n",
              "  'fresh'],\n",
              " 4: ['law',\n",
              "  'cause',\n",
              "  'sex',\n",
              "  'problem',\n",
              "  'china',\n",
              "  'learn',\n",
              "  'stay',\n",
              "  'aid',\n",
              "  'winter',\n",
              "  'serve'],\n",
              " 5: ['lost',\n",
              "  'lesson',\n",
              "  'weight',\n",
              "  'final',\n",
              "  'biden',\n",
              "  'angle',\n",
              "  'joe',\n",
              "  'meditation',\n",
              "  'hour',\n",
              "  'hollywood'],\n",
              " 6: ['great',\n",
              "  'dog',\n",
              "  'taylor',\n",
              "  'kingdom',\n",
              "  'obama',\n",
              "  'talking',\n",
              "  'unwashed',\n",
              "  'security',\n",
              "  'track',\n",
              "  'britain'],\n",
              " 7: ['clinton',\n",
              "  'hillary',\n",
              "  'name',\n",
              "  'hotel',\n",
              "  'vaccine',\n",
              "  'really',\n",
              "  'monophosphate',\n",
              "  'deoxyadenosine',\n",
              "  'town',\n",
              "  'san'],\n",
              " 8: ['head',\n",
              "  'green',\n",
              "  'care',\n",
              "  'note',\n",
              "  'sweet',\n",
              "  'super',\n",
              "  'brother',\n",
              "  'pregnant',\n",
              "  'adorable',\n",
              "  'car'],\n",
              " 9: ['wedding',\n",
              "  'marriage',\n",
              "  'ceremony',\n",
              "  'holiday',\n",
              "  'dress',\n",
              "  'economic',\n",
              "  'mind',\n",
              "  'way',\n",
              "  'trend',\n",
              "  'nt'],\n",
              " 10: ['bank',\n",
              "  'trump',\n",
              "  'donald',\n",
              "  'r',\n",
              "  'india',\n",
              "  'ha',\n",
              "  'insurance',\n",
              "  'per',\n",
              "  'cornet',\n",
              "  'word'],\n",
              " 11: ['united',\n",
              "  'state',\n",
              "  'center',\n",
              "  'm',\n",
              "  'golden',\n",
              "  'ask',\n",
              "  'mexican',\n",
              "  'visit',\n",
              "  'nt',\n",
              "  'together'],\n",
              " 12: ['mother',\n",
              "  'hour',\n",
              "  'latin',\n",
              "  'twentyfour',\n",
              "  'american',\n",
              "  'period',\n",
              "  'party',\n",
              "  'exercise',\n",
              "  'voter',\n",
              "  'embody'],\n",
              " 13: ['sport',\n",
              "  '2012',\n",
              "  'bar',\n",
              "  'football',\n",
              "  'musical',\n",
              "  '19',\n",
              "  'gift',\n",
              "  'meeting',\n",
              "  'positive',\n",
              "  'reality'],\n",
              " 14: ['virus',\n",
              "  'gun',\n",
              "  'base',\n",
              "  'greater',\n",
              "  'wellness',\n",
              "  'd',\n",
              "  'control',\n",
              "  'sale',\n",
              "  'extent',\n",
              "  '14'],\n",
              " 15: ['transgender',\n",
              "  'river',\n",
              "  'florida',\n",
              "  'safety',\n",
              "  'new',\n",
              "  'letter',\n",
              "  'arab',\n",
              "  'serial',\n",
              "  'cancer',\n",
              "  'police'],\n",
              " 16: ['something',\n",
              "  'beautiful',\n",
              "  'four',\n",
              "  'stephen',\n",
              "  'user',\n",
              "  'stone',\n",
              "  'universe',\n",
              "  'chirrup',\n",
              "  'difference',\n",
              "  'flight'],\n",
              " 17: ['tree',\n",
              "  'birth',\n",
              "  'music',\n",
              "  'apple',\n",
              "  'pine',\n",
              "  'plant',\n",
              "  'state',\n",
              "  'blast',\n",
              "  'los',\n",
              "  'district'],\n",
              " 18: ['mom',\n",
              "  'single',\n",
              "  'sign',\n",
              "  'daughter',\n",
              "  'husband',\n",
              "  'person',\n",
              "  'night',\n",
              "  'value',\n",
              "  'magazine',\n",
              "  'day'],\n",
              " 19: ['leader',\n",
              "  'house',\n",
              "  'york',\n",
              "  'room',\n",
              "  'relationship',\n",
              "  'full',\n",
              "  'new',\n",
              "  'deal',\n",
              "  'loss',\n",
              "  'prison'],\n",
              " 20: ['future',\n",
              "  'personal',\n",
              "  'example',\n",
              "  'bus',\n",
              "  'hospital',\n",
              "  'secret',\n",
              "  'dangerous',\n",
              "  'kind',\n",
              "  'harris',\n",
              "  'look'],\n",
              " 21: ['number',\n",
              "  'atomic',\n",
              "  'organization',\n",
              "  'divorcement',\n",
              "  'lady',\n",
              "  'cleaning',\n",
              "  'world',\n",
              "  'factor',\n",
              "  'health',\n",
              "  'antiophthalmic'],\n",
              " 22: ['book',\n",
              "  'still',\n",
              "  'company',\n",
              "  'men',\n",
              "  'body',\n",
              "  'mental',\n",
              "  'die',\n",
              "  'health',\n",
              "  'orlando',\n",
              "  'investment'],\n",
              " 23: ['never',\n",
              "  'hand',\n",
              "  'solar',\n",
              "  'mean',\n",
              "  'sound',\n",
              "  'female',\n",
              "  'tiny',\n",
              "  'roll',\n",
              "  'adult',\n",
              "  'day'],\n",
              " 24: ['art',\n",
              "  'police',\n",
              "  'day',\n",
              "  'facebook',\n",
              "  'clarence',\n",
              "  'gentleman',\n",
              "  'feel',\n",
              "  'man',\n",
              "  'jr',\n",
              "  'class'],\n",
              " 25: ['market',\n",
              "  'california',\n",
              "  'going',\n",
              "  'c',\n",
              "  'design',\n",
              "  'member',\n",
              "  'thanks',\n",
              "  'bit',\n",
              "  'maine',\n",
              "  'h'],\n",
              " 26: ['know',\n",
              "  'father',\n",
              "  'young',\n",
              "  'christian',\n",
              "  'church',\n",
              "  'saint',\n",
              "  'true',\n",
              "  'king',\n",
              "  'trans',\n",
              "  'pop'],\n",
              " 27: ['50',\n",
              "  'bill',\n",
              "  'medium',\n",
              "  'side',\n",
              "  'business',\n",
              "  'giving',\n",
              "  'message',\n",
              "  'pick',\n",
              "  'enough',\n",
              "  'love'],\n",
              " 28: ['sexual',\n",
              "  'la',\n",
              "  'win',\n",
              "  'job',\n",
              "  'assault',\n",
              "  'survey',\n",
              "  'vega',\n",
              "  'use',\n",
              "  'crataegus',\n",
              "  'union'],\n",
              " 29: ['angstrom',\n",
              "  'court',\n",
              "  'unit',\n",
              "  'drive',\n",
              "  'supreme',\n",
              "  'save',\n",
              "  'manner',\n",
              "  'edward',\n",
              "  'awesome',\n",
              "  'thanksgiving']}"
            ]
          },
          "execution_count": 67,
          "metadata": {},
          "output_type": "execute_result"
        }
      ],
      "source": [
        "topics_words_dict"
      ]
    },
    {
      "cell_type": "markdown",
      "metadata": {
        "id": "PFhj3jcDlbpH"
      },
      "source": [
        "### 6. Get topics distributions"
      ]
    },
    {
      "cell_type": "code",
      "execution_count": null,
      "metadata": {
        "id": "dxDtRTLllbpI"
      },
      "outputs": [],
      "source": [
        "# Transform the training and test data\n",
        "train_set_transformed = fitted_model.transform(train_set)\n",
        "test_set_transformed = fitted_model.transform(test_set)\n",
        "\n",
        "# Get the LDA model from the pipeline model\n",
        "lda_model = fitted_model.stages[-1]\n",
        "\n",
        "# Extract the topic distributions\n",
        "train_topic_distributions = train_set_transformed.select(\"description_filtered\", \"topicDistribution\")\n",
        "test_topic_distributions = test_set_transformed.select(\"description_filtered\", \"topicDistribution\")"
      ]
    },
    {
      "cell_type": "code",
      "execution_count": null,
      "metadata": {
        "id": "thwp6950lbpI",
        "outputId": "28bc7fde-8bfc-4f14-e24b-a8f3cfd18c13"
      },
      "outputs": [
        {
          "name": "stderr",
          "output_type": "stream",
          "text": [
            "24/06/08 15:27:58 WARN DAGScheduler: Broadcasting large task binary with size 18.7 MiB\n"
          ]
        },
        {
          "name": "stdout",
          "output_type": "stream",
          "text": [
            "+-----------------------------------------------------------------------------------------------------------------+--------------------------------------------------------------------------------------------------------------------------------------------------------------------------------------------------------------------------------------------------------------------------------------------------------------------------------------------------------------------------------------------------------------------------------------------------------------------------------------------------------------------------------------------------------------------------------------------------------------------------------------------------------------------------+\n",
            "|description_filtered                                                                                             |topicDistribution                                                                                                                                                                                                                                                                                                                                                                                                                                                                                                                                                                                                                                                         |\n",
            "+-----------------------------------------------------------------------------------------------------------------+--------------------------------------------------------------------------------------------------------------------------------------------------------------------------------------------------------------------------------------------------------------------------------------------------------------------------------------------------------------------------------------------------------------------------------------------------------------------------------------------------------------------------------------------------------------------------------------------------------------------------------------------------------------------------+\n",
            "|[10, credit, score, truth, myth]                                                                                 |[0.0010349140287308717,0.0010428316277979717,0.001047506497239788,0.001025965346369412,0.0010463898179207947,0.0010324903730284832,0.0010270239498218533,0.0010315752855001236,0.001030696734522387,0.0010411992260533254,0.2317765862248264,0.0010466905065769124,0.2274981325157398,0.0010271923211356679,0.001030998536861397,0.00102966792489066,0.001025436244658511,0.0010305853581346097,0.001035867753422781,0.0010418195781442478,0.0010171495552078545,0.0010420706633775378,0.0010299588688263987,0.0010233618544502267,0.0010576913956534353,0.0010259224363544646,0.0010321579536134921,0.0010452937038264727,0.5127943984694273,0.001028425247886754]       |\n",
            "|[10, thing, need, bring, interview]                                                                              |[0.001248878740110135,0.0012584332739874178,0.001264074655683329,0.285036141430961,0.001262727106976998,0.0012459540024061968,0.001239357416083343,0.0012448497238600725,0.33146390384068863,0.0012564633791185087,0.001262861929246715,0.0012630899619191806,0.0012460949194233622,0.0012395605975543459,0.0012441537345374686,0.0012425480233814706,0.3497630618995125,0.0012436551326117928,0.0012500296439135945,0.0012572119867490952,0.001227441526297009,0.001257514982941059,0.0012428991189172417,0.00123493819581286,0.0012763652448011056,0.0012380281687128978,0.0012455528564871603,0.0012614043752800464,0.0012417557045985468,0.0012410484274267856]       |\n",
            "|[10, way, freelance, life, different, day, job]                                                                  |[8.391482328040601E-4,8.455681276750745E-4,8.493586922259787E-4,8.31892295806869E-4,8.484532455402673E-4,8.371830392290655E-4,0.3074701992236426,8.364410509470035E-4,8.357286879099036E-4,8.442445133446016E-4,8.485438354960438E-4,8.486970555064323E-4,8.372777243751954E-4,8.32887174297574E-4,8.359734008933294E-4,8.348944893579731E-4,8.314632797212982E-4,8.356383796367314E-4,8.399215495892568E-4,0.22225212958512153,8.247441121235141E-4,8.449511083569611E-4,8.351303979287607E-4,8.297812840876522E-4,0.2878805378022321,8.318575027108659E-4,8.369135007390239E-4,8.475644739325631E-4,0.16059898935588054,8.338868788872961E-4]                           |\n",
            "|[12, famous, logo, evolved, time, infographic]                                                                   |[0.1953548487787076,0.18237032952672586,8.045244356611094E-4,7.879800206207952E-4,8.036667838933212E-4,7.929914868070179E-4,7.887930679362943E-4,7.922886651263608E-4,7.916139048911952E-4,7.996802138771908E-4,8.037525919667965E-4,8.038977241038392E-4,0.11398773972971231,7.889223834458737E-4,7.918457004529318E-4,7.908237403529793E-4,7.875736505830085E-4,7.915283636318456E-4,7.955854421314558E-4,8.001566676446744E-4,7.812091610342494E-4,8.003495105588466E-4,7.910471962513365E-4,7.859804407879629E-4,8.123468211727682E-4,7.879470641137026E-4,7.927361761787661E-4,0.27169467906604094,0.21673529236797032,7.898693176185755E-4]                         |\n",
            "|[20000, worth, cigarette, tobacco, seized, dublin, port]                                                         |[0.16040664152665876,5.791304273500904E-4,5.81726588672217E-4,5.697638368946526E-4,5.811064473628341E-4,5.733874721749236E-4,5.703517261127514E-4,5.728792836840464E-4,5.72391385551544E-4,5.782238826162789E-4,5.811684925112959E-4,5.81273433044168E-4,5.734523221230829E-4,0.22512870957354586,0.14659610898805833,5.718200421578447E-4,5.6947000336372E-4,5.723295333283906E-4,5.75263080565593E-4,5.785683915117975E-4,5.648680389860163E-4,0.17305515610030417,5.719816161658231E-4,0.15308732080640405,5.873827122621805E-4,0.1279232383505724,5.732028650028925E-4,5.804977268304783E-4,5.714554174103639E-4,5.711299287735362E-4]                                |\n",
            "|[2024, g60, bmw, m5, go, full, electric, 1000, hp, paultanorg]                                                   |[4.349077135970189E-4,4.382349705594592E-4,4.401995171052841E-4,4.3114715873185784E-4,4.397302487058189E-4,4.338892071986335E-4,4.3159202158509874E-4,4.3350465484605084E-4,4.3313545645189003E-4,4.375489772388977E-4,0.14007896408027926,4.398566087823232E-4,0.24731437449541688,0.5226569212673408,4.332622845380941E-4,4.327031140235028E-4,4.3092481135950325E-4,4.330886521294672E-4,4.353085026612851E-4,0.0786492342333235,4.274424494797868E-4,4.379151862229974E-4,4.328253790215908E-4,4.3005307875410633E-4,4.444795739588792E-4,4.3112912641667404E-4,4.337495127277513E-4,4.392696225464054E-4,4.324271980844592E-4,4.3218089691222515E-4]                 |\n",
            "|[3, dividend, investing, tip, earn, thousand]                                                                    |[7.732686637291587E-4,7.791845476384556E-4,7.826775238151585E-4,7.665823734096468E-4,0.24896325259039528,7.714577529151387E-4,0.22333496479693377,7.7077401640138E-4,7.701175793228895E-4,7.779648471800471E-4,0.22273296373782667,7.820678306497541E-4,7.715450045514048E-4,7.674991463124915E-4,7.703430804616927E-4,7.69348871752487E-4,7.661870383755572E-4,7.700343609419582E-4,7.739812692185541E-4,7.784283628142308E-4,7.599953769423795E-4,7.786159690676862E-4,7.695662596921056E-4,7.64637092293078E-4,0.28489847939694823,7.665503118385521E-4,7.712093752628308E-4,7.810241654117723E-4,7.688582914690571E-4,7.68420366428137E-4]                            |\n",
            "|[4, reason, check, score, even, dont, plan, borrow, money, near, future]                                         |[4.783244554844643E-4,4.8198387178099885E-4,4.8414453857860174E-4,4.7418848525008583E-4,4.836284232182835E-4,4.772042718152722E-4,4.746777586642395E-4,4.76781329685277E-4,4.763752742963088E-4,4.81229395898029E-4,4.8368006059800454E-4,4.8376739779386807E-4,4.77258243472912E-4,4.747555778016957E-4,0.7195648145878999,4.7589977121827046E-4,4.7394394098793996E-4,4.763237975087863E-4,4.787652552333778E-4,4.8151611495716876E-4,0.26703597115719013,4.8163216344475617E-4,4.7603424190417417E-4,4.729851835073265E-4,4.888518725729674E-4,4.7416865277240456E-4,4.7705063167580077E-4,4.8312181285038123E-4,4.755963106514705E-4,4.75325421287108E-4]             |\n",
            "|[4, step, take, victim, identity, theft]                                                                         |[8.929739230400664E-4,8.998056107992678E-4,9.038393144581642E-4,8.852525667026155E-4,9.028757894850757E-4,8.908826755744084E-4,8.861659810076484E-4,8.900930937563503E-4,8.893350374419224E-4,8.983970955493516E-4,9.029721901738161E-4,9.031352382131613E-4,8.909834341327242E-4,8.863112599280313E-4,8.895954471106057E-4,8.884473306896592E-4,8.847960321346223E-4,8.892389365044622E-4,8.937968428736988E-4,8.989323653655618E-4,8.776458753262284E-4,0.30070255585768646,8.886983712020107E-4,8.830061478429858E-4,9.126273378479658E-4,8.852155418649787E-4,8.905958480114279E-4,9.019300091818762E-4,0.6743025197572811,8.873750888138242E-4]                      |\n",
            "|[401k, fee, disclosure, aha, moment, come, november]                                                             |[5.652645915631E-4,5.695891424712185E-4,5.721425315374721E-4,5.603768683901492E-4,5.715326071751939E-4,5.63940803584034E-4,5.60955072020533E-4,5.634409875959971E-4,5.629611276787877E-4,5.686975332358338E-4,0.13478005288585745,0.17272641364676433,5.640045851169452E-4,5.610470355453953E-4,5.631259705270897E-4,5.623991972770698E-4,5.600878758228327E-4,5.629002944828081E-4,5.657855109665668E-4,0.17604258320819563,5.555617296910692E-4,5.691735077130706E-4,0.5017724953446819,5.589548548169788E-4,5.777054694062545E-4,5.603534311662284E-4,5.637592378505935E-4,5.709339154305994E-4,5.620405797918075E-4,5.617204536429127E-4]                             |\n",
            "|[42, rise, new, business, premium, help, industry, clock, decent, growth]                                        |[5.150484436419625E-4,5.189888164300493E-4,5.213153712587628E-4,5.105949288619044E-4,5.207596304632168E-4,5.138422564007606E-4,5.111217668850846E-4,0.17139035802141353,5.129496115086732E-4,5.181764146704196E-4,0.50399473617886,5.209092749938299E-4,5.139003718030289E-4,5.112055606889763E-4,5.130998102894806E-4,5.12437601057128E-4,5.103316093930276E-4,5.128941825231761E-4,5.155230863705667E-4,5.184851469618034E-4,5.062075504025534E-4,5.186101052239284E-4,5.125823959067338E-4,5.092992420478755E-4,5.263841170000101E-4,5.105735737198858E-4,5.136768203379042E-4,5.202141244189564E-4,0.310713954831811,5.118191546557955E-4]                            |\n",
            "|[500, representative, 27, nation, including, top, regulator, central, banker, met, dozen, time, year]            |[3.871888514927294E-4,3.901510357941485E-4,3.9190002873481437E-4,3.8384091151898007E-4,3.914822493142703E-4,3.86282097461273E-4,3.8423696321400133E-4,3.859397388894302E-4,3.8561104961165756E-4,3.8954031090356457E-4,3.915240481525216E-4,0.08117337487003713,3.863257858485296E-4,0.08026538890430182,3.857239618903608E-4,0.06692766615974624,0.11158137212311747,3.8556938074476405E-4,3.8754566525483125E-4,3.8977240111341395E-4,3.8054268967658444E-4,3.8986633877440073E-4,3.853349944389298E-4,3.8286687597804394E-4,3.957104699980084E-4,3.838248577419931E-4,3.8615773052070104E-4,0.4256308088676732,3.84980502635348E-4,0.22512947013542067]                |\n",
            "|[5th8th, grader, need, know, money]                                                                              |[0.0012742417991118847,0.0012839903728090454,0.0012897463234314659,0.0012632237002207216,0.0012883714078118155,0.001271257663891896,0.0012645271097126416,0.001270130958923549,0.0012690492397190302,0.0012819804720072471,0.0012885089681429918,0.001288741631853039,0.0012714014427464334,0.0012647344175276314,0.0012694208349876216,0.0012677825139832196,0.0012625722417454212,0.0012689121071228777,0.00127541607623415,0.0012827442828585267,0.001252369224121288,0.0012830534324987668,0.0012681407398003356,0.0012600181409815909,0.001302286517996029,0.00126317086710343,0.3389151603269603,0.0012870218132011745,0.6254057729092574,0.0012662524632386098]    |\n",
            "|[8, way, get, people, take, seriously]                                                                           |[0.0010820367904124054,0.0010903149016832962,0.001095202632048542,0.0010726806475135214,0.0010940351069474556,0.0010795027783456622,0.001073787452379026,0.0010785460241183095,0.0010776274700599405,0.9686363057901666,0.001094151917852376,0.001094349486865885,0.0010796248697802564,0.0010739634901475528,0.0010779430143718271,0.0010765518156189294,0.0010721274542041,0.0010775110223701638,0.0010830339410708087,0.0010892567703494071,0.0010634634467526956,0.0010895192882516807,0.0010768560071106228,0.0010699586107437726,0.001105851279651073,0.0010726357836761777,0.0010791552228713683,0.0010928890834675817,0.0010758653453913848,0.0010752525557777052]|\n",
            "|[83rd, annual, general, meeting, tamilnad, mercantile, bank, tmb, today, turned, nonevent, contentious]          |[4.006208588700305E-4,4.0368580460489327E-4,4.0549547203510785E-4,3.971567751741739E-4,0.07640543125836548,3.996826485433304E-4,3.975665663383391E-4,3.9932841317583313E-4,3.9898832130531246E-4,4.0305389299572723E-4,0.6919088699035599,0.13566048697987754,3.9972785252889823E-4,3.9763174379159127E-4,3.991051506353141E-4,0.08562378406703909,3.969519570195864E-4,3.9894520689921943E-4,4.0099005089435497E-4,4.0329403467042013E-4,3.937441343863256E-4,4.033912311322929E-4,3.987026894746974E-4,3.96148949268364E-4,4.0943810169943114E-4,3.9714016447380213E-4,3.9955396717681013E-4,4.046388876495564E-4,3.983358999604714E-4,3.981090164537503E-4]            |\n",
            "|[aaa, study, find, nearautonomous, driverassist, system, remain, flawed]                                         |[7.618864355967965E-4,0.2580573415344989,7.71156800749062E-4,7.552985649922275E-4,7.703347200728123E-4,7.60102180719199E-4,7.560778911868672E-4,7.594285085531999E-4,7.587817339858155E-4,7.665134929678072E-4,7.7041696925678E-4,7.705560820414408E-4,7.601881480433909E-4,7.562018433381095E-4,7.590039158307552E-4,7.580243415064118E-4,7.54909049143988E-4,7.58699740547944E-4,7.625885517986615E-4,7.669701858239747E-4,7.488085266722047E-4,7.67155030582468E-4,7.582385295750029E-4,0.22167205051343025,7.786547529792862E-4,0.4996965762320265,7.598574590936277E-4,7.695277791691865E-4,7.575409823820736E-4,7.571095034352898E-4]                               |\n",
            "|[according, moody, low, capital, level, remain, key, credit, weakness, publicsector, bank]                       |[4.2332073110808567E-4,4.2655934198139873E-4,4.2847154830453235E-4,4.1966036642598176E-4,4.280147823390611E-4,4.2232936015811756E-4,4.2009337706773296E-4,4.219550532005401E-4,4.2159569113532196E-4,0.12435703781037932,0.563357804878735,4.2813777588048864E-4,4.2237712547986476E-4,4.201622475881307E-4,4.217191402177912E-4,4.211748673444419E-4,4.194439429196677E-4,4.215501337922138E-4,4.237108421925652E-4,4.2614537368267677E-4,0.15520635104572209,4.262480774643278E-4,4.2129387491020667E-4,4.1859543535741685E-4,4.326375741986053E-4,0.14607227692075633,4.2219338748233546E-4,4.27566428362482E-4,4.2090630246633683E-4,4.2066656334683797E-4]           |\n",
            "|[according, ordinance, every, appeal, act, ha, made, within, 45, day, date, irdai, order]                        |[0.09823372531221215,0.07566209706039435,3.914504164344868E-4,3.8340054514406714E-4,0.22984242752953743,3.8583893040455624E-4,3.837961424636584E-4,3.8549696460780686E-4,3.8516865242315394E-4,3.890934058200089E-4,3.910748672011924E-4,0.30377034426983324,3.858825686698628E-4,3.8385906237986826E-4,0.13013477638302892,3.847841889764415E-4,3.832028212299464E-4,3.851270313611289E-4,3.8710104855410783E-4,3.89325229761534E-4,3.801061072285925E-4,3.8941905965145284E-4,3.8489291395830917E-4,0.15308377165259596,3.9525648612111604E-4,3.833845097849223E-4,3.857147061457074E-4,3.9062350136981187E-4,3.845388288498309E-4,3.843198038562624E-4]                |\n",
            "|[account, maintenance, charge, proposed, lowcost, pension, scheme, drastically, reduced, provide, safety, people]|[3.7224732117207204E-4,3.750951954505121E-4,3.7677669514824094E-4,3.690285774457137E-4,0.13533933668338324,3.713755585738011E-4,3.694093455954886E-4,3.71046411541754E-4,3.70730406309208E-4,3.7450803829567426E-4,3.764152235721286E-4,3.7648319218073394E-4,3.714175610362521E-4,0.14695808223655316,3.708389613285935E-4,0.08095660431189115,3.688382653147804E-4,3.7069034543408223E-4,3.725903655717275E-4,3.74731172196641E-4,3.6585763323916594E-4,3.7482148482444893E-4,0.21434114857367212,3.6809212971634523E-4,3.8044009234436605E-4,0.10734579975851717,0.10320669214082845,3.759807774226596E-4,3.7012419199819837E-4,0.2032847973494422]                    |\n",
            "|[addition, west, bengal, also, request, reserve, bank, india, rbi, increase, additional, credit, limit, msmes]   |[3.379504806003253E-4,3.405359672548273E-4,3.420625427294182E-4,3.350282943887731E-4,3.4169789184827835E-4,0.07166271444731262,3.353739806350824E-4,3.3686021624219193E-4,3.3657332601046434E-4,0.09053849803012248,0.6004759585909879,3.417960815268573E-4,3.371971700437627E-4,3.354289621744574E-4,3.36671879361718E-4,3.362373689168906E-4,3.3485551658091737E-4,3.365369561262091E-4,3.382619187575961E-4,3.4020548312094776E-4,3.321495037095583E-4,3.402874748349153E-4,3.3633237646356714E-4,3.3417812585238003E-4,3.453884144617556E-4,3.3501428215239174E-4,0.22854301022269596,3.4133995652754117E-4,3.360229649840954E-4,3.358315735764133E-4]                |\n",
            "+-----------------------------------------------------------------------------------------------------------------+--------------------------------------------------------------------------------------------------------------------------------------------------------------------------------------------------------------------------------------------------------------------------------------------------------------------------------------------------------------------------------------------------------------------------------------------------------------------------------------------------------------------------------------------------------------------------------------------------------------------------------------------------------------------------+\n",
            "only showing top 20 rows\n",
            "\n"
          ]
        },
        {
          "name": "stderr",
          "output_type": "stream",
          "text": [
            "24/06/08 15:27:59 WARN DAGScheduler: Broadcasting large task binary with size 18.7 MiB\n"
          ]
        },
        {
          "name": "stdout",
          "output_type": "stream",
          "text": [
            "+----------------------------------------------------------------------------------------------------------------------------------------------------------------------------+---------------------------------------------------------------------------------------------------------------------------------------------------------------------------------------------------------------------------------------------------------------------------------------------------------------------------------------------------------------------------------------------------------------------------------------------------------------------------------------------------------------------------------------------------------------------------------------------------------------------------------------------------------------------+\n",
            "|description_filtered                                                                                                                                                        |topicDistribution                                                                                                                                                                                                                                                                                                                                                                                                                                                                                                                                                                                                                                                    |\n",
            "+----------------------------------------------------------------------------------------------------------------------------------------------------------------------------+---------------------------------------------------------------------------------------------------------------------------------------------------------------------------------------------------------------------------------------------------------------------------------------------------------------------------------------------------------------------------------------------------------------------------------------------------------------------------------------------------------------------------------------------------------------------------------------------------------------------------------------------------------------------+\n",
            "|[aiming, tackle, inflationary, pressure, reserve, bank, today, increased, key, statutory, deposit, ratio, bank, one]                                                        |[3.3493274902682285E-4,3.374951485573574E-4,3.390080924636557E-4,3.3203665650098787E-4,3.386466977360088E-4,3.341483730839888E-4,3.323792559390169E-4,3.338522201932631E-4,3.335678917500993E-4,3.3696684882513015E-4,0.4790255368894261,3.387440106284822E-4,3.34186165163082E-4,0.062483556860802494,0.130637001557609,3.3323493458827674E-4,3.3186542151390633E-4,3.335318466310176E-4,3.352414061945138E-4,0.0986933876236722,3.291835720065176E-4,3.372488750523433E-4,3.333290937641618E-4,3.3119407955135074E-4,3.423042657971089E-4,3.320227693869782E-4,0.12008594987849298,0.10104359160766559,3.33022445177105E-4,3.328327628004775E-4]                   |\n",
            "|[airline, airport, push, covid, testing, quarantine, hit, traffic]                                                                                                          |[6.200986756511826E-4,6.248427341520508E-4,0.09018682927291773,6.147368137696197E-4,0.1649554148120182,6.186464722322347E-4,6.153711066492172E-4,6.180981710702199E-4,6.175717618388144E-4,6.238646334283963E-4,6.270416692236979E-4,6.271548929927661E-4,6.187164409591067E-4,6.154719911925291E-4,6.177525954406568E-4,0.42399296155572125,6.144197871756284E-4,6.175050274551105E-4,6.206701273873614E-4,6.242363353285008E-4,6.094545774949997E-4,0.12842419681422892,6.171296482644071E-4,6.131768562796255E-4,6.337463938872635E-4,6.147111029932893E-4,6.184472935241919E-4,6.263179582216158E-4,0.17695520374358353,6.16210734918005E-4]                     |\n",
            "|[amid, stress, rising, bank, credit, portfolio, reserve, bank, india, rbi, tuesday, proposed, guideline, enable]                                                            |[3.5860658831856615E-4,3.6135010431141E-4,3.6296998667345197E-4,3.555057931194877E-4,3.6258304771070353E-4,3.57766770828011E-4,3.558726082968009E-4,0.09447497189472341,3.571452596996667E-4,3.6078446310411154E-4,0.7471298912229684,3.6268723890918816E-4,3.578072341405226E-4,3.5593095040115563E-4,3.5724983679924147E-4,3.567887683376037E-4,3.553224548383859E-4,3.571066668262928E-4,0.031903957813777445,3.6099942042551307E-4,3.5245104586154513E-4,3.6108642361249176E-4,3.5688958290716453E-4,3.546036608373655E-4,3.6649914133818806E-4,3.554909244314648E-4,3.576515846493029E-4,3.6220323477502127E-4,3.5656125967211896E-4,0.11717126501770607]       |\n",
            "|[amp, chief, tightlipped, executive, departure]                                                                                                                             |[8.654608100140845E-4,8.72082008984941E-4,8.75991431585321E-4,8.579773537361465E-4,8.750575934493148E-4,0.18923280839640544,8.588626251468668E-4,8.626687409722808E-4,8.61934040871068E-4,8.707168910160067E-4,8.751510239711082E-4,8.753090483919729E-4,8.635316493769912E-4,8.590034279282555E-4,8.621864271467651E-4,0.41803715596238067,8.575348852973401E-4,8.618409008658483E-4,8.66258375146714E-4,8.712356688174805E-4,8.506050295166086E-4,8.714456422289955E-4,8.613169907350163E-4,8.558001485170669E-4,8.8450869020416E-4,0.3693557001837063,8.631560050383117E-4,8.74140953259812E-4,8.605246157421109E-4,8.600344795470229E-4]                         |\n",
            "|[andhra, bank, ha, reported, 212, per, cent, increase, net, profit, r, 14109, crore, quarter, ended, june, 2007, compared]                                                  |[2.8387718177680897E-4,2.860489812182215E-4,0.0649244087518555,2.814225559248386E-4,2.870249936755636E-4,0.0897643684182071,2.8171293112178454E-4,2.8296136365805704E-4,2.827203769006876E-4,2.856012130035239E-4,0.8376548157560897,2.8710747265051116E-4,2.8324440363303887E-4,2.8175911541610373E-4,2.8280316135939393E-4,2.824381741568136E-4,2.8127742319101584E-4,2.826898263294162E-4,2.841387887028636E-4,2.8577137574051237E-4,2.790043821631453E-4,2.8584024848402436E-4,2.825179801524711E-4,2.807084174282355E-4,2.901250193269713E-4,2.814107856969561E-4,2.8312118966999174E-4,2.8672432930032965E-4,2.8225807562850115E-4,2.820973075380449E-4]       |\n",
            "|[apple, supplier, foxconn, post, betterthanexpected, second, quarter, profit]                                                                                               |[5.269598801221293E-4,5.309913812317151E-4,5.333717418921001E-4,5.224033696742522E-4,5.328031485751246E-4,5.257257975966009E-4,5.229423917894821E-4,5.252598512467758E-4,5.248125086602547E-4,5.301601911963319E-4,0.5668054957937944,5.329562539091818E-4,5.257852570239133E-4,5.230281234781171E-4,5.249661810623465E-4,5.242886570312651E-4,5.221339604614552E-4,0.08778778705509961,5.274454998310711E-4,5.304760634864311E-4,5.17914525070317E-4,5.306039116369084E-4,5.244368005264707E-4,5.210777177349488E-4,5.385577116419801E-4,0.144330176343465,5.255565355226244E-4,5.322450267066052E-4,0.18737598241260608,5.236559079267344E-4]                      |\n",
            "|[apple, watch, evidence, gang, four, becoming, bank]                                                                                                                        |[7.432166825736884E-4,7.489026541125498E-4,7.522598807625646E-4,0.17707484797445097,7.514579448762492E-4,7.414761502196452E-4,7.37550474455146E-4,7.408189861480869E-4,7.401880605581493E-4,7.477303555676085E-4,0.10148693884614787,7.516738824510355E-4,7.415600109462265E-4,7.376713892034042E-4,7.404047979175791E-4,0.13695094750731543,0.16167273231804435,0.24090171364633745,7.439015936698415E-4,7.481758573303635E-4,7.304592431026776E-4,7.48356172534356E-4,0.1640663187545346,7.34920564822203E-4,7.595740983696717E-4,7.367594298247222E-4,7.412374254098242E-4,7.50670777770707E-4,7.389777131265947E-4,7.385568074165077E-4]                         |\n",
            "|[arthveda, fund, management, pe, arm, dewan, housing, finance, limited, dhfl, ha, tied, credit, analysis, research, ltd]                                                    |[2.9560448056694424E-4,2.978659995864769E-4,0.12108651764613441,2.9304845124677667E-4,2.988823322612799E-4,2.9491220713647283E-4,2.933508221832373E-4,2.94650828929391E-4,2.9439988672682173E-4,2.973997335424373E-4,0.5164611212014739,2.9896821853919893E-4,2.9494556161710055E-4,2.9339891440472024E-4,2.944860911084746E-4,0.11880230313843489,2.9289732290968925E-4,2.943680740756562E-4,2.9587689478148603E-4,2.975769259013997E-4,2.9053037989534635E-4,2.976486438585605E-4,0.19046266092910655,2.9230481085262513E-4,3.021104236024205E-4,0.045801114011606504,2.948172575409721E-4,2.985692470890188E-4,2.9391848724773977E-4,2.9375107763922944E-4]       |\n",
            "|[axis, trustee, provide, facility, agency, service, ifsc, banking, unit, ecb, transaction, trusteeship, service]                                                            |[3.5641576885433367E-4,3.5914252400549737E-4,3.6075251009152386E-4,3.5333391720708426E-4,3.603679350380828E-4,3.555810820237923E-4,3.5369849141635455E-4,0.08512918346456191,3.5496336786615553E-4,0.12537260033522696,0.538389497267762,3.6047148970577334E-4,3.5562129813563063E-4,3.5375647709406433E-4,3.5506730607748544E-4,3.546090544010918E-4,3.5315169898650735E-4,0.05034071691973294,3.5674422369208865E-4,3.5879398253744544E-4,3.5029783218219E-4,3.5888045419989146E-4,3.5470925306849474E-4,3.524372962821194E-4,3.642601042468098E-4,0.12794984609904017,3.554665995470254E-4,3.599904424766525E-4,3.5438293564438015E-4,0.06426525986889554]        |\n",
            "|[bank, continued, issue, certificate, deposit, cd, today, meet, yearend, deposit, target, demand, mutual]                                                                   |[3.5948900629412456E-4,3.622392732171371E-4,3.6386314159939255E-4,3.563805810139438E-4,3.634752505016504E-4,3.586471222768729E-4,3.5674829880772845E-4,3.5832925635088367E-4,3.58024081805321E-4,3.6167224014417977E-4,0.13413444598490679,3.635796980819579E-4,3.586876851570436E-4,3.568067844737109E-4,3.581289162362167E-4,3.5766671323020707E-4,3.5619679159479614E-4,3.579853939670919E-4,3.59820293272998E-4,3.61887726407796E-4,3.533183169839419E-4,0.131834157832889,3.5776777587267757E-4,3.5547622886789634E-4,3.6740098040328133E-4,3.563656757385929E-4,3.585316526613112E-4,0.724338233597084,3.5743864473743994E-4,3.5723505542205536E-4]            |\n",
            "|[bank, parking, fund, security, qualifying, maintenance, statutory, liquidity, ratio, slr, also, mutual]                                                                    |[3.498973914626494E-4,3.525742778350384E-4,3.5415481938506406E-4,3.468719028437668E-4,0.08377841930951856,3.4907796996050107E-4,3.472298094686913E-4,3.4876858509361E-4,3.4847155298543066E-4,3.520223739119339E-4,0.38519218065820787,3.5387893849408633E-4,3.491174505723658E-4,3.4728673466409186E-4,3.4857359030301277E-4,3.481237194493718E-4,3.4669301715564574E-4,3.4843389738687297E-4,3.502198392917929E-4,0.24334665006785236,3.438913438357379E-4,3.523170009424429E-4,3.4822208561478536E-4,3.4599167994053614E-4,0.07242285222805217,3.468573952600108E-4,0.09870796411880021,3.5340668898843115E-4,0.10817214797391318,3.4770357880972014E-4]          |\n",
            "|[bank, recorded, net, profit, r, 13315, crore, corresponding, quarter, last, fiscal, indusind, bank, said, filing]                                                          |[3.4569854849789665E-4,3.483433116656196E-4,3.499048863815984E-4,3.4270936638464996E-4,3.4953187528213614E-4,3.448889602277132E-4,3.430629780538567E-4,3.4458328804496465E-4,3.442898203850289E-4,3.4779803070675015E-4,0.9899814246660169,3.496323161197627E-4,3.4492796706386456E-4,3.431192201350596E-4,3.4439063323316634E-4,3.4394616092526723E-4,3.425326273635197E-4,3.442526166617356E-4,3.4601712688465464E-4,3.480052506418538E-4,3.397645747173314E-4,3.480891221503502E-4,3.440433466753792E-4,3.4183970634306366E-4,3.53307009166776E-4,3.426950328948208E-4,3.447779201741745E-4,3.4916573370834844E-4,3.4372684143136516E-4,3.435310620623903E-4]     |\n",
            "|[bank, reduced, borrowing, way, certificate, deposit, cd, finance, ministry, issued, norm, required]                                                                        |[3.746691250917896E-4,3.7753552735597136E-4,3.7922796672298817E-4,0.037422148311912144,3.788236961731365E-4,3.7379169089314993E-4,3.7181268592924224E-4,3.7346040246346104E-4,3.7314234133231037E-4,0.08220806318913797,0.39931946309378724,0.09461903142587516,3.7383396661937906E-4,3.7187364126571294E-4,3.732516025998746E-4,3.727698821776295E-4,3.712378902573667E-4,3.7310201982515627E-4,3.7501440130418586E-4,3.7716913580315193E-4,3.6823786648702925E-4,3.772600359959267E-4,0.13452027463626237,3.704869003752079E-4,3.829151976151586E-4,3.7141390586077204E-4,3.7367134534964104E-4,0.24293146593569173,3.725321830514976E-4,3.723199967834516E-4]     |\n",
            "|[bank, turned, best, class, trader, indian, secondary, market, sticking, strictly, sell, peak]                                                                              |[3.865816021910136E-4,3.8953914073764273E-4,3.9128539063728105E-4,3.832389129730281E-4,3.9086826644321986E-4,3.856762702708131E-4,3.83634343518839E-4,0.08914622758171309,3.8500627486198774E-4,3.8892937367996695E-4,0.1587796537593112,0.12676857593365437,3.8571989013922646E-4,3.8369723690933716E-4,0.14084292889306357,0.12168015195509856,0.12131509194952109,3.8496467134632934E-4,3.8693785634246825E-4,3.8916109989019926E-4,3.7994586391106895E-4,3.8925489022366574E-4,3.847306526414359E-4,3.8226640506492987E-4,3.950898557797967E-4,0.07254954013171673,0.16041230847322463,3.904588241794458E-4,3.8437671680682637E-4,3.841577841485905E-4]          |\n",
            "|[based, new, recommendation, tax, devolution, state, work, r, 3948, lakh, crore, fiveyear, period]                                                                          |[4.0265922972679773E-4,4.0573976999681654E-4,4.0755864506888197E-4,3.991775206699456E-4,4.07124173004534E-4,4.0171624575805755E-4,0.16200680662816244,4.013602080302853E-4,4.0101838576235376E-4,0.1277849350654706,0.393356886023745,4.072411634592223E-4,0.05767093509429827,3.996549059415189E-4,4.01135809523561E-4,4.006181016015588E-4,3.989716603945679E-4,4.0097505198888436E-4,4.030303002112712E-4,4.0534600672537514E-4,3.957475162640249E-4,4.054436977258883E-4,0.11021020917363888,3.9816456691596687E-4,4.1152133495027816E-4,3.991608254538503E-4,4.0158690965686947E-4,0.1393147787339949,4.0036264487819433E-4,4.001346069815783E-4]               |\n",
            "|[berkshire, hathaway, profit, surge, despite, near10bn, writedown]                                                                                                          |[6.479088392260363E-4,6.528656590955546E-4,0.08626238531587992,6.423065087515305E-4,6.550932671562427E-4,0.2852443773615979,6.429692483758313E-4,6.458186160860747E-4,6.452685984718804E-4,6.518436925450041E-4,0.23621275381255333,6.552815135541369E-4,6.464646141212044E-4,6.430746573852239E-4,6.454575420925532E-4,6.44624511296364E-4,6.419752641600271E-4,6.451988711868075E-4,6.485059194095084E-4,6.522320645187562E-4,0.16381421053612746,6.523892566503571E-4,6.44806657003569E-4,6.406765903428733E-4,6.621686298491926E-4,6.422796448994714E-4,6.461833959715663E-4,6.544070439625254E-4,0.21227262583546538,6.43846532263598E-4]                       |\n",
            "|[bp, plan, 59, billion, share, buy, back, criminal, fine, aim, boost, lagging, stock, report]                                                                               |[3.410964937465351E-4,3.437060489424481E-4,3.452468354584747E-4,3.3814710462572514E-4,3.4487879000199087E-4,3.402976829863628E-4,3.3849600889818105E-4,0.10848947402840811,3.397065190936949E-4,3.431680269457184E-4,0.28041686457524356,0.26391095874239007,3.4033617055035883E-4,0.1595693777917076,3.3980598988743715E-4,3.393674345435705E-4,0.08681897842241511,3.3966981063876436E-4,3.4141083111122384E-4,3.433724882997659E-4,3.352415150104446E-4,3.434552432826948E-4,3.3946332652451535E-4,3.372890217896477E-4,0.09261924359546714,3.3813296194814006E-4,3.401881211350571E-4,3.4451752262733553E-4,3.391510347043884E-4,3.389578616157024E-4]           |\n",
            "|[bryan, fite, missouri, man, find, centuryold, whiskey, bottle, attic, video]                                                                                               |[4.1949867247057724E-4,4.227080427231683E-4,4.246029842064729E-4,0.1539541494822498,4.2415034226817586E-4,4.1851625236483277E-4,0.22966705459450729,4.1814532493257166E-4,4.177892074589722E-4,4.2204635455778014E-4,4.24195629101614E-4,4.2427222533141803E-4,4.1856358642512867E-4,4.1636870612041775E-4,4.1791154194988924E-4,0.2665767433399429,4.156568868480172E-4,4.1774406144180965E-4,4.1988526133818064E-4,4.2229781204279176E-4,4.1229790713836627E-4,4.223995885374212E-4,4.174901162580562E-4,4.148160402518312E-4,4.2873139607960305E-4,4.1585396289998077E-4,4.183815073528745E-4,0.14047558695455303,4.1710604311033007E-4,0.19883503617553658]      |\n",
            "|[bsnl, launch, mobile, service, vijoynagar]                                                                                                                                 |[0.0010989716031349157,0.0011073792740115007,0.0011123435015937078,0.0010894690284974542,0.0011111577037120944,0.0010963979315846066,0.0010905931558179286,0.0010954262033255218,0.0010944932731004157,0.0011056458322828543,0.0011112763428099486,0.001111477003948699,0.0010965219338560427,0.0010907719487299012,0.001094813755954006,0.0010934007837361866,0.379593824201855,0.0010943750029030485,0.001099984360063947,0.001106304582009755,0.0010801075705637144,0.18910475735645713,0.001093709736088058,0.001086704389495627,0.0011231588097486479,0.001089423462502601,0.0010960449365658958,0.0011099937439735222,0.4016293913823241,0.0010920811893532266]|\n",
            "|[car, care, product, market, research, report, product, solvent, type, consumption, application, distribution, channel, global, forecast, 2025, cumulative, impact, covid19]|[2.5774003052095285E-4,2.597118679573885E-4,0.19772625532556393,2.555114070787549E-4,2.6059801695646305E-4,2.5713643149986057E-4,2.5577504683899923E-4,2.5690853364482963E-4,0.04092136646383457,0.06170011231717212,2.60625841191899E-4,2.606729019238801E-4,2.5716551355176395E-4,2.5581697885104933E-4,2.5676489735446226E-4,2.5643351526841976E-4,0.05603050154766859,0.07746751609116753,2.579775507636251E-4,2.594598221821052E-4,2.5331587950855875E-4,2.5952235367170275E-4,2.5650597336309225E-4,2.548630207704227E-4,2.6341261692215256E-4,0.4804084258244472,2.570536441496778E-4,0.07982045655446282,2.5626999877881095E-4,2.5612403293440503E-4]        |\n",
            "+----------------------------------------------------------------------------------------------------------------------------------------------------------------------------+---------------------------------------------------------------------------------------------------------------------------------------------------------------------------------------------------------------------------------------------------------------------------------------------------------------------------------------------------------------------------------------------------------------------------------------------------------------------------------------------------------------------------------------------------------------------------------------------------------------------------------------------------------------------+\n",
            "only showing top 20 rows\n",
            "\n"
          ]
        }
      ],
      "source": [
        "# Show the topic distributions for the training set\n",
        "train_topic_distributions.show(truncate=False)\n",
        "\n",
        "# Show the topic distributions for the test set\n",
        "test_topic_distributions.show(truncate=False)"
      ]
    },
    {
      "cell_type": "code",
      "execution_count": null,
      "metadata": {
        "id": "-8_hqauylbpI",
        "outputId": "fd60038b-708a-4d1c-f159-0b741c1c5226"
      },
      "outputs": [
        {
          "data": {
            "text/plain": [
              "['herbert',\n",
              " 'movement',\n",
              " '30',\n",
              " 'fresh',\n",
              " 'serve',\n",
              " 'hollywood',\n",
              " 'britain',\n",
              " 'san',\n",
              " 'car',\n",
              " 'nt',\n",
              " 'word',\n",
              " 'together',\n",
              " 'embody',\n",
              " 'reality',\n",
              " '14',\n",
              " 'police',\n",
              " 'flight',\n",
              " 'district',\n",
              " 'day',\n",
              " 'prison',\n",
              " 'look',\n",
              " 'antiophthalmic',\n",
              " 'investment',\n",
              " 'day',\n",
              " 'class',\n",
              " 'h',\n",
              " 'pop',\n",
              " 'love',\n",
              " 'union',\n",
              " 'thanksgiving']"
            ]
          },
          "execution_count": 58,
          "metadata": {},
          "output_type": "execute_result"
        }
      ],
      "source": [
        "topics_words_array"
      ]
    },
    {
      "cell_type": "markdown",
      "metadata": {
        "id": "uEH0OfIqUxOg"
      },
      "source": [
        "### 8. Save the model and other important data"
      ]
    },
    {
      "cell_type": "code",
      "execution_count": null,
      "metadata": {
        "id": "U0UFEcBKlR9y",
        "outputId": "668559d5-87e7-4218-c199-f79dc0400eba"
      },
      "outputs": [
        {
          "name": "stderr",
          "output_type": "stream",
          "text": [
            "24/06/08 16:15:31 WARN TaskSetManager: Stage 153 contains a task of very large size (17567 KiB). The maximum recommended task size is 1000 KiB.\n",
            "                                                                                \r"
          ]
        }
      ],
      "source": [
        "fitted_model.save('output/news_topic_model')"
      ]
    },
    {
      "cell_type": "code",
      "execution_count": null,
      "metadata": {
        "id": "q8lsT2ADlR9y",
        "outputId": "cf469477-7346-464a-b500-51f5fac8b1cf"
      },
      "outputs": [
        {
          "data": {
            "text/plain": [
              "128622"
            ]
          },
          "execution_count": 52,
          "metadata": {},
          "output_type": "execute_result"
        }
      ],
      "source": [
        "vocabulary_size"
      ]
    },
    {
      "cell_type": "code",
      "execution_count": null,
      "metadata": {
        "id": "gbt4244NlR9y",
        "outputId": "38c2a7c6-d4da-4921-d757-63635d6371a4"
      },
      "outputs": [
        {
          "data": {
            "text/plain": [
              "73411"
            ]
          },
          "execution_count": 53,
          "metadata": {},
          "output_type": "execute_result"
        }
      ],
      "source": [
        "#len(vocabulary)"
      ]
    },
    {
      "cell_type": "code",
      "execution_count": null,
      "metadata": {
        "id": "x2KaSfg7lR9y",
        "outputId": "786ee9e4-818e-4172-c235-b76cc3c652fb"
      },
      "outputs": [
        {
          "name": "stdout",
          "output_type": "stream",
          "text": [
            "Data successfully written to output/news_topic_model/extra.json\n"
          ]
        }
      ],
      "source": [
        "import json\n",
        "\n",
        "# Define your data\n",
        "data = {\n",
        "    \"minDF\": minDF,\n",
        "    \"vocabulary_size\": vocabulary_size,\n",
        "\n",
        "}\n",
        "\n",
        "# Specify the file name\n",
        "file_name = 'output/news_topic_model/extra.json'\n",
        "\n",
        "# Write the data to a JSON file\n",
        "with open(file_name, 'w') as json_file:\n",
        "    json.dump(data, json_file, indent=4)\n",
        "\n",
        "print(f\"Data successfully written to {file_name}\")\n"
      ]
    },
    {
      "cell_type": "code",
      "execution_count": null,
      "metadata": {
        "id": "rOvz4kGFlR9y",
        "outputId": "a3fcfce5-fca0-4d24-ca9b-326dc058fe0d"
      },
      "outputs": [
        {
          "name": "stdout",
          "output_type": "stream",
          "text": [
            "Data successfully written to output/news_topic_model/topics.json\n"
          ]
        }
      ],
      "source": [
        "# Specify the file name\n",
        "file_name = 'output/news_topic_model/topics.json'\n",
        "\n",
        "# Write the data to a JSON file\n",
        "with open(file_name, 'w') as json_file:\n",
        "    json.dump(topics_words_dict, json_file, indent=4)\n",
        "\n",
        "print(f\"Data successfully written to {file_name}\")"
      ]
    },
    {
      "cell_type": "markdown",
      "metadata": {
        "id": "GnFsw8x5Vyy2"
      },
      "source": [
        "## VII- Summary\n",
        "\n",
        "In this notebook we have studied two models for our news categorization task. There are Naive Bayes and Logistic regression.\n",
        "\n",
        " Our study reveals that the Logistic regression was the one with best performance.\n",
        "\n",
        " Then we tunned the Logistic regression hyperparameters using grid search and then we find the best model that we save.\n",
        "\n",
        " The next step of our work will be to ..."
      ]
    },
    {
      "cell_type": "code",
      "execution_count": null,
      "metadata": {
        "id": "NSyD5awwBByb"
      },
      "outputs": [],
      "source": [
        "#df.unpersist()\n",
        "#spark.stop()"
      ]
    }
  ],
  "metadata": {
    "colab": {
      "provenance": []
    },
    "kernelspec": {
      "display_name": "Python 3 (ipykernel)",
      "language": "python",
      "name": "python3"
    },
    "language_info": {
      "codemirror_mode": {
        "name": "ipython",
        "version": 3
      },
      "file_extension": ".py",
      "mimetype": "text/x-python",
      "name": "python",
      "nbconvert_exporter": "python",
      "pygments_lexer": "ipython3",
      "version": "3.8.2"
    }
  },
  "nbformat": 4,
  "nbformat_minor": 0
}