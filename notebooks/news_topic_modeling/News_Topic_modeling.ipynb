{
 "cells": [
  {
   "cell_type": "markdown",
   "metadata": {
    "id": "u-qFVy2lBaqu"
   },
   "source": [
    "# News Topic modeling\n"
   ]
  },
  {
   "cell_type": "markdown",
   "metadata": {
    "id": "mNfMRWDbFXDJ"
   },
   "source": [
    "## I- Modules import"
   ]
  },
  {
   "cell_type": "code",
   "execution_count": 1,
   "metadata": {
    "id": "3QYNQcr-FQLs"
   },
   "outputs": [],
   "source": [
    "from pyspark import SparkConf, SparkContext\n",
    "from pyspark.sql import SparkSession\n",
    "from pyspark.ml.evaluation import MulticlassClassificationEvaluator\n",
    "from pyspark.ml.tuning import CrossValidator, ParamGridBuilder\n",
    "from pyspark.ml.feature import  IDF, HashingTF,CountVectorizer\n",
    "from pyspark.ml import  Pipeline\n",
    "from math import ceil,log2\n",
    "from pyspark.ml.classification import LogisticRegression,NaiveBayes,LogisticRegressionModel\n",
    "from pyspark.sql.functions import col,explode,split\n",
    "\n",
    "import numpy as np\n",
    "from pyspark.ml.clustering import LDA"
   ]
  },
  {
   "cell_type": "markdown",
   "metadata": {
    "id": "Nj7Qu-EvK9_Y"
   },
   "source": [
    "## II- Spark context and session creation"
   ]
  },
  {
   "cell_type": "code",
   "execution_count": 2,
   "metadata": {
    "colab": {
     "base_uri": "https://localhost:8080/",
     "height": 219
    },
    "id": "aFZWn6-QBByS",
    "outputId": "cc18968f-50af-4a70-9d51-126be08a96c8",
    "scrolled": false
   },
   "outputs": [
    {
     "name": "stderr",
     "output_type": "stream",
     "text": [
      "Setting default log level to \"WARN\".\n",
      "To adjust logging level use sc.setLogLevel(newLevel). For SparkR, use setLogLevel(newLevel).\n",
      "24/06/06 06:07:38 WARN NativeCodeLoader: Unable to load native-hadoop library for your platform... using builtin-java classes where applicable\n"
     ]
    },
    {
     "data": {
      "text/html": [
       "\n",
       "            <div>\n",
       "                <p><b>SparkSession - in-memory</b></p>\n",
       "                \n",
       "        <div>\n",
       "            <p><b>SparkContext</b></p>\n",
       "\n",
       "            <p><a href=\"http://node02.cm.cluster:4040\">Spark UI</a></p>\n",
       "\n",
       "            <dl>\n",
       "              <dt>Version</dt>\n",
       "                <dd><code>v3.5.1</code></dd>\n",
       "              <dt>Master</dt>\n",
       "                <dd><code>spark://node02:7077</code></dd>\n",
       "              <dt>AppName</dt>\n",
       "                <dd><code>NewsTopicModeling</code></dd>\n",
       "            </dl>\n",
       "        </div>\n",
       "        \n",
       "            </div>\n",
       "        "
      ],
      "text/plain": [
       "<pyspark.sql.session.SparkSession at 0x7fffa8faacd0>"
      ]
     },
     "execution_count": 2,
     "metadata": {},
     "output_type": "execute_result"
    }
   ],
   "source": [
    "spark = (SparkSession.builder\n",
    "    .master(\"spark://node02:7077\")\n",
    "    .appName(\"NewsTopicModeling\")\n",
    "    .getOrCreate()\n",
    "        )\n",
    "spark"
   ]
  },
  {
   "cell_type": "markdown",
   "metadata": {
    "id": "PuV9CWoMN60A"
   },
   "source": [
    "## III- Dataframe preparing"
   ]
  },
  {
   "cell_type": "markdown",
   "metadata": {
    "id": "Em4ZWvqhPoHt"
   },
   "source": [
    "### 1. Load the data"
   ]
  },
  {
   "cell_type": "code",
   "execution_count": 3,
   "metadata": {
    "id": "xMI_45McvZto"
   },
   "outputs": [
    {
     "name": "stderr",
     "output_type": "stream",
     "text": [
      "                                                                                \r"
     ]
    }
   ],
   "source": [
    "# Load data\n",
    "df = spark.read.parquet(\"input/news.parquet\", header=True, inferSchema=True)"
   ]
  },
  {
   "cell_type": "code",
   "execution_count": 4,
   "metadata": {},
   "outputs": [],
   "source": [
    "#spark.stop()"
   ]
  },
  {
   "cell_type": "markdown",
   "metadata": {
    "id": "x4csdl2FOVf8"
   },
   "source": [
    "### 2. Partition and cache the dataframe"
   ]
  },
  {
   "cell_type": "code",
   "execution_count": 5,
   "metadata": {
    "colab": {
     "base_uri": "https://localhost:8080/"
    },
    "id": "4EXrJ3GIBByT",
    "outputId": "0d866061-6fee-4bbb-fd79-84c946204d72"
   },
   "outputs": [
    {
     "data": {
      "text/plain": [
       "9"
      ]
     },
     "execution_count": 5,
     "metadata": {},
     "output_type": "execute_result"
    }
   ],
   "source": [
    "df.rdd.getNumPartitions()"
   ]
  },
  {
   "cell_type": "code",
   "execution_count": 6,
   "metadata": {
    "id": "PPBefKKqBByU"
   },
   "outputs": [],
   "source": [
    "num_partitions=4*20\n",
    "df= df.repartition(num_partitions).cache()"
   ]
  },
  {
   "cell_type": "code",
   "execution_count": 7,
   "metadata": {
    "colab": {
     "base_uri": "https://localhost:8080/"
    },
    "id": "ytFY1tjRBByU",
    "outputId": "cf5d7480-394e-43ac-e8e0-bc5cef64d4e2"
   },
   "outputs": [
    {
     "name": "stderr",
     "output_type": "stream",
     "text": [
      "[Stage 3:================================================>       (69 + 11) / 80]\r"
     ]
    },
    {
     "data": {
      "text/plain": [
       "80"
      ]
     },
     "execution_count": 7,
     "metadata": {},
     "output_type": "execute_result"
    }
   ],
   "source": [
    "df.rdd.getNumPartitions()"
   ]
  },
  {
   "cell_type": "markdown",
   "metadata": {
    "id": "4G5XozIiQTEx"
   },
   "source": [
    "### 3. Preview the data"
   ]
  },
  {
   "cell_type": "code",
   "execution_count": 8,
   "metadata": {
    "colab": {
     "base_uri": "https://localhost:8080/"
    },
    "id": "r86OcjwLv0EU",
    "outputId": "63e295fa-1b60-414b-f44f-3f8c8fd24a4b"
   },
   "outputs": [
    {
     "name": "stderr",
     "output_type": "stream",
     "text": [
      "                                                                                \r"
     ]
    },
    {
     "data": {
      "text/plain": [
       "1716608"
      ]
     },
     "execution_count": 8,
     "metadata": {},
     "output_type": "execute_result"
    }
   ],
   "source": [
    "df.count()"
   ]
  },
  {
   "cell_type": "code",
   "execution_count": 9,
   "metadata": {
    "colab": {
     "base_uri": "https://localhost:8080/"
    },
    "id": "sfy_ivN4BByV",
    "outputId": "c374612e-8073-411f-a842-736cbe7eef50"
   },
   "outputs": [
    {
     "name": "stdout",
     "output_type": "stream",
     "text": [
      "+--------------+--------------------+\n",
      "|category_label|description_filtered|\n",
      "+--------------+--------------------+\n",
      "|           7.0|orchard apple tre...|\n",
      "|           8.0|devolution sectio...|\n",
      "|           5.0|live leonard bloo...|\n",
      "|           4.0|top u general say...|\n",
      "|           9.0|daddy chore go by...|\n",
      "|           7.0|metamorphosis kaf...|\n",
      "|           8.0|soundbox miss 4ye...|\n",
      "|           8.0|90 covid19 patien...|\n",
      "|           6.0|appealingness med...|\n",
      "|           9.0|nurture tiddler e...|\n",
      "|           7.0|infinix zero 8 me...|\n",
      "|           5.0|new figure lake o...|\n",
      "|           6.0|medico get seriou...|\n",
      "|           8.0|bbc bias ruling c...|\n",
      "|           8.0|microsoft buy tik...|\n",
      "|           9.0|lie told moment baby|\n",
      "|           7.0|tinder automaton ...|\n",
      "|           9.0|yr one fair sex j...|\n",
      "|           4.0|president mnangag...|\n",
      "|           6.0|actually tap wate...|\n",
      "+--------------+--------------------+\n",
      "only showing top 20 rows\n",
      "\n"
     ]
    }
   ],
   "source": [
    "df.show()"
   ]
  },
  {
   "cell_type": "code",
   "execution_count": 10,
   "metadata": {
    "colab": {
     "base_uri": "https://localhost:8080/"
    },
    "id": "awWri7zZQcOl",
    "outputId": "80402c12-f32a-483f-9ed0-ddad43eda4c4"
   },
   "outputs": [
    {
     "name": "stdout",
     "output_type": "stream",
     "text": [
      "root\n",
      " |-- category_label: double (nullable = true)\n",
      " |-- description_filtered: string (nullable = true)\n",
      "\n"
     ]
    }
   ],
   "source": [
    "df.printSchema()"
   ]
  },
  {
   "cell_type": "markdown",
   "metadata": {
    "id": "VMpXsNNsO_Z6"
   },
   "source": [
    "### 4. Convert filtered descriptions to arrays"
   ]
  },
  {
   "cell_type": "code",
   "execution_count": 11,
   "metadata": {
    "colab": {
     "base_uri": "https://localhost:8080/"
    },
    "id": "Drqnhee0i26r",
    "outputId": "63a0cd7d-df8f-45c9-a6b5-ef7cf9bf7ebc"
   },
   "outputs": [
    {
     "name": "stdout",
     "output_type": "stream",
     "text": [
      "+--------------+-----------------------------------------------------------------------------------------------------------+\n",
      "|category_label|description_filtered                                                                                       |\n",
      "+--------------+-----------------------------------------------------------------------------------------------------------+\n",
      "|7.0           |[orchard, apple, tree, pulsation, powerbeats, pro, earbuds, crazy, tinny, today, exclusively, refurbished] |\n",
      "|8.0           |[devolution, section, staff, isolate, aureole, case]                                                       |\n",
      "|5.0           |[live, leonard, bloomfield, give, prescribed, covid19, update, 1pm, latest, subject, figure]               |\n",
      "|4.0           |[top, u, general, say, north, korea, military, posture, unchanged, amid, tension]                          |\n",
      "|9.0           |[daddy, chore, go, byebye]                                                                                 |\n",
      "|7.0           |[metamorphosis, kafkainspired, plot, bug]                                                                  |\n",
      "|8.0           |[soundbox, miss, 4yearold, girl, found, consortium, claude, elwood, shannon, que]                          |\n",
      "|8.0           |[90, covid19, patient, role, recoup, far, 7, active, case, merely, say, delhi, cm, kejriwal]               |\n",
      "|6.0           |[appealingness, medico, involve, utilization]                                                              |\n",
      "|9.0           |[nurture, tiddler, emotional, growth, part, 2]                                                             |\n",
      "|7.0           |[infinix, zero, 8, mediatek, helio, g90, soc, spotted, google, drama, listing, puzzler, television, leaked]|\n",
      "|5.0           |[new, figure, lake, ontario, provide, ray, light, hope, covid, fight]                                      |\n",
      "|6.0           |[medico, get, serious, happiness]                                                                          |\n",
      "|8.0           |[bbc, bias, ruling, confirms, article, exploring, covid19, pandemic, showed, antitrump, bias]              |\n",
      "|8.0           |[microsoft, buy, tiktok, much, every, bit, 30, billion]                                                    |\n",
      "|9.0           |[lie, told, moment, baby]                                                                                  |\n",
      "|7.0           |[tinder, automaton, choose, date, punter]                                                                  |\n",
      "|9.0           |[yr, one, fair, sex, journey, dark, side, yes]                                                             |\n",
      "|4.0           |[president, mnangagwa, defiant, citizen, protest, violation, using, zimbabweanlivesmatter]                 |\n",
      "|6.0           |[actually, tap, water, supply]                                                                             |\n",
      "+--------------+-----------------------------------------------------------------------------------------------------------+\n",
      "only showing top 20 rows\n",
      "\n"
     ]
    }
   ],
   "source": [
    "# Create a new DataFrame with description_filtered as arrays\n",
    "df= df.withColumn('description_filtered', split(col('description_filtered'), ' '))\n",
    "# Show the new DataFrame\n",
    "df.show(truncate=False)"
   ]
  },
  {
   "cell_type": "markdown",
   "metadata": {
    "id": "3RmBazOpQqXF"
   },
   "source": [
    "## IV- Feature Engineering\n"
   ]
  },
  {
   "cell_type": "markdown",
   "metadata": {
    "id": "LjsTG0YLSyEn"
   },
   "source": [
    "### 1. Explode the filtered descriptions to get the words"
   ]
  },
  {
   "cell_type": "code",
   "execution_count": 12,
   "metadata": {
    "colab": {
     "base_uri": "https://localhost:8080/"
    },
    "id": "4qON2vCKBByX",
    "outputId": "3b8af783-1259-46dd-9346-ee5ee60033c4"
   },
   "outputs": [
    {
     "name": "stdout",
     "output_type": "stream",
     "text": [
      "+-----------+\n",
      "|        col|\n",
      "+-----------+\n",
      "|    orchard|\n",
      "|      apple|\n",
      "|       tree|\n",
      "|  pulsation|\n",
      "| powerbeats|\n",
      "|        pro|\n",
      "|    earbuds|\n",
      "|      crazy|\n",
      "|      tinny|\n",
      "|      today|\n",
      "|exclusively|\n",
      "|refurbished|\n",
      "| devolution|\n",
      "|    section|\n",
      "|      staff|\n",
      "|    isolate|\n",
      "|    aureole|\n",
      "|       case|\n",
      "|       live|\n",
      "|    leonard|\n",
      "+-----------+\n",
      "only showing top 20 rows\n",
      "\n"
     ]
    }
   ],
   "source": [
    "exploded_df=df.select(explode(df.description_filtered)).alias('words')\n",
    "exploded_df.show()"
   ]
  },
  {
   "cell_type": "code",
   "execution_count": 13,
   "metadata": {
    "id": "DH41jOsrBByX"
   },
   "outputs": [],
   "source": [
    "#df=df.unpersist()"
   ]
  },
  {
   "cell_type": "markdown",
   "metadata": {
    "id": "MohTRQirTXD3"
   },
   "source": [
    "### 2. Get unique words in the filtered_description"
   ]
  },
  {
   "cell_type": "code",
   "execution_count": 14,
   "metadata": {
    "id": "2NbJFyQlBByX"
   },
   "outputs": [],
   "source": [
    "unique_words=exploded_df.distinct()"
   ]
  },
  {
   "cell_type": "markdown",
   "metadata": {
    "id": "t-UjxthKU0Rq"
   },
   "source": [
    "### 3. Cache and show the unique words dataframe"
   ]
  },
  {
   "cell_type": "code",
   "execution_count": 15,
   "metadata": {
    "colab": {
     "base_uri": "https://localhost:8080/"
    },
    "id": "h1S8h39xBByX",
    "outputId": "8c884387-1347-4441-d313-56027086df18"
   },
   "outputs": [
    {
     "name": "stderr",
     "output_type": "stream",
     "text": [
      "[Stage 19:=====================================>               (143 + 23) / 200]\r"
     ]
    },
    {
     "name": "stdout",
     "output_type": "stream",
     "text": [
      "+---------+\n",
      "|      col|\n",
      "+---------+\n",
      "| inverted|\n",
      "|    mammy|\n",
      "|    oscar|\n",
      "|   online|\n",
      "|    poppy|\n",
      "|    still|\n",
      "|   travel|\n",
      "|traveling|\n",
      "|  barrier|\n",
      "|  elevate|\n",
      "|  jewelry|\n",
      "|     pant|\n",
      "|      art|\n",
      "|recognize|\n",
      "|   patton|\n",
      "| carnegie|\n",
      "|  blossom|\n",
      "|    inner|\n",
      "|   90hour|\n",
      "|  quatern|\n",
      "+---------+\n",
      "only showing top 20 rows\n",
      "\n"
     ]
    },
    {
     "name": "stderr",
     "output_type": "stream",
     "text": [
      "\r",
      "                                                                                \r"
     ]
    }
   ],
   "source": [
    "unique_words=unique_words.cache()\n",
    "unique_words.show()"
   ]
  },
  {
   "cell_type": "markdown",
   "metadata": {
    "id": "KCb1pLl3VLOL"
   },
   "source": [
    "### 4. Get the vocabulary size"
   ]
  },
  {
   "cell_type": "code",
   "execution_count": 16,
   "metadata": {
    "colab": {
     "base_uri": "https://localhost:8080/"
    },
    "id": "dCakXZ3PBByX",
    "outputId": "e54847cd-6dce-4cf7-ffcb-7770061fcf18"
   },
   "outputs": [
    {
     "data": {
      "text/plain": [
       "128622"
      ]
     },
     "execution_count": 16,
     "metadata": {},
     "output_type": "execute_result"
    }
   ],
   "source": [
    "vocabulary_size=unique_words.count()\n",
    "vocabulary_size"
   ]
  },
  {
   "cell_type": "markdown",
   "metadata": {
    "id": "cV9aikKbYQzj"
   },
   "source": [
    "### 5. Define the CountVectorizer and IDF stages"
   ]
  },
  {
   "cell_type": "code",
   "execution_count": 18,
   "metadata": {
    "colab": {
     "base_uri": "https://localhost:8080/"
    },
    "id": "qYJp-K7O8pWN",
    "outputId": "dbdeed43-bf9e-40c4-ee66-ecd519909310"
   },
   "outputs": [],
   "source": [
    "# Define the HashingTF and IDF stages\n",
    "vectorizer = CountVectorizer(inputCol=\"description_filtered\", outputCol=\"raw_features\",vocabSize=vocabulary_size, minDF=3.0)\n",
    "idf = IDF(inputCol=\"raw_features\", outputCol=\"features\")"
   ]
  },
  {
   "cell_type": "markdown",
   "metadata": {
    "id": "74T1zTMRxKP8"
   },
   "source": [
    "## V- Models set up, training and evaluation"
   ]
  },
  {
   "cell_type": "markdown",
   "metadata": {
    "id": "HmY4gqj5Q2w_"
   },
   "source": [
    "### 1. Set up LDA model"
   ]
  },
  {
   "cell_type": "code",
   "execution_count": 19,
   "metadata": {
    "id": "f8ya3gJ_PxLc"
   },
   "outputs": [
    {
     "data": {
      "text/plain": [
       "LDA_b18524a02c25"
      ]
     },
     "execution_count": 19,
     "metadata": {},
     "output_type": "execute_result"
    }
   ],
   "source": [
    "#num_topics = 20\n",
    "#lda = LDA(k=num_topics, maxIter=10)\n",
    "lda = LDA(featuresCol=\"features\",seed=0)\n",
    "lda"
   ]
  },
  {
   "cell_type": "code",
   "execution_count": null,
   "metadata": {},
   "outputs": [],
   "source": []
  },
  {
   "cell_type": "markdown",
   "metadata": {
    "id": "XT81OlVr5Ck1"
   },
   "source": [
    "### 2. Set up pipelines\n",
    "\n",
    "We will  set up the pipelines of the following transformations for Naive Bayes and Linear reggression\n",
    "\n",
    "- CountVectorizer\n",
    "- IDF"
   ]
  },
  {
   "cell_type": "code",
   "execution_count": 20,
   "metadata": {},
   "outputs": [
    {
     "data": {
      "text/plain": [
       "Pipeline_ccc22729faf7"
      ]
     },
     "execution_count": 20,
     "metadata": {},
     "output_type": "execute_result"
    }
   ],
   "source": [
    "from pyspark.ml import Pipeline\n",
    "from pyspark.ml.feature import CountVectorizer, IDF\n",
    "from pyspark.ml.tuning import CrossValidator, ParamGridBuilder\n",
    "from pyspark.ml.evaluation import ClusteringEvaluator\n",
    "from pyspark.ml.clustering import LDA\n",
    " \n",
    "# Create pipeline for LDA\n",
    "pipeline = Pipeline(stages=[vectorizer, idf, lda]) \n",
    "\n",
    "\n",
    "pipeline"
   ]
  },
  {
   "cell_type": "markdown",
   "metadata": {
    "id": "UD0gwMNf7yY7"
   },
   "source": [
    "### 3. Split the data\n",
    "\n",
    "First of all let us split the data into train and test set: 80% for train and 20% for test"
   ]
  },
  {
   "cell_type": "code",
   "execution_count": 21,
   "metadata": {
    "id": "pThnAKRy8LqP"
   },
   "outputs": [],
   "source": [
    "# Split data\n",
    "(train_set, test_set) = df.randomSplit([0.8, 0.2], seed=0)"
   ]
  },
  {
   "cell_type": "markdown",
   "metadata": {
    "id": "M84xeE8i67YF"
   },
   "source": [
    "### 4. Create a function for model training\n",
    "\n",
    "Let us create a function which takes as argument a model that it trains and then returns the trained model."
   ]
  },
  {
   "cell_type": "code",
   "execution_count": 22,
   "metadata": {
    "colab": {
     "base_uri": "https://localhost:8080/"
    },
    "id": "AvRF-E1-7ncY",
    "outputId": "a361d112-8d8c-43c1-c926-d4a562e61afd"
   },
   "outputs": [],
   "source": [
    "def train_model(model):    \n",
    "    return model.fit(train_set)"
   ]
  },
  {
   "cell_type": "code",
   "execution_count": 23,
   "metadata": {},
   "outputs": [
    {
     "name": "stderr",
     "output_type": "stream",
     "text": [
      "24/06/06 06:12:04 WARN DAGScheduler: Broadcasting large task binary with size 1984.0 KiB\n",
      "24/06/06 06:12:08 WARN DAGScheduler: Broadcasting large task binary with size 1984.0 KiB\n",
      "24/06/06 06:12:08 WARN DAGScheduler: Broadcasting large task binary with size 2000.9 KiB\n",
      "24/06/06 06:12:11 WARN DAGScheduler: Broadcasting large task binary with size 2004.0 KiB\n",
      "24/06/06 06:12:16 WARN DAGScheduler: Broadcasting large task binary with size 2005.1 KiB\n",
      "24/06/06 06:12:18 WARN DAGScheduler: Broadcasting large task binary with size 2000.9 KiB\n",
      "24/06/06 06:12:19 WARN DAGScheduler: Broadcasting large task binary with size 2004.0 KiB\n",
      "24/06/06 06:12:23 WARN DAGScheduler: Broadcasting large task binary with size 2005.1 KiB\n",
      "24/06/06 06:12:27 WARN DAGScheduler: Broadcasting large task binary with size 2000.9 KiB\n",
      "24/06/06 06:12:28 WARN DAGScheduler: Broadcasting large task binary with size 2004.0 KiB\n",
      "24/06/06 06:12:30 WARN DAGScheduler: Broadcasting large task binary with size 2005.1 KiB\n",
      "24/06/06 06:12:34 WARN DAGScheduler: Broadcasting large task binary with size 2000.9 KiB\n",
      "24/06/06 06:12:35 WARN DAGScheduler: Broadcasting large task binary with size 2004.0 KiB\n",
      "24/06/06 06:12:37 WARN DAGScheduler: Broadcasting large task binary with size 2005.1 KiB\n",
      "24/06/06 06:12:39 WARN DAGScheduler: Broadcasting large task binary with size 2000.9 KiB\n",
      "24/06/06 06:12:39 WARN DAGScheduler: Broadcasting large task binary with size 2004.0 KiB\n",
      "24/06/06 06:12:41 WARN DAGScheduler: Broadcasting large task binary with size 2005.1 KiB\n",
      "24/06/06 06:12:43 WARN DAGScheduler: Broadcasting large task binary with size 2000.9 KiB\n",
      "24/06/06 06:12:44 WARN DAGScheduler: Broadcasting large task binary with size 2004.0 KiB\n",
      "24/06/06 06:12:46 WARN DAGScheduler: Broadcasting large task binary with size 2005.1 KiB\n",
      "24/06/06 06:12:47 WARN DAGScheduler: Broadcasting large task binary with size 2000.9 KiB\n",
      "24/06/06 06:12:47 WARN DAGScheduler: Broadcasting large task binary with size 2004.0 KiB\n",
      "24/06/06 06:12:49 WARN DAGScheduler: Broadcasting large task binary with size 2005.1 KiB\n",
      "24/06/06 06:12:52 WARN DAGScheduler: Broadcasting large task binary with size 2000.9 KiB\n",
      "24/06/06 06:12:53 WARN DAGScheduler: Broadcasting large task binary with size 2004.0 KiB\n",
      "24/06/06 06:12:56 WARN DAGScheduler: Broadcasting large task binary with size 2005.1 KiB\n",
      "24/06/06 06:12:58 WARN DAGScheduler: Broadcasting large task binary with size 2000.9 KiB\n",
      "24/06/06 06:12:59 WARN DAGScheduler: Broadcasting large task binary with size 2004.0 KiB\n",
      "24/06/06 06:13:06 WARN DAGScheduler: Broadcasting large task binary with size 2005.1 KiB\n",
      "24/06/06 06:13:09 WARN DAGScheduler: Broadcasting large task binary with size 2000.9 KiB\n",
      "24/06/06 06:13:09 WARN DAGScheduler: Broadcasting large task binary with size 2004.0 KiB\n",
      "24/06/06 06:13:11 WARN DAGScheduler: Broadcasting large task binary with size 2005.1 KiB\n",
      "24/06/06 06:13:12 WARN DAGScheduler: Broadcasting large task binary with size 2000.9 KiB\n",
      "24/06/06 06:13:13 WARN DAGScheduler: Broadcasting large task binary with size 2004.0 KiB\n",
      "24/06/06 06:13:16 WARN DAGScheduler: Broadcasting large task binary with size 2005.1 KiB\n",
      "24/06/06 06:13:20 WARN DAGScheduler: Broadcasting large task binary with size 2000.9 KiB\n",
      "24/06/06 06:13:20 WARN DAGScheduler: Broadcasting large task binary with size 2004.0 KiB\n",
      "24/06/06 06:13:22 WARN DAGScheduler: Broadcasting large task binary with size 2005.1 KiB\n",
      "24/06/06 06:13:24 WARN DAGScheduler: Broadcasting large task binary with size 2000.9 KiB\n",
      "24/06/06 06:13:24 WARN DAGScheduler: Broadcasting large task binary with size 2004.0 KiB\n",
      "24/06/06 06:13:26 WARN DAGScheduler: Broadcasting large task binary with size 2005.1 KiB\n",
      "24/06/06 06:13:30 WARN DAGScheduler: Broadcasting large task binary with size 2000.9 KiB\n",
      "24/06/06 06:13:30 WARN DAGScheduler: Broadcasting large task binary with size 2004.0 KiB\n",
      "24/06/06 06:13:32 WARN DAGScheduler: Broadcasting large task binary with size 2005.1 KiB\n",
      "24/06/06 06:13:37 WARN DAGScheduler: Broadcasting large task binary with size 2000.9 KiB\n",
      "24/06/06 06:13:38 WARN DAGScheduler: Broadcasting large task binary with size 2004.0 KiB\n",
      "24/06/06 06:13:43 WARN DAGScheduler: Broadcasting large task binary with size 2005.1 KiB\n",
      "24/06/06 06:13:45 WARN DAGScheduler: Broadcasting large task binary with size 2000.9 KiB\n",
      "24/06/06 06:13:46 WARN DAGScheduler: Broadcasting large task binary with size 2004.0 KiB\n",
      "24/06/06 06:13:47 WARN DAGScheduler: Broadcasting large task binary with size 2005.1 KiB\n",
      "24/06/06 06:13:49 WARN DAGScheduler: Broadcasting large task binary with size 2000.9 KiB\n",
      "24/06/06 06:13:49 WARN DAGScheduler: Broadcasting large task binary with size 2004.0 KiB\n",
      "24/06/06 06:13:52 WARN DAGScheduler: Broadcasting large task binary with size 2005.1 KiB\n",
      "24/06/06 06:13:53 WARN DAGScheduler: Broadcasting large task binary with size 2000.9 KiB\n",
      "24/06/06 06:13:54 WARN DAGScheduler: Broadcasting large task binary with size 2004.0 KiB\n",
      "24/06/06 06:13:56 WARN DAGScheduler: Broadcasting large task binary with size 2005.1 KiB\n",
      "24/06/06 06:14:01 WARN DAGScheduler: Broadcasting large task binary with size 2000.9 KiB\n",
      "24/06/06 06:14:02 WARN DAGScheduler: Broadcasting large task binary with size 2004.0 KiB\n",
      "24/06/06 06:14:04 WARN DAGScheduler: Broadcasting large task binary with size 2005.1 KiB\n",
      "24/06/06 06:14:05 WARN DAGScheduler: Broadcasting large task binary with size 2000.9 KiB\n",
      "24/06/06 06:14:05 WARN DAGScheduler: Broadcasting large task binary with size 2004.0 KiB\n",
      "24/06/06 06:14:07 WARN DAGScheduler: Broadcasting large task binary with size 2005.1 KiB\n",
      "                                                                                \r"
     ]
    },
    {
     "data": {
      "text/plain": [
       "PipelineModel_6308ba4e1161"
      ]
     },
     "execution_count": 23,
     "metadata": {},
     "output_type": "execute_result"
    }
   ],
   "source": [
    "fitted_model=train_model(pipeline)\n",
    "fitted_model"
   ]
  },
  {
   "cell_type": "markdown",
   "metadata": {},
   "source": [
    "### 5. Visualize the topics"
   ]
  },
  {
   "cell_type": "code",
   "execution_count": 25,
   "metadata": {},
   "outputs": [
    {
     "data": {
      "text/plain": [
       "73411"
      ]
     },
     "execution_count": 25,
     "metadata": {},
     "output_type": "execute_result"
    }
   ],
   "source": [
    "fitted_vectirizer=fitted_model.stages[0]\n",
    "vocabulary= fitted_vectirizer.vocabulary\n",
    "len(vocabulary)"
   ]
  },
  {
   "cell_type": "code",
   "execution_count": 29,
   "metadata": {},
   "outputs": [
    {
     "data": {
      "text/plain": [
       "['new', 'photo', 'state', 'trump', 'day', 'nt', 'say', 'woman', 'get', 'make']"
      ]
     },
     "execution_count": 29,
     "metadata": {},
     "output_type": "execute_result"
    }
   ],
   "source": [
    "vocabulary[:10]"
   ]
  },
  {
   "cell_type": "code",
   "execution_count": 34,
   "metadata": {},
   "outputs": [
    {
     "name": "stdout",
     "output_type": "stream",
     "text": [
      "+-----+--------------------+--------------------+\n",
      "|topic|         termIndices|         termWeights|\n",
      "+-----+--------------------+--------------------+\n",
      "|    0|[137, 4, 2, 7, 31...|[0.00416672987347...|\n",
      "|    1|[3, 107, 36, 195,...|[0.00435582030622...|\n",
      "|    2|[16, 30, 0, 57, 1...|[0.00500547082609...|\n",
      "|    3|[4, 1, 14, 11, 26...|[0.00423027191759...|\n",
      "|    4|[27, 2, 0, 47, 74...|[0.00264409013447...|\n",
      "|    5|[35, 187, 114, 0,...|[0.00352678941107...|\n",
      "|    6|[100, 0, 21, 53, ...|[0.00365710313344...|\n",
      "|    7|[230, 328, 3, 438...|[0.00399745479961...|\n",
      "|    8|[1, 0, 8, 33, 7, ...|[0.00347085298628...|\n",
      "|    9|[21, 26, 56, 312,...|[0.00446111456976...|\n",
      "+-----+--------------------+--------------------+\n",
      "\n"
     ]
    }
   ],
   "source": [
    "topics = fitted_model.stages[-1].describeTopics()   \n",
    "topics.show()"
   ]
  },
  {
   "cell_type": "code",
   "execution_count": 38,
   "metadata": {},
   "outputs": [
    {
     "data": {
      "text/plain": [
       "[['space',\n",
       "  'day',\n",
       "  'state',\n",
       "  'woman',\n",
       "  'administration',\n",
       "  'national',\n",
       "  'love',\n",
       "  'best',\n",
       "  'tree',\n",
       "  'aeronautics'],\n",
       " ['trump',\n",
       "  'change',\n",
       "  'donald',\n",
       "  'climate',\n",
       "  'pope',\n",
       "  'photo',\n",
       "  'food',\n",
       "  'take',\n",
       "  'right',\n",
       "  'say']]"
      ]
     },
     "execution_count": 38,
     "metadata": {},
     "output_type": "execute_result"
    }
   ],
   "source": [
    "topics_rdd = topics.rdd\n",
    "topics_words = topics_rdd\\\n",
    "       .map(lambda row: row['termIndices'])\\\n",
    "       .map(lambda idx_list: [vocabulary[idx] for idx in idx_list])\\\n",
    "       .collect()\n",
    "topics_words[:2]"
   ]
  },
  {
   "cell_type": "code",
   "execution_count": 39,
   "metadata": {},
   "outputs": [
    {
     "name": "stdout",
     "output_type": "stream",
     "text": [
      "topic: 0\n",
      "*************************\n",
      "space\n",
      "day\n",
      "state\n",
      "woman\n",
      "administration\n",
      "national\n",
      "love\n",
      "best\n",
      "tree\n",
      "aeronautics\n",
      "*************************\n",
      "topic: 1\n",
      "*************************\n",
      "trump\n",
      "change\n",
      "donald\n",
      "climate\n",
      "pope\n",
      "photo\n",
      "food\n",
      "take\n",
      "right\n",
      "say\n",
      "*************************\n",
      "topic: 2\n",
      "*************************\n",
      "covid19\n",
      "coronavirus\n",
      "new\n",
      "case\n",
      "r\n",
      "2020\n",
      "bank\n",
      "year\n",
      "u\n",
      "ha\n",
      "*************************\n",
      "topic: 3\n",
      "*************************\n",
      "day\n",
      "photo\n",
      "5\n",
      "video\n",
      "wedding\n",
      "make\n",
      "way\n",
      "new\n",
      "person\n",
      "nt\n",
      "*************************\n",
      "topic: 4\n",
      "*************************\n",
      "american\n",
      "state\n",
      "new\n",
      "child\n",
      "white\n",
      "sexual\n",
      "problem\n",
      "law\n",
      "nt\n",
      "learn\n",
      "*************************\n",
      "topic: 5\n",
      "*************************\n",
      "police\n",
      "officer\n",
      "hour\n",
      "new\n",
      "nt\n",
      "say\n",
      "trump\n",
      "photo\n",
      "man\n",
      "like\n",
      "*************************\n",
      "topic: 6\n",
      "*************************\n",
      "great\n",
      "new\n",
      "bank\n",
      "news\n",
      "house\n",
      "state\n",
      "york\n",
      "trump\n",
      "one\n",
      "dog\n",
      "*************************\n",
      "topic: 7\n",
      "*************************\n",
      "clinton\n",
      "hillary\n",
      "trump\n",
      "monophosphate\n",
      "deoxyadenosine\n",
      "photo\n",
      "san\n",
      "greater\n",
      "state\n",
      "joe\n",
      "*************************\n",
      "topic: 8\n",
      "*************************\n",
      "photo\n",
      "new\n",
      "get\n",
      "home\n",
      "woman\n",
      "re\n",
      "girl\n",
      "trial\n",
      "10\n",
      "marriage\n",
      "*************************\n",
      "topic: 9\n",
      "*************************\n",
      "bank\n",
      "wedding\n",
      "marriage\n",
      "ceremony\n",
      "nt\n",
      "india\n",
      "state\n",
      "new\n",
      "reserve\n",
      "way\n",
      "*************************\n"
     ]
    }
   ],
   "source": [
    "for idx, topic in enumerate(topics_words):\n",
    "    print(\"topic: {}\".format(idx))\n",
    "    print(\"*\"*25)\n",
    "    for word in topic:\n",
    "       print(word)\n",
    "    print(\"*\"*25)"
   ]
  },
  {
   "cell_type": "markdown",
   "metadata": {},
   "source": [
    "### Get topics distributions"
   ]
  },
  {
   "cell_type": "code",
   "execution_count": 47,
   "metadata": {},
   "outputs": [],
   "source": [
    "# Transform the training and test data\n",
    "train_set_transformed = fitted_model.transform(train_set)\n",
    "test_set_transformed = fitted_model.transform(test_set)\n",
    "\n",
    "# Get the LDA model from the pipeline model\n",
    "lda_model = fitted_model.stages[-1]\n",
    "\n",
    "# Extract the topic distributions\n",
    "train_topic_distributions = train_set_transformed.select(\"description_filtered\", \"topicDistribution\")\n",
    "test_topic_distributions = test_set_transformed.select(\"description_filtered\", \"topicDistribution\")"
   ]
  },
  {
   "cell_type": "code",
   "execution_count": 48,
   "metadata": {},
   "outputs": [
    {
     "name": "stderr",
     "output_type": "stream",
     "text": [
      "24/06/06 06:28:16 WARN DAGScheduler: Broadcasting large task binary with size 7.5 MiB\n",
      "                                                                                \r"
     ]
    },
    {
     "name": "stdout",
     "output_type": "stream",
     "text": [
      "+-----------------------------------------------------------------------------------------------------------------+-----------------------------------------------------------------------------------------------------------------------------------------------------------------------------------------------------------------------+\n",
      "|description_filtered                                                                                             |topicDistribution                                                                                                                                                                                                      |\n",
      "+-----------------------------------------------------------------------------------------------------------------+-----------------------------------------------------------------------------------------------------------------------------------------------------------------------------------------------------------------------+\n",
      "|[10, credit, score, truth, myth]                                                                                 |[0.002880521471769548,0.0028922344307042774,0.0029195398771760073,0.0029035587861105223,0.002897057865845022,0.0029069731092104182,0.3141132327298987,0.00283864611508934,0.00288177356053457,0.6627664620536615]      |\n",
      "|[10, thing, need, bring, interview]                                                                              |[0.003478041750515058,0.003491952247163347,0.003524824521497796,0.5437272306243047,0.0034979892388212037,0.003509665816446669,0.003458242869452248,0.0034274161864106573,0.42842113031735707,0.0034635064280312366]    |\n",
      "|[10, way, freelance, life, different, day, job]                                                                  |[0.734916714693847,0.0023442325983587674,0.0023663688710159384,0.24638523546026167,0.0023481283378728635,0.002356061586560801,0.0023216717574061105,0.002300741753685778,0.0023357222253365707,0.002325122715654366]   |\n",
      "|[12, famous, logo, evolved, time, infographic]                                                                   |[0.22967948276375086,0.0022203375409754703,0.0022411904612058314,0.18722797847046901,0.002223945741235779,0.002231436105669838,0.5675823258940248,0.002179098642177585,0.0022121246666736297,0.002202079713817081]     |\n",
      "|[20000, worth, cigarette, tobacco, seized, dublin, port]                                                         |[0.6353046544784426,0.0016045775992523784,0.3519054649524665,0.0016107714347579631,0.0016072821458608046,0.0016127812128193982,0.0015891071995738177,0.0015750071087291563,0.001598867937658603,0.0015914859304386754] |\n",
      "|[2024, g60, bmw, m5, go, full, electric, 1000, hp, paultanorg]                                                   |[0.2925652711861887,0.0012138571993764362,0.001225333652145775,0.0012185147940229843,0.4853688529582218,0.0012199943482939435,0.07255634417169084,0.0011914611488171984,0.14223645191724268,0.0012039186239996837]     |\n",
      "|[3, dividend, investing, tip, earn, thousand]                                                                    |[0.002151114559665225,0.18895010280941377,0.002180229896788149,0.22568628886371708,0.0021634958529514743,0.00217081232357198,0.5702839541322058,0.0021198167473856964,0.0021519629419947785,0.002142221872306005]      |\n",
      "|[4, reason, check, score, even, dont, plan, borrow, money, near, future]                                         |[0.0013298078671906968,0.06640582254323026,0.0013478233824294045,0.0013404038482645322,0.001337407474714725,0.34250316265729314,0.0013223742410991633,0.0013104390242012845,0.001330356677152385,0.5817724022844243]   |\n",
      "|[4, step, take, victim, identity, theft]                                                                         |[0.002484975936007809,0.002494930713652785,0.0025183550610352002,0.002504599871964148,0.6605565677223066,0.0025076841142831425,0.0024708270469663575,0.0024486029096004018,0.31953892580695237,0.002474530817231131]   |\n",
      "|[401k, fee, disclosure, aha, moment, come, november]                                                             |[0.195357127127113,0.0015782159719315134,0.0015929908914110895,0.0015841657702436865,0.0015806975014254355,0.0015860872336783878,0.19561961774945658,0.0015488332488476008,0.0015723069033407545,0.597979957602552]    |\n",
      "|[42, rise, new, business, premium, help, industry, clock, decent, growth]                                        |[0.0014319446111983479,0.0014378011542224285,0.7336962269778738,0.09697417261013305,0.0014402466535124502,0.0014451442408383495,0.001423927422590559,0.1592919828223741,0.00143248947916522,0.0014260640280917484]     |\n",
      "|[500, representative, 27, nation, including, top, regulator, central, banker, met, dozen, time, year]            |[0.0010762636722774826,0.3179003924227643,0.4723884117447733,0.0010847913863623452,0.001082396991870146,0.0010860995029725274,0.0010701924537108718,0.001060587706804671,0.0010766093132081583,0.2021742548052561]     |\n",
      "|[5th8th, grader, need, know, money]                                                                              |[0.003548675463562746,0.003562930529382183,0.46356079959257007,0.0035769794403117516,0.003569051187806999,0.0035810490963431476,0.003528716146130429,0.0034968995777086617,0.0035501078288335407,0.5080247911373504]   |\n",
      "|[8, way, get, people, take, seriously]                                                                           |[0.0030120608304428824,0.003024500504798162,0.003052843999521266,0.4573405087103088,0.5185538122757674,0.003039693845814168,0.002995190257080786,0.002968291010054439,0.003013394806812187,0.002999703759399978]       |\n",
      "|[83rd, annual, general, meeting, tamilnad, mercantile, bank, tmb, today, turned, nonevent, contentious]          |[0.001113518542673789,0.22456579410398272,0.7665270098727767,0.0011223666931588117,0.0011199097678508024,0.0011237084055162392,0.0011073579161631915,0.0010973577013324081,0.0011140333113064673,0.001108943685238844] |\n",
      "|[aaa, study, find, nearautonomous, driverassist, system, remain, flawed]                                         |[0.002119380860608107,0.980899197071854,0.002147982947353008,0.0021361122738015256,0.0021315480346499843,0.002138796910357622,0.002107454808364507,0.0020885466918020277,0.0021202125641296933,0.0021107678370794383]  |\n",
      "|[according, moody, low, capital, level, remain, key, credit, weakness, publicsector, bank]                       |[0.0011767187589600762,0.25774842156078975,0.0801476016463903,0.0011860209114420478,0.19030180361984644,0.001187487927436485,0.0011701836568836466,0.0011595973935502794,0.0011771363029117795,0.4647450282217893]     |\n",
      "|[according, ordinance, every, appeal, act, ha, made, within, 45, day, date, irdai, order]                        |[0.28961761349890675,0.0010793900306135446,0.0010894733426333176,0.0010835502150110608,0.0010811329695138891,0.0010848031509731032,0.0010689441789322335,0.31388673586845606,0.0010753766091730907,0.38893298013578703]|\n",
      "|[account, maintenance, charge, proposed, lowcost, pension, scheme, drastically, reduced, provide, safety, people]|[0.0010346418373587383,0.0010388909668603771,0.6295065031580482,0.0010428400089467793,0.15696155906006995,0.001044113567536544,0.0010288765545444407,0.0010195623048179629,0.0010350179077856392,0.20628799463403147]  |\n",
      "|[addition, west, bengal, also, request, reserve, bank, india, rbi, increase, additional, credit, limit, msmes]   |[9.392189849675287E-4,9.430170774736892E-4,9.51957917038702E-4,9.466326017668382E-4,0.1194336682375112,9.477907755946537E-4,0.08801727757299423,0.13955177362581134,9.395646468613305E-4,0.6473290985599806]           |\n",
      "+-----------------------------------------------------------------------------------------------------------------+-----------------------------------------------------------------------------------------------------------------------------------------------------------------------------------------------------------------------+\n",
      "only showing top 20 rows\n",
      "\n"
     ]
    },
    {
     "name": "stderr",
     "output_type": "stream",
     "text": [
      "24/06/06 06:28:17 WARN DAGScheduler: Broadcasting large task binary with size 7.5 MiB\n"
     ]
    },
    {
     "name": "stdout",
     "output_type": "stream",
     "text": [
      "+----------------------------------------------------------------------------------------------------------------------------------------------------------------------------+----------------------------------------------------------------------------------------------------------------------------------------------------------------------------------------------------------------------+\n",
      "|description_filtered                                                                                                                                                        |topicDistribution                                                                                                                                                                                                     |\n",
      "+----------------------------------------------------------------------------------------------------------------------------------------------------------------------------+----------------------------------------------------------------------------------------------------------------------------------------------------------------------------------------------------------------------+\n",
      "|[aiming, tackle, inflationary, pressure, reserve, bank, today, increased, key, statutory, deposit, ratio, bank, one]                                                        |[9.308050176460804E-4,9.346102801649792E-4,9.434760576826612E-4,9.381751442244003E-4,9.362106585549308E-4,9.393359306187638E-4,0.6184789510822547,9.172886872896255E-4,9.311723482502723E-4,0.3740499747933134]       |\n",
      "|[airline, airport, push, covid, testing, quarantine, hit, traffic]                                                                                                          |[0.0017245028972979431,0.001731432957482351,0.5367070147448069,0.18130010287186324,0.26993990634967524,0.0017403656280078857,0.0017148112287566743,0.0016994755290503979,0.0017250832079900795,0.0017173045850692585] |\n",
      "|[amid, stress, rising, bank, credit, portfolio, reserve, bank, india, rbi, tuesday, proposed, guideline, enable]                                                            |[9.9681420913349E-4,0.00100070747983115,0.5144391203404063,0.0010045338049719259,0.06810684899898165,0.0010057663683363351,9.911505159221048E-4,9.821978844461773E-4,9.970231402468327E-4,0.4104758372577239]         |\n",
      "|[amp, chief, tightlipped, executive, departure]                                                                                                                             |[0.002408056741727111,0.33966677704191506,0.0024404628950130446,0.002427199274287979,0.002421761118394691,0.6410612936222811,0.002394530897947195,0.0023729409340355763,0.0024089665110395395,0.0023980109633587416]  |\n",
      "|[andhra, bank, ha, reported, 212, per, cent, increase, net, profit, r, 14109, crore, quarter, ended, june, 2007, compared]                                                  |[7.888292246830686E-4,7.920313193423139E-4,0.9627511395778745,7.950654823736001E-4,7.933345984564263E-4,0.030943144536410668,7.844063839586766E-4,7.773496014886038E-4,7.89125268496423E-4,7.855740069157307E-4]      |\n",
      "|[apple, supplier, foxconn, post, betterthanexpected, second, quarter, profit]                                                                                               |[0.0014650677717504834,0.14210477593319246,0.7232931441221416,0.0014766752849311518,0.0014734532870820328,0.0014785042944802785,0.1243399316341304,0.0014437483348961721,0.0014656892046653715,0.001459010132730013]  |\n",
      "|[apple, watch, evidence, gang, four, becoming, bank]                                                                                                                        |[0.30803678647321775,0.002075724520467192,0.27468654394350944,0.21422244786507375,0.002079182542422052,0.002086298665821245,0.002055919658059013,0.0020372952751123293,0.0020682407102367885,0.19065156034608025]     |\n",
      "|[arthveda, fund, management, pe, arm, dewan, housing, finance, limited, dhfl, ha, tied, credit, analysis, research, ltd]                                                    |[8.215188157147702E-4,8.247747048228673E-4,8.326541499620233E-4,8.279414273602621E-4,8.261664257991493E-4,8.289620762304222E-4,0.5619099777900995,8.094941137071581E-4,8.217701597384833E-4,0.4314967403365654]       |\n",
      "|[axis, trustee, provide, facility, agency, service, ifsc, banking, unit, ecb, transaction, trusteeship, service]                                                            |[9.905865207785107E-4,9.946054691538342E-4,0.20917313240513716,9.98430484948559E-4,0.175097528977037,9.996740524802555E-4,9.851024708955015E-4,9.761559338459699E-4,9.909843810288305E-4,0.6087937993046945]          |\n",
      "|[bank, continued, issue, certificate, deposit, cd, today, meet, yearend, deposit, target, demand, mutual]                                                                   |[9.991102769040688E-4,0.0010032167848330934,0.0010126270312239012,0.12333908296096072,0.0010048507698106274,0.0010082502665667975,0.8686537749178249,9.846042327574796E-4,9.994916093381955E-4,9.949911497800963E-4]  |\n",
      "|[bank, parking, fund, security, qualifying, maintenance, statutory, liquidity, ratio, slr, also, mutual]                                                                    |[9.724238765565725E-4,9.763738205258618E-4,9.855786521823773E-4,9.801235495074177E-4,0.10197335697046338,9.813268062606453E-4,0.797863836653052,9.583198517641021E-4,9.728035191347959E-4,0.09333585630055281]        |\n",
      "|[bank, recorded, net, profit, r, 13315, crore, corresponding, quarter, last, fiscal, indusind, bank, said, filing]                                                          |[9.607427819013465E-4,9.646307645159698E-4,0.9913504858557917,9.68342610856298E-4,9.662370219880523E-4,9.695288437735098E-4,9.553611775837021E-4,9.467649870716362E-4,9.611074548947594E-4,9.567985016230669E-4]      |\n",
      "|[bank, reduced, borrowing, way, certificate, deposit, cd, finance, ministry, issued, norm, required]                                                                        |[0.0010413313544142021,0.0010455404726669119,0.17037417895192752,0.0010495852682596198,0.0010473208880966856,0.0010508473766475369,0.6439678114606007,0.0010261780535750767,0.0010417243104843634,0.17835548186332745]|\n",
      "|[bank, turned, best, class, trader, indian, secondary, market, sticking, strictly, sell, peak]                                                                              |[0.0010745451092524824,0.23486968430232905,0.001089065937339399,0.0010829837591996385,0.15634684336600588,0.0010843315036123708,0.37422506243187925,0.05141091317793515,0.17774647469488117,0.001070095717565695]     |\n",
      "|[based, new, recommendation, tax, devolution, state, work, r, 3948, lakh, crore, fiveyear, period]                                                                          |[0.0011192195587365174,0.0011237622985248708,0.35555748128104997,0.0011280825348644605,0.0011256367316667365,0.0011295780425338235,0.28275292410357117,0.001103033836581265,0.0011196288365984538,0.35384065277587273]|\n",
      "|[berkshire, hathaway, profit, surge, despite, near10bn, writedown]                                                                                                          |[0.0018018242615960268,0.001809205633245997,0.2510373534585087,0.0018160715566540885,0.28065137114434463,0.0018183585362234883,0.4556933106844031,0.001775616160155903,0.0018024927886344964,0.0017943957762334667]   |\n",
      "|[bp, plan, 59, billion, share, buy, back, criminal, fine, aim, boost, lagging, stock, report]                                                                               |[0.16990888708935922,9.518544183723611E-4,0.7043815853365243,9.555209932617525E-4,9.534019922559134E-4,9.56647743014182E-4,0.1190654309922099,9.341894727700164E-4,9.483588596257788E-4,9.441231026066167E-4]         |\n",
      "|[bryan, fite, missouri, man, find, centuryold, whiskey, bottle, attic, video]                                                                                               |[0.0011660723261775223,0.1275839647390093,0.0011818814537770362,0.37439305986452354,0.0011727026388675746,0.3088767046463604,0.0011595034881975751,0.001149080744281691,0.18215581714337925,0.0011612129554260484]    |\n",
      "|[bsnl, launch, mobile, service, vijoynagar]                                                                                                                                 |[0.003059340693140598,0.003071587579350689,0.5610418782251486,0.4144985752760165,0.003076770798242933,0.003087212627010694,0.0030423084962606676,0.0030151687281834306,0.003060409031956721,0.0030467485446890865]    |\n",
      "|[car, care, product, market, research, report, product, solvent, type, consumption, application, distribution, channel, global, forecast, 2025, cumulative, impact, covid19]|[7.162164293184866E-4,7.190863380887393E-4,0.6758549800697484,7.218560630064115E-4,7.202913829269032E-4,7.227381232074869E-4,0.22140542702881363,7.05764721122571E-4,7.165078703226228E-4,0.09771713197344477]        |\n",
      "+----------------------------------------------------------------------------------------------------------------------------------------------------------------------------+----------------------------------------------------------------------------------------------------------------------------------------------------------------------------------------------------------------------+\n",
      "only showing top 20 rows\n",
      "\n"
     ]
    }
   ],
   "source": [
    "# Show the topic distributions for the training set\n",
    "train_topic_distributions.show(truncate=False)\n",
    "\n",
    "# Show the topic distributions for the test set\n",
    "test_topic_distributions.show(truncate=False)"
   ]
  },
  {
   "cell_type": "code",
   "execution_count": null,
   "metadata": {},
   "outputs": [],
   "source": []
  },
  {
   "cell_type": "markdown",
   "metadata": {
    "id": "K-fBEB1f9aRD"
   },
   "source": [
    "### 5. Define a function to evaluate the model\n",
    "\n",
    "The function takes as parameter a fitted model, evaluates the model on train and test split and then return the train and test performance. The accuracy is the metric used."
   ]
  },
  {
   "cell_type": "code",
   "execution_count": null,
   "metadata": {},
   "outputs": [],
   "source": [
    "\n"
   ]
  },
  {
   "cell_type": "code",
   "execution_count": 52,
   "metadata": {},
   "outputs": [],
   "source": [
    "# Function to evaluate model and get best parameters\n",
    "def evaluate_model(fitted_model):\n",
    "    \n",
    "    print('Evaluating the model on training set')\n",
    "    train_lp = fitted_model.logPerplexity(train_set_transformed)\n",
    "\n",
    "    print('Evaluating the model on test set')\n",
    "    test_lp = fitted_model.logPerplexity(test_set_transformed)\n",
    "    \n",
    "    print(\"The upper bound on perplexity for train set: \" + str(train_lp))\n",
    "    print(\"The upper bound on perplexity for test set: \" + str(train_lp))\n",
    "    return train_accuracy, test_accuracy"
   ]
  },
  {
   "cell_type": "code",
   "execution_count": null,
   "metadata": {},
   "outputs": [
    {
     "name": "stdout",
     "output_type": "stream",
     "text": [
      "Evaluating the model on training set\n"
     ]
    },
    {
     "name": "stderr",
     "output_type": "stream",
     "text": [
      "24/06/06 06:33:20 WARN DAGScheduler: Broadcasting large task binary with size 1984.8 KiB\n",
      "24/06/06 06:33:44 WARN DAGScheduler: Broadcasting large task binary with size 1985.5 KiB\n",
      "24/06/06 06:34:38 WARN DAGScheduler: Broadcasting large task binary with size 1985.5 KiB\n",
      "24/06/06 06:36:42 ERROR TaskSchedulerImpl: Lost executor 1 on 172.16.1.2: Remote RPC client disassociated. Likely due to containers exceeding thresholds, or network issues. Check driver logs for WARN messages.\n",
      "24/06/06 06:36:42 WARN TaskSetManager: Lost task 25.0 in stage 157.0 (TID 3235) (172.16.1.2 executor 1): ExecutorLostFailure (executor 1 exited caused by one of the running tasks) Reason: Remote RPC client disassociated. Likely due to containers exceeding thresholds, or network issues. Check driver logs for WARN messages.\n",
      "24/06/06 06:36:42 WARN TaskSetManager: Lost task 37.0 in stage 157.0 (TID 3238) (172.16.1.2 executor 1): ExecutorLostFailure (executor 1 exited caused by one of the running tasks) Reason: Remote RPC client disassociated. Likely due to containers exceeding thresholds, or network issues. Check driver logs for WARN messages.\n",
      "24/06/06 06:36:42 WARN TaskSetManager: Lost task 34.0 in stage 157.0 (TID 3237) (172.16.1.2 executor 1): ExecutorLostFailure (executor 1 exited caused by one of the running tasks) Reason: Remote RPC client disassociated. Likely due to containers exceeding thresholds, or network issues. Check driver logs for WARN messages.\n",
      "24/06/06 06:36:42 WARN TaskSetManager: Lost task 42.0 in stage 157.0 (TID 3239) (172.16.1.2 executor 1): ExecutorLostFailure (executor 1 exited caused by one of the running tasks) Reason: Remote RPC client disassociated. Likely due to containers exceeding thresholds, or network issues. Check driver logs for WARN messages.\n",
      "24/06/06 06:36:42 WARN TaskSetManager: Lost task 30.0 in stage 157.0 (TID 3236) (172.16.1.2 executor 1): ExecutorLostFailure (executor 1 exited caused by one of the running tasks) Reason: Remote RPC client disassociated. Likely due to containers exceeding thresholds, or network issues. Check driver logs for WARN messages.\n",
      "24/06/06 06:36:42 WARN BlockManagerMasterEndpoint: No more replicas available for rdd_53_50 !\n",
      "24/06/06 06:36:42 WARN BlockManagerMasterEndpoint: No more replicas available for rdd_53_8 !\n",
      "24/06/06 06:36:42 WARN BlockManagerMasterEndpoint: No more replicas available for rdd_53_56 !\n",
      "24/06/06 06:36:42 WARN BlockManagerMasterEndpoint: No more replicas available for rdd_15_17 !\n",
      "24/06/06 06:36:42 WARN BlockManagerMasterEndpoint: No more replicas available for rdd_15_53 !\n",
      "24/06/06 06:36:42 WARN BlockManagerMasterEndpoint: No more replicas available for rdd_53_186 !\n",
      "24/06/06 06:36:42 WARN BlockManagerMasterEndpoint: No more replicas available for rdd_15_58 !\n",
      "24/06/06 06:36:42 WARN BlockManagerMasterEndpoint: No more replicas available for rdd_53_100 !\n",
      "24/06/06 06:36:42 WARN BlockManagerMasterEndpoint: No more replicas available for rdd_53_142 !\n",
      "24/06/06 06:36:42 WARN BlockManagerMasterEndpoint: No more replicas available for rdd_15_74 !\n",
      "24/06/06 06:36:42 WARN BlockManagerMasterEndpoint: No more replicas available for rdd_53_135 !\n",
      "24/06/06 06:36:42 WARN BlockManagerMasterEndpoint: No more replicas available for rdd_53_4 !\n",
      "24/06/06 06:36:42 WARN BlockManagerMasterEndpoint: No more replicas available for rdd_53_0 !\n",
      "24/06/06 06:36:42 WARN BlockManagerMasterEndpoint: No more replicas available for rdd_53_115 !\n",
      "24/06/06 06:36:42 WARN BlockManagerMasterEndpoint: No more replicas available for rdd_53_31 !\n",
      "24/06/06 06:36:42 WARN BlockManagerMasterEndpoint: No more replicas available for rdd_53_190 !\n",
      "24/06/06 06:36:42 WARN BlockManagerMasterEndpoint: No more replicas available for rdd_53_83 !\n",
      "24/06/06 06:36:42 WARN BlockManagerMasterEndpoint: No more replicas available for rdd_53_70 !\n",
      "24/06/06 06:36:42 WARN BlockManagerMasterEndpoint: No more replicas available for rdd_15_37 !\n",
      "24/06/06 06:36:42 WARN BlockManagerMasterEndpoint: No more replicas available for rdd_15_77 !\n",
      "24/06/06 06:36:42 WARN BlockManagerMasterEndpoint: No more replicas available for rdd_53_113 !\n",
      "24/06/06 06:36:42 WARN BlockManagerMasterEndpoint: No more replicas available for rdd_53_92 !\n",
      "24/06/06 06:36:42 WARN BlockManagerMasterEndpoint: No more replicas available for rdd_15_70 !\n",
      "24/06/06 06:36:42 WARN BlockManagerMasterEndpoint: No more replicas available for rdd_15_42 !\n",
      "24/06/06 06:36:42 WARN BlockManagerMasterEndpoint: No more replicas available for rdd_15_49 !\n",
      "24/06/06 06:36:42 WARN BlockManagerMasterEndpoint: No more replicas available for rdd_53_97 !\n",
      "24/06/06 06:36:42 WARN BlockManagerMasterEndpoint: No more replicas available for rdd_53_154 !\n",
      "24/06/06 06:36:42 WARN BlockManagerMasterEndpoint: No more replicas available for rdd_53_82 !\n",
      "24/06/06 06:36:42 WARN BlockManagerMasterEndpoint: No more replicas available for rdd_53_179 !\n",
      "24/06/06 06:36:42 WARN BlockManagerMasterEndpoint: No more replicas available for rdd_15_13 !\n",
      "24/06/06 06:36:42 WARN BlockManagerMasterEndpoint: No more replicas available for rdd_53_57 !\n",
      "24/06/06 06:36:42 WARN BlockManagerMasterEndpoint: No more replicas available for rdd_53_136 !\n",
      "24/06/06 06:36:42 WARN BlockManagerMasterEndpoint: No more replicas available for rdd_53_52 !\n",
      "24/06/06 06:36:42 WARN BlockManagerMasterEndpoint: No more replicas available for rdd_53_33 !\n",
      "24/06/06 06:36:42 WARN BlockManagerMasterEndpoint: No more replicas available for rdd_53_155 !\n",
      "24/06/06 06:36:42 WARN BlockManagerMasterEndpoint: No more replicas available for rdd_53_16 !\n",
      "24/06/06 06:36:42 WARN BlockManagerMasterEndpoint: No more replicas available for rdd_15_30 !\n",
      "24/06/06 06:36:42 WARN BlockManagerMasterEndpoint: No more replicas available for rdd_15_66 !\n",
      "24/06/06 06:36:42 WARN BlockManagerMasterEndpoint: No more replicas available for rdd_53_59 !\n",
      "24/06/06 06:36:42 WARN BlockManagerMasterEndpoint: No more replicas available for rdd_15_45 !\n",
      "24/06/06 06:36:42 WARN BlockManagerMasterEndpoint: No more replicas available for rdd_53_124 !\n",
      "24/06/06 06:36:42 WARN BlockManagerMasterEndpoint: No more replicas available for rdd_53_122 !\n",
      "24/06/06 06:36:42 WARN BlockManagerMasterEndpoint: No more replicas available for rdd_53_158 !\n",
      "24/06/06 06:36:42 WARN BlockManagerMasterEndpoint: No more replicas available for rdd_53_34 !\n",
      "24/06/06 06:36:42 WARN BlockManagerMasterEndpoint: No more replicas available for rdd_53_12 !\n",
      "24/06/06 06:36:42 WARN BlockManagerMasterEndpoint: No more replicas available for rdd_15_25 !\n",
      "24/06/06 06:36:42 WARN BlockManagerMasterEndpoint: No more replicas available for rdd_53_129 !\n",
      "24/06/06 06:36:42 WARN BlockManagerMasterEndpoint: No more replicas available for rdd_15_5 !\n",
      "24/06/06 06:36:42 WARN BlockManagerMasterEndpoint: No more replicas available for rdd_53_195 !\n",
      "24/06/06 06:36:42 WARN BlockManagerMasterEndpoint: No more replicas available for rdd_53_72 !\n",
      "24/06/06 06:36:42 WARN BlockManagerMasterEndpoint: No more replicas available for rdd_53_78 !\n",
      "24/06/06 06:36:42 WARN BlockManagerMasterEndpoint: No more replicas available for rdd_15_62 !\n",
      "24/06/06 06:36:42 WARN BlockManagerMasterEndpoint: No more replicas available for rdd_53_29 !\n",
      "24/06/06 06:36:42 WARN BlockManagerMasterEndpoint: No more replicas available for rdd_53_185 !\n",
      "24/06/06 06:36:42 WARN BlockManagerMasterEndpoint: No more replicas available for rdd_53_191 !\n",
      "24/06/06 06:36:42 WARN BlockManagerMasterEndpoint: No more replicas available for rdd_15_9 !\n",
      "24/06/06 06:36:42 WARN BlockManagerMasterEndpoint: No more replicas available for rdd_53_28 !\n",
      "24/06/06 06:36:42 WARN BlockManagerMasterEndpoint: No more replicas available for rdd_53_93 !\n",
      "24/06/06 06:36:42 WARN BlockManagerMasterEndpoint: No more replicas available for rdd_53_112 !\n",
      "24/06/06 06:36:42 WARN BlockManagerMasterEndpoint: No more replicas available for rdd_53_151 !\n",
      "24/06/06 06:36:42 WARN BlockManagerMasterEndpoint: No more replicas available for rdd_53_176 !\n",
      "24/06/06 06:36:42 WARN BlockManagerMasterEndpoint: No more replicas available for rdd_53_128 !\n",
      "24/06/06 06:36:42 WARN BlockManagerMasterEndpoint: No more replicas available for rdd_53_84 !\n",
      "24/06/06 06:36:42 WARN BlockManagerMasterEndpoint: No more replicas available for rdd_15_1 !\n",
      "24/06/06 06:36:42 WARN BlockManagerMasterEndpoint: No more replicas available for rdd_53_104 !\n",
      "24/06/06 06:36:42 WARN BlockManagerMasterEndpoint: No more replicas available for rdd_53_77 !\n",
      "24/06/06 06:36:42 WARN BlockManagerMasterEndpoint: No more replicas available for rdd_15_20 !\n",
      "24/06/06 06:36:42 WARN BlockManagerMasterEndpoint: No more replicas available for rdd_15_34 !\n",
      "24/06/06 06:36:42 WARN BlockManagerMasterEndpoint: No more replicas available for rdd_53_68 !\n",
      "24/06/06 06:36:42 WARN BlockManagerMasterEndpoint: No more replicas available for rdd_53_146 !\n",
      "24/06/06 06:36:42 WARN BlockManagerMasterEndpoint: No more replicas available for rdd_53_103 !\n"
     ]
    },
    {
     "name": "stderr",
     "output_type": "stream",
     "text": [
      "24/06/06 06:37:54 WARN DAGScheduler: Broadcasting large task binary with size 1985.5 KiB\n",
      "[Stage 157:(22 + 40) / 80][Stage 158:> (3 + 0) / 80][Stage 159:> (0 + 0) / 80]\r"
     ]
    }
   ],
   "source": [
    "train_lp,train_lp=evaluate_model(fitted_model.stages[-1])\n",
    "train_lp,train_lp"
   ]
  },
  {
   "cell_type": "markdown",
   "metadata": {
    "id": "yG6dMBjzLXWA"
   },
   "source": [
    "### 6. Create a function which takes pipelines and train the models, evaluate them and then return the results"
   ]
  },
  {
   "cell_type": "code",
   "execution_count": 87,
   "metadata": {
    "id": "8MmY_Fp54MXb"
   },
   "outputs": [
    {
     "name": "stderr",
     "output_type": "stream",
     "text": [
      "24/06/06 00:37:44 WARN DAGScheduler: Broadcasting large task binary with size 3.2 MiB\n",
      "24/06/06 00:37:44 WARN DAGScheduler: Broadcasting large task binary with size 3.2 MiB\n",
      "24/06/06 00:37:44 WARN DAGScheduler: Broadcasting large task binary with size 3.2 MiB\n",
      "24/06/06 00:37:44 WARN DAGScheduler: Broadcasting large task binary with size 3.2 MiB\n",
      "24/06/06 00:37:44 WARN DAGScheduler: Broadcasting large task binary with size 3.2 MiB\n"
     ]
    }
   ],
   "source": [
    "def train_and_evaluate_model(model_pipeline,model_name=\"LDA\"):\n",
    "\n",
    "\n",
    "    print(f\"Training {model_name} model\")\n",
    "\n",
    "    # Fit the model pipeline to the training set\n",
    "    #fitted_model = model_pipeline.fit(train_set)\n",
    "    fitted_model = train_model(model_pipeline)\n",
    "\n",
    "    print(\"Done\")\n",
    "    print(f\"Evaluating {model_name} model\")\n",
    "\n",
    "    # Evaluate the fitted model\n",
    "    train_accuracy, test_accuracy = evaluate_model(fitted_model,model_name)\n",
    "    print(\"Done\")\n",
    "    \n",
    "    # Store the results\n",
    "    results = {\n",
    "            'model_name': model_name,\n",
    "            'fitted_model': fitted_model,\n",
    "            \"train_accuracy\": train_accuracy,\n",
    "            \"test_accuracy\": test_accuracy\n",
    "        }\n",
    "\n",
    "    \n",
    "\n",
    "    return results"
   ]
  },
  {
   "cell_type": "code",
   "execution_count": 88,
   "metadata": {
    "id": "9T4JAj-QId2e",
    "scrolled": false
   },
   "outputs": [
    {
     "name": "stdout",
     "output_type": "stream",
     "text": [
      "Training LDA model\n"
     ]
    },
    {
     "name": "stderr",
     "output_type": "stream",
     "text": [
      "24/06/06 00:37:45 WARN DAGScheduler: Broadcasting large task binary with size 3.2 MiB\n",
      "24/06/06 00:37:45 WARN DAGScheduler: Broadcasting large task binary with size 3.2 MiB\n",
      "24/06/06 00:37:45 WARN DAGScheduler: Broadcasting large task binary with size 3.2 MiB\n",
      "24/06/06 00:37:45 WARN DAGScheduler: Broadcasting large task binary with size 3.2 MiB\n",
      "24/06/06 00:37:46 WARN DAGScheduler: Broadcasting large task binary with size 3.2 MiB\n",
      "24/06/06 00:37:46 WARN DAGScheduler: Broadcasting large task binary with size 3.2 MiB\n",
      "24/06/06 00:37:46 WARN DAGScheduler: Broadcasting large task binary with size 3.2 MiB\n",
      "24/06/06 00:37:46 WARN DAGScheduler: Broadcasting large task binary with size 3.2 MiB\n",
      "24/06/06 00:37:47 WARN DAGScheduler: Broadcasting large task binary with size 3.2 MiB\n",
      "24/06/06 00:37:47 WARN DAGScheduler: Broadcasting large task binary with size 3.2 MiB\n",
      "24/06/06 00:37:48 WARN DAGScheduler: Broadcasting large task binary with size 3.2 MiB\n",
      "24/06/06 00:37:48 WARN DAGScheduler: Broadcasting large task binary with size 3.2 MiB\n",
      "24/06/06 00:37:48 WARN DAGScheduler: Broadcasting large task binary with size 3.2 MiB\n",
      "24/06/06 00:37:48 WARN DAGScheduler: Broadcasting large task binary with size 3.2 MiB\n",
      "24/06/06 00:37:48 WARN DAGScheduler: Broadcasting large task binary with size 3.2 MiB\n",
      "24/06/06 00:37:48 WARN DAGScheduler: Broadcasting large task binary with size 3.2 MiB\n",
      "24/06/06 00:37:49 WARN DAGScheduler: Broadcasting large task binary with size 1340.3 KiB\n",
      "24/06/06 00:37:49 WARN DAGScheduler: Broadcasting large task binary with size 3.2 MiB\n",
      "24/06/06 00:37:49 WARN DAGScheduler: Broadcasting large task binary with size 3.2 MiB\n",
      "24/06/06 00:37:49 WARN DAGScheduler: Broadcasting large task binary with size 3.2 MiB\n",
      "24/06/06 00:37:50 WARN DAGScheduler: Broadcasting large task binary with size 3.2 MiB\n",
      "24/06/06 00:37:50 WARN DAGScheduler: Broadcasting large task binary with size 3.2 MiB\n",
      "24/06/06 00:37:50 WARN DAGScheduler: Broadcasting large task binary with size 3.2 MiB\n",
      "24/06/06 00:37:50 WARN DAGScheduler: Broadcasting large task binary with size 1341.4 KiB\n",
      "24/06/06 00:37:51 WARN DAGScheduler: Broadcasting large task binary with size 3.2 MiB\n",
      "24/06/06 00:37:51 WARN DAGScheduler: Broadcasting large task binary with size 3.2 MiB\n",
      "24/06/06 00:37:51 WARN DAGScheduler: Broadcasting large task binary with size 3.2 MiB\n",
      "24/06/06 00:37:51 WARN DAGScheduler: Broadcasting large task binary with size 3.2 MiB\n",
      "24/06/06 00:37:51 WARN DAGScheduler: Broadcasting large task binary with size 3.2 MiB\n",
      "24/06/06 00:37:52 WARN DAGScheduler: Broadcasting large task binary with size 3.2 MiB\n",
      "24/06/06 00:37:52 WARN DAGScheduler: Broadcasting large task binary with size 3.2 MiB\n",
      "24/06/06 00:37:52 WARN DAGScheduler: Broadcasting large task binary with size 3.2 MiB\n",
      "24/06/06 00:37:52 WARN DAGScheduler: Broadcasting large task binary with size 3.2 MiB\n",
      "24/06/06 00:37:53 WARN DAGScheduler: Broadcasting large task binary with size 3.2 MiB\n",
      "24/06/06 00:37:53 WARN DAGScheduler: Broadcasting large task binary with size 3.2 MiB\n",
      "24/06/06 00:37:53 WARN DAGScheduler: Broadcasting large task binary with size 3.2 MiB\n",
      "24/06/06 00:37:53 WARN DAGScheduler: Broadcasting large task binary with size 3.2 MiB\n",
      "24/06/06 00:37:53 WARN DAGScheduler: Broadcasting large task binary with size 3.2 MiB\n",
      "24/06/06 00:37:54 WARN DAGScheduler: Broadcasting large task binary with size 3.2 MiB\n",
      "24/06/06 00:37:54 WARN DAGScheduler: Broadcasting large task binary with size 3.2 MiB\n",
      "24/06/06 00:37:54 WARN DAGScheduler: Broadcasting large task binary with size 3.2 MiB\n",
      "24/06/06 00:37:54 WARN DAGScheduler: Broadcasting large task binary with size 3.2 MiB\n",
      "24/06/06 00:37:54 WARN OnlineLDAOptimizer: The input data is not directly cached, which may hurt performance if its parent RDDs are also uncached.\n",
      "24/06/06 00:37:54 WARN DAGScheduler: Broadcasting large task binary with size 3.2 MiB\n",
      "24/06/06 00:37:54 WARN DAGScheduler: Broadcasting large task binary with size 3.2 MiB\n",
      "24/06/06 00:37:55 WARN DAGScheduler: Broadcasting large task binary with size 3.2 MiB\n",
      "24/06/06 00:37:55 WARN DAGScheduler: Broadcasting large task binary with size 3.2 MiB\n",
      "24/06/06 00:37:55 WARN DAGScheduler: Broadcasting large task binary with size 3.2 MiB\n",
      "24/06/06 00:37:55 WARN DAGScheduler: Broadcasting large task binary with size 3.2 MiB\n",
      "24/06/06 00:37:56 WARN DAGScheduler: Broadcasting large task binary with size 3.2 MiB\n",
      "24/06/06 00:37:56 WARN DAGScheduler: Broadcasting large task binary with size 3.2 MiB\n",
      "24/06/06 00:37:56 WARN DAGScheduler: Broadcasting large task binary with size 3.2 MiB\n",
      "24/06/06 00:37:56 WARN DAGScheduler: Broadcasting large task binary with size 3.2 MiB\n",
      "24/06/06 00:37:56 WARN DAGScheduler: Broadcasting large task binary with size 3.2 MiB\n",
      "24/06/06 00:37:57 WARN DAGScheduler: Broadcasting large task binary with size 3.2 MiB\n",
      "24/06/06 00:37:57 WARN DAGScheduler: Broadcasting large task binary with size 3.2 MiB\n",
      "24/06/06 00:37:57 WARN DAGScheduler: Broadcasting large task binary with size 3.2 MiB\n",
      "24/06/06 00:37:57 WARN DAGScheduler: Broadcasting large task binary with size 3.2 MiB\n",
      "24/06/06 00:37:57 WARN DAGScheduler: Broadcasting large task binary with size 3.2 MiB\n",
      "24/06/06 00:37:58 WARN DAGScheduler: Broadcasting large task binary with size 3.2 MiB\n",
      "24/06/06 00:37:58 WARN DAGScheduler: Broadcasting large task binary with size 3.2 MiB\n",
      "24/06/06 00:37:58 WARN DAGScheduler: Broadcasting large task binary with size 3.2 MiB\n",
      "24/06/06 00:37:58 WARN DAGScheduler: Broadcasting large task binary with size 3.2 MiB\n",
      "24/06/06 00:37:58 WARN DAGScheduler: Broadcasting large task binary with size 3.2 MiB\n",
      "24/06/06 00:37:59 WARN DAGScheduler: Broadcasting large task binary with size 3.2 MiB\n",
      "24/06/06 00:37:59 WARN DAGScheduler: Broadcasting large task binary with size 3.2 MiB\n",
      "24/06/06 00:37:59 WARN DAGScheduler: Broadcasting large task binary with size 3.2 MiB\n",
      "24/06/06 00:37:59 WARN DAGScheduler: Broadcasting large task binary with size 3.2 MiB\n",
      "24/06/06 00:37:59 WARN DAGScheduler: Broadcasting large task binary with size 3.2 MiB\n",
      "24/06/06 00:38:00 WARN DAGScheduler: Broadcasting large task binary with size 3.2 MiB\n",
      "24/06/06 00:38:00 WARN DAGScheduler: Broadcasting large task binary with size 3.2 MiB\n",
      "24/06/06 00:38:00 WARN DAGScheduler: Broadcasting large task binary with size 3.2 MiB\n",
      "24/06/06 00:38:00 WARN DAGScheduler: Broadcasting large task binary with size 3.2 MiB\n",
      "24/06/06 00:38:01 WARN DAGScheduler: Broadcasting large task binary with size 3.2 MiB\n",
      "24/06/06 00:38:01 WARN DAGScheduler: Broadcasting large task binary with size 3.2 MiB\n",
      "24/06/06 00:38:01 WARN DAGScheduler: Broadcasting large task binary with size 3.2 MiB\n",
      "24/06/06 00:38:01 WARN DAGScheduler: Broadcasting large task binary with size 3.2 MiB\n",
      "24/06/06 00:38:01 WARN DAGScheduler: Broadcasting large task binary with size 3.2 MiB\n",
      "24/06/06 00:38:02 WARN DAGScheduler: Broadcasting large task binary with size 3.2 MiB\n",
      "24/06/06 00:38:02 WARN DAGScheduler: Broadcasting large task binary with size 3.2 MiB\n",
      "24/06/06 00:38:02 WARN DAGScheduler: Broadcasting large task binary with size 3.2 MiB\n",
      "24/06/06 00:38:02 WARN DAGScheduler: Broadcasting large task binary with size 3.2 MiB\n",
      "24/06/06 00:38:02 WARN DAGScheduler: Broadcasting large task binary with size 3.2 MiB\n",
      "24/06/06 00:38:03 WARN DAGScheduler: Broadcasting large task binary with size 3.2 MiB\n",
      "24/06/06 00:38:03 WARN DAGScheduler: Broadcasting large task binary with size 3.2 MiB\n",
      "24/06/06 00:38:03 WARN DAGScheduler: Broadcasting large task binary with size 3.2 MiB\n",
      "24/06/06 00:38:03 WARN DAGScheduler: Broadcasting large task binary with size 3.2 MiB\n",
      "24/06/06 00:38:04 WARN DAGScheduler: Broadcasting large task binary with size 3.2 MiB\n",
      "24/06/06 00:38:04 WARN DAGScheduler: Broadcasting large task binary with size 3.2 MiB\n",
      "24/06/06 00:38:04 WARN DAGScheduler: Broadcasting large task binary with size 3.2 MiB\n",
      "24/06/06 00:38:04 WARN DAGScheduler: Broadcasting large task binary with size 3.2 MiB\n",
      "24/06/06 00:38:04 WARN DAGScheduler: Broadcasting large task binary with size 3.2 MiB\n",
      "24/06/06 00:38:04 WARN DAGScheduler: Broadcasting large task binary with size 3.2 MiB\n",
      "24/06/06 00:38:05 WARN DAGScheduler: Broadcasting large task binary with size 3.2 MiB\n",
      "24/06/06 00:38:05 WARN DAGScheduler: Broadcasting large task binary with size 3.2 MiB\n"
     ]
    },
    {
     "name": "stderr",
     "output_type": "stream",
     "text": [
      "24/06/06 00:38:05 WARN DAGScheduler: Broadcasting large task binary with size 3.2 MiB\n",
      "24/06/06 00:38:05 WARN DAGScheduler: Broadcasting large task binary with size 3.2 MiB\n",
      "24/06/06 00:38:05 WARN DAGScheduler: Broadcasting large task binary with size 3.2 MiB\n",
      "24/06/06 00:38:06 WARN DAGScheduler: Broadcasting large task binary with size 3.2 MiB\n",
      "24/06/06 00:38:06 WARN DAGScheduler: Broadcasting large task binary with size 3.2 MiB\n",
      "24/06/06 00:38:06 WARN DAGScheduler: Broadcasting large task binary with size 3.2 MiB\n",
      "24/06/06 00:38:06 WARN DAGScheduler: Broadcasting large task binary with size 3.2 MiB\n",
      "24/06/06 00:38:06 WARN DAGScheduler: Broadcasting large task binary with size 3.2 MiB\n",
      "24/06/06 00:38:07 WARN DAGScheduler: Broadcasting large task binary with size 3.2 MiB\n",
      "24/06/06 00:38:07 WARN DAGScheduler: Broadcasting large task binary with size 3.2 MiB\n",
      "24/06/06 00:38:07 WARN DAGScheduler: Broadcasting large task binary with size 3.2 MiB\n",
      "24/06/06 00:38:07 WARN DAGScheduler: Broadcasting large task binary with size 3.2 MiB\n",
      "24/06/06 00:38:07 WARN DAGScheduler: Broadcasting large task binary with size 3.2 MiB\n",
      "24/06/06 00:38:08 WARN DAGScheduler: Broadcasting large task binary with size 3.2 MiB\n",
      "24/06/06 00:38:08 WARN DAGScheduler: Broadcasting large task binary with size 3.2 MiB\n",
      "24/06/06 00:38:08 WARN DAGScheduler: Broadcasting large task binary with size 3.2 MiB\n",
      "24/06/06 00:38:08 WARN DAGScheduler: Broadcasting large task binary with size 3.2 MiB\n",
      "24/06/06 00:38:08 WARN DAGScheduler: Broadcasting large task binary with size 3.2 MiB\n",
      "24/06/06 00:38:08 WARN DAGScheduler: Broadcasting large task binary with size 3.2 MiB\n",
      "24/06/06 00:38:09 WARN DAGScheduler: Broadcasting large task binary with size 3.2 MiB\n",
      "24/06/06 00:38:09 WARN DAGScheduler: Broadcasting large task binary with size 3.2 MiB\n",
      "24/06/06 00:38:09 WARN DAGScheduler: Broadcasting large task binary with size 3.2 MiB\n",
      "24/06/06 00:38:09 WARN DAGScheduler: Broadcasting large task binary with size 3.2 MiB\n",
      "24/06/06 00:38:09 WARN DAGScheduler: Broadcasting large task binary with size 3.2 MiB\n",
      "24/06/06 00:38:10 WARN DAGScheduler: Broadcasting large task binary with size 3.2 MiB\n",
      "24/06/06 00:38:10 WARN OnlineLDAOptimizer: The input data is not directly cached, which may hurt performance if its parent RDDs are also uncached.\n",
      "24/06/06 00:38:10 WARN DAGScheduler: Broadcasting large task binary with size 3.2 MiB\n",
      "24/06/06 00:38:10 WARN DAGScheduler: Broadcasting large task binary with size 3.2 MiB\n",
      "24/06/06 00:38:10 WARN DAGScheduler: Broadcasting large task binary with size 3.2 MiB\n",
      "24/06/06 00:38:10 WARN DAGScheduler: Broadcasting large task binary with size 3.2 MiB\n",
      "24/06/06 00:38:11 WARN DAGScheduler: Broadcasting large task binary with size 3.2 MiB\n",
      "24/06/06 00:38:11 WARN DAGScheduler: Broadcasting large task binary with size 3.2 MiB\n",
      "24/06/06 00:38:11 WARN DAGScheduler: Broadcasting large task binary with size 3.2 MiB\n",
      "24/06/06 00:38:11 WARN DAGScheduler: Broadcasting large task binary with size 3.2 MiB\n",
      "24/06/06 00:38:12 WARN DAGScheduler: Broadcasting large task binary with size 3.2 MiB\n",
      "24/06/06 00:38:12 WARN DAGScheduler: Broadcasting large task binary with size 3.2 MiB\n",
      "24/06/06 00:38:12 WARN DAGScheduler: Broadcasting large task binary with size 3.2 MiB\n",
      "24/06/06 00:38:13 WARN DAGScheduler: Broadcasting large task binary with size 3.2 MiB\n",
      "24/06/06 00:38:13 WARN DAGScheduler: Broadcasting large task binary with size 3.2 MiB\n",
      "24/06/06 00:38:13 WARN DAGScheduler: Broadcasting large task binary with size 3.2 MiB\n",
      "24/06/06 00:38:13 WARN DAGScheduler: Broadcasting large task binary with size 3.2 MiB\n"
     ]
    },
    {
     "ename": "IllegalArgumentException",
     "evalue": "prediction does not exist. Available: category_label, description_filtered, raw_features, features, CrossValidator_ffc12df31bb4_rand, topicDistribution",
     "output_type": "error",
     "traceback": [
      "\u001b[0;31m---------------------------------------------------------------------------\u001b[0m",
      "\u001b[0;31mIllegalArgumentException\u001b[0m                  Traceback (most recent call last)",
      "Input \u001b[0;32mIn [88]\u001b[0m, in \u001b[0;36m<module>\u001b[0;34m\u001b[0m\n\u001b[0;32m----> 1\u001b[0m results \u001b[38;5;241m=\u001b[39m \u001b[43mtrain_and_evaluate_model\u001b[49m\u001b[43m(\u001b[49m\u001b[43mpipeline\u001b[49m\u001b[43m)\u001b[49m\n",
      "Input \u001b[0;32mIn [87]\u001b[0m, in \u001b[0;36mtrain_and_evaluate_model\u001b[0;34m(model_pipeline, model_name)\u001b[0m\n\u001b[1;32m      4\u001b[0m \u001b[38;5;28mprint\u001b[39m(\u001b[38;5;124mf\u001b[39m\u001b[38;5;124m\"\u001b[39m\u001b[38;5;124mTraining \u001b[39m\u001b[38;5;132;01m{model_name}\u001b[39;00m\u001b[38;5;124m model\u001b[39m\u001b[38;5;124m\"\u001b[39m)\n\u001b[1;32m      6\u001b[0m \u001b[38;5;66m# Fit the model pipeline to the training set\u001b[39m\n\u001b[1;32m      7\u001b[0m \u001b[38;5;66m#fitted_model = model_pipeline.fit(train_set)\u001b[39m\n\u001b[0;32m----> 8\u001b[0m fitted_model \u001b[38;5;241m=\u001b[39m \u001b[43mtrain_model\u001b[49m\u001b[43m(\u001b[49m\u001b[43mmodel_pipeline\u001b[49m\u001b[43m)\u001b[49m\n\u001b[1;32m     10\u001b[0m \u001b[38;5;28mprint\u001b[39m(\u001b[38;5;124m\"\u001b[39m\u001b[38;5;124mDone\u001b[39m\u001b[38;5;124m\"\u001b[39m)\n\u001b[1;32m     11\u001b[0m \u001b[38;5;28mprint\u001b[39m(\u001b[38;5;124mf\u001b[39m\u001b[38;5;124m\"\u001b[39m\u001b[38;5;124mEvaluating \u001b[39m\u001b[38;5;132;01m{model_name}\u001b[39;00m\u001b[38;5;124m model\u001b[39m\u001b[38;5;124m\"\u001b[39m)\n",
      "Input \u001b[0;32mIn [78]\u001b[0m, in \u001b[0;36mtrain_model\u001b[0;34m(model)\u001b[0m\n\u001b[1;32m      1\u001b[0m \u001b[38;5;28;01mdef\u001b[39;00m \u001b[38;5;21mtrain_model\u001b[39m(model):    \n\u001b[0;32m----> 2\u001b[0m     \u001b[38;5;28;01mreturn\u001b[39;00m \u001b[43mmodel\u001b[49m\u001b[38;5;241;43m.\u001b[39;49m\u001b[43mfit\u001b[49m\u001b[43m(\u001b[49m\u001b[43mtrain_set\u001b[49m\u001b[43m)\u001b[49m\n",
      "File \u001b[0;32m~/.local/lib/python3.8/site-packages/pyspark/ml/base.py:205\u001b[0m, in \u001b[0;36mEstimator.fit\u001b[0;34m(self, dataset, params)\u001b[0m\n\u001b[1;32m    203\u001b[0m         \u001b[38;5;28;01mreturn\u001b[39;00m \u001b[38;5;28mself\u001b[39m\u001b[38;5;241m.\u001b[39mcopy(params)\u001b[38;5;241m.\u001b[39m_fit(dataset)\n\u001b[1;32m    204\u001b[0m     \u001b[38;5;28;01melse\u001b[39;00m:\n\u001b[0;32m--> 205\u001b[0m         \u001b[38;5;28;01mreturn\u001b[39;00m \u001b[38;5;28;43mself\u001b[39;49m\u001b[38;5;241;43m.\u001b[39;49m\u001b[43m_fit\u001b[49m\u001b[43m(\u001b[49m\u001b[43mdataset\u001b[49m\u001b[43m)\u001b[49m\n\u001b[1;32m    206\u001b[0m \u001b[38;5;28;01melse\u001b[39;00m:\n\u001b[1;32m    207\u001b[0m     \u001b[38;5;28;01mraise\u001b[39;00m \u001b[38;5;167;01mTypeError\u001b[39;00m(\n\u001b[1;32m    208\u001b[0m         \u001b[38;5;124m\"\u001b[39m\u001b[38;5;124mParams must be either a param map or a list/tuple of param maps, \u001b[39m\u001b[38;5;124m\"\u001b[39m\n\u001b[1;32m    209\u001b[0m         \u001b[38;5;124m\"\u001b[39m\u001b[38;5;124mbut got \u001b[39m\u001b[38;5;132;01m%s\u001b[39;00m\u001b[38;5;124m.\u001b[39m\u001b[38;5;124m\"\u001b[39m \u001b[38;5;241m%\u001b[39m \u001b[38;5;28mtype\u001b[39m(params)\n\u001b[1;32m    210\u001b[0m     )\n",
      "File \u001b[0;32m~/.local/lib/python3.8/site-packages/pyspark/ml/pipeline.py:134\u001b[0m, in \u001b[0;36mPipeline._fit\u001b[0;34m(self, dataset)\u001b[0m\n\u001b[1;32m    132\u001b[0m     dataset \u001b[38;5;241m=\u001b[39m stage\u001b[38;5;241m.\u001b[39mtransform(dataset)\n\u001b[1;32m    133\u001b[0m \u001b[38;5;28;01melse\u001b[39;00m:  \u001b[38;5;66m# must be an Estimator\u001b[39m\n\u001b[0;32m--> 134\u001b[0m     model \u001b[38;5;241m=\u001b[39m \u001b[43mstage\u001b[49m\u001b[38;5;241;43m.\u001b[39;49m\u001b[43mfit\u001b[49m\u001b[43m(\u001b[49m\u001b[43mdataset\u001b[49m\u001b[43m)\u001b[49m\n\u001b[1;32m    135\u001b[0m     transformers\u001b[38;5;241m.\u001b[39mappend(model)\n\u001b[1;32m    136\u001b[0m     \u001b[38;5;28;01mif\u001b[39;00m i \u001b[38;5;241m<\u001b[39m indexOfLastEstimator:\n",
      "File \u001b[0;32m~/.local/lib/python3.8/site-packages/pyspark/ml/base.py:205\u001b[0m, in \u001b[0;36mEstimator.fit\u001b[0;34m(self, dataset, params)\u001b[0m\n\u001b[1;32m    203\u001b[0m         \u001b[38;5;28;01mreturn\u001b[39;00m \u001b[38;5;28mself\u001b[39m\u001b[38;5;241m.\u001b[39mcopy(params)\u001b[38;5;241m.\u001b[39m_fit(dataset)\n\u001b[1;32m    204\u001b[0m     \u001b[38;5;28;01melse\u001b[39;00m:\n\u001b[0;32m--> 205\u001b[0m         \u001b[38;5;28;01mreturn\u001b[39;00m \u001b[38;5;28;43mself\u001b[39;49m\u001b[38;5;241;43m.\u001b[39;49m\u001b[43m_fit\u001b[49m\u001b[43m(\u001b[49m\u001b[43mdataset\u001b[49m\u001b[43m)\u001b[49m\n\u001b[1;32m    206\u001b[0m \u001b[38;5;28;01melse\u001b[39;00m:\n\u001b[1;32m    207\u001b[0m     \u001b[38;5;28;01mraise\u001b[39;00m \u001b[38;5;167;01mTypeError\u001b[39;00m(\n\u001b[1;32m    208\u001b[0m         \u001b[38;5;124m\"\u001b[39m\u001b[38;5;124mParams must be either a param map or a list/tuple of param maps, \u001b[39m\u001b[38;5;124m\"\u001b[39m\n\u001b[1;32m    209\u001b[0m         \u001b[38;5;124m\"\u001b[39m\u001b[38;5;124mbut got \u001b[39m\u001b[38;5;132;01m%s\u001b[39;00m\u001b[38;5;124m.\u001b[39m\u001b[38;5;124m\"\u001b[39m \u001b[38;5;241m%\u001b[39m \u001b[38;5;28mtype\u001b[39m(params)\n\u001b[1;32m    210\u001b[0m     )\n",
      "File \u001b[0;32m~/.local/lib/python3.8/site-packages/pyspark/ml/tuning.py:847\u001b[0m, in \u001b[0;36mCrossValidator._fit\u001b[0;34m(self, dataset)\u001b[0m\n\u001b[1;32m    841\u001b[0m train \u001b[38;5;241m=\u001b[39m datasets[i][\u001b[38;5;241m0\u001b[39m]\u001b[38;5;241m.\u001b[39mcache()\n\u001b[1;32m    843\u001b[0m tasks \u001b[38;5;241m=\u001b[39m \u001b[38;5;28mmap\u001b[39m(\n\u001b[1;32m    844\u001b[0m     inheritable_thread_target,\n\u001b[1;32m    845\u001b[0m     _parallelFitTasks(est, train, eva, validation, epm, collectSubModelsParam),\n\u001b[1;32m    846\u001b[0m )\n\u001b[0;32m--> 847\u001b[0m \u001b[38;5;28;01mfor\u001b[39;00m j, metric, subModel \u001b[38;5;129;01min\u001b[39;00m pool\u001b[38;5;241m.\u001b[39mimap_unordered(\u001b[38;5;28;01mlambda\u001b[39;00m f: f(), tasks):\n\u001b[1;32m    848\u001b[0m     metrics_all[i][j] \u001b[38;5;241m=\u001b[39m metric\n\u001b[1;32m    849\u001b[0m     \u001b[38;5;28;01mif\u001b[39;00m collectSubModelsParam:\n",
      "File \u001b[0;32m/home/team1337/.local/easybuild_new/software/Python/3.8.2-GCCcore-9.3.0/lib/python3.8/multiprocessing/pool.py:865\u001b[0m, in \u001b[0;36mIMapIterator.next\u001b[0;34m(self, timeout)\u001b[0m\n\u001b[1;32m    863\u001b[0m \u001b[38;5;28;01mif\u001b[39;00m success:\n\u001b[1;32m    864\u001b[0m     \u001b[38;5;28;01mreturn\u001b[39;00m value\n\u001b[0;32m--> 865\u001b[0m \u001b[38;5;28;01mraise\u001b[39;00m value\n",
      "File \u001b[0;32m/home/team1337/.local/easybuild_new/software/Python/3.8.2-GCCcore-9.3.0/lib/python3.8/multiprocessing/pool.py:125\u001b[0m, in \u001b[0;36mworker\u001b[0;34m(inqueue, outqueue, initializer, initargs, maxtasks, wrap_exception)\u001b[0m\n\u001b[1;32m    123\u001b[0m job, i, func, args, kwds \u001b[38;5;241m=\u001b[39m task\n\u001b[1;32m    124\u001b[0m \u001b[38;5;28;01mtry\u001b[39;00m:\n\u001b[0;32m--> 125\u001b[0m     result \u001b[38;5;241m=\u001b[39m (\u001b[38;5;28;01mTrue\u001b[39;00m, \u001b[43mfunc\u001b[49m\u001b[43m(\u001b[49m\u001b[38;5;241;43m*\u001b[39;49m\u001b[43margs\u001b[49m\u001b[43m,\u001b[49m\u001b[43m \u001b[49m\u001b[38;5;241;43m*\u001b[39;49m\u001b[38;5;241;43m*\u001b[39;49m\u001b[43mkwds\u001b[49m\u001b[43m)\u001b[49m)\n\u001b[1;32m    126\u001b[0m \u001b[38;5;28;01mexcept\u001b[39;00m \u001b[38;5;167;01mException\u001b[39;00m \u001b[38;5;28;01mas\u001b[39;00m e:\n\u001b[1;32m    127\u001b[0m     \u001b[38;5;28;01mif\u001b[39;00m wrap_exception \u001b[38;5;129;01mand\u001b[39;00m func \u001b[38;5;129;01mis\u001b[39;00m \u001b[38;5;129;01mnot\u001b[39;00m _helper_reraises_exception:\n",
      "File \u001b[0;32m~/.local/lib/python3.8/site-packages/pyspark/ml/tuning.py:847\u001b[0m, in \u001b[0;36mCrossValidator._fit.<locals>.<lambda>\u001b[0;34m(f)\u001b[0m\n\u001b[1;32m    841\u001b[0m train \u001b[38;5;241m=\u001b[39m datasets[i][\u001b[38;5;241m0\u001b[39m]\u001b[38;5;241m.\u001b[39mcache()\n\u001b[1;32m    843\u001b[0m tasks \u001b[38;5;241m=\u001b[39m \u001b[38;5;28mmap\u001b[39m(\n\u001b[1;32m    844\u001b[0m     inheritable_thread_target,\n\u001b[1;32m    845\u001b[0m     _parallelFitTasks(est, train, eva, validation, epm, collectSubModelsParam),\n\u001b[1;32m    846\u001b[0m )\n\u001b[0;32m--> 847\u001b[0m \u001b[38;5;28;01mfor\u001b[39;00m j, metric, subModel \u001b[38;5;129;01min\u001b[39;00m pool\u001b[38;5;241m.\u001b[39mimap_unordered(\u001b[38;5;28;01mlambda\u001b[39;00m f: \u001b[43mf\u001b[49m\u001b[43m(\u001b[49m\u001b[43m)\u001b[49m, tasks):\n\u001b[1;32m    848\u001b[0m     metrics_all[i][j] \u001b[38;5;241m=\u001b[39m metric\n\u001b[1;32m    849\u001b[0m     \u001b[38;5;28;01mif\u001b[39;00m collectSubModelsParam:\n",
      "File \u001b[0;32m~/.local/lib/python3.8/site-packages/pyspark/util.py:342\u001b[0m, in \u001b[0;36minheritable_thread_target.<locals>.wrapped\u001b[0;34m(*args, **kwargs)\u001b[0m\n\u001b[1;32m    340\u001b[0m \u001b[38;5;28;01massert\u001b[39;00m SparkContext\u001b[38;5;241m.\u001b[39m_active_spark_context \u001b[38;5;129;01mis\u001b[39;00m \u001b[38;5;129;01mnot\u001b[39;00m \u001b[38;5;28;01mNone\u001b[39;00m\n\u001b[1;32m    341\u001b[0m SparkContext\u001b[38;5;241m.\u001b[39m_active_spark_context\u001b[38;5;241m.\u001b[39m_jsc\u001b[38;5;241m.\u001b[39msc()\u001b[38;5;241m.\u001b[39msetLocalProperties(properties)\n\u001b[0;32m--> 342\u001b[0m \u001b[38;5;28;01mreturn\u001b[39;00m \u001b[43mf\u001b[49m\u001b[43m(\u001b[49m\u001b[38;5;241;43m*\u001b[39;49m\u001b[43margs\u001b[49m\u001b[43m,\u001b[49m\u001b[43m \u001b[49m\u001b[38;5;241;43m*\u001b[39;49m\u001b[38;5;241;43m*\u001b[39;49m\u001b[43mkwargs\u001b[49m\u001b[43m)\u001b[49m\n",
      "File \u001b[0;32m~/.local/lib/python3.8/site-packages/pyspark/ml/tuning.py:118\u001b[0m, in \u001b[0;36m_parallelFitTasks.<locals>.singleTask\u001b[0;34m()\u001b[0m\n\u001b[1;32m    113\u001b[0m index, model \u001b[38;5;241m=\u001b[39m \u001b[38;5;28mnext\u001b[39m(modelIter)\n\u001b[1;32m    114\u001b[0m \u001b[38;5;66m# TODO: duplicate evaluator to take extra params from input\u001b[39m\n\u001b[1;32m    115\u001b[0m \u001b[38;5;66m#  Note: Supporting tuning params in evaluator need update method\u001b[39m\n\u001b[1;32m    116\u001b[0m \u001b[38;5;66m#  `MetaAlgorithmReadWrite.getAllNestedStages`, make it return\u001b[39m\n\u001b[1;32m    117\u001b[0m \u001b[38;5;66m#  all nested stages and evaluators\u001b[39m\n\u001b[0;32m--> 118\u001b[0m metric \u001b[38;5;241m=\u001b[39m \u001b[43meva\u001b[49m\u001b[38;5;241;43m.\u001b[39;49m\u001b[43mevaluate\u001b[49m\u001b[43m(\u001b[49m\u001b[43mmodel\u001b[49m\u001b[38;5;241;43m.\u001b[39;49m\u001b[43mtransform\u001b[49m\u001b[43m(\u001b[49m\u001b[43mvalidation\u001b[49m\u001b[43m,\u001b[49m\u001b[43m \u001b[49m\u001b[43mepm\u001b[49m\u001b[43m[\u001b[49m\u001b[43mindex\u001b[49m\u001b[43m]\u001b[49m\u001b[43m)\u001b[49m\u001b[43m)\u001b[49m\n\u001b[1;32m    119\u001b[0m \u001b[38;5;28;01mreturn\u001b[39;00m index, metric, model \u001b[38;5;28;01mif\u001b[39;00m collectSubModel \u001b[38;5;28;01melse\u001b[39;00m \u001b[38;5;28;01mNone\u001b[39;00m\n",
      "File \u001b[0;32m~/.local/lib/python3.8/site-packages/pyspark/ml/evaluation.py:111\u001b[0m, in \u001b[0;36mEvaluator.evaluate\u001b[0;34m(self, dataset, params)\u001b[0m\n\u001b[1;32m    109\u001b[0m         \u001b[38;5;28;01mreturn\u001b[39;00m \u001b[38;5;28mself\u001b[39m\u001b[38;5;241m.\u001b[39mcopy(params)\u001b[38;5;241m.\u001b[39m_evaluate(dataset)\n\u001b[1;32m    110\u001b[0m     \u001b[38;5;28;01melse\u001b[39;00m:\n\u001b[0;32m--> 111\u001b[0m         \u001b[38;5;28;01mreturn\u001b[39;00m \u001b[38;5;28;43mself\u001b[39;49m\u001b[38;5;241;43m.\u001b[39;49m\u001b[43m_evaluate\u001b[49m\u001b[43m(\u001b[49m\u001b[43mdataset\u001b[49m\u001b[43m)\u001b[49m\n\u001b[1;32m    112\u001b[0m \u001b[38;5;28;01melse\u001b[39;00m:\n\u001b[1;32m    113\u001b[0m     \u001b[38;5;28;01mraise\u001b[39;00m \u001b[38;5;167;01mTypeError\u001b[39;00m(\u001b[38;5;124m\"\u001b[39m\u001b[38;5;124mParams must be a param map but got \u001b[39m\u001b[38;5;132;01m%s\u001b[39;00m\u001b[38;5;124m.\u001b[39m\u001b[38;5;124m\"\u001b[39m \u001b[38;5;241m%\u001b[39m \u001b[38;5;28mtype\u001b[39m(params))\n",
      "File \u001b[0;32m~/.local/lib/python3.8/site-packages/pyspark/ml/evaluation.py:148\u001b[0m, in \u001b[0;36mJavaEvaluator._evaluate\u001b[0;34m(self, dataset)\u001b[0m\n\u001b[1;32m    146\u001b[0m \u001b[38;5;28mself\u001b[39m\u001b[38;5;241m.\u001b[39m_transfer_params_to_java()\n\u001b[1;32m    147\u001b[0m \u001b[38;5;28;01massert\u001b[39;00m \u001b[38;5;28mself\u001b[39m\u001b[38;5;241m.\u001b[39m_java_obj \u001b[38;5;129;01mis\u001b[39;00m \u001b[38;5;129;01mnot\u001b[39;00m \u001b[38;5;28;01mNone\u001b[39;00m\n\u001b[0;32m--> 148\u001b[0m \u001b[38;5;28;01mreturn\u001b[39;00m \u001b[38;5;28;43mself\u001b[39;49m\u001b[38;5;241;43m.\u001b[39;49m\u001b[43m_java_obj\u001b[49m\u001b[38;5;241;43m.\u001b[39;49m\u001b[43mevaluate\u001b[49m\u001b[43m(\u001b[49m\u001b[43mdataset\u001b[49m\u001b[38;5;241;43m.\u001b[39;49m\u001b[43m_jdf\u001b[49m\u001b[43m)\u001b[49m\n",
      "File \u001b[0;32m~/.local/lib/python3.8/site-packages/py4j/java_gateway.py:1322\u001b[0m, in \u001b[0;36mJavaMember.__call__\u001b[0;34m(self, *args)\u001b[0m\n\u001b[1;32m   1316\u001b[0m command \u001b[38;5;241m=\u001b[39m proto\u001b[38;5;241m.\u001b[39mCALL_COMMAND_NAME \u001b[38;5;241m+\u001b[39m\\\n\u001b[1;32m   1317\u001b[0m     \u001b[38;5;28mself\u001b[39m\u001b[38;5;241m.\u001b[39mcommand_header \u001b[38;5;241m+\u001b[39m\\\n\u001b[1;32m   1318\u001b[0m     args_command \u001b[38;5;241m+\u001b[39m\\\n\u001b[1;32m   1319\u001b[0m     proto\u001b[38;5;241m.\u001b[39mEND_COMMAND_PART\n\u001b[1;32m   1321\u001b[0m answer \u001b[38;5;241m=\u001b[39m \u001b[38;5;28mself\u001b[39m\u001b[38;5;241m.\u001b[39mgateway_client\u001b[38;5;241m.\u001b[39msend_command(command)\n\u001b[0;32m-> 1322\u001b[0m return_value \u001b[38;5;241m=\u001b[39m \u001b[43mget_return_value\u001b[49m\u001b[43m(\u001b[49m\n\u001b[1;32m   1323\u001b[0m \u001b[43m    \u001b[49m\u001b[43manswer\u001b[49m\u001b[43m,\u001b[49m\u001b[43m \u001b[49m\u001b[38;5;28;43mself\u001b[39;49m\u001b[38;5;241;43m.\u001b[39;49m\u001b[43mgateway_client\u001b[49m\u001b[43m,\u001b[49m\u001b[43m \u001b[49m\u001b[38;5;28;43mself\u001b[39;49m\u001b[38;5;241;43m.\u001b[39;49m\u001b[43mtarget_id\u001b[49m\u001b[43m,\u001b[49m\u001b[43m \u001b[49m\u001b[38;5;28;43mself\u001b[39;49m\u001b[38;5;241;43m.\u001b[39;49m\u001b[43mname\u001b[49m\u001b[43m)\u001b[49m\n\u001b[1;32m   1325\u001b[0m \u001b[38;5;28;01mfor\u001b[39;00m temp_arg \u001b[38;5;129;01min\u001b[39;00m temp_args:\n\u001b[1;32m   1326\u001b[0m     \u001b[38;5;28;01mif\u001b[39;00m \u001b[38;5;28mhasattr\u001b[39m(temp_arg, \u001b[38;5;124m\"\u001b[39m\u001b[38;5;124m_detach\u001b[39m\u001b[38;5;124m\"\u001b[39m):\n",
      "File \u001b[0;32m~/.local/lib/python3.8/site-packages/pyspark/errors/exceptions/captured.py:185\u001b[0m, in \u001b[0;36mcapture_sql_exception.<locals>.deco\u001b[0;34m(*a, **kw)\u001b[0m\n\u001b[1;32m    181\u001b[0m converted \u001b[38;5;241m=\u001b[39m convert_exception(e\u001b[38;5;241m.\u001b[39mjava_exception)\n\u001b[1;32m    182\u001b[0m \u001b[38;5;28;01mif\u001b[39;00m \u001b[38;5;129;01mnot\u001b[39;00m \u001b[38;5;28misinstance\u001b[39m(converted, UnknownException):\n\u001b[1;32m    183\u001b[0m     \u001b[38;5;66m# Hide where the exception came from that shows a non-Pythonic\u001b[39m\n\u001b[1;32m    184\u001b[0m     \u001b[38;5;66m# JVM exception message.\u001b[39m\n\u001b[0;32m--> 185\u001b[0m     \u001b[38;5;28;01mraise\u001b[39;00m converted \u001b[38;5;28;01mfrom\u001b[39;00m \u001b[38;5;28mNone\u001b[39m\n\u001b[1;32m    186\u001b[0m \u001b[38;5;28;01melse\u001b[39;00m:\n\u001b[1;32m    187\u001b[0m     \u001b[38;5;28;01mraise\u001b[39;00m\n",
      "\u001b[0;31mIllegalArgumentException\u001b[0m: prediction does not exist. Available: category_label, description_filtered, raw_features, features, CrossValidator_ffc12df31bb4_rand, topicDistribution"
     ]
    },
    {
     "name": "stderr",
     "output_type": "stream",
     "text": [
      "24/06/06 00:38:14 WARN DAGScheduler: Broadcasting large task binary with size 3.2 MiB\n",
      "24/06/06 00:38:14 WARN DAGScheduler: Broadcasting large task binary with size 3.2 MiB\n",
      "24/06/06 00:38:14 WARN DAGScheduler: Broadcasting large task binary with size 3.2 MiB\n",
      "24/06/06 00:38:14 WARN DAGScheduler: Broadcasting large task binary with size 3.2 MiB\n",
      "24/06/06 00:38:14 WARN OnlineLDAOptimizer: The input data is not directly cached, which may hurt performance if its parent RDDs are also uncached.\n",
      "24/06/06 00:38:14 WARN DAGScheduler: Broadcasting large task binary with size 3.2 MiB\n",
      "24/06/06 00:38:14 WARN DAGScheduler: Broadcasting large task binary with size 3.2 MiB\n",
      "24/06/06 00:38:15 WARN DAGScheduler: Broadcasting large task binary with size 3.2 MiB\n",
      "24/06/06 00:38:15 WARN DAGScheduler: Broadcasting large task binary with size 3.2 MiB\n",
      "24/06/06 00:38:15 WARN DAGScheduler: Broadcasting large task binary with size 3.2 MiB\n",
      "24/06/06 00:38:15 WARN DAGScheduler: Broadcasting large task binary with size 3.2 MiB\n",
      "24/06/06 00:38:16 WARN DAGScheduler: Broadcasting large task binary with size 3.2 MiB\n",
      "24/06/06 00:38:16 WARN DAGScheduler: Broadcasting large task binary with size 3.2 MiB\n",
      "24/06/06 00:38:16 WARN DAGScheduler: Broadcasting large task binary with size 3.2 MiB\n",
      "24/06/06 00:38:16 WARN DAGScheduler: Broadcasting large task binary with size 3.2 MiB\n",
      "24/06/06 00:38:16 WARN DAGScheduler: Broadcasting large task binary with size 3.2 MiB\n",
      "24/06/06 00:38:17 WARN DAGScheduler: Broadcasting large task binary with size 3.2 MiB\n",
      "24/06/06 00:38:17 WARN DAGScheduler: Broadcasting large task binary with size 3.2 MiB\n",
      "24/06/06 00:38:17 WARN DAGScheduler: Broadcasting large task binary with size 3.2 MiB\n",
      "24/06/06 00:38:18 WARN DAGScheduler: Broadcasting large task binary with size 3.2 MiB\n",
      "24/06/06 00:38:18 WARN DAGScheduler: Broadcasting large task binary with size 3.2 MiB\n",
      "24/06/06 00:38:18 WARN DAGScheduler: Broadcasting large task binary with size 3.2 MiB\n",
      "24/06/06 00:38:18 WARN DAGScheduler: Broadcasting large task binary with size 3.2 MiB\n",
      "24/06/06 00:38:18 WARN DAGScheduler: Broadcasting large task binary with size 3.2 MiB\n",
      "24/06/06 00:38:18 WARN DAGScheduler: Broadcasting large task binary with size 3.2 MiB\n",
      "24/06/06 00:38:19 WARN DAGScheduler: Broadcasting large task binary with size 3.2 MiB\n",
      "24/06/06 00:38:19 WARN DAGScheduler: Broadcasting large task binary with size 3.2 MiB\n",
      "24/06/06 00:38:19 WARN DAGScheduler: Broadcasting large task binary with size 3.2 MiB\n",
      "24/06/06 00:38:20 WARN DAGScheduler: Broadcasting large task binary with size 3.2 MiB\n",
      "24/06/06 00:38:20 WARN DAGScheduler: Broadcasting large task binary with size 3.2 MiB\n",
      "24/06/06 00:38:20 WARN DAGScheduler: Broadcasting large task binary with size 3.2 MiB\n",
      "24/06/06 00:38:20 WARN DAGScheduler: Broadcasting large task binary with size 3.2 MiB\n",
      "24/06/06 00:38:20 WARN DAGScheduler: Broadcasting large task binary with size 3.2 MiB\n",
      "24/06/06 00:38:21 WARN DAGScheduler: Broadcasting large task binary with size 3.2 MiB\n",
      "24/06/06 00:38:21 WARN DAGScheduler: Broadcasting large task binary with size 3.2 MiB\n",
      "24/06/06 00:38:21 WARN DAGScheduler: Broadcasting large task binary with size 3.2 MiB\n",
      "24/06/06 00:38:21 WARN DAGScheduler: Broadcasting large task binary with size 3.2 MiB\n",
      "24/06/06 00:38:22 WARN DAGScheduler: Broadcasting large task binary with size 3.2 MiB\n",
      "24/06/06 00:38:22 WARN DAGScheduler: Broadcasting large task binary with size 3.2 MiB\n",
      "24/06/06 00:38:22 WARN DAGScheduler: Broadcasting large task binary with size 3.2 MiB\n",
      "24/06/06 00:38:22 WARN DAGScheduler: Broadcasting large task binary with size 3.2 MiB\n",
      "24/06/06 00:38:23 WARN DAGScheduler: Broadcasting large task binary with size 3.2 MiB\n",
      "24/06/06 00:38:23 WARN DAGScheduler: Broadcasting large task binary with size 3.2 MiB\n",
      "24/06/06 00:38:23 WARN OnlineLDAOptimizer: The input data is not directly cached, which may hurt performance if its parent RDDs are also uncached.\n",
      "24/06/06 00:38:23 WARN DAGScheduler: Broadcasting large task binary with size 3.2 MiB\n",
      "24/06/06 00:38:23 WARN DAGScheduler: Broadcasting large task binary with size 3.2 MiB\n",
      "24/06/06 00:38:23 WARN DAGScheduler: Broadcasting large task binary with size 3.2 MiB\n",
      "24/06/06 00:38:24 WARN DAGScheduler: Broadcasting large task binary with size 3.2 MiB\n",
      "24/06/06 00:38:24 WARN DAGScheduler: Broadcasting large task binary with size 3.2 MiB\n",
      "24/06/06 00:38:24 WARN DAGScheduler: Broadcasting large task binary with size 3.2 MiB\n",
      "24/06/06 00:38:24 WARN DAGScheduler: Broadcasting large task binary with size 3.2 MiB\n",
      "24/06/06 00:38:25 WARN DAGScheduler: Broadcasting large task binary with size 3.2 MiB\n",
      "24/06/06 00:38:25 WARN DAGScheduler: Broadcasting large task binary with size 3.2 MiB\n",
      "24/06/06 00:38:25 WARN DAGScheduler: Broadcasting large task binary with size 3.2 MiB\n",
      "24/06/06 00:38:25 WARN DAGScheduler: Broadcasting large task binary with size 3.2 MiB\n",
      "24/06/06 00:38:25 WARN DAGScheduler: Broadcasting large task binary with size 3.2 MiB\n",
      "24/06/06 00:38:25 WARN DAGScheduler: Broadcasting large task binary with size 3.2 MiB\n",
      "24/06/06 00:38:26 WARN DAGScheduler: Broadcasting large task binary with size 3.2 MiB\n",
      "24/06/06 00:38:26 WARN DAGScheduler: Broadcasting large task binary with size 3.2 MiB\n",
      "24/06/06 00:38:26 WARN DAGScheduler: Broadcasting large task binary with size 3.2 MiB\n",
      "24/06/06 00:38:26 WARN DAGScheduler: Broadcasting large task binary with size 3.2 MiB\n",
      "24/06/06 00:38:27 WARN DAGScheduler: Broadcasting large task binary with size 3.2 MiB\n",
      "24/06/06 00:38:27 WARN DAGScheduler: Broadcasting large task binary with size 3.2 MiB\n",
      "24/06/06 00:38:27 WARN DAGScheduler: Broadcasting large task binary with size 3.2 MiB\n",
      "24/06/06 00:38:27 WARN DAGScheduler: Broadcasting large task binary with size 3.2 MiB\n",
      "24/06/06 00:38:27 WARN DAGScheduler: Broadcasting large task binary with size 3.2 MiB\n",
      "24/06/06 00:38:28 WARN DAGScheduler: Broadcasting large task binary with size 3.2 MiB\n",
      "24/06/06 00:38:28 WARN DAGScheduler: Broadcasting large task binary with size 3.2 MiB\n",
      "24/06/06 00:38:28 WARN DAGScheduler: Broadcasting large task binary with size 3.2 MiB\n",
      "24/06/06 00:38:28 WARN DAGScheduler: Broadcasting large task binary with size 3.2 MiB\n",
      "24/06/06 00:38:29 WARN DAGScheduler: Broadcasting large task binary with size 3.2 MiB\n",
      "24/06/06 00:38:29 WARN DAGScheduler: Broadcasting large task binary with size 3.2 MiB\n",
      "24/06/06 00:38:29 WARN DAGScheduler: Broadcasting large task binary with size 3.2 MiB\n",
      "24/06/06 00:38:29 WARN DAGScheduler: Broadcasting large task binary with size 3.2 MiB\n",
      "24/06/06 00:38:29 WARN DAGScheduler: Broadcasting large task binary with size 3.2 MiB\n",
      "24/06/06 00:38:30 WARN DAGScheduler: Broadcasting large task binary with size 3.2 MiB\n",
      "24/06/06 00:38:30 WARN DAGScheduler: Broadcasting large task binary with size 3.2 MiB\n",
      "24/06/06 00:38:30 WARN DAGScheduler: Broadcasting large task binary with size 3.2 MiB\n",
      "24/06/06 00:38:30 WARN DAGScheduler: Broadcasting large task binary with size 3.2 MiB\n",
      "24/06/06 00:38:31 WARN DAGScheduler: Broadcasting large task binary with size 3.2 MiB\n",
      "24/06/06 00:38:31 WARN DAGScheduler: Broadcasting large task binary with size 3.2 MiB\n",
      "24/06/06 00:38:31 WARN DAGScheduler: Broadcasting large task binary with size 3.2 MiB\n",
      "24/06/06 00:38:31 WARN DAGScheduler: Broadcasting large task binary with size 3.2 MiB\n",
      "24/06/06 00:38:31 WARN DAGScheduler: Broadcasting large task binary with size 3.2 MiB\n",
      "24/06/06 00:38:32 WARN DAGScheduler: Broadcasting large task binary with size 3.2 MiB\n",
      "24/06/06 00:38:32 WARN DAGScheduler: Broadcasting large task binary with size 3.2 MiB\n",
      "24/06/06 00:38:32 WARN DAGScheduler: Broadcasting large task binary with size 3.2 MiB\n",
      "24/06/06 00:38:33 WARN DAGScheduler: Broadcasting large task binary with size 3.2 MiB\n",
      "24/06/06 00:38:33 WARN DAGScheduler: Broadcasting large task binary with size 3.2 MiB\n",
      "24/06/06 00:38:33 WARN DAGScheduler: Broadcasting large task binary with size 3.2 MiB\n",
      "24/06/06 00:38:33 WARN DAGScheduler: Broadcasting large task binary with size 3.2 MiB\n",
      "24/06/06 00:38:33 WARN DAGScheduler: Broadcasting large task binary with size 3.2 MiB\n",
      "24/06/06 00:38:33 WARN DAGScheduler: Broadcasting large task binary with size 3.2 MiB\n",
      "24/06/06 00:38:34 WARN DAGScheduler: Broadcasting large task binary with size 3.2 MiB\n",
      "24/06/06 00:38:34 WARN OnlineLDAOptimizer: The input data is not directly cached, which may hurt performance if its parent RDDs are also uncached.\n"
     ]
    },
    {
     "name": "stderr",
     "output_type": "stream",
     "text": [
      "24/06/06 00:38:34 WARN DAGScheduler: Broadcasting large task binary with size 3.2 MiB\n",
      "24/06/06 00:38:34 WARN DAGScheduler: Broadcasting large task binary with size 3.2 MiB\n",
      "24/06/06 00:38:34 WARN DAGScheduler: Broadcasting large task binary with size 3.2 MiB\n",
      "24/06/06 00:38:35 WARN DAGScheduler: Broadcasting large task binary with size 3.2 MiB\n",
      "24/06/06 00:38:35 WARN DAGScheduler: Broadcasting large task binary with size 3.2 MiB\n",
      "24/06/06 00:38:35 WARN DAGScheduler: Broadcasting large task binary with size 3.2 MiB\n",
      "24/06/06 00:38:35 WARN DAGScheduler: Broadcasting large task binary with size 3.2 MiB\n",
      "24/06/06 00:38:36 WARN DAGScheduler: Broadcasting large task binary with size 3.2 MiB\n",
      "24/06/06 00:38:36 WARN DAGScheduler: Broadcasting large task binary with size 3.2 MiB\n",
      "24/06/06 00:38:36 WARN DAGScheduler: Broadcasting large task binary with size 3.2 MiB\n",
      "24/06/06 00:38:36 WARN DAGScheduler: Broadcasting large task binary with size 3.2 MiB\n",
      "24/06/06 00:38:37 WARN DAGScheduler: Broadcasting large task binary with size 3.2 MiB\n",
      "24/06/06 00:38:37 WARN DAGScheduler: Broadcasting large task binary with size 3.2 MiB\n",
      "24/06/06 00:38:37 WARN DAGScheduler: Broadcasting large task binary with size 3.2 MiB\n",
      "24/06/06 00:38:37 WARN DAGScheduler: Broadcasting large task binary with size 3.2 MiB\n",
      "24/06/06 00:38:37 WARN DAGScheduler: Broadcasting large task binary with size 3.2 MiB\n",
      "24/06/06 00:38:37 WARN DAGScheduler: Broadcasting large task binary with size 3.2 MiB\n",
      "24/06/06 00:38:38 WARN DAGScheduler: Broadcasting large task binary with size 3.2 MiB\n",
      "24/06/06 00:38:38 WARN DAGScheduler: Broadcasting large task binary with size 3.2 MiB\n",
      "24/06/06 00:38:38 WARN DAGScheduler: Broadcasting large task binary with size 3.2 MiB\n",
      "24/06/06 00:38:39 WARN DAGScheduler: Broadcasting large task binary with size 3.2 MiB\n",
      "24/06/06 00:38:39 WARN DAGScheduler: Broadcasting large task binary with size 3.2 MiB\n",
      "24/06/06 00:38:39 WARN DAGScheduler: Broadcasting large task binary with size 3.2 MiB\n",
      "24/06/06 00:38:39 WARN DAGScheduler: Broadcasting large task binary with size 3.2 MiB\n",
      "24/06/06 00:38:39 WARN DAGScheduler: Broadcasting large task binary with size 3.2 MiB\n",
      "24/06/06 00:38:39 WARN DAGScheduler: Broadcasting large task binary with size 3.2 MiB\n",
      "24/06/06 00:38:40 WARN DAGScheduler: Broadcasting large task binary with size 3.2 MiB\n",
      "24/06/06 00:38:40 WARN DAGScheduler: Broadcasting large task binary with size 3.2 MiB\n",
      "24/06/06 00:38:40 WARN DAGScheduler: Broadcasting large task binary with size 3.2 MiB\n",
      "24/06/06 00:38:41 WARN DAGScheduler: Broadcasting large task binary with size 3.2 MiB\n",
      "24/06/06 00:38:41 WARN DAGScheduler: Broadcasting large task binary with size 3.2 MiB\n",
      "24/06/06 00:38:41 WARN DAGScheduler: Broadcasting large task binary with size 3.2 MiB\n",
      "24/06/06 00:38:41 WARN DAGScheduler: Broadcasting large task binary with size 3.2 MiB\n",
      "24/06/06 00:38:41 WARN DAGScheduler: Broadcasting large task binary with size 3.2 MiB\n",
      "24/06/06 00:38:41 WARN DAGScheduler: Broadcasting large task binary with size 3.2 MiB\n",
      "24/06/06 00:38:42 WARN DAGScheduler: Broadcasting large task binary with size 3.2 MiB\n",
      "24/06/06 00:38:42 WARN DAGScheduler: Broadcasting large task binary with size 3.2 MiB\n",
      "24/06/06 00:38:42 WARN DAGScheduler: Broadcasting large task binary with size 3.2 MiB\n",
      "24/06/06 00:38:42 WARN DAGScheduler: Broadcasting large task binary with size 3.2 MiB\n",
      "24/06/06 00:38:43 WARN DAGScheduler: Broadcasting large task binary with size 3.2 MiB\n",
      "24/06/06 00:38:43 WARN DAGScheduler: Broadcasting large task binary with size 3.2 MiB\n",
      "24/06/06 00:38:43 WARN DAGScheduler: Broadcasting large task binary with size 3.2 MiB\n",
      "24/06/06 00:38:43 WARN DAGScheduler: Broadcasting large task binary with size 3.2 MiB\n",
      "24/06/06 00:38:43 WARN DAGScheduler: Broadcasting large task binary with size 3.2 MiB\n",
      "24/06/06 00:38:44 WARN DAGScheduler: Broadcasting large task binary with size 3.2 MiB\n",
      "24/06/06 00:38:44 WARN DAGScheduler: Broadcasting large task binary with size 3.2 MiB\n",
      "24/06/06 00:38:44 WARN DAGScheduler: Broadcasting large task binary with size 3.2 MiB\n",
      "24/06/06 00:38:45 WARN DAGScheduler: Broadcasting large task binary with size 3.2 MiB\n",
      "24/06/06 00:38:45 WARN DAGScheduler: Broadcasting large task binary with size 3.2 MiB\n",
      "24/06/06 00:38:45 WARN DAGScheduler: Broadcasting large task binary with size 3.2 MiB\n",
      "24/06/06 00:38:45 WARN DAGScheduler: Broadcasting large task binary with size 3.2 MiB\n",
      "24/06/06 00:38:45 WARN DAGScheduler: Broadcasting large task binary with size 3.2 MiB\n",
      "24/06/06 00:38:46 WARN DAGScheduler: Broadcasting large task binary with size 3.2 MiB\n",
      "24/06/06 00:38:46 WARN DAGScheduler: Broadcasting large task binary with size 3.2 MiB\n",
      "24/06/06 00:38:46 WARN DAGScheduler: Broadcasting large task binary with size 3.2 MiB\n",
      "24/06/06 00:38:46 WARN DAGScheduler: Broadcasting large task binary with size 3.2 MiB\n",
      "24/06/06 00:38:47 WARN DAGScheduler: Broadcasting large task binary with size 3.2 MiB\n",
      "24/06/06 00:38:47 WARN DAGScheduler: Broadcasting large task binary with size 3.2 MiB\n",
      "24/06/06 00:38:47 WARN DAGScheduler: Broadcasting large task binary with size 3.2 MiB\n",
      "24/06/06 00:38:47 WARN DAGScheduler: Broadcasting large task binary with size 3.2 MiB\n",
      "24/06/06 00:38:47 WARN DAGScheduler: Broadcasting large task binary with size 3.2 MiB\n",
      "24/06/06 00:38:48 WARN DAGScheduler: Broadcasting large task binary with size 3.2 MiB\n",
      "24/06/06 00:38:48 WARN DAGScheduler: Broadcasting large task binary with size 3.2 MiB\n",
      "24/06/06 00:38:48 WARN DAGScheduler: Broadcasting large task binary with size 3.2 MiB\n",
      "24/06/06 00:38:48 WARN DAGScheduler: Broadcasting large task binary with size 3.2 MiB\n",
      "24/06/06 00:38:48 WARN DAGScheduler: Broadcasting large task binary with size 3.2 MiB\n",
      "24/06/06 00:38:48 WARN DAGScheduler: Broadcasting large task binary with size 3.2 MiB\n",
      "24/06/06 00:38:49 WARN DAGScheduler: Broadcasting large task binary with size 3.2 MiB\n",
      "24/06/06 00:38:49 WARN DAGScheduler: Broadcasting large task binary with size 3.2 MiB\n",
      "24/06/06 00:38:49 WARN DAGScheduler: Broadcasting large task binary with size 3.2 MiB\n",
      "24/06/06 00:38:49 WARN DAGScheduler: Broadcasting large task binary with size 3.2 MiB\n",
      "24/06/06 00:38:50 WARN DAGScheduler: Broadcasting large task binary with size 3.2 MiB\n",
      "24/06/06 00:38:50 WARN DAGScheduler: Broadcasting large task binary with size 3.2 MiB\n",
      "24/06/06 00:38:50 WARN DAGScheduler: Broadcasting large task binary with size 3.2 MiB\n",
      "24/06/06 00:38:50 WARN DAGScheduler: Broadcasting large task binary with size 3.2 MiB\n",
      "24/06/06 00:38:51 WARN DAGScheduler: Broadcasting large task binary with size 3.2 MiB\n",
      "24/06/06 00:38:51 WARN DAGScheduler: Broadcasting large task binary with size 3.2 MiB\n",
      "24/06/06 00:38:51 WARN DAGScheduler: Broadcasting large task binary with size 3.2 MiB\n",
      "24/06/06 00:38:51 WARN DAGScheduler: Broadcasting large task binary with size 3.2 MiB\n",
      "24/06/06 00:38:51 WARN DAGScheduler: Broadcasting large task binary with size 3.2 MiB\n",
      "24/06/06 00:38:51 WARN DAGScheduler: Broadcasting large task binary with size 3.2 MiB\n",
      "24/06/06 00:38:52 WARN DAGScheduler: Broadcasting large task binary with size 3.2 MiB\n",
      "24/06/06 00:38:52 WARN DAGScheduler: Broadcasting large task binary with size 3.2 MiB\n",
      "24/06/06 00:38:52 WARN DAGScheduler: Broadcasting large task binary with size 3.2 MiB\n",
      "24/06/06 00:38:52 WARN DAGScheduler: Broadcasting large task binary with size 3.2 MiB\n",
      "24/06/06 00:38:53 WARN DAGScheduler: Broadcasting large task binary with size 3.2 MiB\n",
      "24/06/06 00:38:53 WARN DAGScheduler: Broadcasting large task binary with size 3.2 MiB\n",
      "24/06/06 00:38:53 WARN DAGScheduler: Broadcasting large task binary with size 3.2 MiB\n",
      "24/06/06 00:38:53 WARN DAGScheduler: Broadcasting large task binary with size 3.2 MiB\n",
      "24/06/06 00:38:53 WARN OnlineLDAOptimizer: The input data is not directly cached, which may hurt performance if its parent RDDs are also uncached.\n",
      "24/06/06 00:38:54 WARN DAGScheduler: Broadcasting large task binary with size 3.2 MiB\n",
      "24/06/06 00:38:54 WARN DAGScheduler: Broadcasting large task binary with size 3.2 MiB\n",
      "24/06/06 00:38:54 WARN DAGScheduler: Broadcasting large task binary with size 3.2 MiB\n",
      "24/06/06 00:38:54 WARN DAGScheduler: Broadcasting large task binary with size 3.2 MiB\n",
      "24/06/06 00:38:54 WARN DAGScheduler: Broadcasting large task binary with size 3.2 MiB\n",
      "24/06/06 00:38:54 WARN DAGScheduler: Broadcasting large task binary with size 3.2 MiB\n"
     ]
    },
    {
     "name": "stderr",
     "output_type": "stream",
     "text": [
      "24/06/06 00:38:55 WARN DAGScheduler: Broadcasting large task binary with size 3.2 MiB\n",
      "24/06/06 00:38:55 WARN DAGScheduler: Broadcasting large task binary with size 3.2 MiB\n",
      "24/06/06 00:38:55 WARN DAGScheduler: Broadcasting large task binary with size 3.2 MiB\n",
      "24/06/06 00:38:56 WARN DAGScheduler: Broadcasting large task binary with size 3.2 MiB\n",
      "24/06/06 00:38:56 WARN DAGScheduler: Broadcasting large task binary with size 3.2 MiB\n",
      "24/06/06 00:38:56 WARN DAGScheduler: Broadcasting large task binary with size 3.2 MiB\n",
      "24/06/06 00:38:56 WARN DAGScheduler: Broadcasting large task binary with size 3.2 MiB\n",
      "24/06/06 00:38:56 WARN DAGScheduler: Broadcasting large task binary with size 3.2 MiB\n",
      "24/06/06 00:38:57 WARN DAGScheduler: Broadcasting large task binary with size 3.2 MiB\n",
      "24/06/06 00:38:57 WARN DAGScheduler: Broadcasting large task binary with size 3.2 MiB\n",
      "24/06/06 00:38:57 WARN DAGScheduler: Broadcasting large task binary with size 3.2 MiB\n",
      "24/06/06 00:38:57 WARN DAGScheduler: Broadcasting large task binary with size 3.2 MiB\n",
      "24/06/06 00:38:58 WARN DAGScheduler: Broadcasting large task binary with size 3.2 MiB\n",
      "24/06/06 00:38:58 WARN DAGScheduler: Broadcasting large task binary with size 3.2 MiB\n",
      "24/06/06 00:38:58 WARN DAGScheduler: Broadcasting large task binary with size 3.2 MiB\n",
      "24/06/06 00:38:58 WARN DAGScheduler: Broadcasting large task binary with size 3.2 MiB\n",
      "24/06/06 00:38:58 WARN DAGScheduler: Broadcasting large task binary with size 3.2 MiB\n",
      "24/06/06 00:38:58 WARN DAGScheduler: Broadcasting large task binary with size 3.2 MiB\n",
      "24/06/06 00:38:59 WARN DAGScheduler: Broadcasting large task binary with size 3.2 MiB\n",
      "24/06/06 00:38:59 WARN DAGScheduler: Broadcasting large task binary with size 3.2 MiB\n",
      "24/06/06 00:38:59 WARN DAGScheduler: Broadcasting large task binary with size 3.2 MiB\n",
      "24/06/06 00:38:59 WARN DAGScheduler: Broadcasting large task binary with size 3.2 MiB\n",
      "24/06/06 00:39:00 WARN DAGScheduler: Broadcasting large task binary with size 3.2 MiB\n",
      "24/06/06 00:39:00 WARN DAGScheduler: Broadcasting large task binary with size 3.2 MiB\n",
      "24/06/06 00:39:00 WARN DAGScheduler: Broadcasting large task binary with size 3.2 MiB\n",
      "24/06/06 00:39:00 WARN DAGScheduler: Broadcasting large task binary with size 3.2 MiB\n",
      "24/06/06 00:39:00 WARN DAGScheduler: Broadcasting large task binary with size 3.2 MiB\n",
      "24/06/06 00:39:00 WARN DAGScheduler: Broadcasting large task binary with size 3.2 MiB\n",
      "24/06/06 00:39:01 WARN DAGScheduler: Broadcasting large task binary with size 3.2 MiB\n",
      "24/06/06 00:39:01 WARN DAGScheduler: Broadcasting large task binary with size 3.2 MiB\n",
      "24/06/06 00:39:01 WARN DAGScheduler: Broadcasting large task binary with size 3.2 MiB\n",
      "24/06/06 00:39:02 WARN DAGScheduler: Broadcasting large task binary with size 3.2 MiB\n",
      "24/06/06 00:39:02 WARN DAGScheduler: Broadcasting large task binary with size 3.2 MiB\n",
      "24/06/06 00:39:02 WARN DAGScheduler: Broadcasting large task binary with size 3.2 MiB\n",
      "24/06/06 00:39:02 WARN DAGScheduler: Broadcasting large task binary with size 3.2 MiB\n",
      "24/06/06 00:39:02 WARN DAGScheduler: Broadcasting large task binary with size 3.2 MiB\n",
      "24/06/06 00:39:02 WARN DAGScheduler: Broadcasting large task binary with size 3.2 MiB\n",
      "24/06/06 00:39:03 WARN DAGScheduler: Broadcasting large task binary with size 3.2 MiB\n",
      "24/06/06 00:39:03 WARN DAGScheduler: Broadcasting large task binary with size 3.2 MiB\n",
      "24/06/06 00:39:03 WARN DAGScheduler: Broadcasting large task binary with size 3.2 MiB\n",
      "24/06/06 00:39:03 WARN DAGScheduler: Broadcasting large task binary with size 3.2 MiB\n",
      "24/06/06 00:39:04 WARN DAGScheduler: Broadcasting large task binary with size 3.2 MiB\n",
      "24/06/06 00:39:04 WARN DAGScheduler: Broadcasting large task binary with size 3.2 MiB\n",
      "24/06/06 00:39:04 WARN DAGScheduler: Broadcasting large task binary with size 3.2 MiB\n",
      "24/06/06 00:39:04 WARN DAGScheduler: Broadcasting large task binary with size 3.2 MiB\n",
      "24/06/06 00:39:04 WARN DAGScheduler: Broadcasting large task binary with size 3.2 MiB\n",
      "24/06/06 00:39:05 WARN DAGScheduler: Broadcasting large task binary with size 3.2 MiB\n",
      "24/06/06 00:39:05 WARN DAGScheduler: Broadcasting large task binary with size 3.2 MiB\n",
      "24/06/06 00:39:05 WARN DAGScheduler: Broadcasting large task binary with size 3.2 MiB\n",
      "24/06/06 00:39:06 WARN DAGScheduler: Broadcasting large task binary with size 3.2 MiB\n",
      "24/06/06 00:39:06 WARN DAGScheduler: Broadcasting large task binary with size 3.2 MiB\n",
      "24/06/06 00:39:06 WARN DAGScheduler: Broadcasting large task binary with size 3.2 MiB\n",
      "24/06/06 00:39:06 WARN DAGScheduler: Broadcasting large task binary with size 3.2 MiB\n",
      "24/06/06 00:39:06 WARN DAGScheduler: Broadcasting large task binary with size 3.2 MiB\n",
      "24/06/06 00:39:07 WARN DAGScheduler: Broadcasting large task binary with size 3.2 MiB\n",
      "24/06/06 00:39:07 WARN DAGScheduler: Broadcasting large task binary with size 3.2 MiB\n",
      "24/06/06 00:39:07 WARN DAGScheduler: Broadcasting large task binary with size 3.2 MiB\n",
      "24/06/06 00:39:07 WARN DAGScheduler: Broadcasting large task binary with size 3.2 MiB\n",
      "24/06/06 00:39:08 WARN DAGScheduler: Broadcasting large task binary with size 3.2 MiB\n",
      "24/06/06 00:39:08 WARN DAGScheduler: Broadcasting large task binary with size 3.2 MiB\n",
      "24/06/06 00:39:08 WARN DAGScheduler: Broadcasting large task binary with size 3.2 MiB\n",
      "24/06/06 00:39:08 WARN DAGScheduler: Broadcasting large task binary with size 3.2 MiB\n",
      "24/06/06 00:39:08 WARN DAGScheduler: Broadcasting large task binary with size 3.2 MiB\n",
      "24/06/06 00:39:09 WARN DAGScheduler: Broadcasting large task binary with size 3.2 MiB\n",
      "24/06/06 00:39:09 WARN DAGScheduler: Broadcasting large task binary with size 3.2 MiB\n",
      "24/06/06 00:39:09 WARN DAGScheduler: Broadcasting large task binary with size 3.2 MiB\n",
      "24/06/06 00:39:09 WARN DAGScheduler: Broadcasting large task binary with size 3.2 MiB\n",
      "24/06/06 00:39:09 WARN DAGScheduler: Broadcasting large task binary with size 3.2 MiB\n",
      "24/06/06 00:39:10 WARN DAGScheduler: Broadcasting large task binary with size 3.2 MiB\n",
      "24/06/06 00:39:10 WARN DAGScheduler: Broadcasting large task binary with size 3.2 MiB\n",
      "24/06/06 00:39:10 WARN DAGScheduler: Broadcasting large task binary with size 3.2 MiB\n",
      "24/06/06 00:39:10 WARN DAGScheduler: Broadcasting large task binary with size 3.2 MiB\n",
      "24/06/06 00:39:11 WARN DAGScheduler: Broadcasting large task binary with size 3.2 MiB\n",
      "24/06/06 00:39:11 WARN DAGScheduler: Broadcasting large task binary with size 3.2 MiB\n",
      "24/06/06 00:39:11 WARN DAGScheduler: Broadcasting large task binary with size 3.2 MiB\n",
      "24/06/06 00:39:11 WARN DAGScheduler: Broadcasting large task binary with size 3.2 MiB\n",
      "24/06/06 00:39:12 WARN DAGScheduler: Broadcasting large task binary with size 3.2 MiB\n",
      "24/06/06 00:39:12 WARN DAGScheduler: Broadcasting large task binary with size 3.2 MiB\n",
      "24/06/06 00:39:12 WARN DAGScheduler: Broadcasting large task binary with size 3.2 MiB\n",
      "24/06/06 00:39:12 WARN DAGScheduler: Broadcasting large task binary with size 3.2 MiB\n",
      "24/06/06 00:39:12 WARN DAGScheduler: Broadcasting large task binary with size 3.2 MiB\n",
      "24/06/06 00:39:12 WARN DAGScheduler: Broadcasting large task binary with size 3.2 MiB\n",
      "24/06/06 00:39:13 WARN DAGScheduler: Broadcasting large task binary with size 3.2 MiB\n",
      "24/06/06 00:39:13 WARN DAGScheduler: Broadcasting large task binary with size 3.2 MiB\n",
      "24/06/06 00:39:13 WARN DAGScheduler: Broadcasting large task binary with size 3.2 MiB\n",
      "24/06/06 00:39:13 WARN DAGScheduler: Broadcasting large task binary with size 3.2 MiB\n",
      "24/06/06 00:39:14 WARN DAGScheduler: Broadcasting large task binary with size 3.2 MiB\n",
      "24/06/06 00:39:14 WARN DAGScheduler: Broadcasting large task binary with size 3.2 MiB\n",
      "24/06/06 00:39:14 WARN DAGScheduler: Broadcasting large task binary with size 3.2 MiB\n",
      "24/06/06 00:39:14 WARN DAGScheduler: Broadcasting large task binary with size 3.2 MiB\n",
      "24/06/06 00:39:14 WARN DAGScheduler: Broadcasting large task binary with size 3.2 MiB\n",
      "24/06/06 00:39:15 WARN DAGScheduler: Broadcasting large task binary with size 3.2 MiB\n",
      "24/06/06 00:39:15 WARN DAGScheduler: Broadcasting large task binary with size 3.2 MiB\n",
      "24/06/06 00:39:15 WARN DAGScheduler: Broadcasting large task binary with size 3.2 MiB\n",
      "24/06/06 00:39:15 WARN DAGScheduler: Broadcasting large task binary with size 3.2 MiB\n"
     ]
    },
    {
     "name": "stderr",
     "output_type": "stream",
     "text": [
      "24/06/06 00:39:16 WARN DAGScheduler: Broadcasting large task binary with size 3.2 MiB\n",
      "24/06/06 00:39:16 WARN DAGScheduler: Broadcasting large task binary with size 3.2 MiB\n",
      "24/06/06 00:39:16 WARN DAGScheduler: Broadcasting large task binary with size 3.2 MiB\n",
      "24/06/06 00:39:16 WARN DAGScheduler: Broadcasting large task binary with size 3.2 MiB\n",
      "24/06/06 00:39:17 WARN DAGScheduler: Broadcasting large task binary with size 3.2 MiB\n",
      "24/06/06 00:39:17 WARN DAGScheduler: Broadcasting large task binary with size 3.2 MiB\n",
      "24/06/06 00:39:17 WARN DAGScheduler: Broadcasting large task binary with size 3.2 MiB\n",
      "24/06/06 00:39:17 WARN DAGScheduler: Broadcasting large task binary with size 3.2 MiB\n",
      "24/06/06 00:39:17 WARN DAGScheduler: Broadcasting large task binary with size 3.2 MiB\n",
      "24/06/06 00:39:17 WARN OnlineLDAOptimizer: The input data is not directly cached, which may hurt performance if its parent RDDs are also uncached.\n",
      "24/06/06 00:39:18 WARN DAGScheduler: Broadcasting large task binary with size 3.2 MiB\n",
      "24/06/06 00:39:18 WARN DAGScheduler: Broadcasting large task binary with size 3.2 MiB\n",
      "24/06/06 00:39:18 WARN DAGScheduler: Broadcasting large task binary with size 3.2 MiB\n",
      "24/06/06 00:39:18 WARN DAGScheduler: Broadcasting large task binary with size 3.2 MiB\n",
      "24/06/06 00:39:18 WARN DAGScheduler: Broadcasting large task binary with size 3.2 MiB\n",
      "24/06/06 00:39:18 WARN DAGScheduler: Broadcasting large task binary with size 3.2 MiB\n",
      "24/06/06 00:39:19 WARN DAGScheduler: Broadcasting large task binary with size 3.2 MiB\n",
      "24/06/06 00:39:19 WARN DAGScheduler: Broadcasting large task binary with size 3.2 MiB\n",
      "24/06/06 00:39:19 WARN DAGScheduler: Broadcasting large task binary with size 3.2 MiB\n",
      "24/06/06 00:39:19 WARN DAGScheduler: Broadcasting large task binary with size 3.2 MiB\n",
      "24/06/06 00:39:20 WARN DAGScheduler: Broadcasting large task binary with size 3.2 MiB\n",
      "24/06/06 00:39:20 WARN DAGScheduler: Broadcasting large task binary with size 3.2 MiB\n",
      "24/06/06 00:39:20 WARN DAGScheduler: Broadcasting large task binary with size 3.2 MiB\n",
      "24/06/06 00:39:21 WARN DAGScheduler: Broadcasting large task binary with size 3.2 MiB\n",
      "24/06/06 00:39:21 WARN DAGScheduler: Broadcasting large task binary with size 3.2 MiB\n",
      "24/06/06 00:39:21 WARN DAGScheduler: Broadcasting large task binary with size 3.2 MiB\n",
      "24/06/06 00:39:21 WARN DAGScheduler: Broadcasting large task binary with size 3.2 MiB\n",
      "24/06/06 00:39:21 WARN OnlineLDAOptimizer: The input data is not directly cached, which may hurt performance if its parent RDDs are also uncached.\n",
      "24/06/06 00:39:21 WARN DAGScheduler: Broadcasting large task binary with size 3.2 MiB\n",
      "24/06/06 00:39:21 WARN DAGScheduler: Broadcasting large task binary with size 3.2 MiB\n",
      "24/06/06 00:39:22 WARN DAGScheduler: Broadcasting large task binary with size 3.2 MiB\n",
      "24/06/06 00:39:22 WARN DAGScheduler: Broadcasting large task binary with size 3.2 MiB\n",
      "24/06/06 00:39:22 WARN DAGScheduler: Broadcasting large task binary with size 3.2 MiB\n",
      "24/06/06 00:39:22 WARN DAGScheduler: Broadcasting large task binary with size 3.2 MiB\n",
      "24/06/06 00:39:23 WARN DAGScheduler: Broadcasting large task binary with size 3.2 MiB\n",
      "24/06/06 00:39:23 WARN DAGScheduler: Broadcasting large task binary with size 3.2 MiB\n",
      "24/06/06 00:39:23 WARN DAGScheduler: Broadcasting large task binary with size 3.2 MiB\n",
      "24/06/06 00:39:23 WARN DAGScheduler: Broadcasting large task binary with size 3.2 MiB\n",
      "24/06/06 00:39:24 WARN DAGScheduler: Broadcasting large task binary with size 3.2 MiB\n",
      "24/06/06 00:39:24 WARN DAGScheduler: Broadcasting large task binary with size 3.2 MiB\n",
      "24/06/06 00:39:24 WARN DAGScheduler: Broadcasting large task binary with size 3.2 MiB\n",
      "24/06/06 00:39:24 WARN DAGScheduler: Broadcasting large task binary with size 3.2 MiB\n",
      "24/06/06 00:39:25 WARN DAGScheduler: Broadcasting large task binary with size 3.2 MiB\n",
      "24/06/06 00:39:25 WARN DAGScheduler: Broadcasting large task binary with size 3.2 MiB\n",
      "24/06/06 00:39:25 WARN DAGScheduler: Broadcasting large task binary with size 3.2 MiB\n",
      "24/06/06 00:39:25 WARN DAGScheduler: Broadcasting large task binary with size 3.2 MiB\n",
      "24/06/06 00:39:26 WARN DAGScheduler: Broadcasting large task binary with size 3.2 MiB\n",
      "24/06/06 00:39:26 WARN DAGScheduler: Broadcasting large task binary with size 3.2 MiB\n",
      "24/06/06 00:39:26 WARN DAGScheduler: Broadcasting large task binary with size 3.2 MiB\n",
      "24/06/06 00:39:26 WARN DAGScheduler: Broadcasting large task binary with size 3.2 MiB\n",
      "24/06/06 00:39:27 WARN DAGScheduler: Broadcasting large task binary with size 3.2 MiB\n",
      "24/06/06 00:39:27 WARN DAGScheduler: Broadcasting large task binary with size 3.2 MiB\n",
      "24/06/06 00:39:27 WARN DAGScheduler: Broadcasting large task binary with size 3.2 MiB\n",
      "24/06/06 00:39:27 WARN DAGScheduler: Broadcasting large task binary with size 3.2 MiB\n",
      "24/06/06 00:39:27 WARN DAGScheduler: Broadcasting large task binary with size 3.2 MiB\n",
      "24/06/06 00:39:28 WARN DAGScheduler: Broadcasting large task binary with size 3.2 MiB\n",
      "24/06/06 00:39:28 WARN DAGScheduler: Broadcasting large task binary with size 3.2 MiB\n",
      "24/06/06 00:39:28 WARN DAGScheduler: Broadcasting large task binary with size 3.2 MiB\n",
      "24/06/06 00:39:29 WARN DAGScheduler: Broadcasting large task binary with size 3.2 MiB\n",
      "24/06/06 00:39:29 WARN DAGScheduler: Broadcasting large task binary with size 3.2 MiB\n",
      "24/06/06 00:39:29 WARN DAGScheduler: Broadcasting large task binary with size 3.2 MiB\n",
      "24/06/06 00:39:29 WARN DAGScheduler: Broadcasting large task binary with size 3.2 MiB\n",
      "24/06/06 00:39:29 WARN DAGScheduler: Broadcasting large task binary with size 3.2 MiB\n",
      "24/06/06 00:39:30 WARN DAGScheduler: Broadcasting large task binary with size 3.2 MiB\n",
      "24/06/06 00:39:30 WARN DAGScheduler: Broadcasting large task binary with size 3.2 MiB\n",
      "24/06/06 00:39:30 WARN DAGScheduler: Broadcasting large task binary with size 3.2 MiB\n",
      "24/06/06 00:39:30 WARN DAGScheduler: Broadcasting large task binary with size 3.2 MiB\n",
      "24/06/06 00:39:31 WARN DAGScheduler: Broadcasting large task binary with size 3.2 MiB\n",
      "24/06/06 00:39:31 WARN DAGScheduler: Broadcasting large task binary with size 3.2 MiB\n",
      "24/06/06 00:39:31 WARN DAGScheduler: Broadcasting large task binary with size 3.2 MiB\n",
      "24/06/06 00:39:31 WARN DAGScheduler: Broadcasting large task binary with size 3.2 MiB\n",
      "24/06/06 00:39:32 WARN DAGScheduler: Broadcasting large task binary with size 3.2 MiB\n",
      "24/06/06 00:39:32 WARN DAGScheduler: Broadcasting large task binary with size 3.2 MiB\n",
      "24/06/06 00:39:32 WARN DAGScheduler: Broadcasting large task binary with size 3.2 MiB\n",
      "24/06/06 00:39:32 WARN DAGScheduler: Broadcasting large task binary with size 3.2 MiB\n",
      "24/06/06 00:39:32 WARN DAGScheduler: Broadcasting large task binary with size 3.2 MiB\n",
      "24/06/06 00:39:33 WARN DAGScheduler: Broadcasting large task binary with size 3.2 MiB\n",
      "24/06/06 00:39:33 WARN DAGScheduler: Broadcasting large task binary with size 3.2 MiB\n",
      "24/06/06 00:39:33 WARN DAGScheduler: Broadcasting large task binary with size 3.2 MiB\n",
      "24/06/06 00:39:33 WARN DAGScheduler: Broadcasting large task binary with size 3.2 MiB\n",
      "24/06/06 00:39:34 WARN DAGScheduler: Broadcasting large task binary with size 3.2 MiB\n",
      "24/06/06 00:39:34 WARN DAGScheduler: Broadcasting large task binary with size 3.2 MiB\n",
      "24/06/06 00:39:34 WARN DAGScheduler: Broadcasting large task binary with size 3.2 MiB\n",
      "24/06/06 00:39:34 WARN DAGScheduler: Broadcasting large task binary with size 3.2 MiB\n",
      "24/06/06 00:39:34 WARN DAGScheduler: Broadcasting large task binary with size 3.2 MiB\n",
      "24/06/06 00:39:35 WARN DAGScheduler: Broadcasting large task binary with size 3.2 MiB\n",
      "24/06/06 00:39:35 WARN DAGScheduler: Broadcasting large task binary with size 3.2 MiB\n",
      "24/06/06 00:39:35 WARN DAGScheduler: Broadcasting large task binary with size 3.2 MiB\n",
      "24/06/06 00:39:35 WARN DAGScheduler: Broadcasting large task binary with size 3.2 MiB\n",
      "24/06/06 00:39:36 WARN DAGScheduler: Broadcasting large task binary with size 3.2 MiB\n",
      "24/06/06 00:39:36 WARN DAGScheduler: Broadcasting large task binary with size 3.2 MiB\n",
      "24/06/06 00:39:36 WARN DAGScheduler: Broadcasting large task binary with size 3.2 MiB\n",
      "24/06/06 00:39:36 WARN DAGScheduler: Broadcasting large task binary with size 3.2 MiB\n",
      "24/06/06 00:39:36 WARN DAGScheduler: Broadcasting large task binary with size 3.2 MiB\n"
     ]
    },
    {
     "name": "stderr",
     "output_type": "stream",
     "text": [
      "24/06/06 00:39:37 WARN DAGScheduler: Broadcasting large task binary with size 3.2 MiB\n",
      "24/06/06 00:39:37 WARN DAGScheduler: Broadcasting large task binary with size 3.2 MiB\n",
      "24/06/06 00:39:37 WARN DAGScheduler: Broadcasting large task binary with size 3.2 MiB\n",
      "24/06/06 00:39:38 WARN DAGScheduler: Broadcasting large task binary with size 3.2 MiB\n",
      "24/06/06 00:39:38 WARN DAGScheduler: Broadcasting large task binary with size 3.2 MiB\n",
      "24/06/06 00:39:38 WARN DAGScheduler: Broadcasting large task binary with size 3.2 MiB\n",
      "24/06/06 00:39:38 WARN DAGScheduler: Broadcasting large task binary with size 3.2 MiB\n",
      "24/06/06 00:39:38 WARN DAGScheduler: Broadcasting large task binary with size 3.2 MiB\n",
      "24/06/06 00:39:38 WARN DAGScheduler: Broadcasting large task binary with size 3.2 MiB\n",
      "24/06/06 00:39:39 WARN DAGScheduler: Broadcasting large task binary with size 3.2 MiB\n",
      "24/06/06 00:39:39 WARN DAGScheduler: Broadcasting large task binary with size 3.2 MiB\n",
      "24/06/06 00:39:39 WARN DAGScheduler: Broadcasting large task binary with size 3.2 MiB\n",
      "24/06/06 00:39:39 WARN DAGScheduler: Broadcasting large task binary with size 3.2 MiB\n",
      "24/06/06 00:39:40 WARN DAGScheduler: Broadcasting large task binary with size 3.2 MiB\n",
      "24/06/06 00:39:40 WARN DAGScheduler: Broadcasting large task binary with size 3.2 MiB\n",
      "24/06/06 00:39:40 WARN DAGScheduler: Broadcasting large task binary with size 3.2 MiB\n",
      "24/06/06 00:39:40 WARN DAGScheduler: Broadcasting large task binary with size 3.2 MiB\n",
      "24/06/06 00:39:40 WARN DAGScheduler: Broadcasting large task binary with size 3.2 MiB\n",
      "24/06/06 00:39:41 WARN DAGScheduler: Broadcasting large task binary with size 3.2 MiB\n",
      "24/06/06 00:39:41 WARN DAGScheduler: Broadcasting large task binary with size 3.2 MiB\n",
      "24/06/06 00:39:41 WARN DAGScheduler: Broadcasting large task binary with size 3.2 MiB\n",
      "24/06/06 00:39:42 WARN DAGScheduler: Broadcasting large task binary with size 3.2 MiB\n",
      "24/06/06 00:39:42 WARN DAGScheduler: Broadcasting large task binary with size 3.2 MiB\n",
      "24/06/06 00:39:42 WARN DAGScheduler: Broadcasting large task binary with size 3.2 MiB\n",
      "24/06/06 00:39:42 WARN DAGScheduler: Broadcasting large task binary with size 3.2 MiB\n",
      "24/06/06 00:39:42 WARN DAGScheduler: Broadcasting large task binary with size 3.2 MiB\n",
      "24/06/06 00:39:42 WARN DAGScheduler: Broadcasting large task binary with size 3.2 MiB\n",
      "24/06/06 00:39:43 WARN DAGScheduler: Broadcasting large task binary with size 3.2 MiB\n",
      "24/06/06 00:39:43 WARN DAGScheduler: Broadcasting large task binary with size 3.2 MiB\n",
      "24/06/06 00:39:43 WARN DAGScheduler: Broadcasting large task binary with size 3.2 MiB\n",
      "24/06/06 00:39:43 WARN DAGScheduler: Broadcasting large task binary with size 3.2 MiB\n",
      "24/06/06 00:39:44 WARN DAGScheduler: Broadcasting large task binary with size 3.2 MiB\n",
      "24/06/06 00:39:44 WARN OnlineLDAOptimizer: The input data is not directly cached, which may hurt performance if its parent RDDs are also uncached.\n",
      "24/06/06 00:39:44 WARN DAGScheduler: Broadcasting large task binary with size 3.2 MiB\n",
      "24/06/06 00:39:44 WARN DAGScheduler: Broadcasting large task binary with size 3.2 MiB\n",
      "24/06/06 00:39:44 WARN DAGScheduler: Broadcasting large task binary with size 3.2 MiB\n",
      "24/06/06 00:39:45 WARN DAGScheduler: Broadcasting large task binary with size 3.2 MiB\n",
      "24/06/06 00:39:45 WARN DAGScheduler: Broadcasting large task binary with size 3.2 MiB\n",
      "24/06/06 00:39:45 WARN DAGScheduler: Broadcasting large task binary with size 3.2 MiB\n",
      "24/06/06 00:39:45 WARN DAGScheduler: Broadcasting large task binary with size 3.2 MiB\n",
      "24/06/06 00:39:46 WARN DAGScheduler: Broadcasting large task binary with size 3.2 MiB\n",
      "24/06/06 00:39:46 WARN DAGScheduler: Broadcasting large task binary with size 3.2 MiB\n",
      "24/06/06 00:39:46 WARN DAGScheduler: Broadcasting large task binary with size 3.2 MiB\n",
      "24/06/06 00:39:46 WARN DAGScheduler: Broadcasting large task binary with size 3.2 MiB\n",
      "24/06/06 00:39:47 WARN DAGScheduler: Broadcasting large task binary with size 3.2 MiB\n",
      "24/06/06 00:39:47 WARN DAGScheduler: Broadcasting large task binary with size 3.2 MiB\n",
      "24/06/06 00:39:47 WARN DAGScheduler: Broadcasting large task binary with size 3.2 MiB\n",
      "24/06/06 00:39:47 WARN DAGScheduler: Broadcasting large task binary with size 3.2 MiB\n",
      "24/06/06 00:39:48 WARN DAGScheduler: Broadcasting large task binary with size 3.2 MiB\n",
      "24/06/06 00:39:48 WARN DAGScheduler: Broadcasting large task binary with size 3.2 MiB\n",
      "24/06/06 00:39:48 WARN DAGScheduler: Broadcasting large task binary with size 3.2 MiB\n",
      "24/06/06 00:39:48 WARN DAGScheduler: Broadcasting large task binary with size 3.2 MiB\n",
      "24/06/06 00:39:49 WARN DAGScheduler: Broadcasting large task binary with size 3.2 MiB\n",
      "24/06/06 00:39:49 WARN DAGScheduler: Broadcasting large task binary with size 3.2 MiB\n",
      "24/06/06 00:39:49 WARN DAGScheduler: Broadcasting large task binary with size 3.2 MiB\n",
      "24/06/06 00:39:49 WARN DAGScheduler: Broadcasting large task binary with size 3.2 MiB\n",
      "24/06/06 00:39:49 WARN DAGScheduler: Broadcasting large task binary with size 3.2 MiB\n",
      "24/06/06 00:39:50 WARN DAGScheduler: Broadcasting large task binary with size 3.2 MiB\n",
      "24/06/06 00:39:50 WARN DAGScheduler: Broadcasting large task binary with size 3.2 MiB\n",
      "24/06/06 00:39:50 WARN DAGScheduler: Broadcasting large task binary with size 3.2 MiB\n",
      "24/06/06 00:39:50 WARN DAGScheduler: Broadcasting large task binary with size 3.2 MiB\n",
      "24/06/06 00:39:51 WARN DAGScheduler: Broadcasting large task binary with size 3.2 MiB\n",
      "24/06/06 00:39:51 WARN DAGScheduler: Broadcasting large task binary with size 3.2 MiB\n",
      "24/06/06 00:39:51 WARN DAGScheduler: Broadcasting large task binary with size 3.2 MiB\n",
      "24/06/06 00:39:51 WARN DAGScheduler: Broadcasting large task binary with size 3.2 MiB\n",
      "24/06/06 00:39:51 WARN DAGScheduler: Broadcasting large task binary with size 3.2 MiB\n",
      "24/06/06 00:39:52 WARN DAGScheduler: Broadcasting large task binary with size 3.2 MiB\n",
      "24/06/06 00:39:52 WARN DAGScheduler: Broadcasting large task binary with size 3.2 MiB\n",
      "24/06/06 00:39:52 WARN DAGScheduler: Broadcasting large task binary with size 3.2 MiB\n",
      "24/06/06 00:39:53 WARN DAGScheduler: Broadcasting large task binary with size 3.2 MiB\n",
      "24/06/06 00:39:53 WARN DAGScheduler: Broadcasting large task binary with size 3.2 MiB\n",
      "24/06/06 00:39:53 WARN DAGScheduler: Broadcasting large task binary with size 3.2 MiB\n",
      "24/06/06 00:39:53 WARN DAGScheduler: Broadcasting large task binary with size 3.2 MiB\n",
      "24/06/06 00:39:53 WARN OnlineLDAOptimizer: The input data is not directly cached, which may hurt performance if its parent RDDs are also uncached.\n",
      "24/06/06 00:39:53 WARN DAGScheduler: Broadcasting large task binary with size 3.2 MiB\n",
      "24/06/06 00:39:54 WARN DAGScheduler: Broadcasting large task binary with size 3.2 MiB\n",
      "24/06/06 00:39:54 WARN DAGScheduler: Broadcasting large task binary with size 3.2 MiB\n",
      "24/06/06 00:39:54 WARN DAGScheduler: Broadcasting large task binary with size 3.2 MiB\n",
      "24/06/06 00:39:54 WARN DAGScheduler: Broadcasting large task binary with size 3.2 MiB\n",
      "24/06/06 00:39:55 WARN DAGScheduler: Broadcasting large task binary with size 3.2 MiB\n",
      "24/06/06 00:39:55 WARN DAGScheduler: Broadcasting large task binary with size 3.2 MiB\n",
      "24/06/06 00:39:55 WARN DAGScheduler: Broadcasting large task binary with size 3.2 MiB\n",
      "24/06/06 00:39:56 WARN DAGScheduler: Broadcasting large task binary with size 3.2 MiB\n",
      "24/06/06 00:39:56 WARN DAGScheduler: Broadcasting large task binary with size 3.2 MiB\n",
      "24/06/06 00:39:56 WARN DAGScheduler: Broadcasting large task binary with size 3.2 MiB\n",
      "24/06/06 00:39:56 WARN DAGScheduler: Broadcasting large task binary with size 3.2 MiB\n",
      "24/06/06 00:39:57 WARN DAGScheduler: Broadcasting large task binary with size 3.2 MiB\n",
      "24/06/06 00:39:57 WARN DAGScheduler: Broadcasting large task binary with size 3.2 MiB\n",
      "24/06/06 00:39:57 WARN DAGScheduler: Broadcasting large task binary with size 3.2 MiB\n",
      "24/06/06 00:39:58 WARN DAGScheduler: Broadcasting large task binary with size 3.2 MiB\n",
      "24/06/06 00:39:58 WARN DAGScheduler: Broadcasting large task binary with size 3.2 MiB\n",
      "24/06/06 00:39:58 WARN DAGScheduler: Broadcasting large task binary with size 3.2 MiB\n",
      "24/06/06 00:39:58 WARN DAGScheduler: Broadcasting large task binary with size 3.2 MiB\n",
      "24/06/06 00:39:59 WARN DAGScheduler: Broadcasting large task binary with size 3.2 MiB\n",
      "24/06/06 00:39:59 WARN DAGScheduler: Broadcasting large task binary with size 3.2 MiB\n"
     ]
    },
    {
     "name": "stderr",
     "output_type": "stream",
     "text": [
      "24/06/06 00:39:59 WARN DAGScheduler: Broadcasting large task binary with size 3.2 MiB\n",
      "24/06/06 00:39:59 WARN DAGScheduler: Broadcasting large task binary with size 3.2 MiB\n",
      "24/06/06 00:39:59 WARN DAGScheduler: Broadcasting large task binary with size 3.2 MiB\n",
      "24/06/06 00:40:00 WARN DAGScheduler: Broadcasting large task binary with size 3.2 MiB\n",
      "24/06/06 00:40:00 WARN DAGScheduler: Broadcasting large task binary with size 3.2 MiB\n",
      "24/06/06 00:40:00 WARN DAGScheduler: Broadcasting large task binary with size 3.2 MiB\n",
      "24/06/06 00:40:01 WARN DAGScheduler: Broadcasting large task binary with size 3.2 MiB\n",
      "24/06/06 00:40:01 WARN DAGScheduler: Broadcasting large task binary with size 3.2 MiB\n",
      "24/06/06 00:40:01 WARN DAGScheduler: Broadcasting large task binary with size 3.2 MiB\n",
      "24/06/06 00:40:01 WARN DAGScheduler: Broadcasting large task binary with size 3.2 MiB\n",
      "24/06/06 00:40:02 WARN DAGScheduler: Broadcasting large task binary with size 3.2 MiB\n",
      "24/06/06 00:40:02 WARN DAGScheduler: Broadcasting large task binary with size 3.2 MiB\n",
      "24/06/06 00:40:02 WARN DAGScheduler: Broadcasting large task binary with size 3.2 MiB\n",
      "24/06/06 00:40:02 WARN DAGScheduler: Broadcasting large task binary with size 3.2 MiB\n",
      "24/06/06 00:40:03 WARN DAGScheduler: Broadcasting large task binary with size 3.2 MiB\n",
      "24/06/06 00:40:03 WARN DAGScheduler: Broadcasting large task binary with size 3.2 MiB\n",
      "24/06/06 00:40:03 WARN DAGScheduler: Broadcasting large task binary with size 3.2 MiB\n",
      "24/06/06 00:40:03 WARN DAGScheduler: Broadcasting large task binary with size 3.2 MiB\n",
      "24/06/06 00:40:04 WARN DAGScheduler: Broadcasting large task binary with size 3.2 MiB\n",
      "24/06/06 00:40:04 WARN DAGScheduler: Broadcasting large task binary with size 3.2 MiB\n",
      "24/06/06 00:40:04 WARN DAGScheduler: Broadcasting large task binary with size 3.2 MiB\n",
      "24/06/06 00:40:04 WARN DAGScheduler: Broadcasting large task binary with size 3.2 MiB\n",
      "24/06/06 00:40:05 WARN DAGScheduler: Broadcasting large task binary with size 3.2 MiB\n",
      "24/06/06 00:40:05 WARN DAGScheduler: Broadcasting large task binary with size 3.2 MiB\n",
      "24/06/06 00:40:05 WARN DAGScheduler: Broadcasting large task binary with size 3.2 MiB\n",
      "24/06/06 00:40:06 WARN DAGScheduler: Broadcasting large task binary with size 3.2 MiB\n",
      "24/06/06 00:40:06 WARN DAGScheduler: Broadcasting large task binary with size 3.2 MiB\n",
      "24/06/06 00:40:06 WARN DAGScheduler: Broadcasting large task binary with size 3.2 MiB\n",
      "24/06/06 00:40:06 WARN DAGScheduler: Broadcasting large task binary with size 3.2 MiB\n",
      "24/06/06 00:40:07 WARN DAGScheduler: Broadcasting large task binary with size 3.2 MiB\n",
      "24/06/06 00:40:07 WARN DAGScheduler: Broadcasting large task binary with size 3.2 MiB\n",
      "24/06/06 00:40:07 WARN DAGScheduler: Broadcasting large task binary with size 3.2 MiB\n",
      "24/06/06 00:40:07 WARN DAGScheduler: Broadcasting large task binary with size 3.2 MiB\n",
      "24/06/06 00:40:07 WARN DAGScheduler: Broadcasting large task binary with size 3.2 MiB\n",
      "24/06/06 00:40:08 WARN DAGScheduler: Broadcasting large task binary with size 3.2 MiB\n",
      "24/06/06 00:40:08 WARN DAGScheduler: Broadcasting large task binary with size 3.2 MiB\n",
      "24/06/06 00:40:08 WARN DAGScheduler: Broadcasting large task binary with size 3.2 MiB\n",
      "24/06/06 00:40:08 WARN DAGScheduler: Broadcasting large task binary with size 3.2 MiB\n",
      "24/06/06 00:40:09 WARN DAGScheduler: Broadcasting large task binary with size 3.2 MiB\n",
      "24/06/06 00:40:09 WARN DAGScheduler: Broadcasting large task binary with size 3.2 MiB\n",
      "24/06/06 00:40:09 WARN DAGScheduler: Broadcasting large task binary with size 3.2 MiB\n",
      "24/06/06 00:40:09 WARN DAGScheduler: Broadcasting large task binary with size 3.2 MiB\n",
      "24/06/06 00:40:10 WARN DAGScheduler: Broadcasting large task binary with size 3.2 MiB\n",
      "24/06/06 00:40:10 WARN DAGScheduler: Broadcasting large task binary with size 3.2 MiB\n",
      "24/06/06 00:40:10 WARN DAGScheduler: Broadcasting large task binary with size 3.2 MiB\n",
      "24/06/06 00:40:10 WARN DAGScheduler: Broadcasting large task binary with size 3.2 MiB\n",
      "24/06/06 00:40:11 WARN DAGScheduler: Broadcasting large task binary with size 3.2 MiB\n",
      "24/06/06 00:40:11 WARN DAGScheduler: Broadcasting large task binary with size 3.2 MiB\n",
      "24/06/06 00:40:11 WARN DAGScheduler: Broadcasting large task binary with size 3.2 MiB\n",
      "24/06/06 00:40:11 WARN DAGScheduler: Broadcasting large task binary with size 3.2 MiB\n",
      "24/06/06 00:40:12 WARN DAGScheduler: Broadcasting large task binary with size 3.2 MiB\n",
      "24/06/06 00:40:12 WARN DAGScheduler: Broadcasting large task binary with size 3.2 MiB\n",
      "24/06/06 00:40:12 WARN DAGScheduler: Broadcasting large task binary with size 3.2 MiB\n",
      "24/06/06 00:40:12 WARN DAGScheduler: Broadcasting large task binary with size 3.2 MiB\n",
      "24/06/06 00:40:13 WARN DAGScheduler: Broadcasting large task binary with size 3.2 MiB\n",
      "24/06/06 00:40:13 WARN DAGScheduler: Broadcasting large task binary with size 3.2 MiB\n",
      "24/06/06 00:40:13 WARN DAGScheduler: Broadcasting large task binary with size 3.2 MiB\n",
      "24/06/06 00:40:13 WARN DAGScheduler: Broadcasting large task binary with size 3.2 MiB\n",
      "24/06/06 00:40:14 WARN DAGScheduler: Broadcasting large task binary with size 3.2 MiB\n",
      "24/06/06 00:40:14 WARN DAGScheduler: Broadcasting large task binary with size 3.2 MiB\n",
      "24/06/06 00:40:14 WARN DAGScheduler: Broadcasting large task binary with size 3.2 MiB\n",
      "24/06/06 00:40:14 WARN DAGScheduler: Broadcasting large task binary with size 3.2 MiB\n",
      "24/06/06 00:40:15 WARN DAGScheduler: Broadcasting large task binary with size 3.2 MiB\n",
      "24/06/06 00:40:15 WARN DAGScheduler: Broadcasting large task binary with size 3.2 MiB\n",
      "24/06/06 00:40:15 WARN DAGScheduler: Broadcasting large task binary with size 3.2 MiB\n",
      "24/06/06 00:40:15 WARN DAGScheduler: Broadcasting large task binary with size 3.2 MiB\n",
      "24/06/06 00:40:16 WARN DAGScheduler: Broadcasting large task binary with size 3.2 MiB\n",
      "24/06/06 00:40:16 WARN DAGScheduler: Broadcasting large task binary with size 3.2 MiB\n",
      "24/06/06 00:40:16 WARN DAGScheduler: Broadcasting large task binary with size 3.2 MiB\n",
      "24/06/06 00:40:16 WARN DAGScheduler: Broadcasting large task binary with size 3.2 MiB\n",
      "24/06/06 00:40:16 WARN DAGScheduler: Broadcasting large task binary with size 3.2 MiB\n",
      "24/06/06 00:40:17 WARN DAGScheduler: Broadcasting large task binary with size 3.2 MiB\n",
      "24/06/06 00:40:17 WARN DAGScheduler: Broadcasting large task binary with size 3.2 MiB\n",
      "24/06/06 00:40:18 WARN DAGScheduler: Broadcasting large task binary with size 3.2 MiB\n",
      "24/06/06 00:40:18 WARN DAGScheduler: Broadcasting large task binary with size 3.2 MiB\n",
      "24/06/06 00:40:18 WARN DAGScheduler: Broadcasting large task binary with size 3.2 MiB\n",
      "24/06/06 00:40:18 WARN DAGScheduler: Broadcasting large task binary with size 3.2 MiB\n",
      "24/06/06 00:40:18 WARN DAGScheduler: Broadcasting large task binary with size 3.2 MiB\n",
      "24/06/06 00:40:18 WARN OnlineLDAOptimizer: The input data is not directly cached, which may hurt performance if its parent RDDs are also uncached.\n",
      "24/06/06 00:40:18 WARN DAGScheduler: Broadcasting large task binary with size 3.2 MiB\n",
      "24/06/06 00:40:19 WARN DAGScheduler: Broadcasting large task binary with size 3.2 MiB\n",
      "24/06/06 00:40:19 WARN DAGScheduler: Broadcasting large task binary with size 3.2 MiB\n",
      "24/06/06 00:40:19 WARN DAGScheduler: Broadcasting large task binary with size 3.2 MiB\n",
      "24/06/06 00:40:19 WARN DAGScheduler: Broadcasting large task binary with size 3.2 MiB\n",
      "24/06/06 00:40:20 WARN DAGScheduler: Broadcasting large task binary with size 3.2 MiB\n",
      "24/06/06 00:40:20 WARN DAGScheduler: Broadcasting large task binary with size 3.2 MiB\n",
      "24/06/06 00:40:20 WARN DAGScheduler: Broadcasting large task binary with size 3.2 MiB\n",
      "24/06/06 00:40:21 WARN DAGScheduler: Broadcasting large task binary with size 3.2 MiB\n",
      "24/06/06 00:40:21 WARN DAGScheduler: Broadcasting large task binary with size 3.2 MiB\n",
      "24/06/06 00:40:21 WARN DAGScheduler: Broadcasting large task binary with size 3.2 MiB\n",
      "24/06/06 00:40:22 WARN DAGScheduler: Broadcasting large task binary with size 3.2 MiB\n",
      "24/06/06 00:40:22 WARN DAGScheduler: Broadcasting large task binary with size 3.2 MiB\n",
      "24/06/06 00:40:22 WARN DAGScheduler: Broadcasting large task binary with size 3.2 MiB\n",
      "24/06/06 00:40:22 WARN DAGScheduler: Broadcasting large task binary with size 3.2 MiB\n",
      "24/06/06 00:40:22 WARN DAGScheduler: Broadcasting large task binary with size 3.2 MiB\n"
     ]
    },
    {
     "name": "stderr",
     "output_type": "stream",
     "text": [
      "24/06/06 00:40:23 WARN DAGScheduler: Broadcasting large task binary with size 3.2 MiB\n",
      "24/06/06 00:40:23 WARN DAGScheduler: Broadcasting large task binary with size 3.2 MiB\n",
      "24/06/06 00:40:23 WARN DAGScheduler: Broadcasting large task binary with size 3.2 MiB\n",
      "24/06/06 00:40:23 WARN DAGScheduler: Broadcasting large task binary with size 3.2 MiB\n",
      "24/06/06 00:40:24 WARN DAGScheduler: Broadcasting large task binary with size 3.2 MiB\n",
      "24/06/06 00:40:24 WARN DAGScheduler: Broadcasting large task binary with size 3.2 MiB\n",
      "24/06/06 00:40:24 WARN DAGScheduler: Broadcasting large task binary with size 3.2 MiB\n",
      "24/06/06 00:40:25 WARN DAGScheduler: Broadcasting large task binary with size 3.2 MiB\n",
      "24/06/06 00:40:25 WARN DAGScheduler: Broadcasting large task binary with size 3.2 MiB\n",
      "24/06/06 00:40:25 WARN DAGScheduler: Broadcasting large task binary with size 3.2 MiB\n",
      "24/06/06 00:40:25 WARN DAGScheduler: Broadcasting large task binary with size 3.2 MiB\n",
      "24/06/06 00:40:26 WARN DAGScheduler: Broadcasting large task binary with size 3.2 MiB\n",
      "24/06/06 00:40:26 WARN OnlineLDAOptimizer: The input data is not directly cached, which may hurt performance if its parent RDDs are also uncached.\n",
      "24/06/06 00:40:26 WARN DAGScheduler: Broadcasting large task binary with size 3.2 MiB\n",
      "24/06/06 00:40:26 WARN DAGScheduler: Broadcasting large task binary with size 3.2 MiB\n",
      "24/06/06 00:40:26 WARN DAGScheduler: Broadcasting large task binary with size 3.2 MiB\n",
      "24/06/06 00:40:27 WARN DAGScheduler: Broadcasting large task binary with size 3.2 MiB\n",
      "24/06/06 00:40:27 WARN DAGScheduler: Broadcasting large task binary with size 3.2 MiB\n",
      "24/06/06 00:40:27 WARN DAGScheduler: Broadcasting large task binary with size 3.2 MiB\n",
      "24/06/06 00:40:27 WARN DAGScheduler: Broadcasting large task binary with size 3.2 MiB\n",
      "24/06/06 00:40:28 WARN DAGScheduler: Broadcasting large task binary with size 3.2 MiB\n",
      "24/06/06 00:40:28 WARN DAGScheduler: Broadcasting large task binary with size 3.2 MiB\n",
      "24/06/06 00:40:28 WARN DAGScheduler: Broadcasting large task binary with size 3.2 MiB\n",
      "24/06/06 00:40:29 WARN DAGScheduler: Broadcasting large task binary with size 3.2 MiB\n",
      "24/06/06 00:40:29 WARN DAGScheduler: Broadcasting large task binary with size 3.2 MiB\n",
      "24/06/06 00:40:29 WARN DAGScheduler: Broadcasting large task binary with size 3.2 MiB\n",
      "24/06/06 00:40:30 WARN DAGScheduler: Broadcasting large task binary with size 3.2 MiB\n",
      "24/06/06 00:40:30 WARN DAGScheduler: Broadcasting large task binary with size 3.2 MiB\n",
      "24/06/06 00:40:31 WARN DAGScheduler: Broadcasting large task binary with size 3.2 MiB\n",
      "24/06/06 00:40:31 WARN DAGScheduler: Broadcasting large task binary with size 3.2 MiB\n",
      "24/06/06 00:40:31 WARN DAGScheduler: Broadcasting large task binary with size 3.2 MiB\n",
      "24/06/06 00:40:31 WARN DAGScheduler: Broadcasting large task binary with size 3.2 MiB\n",
      "24/06/06 00:40:31 WARN DAGScheduler: Broadcasting large task binary with size 3.2 MiB\n",
      "24/06/06 00:40:31 WARN OnlineLDAOptimizer: The input data is not directly cached, which may hurt performance if its parent RDDs are also uncached.\n",
      "24/06/06 00:40:32 WARN DAGScheduler: Broadcasting large task binary with size 3.2 MiB\n",
      "24/06/06 00:40:32 WARN DAGScheduler: Broadcasting large task binary with size 3.2 MiB\n",
      "24/06/06 00:40:32 WARN DAGScheduler: Broadcasting large task binary with size 3.2 MiB\n",
      "24/06/06 00:40:32 WARN DAGScheduler: Broadcasting large task binary with size 3.2 MiB\n",
      "24/06/06 00:40:32 WARN DAGScheduler: Broadcasting large task binary with size 3.2 MiB\n",
      "24/06/06 00:40:33 WARN DAGScheduler: Broadcasting large task binary with size 3.2 MiB\n",
      "24/06/06 00:40:33 WARN DAGScheduler: Broadcasting large task binary with size 3.2 MiB\n",
      "24/06/06 00:40:34 WARN DAGScheduler: Broadcasting large task binary with size 3.2 MiB\n",
      "24/06/06 00:40:34 WARN DAGScheduler: Broadcasting large task binary with size 3.2 MiB\n",
      "24/06/06 00:40:34 WARN DAGScheduler: Broadcasting large task binary with size 3.2 MiB\n",
      "24/06/06 00:40:35 WARN DAGScheduler: Broadcasting large task binary with size 3.2 MiB\n",
      "24/06/06 00:40:35 WARN DAGScheduler: Broadcasting large task binary with size 3.2 MiB\n",
      "24/06/06 00:40:35 WARN DAGScheduler: Broadcasting large task binary with size 3.2 MiB\n",
      "24/06/06 00:40:36 WARN DAGScheduler: Broadcasting large task binary with size 3.2 MiB\n",
      "24/06/06 00:40:36 WARN DAGScheduler: Broadcasting large task binary with size 3.2 MiB\n",
      "24/06/06 00:40:36 WARN DAGScheduler: Broadcasting large task binary with size 3.2 MiB\n",
      "24/06/06 00:40:36 WARN DAGScheduler: Broadcasting large task binary with size 3.2 MiB\n",
      "24/06/06 00:40:36 WARN DAGScheduler: Broadcasting large task binary with size 3.2 MiB\n",
      "24/06/06 00:40:37 WARN DAGScheduler: Broadcasting large task binary with size 3.2 MiB\n",
      "24/06/06 00:40:37 WARN DAGScheduler: Broadcasting large task binary with size 3.2 MiB\n",
      "24/06/06 00:40:37 WARN DAGScheduler: Broadcasting large task binary with size 3.2 MiB\n",
      "24/06/06 00:40:38 WARN DAGScheduler: Broadcasting large task binary with size 3.2 MiB\n",
      "24/06/06 00:40:38 WARN DAGScheduler: Broadcasting large task binary with size 3.2 MiB\n",
      "24/06/06 00:40:38 WARN DAGScheduler: Broadcasting large task binary with size 3.2 MiB\n",
      "24/06/06 00:40:38 WARN DAGScheduler: Broadcasting large task binary with size 3.2 MiB\n",
      "24/06/06 00:40:39 WARN DAGScheduler: Broadcasting large task binary with size 3.2 MiB\n",
      "24/06/06 00:40:39 WARN DAGScheduler: Broadcasting large task binary with size 3.2 MiB\n",
      "24/06/06 00:40:39 WARN DAGScheduler: Broadcasting large task binary with size 3.2 MiB\n",
      "24/06/06 00:40:39 WARN DAGScheduler: Broadcasting large task binary with size 3.2 MiB\n",
      "24/06/06 00:40:40 WARN DAGScheduler: Broadcasting large task binary with size 3.2 MiB\n",
      "24/06/06 00:40:40 WARN DAGScheduler: Broadcasting large task binary with size 3.2 MiB\n",
      "24/06/06 00:40:40 WARN DAGScheduler: Broadcasting large task binary with size 3.2 MiB\n",
      "24/06/06 00:40:41 WARN DAGScheduler: Broadcasting large task binary with size 3.2 MiB\n",
      "24/06/06 00:40:41 WARN DAGScheduler: Broadcasting large task binary with size 3.2 MiB\n",
      "24/06/06 00:40:41 WARN DAGScheduler: Broadcasting large task binary with size 3.2 MiB\n",
      "24/06/06 00:40:41 WARN DAGScheduler: Broadcasting large task binary with size 3.2 MiB\n",
      "24/06/06 00:40:42 WARN DAGScheduler: Broadcasting large task binary with size 3.2 MiB\n",
      "24/06/06 00:40:42 WARN DAGScheduler: Broadcasting large task binary with size 3.2 MiB\n",
      "24/06/06 00:40:42 WARN DAGScheduler: Broadcasting large task binary with size 3.2 MiB\n",
      "24/06/06 00:40:42 WARN DAGScheduler: Broadcasting large task binary with size 3.2 MiB\n",
      "24/06/06 00:40:43 WARN DAGScheduler: Broadcasting large task binary with size 3.2 MiB\n",
      "24/06/06 00:40:43 WARN DAGScheduler: Broadcasting large task binary with size 3.2 MiB\n",
      "24/06/06 00:40:43 WARN DAGScheduler: Broadcasting large task binary with size 3.2 MiB\n",
      "24/06/06 00:40:44 WARN DAGScheduler: Broadcasting large task binary with size 3.2 MiB\n",
      "24/06/06 00:40:44 WARN DAGScheduler: Broadcasting large task binary with size 3.2 MiB\n",
      "24/06/06 00:40:44 WARN DAGScheduler: Broadcasting large task binary with size 3.2 MiB\n",
      "24/06/06 00:40:44 WARN DAGScheduler: Broadcasting large task binary with size 3.2 MiB\n",
      "24/06/06 00:40:45 WARN DAGScheduler: Broadcasting large task binary with size 3.2 MiB\n",
      "24/06/06 00:40:45 WARN DAGScheduler: Broadcasting large task binary with size 3.2 MiB\n",
      "24/06/06 00:40:46 WARN DAGScheduler: Broadcasting large task binary with size 3.2 MiB\n",
      "24/06/06 00:40:46 WARN DAGScheduler: Broadcasting large task binary with size 3.2 MiB\n",
      "24/06/06 00:40:46 WARN DAGScheduler: Broadcasting large task binary with size 3.2 MiB\n",
      "24/06/06 00:40:46 WARN DAGScheduler: Broadcasting large task binary with size 3.2 MiB\n",
      "24/06/06 00:40:47 WARN DAGScheduler: Broadcasting large task binary with size 3.2 MiB\n",
      "24/06/06 00:40:47 WARN DAGScheduler: Broadcasting large task binary with size 3.2 MiB\n",
      "24/06/06 00:40:47 WARN DAGScheduler: Broadcasting large task binary with size 3.2 MiB\n",
      "24/06/06 00:40:47 WARN DAGScheduler: Broadcasting large task binary with size 3.2 MiB\n",
      "24/06/06 00:40:48 WARN DAGScheduler: Broadcasting large task binary with size 3.2 MiB\n",
      "24/06/06 00:40:48 WARN DAGScheduler: Broadcasting large task binary with size 3.2 MiB\n",
      "24/06/06 00:40:48 WARN DAGScheduler: Broadcasting large task binary with size 3.2 MiB\n",
      "24/06/06 00:40:48 WARN DAGScheduler: Broadcasting large task binary with size 3.2 MiB\n"
     ]
    },
    {
     "name": "stderr",
     "output_type": "stream",
     "text": [
      "24/06/06 00:40:49 WARN DAGScheduler: Broadcasting large task binary with size 3.2 MiB\n",
      "24/06/06 00:40:49 WARN DAGScheduler: Broadcasting large task binary with size 3.2 MiB\n",
      "24/06/06 00:40:49 WARN DAGScheduler: Broadcasting large task binary with size 3.2 MiB\n",
      "24/06/06 00:40:49 WARN DAGScheduler: Broadcasting large task binary with size 3.2 MiB\n",
      "24/06/06 00:40:50 WARN DAGScheduler: Broadcasting large task binary with size 3.2 MiB\n",
      "24/06/06 00:40:50 WARN DAGScheduler: Broadcasting large task binary with size 3.2 MiB\n",
      "24/06/06 00:40:50 WARN DAGScheduler: Broadcasting large task binary with size 3.2 MiB\n",
      "24/06/06 00:40:51 WARN DAGScheduler: Broadcasting large task binary with size 3.2 MiB\n",
      "24/06/06 00:40:51 WARN DAGScheduler: Broadcasting large task binary with size 3.2 MiB\n",
      "24/06/06 00:40:51 WARN DAGScheduler: Broadcasting large task binary with size 3.2 MiB\n",
      "24/06/06 00:40:51 WARN DAGScheduler: Broadcasting large task binary with size 3.2 MiB\n",
      "24/06/06 00:40:52 WARN DAGScheduler: Broadcasting large task binary with size 3.2 MiB\n",
      "24/06/06 00:40:52 WARN DAGScheduler: Broadcasting large task binary with size 3.2 MiB\n",
      "24/06/06 00:40:52 WARN DAGScheduler: Broadcasting large task binary with size 3.2 MiB\n",
      "24/06/06 00:40:53 WARN DAGScheduler: Broadcasting large task binary with size 3.2 MiB\n",
      "24/06/06 00:40:53 WARN DAGScheduler: Broadcasting large task binary with size 3.2 MiB\n",
      "24/06/06 00:40:53 WARN DAGScheduler: Broadcasting large task binary with size 3.2 MiB\n",
      "24/06/06 00:40:53 WARN DAGScheduler: Broadcasting large task binary with size 3.2 MiB\n",
      "24/06/06 00:40:54 WARN DAGScheduler: Broadcasting large task binary with size 3.2 MiB\n",
      "24/06/06 00:40:54 WARN DAGScheduler: Broadcasting large task binary with size 3.2 MiB\n",
      "24/06/06 00:40:54 WARN OnlineLDAOptimizer: The input data is not directly cached, which may hurt performance if its parent RDDs are also uncached.\n",
      "24/06/06 00:40:54 WARN DAGScheduler: Broadcasting large task binary with size 3.2 MiB\n",
      "24/06/06 00:40:54 WARN DAGScheduler: Broadcasting large task binary with size 3.2 MiB\n",
      "24/06/06 00:40:54 WARN DAGScheduler: Broadcasting large task binary with size 3.2 MiB\n",
      "24/06/06 00:40:55 WARN DAGScheduler: Broadcasting large task binary with size 3.2 MiB\n",
      "24/06/06 00:40:55 WARN DAGScheduler: Broadcasting large task binary with size 3.2 MiB\n",
      "24/06/06 00:40:55 WARN DAGScheduler: Broadcasting large task binary with size 3.2 MiB\n",
      "24/06/06 00:40:55 WARN DAGScheduler: Broadcasting large task binary with size 3.2 MiB\n",
      "24/06/06 00:40:56 WARN DAGScheduler: Broadcasting large task binary with size 3.2 MiB\n",
      "24/06/06 00:40:56 WARN DAGScheduler: Broadcasting large task binary with size 3.2 MiB\n",
      "24/06/06 00:40:56 WARN DAGScheduler: Broadcasting large task binary with size 3.2 MiB\n",
      "24/06/06 00:40:56 WARN DAGScheduler: Broadcasting large task binary with size 3.2 MiB\n",
      "24/06/06 00:40:57 WARN DAGScheduler: Broadcasting large task binary with size 3.2 MiB\n",
      "24/06/06 00:40:57 WARN DAGScheduler: Broadcasting large task binary with size 3.2 MiB\n",
      "24/06/06 00:40:57 WARN DAGScheduler: Broadcasting large task binary with size 3.2 MiB\n",
      "24/06/06 00:40:58 WARN DAGScheduler: Broadcasting large task binary with size 3.2 MiB\n",
      "24/06/06 00:40:58 WARN DAGScheduler: Broadcasting large task binary with size 3.2 MiB\n",
      "24/06/06 00:40:58 WARN DAGScheduler: Broadcasting large task binary with size 3.2 MiB\n",
      "24/06/06 00:40:58 WARN DAGScheduler: Broadcasting large task binary with size 3.2 MiB\n",
      "24/06/06 00:40:58 WARN DAGScheduler: Broadcasting large task binary with size 3.2 MiB\n",
      "24/06/06 00:40:58 WARN DAGScheduler: Broadcasting large task binary with size 3.2 MiB\n",
      "24/06/06 00:40:59 WARN DAGScheduler: Broadcasting large task binary with size 3.2 MiB\n",
      "24/06/06 00:40:59 WARN DAGScheduler: Broadcasting large task binary with size 3.2 MiB\n",
      "24/06/06 00:41:00 WARN DAGScheduler: Broadcasting large task binary with size 3.2 MiB\n",
      "24/06/06 00:41:00 WARN DAGScheduler: Broadcasting large task binary with size 3.2 MiB\n",
      "24/06/06 00:41:00 WARN DAGScheduler: Broadcasting large task binary with size 3.2 MiB\n",
      "24/06/06 00:41:00 WARN DAGScheduler: Broadcasting large task binary with size 3.2 MiB\n",
      "24/06/06 00:41:01 WARN DAGScheduler: Broadcasting large task binary with size 3.2 MiB\n",
      "24/06/06 00:41:01 WARN DAGScheduler: Broadcasting large task binary with size 3.2 MiB\n",
      "24/06/06 00:41:01 WARN DAGScheduler: Broadcasting large task binary with size 3.2 MiB\n",
      "24/06/06 00:41:02 WARN DAGScheduler: Broadcasting large task binary with size 3.2 MiB\n",
      "24/06/06 00:41:02 WARN DAGScheduler: Broadcasting large task binary with size 3.2 MiB\n",
      "24/06/06 00:41:02 WARN DAGScheduler: Broadcasting large task binary with size 3.2 MiB\n",
      "24/06/06 00:41:02 WARN DAGScheduler: Broadcasting large task binary with size 3.2 MiB\n",
      "24/06/06 00:41:03 WARN DAGScheduler: Broadcasting large task binary with size 3.2 MiB\n",
      "24/06/06 00:41:03 WARN DAGScheduler: Broadcasting large task binary with size 3.2 MiB\n",
      "24/06/06 00:41:03 WARN DAGScheduler: Broadcasting large task binary with size 3.2 MiB\n",
      "24/06/06 00:41:03 WARN DAGScheduler: Broadcasting large task binary with size 3.2 MiB\n",
      "24/06/06 00:41:03 WARN DAGScheduler: Broadcasting large task binary with size 3.2 MiB\n",
      "24/06/06 00:41:04 WARN DAGScheduler: Broadcasting large task binary with size 3.2 MiB\n",
      "24/06/06 00:41:04 WARN DAGScheduler: Broadcasting large task binary with size 3.2 MiB\n",
      "24/06/06 00:41:04 WARN DAGScheduler: Broadcasting large task binary with size 3.2 MiB\n",
      "24/06/06 00:41:05 WARN DAGScheduler: Broadcasting large task binary with size 3.2 MiB\n",
      "24/06/06 00:41:05 WARN DAGScheduler: Broadcasting large task binary with size 3.2 MiB\n",
      "24/06/06 00:41:05 WARN DAGScheduler: Broadcasting large task binary with size 3.2 MiB\n",
      "24/06/06 00:41:05 WARN DAGScheduler: Broadcasting large task binary with size 3.2 MiB\n",
      "24/06/06 00:41:05 WARN DAGScheduler: Broadcasting large task binary with size 3.2 MiB\n",
      "24/06/06 00:41:06 WARN DAGScheduler: Broadcasting large task binary with size 3.2 MiB\n",
      "24/06/06 00:41:06 WARN DAGScheduler: Broadcasting large task binary with size 3.2 MiB\n",
      "24/06/06 00:41:06 WARN DAGScheduler: Broadcasting large task binary with size 3.2 MiB\n",
      "24/06/06 00:41:07 WARN DAGScheduler: Broadcasting large task binary with size 3.2 MiB\n",
      "24/06/06 00:41:07 WARN DAGScheduler: Broadcasting large task binary with size 3.2 MiB\n",
      "24/06/06 00:41:07 WARN DAGScheduler: Broadcasting large task binary with size 3.2 MiB\n",
      "24/06/06 00:41:08 WARN DAGScheduler: Broadcasting large task binary with size 3.2 MiB\n",
      "24/06/06 00:41:08 WARN OnlineLDAOptimizer: The input data is not directly cached, which may hurt performance if its parent RDDs are also uncached.\n",
      "24/06/06 00:41:08 WARN DAGScheduler: Broadcasting large task binary with size 3.2 MiB\n",
      "24/06/06 00:41:08 WARN DAGScheduler: Broadcasting large task binary with size 3.2 MiB\n",
      "24/06/06 00:41:08 WARN DAGScheduler: Broadcasting large task binary with size 3.2 MiB\n",
      "24/06/06 00:41:09 WARN DAGScheduler: Broadcasting large task binary with size 3.2 MiB\n",
      "24/06/06 00:41:09 WARN DAGScheduler: Broadcasting large task binary with size 3.2 MiB\n",
      "24/06/06 00:41:09 WARN DAGScheduler: Broadcasting large task binary with size 3.2 MiB\n",
      "24/06/06 00:41:10 WARN DAGScheduler: Broadcasting large task binary with size 3.2 MiB\n",
      "24/06/06 00:41:10 WARN DAGScheduler: Broadcasting large task binary with size 3.2 MiB\n",
      "24/06/06 00:41:10 WARN DAGScheduler: Broadcasting large task binary with size 3.2 MiB\n",
      "24/06/06 00:41:10 WARN DAGScheduler: Broadcasting large task binary with size 3.2 MiB\n",
      "24/06/06 00:41:10 WARN DAGScheduler: Broadcasting large task binary with size 3.2 MiB\n",
      "24/06/06 00:41:11 WARN DAGScheduler: Broadcasting large task binary with size 3.2 MiB\n",
      "24/06/06 00:41:11 WARN DAGScheduler: Broadcasting large task binary with size 3.2 MiB\n",
      "24/06/06 00:41:11 WARN DAGScheduler: Broadcasting large task binary with size 3.2 MiB\n",
      "24/06/06 00:41:12 WARN DAGScheduler: Broadcasting large task binary with size 3.2 MiB\n",
      "24/06/06 00:41:12 WARN DAGScheduler: Broadcasting large task binary with size 3.2 MiB\n",
      "24/06/06 00:41:12 WARN DAGScheduler: Broadcasting large task binary with size 3.2 MiB\n",
      "24/06/06 00:41:12 WARN DAGScheduler: Broadcasting large task binary with size 3.2 MiB\n",
      "24/06/06 00:41:13 WARN DAGScheduler: Broadcasting large task binary with size 3.2 MiB\n",
      "24/06/06 00:41:13 WARN DAGScheduler: Broadcasting large task binary with size 3.2 MiB\n"
     ]
    },
    {
     "name": "stderr",
     "output_type": "stream",
     "text": [
      "24/06/06 00:41:13 WARN DAGScheduler: Broadcasting large task binary with size 3.2 MiB\n",
      "24/06/06 00:41:13 WARN DAGScheduler: Broadcasting large task binary with size 3.2 MiB\n",
      "24/06/06 00:41:14 WARN DAGScheduler: Broadcasting large task binary with size 3.2 MiB\n",
      "24/06/06 00:41:14 WARN DAGScheduler: Broadcasting large task binary with size 3.2 MiB\n",
      "24/06/06 00:41:14 WARN DAGScheduler: Broadcasting large task binary with size 3.2 MiB\n",
      "24/06/06 00:41:15 WARN DAGScheduler: Broadcasting large task binary with size 3.2 MiB\n",
      "24/06/06 00:41:15 WARN DAGScheduler: Broadcasting large task binary with size 3.2 MiB\n",
      "24/06/06 00:41:15 WARN DAGScheduler: Broadcasting large task binary with size 3.2 MiB\n",
      "24/06/06 00:41:15 WARN DAGScheduler: Broadcasting large task binary with size 3.2 MiB\n",
      "24/06/06 00:41:15 WARN DAGScheduler: Broadcasting large task binary with size 3.2 MiB\n",
      "24/06/06 00:41:16 WARN DAGScheduler: Broadcasting large task binary with size 3.2 MiB\n",
      "24/06/06 00:41:16 WARN DAGScheduler: Broadcasting large task binary with size 3.2 MiB\n",
      "24/06/06 00:41:16 WARN DAGScheduler: Broadcasting large task binary with size 3.2 MiB\n",
      "24/06/06 00:41:17 WARN DAGScheduler: Broadcasting large task binary with size 3.2 MiB\n",
      "24/06/06 00:41:17 WARN DAGScheduler: Broadcasting large task binary with size 3.2 MiB\n",
      "24/06/06 00:41:17 WARN DAGScheduler: Broadcasting large task binary with size 3.2 MiB\n",
      "24/06/06 00:41:17 WARN DAGScheduler: Broadcasting large task binary with size 3.2 MiB\n",
      "24/06/06 00:41:18 WARN DAGScheduler: Broadcasting large task binary with size 3.2 MiB\n",
      "24/06/06 00:41:18 WARN DAGScheduler: Broadcasting large task binary with size 3.2 MiB\n",
      "24/06/06 00:41:18 WARN DAGScheduler: Broadcasting large task binary with size 3.2 MiB\n",
      "24/06/06 00:41:18 WARN DAGScheduler: Broadcasting large task binary with size 3.2 MiB\n",
      "24/06/06 00:41:19 WARN DAGScheduler: Broadcasting large task binary with size 3.2 MiB\n",
      "24/06/06 00:41:19 WARN DAGScheduler: Broadcasting large task binary with size 3.2 MiB\n",
      "24/06/06 00:41:19 WARN DAGScheduler: Broadcasting large task binary with size 3.2 MiB\n",
      "24/06/06 00:41:20 WARN DAGScheduler: Broadcasting large task binary with size 3.2 MiB\n",
      "24/06/06 00:41:20 WARN DAGScheduler: Broadcasting large task binary with size 3.2 MiB\n",
      "24/06/06 00:41:20 WARN DAGScheduler: Broadcasting large task binary with size 3.2 MiB\n",
      "24/06/06 00:41:20 WARN DAGScheduler: Broadcasting large task binary with size 3.2 MiB\n",
      "24/06/06 00:41:20 WARN DAGScheduler: Broadcasting large task binary with size 3.2 MiB\n",
      "24/06/06 00:41:21 WARN DAGScheduler: Broadcasting large task binary with size 3.2 MiB\n",
      "24/06/06 00:41:21 WARN DAGScheduler: Broadcasting large task binary with size 3.2 MiB\n",
      "24/06/06 00:41:21 WARN DAGScheduler: Broadcasting large task binary with size 3.2 MiB\n",
      "24/06/06 00:41:22 WARN DAGScheduler: Broadcasting large task binary with size 3.2 MiB\n",
      "24/06/06 00:41:22 WARN DAGScheduler: Broadcasting large task binary with size 3.2 MiB\n",
      "24/06/06 00:41:22 WARN DAGScheduler: Broadcasting large task binary with size 3.2 MiB\n",
      "24/06/06 00:41:22 WARN DAGScheduler: Broadcasting large task binary with size 3.2 MiB\n",
      "24/06/06 00:41:22 WARN DAGScheduler: Broadcasting large task binary with size 3.2 MiB\n",
      "24/06/06 00:41:23 WARN DAGScheduler: Broadcasting large task binary with size 3.2 MiB\n",
      "24/06/06 00:41:23 WARN DAGScheduler: Broadcasting large task binary with size 3.2 MiB\n",
      "24/06/06 00:41:24 WARN DAGScheduler: Broadcasting large task binary with size 3.2 MiB\n",
      "24/06/06 00:41:24 WARN DAGScheduler: Broadcasting large task binary with size 3.2 MiB\n",
      "24/06/06 00:41:24 WARN DAGScheduler: Broadcasting large task binary with size 3.2 MiB\n",
      "24/06/06 00:41:25 WARN DAGScheduler: Broadcasting large task binary with size 3.2 MiB\n",
      "24/06/06 00:41:25 WARN DAGScheduler: Broadcasting large task binary with size 3.2 MiB\n",
      "24/06/06 00:41:25 WARN DAGScheduler: Broadcasting large task binary with size 3.2 MiB\n",
      "24/06/06 00:41:25 WARN DAGScheduler: Broadcasting large task binary with size 3.2 MiB\n",
      "24/06/06 00:41:26 WARN DAGScheduler: Broadcasting large task binary with size 3.2 MiB\n",
      "24/06/06 00:41:26 WARN DAGScheduler: Broadcasting large task binary with size 3.2 MiB\n",
      "24/06/06 00:41:26 WARN DAGScheduler: Broadcasting large task binary with size 3.2 MiB\n",
      "24/06/06 00:41:27 WARN DAGScheduler: Broadcasting large task binary with size 3.2 MiB\n",
      "24/06/06 00:41:27 WARN DAGScheduler: Broadcasting large task binary with size 3.2 MiB\n",
      "24/06/06 00:41:27 WARN DAGScheduler: Broadcasting large task binary with size 3.2 MiB\n",
      "24/06/06 00:41:27 WARN DAGScheduler: Broadcasting large task binary with size 3.2 MiB\n",
      "24/06/06 00:41:27 WARN DAGScheduler: Broadcasting large task binary with size 3.2 MiB\n",
      "24/06/06 00:41:28 WARN DAGScheduler: Broadcasting large task binary with size 3.2 MiB\n",
      "24/06/06 00:41:28 WARN DAGScheduler: Broadcasting large task binary with size 3.2 MiB\n",
      "24/06/06 00:41:28 WARN DAGScheduler: Broadcasting large task binary with size 3.2 MiB\n",
      "24/06/06 00:41:29 WARN DAGScheduler: Broadcasting large task binary with size 3.2 MiB\n",
      "24/06/06 00:41:29 WARN DAGScheduler: Broadcasting large task binary with size 3.2 MiB\n",
      "24/06/06 00:41:29 WARN DAGScheduler: Broadcasting large task binary with size 3.2 MiB\n",
      "24/06/06 00:41:29 WARN DAGScheduler: Broadcasting large task binary with size 3.2 MiB\n",
      "24/06/06 00:41:30 WARN DAGScheduler: Broadcasting large task binary with size 3.2 MiB\n",
      "24/06/06 00:41:30 WARN DAGScheduler: Broadcasting large task binary with size 3.2 MiB\n",
      "24/06/06 00:41:30 WARN DAGScheduler: Broadcasting large task binary with size 3.2 MiB\n",
      "24/06/06 00:41:30 WARN DAGScheduler: Broadcasting large task binary with size 3.2 MiB\n",
      "24/06/06 00:41:30 WARN DAGScheduler: Broadcasting large task binary with size 3.2 MiB\n",
      "24/06/06 00:41:31 WARN DAGScheduler: Broadcasting large task binary with size 3.2 MiB\n",
      "24/06/06 00:41:31 WARN DAGScheduler: Broadcasting large task binary with size 3.2 MiB\n",
      "24/06/06 00:41:32 WARN DAGScheduler: Broadcasting large task binary with size 3.2 MiB\n",
      "24/06/06 00:41:32 WARN DAGScheduler: Broadcasting large task binary with size 3.2 MiB\n",
      "24/06/06 00:41:32 WARN DAGScheduler: Broadcasting large task binary with size 3.2 MiB\n",
      "24/06/06 00:41:32 WARN DAGScheduler: Broadcasting large task binary with size 3.2 MiB\n",
      "24/06/06 00:41:33 WARN DAGScheduler: Broadcasting large task binary with size 3.2 MiB\n",
      "24/06/06 00:41:33 WARN DAGScheduler: Broadcasting large task binary with size 3.2 MiB\n",
      "24/06/06 00:41:33 WARN DAGScheduler: Broadcasting large task binary with size 3.2 MiB\n",
      "24/06/06 00:41:33 WARN DAGScheduler: Broadcasting large task binary with size 3.2 MiB\n",
      "24/06/06 00:41:34 WARN DAGScheduler: Broadcasting large task binary with size 3.2 MiB\n",
      "24/06/06 00:41:34 WARN DAGScheduler: Broadcasting large task binary with size 3.2 MiB\n",
      "24/06/06 00:41:34 WARN DAGScheduler: Broadcasting large task binary with size 3.2 MiB\n",
      "24/06/06 00:41:34 WARN DAGScheduler: Broadcasting large task binary with size 3.2 MiB\n",
      "24/06/06 00:41:35 WARN DAGScheduler: Broadcasting large task binary with size 3.2 MiB\n",
      "24/06/06 00:41:35 WARN DAGScheduler: Broadcasting large task binary with size 3.2 MiB\n",
      "24/06/06 00:41:35 WARN DAGScheduler: Broadcasting large task binary with size 3.2 MiB\n",
      "24/06/06 00:41:36 WARN DAGScheduler: Broadcasting large task binary with size 3.2 MiB\n",
      "24/06/06 00:41:36 WARN DAGScheduler: Broadcasting large task binary with size 3.2 MiB\n",
      "24/06/06 00:41:36 WARN DAGScheduler: Broadcasting large task binary with size 3.2 MiB\n",
      "24/06/06 00:41:36 WARN DAGScheduler: Broadcasting large task binary with size 3.2 MiB\n",
      "24/06/06 00:41:36 WARN DAGScheduler: Broadcasting large task binary with size 3.2 MiB\n",
      "24/06/06 00:41:37 WARN DAGScheduler: Broadcasting large task binary with size 3.2 MiB\n",
      "24/06/06 00:41:37 WARN DAGScheduler: Broadcasting large task binary with size 3.2 MiB\n",
      "24/06/06 00:41:37 WARN DAGScheduler: Broadcasting large task binary with size 3.2 MiB\n",
      "24/06/06 00:41:37 WARN DAGScheduler: Broadcasting large task binary with size 3.2 MiB\n",
      "24/06/06 00:41:38 WARN DAGScheduler: Broadcasting large task binary with size 3.2 MiB\n",
      "24/06/06 00:41:38 WARN DAGScheduler: Broadcasting large task binary with size 3.2 MiB\n",
      "24/06/06 00:41:38 WARN DAGScheduler: Broadcasting large task binary with size 3.2 MiB\n",
      "24/06/06 00:41:39 WARN DAGScheduler: Broadcasting large task binary with size 3.2 MiB\n"
     ]
    },
    {
     "name": "stderr",
     "output_type": "stream",
     "text": [
      "24/06/06 00:41:39 WARN DAGScheduler: Broadcasting large task binary with size 3.2 MiB\n",
      "24/06/06 00:41:39 WARN DAGScheduler: Broadcasting large task binary with size 3.2 MiB\n",
      "24/06/06 00:41:39 WARN DAGScheduler: Broadcasting large task binary with size 3.2 MiB\n",
      "24/06/06 00:41:40 WARN DAGScheduler: Broadcasting large task binary with size 3.2 MiB\n",
      "24/06/06 00:41:40 WARN DAGScheduler: Broadcasting large task binary with size 3.2 MiB\n",
      "24/06/06 00:41:40 WARN DAGScheduler: Broadcasting large task binary with size 3.2 MiB\n",
      "24/06/06 00:41:40 WARN DAGScheduler: Broadcasting large task binary with size 3.2 MiB\n",
      "24/06/06 00:41:41 WARN DAGScheduler: Broadcasting large task binary with size 3.2 MiB\n",
      "24/06/06 00:41:41 WARN DAGScheduler: Broadcasting large task binary with size 3.2 MiB\n",
      "24/06/06 00:41:41 WARN DAGScheduler: Broadcasting large task binary with size 3.2 MiB\n",
      "24/06/06 00:41:41 WARN DAGScheduler: Broadcasting large task binary with size 3.2 MiB\n",
      "24/06/06 00:41:42 WARN DAGScheduler: Broadcasting large task binary with size 3.2 MiB\n",
      "24/06/06 00:41:42 WARN DAGScheduler: Broadcasting large task binary with size 3.2 MiB\n",
      "24/06/06 00:41:42 WARN DAGScheduler: Broadcasting large task binary with size 3.2 MiB\n",
      "24/06/06 00:41:42 WARN DAGScheduler: Broadcasting large task binary with size 3.2 MiB\n",
      "24/06/06 00:41:43 WARN DAGScheduler: Broadcasting large task binary with size 3.2 MiB\n",
      "24/06/06 00:41:43 WARN DAGScheduler: Broadcasting large task binary with size 3.2 MiB\n",
      "24/06/06 00:41:44 WARN DAGScheduler: Broadcasting large task binary with size 3.2 MiB\n",
      "24/06/06 00:41:44 WARN DAGScheduler: Broadcasting large task binary with size 3.2 MiB\n",
      "24/06/06 00:41:44 WARN DAGScheduler: Broadcasting large task binary with size 3.2 MiB\n",
      "24/06/06 00:41:44 WARN OnlineLDAOptimizer: The input data is not directly cached, which may hurt performance if its parent RDDs are also uncached.\n",
      "24/06/06 00:41:44 WARN DAGScheduler: Broadcasting large task binary with size 3.2 MiB\n",
      "24/06/06 00:41:44 WARN OnlineLDAOptimizer: The input data is not directly cached, which may hurt performance if its parent RDDs are also uncached.\n",
      "24/06/06 00:41:44 WARN DAGScheduler: Broadcasting large task binary with size 3.2 MiB\n",
      "24/06/06 00:41:44 WARN DAGScheduler: Broadcasting large task binary with size 3.2 MiB\n",
      "24/06/06 00:41:44 WARN DAGScheduler: Broadcasting large task binary with size 3.2 MiB\n",
      "24/06/06 00:41:45 WARN DAGScheduler: Broadcasting large task binary with size 3.2 MiB\n",
      "24/06/06 00:41:45 WARN DAGScheduler: Broadcasting large task binary with size 3.2 MiB\n",
      "24/06/06 00:41:45 WARN DAGScheduler: Broadcasting large task binary with size 3.2 MiB\n",
      "24/06/06 00:41:46 WARN DAGScheduler: Broadcasting large task binary with size 3.2 MiB\n",
      "24/06/06 00:41:46 WARN DAGScheduler: Broadcasting large task binary with size 3.2 MiB\n",
      "24/06/06 00:41:47 WARN DAGScheduler: Broadcasting large task binary with size 3.2 MiB\n",
      "24/06/06 00:41:47 WARN DAGScheduler: Broadcasting large task binary with size 3.2 MiB\n",
      "24/06/06 00:41:47 WARN DAGScheduler: Broadcasting large task binary with size 3.2 MiB\n",
      "24/06/06 00:41:48 WARN DAGScheduler: Broadcasting large task binary with size 3.2 MiB\n",
      "24/06/06 00:41:48 WARN DAGScheduler: Broadcasting large task binary with size 3.2 MiB\n",
      "24/06/06 00:41:48 WARN DAGScheduler: Broadcasting large task binary with size 3.2 MiB\n",
      "24/06/06 00:41:49 WARN DAGScheduler: Broadcasting large task binary with size 3.2 MiB\n",
      "24/06/06 00:41:49 WARN DAGScheduler: Broadcasting large task binary with size 3.2 MiB\n",
      "24/06/06 00:41:49 WARN DAGScheduler: Broadcasting large task binary with size 3.2 MiB\n",
      "24/06/06 00:41:49 WARN DAGScheduler: Broadcasting large task binary with size 3.2 MiB\n",
      "24/06/06 00:41:50 WARN DAGScheduler: Broadcasting large task binary with size 3.2 MiB\n",
      "24/06/06 00:41:50 WARN DAGScheduler: Broadcasting large task binary with size 3.2 MiB\n",
      "24/06/06 00:41:50 WARN DAGScheduler: Broadcasting large task binary with size 3.2 MiB\n",
      "24/06/06 00:41:51 WARN DAGScheduler: Broadcasting large task binary with size 3.2 MiB\n",
      "24/06/06 00:41:51 WARN DAGScheduler: Broadcasting large task binary with size 3.2 MiB\n",
      "24/06/06 00:41:51 WARN DAGScheduler: Broadcasting large task binary with size 3.2 MiB\n",
      "24/06/06 00:41:52 WARN DAGScheduler: Broadcasting large task binary with size 3.2 MiB\n",
      "24/06/06 00:41:52 WARN DAGScheduler: Broadcasting large task binary with size 3.2 MiB\n",
      "24/06/06 00:41:52 WARN DAGScheduler: Broadcasting large task binary with size 3.2 MiB\n",
      "24/06/06 00:41:53 WARN DAGScheduler: Broadcasting large task binary with size 3.2 MiB\n",
      "24/06/06 00:41:53 WARN DAGScheduler: Broadcasting large task binary with size 3.2 MiB\n",
      "24/06/06 00:41:53 WARN DAGScheduler: Broadcasting large task binary with size 3.2 MiB\n",
      "24/06/06 00:41:54 WARN DAGScheduler: Broadcasting large task binary with size 3.2 MiB\n",
      "24/06/06 00:41:54 WARN DAGScheduler: Broadcasting large task binary with size 3.2 MiB\n",
      "24/06/06 00:41:54 WARN DAGScheduler: Broadcasting large task binary with size 3.2 MiB\n",
      "24/06/06 00:41:54 WARN DAGScheduler: Broadcasting large task binary with size 3.2 MiB\n",
      "24/06/06 00:41:55 WARN DAGScheduler: Broadcasting large task binary with size 3.2 MiB\n",
      "24/06/06 00:41:55 WARN DAGScheduler: Broadcasting large task binary with size 3.2 MiB\n",
      "24/06/06 00:41:56 WARN DAGScheduler: Broadcasting large task binary with size 3.2 MiB\n",
      "24/06/06 00:41:56 WARN DAGScheduler: Broadcasting large task binary with size 3.2 MiB\n",
      "24/06/06 00:41:56 WARN DAGScheduler: Broadcasting large task binary with size 3.2 MiB\n",
      "24/06/06 00:41:57 WARN DAGScheduler: Broadcasting large task binary with size 3.2 MiB\n",
      "24/06/06 00:41:57 WARN DAGScheduler: Broadcasting large task binary with size 3.2 MiB\n",
      "24/06/06 00:41:57 WARN DAGScheduler: Broadcasting large task binary with size 3.2 MiB\n",
      "24/06/06 00:41:57 WARN DAGScheduler: Broadcasting large task binary with size 3.2 MiB\n",
      "24/06/06 00:41:57 WARN DAGScheduler: Broadcasting large task binary with size 3.2 MiB\n",
      "24/06/06 00:41:58 WARN DAGScheduler: Broadcasting large task binary with size 3.2 MiB\n",
      "24/06/06 00:41:58 WARN DAGScheduler: Broadcasting large task binary with size 3.2 MiB\n",
      "24/06/06 00:41:59 WARN DAGScheduler: Broadcasting large task binary with size 3.2 MiB\n",
      "24/06/06 00:41:59 WARN DAGScheduler: Broadcasting large task binary with size 3.2 MiB\n",
      "24/06/06 00:41:59 WARN DAGScheduler: Broadcasting large task binary with size 3.2 MiB\n",
      "24/06/06 00:42:00 WARN DAGScheduler: Broadcasting large task binary with size 3.2 MiB\n",
      "24/06/06 00:42:00 WARN DAGScheduler: Broadcasting large task binary with size 3.2 MiB\n",
      "24/06/06 00:42:00 WARN DAGScheduler: Broadcasting large task binary with size 3.2 MiB\n",
      "24/06/06 00:42:00 WARN DAGScheduler: Broadcasting large task binary with size 3.2 MiB\n",
      "24/06/06 00:42:01 WARN DAGScheduler: Broadcasting large task binary with size 3.2 MiB\n",
      "24/06/06 00:42:01 WARN DAGScheduler: Broadcasting large task binary with size 3.2 MiB\n",
      "24/06/06 00:42:02 WARN DAGScheduler: Broadcasting large task binary with size 3.2 MiB\n",
      "24/06/06 00:42:02 WARN DAGScheduler: Broadcasting large task binary with size 3.2 MiB\n",
      "24/06/06 00:42:02 WARN DAGScheduler: Broadcasting large task binary with size 3.2 MiB\n",
      "24/06/06 00:42:03 WARN DAGScheduler: Broadcasting large task binary with size 3.2 MiB\n",
      "24/06/06 00:42:03 WARN DAGScheduler: Broadcasting large task binary with size 3.2 MiB\n",
      "24/06/06 00:42:03 WARN DAGScheduler: Broadcasting large task binary with size 3.2 MiB\n",
      "24/06/06 00:42:03 WARN DAGScheduler: Broadcasting large task binary with size 3.2 MiB\n",
      "24/06/06 00:42:04 WARN DAGScheduler: Broadcasting large task binary with size 3.2 MiB\n",
      "24/06/06 00:42:04 WARN DAGScheduler: Broadcasting large task binary with size 3.2 MiB\n",
      "24/06/06 00:42:04 WARN DAGScheduler: Broadcasting large task binary with size 3.2 MiB\n",
      "24/06/06 00:42:04 WARN DAGScheduler: Broadcasting large task binary with size 3.2 MiB\n",
      "24/06/06 00:42:05 WARN DAGScheduler: Broadcasting large task binary with size 3.2 MiB\n",
      "24/06/06 00:42:05 WARN DAGScheduler: Broadcasting large task binary with size 3.2 MiB\n",
      "24/06/06 00:42:05 WARN DAGScheduler: Broadcasting large task binary with size 3.2 MiB\n",
      "24/06/06 00:42:06 WARN DAGScheduler: Broadcasting large task binary with size 3.2 MiB\n",
      "24/06/06 00:42:06 WARN DAGScheduler: Broadcasting large task binary with size 3.2 MiB\n"
     ]
    },
    {
     "name": "stderr",
     "output_type": "stream",
     "text": [
      "24/06/06 00:42:06 WARN DAGScheduler: Broadcasting large task binary with size 3.2 MiB\n",
      "24/06/06 00:42:07 WARN DAGScheduler: Broadcasting large task binary with size 3.2 MiB\n",
      "24/06/06 00:42:07 WARN DAGScheduler: Broadcasting large task binary with size 3.2 MiB\n",
      "24/06/06 00:42:07 WARN DAGScheduler: Broadcasting large task binary with size 3.2 MiB\n",
      "24/06/06 00:42:08 WARN BlockManager: Asked to remove block broadcast_2700_piece0, which does not exist\n",
      "24/06/06 00:42:08 WARN DAGScheduler: Broadcasting large task binary with size 3.2 MiB\n",
      "24/06/06 00:42:08 WARN DAGScheduler: Broadcasting large task binary with size 3.2 MiB\n",
      "24/06/06 00:42:08 WARN DAGScheduler: Broadcasting large task binary with size 3.2 MiB\n",
      "24/06/06 00:42:09 WARN DAGScheduler: Broadcasting large task binary with size 3.2 MiB\n",
      "24/06/06 00:42:09 WARN DAGScheduler: Broadcasting large task binary with size 3.2 MiB\n",
      "24/06/06 00:42:09 WARN DAGScheduler: Broadcasting large task binary with size 3.2 MiB\n",
      "24/06/06 00:42:10 WARN DAGScheduler: Broadcasting large task binary with size 3.2 MiB\n",
      "24/06/06 00:42:10 WARN DAGScheduler: Broadcasting large task binary with size 3.2 MiB\n",
      "24/06/06 00:42:10 WARN DAGScheduler: Broadcasting large task binary with size 3.2 MiB\n",
      "24/06/06 00:42:11 WARN DAGScheduler: Broadcasting large task binary with size 3.2 MiB\n",
      "24/06/06 00:42:11 WARN DAGScheduler: Broadcasting large task binary with size 3.2 MiB\n",
      "24/06/06 00:42:11 WARN DAGScheduler: Broadcasting large task binary with size 3.2 MiB\n",
      "24/06/06 00:42:11 WARN DAGScheduler: Broadcasting large task binary with size 3.2 MiB\n",
      "24/06/06 00:42:12 WARN DAGScheduler: Broadcasting large task binary with size 3.2 MiB\n",
      "24/06/06 00:42:12 WARN DAGScheduler: Broadcasting large task binary with size 3.2 MiB\n",
      "24/06/06 00:42:13 WARN DAGScheduler: Broadcasting large task binary with size 3.2 MiB\n",
      "24/06/06 00:42:13 WARN DAGScheduler: Broadcasting large task binary with size 3.2 MiB\n",
      "24/06/06 00:42:13 WARN DAGScheduler: Broadcasting large task binary with size 3.2 MiB\n",
      "24/06/06 00:42:14 WARN DAGScheduler: Broadcasting large task binary with size 3.2 MiB\n",
      "24/06/06 00:42:14 WARN DAGScheduler: Broadcasting large task binary with size 3.2 MiB\n",
      "24/06/06 00:42:14 WARN DAGScheduler: Broadcasting large task binary with size 3.2 MiB\n",
      "24/06/06 00:42:14 WARN OnlineLDAOptimizer: The input data is not directly cached, which may hurt performance if its parent RDDs are also uncached.\n",
      "24/06/06 00:42:14 WARN DAGScheduler: Broadcasting large task binary with size 3.2 MiB\n",
      "24/06/06 00:42:14 WARN DAGScheduler: Broadcasting large task binary with size 3.2 MiB\n",
      "24/06/06 00:42:15 WARN DAGScheduler: Broadcasting large task binary with size 3.2 MiB\n",
      "24/06/06 00:42:15 WARN DAGScheduler: Broadcasting large task binary with size 3.2 MiB\n",
      "24/06/06 00:42:16 WARN DAGScheduler: Broadcasting large task binary with size 3.2 MiB\n",
      "24/06/06 00:42:16 WARN DAGScheduler: Broadcasting large task binary with size 3.2 MiB\n",
      "24/06/06 00:42:16 WARN DAGScheduler: Broadcasting large task binary with size 3.2 MiB\n",
      "24/06/06 00:42:16 WARN DAGScheduler: Broadcasting large task binary with size 3.2 MiB\n",
      "24/06/06 00:42:17 WARN DAGScheduler: Broadcasting large task binary with size 3.2 MiB\n",
      "24/06/06 00:42:17 WARN DAGScheduler: Broadcasting large task binary with size 3.2 MiB\n",
      "24/06/06 00:42:17 WARN DAGScheduler: Broadcasting large task binary with size 3.2 MiB\n",
      "24/06/06 00:42:18 WARN DAGScheduler: Broadcasting large task binary with size 3.2 MiB\n",
      "24/06/06 00:42:18 WARN DAGScheduler: Broadcasting large task binary with size 3.2 MiB\n",
      "24/06/06 00:42:18 WARN DAGScheduler: Broadcasting large task binary with size 3.2 MiB\n",
      "24/06/06 00:42:19 WARN DAGScheduler: Broadcasting large task binary with size 3.2 MiB\n",
      "24/06/06 00:42:19 WARN DAGScheduler: Broadcasting large task binary with size 3.2 MiB\n",
      "24/06/06 00:42:19 WARN DAGScheduler: Broadcasting large task binary with size 3.2 MiB\n",
      "24/06/06 00:42:19 WARN DAGScheduler: Broadcasting large task binary with size 3.2 MiB\n",
      "24/06/06 00:42:20 WARN DAGScheduler: Broadcasting large task binary with size 3.2 MiB\n",
      "24/06/06 00:42:20 WARN DAGScheduler: Broadcasting large task binary with size 3.2 MiB\n",
      "24/06/06 00:42:20 WARN DAGScheduler: Broadcasting large task binary with size 3.2 MiB\n",
      "24/06/06 00:42:21 WARN DAGScheduler: Broadcasting large task binary with size 3.2 MiB\n",
      "24/06/06 00:42:21 WARN DAGScheduler: Broadcasting large task binary with size 3.2 MiB\n",
      "24/06/06 00:42:21 WARN DAGScheduler: Broadcasting large task binary with size 3.2 MiB\n",
      "24/06/06 00:42:21 WARN DAGScheduler: Broadcasting large task binary with size 3.2 MiB\n",
      "24/06/06 00:42:22 WARN DAGScheduler: Broadcasting large task binary with size 3.2 MiB\n",
      "24/06/06 00:42:22 WARN DAGScheduler: Broadcasting large task binary with size 3.2 MiB\n",
      "24/06/06 00:42:22 WARN DAGScheduler: Broadcasting large task binary with size 3.2 MiB\n",
      "24/06/06 00:42:23 WARN DAGScheduler: Broadcasting large task binary with size 3.2 MiB\n",
      "24/06/06 00:42:23 WARN DAGScheduler: Broadcasting large task binary with size 3.2 MiB\n",
      "24/06/06 00:42:23 WARN DAGScheduler: Broadcasting large task binary with size 3.2 MiB\n",
      "24/06/06 00:42:23 WARN DAGScheduler: Broadcasting large task binary with size 3.2 MiB\n",
      "24/06/06 00:42:24 WARN DAGScheduler: Broadcasting large task binary with size 3.2 MiB\n",
      "24/06/06 00:42:24 WARN DAGScheduler: Broadcasting large task binary with size 3.2 MiB\n",
      "24/06/06 00:42:24 WARN DAGScheduler: Broadcasting large task binary with size 3.2 MiB\n",
      "24/06/06 00:42:24 WARN DAGScheduler: Broadcasting large task binary with size 3.2 MiB\n",
      "24/06/06 00:42:25 WARN OnlineLDAOptimizer: The input data is not directly cached, which may hurt performance if its parent RDDs are also uncached.\n",
      "24/06/06 00:42:25 WARN DAGScheduler: Broadcasting large task binary with size 3.2 MiB\n",
      "24/06/06 00:42:25 WARN DAGScheduler: Broadcasting large task binary with size 3.2 MiB\n",
      "24/06/06 00:42:25 WARN DAGScheduler: Broadcasting large task binary with size 3.2 MiB\n",
      "24/06/06 00:42:26 WARN DAGScheduler: Broadcasting large task binary with size 3.2 MiB\n",
      "24/06/06 00:42:26 WARN DAGScheduler: Broadcasting large task binary with size 3.2 MiB\n",
      "24/06/06 00:42:26 WARN DAGScheduler: Broadcasting large task binary with size 3.2 MiB\n",
      "24/06/06 00:42:27 WARN DAGScheduler: Broadcasting large task binary with size 3.2 MiB\n",
      "24/06/06 00:42:27 WARN DAGScheduler: Broadcasting large task binary with size 3.2 MiB\n",
      "24/06/06 00:42:27 WARN DAGScheduler: Broadcasting large task binary with size 3.2 MiB\n",
      "24/06/06 00:42:28 WARN DAGScheduler: Broadcasting large task binary with size 3.2 MiB\n",
      "24/06/06 00:42:28 WARN DAGScheduler: Broadcasting large task binary with size 3.2 MiB\n",
      "24/06/06 00:42:28 WARN DAGScheduler: Broadcasting large task binary with size 3.2 MiB\n",
      "24/06/06 00:42:29 WARN DAGScheduler: Broadcasting large task binary with size 3.2 MiB\n",
      "24/06/06 00:42:29 WARN DAGScheduler: Broadcasting large task binary with size 3.2 MiB\n",
      "24/06/06 00:42:29 WARN DAGScheduler: Broadcasting large task binary with size 3.2 MiB\n",
      "24/06/06 00:42:30 WARN DAGScheduler: Broadcasting large task binary with size 3.2 MiB\n",
      "24/06/06 00:42:30 WARN DAGScheduler: Broadcasting large task binary with size 3.2 MiB\n",
      "24/06/06 00:42:30 WARN DAGScheduler: Broadcasting large task binary with size 3.2 MiB\n",
      "24/06/06 00:42:30 WARN DAGScheduler: Broadcasting large task binary with size 3.2 MiB\n",
      "24/06/06 00:42:31 WARN DAGScheduler: Broadcasting large task binary with size 3.2 MiB\n",
      "24/06/06 00:42:31 WARN DAGScheduler: Broadcasting large task binary with size 3.2 MiB\n",
      "24/06/06 00:42:31 WARN DAGScheduler: Broadcasting large task binary with size 3.2 MiB\n",
      "24/06/06 00:42:31 WARN DAGScheduler: Broadcasting large task binary with size 3.2 MiB\n",
      "24/06/06 00:42:32 WARN DAGScheduler: Broadcasting large task binary with size 3.2 MiB\n",
      "24/06/06 00:42:32 WARN DAGScheduler: Broadcasting large task binary with size 3.2 MiB\n",
      "24/06/06 00:42:32 WARN DAGScheduler: Broadcasting large task binary with size 3.2 MiB\n",
      "24/06/06 00:42:33 WARN DAGScheduler: Broadcasting large task binary with size 3.2 MiB\n",
      "24/06/06 00:42:33 WARN DAGScheduler: Broadcasting large task binary with size 3.2 MiB\n",
      "24/06/06 00:42:33 WARN DAGScheduler: Broadcasting large task binary with size 3.2 MiB\n",
      "24/06/06 00:42:34 WARN DAGScheduler: Broadcasting large task binary with size 3.2 MiB\n"
     ]
    },
    {
     "name": "stderr",
     "output_type": "stream",
     "text": [
      "24/06/06 00:42:34 WARN DAGScheduler: Broadcasting large task binary with size 3.2 MiB\n",
      "24/06/06 00:42:34 WARN DAGScheduler: Broadcasting large task binary with size 3.2 MiB\n",
      "24/06/06 00:42:35 WARN DAGScheduler: Broadcasting large task binary with size 3.2 MiB\n",
      "24/06/06 00:42:35 WARN DAGScheduler: Broadcasting large task binary with size 3.2 MiB\n",
      "24/06/06 00:42:35 WARN DAGScheduler: Broadcasting large task binary with size 3.2 MiB\n",
      "24/06/06 00:42:35 WARN DAGScheduler: Broadcasting large task binary with size 3.2 MiB\n",
      "24/06/06 00:42:36 WARN DAGScheduler: Broadcasting large task binary with size 3.2 MiB\n",
      "24/06/06 00:42:36 WARN DAGScheduler: Broadcasting large task binary with size 3.2 MiB\n",
      "24/06/06 00:42:36 WARN DAGScheduler: Broadcasting large task binary with size 3.2 MiB\n",
      "24/06/06 00:42:37 WARN DAGScheduler: Broadcasting large task binary with size 3.2 MiB\n",
      "24/06/06 00:42:37 WARN DAGScheduler: Broadcasting large task binary with size 3.2 MiB\n",
      "24/06/06 00:42:37 WARN DAGScheduler: Broadcasting large task binary with size 3.2 MiB\n",
      "24/06/06 00:42:38 WARN DAGScheduler: Broadcasting large task binary with size 3.2 MiB\n",
      "24/06/06 00:42:38 WARN DAGScheduler: Broadcasting large task binary with size 3.2 MiB\n",
      "24/06/06 00:42:38 WARN DAGScheduler: Broadcasting large task binary with size 3.2 MiB\n"
     ]
    }
   ],
   "source": [
    "results = train_and_evaluate_model(pipeline)"
   ]
  },
  {
   "cell_type": "code",
   "execution_count": null,
   "metadata": {
    "id": "ycLhdvlMJ8nB"
   },
   "outputs": [],
   "source": [
    "results[0]"
   ]
  },
  {
   "cell_type": "code",
   "execution_count": null,
   "metadata": {
    "id": "OQNk6X_RKBuE"
   },
   "outputs": [],
   "source": [
    "results[1]"
   ]
  },
  {
   "cell_type": "markdown",
   "metadata": {
    "id": "808-IeqCNb1v"
   },
   "source": [
    "We remark that\n",
    "- Naive Bayes\n",
    "- Logistic regression\n",
    "\n",
    "We can then conclude that t\n",
    "- he two models set a good performance on both training and test set.\n",
    "- The Logistic regression models outperforms the Naive Bayes model\n",
    "\n",
    "In the next section, we will tune the parameters of the Naive bayes to get the best parameters."
   ]
  },
  {
   "cell_type": "markdown",
   "metadata": {
    "id": "xkME6ByNOegG"
   },
   "source": [
    "## VI- Logistic regression hyperparameters tuning"
   ]
  },
  {
   "cell_type": "markdown",
   "metadata": {
    "id": "pAWi0NqwSzgp"
   },
   "source": [
    "### 1. Pipeline creation"
   ]
  },
  {
   "cell_type": "code",
   "execution_count": null,
   "metadata": {
    "id": "Wtq5K0JbOdpD"
   },
   "outputs": [],
   "source": [
    "# Define parameter grids for Logistic regresion grid search\n",
    "reg_values = np.logspace(-4, 4, num=100)\n",
    "l1_ratios = np.linspace(0, 1, num=10)\n",
    "\n",
    "paramGrid_lr=paramGrid_lr.addGrid(lr.regParam, reg_values).build()\n",
    "\n",
    "# Create Cross-validation for Logistic Regression\n",
    "cv_lr = CrossValidator(estimator=lr, estimatorParamMaps=paramGrid_lr,\n",
    "                        evaluator=MulticlassClassificationEvaluator(labelCol=\"category_label\", predictionCol=\"prediction\", metricName=\"accuracy\"),\n",
    "                        numFolds=3, parallelism=1)\n",
    "\n",
    "\n",
    "# Create pipeline for Logistic Regression\n",
    "pipeline_lr = Pipeline(stages=[hashingTF, idf, cv_lr])\n",
    "\n",
    "pipeline_lr"
   ]
  },
  {
   "cell_type": "markdown",
   "metadata": {
    "id": "0XhMJxEzS87h"
   },
   "source": [
    "### 2. Hyperparameters tuning"
   ]
  },
  {
   "cell_type": "code",
   "execution_count": null,
   "metadata": {
    "id": "4bSLe3K5TL1L"
   },
   "outputs": [],
   "source": [
    "results=train_and_evaluate_models(model_pipelines=[pipeline_lr],model_names=[\"Logistic Regression\"])\n",
    "results"
   ]
  },
  {
   "cell_type": "markdown",
   "metadata": {
    "id": "yUlLvsWVTkDy"
   },
   "source": [
    "### 3. Get the best parameters"
   ]
  },
  {
   "cell_type": "code",
   "execution_count": null,
   "metadata": {
    "id": "k5rCb_boTk3e"
   },
   "outputs": [],
   "source": [
    "fitted_model=results['fitted_model']\n",
    "\n",
    "# Get the best model\n",
    "best_model = fitted_model.stages[-1].bestModel\n",
    "\n",
    "# Print the best parameters\n",
    "print(f\"Best parameters for Logistic regression:\")\n",
    "\n",
    "for param, value in best_model.extractParamMap().items():\n",
    "     print(f\"  {param.name}: {value}\")"
   ]
  },
  {
   "cell_type": "markdown",
   "metadata": {
    "id": "uEH0OfIqUxOg"
   },
   "source": [
    "### 4. Save the best model"
   ]
  },
  {
   "cell_type": "code",
   "execution_count": null,
   "metadata": {
    "id": "xX4pmvAVBByZ",
    "outputId": "843aa553-e419-43ba-dbb3-3ebb1a67f454"
   },
   "outputs": [
    {
     "name": "stderr",
     "output_type": "stream",
     "text": [
      "24/06/04 20:03:43 WARN TaskSetManager: Stage 216 contains a task of very large size (33450 KiB). The maximum recommended task size is 1000 KiB.\n",
      "                                                                                \r"
     ]
    }
   ],
   "source": [
    "best_model.save('output/news_categorization_model')"
   ]
  },
  {
   "cell_type": "markdown",
   "metadata": {
    "id": "GnFsw8x5Vyy2"
   },
   "source": [
    "## VII- Summary\n",
    "\n",
    "In this notebook we have studied two models for our news categorization task. There are Naive Bayes and Logistic regression.\n",
    "\n",
    " Our study reveals that the Logistic regression was the one with best performance.\n",
    "\n",
    " Then we tunned the Logistic regression hyperparameters using grid search and then we find the best model that we save.\n",
    "\n",
    " The next step of our work will be to ..."
   ]
  },
  {
   "cell_type": "code",
   "execution_count": null,
   "metadata": {
    "id": "NSyD5awwBByb"
   },
   "outputs": [],
   "source": [
    "#df.unpersist()"
   ]
  }
 ],
 "metadata": {
  "colab": {
   "provenance": []
  },
  "kernelspec": {
   "display_name": "Python 3 (ipykernel)",
   "language": "python",
   "name": "python3"
  },
  "language_info": {
   "codemirror_mode": {
    "name": "ipython",
    "version": 3
   },
   "file_extension": ".py",
   "mimetype": "text/x-python",
   "name": "python",
   "nbconvert_exporter": "python",
   "pygments_lexer": "ipython3",
   "version": "3.8.2"
  }
 },
 "nbformat": 4,
 "nbformat_minor": 1
}
