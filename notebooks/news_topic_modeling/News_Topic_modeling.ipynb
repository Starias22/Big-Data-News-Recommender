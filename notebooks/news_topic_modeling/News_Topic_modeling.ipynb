{
 "cells": [
  {
   "cell_type": "markdown",
   "metadata": {
    "id": "u-qFVy2lBaqu"
   },
   "source": [
    "# News Topic modeling\n"
   ]
  },
  {
   "cell_type": "markdown",
   "metadata": {
    "id": "mNfMRWDbFXDJ"
   },
   "source": [
    "## I- Modules import"
   ]
  },
  {
   "cell_type": "code",
   "execution_count": 182,
   "metadata": {
    "id": "3QYNQcr-FQLs"
   },
   "outputs": [],
   "source": [
    "from pyspark import SparkConf, SparkContext\n",
    "from pyspark.sql import SparkSession,Row\n",
    "from pyspark.ml.feature import CountVectorizer,IDF\n",
    "from pyspark.ml import Pipeline\n",
    "from pyspark.sql.functions import col,explode,split\n",
    "from pyspark.ml.clustering import LDA"
   ]
  },
  {
   "cell_type": "markdown",
   "metadata": {
    "id": "Nj7Qu-EvK9_Y"
   },
   "source": [
    "## II- Spark context and session creation"
   ]
  },
  {
   "cell_type": "code",
   "execution_count": 188,
   "metadata": {
    "colab": {
     "base_uri": "https://localhost:8080/",
     "height": 219
    },
    "id": "aFZWn6-QBByS",
    "outputId": "cc18968f-50af-4a70-9d51-126be08a96c8",
    "scrolled": false
   },
   "outputs": [
    {
     "data": {
      "text/html": [
       "\n",
       "            <div>\n",
       "                <p><b>SparkSession - in-memory</b></p>\n",
       "                \n",
       "        <div>\n",
       "            <p><b>SparkContext</b></p>\n",
       "\n",
       "            <p><a href=\"http://node15.cm.cluster:4040\">Spark UI</a></p>\n",
       "\n",
       "            <dl>\n",
       "              <dt>Version</dt>\n",
       "                <dd><code>v3.5.1</code></dd>\n",
       "              <dt>Master</dt>\n",
       "                <dd><code>spark://node02:7077</code></dd>\n",
       "              <dt>AppName</dt>\n",
       "                <dd><code>NewsTopicModeling</code></dd>\n",
       "            </dl>\n",
       "        </div>\n",
       "        \n",
       "            </div>\n",
       "        "
      ],
      "text/plain": [
       "<pyspark.sql.session.SparkSession at 0x7fff9c30bb80>"
      ]
     },
     "execution_count": 188,
     "metadata": {},
     "output_type": "execute_result"
    }
   ],
   "source": [
    "spark = (SparkSession.builder\n",
    "    .master(\"spark://node02:7077\")\n",
    "    .appName(\"NewsTopicModeling\")\n",
    "    .getOrCreate()\n",
    "        )\n",
    "spark"
   ]
  },
  {
   "cell_type": "code",
   "execution_count": 189,
   "metadata": {},
   "outputs": [],
   "source": [
    "#spark.stop()"
   ]
  },
  {
   "cell_type": "markdown",
   "metadata": {
    "id": "PuV9CWoMN60A"
   },
   "source": [
    "## III- Dataframe preparing"
   ]
  },
  {
   "cell_type": "markdown",
   "metadata": {
    "id": "Em4ZWvqhPoHt"
   },
   "source": [
    "### 1. Load the data\n",
    "\n",
    "This is a clustering task which is an unsipervised Machine Learning approach. We then do not need to load the cateegories."
   ]
  },
  {
   "cell_type": "code",
   "execution_count": 190,
   "metadata": {
    "id": "xMI_45McvZto"
   },
   "outputs": [
    {
     "name": "stderr",
     "output_type": "stream",
     "text": [
      "                                                                                \r"
     ]
    }
   ],
   "source": [
    "# Load the data: Only the filtered descritpion\n",
    "df = spark.read.parquet(\"input/news.parquet\", header=True, inferSchema=True).select('description_filtered')"
   ]
  },
  {
   "cell_type": "markdown",
   "metadata": {
    "id": "x4csdl2FOVf8"
   },
   "source": [
    "### 2. Partition and cache the dataframe"
   ]
  },
  {
   "cell_type": "code",
   "execution_count": 192,
   "metadata": {
    "colab": {
     "base_uri": "https://localhost:8080/"
    },
    "id": "4EXrJ3GIBByT",
    "outputId": "0d866061-6fee-4bbb-fd79-84c946204d72"
   },
   "outputs": [
    {
     "data": {
      "text/plain": [
       "9"
      ]
     },
     "execution_count": 192,
     "metadata": {},
     "output_type": "execute_result"
    }
   ],
   "source": [
    "df.rdd.getNumPartitions()"
   ]
  },
  {
   "cell_type": "code",
   "execution_count": 193,
   "metadata": {
    "id": "PPBefKKqBByU"
   },
   "outputs": [],
   "source": [
    "# Use 4 partitions per core\n",
    "num_partitions=4*40\n",
    "df= df.repartition(num_partitions).cache()"
   ]
  },
  {
   "cell_type": "code",
   "execution_count": 194,
   "metadata": {
    "colab": {
     "base_uri": "https://localhost:8080/"
    },
    "id": "ytFY1tjRBByU",
    "outputId": "cf5d7480-394e-43ac-e8e0-bc5cef64d4e2"
   },
   "outputs": [
    {
     "name": "stderr",
     "output_type": "stream",
     "text": [
      "[Stage 3:============================================>         (131 + 29) / 160]\r"
     ]
    },
    {
     "data": {
      "text/plain": [
       "160"
      ]
     },
     "execution_count": 194,
     "metadata": {},
     "output_type": "execute_result"
    }
   ],
   "source": [
    "df.rdd.getNumPartitions()"
   ]
  },
  {
   "cell_type": "markdown",
   "metadata": {
    "id": "4G5XozIiQTEx"
   },
   "source": [
    "### 3. Preview the data"
   ]
  },
  {
   "cell_type": "code",
   "execution_count": 195,
   "metadata": {
    "colab": {
     "base_uri": "https://localhost:8080/"
    },
    "id": "r86OcjwLv0EU",
    "outputId": "63e295fa-1b60-414b-f44f-3f8c8fd24a4b"
   },
   "outputs": [
    {
     "name": "stderr",
     "output_type": "stream",
     "text": [
      "                                                                                \r"
     ]
    },
    {
     "data": {
      "text/plain": [
       "1716608"
      ]
     },
     "execution_count": 195,
     "metadata": {},
     "output_type": "execute_result"
    }
   ],
   "source": [
    "df.count()"
   ]
  },
  {
   "cell_type": "code",
   "execution_count": 196,
   "metadata": {
    "colab": {
     "base_uri": "https://localhost:8080/"
    },
    "id": "sfy_ivN4BByV",
    "outputId": "c374612e-8073-411f-a842-736cbe7eef50"
   },
   "outputs": [
    {
     "name": "stdout",
     "output_type": "stream",
     "text": [
      "+--------------------+\n",
      "|description_filtered|\n",
      "+--------------------+\n",
      "|republic fiji sta...|\n",
      "|calif schooltime ...|\n",
      "|enlist enraged ho...|\n",
      "|101 effective sim...|\n",
      "|united arab repub...|\n",
      "|big detonation ca...|\n",
      "|highpriced troika...|\n",
      "|community harvest...|\n",
      "|year blackfriar d...|\n",
      "|11 papa yankee st...|\n",
      "|lilliputian girlf...|\n",
      "|finally atomic nu...|\n",
      "|class opportunity...|\n",
      "|dog live furbulou...|\n",
      "|boulevard star ro...|\n",
      "|  fuck better others|\n",
      "|superhero promena...|\n",
      "|film review james...|\n",
      "|taiwan milepost d...|\n",
      "|cecile ivor armst...|\n",
      "+--------------------+\n",
      "only showing top 20 rows\n",
      "\n"
     ]
    }
   ],
   "source": [
    "df.show()"
   ]
  },
  {
   "cell_type": "code",
   "execution_count": 197,
   "metadata": {
    "colab": {
     "base_uri": "https://localhost:8080/"
    },
    "id": "awWri7zZQcOl",
    "outputId": "80402c12-f32a-483f-9ed0-ddad43eda4c4"
   },
   "outputs": [
    {
     "name": "stdout",
     "output_type": "stream",
     "text": [
      "root\n",
      " |-- description_filtered: string (nullable = true)\n",
      "\n"
     ]
    }
   ],
   "source": [
    "df.printSchema()"
   ]
  },
  {
   "cell_type": "markdown",
   "metadata": {
    "id": "VMpXsNNsO_Z6"
   },
   "source": [
    "### 4. Convert filtered descriptions to arrays"
   ]
  },
  {
   "cell_type": "code",
   "execution_count": 198,
   "metadata": {
    "colab": {
     "base_uri": "https://localhost:8080/"
    },
    "id": "Drqnhee0i26r",
    "outputId": "63a0cd7d-df8f-45c9-a6b5-ef7cf9bf7ebc"
   },
   "outputs": [
    {
     "name": "stdout",
     "output_type": "stream",
     "text": [
      "+----------------------------------------------------------------------------------------------------------+\n",
      "|description_filtered                                                                                      |\n",
      "+----------------------------------------------------------------------------------------------------------+\n",
      "|[republic, fiji, starting, time, respondent, train, address, sexual, force, tragedy]                      |\n",
      "|[calif, schooltime, fire, teacher, mock, pupil, participating, immigrant, bang]                           |\n",
      "|[enlist, enraged, hoi, polloi, vow, end, alzheimer, 2020]                                                 |\n",
      "|[101, effective, simple, drill, eff, deeply]                                                              |\n",
      "|[united, arab, republic, yisrael, palestinian, arab]                                                      |\n",
      "|[big, detonation, careen, confederate, state, america, la, police, capture, illegal, pyrotechnic]         |\n",
      "|[highpriced, troika, essential, tailor, decision]                                                         |\n",
      "|[community, harvest, time, field, farmer, cancer, crab, sow, endless, making, love]                       |\n",
      "|[year, blackfriar, day, parade, make, maam]                                                               |\n",
      "|[11, papa, yankee, striking, need, hear, ve, overplayed, despacito]                                       |\n",
      "|[lilliputian, girlfriend, husky, puppy, howling, doggone, cute, duo]                                      |\n",
      "|[finally, atomic, number, 57, lope, de, vega, grows]                                                      |\n",
      "|[class, opportunity, armed, combat, clime, change, transform, economy]                                    |\n",
      "|[dog, live, furbulous, invitee, thanksgiving, dinner]                                                     |\n",
      "|[boulevard, star, roberto, aguire, work, robin, william, carlos, williams, terminal, dramatic, role]      |\n",
      "|[fuck, better, others]                                                                                    |\n",
      "|[superhero, promenade, depiction, destination, af]                                                        |\n",
      "|[film, review, james, byron, dean, kamen, slingshot, global, humanistic, necessity]                       |\n",
      "|[taiwan, milepost, dragon, rising, slope]                                                                 |\n",
      "|[cecile, ivor, armstrong, richards, reproductive, department, justice, immigrant, justice, go, hand, hand]|\n",
      "+----------------------------------------------------------------------------------------------------------+\n",
      "only showing top 20 rows\n",
      "\n"
     ]
    }
   ],
   "source": [
    "# Create a new DataFrame with description_filtered as arrays\n",
    "df= df.withColumn('description_filtered', split(col('description_filtered'), ' '))\n",
    "# Show the new DataFrame\n",
    "df.show(truncate=False)"
   ]
  },
  {
   "cell_type": "code",
   "execution_count": 199,
   "metadata": {},
   "outputs": [],
   "source": [
    "#df=df.select('description_filtered')\n",
    "#df.show()"
   ]
  },
  {
   "cell_type": "markdown",
   "metadata": {
    "id": "3RmBazOpQqXF"
   },
   "source": [
    "## IV- Feature Engineering\n"
   ]
  },
  {
   "cell_type": "markdown",
   "metadata": {
    "id": "LjsTG0YLSyEn"
   },
   "source": [
    "### 1. Explode the filtered descriptions to get the words"
   ]
  },
  {
   "cell_type": "code",
   "execution_count": 200,
   "metadata": {
    "colab": {
     "base_uri": "https://localhost:8080/"
    },
    "id": "4qON2vCKBByX",
    "outputId": "3b8af783-1259-46dd-9346-ee5ee60033c4"
   },
   "outputs": [
    {
     "name": "stdout",
     "output_type": "stream",
     "text": [
      "+-------------+\n",
      "|          col|\n",
      "+-------------+\n",
      "|     republic|\n",
      "|         fiji|\n",
      "|     starting|\n",
      "|         time|\n",
      "|   respondent|\n",
      "|        train|\n",
      "|      address|\n",
      "|       sexual|\n",
      "|        force|\n",
      "|      tragedy|\n",
      "|        calif|\n",
      "|   schooltime|\n",
      "|         fire|\n",
      "|      teacher|\n",
      "|         mock|\n",
      "|        pupil|\n",
      "|participating|\n",
      "|    immigrant|\n",
      "|         bang|\n",
      "|       enlist|\n",
      "+-------------+\n",
      "only showing top 20 rows\n",
      "\n"
     ]
    }
   ],
   "source": [
    "exploded_df=df.select(explode(df.description_filtered)).alias('words')\n",
    "exploded_df.show()"
   ]
  },
  {
   "cell_type": "markdown",
   "metadata": {
    "id": "MohTRQirTXD3"
   },
   "source": [
    "### 2. Get unique words in the filtered_description"
   ]
  },
  {
   "cell_type": "code",
   "execution_count": 202,
   "metadata": {
    "id": "2NbJFyQlBByX"
   },
   "outputs": [],
   "source": [
    "unique_words=exploded_df.distinct()"
   ]
  },
  {
   "cell_type": "markdown",
   "metadata": {
    "id": "t-UjxthKU0Rq"
   },
   "source": [
    "### 3. Cache and show the unique words dataframe"
   ]
  },
  {
   "cell_type": "code",
   "execution_count": 203,
   "metadata": {
    "colab": {
     "base_uri": "https://localhost:8080/"
    },
    "id": "h1S8h39xBByX",
    "outputId": "8c884387-1347-4441-d313-56027086df18"
   },
   "outputs": [
    {
     "name": "stderr",
     "output_type": "stream",
     "text": [
      "[Stage 19:==========================================>          (162 + 38) / 200]\r"
     ]
    },
    {
     "name": "stdout",
     "output_type": "stream",
     "text": [
      "+----------+\n",
      "|       col|\n",
      "+----------+\n",
      "|      hope|\n",
      "|       art|\n",
      "|     oscar|\n",
      "|    online|\n",
      "|     crest|\n",
      "|     trail|\n",
      "|      iffy|\n",
      "|   melodic|\n",
      "| traveling|\n",
      "|     still|\n",
      "|    gloria|\n",
      "|    poetry|\n",
      "|      pant|\n",
      "|    honcho|\n",
      "|  medicare|\n",
      "| recognize|\n",
      "|    filing|\n",
      "|  vladimir|\n",
      "|rejuvenate|\n",
      "|   alquran|\n",
      "+----------+\n",
      "only showing top 20 rows\n",
      "\n"
     ]
    },
    {
     "name": "stderr",
     "output_type": "stream",
     "text": [
      "\r",
      "                                                                                \r"
     ]
    }
   ],
   "source": [
    "unique_words=unique_words.cache()\n",
    "unique_words.show()"
   ]
  },
  {
   "cell_type": "markdown",
   "metadata": {
    "id": "KCb1pLl3VLOL"
   },
   "source": [
    "### 4. Get the vocabulary size"
   ]
  },
  {
   "cell_type": "code",
   "execution_count": 204,
   "metadata": {
    "colab": {
     "base_uri": "https://localhost:8080/"
    },
    "id": "dCakXZ3PBByX",
    "outputId": "e54847cd-6dce-4cf7-ffcb-7770061fcf18"
   },
   "outputs": [
    {
     "data": {
      "text/plain": [
       "128622"
      ]
     },
     "execution_count": 204,
     "metadata": {},
     "output_type": "execute_result"
    }
   ],
   "source": [
    "vocabulary_size=unique_words.count()\n",
    "vocabulary_size"
   ]
  },
  {
   "cell_type": "markdown",
   "metadata": {
    "id": "cV9aikKbYQzj"
   },
   "source": [
    "### 5. Define the CountVectorizer and IDF stages"
   ]
  },
  {
   "cell_type": "code",
   "execution_count": 205,
   "metadata": {
    "colab": {
     "base_uri": "https://localhost:8080/"
    },
    "id": "qYJp-K7O8pWN",
    "outputId": "dbdeed43-bf9e-40c4-ee66-ecd519909310"
   },
   "outputs": [],
   "source": [
    "# Define the HashingTF and IDF stages\n",
    "vectorizer = CountVectorizer(inputCol=\"description_filtered\", outputCol=\"raw_features\",vocabSize=vocabulary_size, minDF=3.0)\n",
    "idf = IDF(inputCol=\"raw_features\", outputCol=\"features\")"
   ]
  },
  {
   "cell_type": "markdown",
   "metadata": {
    "id": "74T1zTMRxKP8"
   },
   "source": [
    "## V- Models set up, training and evaluation"
   ]
  },
  {
   "cell_type": "markdown",
   "metadata": {
    "id": "HmY4gqj5Q2w_"
   },
   "source": [
    "### 1. Set up LDA model"
   ]
  },
  {
   "cell_type": "markdown",
   "metadata": {},
   "source": [
    "Let us define our model\n",
    "We will use 30 topics since: 30 is close to the number of categories in our news data."
   ]
  },
  {
   "cell_type": "code",
   "execution_count": 210,
   "metadata": {
    "id": "f8ya3gJ_PxLc"
   },
   "outputs": [
    {
     "data": {
      "text/plain": [
       "LDA_b97404b1c336"
      ]
     },
     "execution_count": 210,
     "metadata": {},
     "output_type": "execute_result"
    }
   ],
   "source": [
    "num_topics = 30\n",
    "#lda = LDA(k=num_topics, maxIter=10)\n",
    "lda = LDA(featuresCol=\"features\",seed=0,k=num_topics)\n",
    "lda"
   ]
  },
  {
   "cell_type": "markdown",
   "metadata": {
    "id": "XT81OlVr5Ck1"
   },
   "source": [
    "### 2. Set up pipeline\n",
    "\n",
    "We will  set up the pipeline of the following transformations for LDA\n",
    "\n",
    "- CountVectorizer\n",
    "- IDF"
   ]
  },
  {
   "cell_type": "code",
   "execution_count": 211,
   "metadata": {},
   "outputs": [
    {
     "data": {
      "text/plain": [
       "Pipeline_7d0652e36abc"
      ]
     },
     "execution_count": 211,
     "metadata": {},
     "output_type": "execute_result"
    }
   ],
   "source": [
    "from pyspark.ml import Pipeline\n",
    "from pyspark.ml.feature import CountVectorizer, IDF\n",
    "from pyspark.ml.tuning import CrossValidator, ParamGridBuilder\n",
    "from pyspark.ml.evaluation import ClusteringEvaluator\n",
    "from pyspark.ml.clustering import LDA\n",
    " \n",
    "# Create pipeline for LDA\n",
    "pipeline = Pipeline(stages=[vectorizer, idf, lda]) \n",
    "\n",
    "\n",
    "pipeline"
   ]
  },
  {
   "cell_type": "markdown",
   "metadata": {
    "id": "UD0gwMNf7yY7"
   },
   "source": [
    "### 3. Split the data\n",
    "\n",
    "First of all let us split the data into train and test set: **80%** for train and **20%** for test"
   ]
  },
  {
   "cell_type": "code",
   "execution_count": 212,
   "metadata": {
    "id": "pThnAKRy8LqP"
   },
   "outputs": [],
   "source": [
    "# Split data\n",
    "(train_set, test_set) = df.randomSplit([0.8, 0.2], seed=0)"
   ]
  },
  {
   "cell_type": "markdown",
   "metadata": {
    "id": "M84xeE8i67YF"
   },
   "source": [
    "### 4. Model training"
   ]
  },
  {
   "cell_type": "code",
   "execution_count": 213,
   "metadata": {
    "colab": {
     "base_uri": "https://localhost:8080/"
    },
    "id": "AvRF-E1-7ncY",
    "outputId": "a361d112-8d8c-43c1-c926-d4a562e61afd"
   },
   "outputs": [],
   "source": [
    "def train_model(model):    \n",
    "    return model.fit(train_set)"
   ]
  },
  {
   "cell_type": "code",
   "execution_count": 214,
   "metadata": {},
   "outputs": [
    {
     "name": "stderr",
     "output_type": "stream",
     "text": [
      "24/06/07 11:31:53 WARN DAGScheduler: Broadcasting large task binary with size 1986.5 KiB\n",
      "24/06/07 11:31:57 WARN DAGScheduler: Broadcasting large task binary with size 1986.5 KiB\n",
      "24/06/07 11:31:57 WARN DAGScheduler: Broadcasting large task binary with size 2003.4 KiB\n",
      "24/06/07 11:31:58 WARN DAGScheduler: Broadcasting large task binary with size 2006.9 KiB\n",
      "24/06/07 11:32:05 WARN DAGScheduler: Broadcasting large task binary with size 2008.2 KiB\n",
      "24/06/07 11:32:07 WARN DAGScheduler: Broadcasting large task binary with size 2003.4 KiB\n",
      "24/06/07 11:32:08 WARN DAGScheduler: Broadcasting large task binary with size 2006.9 KiB\n",
      "24/06/07 11:32:13 WARN DAGScheduler: Broadcasting large task binary with size 2008.2 KiB\n",
      "24/06/07 11:32:15 WARN DAGScheduler: Broadcasting large task binary with size 2003.4 KiB\n",
      "24/06/07 11:32:16 WARN DAGScheduler: Broadcasting large task binary with size 2006.9 KiB\n",
      "24/06/07 11:32:20 WARN DAGScheduler: Broadcasting large task binary with size 2008.2 KiB\n",
      "24/06/07 11:32:22 WARN DAGScheduler: Broadcasting large task binary with size 2003.4 KiB\n",
      "24/06/07 11:32:23 WARN DAGScheduler: Broadcasting large task binary with size 2006.9 KiB\n",
      "24/06/07 11:32:27 WARN DAGScheduler: Broadcasting large task binary with size 2008.2 KiB\n",
      "24/06/07 11:32:29 WARN DAGScheduler: Broadcasting large task binary with size 2003.4 KiB\n",
      "24/06/07 11:32:30 WARN DAGScheduler: Broadcasting large task binary with size 2006.9 KiB\n",
      "24/06/07 11:32:34 WARN DAGScheduler: Broadcasting large task binary with size 2008.2 KiB\n",
      "24/06/07 11:32:36 WARN DAGScheduler: Broadcasting large task binary with size 2003.4 KiB\n",
      "24/06/07 11:32:37 WARN DAGScheduler: Broadcasting large task binary with size 2006.9 KiB\n",
      "24/06/07 11:32:41 WARN DAGScheduler: Broadcasting large task binary with size 2008.2 KiB\n",
      "24/06/07 11:32:43 WARN DAGScheduler: Broadcasting large task binary with size 2003.4 KiB\n",
      "24/06/07 11:32:44 WARN DAGScheduler: Broadcasting large task binary with size 2006.9 KiB\n",
      "24/06/07 11:32:47 WARN DAGScheduler: Broadcasting large task binary with size 2008.2 KiB\n",
      "24/06/07 11:32:50 WARN DAGScheduler: Broadcasting large task binary with size 2003.4 KiB\n",
      "24/06/07 11:32:51 WARN DAGScheduler: Broadcasting large task binary with size 2006.9 KiB\n",
      "24/06/07 11:32:54 WARN DAGScheduler: Broadcasting large task binary with size 2008.2 KiB\n",
      "24/06/07 11:32:57 WARN DAGScheduler: Broadcasting large task binary with size 2003.4 KiB\n",
      "24/06/07 11:32:57 WARN DAGScheduler: Broadcasting large task binary with size 2006.9 KiB\n",
      "24/06/07 11:33:01 WARN DAGScheduler: Broadcasting large task binary with size 2008.2 KiB\n",
      "24/06/07 11:33:03 WARN DAGScheduler: Broadcasting large task binary with size 2003.4 KiB\n",
      "24/06/07 11:33:04 WARN DAGScheduler: Broadcasting large task binary with size 2006.9 KiB\n",
      "24/06/07 11:33:07 WARN DAGScheduler: Broadcasting large task binary with size 2008.2 KiB\n",
      "24/06/07 11:33:10 WARN DAGScheduler: Broadcasting large task binary with size 2003.4 KiB\n",
      "24/06/07 11:33:11 WARN DAGScheduler: Broadcasting large task binary with size 2006.9 KiB\n",
      "24/06/07 11:33:14 WARN DAGScheduler: Broadcasting large task binary with size 2008.2 KiB\n",
      "24/06/07 11:33:16 WARN DAGScheduler: Broadcasting large task binary with size 2003.4 KiB\n",
      "24/06/07 11:33:17 WARN DAGScheduler: Broadcasting large task binary with size 2006.9 KiB\n",
      "24/06/07 11:33:20 WARN DAGScheduler: Broadcasting large task binary with size 2008.2 KiB\n",
      "24/06/07 11:33:23 WARN DAGScheduler: Broadcasting large task binary with size 2003.4 KiB\n",
      "24/06/07 11:33:24 WARN DAGScheduler: Broadcasting large task binary with size 2006.9 KiB\n",
      "24/06/07 11:33:27 WARN DAGScheduler: Broadcasting large task binary with size 2008.2 KiB\n",
      "24/06/07 11:33:29 WARN DAGScheduler: Broadcasting large task binary with size 2003.4 KiB\n",
      "24/06/07 11:33:30 WARN DAGScheduler: Broadcasting large task binary with size 2006.9 KiB\n",
      "24/06/07 11:33:33 WARN DAGScheduler: Broadcasting large task binary with size 2008.2 KiB\n",
      "24/06/07 11:33:35 WARN DAGScheduler: Broadcasting large task binary with size 2003.4 KiB\n",
      "24/06/07 11:33:36 WARN DAGScheduler: Broadcasting large task binary with size 2006.9 KiB\n",
      "24/06/07 11:33:39 WARN DAGScheduler: Broadcasting large task binary with size 2008.2 KiB\n",
      "24/06/07 11:33:41 WARN DAGScheduler: Broadcasting large task binary with size 2003.4 KiB\n",
      "24/06/07 11:33:42 WARN DAGScheduler: Broadcasting large task binary with size 2006.9 KiB\n",
      "24/06/07 11:33:45 WARN DAGScheduler: Broadcasting large task binary with size 2008.2 KiB\n",
      "24/06/07 11:33:48 WARN DAGScheduler: Broadcasting large task binary with size 2003.4 KiB\n",
      "24/06/07 11:33:48 WARN DAGScheduler: Broadcasting large task binary with size 2006.9 KiB\n",
      "24/06/07 11:33:51 WARN DAGScheduler: Broadcasting large task binary with size 2008.2 KiB\n",
      "24/06/07 11:33:54 WARN DAGScheduler: Broadcasting large task binary with size 2003.4 KiB\n",
      "24/06/07 11:33:55 WARN DAGScheduler: Broadcasting large task binary with size 2006.9 KiB\n",
      "24/06/07 11:33:58 WARN DAGScheduler: Broadcasting large task binary with size 2008.2 KiB\n",
      "24/06/07 11:34:00 WARN DAGScheduler: Broadcasting large task binary with size 2003.4 KiB\n",
      "24/06/07 11:34:01 WARN DAGScheduler: Broadcasting large task binary with size 2006.9 KiB\n",
      "24/06/07 11:34:04 WARN DAGScheduler: Broadcasting large task binary with size 2008.2 KiB\n",
      "24/06/07 11:34:07 WARN DAGScheduler: Broadcasting large task binary with size 2003.4 KiB\n",
      "24/06/07 11:34:07 WARN DAGScheduler: Broadcasting large task binary with size 2006.9 KiB\n",
      "24/06/07 11:34:10 WARN DAGScheduler: Broadcasting large task binary with size 2008.2 KiB\n",
      "                                                                                \r"
     ]
    },
    {
     "data": {
      "text/plain": [
       "PipelineModel_00b501ec3d9e"
      ]
     },
     "execution_count": 214,
     "metadata": {},
     "output_type": "execute_result"
    }
   ],
   "source": [
    "fitted_model=train_model(pipeline)\n",
    "fitted_model"
   ]
  },
  {
   "cell_type": "markdown",
   "metadata": {},
   "source": [
    "### 5. Visualize the topics"
   ]
  },
  {
   "cell_type": "code",
   "execution_count": 215,
   "metadata": {},
   "outputs": [
    {
     "data": {
      "text/plain": [
       "73480"
      ]
     },
     "execution_count": 215,
     "metadata": {},
     "output_type": "execute_result"
    }
   ],
   "source": [
    "fitted_vectorizer=fitted_model.stages[0]\n",
    "vocabulary= fitted_vectorizer.vocabulary\n",
    "len(vocabulary)"
   ]
  },
  {
   "cell_type": "code",
   "execution_count": 216,
   "metadata": {},
   "outputs": [
    {
     "data": {
      "text/plain": [
       "['new', 'photo', 'state', 'trump', 'day', 'nt', 'say', 'woman', 'get', 'make']"
      ]
     },
     "execution_count": 216,
     "metadata": {},
     "output_type": "execute_result"
    }
   ],
   "source": [
    "vocabulary[:10]"
   ]
  },
  {
   "cell_type": "code",
   "execution_count": 217,
   "metadata": {},
   "outputs": [
    {
     "name": "stdout",
     "output_type": "stream",
     "text": [
      "+-----+--------------------+--------------------+\n",
      "|topic|         termIndices|         termWeights|\n",
      "+-----+--------------------+--------------------+\n",
      "|    0|[52, 430, 465, 40...|[0.00755588702618...|\n",
      "|    1|[439, 792, 516, 6...|[0.00715646069959...|\n",
      "|    2|[256, 279, 1, 591...|[0.00689308452009...|\n",
      "|    3|[56, 96, 5, 313, ...|[0.01890835473680...|\n",
      "|    4|[291, 456, 703, 8...|[0.00919124056313...|\n",
      "|    5|[375, 697, 782, 8...|[0.00636053853579...|\n",
      "|    6|[146, 235, 198, 9...|[0.00652703106352...|\n",
      "|    7|[135, 99, 155, 31...|[0.01118587124523...|\n",
      "|    8|[311, 858, 0, 103...|[0.00809170294982...|\n",
      "|    9|[26, 195, 231, 21...|[0.01013236656762...|\n",
      "|   10|[16, 32, 395, 55,...|[0.01303652311645...|\n",
      "|   11|[21, 92, 37, 3, 1...|[0.02038315645753...|\n",
      "|   12|[384, 492, 237, 5...|[0.00808566906139...|\n",
      "|   13|[31, 242, 440, 54...|[0.01250681082572...|\n",
      "|   14|[587, 263, 750, 7...|[0.00629233566886...|\n",
      "|   15|[149, 409, 333, 7...|[0.00759634333462...|\n",
      "|   16|[4, 75, 192, 352,...|[0.01246747117105...|\n",
      "|   17|[27, 397, 302, 63...|[0.00935008637771...|\n",
      "|   18|[642, 690, 660, 7...|[0.00629142981336...|\n",
      "|   19|[107, 197, 3, 702...|[0.01278941423380...|\n",
      "+-----+--------------------+--------------------+\n",
      "only showing top 20 rows\n",
      "\n"
     ]
    }
   ],
   "source": [
    "topics = fitted_model.stages[-1].describeTopics()   \n",
    "topics.show()"
   ]
  },
  {
   "cell_type": "code",
   "execution_count": 218,
   "metadata": {},
   "outputs": [
    {
     "name": "stderr",
     "output_type": "stream",
     "text": [
      "                                                                                \r"
     ]
    },
    {
     "data": {
      "text/plain": [
       "[['republic',\n",
       "  'monophosphate',\n",
       "  'deoxyadenosine',\n",
       "  'advice',\n",
       "  'china',\n",
       "  'street',\n",
       "  'side',\n",
       "  'cuba',\n",
       "  'despite',\n",
       "  'control'],\n",
       " ['vacation',\n",
       "  'halloween',\n",
       "  'everything',\n",
       "  'testament',\n",
       "  'meditation',\n",
       "  'thanksgiving',\n",
       "  'better',\n",
       "  'edward',\n",
       "  'everyone',\n",
       "  'williams']]"
      ]
     },
     "execution_count": 218,
     "metadata": {},
     "output_type": "execute_result"
    }
   ],
   "source": [
    "topics_rdd = topics.rdd\n",
    "topics_words = topics_rdd\\\n",
    "       .map(lambda row: row['termIndices'])\\\n",
    "       .map(lambda idx_list: [vocabulary[idx] for idx in idx_list])\\\n",
    "       .collect()\n",
    "topics_words[:2]"
   ]
  },
  {
   "cell_type": "code",
   "execution_count": 219,
   "metadata": {},
   "outputs": [
    {
     "name": "stdout",
     "output_type": "stream",
     "text": [
      "topic: 0\n",
      "*************************\n",
      "republic\n",
      "monophosphate\n",
      "deoxyadenosine\n",
      "advice\n",
      "china\n",
      "street\n",
      "side\n",
      "cuba\n",
      "despite\n",
      "control\n",
      "*************************\n",
      "topic: 1\n",
      "*************************\n",
      "vacation\n",
      "halloween\n",
      "everything\n",
      "testament\n",
      "meditation\n",
      "thanksgiving\n",
      "better\n",
      "edward\n",
      "everyone\n",
      "williams\n",
      "*************************\n",
      "topic: 2\n",
      "*************************\n",
      "system\n",
      "prison\n",
      "photo\n",
      "term\n",
      "future\n",
      "shoot\n",
      "michael\n",
      "governor\n",
      "base\n",
      "rescue\n",
      "*************************\n",
      "topic: 3\n",
      "*************************\n",
      "marriage\n",
      "sexual\n",
      "nt\n",
      "ceremony\n",
      "history\n",
      "wo\n",
      "real\n",
      "assault\n",
      "life\n",
      "proposal\n",
      "*************************\n",
      "topic: 4\n",
      "*************************\n",
      "father\n",
      "dad\n",
      "eat\n",
      "minute\n",
      "lifetime\n",
      "fighting\n",
      "say\n",
      "economic\n",
      "european\n",
      "leslie\n",
      "*************************\n",
      "topic: 5\n",
      "*************************\n",
      "federal\n",
      "investigation\n",
      "song\n",
      "july\n",
      "attorney\n",
      "upwards\n",
      "carolina\n",
      "ve\n",
      "thomas\n",
      "note\n",
      "*************************\n",
      "topic: 6\n",
      "*************************\n",
      "angstrom\n",
      "unit\n",
      "tree\n",
      "lot\n",
      "mask\n",
      "san\n",
      "pine\n",
      "someone\n",
      "trust\n",
      "club\n",
      "*************************\n",
      "topic: 7\n",
      "*************************\n",
      "space\n",
      "national\n",
      "really\n",
      "administration\n",
      "obama\n",
      "divorcement\n",
      "ask\n",
      "bring\n",
      "aeronautics\n",
      "trump\n",
      "*************************\n",
      "topic: 8\n",
      "*************************\n",
      "adult\n",
      "target\n",
      "new\n",
      "female\n",
      "christmas\n",
      "poll\n",
      "voter\n",
      "peace\n",
      "eve\n",
      "expect\n",
      "*************************\n",
      "topic: 9\n",
      "*************************\n",
      "wedding\n",
      "20\n",
      "couple\n",
      "married\n",
      "class\n",
      "secret\n",
      "feel\n",
      "galaxy\n",
      "common\n",
      "samsung\n",
      "*************************\n",
      "topic: 10\n",
      "*************************\n",
      "covid19\n",
      "coronavirus\n",
      "christian\n",
      "case\n",
      "leave\n",
      "beautiful\n",
      "new\n",
      "australia\n",
      "olympic\n",
      "positive\n",
      "*************************\n",
      "topic: 11\n",
      "*************************\n",
      "bank\n",
      "india\n",
      "donald\n",
      "trump\n",
      "ha\n",
      "r\n",
      "insurance\n",
      "reserve\n",
      "said\n",
      "today\n",
      "*************************\n",
      "topic: 12\n",
      "*************************\n",
      "weekend\n",
      "problem\n",
      "cancer\n",
      "golden\n",
      "diy\n",
      "google\n",
      "possible\n",
      "roundup\n",
      "2014\n",
      "choice\n",
      "*************************\n",
      "topic: 13\n",
      "*************************\n",
      "best\n",
      "fashion\n",
      "jr\n",
      "clarence\n",
      "sleep\n",
      "charles\n",
      "c\n",
      "day\n",
      "ice\n",
      "around\n",
      "*************************\n",
      "topic: 14\n",
      "*************************\n",
      "store\n",
      "room\n",
      "miss\n",
      "football\n",
      "syrian\n",
      "biggest\n",
      "sander\n",
      "pop\n",
      "bernie\n",
      "refugee\n",
      "*************************\n",
      "topic: 15\n",
      "*************************\n",
      "million\n",
      "francis\n",
      "pope\n",
      "homo\n",
      "new\n",
      "le\n",
      "house\n",
      "chance\n",
      "los\n",
      "parenting\n",
      "*************************\n",
      "topic: 16\n",
      "*************************\n",
      "day\n",
      "food\n",
      "medium\n",
      "solar\n",
      "natural\n",
      "mean\n",
      "five\n",
      "black\n",
      "valentine\n",
      "affair\n",
      "*************************\n",
      "topic: 17\n",
      "*************************\n",
      "american\n",
      "latin\n",
      "11\n",
      "final\n",
      "single\n",
      "book\n",
      "celebrity\n",
      "middle\n",
      "parent\n",
      "mom\n",
      "*************************\n",
      "topic: 18\n",
      "*************************\n",
      "industry\n",
      "mar\n",
      "trend\n",
      "eating\n",
      "crataegus\n",
      "market\n",
      "restaurant\n",
      "fourth\n",
      "mark\n",
      "planet\n",
      "*************************\n",
      "topic: 19\n",
      "*************************\n",
      "change\n",
      "climate\n",
      "trump\n",
      "joe\n",
      "biden\n",
      "donald\n",
      "ban\n",
      "crime\n",
      "nation\n",
      "demand\n",
      "*************************\n",
      "topic: 20\n",
      "*************************\n",
      "coming\n",
      "always\n",
      "24hour\n",
      "interval\n",
      "soon\n",
      "cook\n",
      "queen\n",
      "wind\n",
      "cold\n",
      "opinion\n",
      "*************************\n",
      "topic: 21\n",
      "*************************\n",
      "m\n",
      "concern\n",
      "lesson\n",
      "health\n",
      "global\n",
      "fear\n",
      "important\n",
      "learned\n",
      "reality\n",
      "organization\n",
      "*************************\n",
      "topic: 22\n",
      "*************************\n",
      "number\n",
      "atomic\n",
      "early\n",
      "4\n",
      "islamic\n",
      "computer\n",
      "trade\n",
      "iran\n",
      "vega\n",
      "safe\n",
      "*************************\n",
      "topic: 23\n",
      "*************************\n",
      "hour\n",
      "twentyfour\n",
      "period\n",
      "angle\n",
      "french\n",
      "slam\n",
      "james\n",
      "johnson\n",
      "district\n",
      "community\n",
      "*************************\n",
      "topic: 24\n",
      "*************************\n",
      "state\n",
      "united\n",
      "police\n",
      "clinton\n",
      "hillary\n",
      "shot\n",
      "department\n",
      "president\n",
      "officer\n",
      "killed\n",
      "*************************\n",
      "topic: 25\n",
      "*************************\n",
      "child\n",
      "cleaning\n",
      "lady\n",
      "letter\n",
      "hope\n",
      "woman\n",
      "sex\n",
      "phone\n",
      "amp\n",
      "missing\n",
      "*************************\n",
      "topic: 26\n",
      "*************************\n",
      "recipe\n",
      "victim\n",
      "music\n",
      "7\n",
      "photo\n",
      "tip\n",
      "wedding\n",
      "transgender\n",
      "hard\n",
      "simple\n",
      "*************************\n",
      "topic: 27\n",
      "*************************\n",
      "dating\n",
      "online\n",
      "step\n",
      "gentleman\n",
      "12\n",
      "iphone\n",
      "gop\n",
      "value\n",
      "learn\n",
      "fired\n",
      "*************************\n",
      "topic: 28\n",
      "*************************\n",
      "person\n",
      "homeless\n",
      "prince\n",
      "death\n",
      "puerto\n",
      "greater\n",
      "creative\n",
      "david\n",
      "tour\n",
      "stay\n",
      "*************************\n",
      "topic: 29\n",
      "*************************\n",
      "holiday\n",
      "factor\n",
      "summer\n",
      "antiophthalmic\n",
      "spring\n",
      "thing\n",
      "read\n",
      "kill\n",
      "shower\n",
      "ocean\n",
      "*************************\n"
     ]
    }
   ],
   "source": [
    "for idx, topic in enumerate(topics_words):\n",
    "    print(\"topic: {}\".format(idx))\n",
    "    print(\"*\"*25)\n",
    "    for word in topic:\n",
    "       print(word)\n",
    "    print(\"*\"*25)"
   ]
  },
  {
   "cell_type": "markdown",
   "metadata": {},
   "source": [
    "### Get topics distributions"
   ]
  },
  {
   "cell_type": "code",
   "execution_count": 220,
   "metadata": {},
   "outputs": [],
   "source": [
    "# Transform the training and test data\n",
    "train_set_transformed = fitted_model.transform(train_set)\n",
    "test_set_transformed = fitted_model.transform(test_set)\n",
    "\n",
    "# Get the LDA model from the pipeline model\n",
    "lda_model = fitted_model.stages[-1]\n",
    "\n",
    "# Extract the topic distributions\n",
    "train_topic_distributions = train_set_transformed.select(\"description_filtered\", \"topicDistribution\")\n",
    "test_topic_distributions = test_set_transformed.select(\"description_filtered\", \"topicDistribution\")"
   ]
  },
  {
   "cell_type": "code",
   "execution_count": 221,
   "metadata": {},
   "outputs": [
    {
     "name": "stderr",
     "output_type": "stream",
     "text": [
      "24/06/07 11:34:20 WARN DAGScheduler: Broadcasting large task binary with size 18.7 MiB\n"
     ]
    },
    {
     "name": "stdout",
     "output_type": "stream",
     "text": [
      "+--------------------------------------------------------------------------------------------------------------------------------+--------------------------------------------------------------------------------------------------------------------------------------------------------------------------------------------------------------------------------------------------------------------------------------------------------------------------------------------------------------------------------------------------------------------------------------------------------------------------------------------------------------------------------------------------------------------------------------------------------------------------------------------------------------------------+\n",
      "|description_filtered                                                                                                            |topicDistribution                                                                                                                                                                                                                                                                                                                                                                                                                                                                                                                                                                                                                                                         |\n",
      "+--------------------------------------------------------------------------------------------------------------------------------+--------------------------------------------------------------------------------------------------------------------------------------------------------------------------------------------------------------------------------------------------------------------------------------------------------------------------------------------------------------------------------------------------------------------------------------------------------------------------------------------------------------------------------------------------------------------------------------------------------------------------------------------------------------------------+\n",
      "|[000, add, donation]                                                                                                            |[0.0013898930440242672,0.0013871268173171114,0.001396497737625173,0.0013914400115121984,0.0013797360761079638,0.0013796470319741053,0.0013769229046655656,0.00140045323241777,0.0013799672736880854,0.0014032327015818086,0.3807334126418678,0.26225494239471053,0.0013919516043258324,0.001389485406496238,0.0013855528628523809,0.3194555353294873,0.0014060973837499542,0.0014041716018862044,0.0013824017549918467,0.0013860719841851806,0.0013730462099500339,0.0013929532940193962,0.0013885812934965438,0.0013758505593442075,0.001413587459197163,0.0013982079713863382,0.0013967958933773083,0.0013934291964627645,0.0013972775711659595,0.0013957307561330342]  |\n",
      "|[000, bird, herding, chick, keep, crowding, group, repairing, mechanical, chicken, feeder]                                      |[0.28384481516627474,3.485782147918539E-4,0.07550227604685637,3.496620994906768E-4,3.467209575139844E-4,3.466985811566989E-4,3.4601402122883635E-4,3.519270780162058E-4,3.467790563401135E-4,3.5262554508243667E-4,0.15355637283201143,3.511753111877449E-4,0.11714591230904708,3.4917091676782647E-4,3.481826876989288E-4,0.10380119933903353,3.533454257623342E-4,3.5286148615718314E-4,0.13090194085388374,3.483131403621446E-4,3.450398267237432E-4,3.500423800160055E-4,3.4894371757341865E-4,3.4574454607124583E-4,0.12721125623506682,3.513628548515788E-4,3.510080065236638E-4,3.5016197198269603E-4,3.511290498064238E-4,3.507403427206521E-4]                   |\n",
      "|[000, tonne, emissionsat, time]                                                                                                 |[0.001491056024959684,0.001488088459206792,0.0014981414393585668,0.0014927155880491692,0.0014801597849421135,0.0014800642597553987,0.0014771418575940812,0.0015023848337462732,0.0014804078101742538,0.001505366605814205,0.5496153592076166,0.0014991755237743916,0.0014932644170037018,0.001490618717647178,0.0014863999449012794,0.0014910834557363983,0.001508439793072868,0.0015063738437086165,0.001483019484526667,0.0014869568503369504,0.0014729829987260325,0.40859910013703016,0.001489648799032949,0.001475991461914954,0.0015164750315905498,0.001499976152011353,0.0014984612962944868,0.0014948495552757712,0.001498978032867882,0.0014973186333305253]    |\n",
      "|[000, tonne, per, year, covering, 15, football, pitch, day]                                                                     |[5.640952229240142E-4,5.629725356226353E-4,5.667757717086286E-4,0.14311180864817294,5.599729653838734E-4,5.599368263651527E-4,5.588312253206364E-4,5.683811295640641E-4,5.600667981079328E-4,5.695091913847552E-4,0.20639991251456452,0.08113941743863065,5.649307001843339E-4,5.639297811423203E-4,0.12576929653334518,5.641056005153422E-4,5.706718373406555E-4,5.698902488903567E-4,5.610548448353756E-4,5.62544426183933E-4,5.572578488804319E-4,0.16994497832348107,5.635628422425358E-4,5.583960084702393E-4,5.737117228893188E-4,5.674698788548752E-4,0.260087431986974,5.655303885339258E-4,5.670922711517526E-4,5.664644883344484E-4]                            |\n",
      "|[1, 10, woman, follow, sham, adenomyosis, therefore, doe, take, long, name]                                                     |[4.6873384455984663E-4,4.678009496990991E-4,4.709612414354121E-4,4.692555509037456E-4,4.6530846255594217E-4,4.652784329075936E-4,4.643597358382843E-4,4.7229521046977503E-4,4.653864326782225E-4,4.732325712781705E-4,4.72771734850893E-4,4.7128632000797575E-4,0.18545816448779828,4.685963710281181E-4,4.672701421437282E-4,4.6874246779948856E-4,0.6296513972089661,4.735492102821523E-4,4.662074482131505E-4,4.674452129804246E-4,4.630523417001938E-4,0.172225437396939,4.682914638525472E-4,4.639980932303269E-4,4.7672465677864485E-4,4.715380084392109E-4,4.7106179283586147E-4,4.6992639267327303E-4,4.7122423604160576E-4,4.7070258111279903E-4]                |\n",
      "|[1, city, matchmaker]                                                                                                           |[0.001519159281019966,0.0015161357829223065,0.0015263782405117742,0.0015208501233672806,0.001508057669897512,0.0015079603442628266,0.0015049828609951868,0.0015307016139193312,0.0015083103698818121,0.0015337395860817449,0.0015322460222113531,0.0015274318152340947,0.0015214092965883362,0.00151871373138845,0.7893683036655345,0.16803743901645132,0.0015368706964378567,0.0015347658082917025,0.0015109712687778618,0.00151498284561551,0.001500745616422354,0.0015225041478807403,0.0015177255318576052,0.0015038107827874258,0.0015450573822267096,0.0015282475336218736,0.0015267041260753692,0.0015230243113680164,0.0015272306020409768,0.0015255399263283758] |\n",
      "|[1, dead, least, 21, people, let, offduty, district, columbia, policeman, shooting, soueast, direct, electric, current, company]|[0.2779596458440686,3.0807530706572343E-4,3.1015655091113053E-4,3.090332502108714E-4,3.064338530622665E-4,3.0641407671696115E-4,0.1881682292317181,3.110350504526153E-4,3.06485201118452E-4,3.1165235941491075E-4,3.1134887066850894E-4,3.1037063487408486E-4,3.091468729243342E-4,3.08599140270009E-4,0.17090676339727165,0.0829731127776146,3.1228859384396074E-4,3.11860885409629E-4,3.07025889659403E-4,3.078410328544305E-4,3.04948060598909E-4,3.0936934419107103E-4,3.0839834039613206E-4,0.13574268930978803,0.1368285259713841,3.1053638697546175E-4,3.1022277010868334E-4,3.0947504021629766E-4,3.1032974881540647E-4,3.099862073954191E-4]                     |\n",
      "|[1, dead, several, injured, shot, knife, motorcycle, expo]                                                                      |[5.912351550214623E-4,5.900584526249655E-4,0.20298853290795157,5.918932067806345E-4,5.869145660912752E-4,5.868766883403051E-4,5.857178942602056E-4,0.27615648590249453,5.870129133256393E-4,5.969096020864444E-4,5.963283283006367E-4,5.944547075140181E-4,5.921108290340149E-4,5.910617534507208E-4,5.893889210980845E-4,5.912460319028786E-4,0.0841196808052291,5.97308993154208E-4,0.24951438269987547,5.896097458463987E-4,5.840688190230125E-4,5.925369295632121E-4,5.906771602681837E-4,5.852617381157102E-4,0.17244046739461372,5.947721734916254E-4,5.941715012567482E-4,5.927393697840923E-4,5.943763982042597E-4,5.937184112967863E-4]                          |\n",
      "|[1, new, covid19, case, north]                                                                                                  |[0.001381818465484407,0.001379068309161451,0.001388384789141657,0.0013833564458704422,0.0013717205044358935,0.19052245070212706,0.0013689236761027773,0.0013923173045028658,0.0013719503588750662,0.001395080626350773,0.7707400667214407,0.0013893431145951209,0.0013838650665872318,0.0013814131961249775,0.0013775034985792128,0.001381843886631159,0.0013979286661590358,0.0013960140721170917,0.0013743706970683707,0.0013780196040783185,0.0013650695030307009,0.0013848609369687729,0.001380514335566684,0.0013678575605675818,0.0014053752280404797,0.001390085087307048,0.0013886812127590648,0.0013853340746577117,0.0013891600922425207,0.0013876222634259265] |\n",
      "|[1, simplest, smartest, tip, wish, done, marriage, ceremony]                                                                    |[5.979961095379215E-4,5.968059511904092E-4,6.008377534291687E-4,0.19068845309871002,5.936261133540306E-4,0.3495437769034372,0.20664737362076066,6.02539589774236E-4,5.937255852191456E-4,6.03735445637818E-4,6.031475248088556E-4,6.012524785954666E-4,5.988817971501343E-4,5.978207250673047E-4,5.961287633659855E-4,5.980071107999701E-4,6.04967964067179E-4,0.16691208209400174,5.947730113897264E-4,5.963521133125915E-4,5.907478242992498E-4,5.99312770269121E-4,5.974317339441673E-4,5.919543847859364E-4,6.081905400752245E-4,6.0157357489422E-4,0.07123730685626381,5.995175254556185E-4,6.011732737956669E-4,6.005077626071808E-4]                               |\n",
      "|[10, affair, learned, everyone, else, wa, set, married]                                                                         |[7.14055459745071E-4,0.16682618881554012,7.174486111432886E-4,7.148502119641346E-4,7.088373327631579E-4,7.087915864733316E-4,0.20227961666506744,7.194807406408107E-4,7.089561101721847E-4,0.19638543513468495,7.202066639768162E-4,7.179438263538817E-4,7.151130420020072E-4,7.138460365787576E-4,7.118256981994839E-4,7.140685961365008E-4,0.2429043755636511,7.213910473593907E-4,7.102068212782016E-4,7.120923960030037E-4,7.054004240919174E-4,0.17373671307490962,7.133815498855362E-4,7.068411543729861E-4,7.262284298831972E-4,7.18327241164575E-4,7.176017882122958E-4,7.158721527387879E-4,7.178492494514375E-4,7.17054575556063E-4]                            |\n",
      "|[10, affair, nanas, know]                                                                                                       |[0.0011756767104782974,0.0011733368266092375,0.0011812634601061224,0.0011769852526396568,0.0011670851784331845,0.0011670098581660318,0.0011647055851526796,0.00118460931691638,0.0011672807428410423,0.001186960402259045,0.0011858045338258918,0.0011820788211283938,0.0011774179965534752,0.5177394982264037,0.0011720054568199394,0.001175698339259909,0.44931383613000775,0.0011877545951842578,0.0011693400113457486,0.001172444568925251,0.001161426383410994,0.001178265301495092,0.0011745671326215085,0.0011637985143348913,0.0011957192397991428,0.0011827101052358094,0.0011815156628038014,0.0011786678557931213,0.0011819231023256114,0.0011806146891240662] |\n",
      "|[10, apps, avail, get, health, care, need]                                                                                      |[8.709858408763538E-4,8.692523662723978E-4,8.751247166223433E-4,0.2817129313740869,8.646209084958071E-4,8.645651083893015E-4,8.62858015656929E-4,8.776034540861163E-4,8.647657900173737E-4,8.793452271655048E-4,8.784889160462415E-4,8.757287669528638E-4,8.722758515595923E-4,8.707303920731219E-4,8.682660371016834E-4,8.710018642968445E-4,8.811403995485882E-4,8.799335953674505E-4,8.662913741295091E-4,8.685913479826704E-4,8.604286587931036E-4,8.729035671559922E-4,8.701638235699103E-4,8.621860232359141E-4,8.858341057932752E-4,8.761964461322978E-4,8.753115579337969E-4,0.6938722169835898,8.75613404565276E-4,8.746440825031328E-4]                         |\n",
      "|[10, awesome, brand, actually, sell, j, bunch]                                                                                  |[7.221212928874106E-4,7.206840951012226E-4,7.255527726710764E-4,7.229250224745116E-4,7.168442229466164E-4,7.167979599152183E-4,7.153826349430504E-4,7.27607856712522E-4,7.169643420422725E-4,7.290519346397613E-4,7.28341979938382E-4,0.14206753260381252,0.15920901512122135,0.23185403793948856,0.21168691053445646,7.221345776647762E-4,0.08538790936345632,0.15245682399693974,7.182291809403404E-4,7.20136054755411E-4,7.133684916158368E-4,7.237112509728257E-4,7.214397706714652E-4,7.148254961092863E-4,7.34431766554663E-4,7.264413275281562E-4,7.257076799989546E-4,7.239585068954027E-4,7.259579365120958E-4,7.25154286133401E-4]                              |\n",
      "|[10, baking, labor, mother, clarence, shepard, day, jr]                                                                         |[6.861268287004265E-4,6.847612686912217E-4,6.893872648139689E-4,6.868904960209189E-4,6.811127967102584E-4,6.81068839681E-4,6.797240622255563E-4,0.26124805786726485,6.812269284150445E-4,6.927120094633732E-4,6.920374427771261E-4,6.898631108245804E-4,6.871430460686418E-4,0.5662519303023834,0.15395348252186924,6.861394512922132E-4,6.941261724454422E-4,6.931755017381046E-4,6.824287208433322E-4,6.842405456652363E-4,6.77810314788315E-4,6.876375346020992E-4,6.854792772694711E-4,6.791946942301013E-4,6.978236812103794E-4,6.902315292501945E-4,6.895344507157195E-4,6.878724659410912E-4,6.89772233079454E-4,6.890086410192796E-4]                             |\n",
      "|[10, bakshis, handling, emphasis]                                                                                               |[0.001072918205721059,0.0010707828363786791,0.0010780166527112902,0.0010741123764441592,0.0010650776054392658,0.0010650088684434245,0.001062905997437371,0.0010810700692272797,0.0010652560767930087,0.0010832156609915109,0.2693720483754127,0.0010787607481562752,0.0010745072969350412,0.35016790703335765,0.0010695678332475868,0.0010729379440665894,0.35147520053477044,0.001083940438509115,0.0010671353575933754,0.0010699685653265362,0.001059913410089571,0.001075280544282179,0.001071905609083699,0.0010620782079732464,0.0010912089436466272,0.001079336855691492,0.0010782468119573238,0.0010756479138415704,0.0010786186397541344,0.0010774245867179216]   |\n",
      "|[10, bare, strategy, clean, organized, home]                                                                                    |[8.496328974489462E-4,8.479419204183905E-4,8.536703052083489E-4,8.505785489682325E-4,0.2998990568529056,8.433695745671012E-4,8.417043326350094E-4,8.560882743578192E-4,8.43565336317794E-4,8.577873464194521E-4,8.569520284812493E-4,8.542595467416062E-4,8.508912824452455E-4,8.493837111858275E-4,8.46979771929668E-4,8.496485280419671E-4,8.595385086553599E-4,0.19086896865479966,8.450535194646817E-4,8.472971075431351E-4,8.393345334786822E-4,8.515036090703835E-4,8.488310325813384E-4,8.41048814668159E-4,8.641171447823115E-4,8.547157603763507E-4,8.538525659490078E-4,0.24383012735634693,8.541470125589962E-4,0.24328995412165302]                           |\n",
      "|[10, behavior, highlight, leadership, ability]                                                                                  |[9.48347169936291E-4,0.24188544678792756,9.528536623684974E-4,9.494026916159267E-4,9.414169015820703E-4,9.413561452866726E-4,9.394974278591395E-4,9.555525623367727E-4,9.415746515414535E-4,9.574490404344166E-4,9.565166714013128E-4,9.535113647036659E-4,9.497517599112601E-4,9.480690320627918E-4,9.453857920452849E-4,0.23646256915306976,9.594036607840771E-4,9.580896677481701E-4,9.4323573867661E-4,9.457399971758187E-4,0.2976966297040616,9.504352294705611E-4,9.474521407065759E-4,9.387657487885449E-4,0.19926799357661878,9.540205833447469E-4,9.530570990037309E-4,9.507599456330485E-4,9.533857557799987E-4,9.523303381246147E-4]                           |\n",
      "|[10, behavior, lead, mister, right, field]                                                                                      |[0.32660298954082734,8.654127827307644E-4,8.712591942619253E-4,8.681037359617981E-4,8.608017826139835E-4,8.60746228982502E-4,8.590466766671744E-4,8.737269828695016E-4,8.609460241777077E-4,8.754610623441673E-4,8.746085336462781E-4,8.71860576435691E-4,8.684229129502905E-4,8.668842799287118E-4,8.644308102847547E-4,8.671545530298403E-4,8.772483052527368E-4,0.2934329922968263,8.624648696167408E-4,8.647546842319132E-4,0.35651937459219124,8.69047855857666E-4,8.663202140208381E-4,8.583776525108686E-4,8.81921278880719E-4,8.723261898255057E-4,8.714452102744784E-4,8.693447660257561E-4,8.717457236161826E-4,8.707806831563904E-4]                           |\n",
      "|[10, behavior, track, mr, right]                                                                                                |[0.001049853558610282,0.0010477640935509203,0.21348378152321168,0.0010510220581077358,0.0010421815086224487,0.0010421142492738642,0.001040056583929641,0.0010578301805623802,0.0010423561433568905,0.0010599296482909032,0.0010588974830908575,0.0010555705032334224,0.0010514084889463153,0.0010495456502352546,0.001046575209482927,0.0010498728726386728,0.0010620934815310274,0.42245657755326393,0.0010441950250403647,0.001046967326977661,0.33567996038413794,0.0010521651137062982,0.0010488627298803944,0.0010392465895515874,0.0010677510984222452,0.001056134226119169,0.0010550676151805229,0.0010525245858794552,0.0010554314497522247,0.0010542630654131056]|\n",
      "+--------------------------------------------------------------------------------------------------------------------------------+--------------------------------------------------------------------------------------------------------------------------------------------------------------------------------------------------------------------------------------------------------------------------------------------------------------------------------------------------------------------------------------------------------------------------------------------------------------------------------------------------------------------------------------------------------------------------------------------------------------------------------------------------------------------------+\n",
      "only showing top 20 rows\n",
      "\n"
     ]
    },
    {
     "name": "stderr",
     "output_type": "stream",
     "text": [
      "24/06/07 11:34:20 WARN DAGScheduler: Broadcasting large task binary with size 18.7 MiB\n"
     ]
    },
    {
     "name": "stdout",
     "output_type": "stream",
     "text": [
      "+-----------------------------------------------------------------------------------------+-------------------------------------------------------------------------------------------------------------------------------------------------------------------------------------------------------------------------------------------------------------------------------------------------------------------------------------------------------------------------------------------------------------------------------------------------------------------------------------------------------------------------------------------------------------------------------------------------------------------------------------------------------------------------+\n",
      "|description_filtered                                                                     |topicDistribution                                                                                                                                                                                                                                                                                                                                                                                                                                                                                                                                                                                                                                                        |\n",
      "+-----------------------------------------------------------------------------------------+-------------------------------------------------------------------------------------------------------------------------------------------------------------------------------------------------------------------------------------------------------------------------------------------------------------------------------------------------------------------------------------------------------------------------------------------------------------------------------------------------------------------------------------------------------------------------------------------------------------------------------------------------------------------------+\n",
      "|[10, best, ethical, traveling, destination, 2014]                                        |[8.61392529010617E-4,8.596781474405343E-4,8.654858178779824E-4,8.623512691399848E-4,8.550977019962031E-4,8.550425164896457E-4,8.533542262132417E-4,8.679372537477084E-4,8.55240987747188E-4,8.696598423907747E-4,8.68812962951663E-4,8.660832150082661E-4,0.21393507382329807,8.611398938019927E-4,8.587026820096466E-4,8.614083759443259E-4,0.24635328029580422,8.702417301206346E-4,8.567497685961401E-4,8.590244098143102E-4,8.5095162704955E-4,8.632891328494865E-4,8.605795656611741E-4,8.526896353282101E-4,8.760772504695466E-4,8.665457430221613E-4,0.3447463417207649,0.1725567882745795,8.659691232580523E-4,8.650104776141879E-4]                             |\n",
      "|[10, better, new, caribbean, resort, 2013]                                               |[9.424416389009621E-4,0.1506569149726659,9.469200685818985E-4,9.434905876537143E-4,9.355545265935597E-4,9.354941486387963E-4,9.33647005784095E-4,9.496021620085683E-4,9.357112942151174E-4,9.514868303894912E-4,9.505602673887397E-4,9.475736752842796E-4,9.438374822377641E-4,9.421652330428457E-4,9.394987020510244E-4,9.424589768853578E-4,9.534292789606552E-4,9.52123468399448E-4,9.373620374572041E-4,9.398507014812524E-4,9.310183441493383E-4,9.445166957072275E-4,9.41552183181916E-4,0.24820346956778727,9.585080575110377E-4,9.480797229279416E-4,0.5756540441285881,9.448393898024656E-4,9.474488485504997E-4,9.464000031735165E-4]                          |\n",
      "|[10, dead, small, plane, crash, second, earl, guilford, texas, airport]                  |[5.167785789416463E-4,5.157500633211417E-4,5.19234281693955E-4,5.173537596462038E-4,5.130020988242675E-4,5.129689911682019E-4,5.119561285991945E-4,5.207049811745471E-4,5.130880608035254E-4,0.2936223623327546,5.212303488122484E-4,5.195926804837489E-4,5.175439758704313E-4,5.166270145150239E-4,5.151648485413262E-4,5.167880860544144E-4,0.16712614340909154,5.220875146717235E-4,0.2431792776527623,5.153578639577914E-4,5.105147279137645E-4,5.179164158785756E-4,5.162908546694633E-4,5.115574179977874E-4,0.2826349259016908,5.198701667187286E-4,5.193451395088234E-4,5.180933620035113E-4,5.19524232975171E-4,5.189491089554268E-4]                           |\n",
      "|[10, democratic, flick, netflix, right, forthwith, nov, 30]                              |[6.168502096185636E-4,6.156225270049348E-4,6.197814471326075E-4,6.175367712374423E-4,6.123424326956612E-4,6.1230291390451E-4,6.110939154795225E-4,6.215369403358514E-4,6.124450407893759E-4,6.227705001007908E-4,6.221640428330605E-4,0.20780829177353136,0.18286299124938576,0.24445595769163825,6.149239882605566E-4,6.168615577360873E-4,6.240418783579574E-4,6.231871946457549E-4,6.135254910505974E-4,6.15154380163278E-4,6.093733946393079E-4,0.21394770821094597,6.162680399384564E-4,0.13548145991796395,6.273660583223113E-4,6.205404681658619E-4,6.199137720183613E-4,6.184195939543176E-4,6.201275460537307E-4,6.194410520957309E-4]                          |\n",
      "|[10, destination, salary, increase, harmonize, tripadvisor]                              |[0.17710614264305427,7.472736603923958E-4,7.523219673187978E-4,0.20956233550649564,7.432921165510948E-4,7.432441466501614E-4,7.417766034092445E-4,7.54452873473741E-4,7.434166674285414E-4,7.559502305070153E-4,7.552140821013145E-4,7.528412536839461E-4,7.498728720889735E-4,7.485442807475179E-4,7.464257388471178E-4,7.48777658360798E-4,7.574934935333457E-4,7.56456035354237E-4,7.447281724273885E-4,7.467054001540304E-4,7.396881484719457E-4,7.504125028673863E-4,0.40739076891195436,7.411989089955482E-4,7.615285507650721E-4,7.532433053153806E-4,7.5248258993644E-4,0.18644876082081396,7.527420796382857E-4,7.519087786619328E-4]                           |\n",
      "|[10, fannie, farmer, food, market, dominion, avow]                                       |[0.27294974584163945,6.437010655119044E-4,6.480496739530873E-4,6.45702618408443E-4,6.402713661274703E-4,6.402300448847866E-4,6.389659040513312E-4,6.498852351872943E-4,6.40378654175676E-4,6.511750576038141E-4,6.505409398244295E-4,6.484969869047181E-4,6.459400248481907E-4,6.447955770942283E-4,6.429706664211239E-4,6.449966084249068E-4,0.13694735029364422,6.516107575834087E-4,6.415083837652531E-4,6.432115664966224E-4,6.371669102693884E-4,6.464048624647581E-4,6.443760202850919E-4,6.384682784432254E-4,0.13481236905659863,6.488433139294949E-4,6.481880341760979E-4,6.466257066624674E-4,0.4385203367971187,6.476937535017966E-4]                         |\n",
      "|[10, fantabulous, slice, unsolicited, advice, nt, dismiss]                               |[0.27491347876785843,6.296223385967851E-4,6.338758363197054E-4,6.315801144701237E-4,6.262676519840824E-4,6.262272345001264E-4,6.249907423603402E-4,6.356712510221216E-4,6.263725934785342E-4,0.25843157051762006,6.36312614395751E-4,6.343133658525901E-4,6.318123284676081E-4,6.306929115366298E-4,6.289079144513472E-4,6.308895460045475E-4,0.27135094263558057,6.373590336037445E-4,6.274776141533265E-4,6.291435456737919E-4,6.232310953241906E-4,6.322669993742627E-4,6.302825310767387E-4,0.17888617407970875,6.416329284097096E-4,6.346521181759771E-4,6.340111703927748E-4,6.32483013371905E-4,6.342298058426679E-4,6.335277003927579E-4]                        |\n",
      "|[10, free, printable, decoration, stool, oscar, dark, shine]                             |[5.84735953806406E-4,5.835721864081448E-4,5.875145861831154E-4,5.853867718773831E-4,5.804628593062314E-4,5.804253979297719E-4,5.792793419891964E-4,5.891786854679367E-4,5.805601254507755E-4,5.90348024044025E-4,5.897731399582266E-4,0.16740695285116589,0.22220868665504842,5.845644583668628E-4,5.829100147617138E-4,5.847467111227631E-4,0.22634727661956988,5.907430247725601E-4,5.815843256604759E-4,5.831284120757385E-4,5.776483943476681E-4,5.860234184841507E-4,5.841840928563527E-4,5.788282001786991E-4,0.14324799576141395,5.882340913093525E-4,0.22617399768378313,5.862236333641677E-4,5.878426666147427E-4,5.871919126824785E-4]                         |\n",
      "|[10, ground, trump, fortify, ussaudi, standoff]                                          |[7.668753408608615E-4,7.653490715856002E-4,7.705194893642686E-4,7.677288822357964E-4,7.612712202659533E-4,7.612220900460703E-4,7.597190491703182E-4,7.727019388926872E-4,7.613987838391332E-4,0.2358594039175646,7.734815599957833E-4,7.710513364760461E-4,7.68011154252726E-4,7.666504263110466E-4,7.644806401103655E-4,7.66889448973216E-4,0.29007195042085615,7.747535542059061E-4,7.627420121454671E-4,7.647670659988745E-4,7.575800776902799E-4,7.685638378774221E-4,7.661515807576773E-4,7.591273812090647E-4,7.79948766036001E-4,7.714631131235872E-4,7.706839971981747E-4,0.12526383768990967,7.709497635606086E-4,0.32886072638948655]                          |\n",
      "|[10, matter, consider, acquaint, kid, new, partner]                                      |[7.655652909907677E-4,7.640416290349681E-4,7.692032142110177E-4,7.664173742649306E-4,7.599707438909832E-4,7.599216976002626E-4,7.58421224362841E-4,7.713819354702723E-4,7.600980895481161E-4,7.72912891487186E-4,7.721602247500613E-4,7.697341527698095E-4,7.666991640776768E-4,7.653407606617857E-4,7.63174681097406E-4,7.655793750025436E-4,0.2978993634957644,7.734300460181157E-4,7.614390232232547E-4,7.634606176851107E-4,7.562859068787397E-4,0.6406950486455923,7.648427672839335E-4,7.578305671452913E-4,0.040732237271947185,7.701452259815288E-4,7.693674410170555E-4,7.675130347988545E-4,7.696327533716669E-4,7.687807540718936E-4]                         |\n",
      "|[10, romcom, couplet, probably, wear]                                                    |[8.896785012972155E-4,8.87907823732246E-4,8.939062035148314E-4,8.906687240503095E-4,8.831769679365444E-4,8.83119970276256E-4,8.813762407775684E-4,0.3371137107580914,8.833249588326745E-4,0.43131823444161294,8.973426036958176E-4,8.945232176708876E-4,8.909961975413512E-4,8.89417570180634E-4,8.869003264607823E-4,8.896948686044917E-4,9.000509920043966E-4,8.98818287998657E-4,0.20752615185961343,8.872326190004332E-4,8.788947462773554E-4,8.916373848539141E-4,8.888388422685054E-4,8.80689826392896E-4,9.048454322139206E-4,8.950009339447588E-4,8.940970547208734E-4,8.919420127345624E-4,8.944053794325075E-4,8.934152542675553E-4]                           |\n",
      "|[10, shipway, stay, mentally, healthy, happy, 50]                                        |[7.105184374445901E-4,7.091043321753091E-4,7.138947811117445E-4,7.113092529158309E-4,7.053261580789222E-4,7.0528063839013E-4,7.038880544881533E-4,7.159168446020434E-4,7.054443471325942E-4,7.173377194641666E-4,7.166391721289785E-4,7.143875433092065E-4,7.115707810440811E-4,0.6597047743390617,7.082997208622821E-4,7.105315087659466E-4,7.188021555276225E-4,7.178176887540015E-4,7.066888629317516E-4,7.085650975975254E-4,7.019062738874209E-4,7.120828485008614E-4,7.098478657492385E-4,7.033398676147825E-4,7.22631109652089E-4,7.147690589024836E-4,7.140471994293914E-4,7.123261315805636E-4,0.10580796277506271,0.2152849894338339]                          |\n",
      "|[10, sign, re, suffer, emotional, intimacy]                                              |[8.555306944900811E-4,8.53827979402834E-4,8.595961282494156E-4,8.564829103280199E-4,8.492787042000657E-4,8.492238942346502E-4,8.475470928881865E-4,8.620308819320124E-4,8.494210148816448E-4,8.637417482425052E-4,8.629006318757045E-4,8.601894600519468E-4,0.19042497675268263,8.552797784799579E-4,8.528591520802957E-4,8.555464335843665E-4,8.655050663177013E-4,0.47320623000692,8.509195283748645E-4,8.531786905055112E-4,0.31323925729552227,8.574143918115319E-4,8.547232634113237E-4,8.468870245887292E-4,8.701154854247742E-4,8.60648840531472E-4,8.597796541680904E-4,8.577073274075884E-4,8.600761447038228E-4,8.59124022708102E-4]                           |\n",
      "|[10, surprising, way, combat, crime]                                                     |[0.00110825549665634,0.0011060497974724188,0.0011135218644681545,0.0011094889982050911,0.001100156660871228,0.001100085659975605,0.0010979135294825494,0.0011166758473326586,0.0011003410103003653,0.0011188921056213264,0.001117802522461581,0.0011142904672012807,0.0011098969256709168,0.0011079304597535187,0.001104794777387168,0.0011082758850981195,0.0011211763099929755,0.0011196407541798085,0.0011022821864921704,0.4138465808717212,0.0010948223792348235,0.0011106956404459325,0.0011072095494609332,0.0010970584762092772,0.001127148652478125,0.0011148855492300422,0.0011137596041645023,0.5550833140416919,0.0011141436783621778,0.0011129102983778796] |\n",
      "|[10, thing, saint, bridget, groom, know, lensman]                                        |[7.394320827221936E-4,7.37960432235516E-4,0.2015822825496856,7.402550794246962E-4,7.340285101433351E-4,7.339811380884325E-4,7.325318847536112E-4,7.450501712015665E-4,7.341515087502719E-4,7.465288667614567E-4,7.458018929296375E-4,7.434586369353239E-4,7.405272501076618E-4,7.392152169228523E-4,7.371230782868665E-4,7.394456859643611E-4,7.480528961904348E-4,7.470283677924085E-4,7.354466685386081E-4,7.373992541912657E-4,7.304694581086339E-4,7.410601554991513E-4,7.387342229633265E-4,7.31961390111716E-4,7.520376647386318E-4,7.438556778208585E-4,0.7776949684382702,7.413133386748199E-4,7.433606988902812E-4,7.425377832962001E-4]                        |\n",
      "|[10, tip, creating, inclusive, religious, establishment]                                 |[7.933212223497464E-4,7.917423193099174E-4,7.970910401951222E-4,0.27870176356160764,7.875238423013909E-4,7.874730178142296E-4,7.859181442106943E-4,7.993487520223993E-4,7.876558049355511E-4,8.009352135737372E-4,8.001552585488905E-4,7.976412281824214E-4,7.944962045410189E-4,7.93088551567495E-4,7.908439397653185E-4,7.933358169838129E-4,8.025703128854831E-4,8.014711177869456E-4,7.890453547946058E-4,7.91140243119397E-4,7.837054097821061E-4,7.950679475940759E-4,7.925725032046357E-4,7.853060724366044E-4,8.06845487752188E-4,0.32115588965622793,0.1267570103171601,7.953395825306076E-4,0.25274504881325155,7.966532635642362E-4]                          |\n",
      "|[10, way, help, teen, deal, college, rejection]                                          |[8.515893827077135E-4,8.498945117935954E-4,8.55636087574747E-4,8.525372118185762E-4,8.453661944735325E-4,8.453116370098517E-4,8.43642560455565E-4,8.580596246836862E-4,8.455078495494717E-4,8.597626092691726E-4,8.589253678090655E-4,8.562266859794583E-4,8.528506654400844E-4,8.513396226327226E-4,8.489301477249496E-4,8.516050492940306E-4,0.22083469666936392,8.603378747794455E-4,8.469994595979052E-4,8.492482140805084E-4,8.412673042630028E-4,8.534644020953457E-4,8.507856713525138E-4,8.429855329999718E-4,8.661069835246389E-4,0.3424420875189258,8.558187680152655E-4,0.1908805078132542,8.561138926596812E-4,0.22369239468687147]                          |\n",
      "|[10, way, life, improve, marriage, right]                                                |[0.0010872622977110865,0.0010850983801222863,0.0010924289070203712,0.5756769756940397,0.0010793168746287567,0.001079247218671754,0.0010771162338963532,0.0010955231453700395,0.0010794977320069848,0.0010976974220466833,0.001096628478384454,0.00109318295045007,0.0010888726338543096,0.0010869434178405182,0.0010838671333325445,0.0010872822999438367,0.0010999383577295866,0.0010984318892833826,0.0010814021373478408,0.0010842732228914585,0.3938297209737134,0.0010896562189254275,0.0010862361634352063,0.001076277377523071,0.0011057975687488806,0.0010937667601018646,0.0010926621433196113,0.001090028499932809,0.0010930389421674547,0.0010918289255604737]|\n",
      "|[10, way, practice, bundling, upwardly, expressive, style, suspend, cold, exterior]      |[0.11259358887375204,4.591436654912486E-4,4.622454717900506E-4,0.12138243633938475,0.17224698563637306,4.566678312584899E-4,0.1380970682789355,4.6355475393747384E-4,4.5677383234848354E-4,4.644747676264088E-4,4.640224595955931E-4,4.6256453434726684E-4,4.6074068630077674E-4,4.599243664825091E-4,4.586226812429862E-4,4.600677595369709E-4,4.6542298710802304E-4,4.6478554680096334E-4,0.1819133499289926,0.13647631887928013,0.1266763492557891,4.610722489751992E-4,4.5962510202332714E-4,4.5541118598460344E-4,4.679022273994543E-4,4.6281156494621E-4,4.623441623521804E-4,4.6122977429268884E-4,4.625035993280902E-4,4.619915983238512E-4]                     |\n",
      "|[10000, blaze, seen, far, august, response, president, bolsonaro, condemned, ineffective]|[4.272892383623176E-4,4.264388283916682E-4,4.293196927993541E-4,4.2776481636638033E-4,4.241667224941261E-4,4.241393480185168E-4,4.233018804921531E-4,4.305357146829607E-4,4.242377986382721E-4,4.3139019572910613E-4,4.30970105632837E-4,4.2961602850734407E-4,4.2792209329092995E-4,4.271639199936558E-4,4.259549538896268E-4,4.272970991504713E-4,4.3227087346679483E-4,4.31678838080139E-4,4.2498622145129754E-4,0.12764401233188374,4.2211008379975664E-4,0.22931751724452212,4.268859721640702E-4,4.229722136751756E-4,0.034980605752931986,4.298454630985458E-4,4.2941135362512857E-4,4.2837634350933887E-4,0.2907199593371062,0.3066518595342459]                 |\n",
      "+-----------------------------------------------------------------------------------------+-------------------------------------------------------------------------------------------------------------------------------------------------------------------------------------------------------------------------------------------------------------------------------------------------------------------------------------------------------------------------------------------------------------------------------------------------------------------------------------------------------------------------------------------------------------------------------------------------------------------------------------------------------------------------+\n",
      "only showing top 20 rows\n",
      "\n"
     ]
    }
   ],
   "source": [
    "# Show the topic distributions for the training set\n",
    "train_topic_distributions.show(truncate=False)\n",
    "\n",
    "# Show the topic distributions for the test set\n",
    "test_topic_distributions.show(truncate=False)"
   ]
  },
  {
   "cell_type": "markdown",
   "metadata": {
    "id": "K-fBEB1f9aRD"
   },
   "source": [
    "### 5. Evaluate the model\n",
    "\n",
    "To evaluate our model, we use log perplexity as evaluation metric.\n",
    "The evaluation is done on both train and test split."
   ]
  },
  {
   "cell_type": "code",
   "execution_count": 222,
   "metadata": {},
   "outputs": [],
   "source": [
    "# Function to evaluate model and get best parameters\n",
    "def evaluate_model(fitted_model,data_transformed=[train_set_transformed,test_set_transformed]):\n",
    "    \n",
    "    print('Evaluating the model on training set')\n",
    "    train_lp = fitted_model.logPerplexity(data_transformed[0])\n",
    "\n",
    "    print('Evaluating the model on test set')\n",
    "    test_lp = fitted_model.logPerplexity(data_transformed[1])\n",
    "    \n",
    "    print(\"The upper bound on perplexity for train set: \" + str(train_lp))\n",
    "    print(\"The upper bound on perplexity for test set: \" + str(test_lp))\n",
    "    return train_lp, test_lp"
   ]
  },
  {
   "cell_type": "code",
   "execution_count": null,
   "metadata": {},
   "outputs": [
    {
     "name": "stdout",
     "output_type": "stream",
     "text": [
      "Evaluating the model on training set\n"
     ]
    },
    {
     "name": "stderr",
     "output_type": "stream",
     "text": [
      "24/06/07 12:02:26 WARN DAGScheduler: Broadcasting large task binary with size 1987.3 KiB\n",
      "24/06/07 13:01:45 WARN DAGScheduler: Broadcasting large task binary with size 1988.2 KiB\n",
      "[Stage 157:>                                                     (1 + 40) / 160]\r"
     ]
    }
   ],
   "source": [
    "train_lp,test_lp=evaluate_model(fitted_model.stages[-1])\n",
    "train_lp,test_lp"
   ]
  },
  {
   "cell_type": "markdown",
   "metadata": {},
   "source": [
    "### 6. Interpret the results"
   ]
  },
  {
   "cell_type": "markdown",
   "metadata": {
    "id": "808-IeqCNb1v"
   },
   "source": [
    "Our model sets a log perplexity of  on the train set and ... on the test set. This implies that the model does overfit since there is no significanc edifference between the log perplexity."
   ]
  },
  {
   "cell_type": "code",
   "execution_count": 224,
   "metadata": {},
   "outputs": [
    {
     "data": {
      "text/plain": [
       "LocalLDAModel: uid=LDA_b97404b1c336, k=30, numFeatures=73480"
      ]
     },
     "execution_count": 224,
     "metadata": {},
     "output_type": "execute_result"
    }
   ],
   "source": [
    "model=fitted_model.stages[-1]\n",
    "model"
   ]
  },
  {
   "cell_type": "markdown",
   "metadata": {
    "id": "uEH0OfIqUxOg"
   },
   "source": [
    "### 7. Save the best model"
   ]
  },
  {
   "cell_type": "code",
   "execution_count": 225,
   "metadata": {
    "id": "xX4pmvAVBByZ",
    "outputId": "843aa553-e419-43ba-dbb3-3ebb1a67f454"
   },
   "outputs": [
    {
     "name": "stderr",
     "output_type": "stream",
     "text": [
      "24/06/07 11:59:12 WARN TaskSetManager: Stage 153 contains a task of very large size (17584 KiB). The maximum recommended task size is 1000 KiB.\n",
      "[Stage 151:=============>                                       (41 + 40) / 160]\r"
     ]
    }
   ],
   "source": [
    "model.save('output/news_topics_detection_model')"
   ]
  },
  {
   "cell_type": "markdown",
   "metadata": {
    "id": "GnFsw8x5Vyy2"
   },
   "source": [
    "## VI- Summary\n",
    "\n",
    "In this notebook we have studied created LDA model to perform topic detection. We use 30 as number of topics."
   ]
  },
  {
   "cell_type": "code",
   "execution_count": null,
   "metadata": {
    "id": "NSyD5awwBByb"
   },
   "outputs": [],
   "source": [
    "# Remove the cache and stop the spark session\n",
    "\n",
    "#df.unpersist()\n",
    "#spark.stop()"
   ]
  }
 ],
 "metadata": {
  "colab": {
   "provenance": []
  },
  "kernelspec": {
   "display_name": "Python 3 (ipykernel)",
   "language": "python",
   "name": "python3"
  },
  "language_info": {
   "codemirror_mode": {
    "name": "ipython",
    "version": 3
   },
   "file_extension": ".py",
   "mimetype": "text/x-python",
   "name": "python",
   "nbconvert_exporter": "python",
   "pygments_lexer": "ipython3",
   "version": "3.8.2"
  }
 },
 "nbformat": 4,
 "nbformat_minor": 1
}
