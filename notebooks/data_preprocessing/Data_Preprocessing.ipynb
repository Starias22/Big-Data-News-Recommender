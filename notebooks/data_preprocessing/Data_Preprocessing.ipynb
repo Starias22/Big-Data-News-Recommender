{
  "cells": [
    {
      "cell_type": "markdown",
      "metadata": {
        "id": "YR7Qbll8Wutb"
      },
      "source": [
        "# Data preprocessing"
      ]
    },
    {
      "cell_type": "markdown",
      "metadata": {
        "id": "zhP8wlryaWnx"
      },
      "source": [
        "## I- Modules imports"
      ]
    },
    {
      "cell_type": "code",
      "execution_count": 1,
      "metadata": {
        "id": "PycOReR_gWP0"
      },
      "outputs": [],
      "source": [
        "# Import the necessary modules\n",
        "from pyspark import SparkConf, SparkContext\n",
        "from pyspark.sql import SparkSession\n",
        "from pyspark.sql.functions import  when,col,lit,length,regexp_replace,trim, lower,udf,concat_ws,size,split,desc,expr,format_number\n",
        "from pyspark.sql.types import  StringType,ArrayType\n",
        "from pyspark.ml.feature import Tokenizer, StopWordsRemover,StringIndexer\n",
        "from nltk import WordNetLemmatizer, download\n",
        "import nlpaug.augmenter.word as naw\n",
        "from json import dump"
      ]
    },
    {
      "cell_type": "markdown",
      "metadata": {
        "id": "R11PCz51HGxI"
      },
      "source": [
        "## II- PySpark application and session creation"
      ]
    },
    {
      "cell_type": "code",
      "execution_count": 2,
      "metadata": {
        "colab": {
          "base_uri": "https://localhost:8080/",
          "height": 196
        },
        "id": "3Ub95hhDghcl",
        "outputId": "ba91e323-db1f-4db2-dfdb-ffa1788d7d3b"
      },
      "outputs": [
        {
          "name": "stderr",
          "output_type": "stream",
          "text": [
            "24/06/26 04:54:25 WARN Utils: Your hostname, starias-T14s resolves to a loopback address: 127.0.1.1; using 10.152.186.157 instead (on interface wlp0s20f3)\n",
            "24/06/26 04:54:25 WARN Utils: Set SPARK_LOCAL_IP if you need to bind to another address\n",
            "Setting default log level to \"WARN\".\n",
            "To adjust logging level use sc.setLogLevel(newLevel). For SparkR, use setLogLevel(newLevel).\n",
            "24/06/26 04:54:26 WARN NativeCodeLoader: Unable to load native-hadoop library for your platform... using builtin-java classes where applicable\n"
          ]
        },
        {
          "data": {
            "text/html": [
              "\n",
              "        <div>\n",
              "            <p><b>SparkContext</b></p>\n",
              "\n",
              "            <p><a href=\"http://10.152.186.157:4040\">Spark UI</a></p>\n",
              "\n",
              "            <dl>\n",
              "              <dt>Version</dt>\n",
              "                <dd><code>v3.5.1</code></dd>\n",
              "              <dt>Master</dt>\n",
              "                <dd><code>local[*]</code></dd>\n",
              "              <dt>AppName</dt>\n",
              "                <dd><code>DataPreprocessing</code></dd>\n",
              "            </dl>\n",
              "        </div>\n",
              "        "
            ],
            "text/plain": [
              "<SparkContext master=local[*] appName=DataPreprocessing>"
            ]
          },
          "execution_count": 2,
          "metadata": {},
          "output_type": "execute_result"
        }
      ],
      "source": [
        "# Configure a Spark Capplication for data preprocessing\n",
        "conf=SparkConf().setAppName('DataPreprocessing')\\\n",
        ".set(\"spark.driver.memory\", '20g')\n",
        "# Create the Spark Context\n",
        "sc=SparkContext(conf=conf)\n",
        "sc"
      ]
    },
    {
      "cell_type": "code",
      "execution_count": 3,
      "metadata": {
        "colab": {
          "base_uri": "https://localhost:8080/",
          "height": 219
        },
        "id": "kC3z9rwWg2BU",
        "outputId": "3da3da72-fa07-4a81-b537-1e1ef1f14d56"
      },
      "outputs": [
        {
          "data": {
            "text/html": [
              "\n",
              "            <div>\n",
              "                <p><b>SparkSession - in-memory</b></p>\n",
              "                \n",
              "        <div>\n",
              "            <p><b>SparkContext</b></p>\n",
              "\n",
              "            <p><a href=\"http://10.152.186.157:4040\">Spark UI</a></p>\n",
              "\n",
              "            <dl>\n",
              "              <dt>Version</dt>\n",
              "                <dd><code>v3.5.1</code></dd>\n",
              "              <dt>Master</dt>\n",
              "                <dd><code>local[*]</code></dd>\n",
              "              <dt>AppName</dt>\n",
              "                <dd><code>DataPreprocessing</code></dd>\n",
              "            </dl>\n",
              "        </div>\n",
              "        \n",
              "            </div>\n",
              "        "
            ],
            "text/plain": [
              "<pyspark.sql.session.SparkSession at 0x739467bcb700>"
            ]
          },
          "execution_count": 3,
          "metadata": {},
          "output_type": "execute_result"
        }
      ],
      "source": [
        "# Create a Spark Session\n",
        "spark=SparkSession(sc)\n",
        "spark"
      ]
    },
    {
      "cell_type": "markdown",
      "metadata": {
        "id": "U_-HxpX0f_u-"
      },
      "source": [
        "\n",
        "## III- Preprocessing each dataset\n",
        "\n",
        "We have five datasets to preprocess\n",
        "\n"
      ]
    },
    {
      "cell_type": "markdown",
      "metadata": {
        "id": "hPRy3HmuXdjq"
      },
      "source": [
        "### Dataset 1: Topic-labeled news dataset\n",
        "\n",
        "[Link to the dataset (Kaggle)](https://www.kaggle.com/datasets/kotartemiy/topic-labeled-news-dataset)"
      ]
    },
    {
      "cell_type": "markdown",
      "metadata": {
        "id": "G2AJde_MYIdA"
      },
      "source": [
        "#### A- Data exploration\n",
        "\n",
        "This is a csv file with a header and with values delimited by semicolons(;)."
      ]
    },
    {
      "cell_type": "code",
      "execution_count": 4,
      "metadata": {
        "colab": {
          "base_uri": "https://localhost:8080/"
        },
        "id": "uQY44ggyg-Ol",
        "outputId": "3c293d8a-67aa-4311-f7fb-a9aeafb211ec"
      },
      "outputs": [
        {
          "name": "stderr",
          "output_type": "stream",
          "text": [
            "                                                                                \r"
          ]
        },
        {
          "name": "stdout",
          "output_type": "stream",
          "text": [
            "108774 rows at all\n",
            "root\n",
            " |-- topic: string (nullable = true)\n",
            " |-- link: string (nullable = true)\n",
            " |-- domain: string (nullable = true)\n",
            " |-- published_date: timestamp (nullable = true)\n",
            " |-- title: string (nullable = true)\n",
            " |-- lang: string (nullable = true)\n",
            "\n",
            "+-------+--------------------+--------------------+-------------------+--------------------+----+\n",
            "|  topic|                link|              domain|     published_date|               title|lang|\n",
            "+-------+--------------------+--------------------+-------------------+--------------------+----+\n",
            "|SCIENCE|https://www.eurek...|      eurekalert.org|2020-08-06 13:59:45|A closer look at ...|  en|\n",
            "|SCIENCE|https://www.pulse...|            pulse.ng|2020-08-12 15:14:19|An irresistible s...|  en|\n",
            "|SCIENCE|https://www.expre...|       express.co.uk|2020-08-13 21:01:00|Artificial intell...|  en|\n",
            "|SCIENCE|https://www.ndtv....|            ndtv.com|2020-08-03 22:18:26|Glaciers Could Ha...|  en|\n",
            "|SCIENCE|https://www.thesu...|           thesun.ie|2020-08-12 19:54:36|Perseid meteor sh...|  en|\n",
            "|SCIENCE|https://interesti...|interestingengine...|2020-08-08 11:05:45|NASA Releases In-...|  en|\n",
            "|SCIENCE|https://www.thequ...|        thequint.com|2020-05-28 09:09:46|SpaceX, NASA Demo...|  en|\n",
            "|SCIENCE|https://www.thesp...|  thespacereview.com|2020-08-10 22:48:23|Orbital space tou...|  en|\n",
            "|SCIENCE|https://www.busin...| businessinsider.com|2020-08-16 00:28:54|Greenland's melti...|  en|\n",
            "|SCIENCE|https://www.thehi...|thehindubusinessl...|2020-08-14 07:43:25|NASA invites engi...|  en|\n",
            "|SCIENCE|https://www.azoqu...|      azoquantum.com|2020-08-04 14:02:00|Astronomers Detec...|  en|\n",
            "|SCIENCE|https://interesti...|interestingengine...|2020-08-07 09:23:57|NASA Finds Ammoni...|  en|\n",
            "|SCIENCE|https://menafn.co...|          menafn.com|2020-08-07 22:05:55|Russia targets re...|  en|\n",
            "|SCIENCE|https://www.nasa....|            nasa.gov|2020-08-06 16:28:32|Martian Night Sky...|  en|\n",
            "|SCIENCE|https://scitechda...|    scitechdaily.com|2020-08-17 14:23:19|Energy-Efficient ...|  en|\n",
            "|SCIENCE|https://www.thela...|      theladders.com|2020-08-14 19:58:55|Scientists may ha...|  en|\n",
            "|SCIENCE|https://www.eurek...|      eurekalert.org|2020-08-04 16:02:36|Tradeoff between ...|  en|\n",
            "|SCIENCE|https://kearneyhu...|      kearneyhub.com|2020-08-08 17:13:07|2020's final Mars...|  en|\n",
            "|SCIENCE|https://www.washi...|  washingtonpost.com|2020-08-15 12:00:00|In rare find, fos...|  en|\n",
            "|SCIENCE|https://www.rnz.c...|           rnz.co.nz|2020-08-02 18:50:38|Nasa SpaceX crew ...|  en|\n",
            "+-------+--------------------+--------------------+-------------------+--------------------+----+\n",
            "only showing top 20 rows\n",
            "\n"
          ]
        }
      ],
      "source": [
        "# Reading the file to get a dataframe\n",
        "df=spark.read.csv('input/input1.csv',header=True,inferSchema=True,sep=';')\n",
        "\n",
        "# Print the number of records\n",
        "print(df.count(),'rows at all')\n",
        "\n",
        "# Print the schema of the data\n",
        "df.printSchema()\n",
        "\n",
        "# Show the data (first 20 rows)\n",
        "df.show()"
      ]
    },
    {
      "cell_type": "markdown",
      "metadata": {
        "id": "9F--_mM9mJiy"
      },
      "source": [
        "We remark that the dataset contains **6** fields and **108774** instances.\n",
        "\n",
        "The fiedls are the following:\n",
        "\n",
        "- ` topic`: What the new is about.\n",
        "-` link`: The URL to the new\n",
        "- `domain`: The domain name of the website where the new was collected\n",
        "- `published_date`: The publication date of the new\n",
        "- `title`: The title of the new\n",
        "- `lang`: The language in which the new was written\n",
        "\n",
        "As we are going to work with english news only, we must ensure that our news are in english. So let us list the languages of the news.\n",
        "\n",
        "Let us group the data by language and count the number of occurences of each group."
      ]
    },
    {
      "cell_type": "code",
      "execution_count": 5,
      "metadata": {
        "colab": {
          "base_uri": "https://localhost:8080/"
        },
        "id": "43d6aZBUksiO",
        "outputId": "f6fb263e-161b-4640-9fe2-0fd08658442f"
      },
      "outputs": [
        {
          "name": "stderr",
          "output_type": "stream",
          "text": [
            "[Stage 6:===================>                                       (2 + 4) / 6]\r"
          ]
        },
        {
          "name": "stdout",
          "output_type": "stream",
          "text": [
            "+--------------------+------+\n",
            "|                lang| count|\n",
            "+--------------------+------+\n",
            "|                  en|108771|\n",
            "| Arrives August 2...|     1|\n",
            "| A Groundbreaking...|     1|\n",
            "| Saif Ali Khan's ...|     1|\n",
            "+--------------------+------+\n",
            "\n"
          ]
        },
        {
          "name": "stderr",
          "output_type": "stream",
          "text": [
            "                                                                                \r"
          ]
        }
      ],
      "source": [
        "df.select(df.lang).groupBy(df.lang).count().show()"
      ]
    },
    {
      "cell_type": "markdown",
      "metadata": {
        "id": "4AhokClaqVK-"
      },
      "source": [
        "We see that there are `3` instances of the data which have wrong values of language.\n",
        "\n",
        "The other have as value of language, ` en`, which means they are english news.\n",
        "\n",
        "Let us look at the content of the three wrong instances."
      ]
    },
    {
      "cell_type": "code",
      "execution_count": 6,
      "metadata": {
        "colab": {
          "base_uri": "https://localhost:8080/"
        },
        "id": "dHmYDHyufcwz",
        "outputId": "38c25531-a9e0-4c6d-b33f-f0a1226549fe"
      },
      "outputs": [
        {
          "name": "stdout",
          "output_type": "stream",
          "text": [
            "+------------------------------------------------------------------------------------------------------------------------------+\n",
            "|title                                                                                                                         |\n",
            "+------------------------------------------------------------------------------------------------------------------------------+\n",
            "|\"Upcoming 'Control' DLC \"\"AWE\"\" Crosses Over With 'Alan Wake'                                                                 |\n",
            "|\"ASHBA Drops Highly Anticipated Debut Single \"\"Hypnotic\"\" (Feat. Cali Tucker) On August 14                                    |\n",
            "|\"\"\"Arnab, The News Prostitute\"\": Ram Gopal Varma announces title of his next film to take 'clothes off' Arnab Goswami's facade|\n",
            "+------------------------------------------------------------------------------------------------------------------------------+\n",
            "\n"
          ]
        }
      ],
      "source": [
        "df.select(df.title).filter(df.lang!='en').show(truncate=False)"
      ]
    },
    {
      "cell_type": "markdown",
      "metadata": {
        "id": "EPuE1zVtr-Xr"
      },
      "source": [
        "The table shows that these instances are in english too.\n",
        "\n",
        "Now let us move to the next section, which is features and colums renaming"
      ]
    },
    {
      "cell_type": "markdown",
      "metadata": {
        "id": "6uwpZDInfdWf"
      },
      "source": [
        "#### B- Features selection and columns renaming\n",
        "\n",
        "Among the 6 columns of our dataset, only 2 are relative to our task. There are `topic` and `title`.\n",
        "\n",
        "Let us select only these columns and then let us rename them to `category` and `description`\n"
      ]
    },
    {
      "cell_type": "code",
      "execution_count": 7,
      "metadata": {
        "colab": {
          "base_uri": "https://localhost:8080/"
        },
        "id": "cft9a9EEiaNu",
        "outputId": "3add267a-cc01-458a-bbb8-37e70344094e"
      },
      "outputs": [
        {
          "name": "stdout",
          "output_type": "stream",
          "text": [
            "root\n",
            " |-- description: string (nullable = true)\n",
            " |-- category: string (nullable = true)\n",
            "\n"
          ]
        }
      ],
      "source": [
        "# Feautures selection and column renaming\n",
        "\n",
        "# Select the relevant columns\n",
        "df=df.select([df.title,df.topic])\\\n",
        ".withColumnsRenamed({'topic':'category','title':'description'}) # Rename the columns\n",
        "\n",
        "# Print the schema of the new dataframe\n",
        "df.printSchema()"
      ]
    },
    {
      "cell_type": "markdown",
      "metadata": {
        "id": "BOEIpS0cuVUc"
      },
      "source": [
        "Now the schema of our data is:\n",
        "\n",
        "- `description`: The description of the data\n",
        "- `category`: The category of the data\n",
        "\n",
        "Let us move to the next section, whiich consists to handle missing values."
      ]
    },
    {
      "cell_type": "markdown",
      "metadata": {
        "id": "SkqjfRzgu4X6"
      },
      "source": [
        "#### C- Handling missing values\n",
        "\n",
        "First of all we need to identify the missing values"
      ]
    },
    {
      "cell_type": "code",
      "execution_count": 8,
      "metadata": {
        "colab": {
          "base_uri": "https://localhost:8080/"
        },
        "id": "ZKnibe-fkicz",
        "outputId": "7d43df08-b518-4dfb-d61a-7c7588c97300"
      },
      "outputs": [
        {
          "data": {
            "text/plain": [
              "0"
            ]
          },
          "execution_count": 8,
          "metadata": {},
          "output_type": "execute_result"
        }
      ],
      "source": [
        "df.filter((df.category.isNull()) | (df.description.isNull())).count()"
      ]
    },
    {
      "cell_type": "markdown",
      "metadata": {
        "id": "4uIXAVIJvn_X"
      },
      "source": [
        "The previous code counts the number of null values in our dataframe. As the result is 0, there is no null value in our data."
      ]
    },
    {
      "cell_type": "markdown",
      "metadata": {
        "id": "6uw13_vRnY5n"
      },
      "source": [
        "#### D- Summary\n",
        "\n",
        "Our preprocessed data now contains 108774 rows, and 2 colums which are `description` and `category`.\n",
        "\n",
        "Let us copy it into anoter variable."
      ]
    },
    {
      "cell_type": "code",
      "execution_count": 9,
      "metadata": {
        "colab": {
          "base_uri": "https://localhost:8080/"
        },
        "id": "oI1Pd6b1mdYR",
        "outputId": "ff41f7a3-cef6-4787-dc62-989484aa8b05"
      },
      "outputs": [
        {
          "name": "stdout",
          "output_type": "stream",
          "text": [
            "+--------------------+--------+\n",
            "|         description|category|\n",
            "+--------------------+--------+\n",
            "|A closer look at ...| SCIENCE|\n",
            "|An irresistible s...| SCIENCE|\n",
            "|Artificial intell...| SCIENCE|\n",
            "|Glaciers Could Ha...| SCIENCE|\n",
            "|Perseid meteor sh...| SCIENCE|\n",
            "|NASA Releases In-...| SCIENCE|\n",
            "|SpaceX, NASA Demo...| SCIENCE|\n",
            "|Orbital space tou...| SCIENCE|\n",
            "|Greenland's melti...| SCIENCE|\n",
            "|NASA invites engi...| SCIENCE|\n",
            "|Astronomers Detec...| SCIENCE|\n",
            "|NASA Finds Ammoni...| SCIENCE|\n",
            "|Russia targets re...| SCIENCE|\n",
            "|Martian Night Sky...| SCIENCE|\n",
            "|Energy-Efficient ...| SCIENCE|\n",
            "|Scientists may ha...| SCIENCE|\n",
            "|Tradeoff between ...| SCIENCE|\n",
            "|2020's final Mars...| SCIENCE|\n",
            "|In rare find, fos...| SCIENCE|\n",
            "|Nasa SpaceX crew ...| SCIENCE|\n",
            "+--------------------+--------+\n",
            "only showing top 20 rows\n",
            "\n",
            "root\n",
            " |-- description: string (nullable = true)\n",
            " |-- category: string (nullable = true)\n",
            "\n"
          ]
        }
      ],
      "source": [
        "# Make a copy\n",
        "df1=df\n",
        "df1.show()\n",
        "df1.printSchema()"
      ]
    },
    {
      "cell_type": "markdown",
      "metadata": {
        "id": "AfiLZ8Szh-L5"
      },
      "source": [
        "### Dataset 2: News categories dataset\n",
        "\n",
        "[Link to the dataset (Kaggle)](https://www.kaggle.com/datasets/rmisra/news-category-dataset)"
      ]
    },
    {
      "cell_type": "markdown",
      "metadata": {
        "id": "_wg3O4CVYSAY"
      },
      "source": [
        "####  Data exploration\n",
        "\n",
        "This is a json file."
      ]
    },
    {
      "cell_type": "code",
      "execution_count": 10,
      "metadata": {
        "colab": {
          "base_uri": "https://localhost:8080/"
        },
        "id": "nk2vMEL_pzEr",
        "outputId": "fc35b081-febc-486e-c90d-6fd9b67cf58d"
      },
      "outputs": [
        {
          "name": "stderr",
          "output_type": "stream",
          "text": [
            "                                                                                \r"
          ]
        },
        {
          "name": "stdout",
          "output_type": "stream",
          "text": [
            "209527 rows at all\n",
            "root\n",
            " |-- authors: string (nullable = true)\n",
            " |-- category: string (nullable = true)\n",
            " |-- date: string (nullable = true)\n",
            " |-- headline: string (nullable = true)\n",
            " |-- link: string (nullable = true)\n",
            " |-- short_description: string (nullable = true)\n",
            "\n",
            "+--------------------+--------------+----------+--------------------+--------------------+--------------------+\n",
            "|             authors|      category|      date|            headline|                link|   short_description|\n",
            "+--------------------+--------------+----------+--------------------+--------------------+--------------------+\n",
            "|Carla K. Johnson, AP|     U.S. NEWS|2022-09-23|Over 4 Million Am...|https://www.huffp...|Health experts sa...|\n",
            "|      Mary Papenfuss|     U.S. NEWS|2022-09-23|American Airlines...|https://www.huffp...|He was subdued by...|\n",
            "|       Elyse Wanshel|        COMEDY|2022-09-23|23 Of The Funnies...|https://www.huffp...|\"Until you have a...|\n",
            "|    Caroline Bologna|     PARENTING|2022-09-23|The Funniest Twee...|https://www.huffp...|\"Accidentally put...|\n",
            "|      Nina Golgowski|     U.S. NEWS|2022-09-22|Woman Who Called ...|https://www.huffp...|Amy Cooper accuse...|\n",
            "|                    |     U.S. NEWS|2022-09-22|Cleaner Was Dead ...|https://www.huffp...|The 63-year-old w...|\n",
            "|       Elyse Wanshel|     U.S. NEWS|2022-09-22|Reporter Gets Ado...|https://www.huffp...|\"Who's that behin...|\n",
            "|     DÁNICA COTO, AP|    WORLD NEWS|2022-09-22|Puerto Ricans Des...|https://www.huffp...|More than half a ...|\n",
            "|         Marina Fang|CULTURE & ARTS|2022-09-22|How A New Documen...|https://www.huffp...|In \"Mija,\" direct...|\n",
            "|   Aamer Madhani, AP|    WORLD NEWS|2022-09-21|Biden At UN To Ca...|https://www.huffp...|White House offic...|\n",
            "|   GRAHAM DUNBAR, AP|    WORLD NEWS|2022-09-21|World Cup Captain...|https://www.huffp...|FIFA has come und...|\n",
            "|  Mari Yamaguchi, AP|    WORLD NEWS|2022-09-21|Man Sets Himself ...|https://www.huffp...|The incident unde...|\n",
            "|     Dánica Coto, AP|    WORLD NEWS|2022-09-21|Fiona Threatens T...|https://www.huffp...|Hurricane Fiona l...|\n",
            "|        Ben Blanchet|          TECH|2022-09-21|Twitch Bans Gambl...|https://www.huffp...|One man's claims ...|\n",
            "|Eric Tucker and M...|     U.S. NEWS|2022-09-21|Virginia Thomas A...|https://www.huffp...|Conservative acti...|\n",
            "|   Marco Margaritoff|    WORLD NEWS|2022-09-20|Russian Cosmonaut...|https://www.huffp...|Polyakov's record...|\n",
            "|Marina Fang and C...|CULTURE & ARTS|2022-09-20|'Reboot' Is A Cle...|https://www.huffp...|Starring Keegan-M...|\n",
            "|     Beth Harris, AP|        SPORTS|2022-09-20|Maury Wills, Base...|https://www.huffp...|Maury Wills, who ...|\n",
            "|    Jon Gambrell, AP|    WORLD NEWS|2022-09-20|4 Russian-Control...|https://www.huffp...|The concerted and...|\n",
            "|     Dánica Coto, AP|    WORLD NEWS|2022-09-20|Fiona Barrels Tow...|https://www.huffp...|The Turks and Cai...|\n",
            "+--------------------+--------------+----------+--------------------+--------------------+--------------------+\n",
            "only showing top 20 rows\n",
            "\n"
          ]
        }
      ],
      "source": [
        "# Read the file to get a dataframe\n",
        "df=spark.read.json('input/input2.json')\n",
        "# Print the number of records\n",
        "\n",
        "print(df.count(),'rows at all')\n",
        "\n",
        "# Print the schema of the data\n",
        "df.printSchema()\n",
        "\n",
        "# Show the data (first 20 rows)\n",
        "df.show()"
      ]
    },
    {
      "cell_type": "markdown",
      "metadata": {
        "id": "v0a2iVhx0Jbo"
      },
      "source": [
        "We remark that the dataset contains **6** fields and **209527** instances.\n",
        "\n",
        "The fiedls are the following:\n",
        "\n",
        "- ` authors`: The authors of the new.\n",
        "- `category`: The category of the new\n",
        "- `date` the publication date of the new\n",
        "- `headline`: The headline of the new\n",
        "-` link`: The URL to the new\n",
        "- `short_description`: A short description of the new"
      ]
    },
    {
      "cell_type": "markdown",
      "metadata": {
        "id": "pan9fCrS1i3C"
      },
      "source": [
        "#### B- Features selection\n",
        "\n",
        "Among the 6 columns of our dataset, only 3 are relative to our task. There are `category`, `headline` and `short_description`\n",
        "\n",
        "Let us select only these columns"
      ]
    },
    {
      "cell_type": "code",
      "execution_count": 11,
      "metadata": {
        "colab": {
          "base_uri": "https://localhost:8080/"
        },
        "id": "tX-zXr1_2UY1",
        "outputId": "b79de759-e34a-4dda-eea7-aa9f579beec9"
      },
      "outputs": [
        {
          "name": "stdout",
          "output_type": "stream",
          "text": [
            "root\n",
            " |-- category: string (nullable = true)\n",
            " |-- headline: string (nullable = true)\n",
            " |-- short_description: string (nullable = true)\n",
            "\n"
          ]
        }
      ],
      "source": [
        "# Features selection\n",
        "\n",
        "# Select the relevant columns\n",
        "df=df.select([df.category,df.headline,df.short_description])\n",
        "\n",
        "# Print the schema of the new dataframe\n",
        "df.printSchema()"
      ]
    },
    {
      "cell_type": "markdown",
      "metadata": {
        "id": "dSjXe-9b3RZ0"
      },
      "source": [
        "Now the schema of our data is:\n",
        "\n",
        "- `category`: The category of the news\n",
        "- `headline`: Rhe headline of the news\n",
        "-`short_description`: A short description of the news\n",
        "\n",
        "Let us move to the next section, whiich consists to handle missing values."
      ]
    },
    {
      "cell_type": "markdown",
      "metadata": {
        "id": "LMfQhZ7o4c9V"
      },
      "source": [
        "#### C- Handling missing values\n",
        "\n",
        "First of all we need to identify the missing values"
      ]
    },
    {
      "cell_type": "code",
      "execution_count": 12,
      "metadata": {
        "colab": {
          "base_uri": "https://localhost:8080/"
        },
        "id": "loCgGi7fd3rm",
        "outputId": "724b0645-4d3e-4b75-c571-41c358de6915"
      },
      "outputs": [
        {
          "name": "stdout",
          "output_type": "stream",
          "text": [
            "+--------+--------+-----------------+\n",
            "|category|headline|short_description|\n",
            "+--------+--------+-----------------+\n",
            "+--------+--------+-----------------+\n",
            "\n"
          ]
        }
      ],
      "source": [
        "df.filter(df.category.isNull()).show()"
      ]
    },
    {
      "cell_type": "markdown",
      "metadata": {
        "id": "ROYEkSay4xAw"
      },
      "source": [
        "Basing on the code we may say that ther is no missing value but that is wrong.\n",
        "\n",
        "In fact, we have loaded our data from JSON but JSON file format is a semi-structured data format so without a predifined structure.\n",
        "\n",
        "All the dat we have loaded from our file has been considerred s string, including dates and null values. So we need to look for null values with another method: He have to look for empty strings ie `''`"
      ]
    },
    {
      "cell_type": "code",
      "execution_count": 13,
      "metadata": {
        "colab": {
          "base_uri": "https://localhost:8080/"
        },
        "id": "GQ_zbFwoiah4",
        "outputId": "db57d3c9-65a2-4640-8c66-6233c50dbb74"
      },
      "outputs": [
        {
          "name": "stdout",
          "output_type": "stream",
          "text": [
            "+--------------+--------------------+-----------------+\n",
            "|      category|            headline|short_description|\n",
            "+--------------+--------------------+-----------------+\n",
            "|        COMEDY|   The Big Blue Wave|                 |\n",
            "|    WORLD NEWS|Inside Rukban Cam...|                 |\n",
            "|    WORLD NEWS|Syrian Refugees R...|                 |\n",
            "|         TASTE|Your Guide To The...|                 |\n",
            "|        COMEDY|    The Bechdel Test|                 |\n",
            "|         WOMEN|Note: This conten...|                 |\n",
            "|         WOMEN|Note: This conten...|                 |\n",
            "|      POLITICS|Fired U.S. Attorn...|                 |\n",
            "|HEALTHY LIVING|Love Needs To Be ...|                 |\n",
            "|     WORLDPOST|A New American St...|                 |\n",
            "|         GREEN|A Price On Carbon...|                 |\n",
            "|      POLITICS|Geoff Cowan, Form...|                 |\n",
            "|      POLITICS|Donald Trump Only...|                 |\n",
            "|     WORLDPOST|Islamic Republic ...|                 |\n",
            "|      BUSINESS|Price Wrong and L...|                 |\n",
            "|         TASTE|How to Make Gyoza...|                 |\n",
            "|        SPORTS|How John Cena's W...|                 |\n",
            "|        SPORTS|Goldberg's WWE Re...|                 |\n",
            "|      BUSINESS|Oscarnomics 2017:...|                 |\n",
            "|      BUSINESS|5 Success Practic...|                 |\n",
            "+--------------+--------------------+-----------------+\n",
            "only showing top 20 rows\n",
            "\n"
          ]
        },
        {
          "data": {
            "text/plain": [
              "19713"
            ]
          },
          "execution_count": 13,
          "metadata": {},
          "output_type": "execute_result"
        }
      ],
      "source": [
        "null_values_df=df.filter( (df.category=='') | (df.headline=='' ) | (df.short_description==''))\n",
        "null_values_df.show()\n",
        "null_values_df.count()"
      ]
    },
    {
      "cell_type": "markdown",
      "metadata": {
        "id": "rAvkxWe97RCK"
      },
      "source": [
        "The previous output shows that there `19713` instances containing missing values in our dataframe.\n",
        "\n",
        "Firstly let us check if there are lines with null value everywhere."
      ]
    },
    {
      "cell_type": "code",
      "execution_count": 14,
      "metadata": {
        "colab": {
          "base_uri": "https://localhost:8080/"
        },
        "id": "nZNaCPBng3Yt",
        "outputId": "7f7767c1-48b5-479a-eb19-f27763094a9b"
      },
      "outputs": [
        {
          "name": "stdout",
          "output_type": "stream",
          "text": [
            "+--------+--------+-----------------+\n",
            "|category|headline|short_description|\n",
            "+--------+--------+-----------------+\n",
            "+--------+--------+-----------------+\n",
            "\n"
          ]
        },
        {
          "name": "stderr",
          "output_type": "stream",
          "text": [
            "24/06/26 04:54:43 WARN GarbageCollectionMetrics: To enable non-built-in garbage collector(s) List(G1 Concurrent GC), users should configure it(them) to spark.eventLog.gcMetrics.youngGenerationGarbageCollectors or spark.eventLog.gcMetrics.oldGenerationGarbageCollectors\n"
          ]
        },
        {
          "data": {
            "text/plain": [
              "0"
            ]
          },
          "execution_count": 14,
          "metadata": {},
          "output_type": "execute_result"
        }
      ],
      "source": [
        "# Find NULL values\n",
        "null_values_df=df.filter( (df.category=='') & (df.headline=='' ) & (df.short_description==''))\n",
        "null_values_df.show()\n",
        "null_values_df.count()"
      ]
    },
    {
      "cell_type": "markdown",
      "metadata": {
        "id": "p4HulCm38JCX"
      },
      "source": [
        "So there is no null line in the data\n",
        "\n",
        "Now let us find the NULL values in each colums"
      ]
    },
    {
      "cell_type": "code",
      "execution_count": 15,
      "metadata": {
        "colab": {
          "base_uri": "https://localhost:8080/"
        },
        "id": "BvYQ8zWcizTC",
        "outputId": "88a36383-b560-40cd-a26f-098301f3a7e2"
      },
      "outputs": [
        {
          "name": "stdout",
          "output_type": "stream",
          "text": [
            "+--------+--------+-----------------+\n",
            "|category|headline|short_description|\n",
            "+--------+--------+-----------------+\n",
            "+--------+--------+-----------------+\n",
            "\n"
          ]
        },
        {
          "data": {
            "text/plain": [
              "0"
            ]
          },
          "execution_count": 15,
          "metadata": {},
          "output_type": "execute_result"
        }
      ],
      "source": [
        "# Check NULL values in the column category\n",
        "null_values_df=df.filter( (df.category=='') )\n",
        "null_values_df.show()\n",
        "null_values_df.count()"
      ]
    },
    {
      "cell_type": "markdown",
      "metadata": {
        "id": "0EfoPTtA8sYX"
      },
      "source": [
        "There is no NULL value in the colum category."
      ]
    },
    {
      "cell_type": "code",
      "execution_count": 16,
      "metadata": {
        "colab": {
          "base_uri": "https://localhost:8080/"
        },
        "id": "K8kudN9gqD9E",
        "outputId": "01eff6d2-4248-4382-e869-b61da224e07a"
      },
      "outputs": [
        {
          "name": "stdout",
          "output_type": "stream",
          "text": [
            "+------------+--------+--------------------+\n",
            "|    category|headline|   short_description|\n",
            "+------------+--------+--------------------+\n",
            "|    POLITICS|        |                    |\n",
            "|    RELIGION|        |Let everyone not ...|\n",
            "|   WORLDPOST|        |                    |\n",
            "|    BUSINESS|        |                    |\n",
            "|       MEDIA|        |                    |\n",
            "|QUEER VOICES|        |                    |\n",
            "+------------+--------+--------------------+\n",
            "\n"
          ]
        },
        {
          "data": {
            "text/plain": [
              "6"
            ]
          },
          "execution_count": 16,
          "metadata": {},
          "output_type": "execute_result"
        }
      ],
      "source": [
        "# Check NULL values in the column headline\n",
        "null_values_df=df.filter( (df.headline=='') )\n",
        "null_values_df.show()\n",
        "null_values_df.count()"
      ]
    },
    {
      "cell_type": "markdown",
      "metadata": {
        "id": "T8EB83hW9J_1"
      },
      "source": [
        "There are 6 NULL values in the colum headline"
      ]
    },
    {
      "cell_type": "code",
      "execution_count": 17,
      "metadata": {
        "colab": {
          "base_uri": "https://localhost:8080/"
        },
        "id": "AlMNlFVL9R_V",
        "outputId": "8d4bf8bf-fc32-428c-fa4f-9a44c05490f4"
      },
      "outputs": [
        {
          "name": "stdout",
          "output_type": "stream",
          "text": [
            "+--------------+--------------------+-----------------+\n",
            "|      category|            headline|short_description|\n",
            "+--------------+--------------------+-----------------+\n",
            "|        COMEDY|   The Big Blue Wave|                 |\n",
            "|    WORLD NEWS|Inside Rukban Cam...|                 |\n",
            "|    WORLD NEWS|Syrian Refugees R...|                 |\n",
            "|         TASTE|Your Guide To The...|                 |\n",
            "|        COMEDY|    The Bechdel Test|                 |\n",
            "|         WOMEN|Note: This conten...|                 |\n",
            "|         WOMEN|Note: This conten...|                 |\n",
            "|      POLITICS|Fired U.S. Attorn...|                 |\n",
            "|HEALTHY LIVING|Love Needs To Be ...|                 |\n",
            "|     WORLDPOST|A New American St...|                 |\n",
            "|         GREEN|A Price On Carbon...|                 |\n",
            "|      POLITICS|Geoff Cowan, Form...|                 |\n",
            "|      POLITICS|Donald Trump Only...|                 |\n",
            "|     WORLDPOST|Islamic Republic ...|                 |\n",
            "|      BUSINESS|Price Wrong and L...|                 |\n",
            "|         TASTE|How to Make Gyoza...|                 |\n",
            "|        SPORTS|How John Cena's W...|                 |\n",
            "|        SPORTS|Goldberg's WWE Re...|                 |\n",
            "|      BUSINESS|Oscarnomics 2017:...|                 |\n",
            "|      BUSINESS|5 Success Practic...|                 |\n",
            "+--------------+--------------------+-----------------+\n",
            "only showing top 20 rows\n",
            "\n"
          ]
        },
        {
          "data": {
            "text/plain": [
              "19712"
            ]
          },
          "execution_count": 17,
          "metadata": {},
          "output_type": "execute_result"
        }
      ],
      "source": [
        "# Check NULL values in the column short_description\n",
        "null_values_df=df.filter( (df.short_description=='') )\n",
        "null_values_df.show()\n",
        "null_values_df.count()"
      ]
    },
    {
      "cell_type": "markdown",
      "metadata": {
        "id": "bvqfHxOB9aoh"
      },
      "source": [
        "There are  19712 NULL values in the colum short_description\n",
        "\n",
        "In short, headline and short_description are the only columns which contains NULL values.\n",
        "\n",
        "Now let us show the rows with NULL value in both headline and short_description columns\n"
      ]
    },
    {
      "cell_type": "code",
      "execution_count": 18,
      "metadata": {
        "colab": {
          "base_uri": "https://localhost:8080/"
        },
        "id": "1aKlscZ1-TJo",
        "outputId": "e24f48d4-2f5c-4023-e804-4c49c9005dd4"
      },
      "outputs": [
        {
          "name": "stdout",
          "output_type": "stream",
          "text": [
            "+------------+--------+-----------------+\n",
            "|    category|headline|short_description|\n",
            "+------------+--------+-----------------+\n",
            "|    POLITICS|        |                 |\n",
            "|   WORLDPOST|        |                 |\n",
            "|    BUSINESS|        |                 |\n",
            "|       MEDIA|        |                 |\n",
            "|QUEER VOICES|        |                 |\n",
            "+------------+--------+-----------------+\n",
            "\n"
          ]
        },
        {
          "data": {
            "text/plain": [
              "5"
            ]
          },
          "execution_count": 18,
          "metadata": {},
          "output_type": "execute_result"
        }
      ],
      "source": [
        "# Find NULL in both headline and short_description columns\n",
        "null_values_df=df.filter( (df.headline=='') & (df.short_description=='' ))\n",
        "null_values_df.show()\n",
        "null_values_df.count()"
      ]
    },
    {
      "cell_type": "markdown",
      "metadata": {
        "id": "YGHH-M15-qLg"
      },
      "source": [
        "There are 5 matching rows. We will remove them since we cannot perform our task with both headline and description missing."
      ]
    },
    {
      "cell_type": "code",
      "execution_count": 19,
      "metadata": {
        "id": "ew5Ynwud_Iuq"
      },
      "outputs": [],
      "source": [
        "3 #Select only the rows without NULL values in both headline and short_description columns\n",
        "\n",
        "df=df.filter( ~((df.headline=='') & (df.short_description=='' )))\n"
      ]
    },
    {
      "cell_type": "code",
      "execution_count": 20,
      "metadata": {
        "colab": {
          "base_uri": "https://localhost:8080/"
        },
        "id": "hxahItb7AYKB",
        "outputId": "d88275bf-90f6-4969-cba6-a844f551a6fe"
      },
      "outputs": [
        {
          "data": {
            "text/plain": [
              "0"
            ]
          },
          "execution_count": 20,
          "metadata": {},
          "output_type": "execute_result"
        }
      ],
      "source": [
        "# Find rows with NULL value in both headline and short_description columns\n",
        "df.filter( ((df.headline=='') & (df.short_description=='' ))).count()"
      ]
    },
    {
      "cell_type": "markdown",
      "metadata": {
        "id": "4qrWbTp0CTAd"
      },
      "source": [
        "#### D- Feature engineering\n",
        "\n",
        "Now that we now that our dataframe doesn't contain any rows with NULL values in both headline and short_description columns, let us add a new colum to the dataframe, called description, with as value the short_description if it is not NULL and the headline if it is NULL"
      ]
    },
    {
      "cell_type": "code",
      "execution_count": 21,
      "metadata": {
        "colab": {
          "base_uri": "https://localhost:8080/"
        },
        "id": "dIscyfk3rSkH",
        "outputId": "9a1f4ac9-4382-4022-d7ba-e22d2209bd87"
      },
      "outputs": [
        {
          "name": "stdout",
          "output_type": "stream",
          "text": [
            "+--------------+-----------------------------------------------------------------------------------------+--------------------------------------------------------------------------------------------------------------------------------------------------------------------------------------------------------+-----------------------------------------------------------------------------------------+\n",
            "|category      |headline                                                                                 |short_description                                                                                                                                                                                       |description                                                                              |\n",
            "+--------------+-----------------------------------------------------------------------------------------+--------------------------------------------------------------------------------------------------------------------------------------------------------------------------------------------------------+-----------------------------------------------------------------------------------------+\n",
            "|U.S. NEWS     |Over 4 Million Americans Roll Up Sleeves For Omicron-Targeted COVID Boosters             |Health experts said it is too early to predict whether demand would match up with the 171 million doses of the new boosters the U.S. ordered for the fall.                                              |Over 4 Million Americans Roll Up Sleeves For Omicron-Targeted COVID Boosters             |\n",
            "|U.S. NEWS     |American Airlines Flyer Charged, Banned For Life After Punching Flight Attendant On Video|He was subdued by passengers and crew when he fled to the back of the aircraft after the confrontation, according to the U.S. attorney's office in Los Angeles.                                         |American Airlines Flyer Charged, Banned For Life After Punching Flight Attendant On Video|\n",
            "|COMEDY        |23 Of The Funniest Tweets About Cats And Dogs This Week (Sept. 17-23)                    |\"Until you have a dog you don't understand what could be eaten.\"                                                                                                                                        |23 Of The Funniest Tweets About Cats And Dogs This Week (Sept. 17-23)                    |\n",
            "|PARENTING     |The Funniest Tweets From Parents This Week (Sept. 17-23)                                 |\"Accidentally put grown-up toothpaste on my toddler’s toothbrush and he screamed like I was cleaning his teeth with a Carolina Reaper dipped in Tabasco sauce.\"                                         |The Funniest Tweets From Parents This Week (Sept. 17-23)                                 |\n",
            "|U.S. NEWS     |Woman Who Called Cops On Black Bird-Watcher Loses Lawsuit Against Ex-Employer            |Amy Cooper accused investment firm Franklin Templeton of unfairly firing her and branding her a racist after video of the Central Park encounter went viral.                                            |Woman Who Called Cops On Black Bird-Watcher Loses Lawsuit Against Ex-Employer            |\n",
            "|U.S. NEWS     |Cleaner Was Dead In Belk Bathroom For 4 Days Before Body Found: Police                   |The 63-year-old woman was seen working at the South Carolina store on Thursday. She was found dead Monday after her family reported her missing, authorities said.                                      |Cleaner Was Dead In Belk Bathroom For 4 Days Before Body Found: Police                   |\n",
            "|U.S. NEWS     |Reporter Gets Adorable Surprise From Her Boyfriend While Live On TV                      |\"Who's that behind you?\" an anchor for New York’s PIX11 asked journalist Michelle Ross as she finished up an interview.                                                                                 |Reporter Gets Adorable Surprise From Her Boyfriend While Live On TV                      |\n",
            "|WORLD NEWS    |Puerto Ricans Desperate For Water After Hurricane Fiona’s Rampage                        |More than half a million people remained without water service three days after the storm lashed the U.S. territory.                                                                                    |Puerto Ricans Desperate For Water After Hurricane Fiona’s Rampage                        |\n",
            "|CULTURE & ARTS|How A New Documentary Captures The Complexity Of Being A Child Of Immigrants             |In \"Mija,\" director Isabel Castro combined music documentaries with the style of \"Euphoria\" and \"Clueless\" to tell a more nuanced immigration story.                                                    |How A New Documentary Captures The Complexity Of Being A Child Of Immigrants             |\n",
            "|WORLD NEWS    |Biden At UN To Call Russian War An Affront To Body's Charter                             |White House officials say the crux of the president's visit to the U.N. this year will be a full-throated condemnation of Russia and its brutal war.                                                    |Biden At UN To Call Russian War An Affront To Body's Charter                             |\n",
            "|WORLD NEWS    |World Cup Captains Want To Wear Rainbow Armbands In Qatar                                |FIFA has come under pressure from several European soccer federations who want to support a human rights campaign against discrimination at the World Cup.                                              |World Cup Captains Want To Wear Rainbow Armbands In Qatar                                |\n",
            "|WORLD NEWS    |Man Sets Himself On Fire In Apparent Protest Of Funeral For Japan's Abe                  |The incident underscores a growing wave of protests against the funeral for Shinzo Abe, who was one of the most divisive leaders in postwar Japanese politics.                                          |Man Sets Himself On Fire In Apparent Protest Of Funeral For Japan's Abe                  |\n",
            "|WORLD NEWS    |Fiona Threatens To Become Category 4 Storm Headed To Bermuda                             |Hurricane Fiona lashed the Turks and Caicos Islands and was forecast to squeeze past Bermuda later this week.                                                                                           |Fiona Threatens To Become Category 4 Storm Headed To Bermuda                             |\n",
            "|TECH          |Twitch Bans Gambling Sites After Streamer Scams Folks Out Of $200,000                    |One man's claims that he scammed people on the platform caused several popular streamers to consider a Twitch boycott.                                                                                  |Twitch Bans Gambling Sites After Streamer Scams Folks Out Of $200,000                    |\n",
            "|U.S. NEWS     |Virginia Thomas Agrees To Interview With Jan. 6 Panel                                    |Conservative activist Virginia Thomas, the wife of Supreme Court Justice Clarence Thomas, has agreed to participate in a voluntary interview with the House panel investigating the Jan. 6 insurrection.|Virginia Thomas Agrees To Interview With Jan. 6 Panel                                    |\n",
            "|WORLD NEWS    |Russian Cosmonaut Valery Polyakov Who Broke Record With 437-Day Stay In Space Dies At 80 |Polyakov's record-breaking trip to outer space saw him orbit Earth 7,075 times and travel nearly 187 million miles.                                                                                     |Russian Cosmonaut Valery Polyakov Who Broke Record With 437-Day Stay In Space Dies At 80 |\n",
            "|CULTURE & ARTS|'Reboot' Is A Clever And Not Too Navel-Gazey Look Inside TV Reboots                      |Starring Keegan-Michael Key, Judy Greer and Johnny Knoxville, the Hulu show follows the revival of a fictional early 2000s sitcom.                                                                      |'Reboot' Is A Clever And Not Too Navel-Gazey Look Inside TV Reboots                      |\n",
            "|SPORTS        |Maury Wills, Base-Stealing Shortstop For Dodgers, Dies At 89                             |Maury Wills, who helped the Los Angeles Dodgers win three World Series titles with his base-stealing prowess, has died.                                                                                 |Maury Wills, Base-Stealing Shortstop For Dodgers, Dies At 89                             |\n",
            "|WORLD NEWS    |4 Russian-Controlled Ukrainian Regions Schedule Votes This Week To Join Russia           |The concerted and quickening Kremlin-backed efforts to swallow up four regions could set the stage for Moscow to escalate the war.                                                                      |4 Russian-Controlled Ukrainian Regions Schedule Votes This Week To Join Russia           |\n",
            "|WORLD NEWS    |Fiona Barrels Toward Turks And Caicos Islands As Category 3 Hurricane                    |The Turks and Caicos Islands government imposed a curfew as the intensifying storm kept dropping copious rain over the Dominican Republic and Puerto Rico.                                              |Fiona Barrels Toward Turks And Caicos Islands As Category 3 Hurricane                    |\n",
            "+--------------+-----------------------------------------------------------------------------------------+--------------------------------------------------------------------------------------------------------------------------------------------------------------------------------------------------------+-----------------------------------------------------------------------------------------+\n",
            "only showing top 20 rows\n",
            "\n"
          ]
        }
      ],
      "source": [
        "df=df.withColumn(\"description\", when(df.short_description=='', df.short_description).otherwise(df.headline))\n",
        "df.show(truncate=False)"
      ]
    },
    {
      "cell_type": "markdown",
      "metadata": {
        "id": "l3FP8cU_zq8z"
      },
      "source": [
        "We can see that the dataset has 6 columns, but we will need only 2: The columns `category` and `short description`. Let us select only these columns"
      ]
    },
    {
      "cell_type": "code",
      "execution_count": 22,
      "metadata": {
        "colab": {
          "base_uri": "https://localhost:8080/"
        },
        "id": "jbmobPQRHJ8z",
        "outputId": "e57d42a6-0122-4257-f266-56ffa8995517"
      },
      "outputs": [
        {
          "name": "stdout",
          "output_type": "stream",
          "text": [
            "root\n",
            " |-- description: string (nullable = true)\n",
            " |-- category: string (nullable = true)\n",
            "\n",
            "+--------------------+--------------+\n",
            "|         description|      category|\n",
            "+--------------------+--------------+\n",
            "|Over 4 Million Am...|     U.S. NEWS|\n",
            "|American Airlines...|     U.S. NEWS|\n",
            "|23 Of The Funnies...|        COMEDY|\n",
            "|The Funniest Twee...|     PARENTING|\n",
            "|Woman Who Called ...|     U.S. NEWS|\n",
            "|Cleaner Was Dead ...|     U.S. NEWS|\n",
            "|Reporter Gets Ado...|     U.S. NEWS|\n",
            "|Puerto Ricans Des...|    WORLD NEWS|\n",
            "|How A New Documen...|CULTURE & ARTS|\n",
            "|Biden At UN To Ca...|    WORLD NEWS|\n",
            "|World Cup Captain...|    WORLD NEWS|\n",
            "|Man Sets Himself ...|    WORLD NEWS|\n",
            "|Fiona Threatens T...|    WORLD NEWS|\n",
            "|Twitch Bans Gambl...|          TECH|\n",
            "|Virginia Thomas A...|     U.S. NEWS|\n",
            "|Russian Cosmonaut...|    WORLD NEWS|\n",
            "|'Reboot' Is A Cle...|CULTURE & ARTS|\n",
            "|Maury Wills, Base...|        SPORTS|\n",
            "|4 Russian-Control...|    WORLD NEWS|\n",
            "|Fiona Barrels Tow...|    WORLD NEWS|\n",
            "+--------------------+--------------+\n",
            "only showing top 20 rows\n",
            "\n"
          ]
        }
      ],
      "source": [
        "df=df.select(['description','category'])\n",
        "df.printSchema()\n",
        "df.show()"
      ]
    },
    {
      "cell_type": "code",
      "execution_count": 23,
      "metadata": {
        "colab": {
          "base_uri": "https://localhost:8080/"
        },
        "id": "jYmeCVzqjJvC",
        "outputId": "df341452-3660-43d2-8942-f0bb403c1a65"
      },
      "outputs": [
        {
          "data": {
            "text/plain": [
              "209522"
            ]
          },
          "execution_count": 23,
          "metadata": {},
          "output_type": "execute_result"
        }
      ],
      "source": [
        "df.count()"
      ]
    },
    {
      "cell_type": "markdown",
      "metadata": {
        "id": "SN1RQXlWH_Ep"
      },
      "source": [
        "#### E- Summary\n",
        "\n",
        "Our preprocessed data now contains 209522 rows, and 2 colums which are `description` and `category`.\n",
        "\n",
        "Let us copy it into anoter variable."
      ]
    },
    {
      "cell_type": "code",
      "execution_count": 24,
      "metadata": {
        "colab": {
          "base_uri": "https://localhost:8080/"
        },
        "id": "wOpyZcIwIg20",
        "outputId": "85ac77d1-b35a-4b70-c677-c9e48ee25edc"
      },
      "outputs": [
        {
          "name": "stdout",
          "output_type": "stream",
          "text": [
            "+--------------------+--------------+\n",
            "|         description|      category|\n",
            "+--------------------+--------------+\n",
            "|Over 4 Million Am...|     U.S. NEWS|\n",
            "|American Airlines...|     U.S. NEWS|\n",
            "|23 Of The Funnies...|        COMEDY|\n",
            "|The Funniest Twee...|     PARENTING|\n",
            "|Woman Who Called ...|     U.S. NEWS|\n",
            "|Cleaner Was Dead ...|     U.S. NEWS|\n",
            "|Reporter Gets Ado...|     U.S. NEWS|\n",
            "|Puerto Ricans Des...|    WORLD NEWS|\n",
            "|How A New Documen...|CULTURE & ARTS|\n",
            "|Biden At UN To Ca...|    WORLD NEWS|\n",
            "|World Cup Captain...|    WORLD NEWS|\n",
            "|Man Sets Himself ...|    WORLD NEWS|\n",
            "|Fiona Threatens T...|    WORLD NEWS|\n",
            "|Twitch Bans Gambl...|          TECH|\n",
            "|Virginia Thomas A...|     U.S. NEWS|\n",
            "|Russian Cosmonaut...|    WORLD NEWS|\n",
            "|'Reboot' Is A Cle...|CULTURE & ARTS|\n",
            "|Maury Wills, Base...|        SPORTS|\n",
            "|4 Russian-Control...|    WORLD NEWS|\n",
            "|Fiona Barrels Tow...|    WORLD NEWS|\n",
            "+--------------------+--------------+\n",
            "only showing top 20 rows\n",
            "\n",
            "root\n",
            " |-- description: string (nullable = true)\n",
            " |-- category: string (nullable = true)\n",
            "\n"
          ]
        }
      ],
      "source": [
        "# Make a copy\n",
        "df2=df\n",
        "df2.show()\n",
        "df2.printSchema()"
      ]
    },
    {
      "cell_type": "markdown",
      "metadata": {
        "id": "73Rb3f754tv2"
      },
      "source": [
        "### Dataset 3 : Environment news dataset\n",
        "\n",
        "\n",
        "[Link to the dataset (Kaggle)](https://www.kaggle.com/datasets/beridzeg45/guardian-environment-related-news)"
      ]
    },
    {
      "cell_type": "markdown",
      "metadata": {
        "id": "qFxLF_X1Jowh"
      },
      "source": [
        "#### A- Data exploration\n",
        "\n",
        "This is a csv file with a header and with values delimited by comass(,)."
      ]
    },
    {
      "cell_type": "code",
      "execution_count": 25,
      "metadata": {
        "colab": {
          "base_uri": "https://localhost:8080/"
        },
        "id": "uR0fm9IT35kz",
        "outputId": "90edd94d-f7dc-4536-ccfe-37bafac48257"
      },
      "outputs": [
        {
          "name": "stderr",
          "output_type": "stream",
          "text": [
            "                                                                                \r"
          ]
        },
        {
          "name": "stdout",
          "output_type": "stream",
          "text": [
            "60588 rows at all\n",
            "root\n",
            " |-- Title: string (nullable = true)\n",
            " |-- Intro Text: string (nullable = true)\n",
            " |-- Authors: string (nullable = true)\n",
            " |-- Article Text: string (nullable = true)\n",
            " |-- Date Published: string (nullable = true)\n",
            "\n",
            "+--------------------+--------------------+--------------------+--------------------+--------------------+\n",
            "|               Title|          Intro Text|             Authors|        Article Text|      Date Published|\n",
            "+--------------------+--------------------+--------------------+--------------------+--------------------+\n",
            "| Liz Truss ‘will ...|Tory leadership c...|                NULL|                NULL|                NULL|\n",
            "|Politics live – l...|                NULL|                NULL|                NULL|                NULL|\n",
            "|    \",\"['Rob Davies'|    '@ByRobDavies']\"|Liz Truss will si...|          2022-08-30|                NULL|\n",
            "|Renewed Highland ...|Scottish governme...|['Ewan Murray', '...|It is an area so ...|          2021-03-22|\n",
            "| Visiting green s...|Positive effects ...|['Damien Gayle', ...|Visits to parks, ...|          2023-01-17|\n",
            "|Bought too much r...|This fantastic ve...|        ['Tom Hunt']|I devised today’s...|          2023-12-22|\n",
            "|‘This year has be...|Readers share the...|                NULL|                NULL|                NULL|\n",
            "|UK butterfly numb...|                NULL|                NULL|                NULL|                NULL|\n",
            "|\",['Guardian read...| pictured on 9 Au...| such as the ghos...| and then from Au...| peacock and smal...|\n",
            "|Country diary: Wi...|Tittesworth Reser...|     ['Mark Cocker']|The numerous bird...|          2022-04-05|\n",
            "| Scaly stowaway: ...|Gardeners at the ...|   ['Helena Horton']|Visitors to Chels...|          2019-12-01|\n",
            "| Climate crisis c...|Danger looms for ...|['Agence France-P...|The climate crisi...|          2022-04-21|\n",
            "| UK energy indust...|Some rightwingers...|['Fiona Harvey', ...|Energy companies ...|          2022-01-20|\n",
            "|The bear truth: w...|Researchers now t...|                NULL|Name: Panda sex.A...|          2021-03-12|\n",
            "| Shell chief vows...| Ben van Beurden ...|['Joanna Partridge']|Royal Dutch Shell...|                NULL|\n",
            "|Country Diary: Do...|Holywell, Flintsh...|      ['Jan Miller']|I’m lying on my f...|          2023-06-02|\n",
            "|Monday briefing: ...|In today’s newsle...|    ['Archie Bland']|Good morning. Las...|                NULL|\n",
            "|Economy | Jeremy ...| the Guardian und...|                NULL|                NULL|                NULL|\n",
            "|Ukraine | The Bid...|                NULL|                NULL|                NULL|                NULL|\n",
            "|Climate crisis | ...| UK and Canada ha...| putting the inte...|                NULL|                NULL|\n",
            "+--------------------+--------------------+--------------------+--------------------+--------------------+\n",
            "only showing top 20 rows\n",
            "\n"
          ]
        }
      ],
      "source": [
        "# Reading the file to get a dataframe\n",
        "df=spark.read.csv('input/input3.csv',header=True,inferSchema=True)\n",
        "\n",
        "# Print the number of records\n",
        "print(df.count(),'rows at all')\n",
        "\n",
        "# Print the schema of the data\n",
        "df.printSchema()\n",
        "\n",
        "# Show the data (first 20 rows)\n",
        "df.show()"
      ]
    },
    {
      "cell_type": "markdown",
      "metadata": {
        "id": "lds9EI66KCkV"
      },
      "source": [
        "We remark that the dataset contains **5** fields and **60588** instances.\n",
        "\n",
        "The fiedls are the following:\n",
        "\n",
        "- ` Title`: The title of the new.\n",
        "-` Intro Text`: An introductive text\n",
        "- `Authors`: The authors of the new\n",
        "- `Article Text`: The article\n",
        "- `Date published`: The publication date of the new"
      ]
    },
    {
      "cell_type": "markdown",
      "metadata": {
        "id": "K_l25vBagPql"
      },
      "source": [
        "#### B- Features selection\n",
        "\n",
        "Among the 6 columns of our dataset, only 3 are relative to our task. There are `Title`, `Intro Text` and `Article Text`\n",
        "\n",
        "But since the colum `Article Text` tipically contains too long sentences we won't use it.\n",
        "\n",
        "\n",
        "Let us select only `Title`, `Intro Text`"
      ]
    },
    {
      "cell_type": "code",
      "execution_count": 26,
      "metadata": {
        "colab": {
          "base_uri": "https://localhost:8080/"
        },
        "id": "i3L0q-uH5U0-",
        "outputId": "9980f146-0922-42d5-ceff-f57202f3857c"
      },
      "outputs": [
        {
          "name": "stdout",
          "output_type": "stream",
          "text": [
            "root\n",
            " |-- Title: string (nullable = true)\n",
            " |-- Intro Text: string (nullable = true)\n",
            "\n"
          ]
        }
      ],
      "source": [
        "# Features selection\n",
        "\n",
        "df=df.select(['Title','Intro Text'])\n",
        "#.withColumnsRenamed({'Title':'title','Intro Text':'description'})\n",
        "df.printSchema()"
      ]
    },
    {
      "cell_type": "markdown",
      "metadata": {
        "id": "RFxJEZM1M9Dl"
      },
      "source": [
        "Now the schema of our data is:\n",
        "\n",
        "- `Title`: The title of the news\n",
        "-`Intro Text`: A short description of the news\n",
        "\n",
        "Let us move to the next section, whiich consists to handle missing values."
      ]
    },
    {
      "cell_type": "markdown",
      "metadata": {
        "id": "fKJkFMMYNXML"
      },
      "source": [
        "#### C- Handling missing values\n",
        "\n",
        "First of all we need to identify the missing values"
      ]
    },
    {
      "cell_type": "code",
      "execution_count": 27,
      "metadata": {
        "colab": {
          "base_uri": "https://localhost:8080/"
        },
        "id": "lZMCBZAWcpUJ",
        "outputId": "0cfd8204-44c8-42a8-e4a6-a9b504026329"
      },
      "outputs": [
        {
          "name": "stdout",
          "output_type": "stream",
          "text": [
            "+--------------------+--------------------+\n",
            "|               Title|          Intro Text|\n",
            "+--------------------+--------------------+\n",
            "|Politics live – l...|                NULL|\n",
            "|UK butterfly numb...|                NULL|\n",
            "|Ukraine | The Bid...|                NULL|\n",
            "|Politics | Rishi ...|                NULL|\n",
            "|It’s been over a ...|                NULL|\n",
            "|     Quick crossword|                NULL|\n",
            "|   Cryptic crossword|                NULL|\n",
            "|         ,2022-11-07|                NULL|\n",
            "|         ,2021-08-31|                NULL|\n",
            "|Simon Jenkins is ...|                NULL|\n",
            "|         ,2023-07-31|                NULL|\n",
            "|What is foot-and-...|                NULL|\n",
            "|Sign up to receiv...|                NULL|\n",
            "|Don’t get Down to...|                NULL|\n",
            "|Human rights expe...|                NULL|\n",
            "|How criminalisati...|                NULL|\n",
            "|Follow our Austra...|                NULL|\n",
            "|Download the free...|                NULL|\n",
            "|Sign up to receiv...|                NULL|\n",
            "|                NULL|One of the world’...|\n",
            "+--------------------+--------------------+\n",
            "only showing top 20 rows\n",
            "\n"
          ]
        },
        {
          "name": "stderr",
          "output_type": "stream",
          "text": [
            "                                                                                \r"
          ]
        },
        {
          "data": {
            "text/plain": [
              "15620"
            ]
          },
          "execution_count": 27,
          "metadata": {},
          "output_type": "execute_result"
        }
      ],
      "source": [
        "# Check NULL  values in all columns\n",
        "null_values_df= df.filter((df['Title'].isNull()) | (df['Intro Text'].isNull()))\n",
        "\n",
        "null_values_df.show()\n",
        "null_values_df.count()"
      ]
    },
    {
      "cell_type": "code",
      "execution_count": 28,
      "metadata": {
        "colab": {
          "base_uri": "https://localhost:8080/"
        },
        "id": "WvJD7xIg66-S",
        "outputId": "2ffff475-be52-4fce-dd9d-4aac25005603"
      },
      "outputs": [
        {
          "name": "stdout",
          "output_type": "stream",
          "text": [
            "+-----+----------+\n",
            "|Title|Intro Text|\n",
            "+-----+----------+\n",
            "| NULL|      NULL|\n",
            "| NULL|      NULL|\n",
            "+-----+----------+\n",
            "\n"
          ]
        },
        {
          "data": {
            "text/plain": [
              "2"
            ]
          },
          "execution_count": 28,
          "metadata": {},
          "output_type": "execute_result"
        }
      ],
      "source": [
        "null_values_df= df.filter((df['Title'].isNull()) & (df['Intro Text'].isNull()))\n",
        "null_values_df.show()\n",
        "null_values_df.count()"
      ]
    },
    {
      "cell_type": "markdown",
      "metadata": {
        "id": "OTj7EBcyPNmV"
      },
      "source": [
        "Basing on these outputs there are 15620 rows containing missing values and two instances having new values for both `Title` and `Text columns`.\n",
        "\n",
        "Now let us drop these 2 instances."
      ]
    },
    {
      "cell_type": "code",
      "execution_count": 29,
      "metadata": {
        "id": "uz3rV_tb7OrQ"
      },
      "outputs": [],
      "source": [
        "df=df.na.drop(how='all')"
      ]
    },
    {
      "cell_type": "code",
      "execution_count": 30,
      "metadata": {
        "colab": {
          "base_uri": "https://localhost:8080/"
        },
        "id": "5fXf30UoRdCC",
        "outputId": "e0c0d248-6551-4614-d508-a15bb5cee106"
      },
      "outputs": [
        {
          "name": "stdout",
          "output_type": "stream",
          "text": [
            "+-----+----------+\n",
            "|Title|Intro Text|\n",
            "+-----+----------+\n",
            "+-----+----------+\n",
            "\n"
          ]
        },
        {
          "name": "stderr",
          "output_type": "stream",
          "text": [
            "                                                                                \r"
          ]
        },
        {
          "data": {
            "text/plain": [
              "0"
            ]
          },
          "execution_count": 30,
          "metadata": {},
          "output_type": "execute_result"
        }
      ],
      "source": [
        "# Check the drop\n",
        "null_values_df= df.filter((df['Title'].isNull()) & (df['Intro Text'].isNull()))\n",
        "null_values_df.show()\n",
        "null_values_df.count()"
      ]
    },
    {
      "cell_type": "markdown",
      "metadata": {
        "id": "NCJwj8LhR5pP"
      },
      "source": [
        "#### D- Feature engineering\n",
        "\n",
        "Now that our dataframe doesn't contain any rows with NULL values in both `Title` and `Intro Text` columns, let us add a new colum to the dataframe, called `description`, with has value the `Intro Text` if it is not NULL and the `Title` if it is NULL"
      ]
    },
    {
      "cell_type": "code",
      "execution_count": 31,
      "metadata": {
        "colab": {
          "base_uri": "https://localhost:8080/"
        },
        "id": "NoGvxVZl71gb",
        "outputId": "fe2a1b7a-e3da-4a42-b39a-47132ea931de"
      },
      "outputs": [
        {
          "name": "stdout",
          "output_type": "stream",
          "text": [
            "+------------------------------------------------------------------------------------------------------------------------------------------------------------------------------------+-------------------------------------------------------------------------------------------------------------------------------------------------------------------------------------------------------------------------------------------------------------+-------------------------------------------------------------------------------------------------------------------------------------------------------------------------------------------------------------------------------------------------------------+\n",
            "|Title                                                                                                                                                                               |Intro Text                                                                                                                                                                                                                                                   |description                                                                                                                                                                                                                                                  |\n",
            "+------------------------------------------------------------------------------------------------------------------------------------------------------------------------------------+-------------------------------------------------------------------------------------------------------------------------------------------------------------------------------------------------------------------------------------------------------------+-------------------------------------------------------------------------------------------------------------------------------------------------------------------------------------------------------------------------------------------------------------+\n",
            "| Liz Truss ‘will approve more oil drilling if she becomes PM’                                                                                                                       |Tory leadership candidate criticised by campaigners after reports her team have met energy firms                                                                                                                                                             |Tory leadership candidate criticised by campaigners after reports her team have met energy firms                                                                                                                                                             |\n",
            "|Politics live – latest updates                                                                                                                                                      |NULL                                                                                                                                                                                                                                                         |Politics live – latest updates                                                                                                                                                                                                                               |\n",
            "|\",\"['Rob Davies'                                                                                                                                                                    | '@ByRobDavies']\"                                                                                                                                                                                                                                            | '@ByRobDavies']\"                                                                                                                                                                                                                                            |\n",
            "|Renewed Highland golf course plan has environmentalists crying 'Fore!'                                                                                                              |Scottish government rejected a new links at Coul to protect the complex dune system but investors have revived the scheme                                                                                                                                    |Scottish government rejected a new links at Coul to protect the complex dune system but investors have revived the scheme                                                                                                                                    |\n",
            "| Visiting green spaces deters mental health drug use, researchers find                                                                                                              |Positive effects were stronger among those reporting the lowest annual household income, says Finnish study                                                                                                                                                  |Positive effects were stronger among those reporting the lowest annual household income, says Finnish study                                                                                                                                                  |\n",
            "|Bought too much red cabbage? Turn it into a festive nut roast – recipe                                                                                                              |This fantastic vegan centrepiece makes full use of those outer cabbage leaves that all too often just get thrown away                                                                                                                                        |This fantastic vegan centrepiece makes full use of those outer cabbage leaves that all too often just get thrown away                                                                                                                                        |\n",
            "|‘This year has been very good’: readers’ UK butterfly sightings                                                                                                                     |Readers share their favourite sightings over the summer, after news that numbers have risen since last year                                                                                                                                                  |Readers share their favourite sightings over the summer, after news that numbers have risen since last year                                                                                                                                                  |\n",
            "|UK butterfly numbers bounce back after last year’s all-time low                                                                                                                     |NULL                                                                                                                                                                                                                                                         |UK butterfly numbers bounce back after last year’s all-time low                                                                                                                                                                                              |\n",
            "|\",['Guardian readers'],\"‘Constant companions to our gardening’A peacock butterfly perched on a yellow ragwort                                                                       | pictured on 9 August. Photograph: Guardian communityWe try to encourage as many pollinators as possible to visit our allotment. As well as growing lots of fruit and veg we have planted many different flowers. Across the summer we saw some unusual moths| pictured on 9 August. Photograph: Guardian communityWe try to encourage as many pollinators as possible to visit our allotment. As well as growing lots of fruit and veg we have planted many different flowers. Across the summer we saw some unusual moths|\n",
            "|Country diary: Willow tits are here, but good luck with seeing one                                                                                                                  |Tittesworth Reservoir, Staffordshire: It’s easy to see why these wonderful but maddeningly elusive birds have inspired great poetry                                                                                                                          |Tittesworth Reservoir, Staffordshire: It’s easy to see why these wonderful but maddeningly elusive birds have inspired great poetry                                                                                                                          |\n",
            "| Scaly stowaway: lizard makes an appearance at Chelsea flower show                                                                                                                  |Gardeners at the Yeo Valley Organic display were delighted to find the common brown lizard in a pile of logs                                                                                                                                                 |Gardeners at the Yeo Valley Organic display were delighted to find the common brown lizard in a pile of logs                                                                                                                                                 |\n",
            "| Climate crisis could lead to rise of smaller bees, study finds                                                                                                                     |Danger looms for larger species such as bumblebees, which have lower heat tolerance, leading to ‘cascading effects’ on ecosystems                                                                                                                            |Danger looms for larger species such as bumblebees, which have lower heat tolerance, leading to ‘cascading effects’ on ecosystems                                                                                                                            |\n",
            "| UK energy industry urges ministers to stick with net zero plan                                                                                                                     |Some rightwingers claim renewables have increased costs, but Energy UK blames over-reliance on gas                                                                                                                                                           |Some rightwingers claim renewables have increased costs, but Energy UK blames over-reliance on gas                                                                                                                                                           |\n",
            "|The bear truth: why happy pandas can’t be bothered to find a partner                                                                                                                |Researchers now think pandas’ notoriously low libido is because they are too comfortable to make the effort to search for a mate                                                                                                                             |Researchers now think pandas’ notoriously low libido is because they are too comfortable to make the effort to search for a mate                                                                                                                             |\n",
            "| Shell chief vows to bolster emissions strategy after court ruling                                                                                                                  | Ben van Beurden pledges to ‘rise to challenge’ after court ordered oil firm to cut global carbon emissions by 45%                                                                                                                                           | Ben van Beurden pledges to ‘rise to challenge’ after court ordered oil firm to cut global carbon emissions by 45%                                                                                                                                           |\n",
            "|Country Diary: Down on the floor with the solitary bees                                                                                                                             |Holywell, Flintshire: In my attempts to make my garden more suitable for Mediterranean herbs, I created the conditions for these fascinating insects                                                                                                         |Holywell, Flintshire: In my attempts to make my garden more suitable for Mediterranean herbs, I created the conditions for these fascinating insects                                                                                                         |\n",
            "|Monday briefing: The dramatic, agonising, crucial talks that will decide Cop27’s success                                                                                            |In today’s newsletter: For the next two weeks, ministers, negotiators from countries large and small will gather in Egypt. Can they get anything done?                                                                                                       |In today’s newsletter: For the next two weeks, ministers, negotiators from countries large and small will gather in Egypt. Can they get anything done?                                                                                                       |\n",
            "|Economy | Jeremy Hunt will announce £25bn worth of tax rises and £35bn in spending cuts at the autumn statement                                                                     | the Guardian understands. The scale of the measures has grown significantly after the Bank of England’s dire forecasts last week of the longest recession since the 1930s.                                                                                  | the Guardian understands. The scale of the measures has grown significantly after the Bank of England’s dire forecasts last week of the longest recession since the 1930s.                                                                                  |\n",
            "|Ukraine | The Biden administration has reportedly warned Kyiv that allies’ “Ukraine fatigue” could worsen if Volodymyr Zelenskiy continues to be closed to negotiations with Russia.|NULL                                                                                                                                                                                                                                                         |Ukraine | The Biden administration has reportedly warned Kyiv that allies’ “Ukraine fatigue” could worsen if Volodymyr Zelenskiy continues to be closed to negotiations with Russia.                                                                         |\n",
            "|Climate crisis | An assessment by Carbon Brief has found the US                                                                                                                     | UK and Canada have fallen billions of dollars short of their “fair share” of climate funding for low-income countries. This comes after the UN’s World Meteorological Organization said the past eight years were the eight hottest ever recorded           | UK and Canada have fallen billions of dollars short of their “fair share” of climate funding for low-income countries. This comes after the UN’s World Meteorological Organization said the past eight years were the eight hottest ever recorded           |\n",
            "+------------------------------------------------------------------------------------------------------------------------------------------------------------------------------------+-------------------------------------------------------------------------------------------------------------------------------------------------------------------------------------------------------------------------------------------------------------+-------------------------------------------------------------------------------------------------------------------------------------------------------------------------------------------------------------------------------------------------------------+\n",
            "only showing top 20 rows\n",
            "\n"
          ]
        }
      ],
      "source": [
        "df=df.withColumn(\"description\", when(df['Intro Text'].isNotNull(), df['Intro Text']).otherwise(df['Title']))\n",
        "df.show(truncate=False)"
      ]
    },
    {
      "cell_type": "markdown",
      "metadata": {
        "id": "XZZg7oN2T7Ir"
      },
      "source": [
        "Let us  extact only the relevant column, which is the description.\n",
        "\n",
        "Also, as we know that all these news are environment news we will add a new colum with as velue, ENVIRONMENT, for all the instances"
      ]
    },
    {
      "cell_type": "code",
      "execution_count": 32,
      "metadata": {
        "colab": {
          "base_uri": "https://localhost:8080/"
        },
        "id": "smVblBfpcZmK",
        "outputId": "07a407b6-fa14-48ad-f0d3-61dad11b633d"
      },
      "outputs": [
        {
          "name": "stdout",
          "output_type": "stream",
          "text": [
            "+--------------------+-----------+\n",
            "|         description|   category|\n",
            "+--------------------+-----------+\n",
            "|Tory leadership c...|ENVIRONMENT|\n",
            "|Politics live – l...|ENVIRONMENT|\n",
            "|    '@ByRobDavies']\"|ENVIRONMENT|\n",
            "|Scottish governme...|ENVIRONMENT|\n",
            "|Positive effects ...|ENVIRONMENT|\n",
            "|This fantastic ve...|ENVIRONMENT|\n",
            "|Readers share the...|ENVIRONMENT|\n",
            "|UK butterfly numb...|ENVIRONMENT|\n",
            "| pictured on 9 Au...|ENVIRONMENT|\n",
            "|Tittesworth Reser...|ENVIRONMENT|\n",
            "|Gardeners at the ...|ENVIRONMENT|\n",
            "|Danger looms for ...|ENVIRONMENT|\n",
            "|Some rightwingers...|ENVIRONMENT|\n",
            "|Researchers now t...|ENVIRONMENT|\n",
            "| Ben van Beurden ...|ENVIRONMENT|\n",
            "|Holywell, Flintsh...|ENVIRONMENT|\n",
            "|In today’s newsle...|ENVIRONMENT|\n",
            "| the Guardian und...|ENVIRONMENT|\n",
            "|Ukraine | The Bid...|ENVIRONMENT|\n",
            "| UK and Canada ha...|ENVIRONMENT|\n",
            "+--------------------+-----------+\n",
            "only showing top 20 rows\n",
            "\n",
            "root\n",
            " |-- description: string (nullable = true)\n",
            " |-- category: string (nullable = false)\n",
            "\n"
          ]
        },
        {
          "data": {
            "text/plain": [
              "60586"
            ]
          },
          "execution_count": 32,
          "metadata": {},
          "output_type": "execute_result"
        }
      ],
      "source": [
        "df=df.select('description').withColumn('category', lit('ENVIRONMENT'))\n",
        "df.show()\n",
        "df.printSchema()\n",
        "df.count()"
      ]
    },
    {
      "cell_type": "markdown",
      "metadata": {
        "id": "EmuDUgIRVYAH"
      },
      "source": [
        "#### E- Summary\n",
        "\n",
        "Our preprocessed data now contains 60586 rows, and 2 colums which are description and category.\n",
        "\n",
        "Let us copy it into another variable."
      ]
    },
    {
      "cell_type": "code",
      "execution_count": 33,
      "metadata": {
        "colab": {
          "base_uri": "https://localhost:8080/"
        },
        "id": "MbZHVXv393b9",
        "outputId": "7347ac59-f60c-4e91-b879-f8704db08680"
      },
      "outputs": [
        {
          "name": "stdout",
          "output_type": "stream",
          "text": [
            "+--------------------+-----------+\n",
            "|         description|   category|\n",
            "+--------------------+-----------+\n",
            "|Tory leadership c...|ENVIRONMENT|\n",
            "|Politics live – l...|ENVIRONMENT|\n",
            "|    '@ByRobDavies']\"|ENVIRONMENT|\n",
            "|Scottish governme...|ENVIRONMENT|\n",
            "|Positive effects ...|ENVIRONMENT|\n",
            "|This fantastic ve...|ENVIRONMENT|\n",
            "|Readers share the...|ENVIRONMENT|\n",
            "|UK butterfly numb...|ENVIRONMENT|\n",
            "| pictured on 9 Au...|ENVIRONMENT|\n",
            "|Tittesworth Reser...|ENVIRONMENT|\n",
            "|Gardeners at the ...|ENVIRONMENT|\n",
            "|Danger looms for ...|ENVIRONMENT|\n",
            "|Some rightwingers...|ENVIRONMENT|\n",
            "|Researchers now t...|ENVIRONMENT|\n",
            "| Ben van Beurden ...|ENVIRONMENT|\n",
            "|Holywell, Flintsh...|ENVIRONMENT|\n",
            "|In today’s newsle...|ENVIRONMENT|\n",
            "| the Guardian und...|ENVIRONMENT|\n",
            "|Ukraine | The Bid...|ENVIRONMENT|\n",
            "| UK and Canada ha...|ENVIRONMENT|\n",
            "+--------------------+-----------+\n",
            "only showing top 20 rows\n",
            "\n",
            "root\n",
            " |-- description: string (nullable = true)\n",
            " |-- category: string (nullable = false)\n",
            "\n"
          ]
        }
      ],
      "source": [
        "# Make a copy\n",
        "df3=df\n",
        "df3.show()\n",
        "df3.printSchema()"
      ]
    },
    {
      "cell_type": "markdown",
      "metadata": {
        "id": "3OS9nuDDKcpA"
      },
      "source": [
        "### Dataset 4: Busines and Financial news dataset\n",
        "\n",
        "[Link to the dataset (Kaggle)](https://www.kaggle.com/datasets/thedevastator/cnbc-business-and-financial-news-dataset-450k)"
      ]
    },
    {
      "cell_type": "markdown",
      "metadata": {
        "id": "KILI5ZQljlUq"
      },
      "source": [
        "#### A- Data exploration\n",
        "\n",
        "This is a csv file with a header and with values delimited by comas(,)."
      ]
    },
    {
      "cell_type": "code",
      "execution_count": 34,
      "metadata": {
        "colab": {
          "base_uri": "https://localhost:8080/"
        },
        "id": "vGqMKj2ijyyP",
        "outputId": "f2a0613f-c3dc-49e5-ba8b-7250fa343730"
      },
      "outputs": [
        {
          "name": "stdout",
          "output_type": "stream",
          "text": [
            "1234 rows at all\n",
            "root\n",
            " |-- index: string (nullable = true)\n",
            " |-- title: string (nullable = true)\n",
            " |-- url: string (nullable = true)\n",
            " |-- published_at: string (nullable = true)\n",
            " |-- author: string (nullable = true)\n",
            " |-- publisher: string (nullable = true)\n",
            " |-- short_description: string (nullable = true)\n",
            " |-- keywords: string (nullable = true)\n",
            " |-- header_image: string (nullable = true)\n",
            " |-- raw_description: string (nullable = true)\n",
            " |-- description: string (nullable = true)\n",
            " |-- scraped_at: string (nullable = true)\n",
            "\n",
            "+-------------+--------------------+--------------------+--------------------+--------------------+--------------------+--------------------+--------------------+--------------------+--------------------+--------------------+--------------------+\n",
            "|        index|               title|                 url|        published_at|              author|           publisher|   short_description|            keywords|        header_image|     raw_description|         description|          scraped_at|\n",
            "+-------------+--------------------+--------------------+--------------------+--------------------+--------------------+--------------------+--------------------+--------------------+--------------------+--------------------+--------------------+\n",
            "|            0|Santoli’s Wednesd...|https://www.cnbc....|2021-09-29T17:09:...|     Michael Santoli|                CNBC|This is the daily...|cnbc, Premium, Ar...|https://image.cnb...|\"<div class=\"\"gro...| CNBC's senior ma...| with ideas about...|\n",
            "|            1|My take on the ea...|https://www.cnbc....|2016-06-24T13:50:...|                NULL|                CNBC|\"This commentary ...| so the real mone...| something Boris ...| not.  Nigel Fara...| France's Marine ...| and moves them f...|\n",
            "| @CNBCopinion|                NULL|                NULL|                NULL|                NULL|                NULL|                NULL|                NULL|                NULL|                NULL|                NULL|                NULL|\n",
            "| on Twitter.\"|Articles, Politic...|https://fm.cnbc.c...|                NULL|                NULL|2021-10-30 14:11:...|                NULL|                NULL|                NULL|                NULL|                NULL|                NULL|\n",
            "|            2|Europe&#039;s rec...|https://www.cnbc....|2014-03-25T13:29:...|                NULL|                CNBC|\"In spring, ambit...| the 39-year-old ...| the good news: I...| only two months ...| the longest rece...| after nine conse...|\n",
            "|            3|US Moves Closer t...|https://www.cnbc....|2009-04-22T19:49:...|Michelle Caruso-C...|                CNBC|The US government...|cnbc, Articles, G...|https://image.cnb...|\"<div class=\"\"gro...| sharply reducing...| sources tell CNB...|\n",
            "|            4|Trump: 'Mission a...|https://www.cnbc....|2018-04-14T14:59:...|     Javier E. David|                CNBC|                NULL|cnbc, Articles, G...|https://image.cnb...|\"<div class=\"\"gro...|<div class=\"\"grou...|\"\" adding that th...|\n",
            "|            5|Chevron CEO Watso...|https://www.cnbc....|2017-03-07T23:07:...|       Lauren Thomas|                CNBC|\"Chevron Chief Ex...| Watson said duri...| Chevron's Watson...|   \"\" he explained.\"|cnbc, Articles, W...|https://image.cnb...|\n",
            "|            6|        22. Hexadite|https://www.cnbc....|2017-02-28T11:00:...|                NULL|                CNBC|Founders: Eran Ba...|Articles, Technol...|https://fm.cnbc.c...|                NULL|                NULL|2021-10-30 14:11:...|\n",
            "|            7|European stocks c...|https://www.cnbc....|2020-12-17T06:08:...|Elliot Smith,Holl...|                CNBC|LONDON — European...|cnbc, Articles, W...|https://image.cnb...|\"<div class=\"\"gro...|<div class=\"\"grou...| with retail shar...|\n",
            "|            8|Fewer investors h...|https://www.cnbc....|2019-07-28T21:00:...|  Stephanie Landsman|                CNBC|\"Oppenheimer Asse...|                okay| I can kind of ta...|\"\" the firm's chi...| Stoltzfus conten...|\"\" he said.The index|\n",
            "|            9|Morgan Stanley Tr...|https://www.cnbc....|2012-04-05T06:53:...|                NULL|                CNBC|James Gorman, Mor...|cnbc, Articles, M...|https://image.cnb...|\"<div class=\"\"gro...| Morgan Stanley’s...| has been in disc...|\n",
            "|           10|Consultant to 'Va...|https://www.cnbc....|2010-11-30T15:42:...|      Ash Bennington|                CNBC|\"We know that one...|cnbc, Articles, C...|https://image.cnb...|\"<div class=\"\"gro...|<div class=\"\"grou...| perhaps more cru...|\n",
            "|           11|Average tax refun...|https://www.cnbc....|2019-02-11T10:04:...|                NULL|                CNBC|The first U.S. ta...|cnbc, Articles, T...|https://image.cnb...|\"<div class=\"\"gro...| with data releas...| the total number...|\n",
            "|           12|Watch: Oaktree Ca...|https://www.cnbc....|2019-01-30T20:32:...|       Thomas Franck|                CNBC|[The stream is sl...|cnbc, Articles, O...|https://image.cnb...|\"<div class=\"\"gro...| Florida.</p><div...| which warned abo...|\n",
            "|           13|Guggenheim says s...|https://www.cnbc....|2021-06-03T10:44:...|       Pippa Stevens|                CNBC|\"Renewable energy...| sustained phenom...| and owning best-...|\"\" the firm wrote...| especially now t...| the iShares Glob...|\n",
            "|           14|Eni Pays Dominion...|https://www.cnbc....|2007-04-30T06:55:...|                NULL|                CNBC|\"Italian oil and ...|\"\" Eni Chief Exec...|cnbc, Articles, B...|https://sc.cnbcfm...|\"<div class=\"\"gro...| Eni said in a st...|\n",
            "|           15|Strategist Paulse...|https://www.cnbc....|2015-10-06T19:24:...|             Tae Kim|                CNBC|\"Jim Paulsen, chi...|  but that does n...|\"\" Paulsen wrote ...| a quick  recover...| we would not be ...|cnbc, Premium, Ar...|\n",
            "|           16|CDC says 28 blood...|https://www.cnbc....|2021-05-12T21:01:...|Dawn Kopecki,Rich...|                CNBC|\"CDC scientists s...|       ages 18 to 48| who developed ce...|             or CVST| in combination w...|              or TTS|\n",
            "|           17|The world’s most ...|https://www.cnbc....|2014-05-29T01:01:...|                NULL|                CNBC|\"Forbes has \"\"lea...|\"\" releasing its ...| looking largely ...| dynamic look at ...| not  just tradit...| but also creativ...|\n",
            "+-------------+--------------------+--------------------+--------------------+--------------------+--------------------+--------------------+--------------------+--------------------+--------------------+--------------------+--------------------+\n",
            "only showing top 20 rows\n",
            "\n"
          ]
        }
      ],
      "source": [
        "# Reading the file to get a dataframe\n",
        "df=spark.read.csv('input/input4.csv',header=True,inferSchema=True)\n",
        "\n",
        "# Print the number of records\n",
        "print(df.count(),'rows at all')\n",
        "\n",
        "# Print the schema of the data\n",
        "df.printSchema()\n",
        "\n",
        "# Show the data (first 20 rows)\n",
        "df.show()"
      ]
    },
    {
      "cell_type": "markdown",
      "metadata": {
        "id": "WHz1bNkfkVHL"
      },
      "source": [
        "We remark that the dataset contains **12** fields and **1234** instances.\n",
        "\n",
        "The fiedls are the following:\n",
        "\n",
        "- ` index`: The identifier of the new.\n",
        "- ` title`: The title of the new.\n",
        "- ` url`: The link to the new.\n",
        "- `published_at`: The publication date of the new\n",
        "- `author`: The authors of the new\n",
        "-` publisher`: The publisher of the new\n",
        "-` short_description`: A short description of the new\n",
        "-` keywords`: The key words in the new\n",
        "-` header_image`: The image of the headr of the new\n",
        "- `raw_description`: The craw description of containing HTML tags\n",
        "- `description`: The description of the new, with HTML tags\n",
        "- `scraped_at`: The date and time the article was scraped.\n",
        "\n",
        "\n"
      ]
    },
    {
      "cell_type": "markdown",
      "metadata": {
        "id": "en91MnOipohK"
      },
      "source": [
        "#### B- Features selection\n",
        "\n",
        "Among the 12 columns of our dataset, only 5 are relative to our task. There are `title`, `short_description`,  `keywords`,  `raw_description` and `description`\n",
        "\n",
        "Let us display the data by focussing more on the content of these columns."
      ]
    },
    {
      "cell_type": "code",
      "execution_count": 35,
      "metadata": {
        "colab": {
          "base_uri": "https://localhost:8080/"
        },
        "id": "BurghM99rKhW",
        "outputId": "8c75b3d6-3cae-463b-efa5-5996a1d5308d"
      },
      "outputs": [
        {
          "name": "stdout",
          "output_type": "stream",
          "text": [
            "+----------------------------------------------------------------------------------------------------------------------------------------------------------------+----------------------------------------------------------------------------------------------------------------------------------------------------------------------------------------------------------------------------------------------------------------------------------------------------------------------------------------------------------------------------------------------------------------------------------------------------------------------------------------------------------------------------------------------------------------------------------------------------------------------------------------------------------------------------------------------------------------------------------------------------------------------------------------------------------------------------------------------------------------------------------------------------------------------------------------------------------------------------------------------------------------------------------------------------------------------------------------------------------------------------------------------------------------------------------------------------------------------------------------------------------------------------------------------------------------------------------------------------------------------------------------------------------------------------------------------------------------------------------------------------------------------------------------------------------------------------------------------------------------------------------------------------------------------------------------------------------------------------------------------------------------------------------+---------------------------------------------------------------------------------------------------------------------------------------------------------------------------------------------------------------------------------------------------------------------------------------------------------------------------------------------------------------------------------------------------------------------------------------------------------------------------------------------------------------------------------------------------------------------------------------------------------------------------------------------------------------------------------------------------------------+---------------------------------------------------------------------------------------------------------------------------------------------------------------------------------------------------------------------------------------------------------------------------------------------------------------------------------------------------------+---------------------------------------------------------------------------------------------------------------------------------------------------------------------------------------------------------------------------------------------------------------------------------------------------------------------------------------------------------------------------------+\n",
            "|title                                                                                                                                                           |short_description                                                                                                                                                                                                                                                                                                                                                                                                                                                                                                                                                                                                                                                                                                                                                                                                                                                                                                                                                                                                                                                                                                                                                                                                                                                                                                                                                                                                                                                                                                                                                                                                                                                                                                                                                                 |keywords                                                                                                                                                                                                                                                                                                                                                                                                                                                                                                                                                                                                                                                                                                       |raw_description                                                                                                                                                                                                                                                                                                                                          |description                                                                                                                                                                                                                                                                                                                                                                      |\n",
            "+----------------------------------------------------------------------------------------------------------------------------------------------------------------+----------------------------------------------------------------------------------------------------------------------------------------------------------------------------------------------------------------------------------------------------------------------------------------------------------------------------------------------------------------------------------------------------------------------------------------------------------------------------------------------------------------------------------------------------------------------------------------------------------------------------------------------------------------------------------------------------------------------------------------------------------------------------------------------------------------------------------------------------------------------------------------------------------------------------------------------------------------------------------------------------------------------------------------------------------------------------------------------------------------------------------------------------------------------------------------------------------------------------------------------------------------------------------------------------------------------------------------------------------------------------------------------------------------------------------------------------------------------------------------------------------------------------------------------------------------------------------------------------------------------------------------------------------------------------------------------------------------------------------------------------------------------------------+---------------------------------------------------------------------------------------------------------------------------------------------------------------------------------------------------------------------------------------------------------------------------------------------------------------------------------------------------------------------------------------------------------------------------------------------------------------------------------------------------------------------------------------------------------------------------------------------------------------------------------------------------------------------------------------------------------------+---------------------------------------------------------------------------------------------------------------------------------------------------------------------------------------------------------------------------------------------------------------------------------------------------------------------------------------------------------+---------------------------------------------------------------------------------------------------------------------------------------------------------------------------------------------------------------------------------------------------------------------------------------------------------------------------------------------------------------------------------+\n",
            "|Santoli’s Wednesday market notes: Could September’s stock shakeout tee up strength for the fourth quarter?                                                      |This is the daily notebook of Mike Santoli, CNBC's senior markets commentator, with ideas about trends, stocks and market statistics.                                                                                                                                                                                                                                                                                                                                                                                                                                                                                                                                                                                                                                                                                                                                                                                                                                                                                                                                                                                                                                                                                                                                                                                                                                                                                                                                                                                                                                                                                                                                                                                                                                             |cnbc, Premium, Articles, Investment strategy, Markets, Investing, PRO Home, CNBC Pro, Pro: Santoli on Stocks, source:tagname:CNBC US Source                                                                                                                                                                                                                                                                                                                                                                                                                                                                                                                                                                    |\"<div class=\"\"group\"\"><p><em>This is the daily notebook of Mike Santoli                                                                                                                                                                                                                                                                                  | CNBC's senior markets commentator                                                                                                                                                                                                                                                                                                                                               |\n",
            "|My take on the early Brexit winners and losers                                                                                                                  |\"This commentary originally ran on Facebook. Boris Johnson – The former London mayor and grudging \"\"Leave\"\" supporter-turned enthusiastic \"\"Leave\"\" leader chose the winning side. He's now a front-runner to lead the Tory party. ‪#‎HellFreezesOver‬ Theresa May – Boris Johnson's populist approach to the Brexit campaign ticked off quite a few Tory elders                                                                                                                                                                                                                                                                                                                                                                                                                                                                                                                                                                                                                                                                                                                                                                                                                                                                                                                                                                                                                                                                                                                                                                                                                                                                                                                                                                                                                  | so the real money should be on UK Home Secretary Theresa May to succeed outgoing Prime Minister David Cameron. May is a political heavyweight and is generally respected among the Tories                                                                                                                                                                                                                                                                                                                                                                                                                                                                                                                     | not.  Nigel Farage – the once-embattled UK Independence Party leader gets his moment in the sun. Also gets to keep having a political career. And the fact that he quoted \"\"Independence Day\"\" in his victory speech made a crazy night that much crazier.  Marine Le Pen/Geert Wilders – Charismatic figures with a long history agitating for EU exits| France's Marine Le Pen and the Netherlands' Geert Wilders wasted no time calling for their own referendums. Brexit legitimizes their years of saber-rattling                                                                                                                                                                                                                    |\n",
            "|NULL                                                                                                                                                            |NULL                                                                                                                                                                                                                                                                                                                                                                                                                                                                                                                                                                                                                                                                                                                                                                                                                                                                                                                                                                                                                                                                                                                                                                                                                                                                                                                                                                                                                                                                                                                                                                                                                                                                                                                                                                              |NULL                                                                                                                                                                                                                                                                                                                                                                                                                                                                                                                                                                                                                                                                                                           |NULL                                                                                                                                                                                                                                                                                                                                                     |NULL                                                                                                                                                                                                                                                                                                                                                                             |\n",
            "|Articles, Politics, Europe News, European Central Bank, S&P 500 Index, U.S. Markets, Commentary, Brexit, US Economy, stocks, Wall Street, World Economy, Markets|NULL                                                                                                                                                                                                                                                                                                                                                                                                                                                                                                                                                                                                                                                                                                                                                                                                                                                                                                                                                                                                                                                                                                                                                                                                                                                                                                                                                                                                                                                                                                                                                                                                                                                                                                                                                                              |NULL                                                                                                                                                                                                                                                                                                                                                                                                                                                                                                                                                                                                                                                                                                           |NULL                                                                                                                                                                                                                                                                                                                                                     |NULL                                                                                                                                                                                                                                                                                                                                                                             |\n",
            "|Europe&#039;s recovery depends on Renzi&#039;s Italy                                                                                                            |\"In spring, ambitious reforms began in Italy. Under Matteo Renzi, the ailing economy will either begin a real recovery, or slide further. The outcome is vital to Italy, Europe and the global economy.   Soon the name of Matteo Renzi, the new prime minister of Italy, will be known better internationally, after his meetings with German Chancellor Angela Merkel and President Obama.    Along with French President François Hollande, the two know only too well what's at stake in Italy's recovery. If it succeeds, the recovery of the euro zone will slowly continue. If not, the implications will be global. The reform drive of il Rottamatore   One year after being sworn in as Mayor of Florence in 2009, Matteo Renzi declared that a complete change was necessary in his Democratic Party and Italian politics. So he was nicknamed il Rottamatore (\"\"The Scrapper\"\"). Last February                                                                                                                                                                                                                                                                                                                                                                                                                                                                                                                                                                                                                                                                                                                                                                                                                                                                        | the 39-year-old Renzi became the youngest person in history to be Italy's Prime Minister — even younger than Mussolini.   (Read more: France to ply China with wine)   But can the Great Scrapper reverse Italy's economic decline?   First                                                                                                                                                                                                                                                                                                                                                                                                                                                                   | only two months before Renzi arrived in Rome                                                                                                                                                                                                                                                                                                            | the longest recession in Italy's postwar history ended.    The bad news is that                                                                                                                                                                                                                                                                                                 |\n",
            "|US Moves Closer to Becoming A Major Shareholder In GM                                                                                                           |The US government is increasingly likely to convert a $13.4 billion loan to General Motors into common stock, sharply reducing the company's debt burden and giving taxpayers a major stake in the struggling auto maker, sources tell CNBC.                                                                                                                                                                                                                                                                                                                                                                                                                                                                                                                                                                                                                                                                                                                                                                                                                                                                                                                                                                                                                                                                                                                                                                                                                                                                                                                                                                                                                                                                                                                                      |cnbc, Articles, General Motors Co, Business News, Transportation, Autos, source:tagname:CNBC US Source                                                                                                                                                                                                                                                                                                                                                                                                                                                                                                                                                                                                         |\"<div class=\"\"group\"\"><p>The US government is increasingly likely to convert a $13.4 billion loan to <strong>General Motors</strong> into common stock                                                                                                                                                                                                   | sharply reducing the company's debt burden and giving taxpayers a major stake in the struggling auto maker                                                                                                                                                                                                                                                                      |\n",
            "|Trump: 'Mission accomplished' on 'perfectly executed' Syria strike                                                                                              |NULL                                                                                                                                                                                                                                                                                                                                                                                                                                                                                                                                                                                                                                                                                                                                                                                                                                                                                                                                                                                                                                                                                                                                                                                                                                                                                                                                                                                                                                                                                                                                                                                                                                                                                                                                                                              |cnbc, Articles, George W. Bush, Vladimir Putin, Donald Trump, Chemical weapons, Syria, Politics, Europe News, World News, US: News, source:tagname:CNBC US Source                                                                                                                                                                                                                                                                                                                                                                                                                                                                                                                                              |\"<div class=\"\"group\"\"></div>                                                                                                                                                                                                                                                                                                                             |<div class=\"\"group\"\"><p>President Donald Trump hailed the U.S.-led intervention in Syria as \"\"perfectly executed                                                                                                                                                                                                                                                                 |\n",
            "|Chevron CEO Watson says he supports Trump on tax reform                                                                                                         |\"Chevron Chief Executive John Watson told CNBC Tuesday that he \"\"strongly supports U.S. tax reform\"\" under President Donald Trump's administration. Trump's administration wants to make U.S. tax reform competitive                                                                                                                                                                                                                                                                                                                                                                                                                                                                                                                                                                                                                                                                                                                                                                                                                                                                                                                                                                                                                                                                                                                                                                                                                                                                                                                                                                                                                                                                                                                                                              | Watson said during an interview on CNBC's \"\"Closing Bell.\"\" Specifically he discussed a proposed bill — a border-adjustment tax — that could hike rates on American imports. Despite concerns that a border tax could hurt oil prices                                                                                                                                                                                                                                                                                                                                                                                                                                                                         |\"\" he explained.\"                                                                                                                                                                                                                                                                                                                                        |cnbc, Articles, White House, Oil and Gas, Chevron Corp, Donald Trump, Business, Exxon Mobil Corp, Business News, Closing Bell, source:tagname:CNBC US Source                                                                                                                                                                                                                     |\n",
            "|22. Hexadite                                                                                                                                                    |Founders: Eran Barak, Barak Klinghofer (chief product officer), Idan Levin (CTO) Launched: 2014 Headquarters: Boston Funding: $10.5 million   The three founders of Hexadite, a Boston-based cybersecurity firm, have backgrounds in investigating and mitigating attacks for military intelligence units and global defense companies. They knew that these same kinds of automated cyberattacks were plaguing a wide variety of companies, leaving them unprepared when responding to a breach or, worse, preventing a future attack.Hexadite uses artificial intelligence to investigate and remediate every alert a company receives, claiming it can resolve incidents in seconds, freeing up a company's response team to focus on threats that truly need their expertise. Hexadite's Automated Incident Response Solution platform can integrate with customers' existing security technologies and can cut response time by 95 percent, the company says.Co-founder and CEO Eran Barak spent five years in an elite intelligence unit of the Israel Defense Forces before starting Hexadite in 2014 and was also head of Elbit Systems' cybertraining and simulation team. Late last year the company formed an alliance with other cybersecurity companies across the country, including Carbon Black, Check Point Software Technologies and Hewlett Packard Enterprise, to better integrate their products and automate important security processes.The goal of the alliance, explains Barak, is to utilize software to lighten the workload of security teams so that they can focus their time on the most dangerous and complex threats. The company has raised $10.5 million in funding from investors, including Hewlett Packard Ventures and TenEleven Ventures.|Articles, Technology, CNBC Upstart 2018, Boston, Special Reports, Crime, Hardware, Start-ups, Cybersecurity, CNBC Upstart, source:tagname:CNBC US Source                                                                                                                                                                                                                                                                                                                                                                                                                                                                                                                                                       |NULL                                                                                                                                                                                                                                                                                                                                                     |NULL                                                                                                                                                                                                                                                                                                                                                                             |\n",
            "|European stocks close higher on supportive Fed; Signature Aviation skyrockets 40%                                                                               |LONDON — European stocks closed higher on Thursday as traders reacted positively to comments from the U.S. Federal Reserve that it will continue to support the economy.                                                                                                                                                                                                                                                                                                                                                                                                                                                                                                                                                                                                                                                                                                                                                                                                                                                                                                                                                                                                                                                                                                                                                                                                                                                                                                                                                                                                                                                                                                                                                                                                          |cnbc, Articles, World economy, World Markets, FTSE MIB, CAC 40 Index, DAX, FTSE 100, Jerome Powell, United States, STOXX 600, United Utilities Group PLC, Zalando SE, thyssenkrupp AG, ams AG, Signature Aviation Ltd, Blackstone Inc, World Economy, Europe Economy, Markets, Europe Markets, source:tagname:CNBC Europe Source                                                                                                                                                                                                                                                                                                                                                                               |\"<div class=\"\"group\"\"><p>LONDON — European stocks closed higher on Thursday as traders reacted positively to comments from the U.S. Federal Reserve that it will continue to support the economy.</p></div>                                                                                                                                              |<div class=\"\"group\"\"><p>The pan-European <a href=\"\"https://www.cnbc.com/quotes/.STOXX\"\">Stoxx 600</a> provisionally closed up by around 0.4%                                                                                                                                                                                                                                     |\n",
            "|Fewer investors have a 'fear of missing out,' so it may be time to buckle up, market bull suggests                                                              |\"Oppenheimer Asset Management's John Stoltzfus suggests investors may want to fasten their seat belts.The long-time bull expects a wave of near-term volatility to pressure stocks. He's blaming uncertainty surrounding this week's Federal Reserve decision on interest rates, another big batch of second quarter earnings results and a fresh round of U.S.-China trade talks.\"\"Any kind of disappointment in a sense                                                                                                                                                                                                                                                                                                                                                                                                                                                                                                                                                                                                                                                                                                                                                                                                                                                                                                                                                                                                                                                                                                                                                                                                                                                                                                                                                         | okay                                                                                                                                                                                                                                                                                                                                                                                                                                                                                                                                                                                                                                                                                                          |\"\" the firm's chief investment strategist told CNBC's \"\"Futures Now\"\" last Thursday.With the fear of missing out gripping fewer investors                                                                                                                                                                                                                | Stoltzfus contends it's not the time to get aggressive.\"\"We're highly selective at this point with the S&P 500 up over 20%                                                                                                                                                                                                                                                      |\n",
            "|Morgan Stanley Tries to Stave Off Ratings Cut                                                                                                                   |James Gorman, Morgan Stanley’s chief executive, has been in discussions with Moody’s in an attempt to maintain its credit ratings and stave off a downgrade that could diminish the bank’s ability to buy the rest of Citigroup brokerage Smith Barney, according to people familiar with the matter.                                                                                                                                                                                                                                                                                                                                                                                                                                                                                                                                                                                                                                                                                                                                                                                                                                                                                                                                                                                                                                                                                                                                                                                                                                                                                                                                                                                                                                                                             |cnbc, Articles, Morgan Stanley, Goldman Sachs Group Inc, Citigroup Inc, Bank of America Corp, Business News, Economy, World Economy, Europe News, source:tagname:Financial Times                                                                                                                                                                                                                                                                                                                                                                                                                                                                                                                               |\"<div class=\"\"group\"\"><p>James Gorman                                                                                                                                                                                                                                                                                                                    | Morgan Stanley’s chief executive                                                                                                                                                                                                                                                                                                                                                |\n",
            "|Consultant to 'Vampire Squid of Expert Network Firms' Questioned by FBI                                                                                         |\"We know that one of the principal focuses of the government in their investigation into insider trading in general—and into hedge funds in particular—are the so-called \"\"expert-network\"\" firms.\"                                                                                                                                                                                                                                                                                                                                                                                                                                                                                                                                                                                                                                                                                                                                                                                                                                                                                                                                                                                                                                                                                                                                                                                                                                                                                                                                                                                                                                                                                                                                                                               |cnbc, Articles, CNBC EVENTS, NetNet, source:tagname:CNBC US Source                                                                                                                                                                                                                                                                                                                                                                                                                                                                                                                                                                                                                                             |\"<div class=\"\"group\"\"><p>We know that one of the principal focuses of the government in their investigation into insider trading in general—and into hedge funds in particular—are the so-called \"\"expert-network\"\" firms.</p></div>                                                                                                                     |<div class=\"\"group\"\"><p>The purpose of the expert network firms is to provide information and insight about companies that investors are interested in—and also                                                                                                                                                                                                                  |\n",
            "|Average tax refunds are down 8.4% in the wake of Trump tax cuts                                                                                                 |The first U.S. tax filing season under the overhaul that President Donald Trump signed into law at the end of 2017 got off to a slow start in the first week, with data released on Friday showing a significant drop in returns and refunds.According to the Internal Revenue Service, the total number of returns received in the week ending Feb. 1, 16.04 million, was down 12.4 percent from the week that ended on Feb. 2, 2018. Only 13.31 million returns were processed, down 25.8 percent from the year before. The average refund of $1,865 was 8.4 percent smaller than the average refund in the period last year.                                                                                                                                                                                                                                                                                                                                                                                                                                                                                                                                                                                                                                                                                                                                                                                                                                                                                                                                                                                                                                                                                                                                                   |cnbc, Articles, Tax planning, Politics, Personal finance, Government taxation and revenue, Personal Finance, US: News, Taxes, Investing, Tax Planning, source:tagname:Reuters                                                                                                                                                                                                                                                                                                                                                                                                                                                                                                                                  |\"<div class=\"\"group\"\"><p>The first U.S. tax filing season under the overhaul that President Donald Trump signed into law at the end of 2017 got off to a slow start in the first week                                                                                                                                                                    | with data released on Friday showing a significant drop in returns and refunds.</p><p>According to the Internal Revenue Service                                                                                                                                                                                                                                                 |\n",
            "|Watch: Oaktree Capital's Howard Marks speak from the Context Summit                                                                                             |[The stream is slated to start at 3:45 p.m. ET. Please refresh the page if you do not see a player above at that time.]Oaktree Capital Management co-chairman Howard Marks on Wednesday will speak from the Context Summits Miami conference in Miami Beach, Florida.Marks is known for his prescient investment memos, which warned about the financial crisis and the dot-com bubble implosion. During the 2007-09 market meltdown, the longtime investor established an $11 billion distressed-debt fund aimed at buying the financial instruments of companies near or currently in bankruptcy, helping Marks deliver some of the best returns on Wall Street at the time.Oaktree Capital had $124 billion of assets under management as of September 2018, according to its website.Subscribe to CNBC on YouTube.                                                                                                                                                                                                                                                                                                                                                                                                                                                                                                                                                                                                                                                                                                                                                                                                                                                                                                                                                            |cnbc, Articles, Oaktree Capital Group LLC, Investment strategy, Markets, Investing, Investment Strategy, Investment Strategies, US: News, source:tagname:CNBC US Source                                                                                                                                                                                                                                                                                                                                                                                                                                                                                                                                        |\"<div class=\"\"group\"\"><p>[The stream is slated to start at 3:45 p.m. ET. Please refresh the page if you do not see a player above at that time.]</p><p>Oaktree Capital Management co-chairman Howard Marks on Wednesday will speak from the Context Summits Miami conference in Miami Beach                                                              | Florida.</p><div style=\"\"height:100%\"\" class=\"\"lazyload-placeholder\"\"></div><p>Marks is known for his prescient investment memos                                                                                                                                                                                                                                                |\n",
            "|Guggenheim says solar sell-off is a buying opportunity and has an unusual favorite stock                                                                        |\"Renewable energy is poised to play an ever greater role as the world shifts away from fossil fuels, and the recent pullback in clean tech stocks presents a buying opportunity, Guggenheim said while initiating coverage on solar stocks.\"\"We believe that the shift to distributed energy generation and storage is a large                                                                                                                                                                                                                                                                                                                                                                                                                                                                                                                                                                                                                                                                                                                                                                                                                                                                                                                                                                                                                                                                                                                                                                                                                                                                                                                                                                                                                                                    | sustained phenomenon                                                                                                                                                                                                                                                                                                                                                                                                                                                                                                                                                                                                                                                                                          |\"\" the firm wrote in a note to clients. \"\"We expect distributed solar installations to continue growing robustly                                                                                                                                                                                                                                         | especially now that energy storage is becoming economically viable.\"\"Following a 140% gain in 2020                                                                                                                                                                                                                                                                              |\n",
            "|Eni Pays Dominion $4.76 Billion for U.S. Gulf Assets                                                                                                            |\"Italian oil and gas company Eni has bought upstream assets in the Gulf of Mexico from Dominion Resources for $4.757 billion, Eni said in a statement on Monday.Eni said the acquisition would boost its production in the area to more than 110,000 barrels of oil equivalent per day (boepd) in the second half of 2007. In the period from 2007-2010, production from the new assets would average more than 75,000 boepd.Eni, Europe's fourth-biggest oil company by market value, said included in the purchase were exploration assets for $680 million and said around 60% of he overall leases were operated.\"\"Through this transaction we reach the necessary critical mass for our activities in the Gulf of Mexico                                                                                                                                                                                                                                                                                                                                                                                                                                                                                                                                                                                                                                                                                                                                                                                                                                                                                                                                                                                                                                                     |\"\" Eni Chief Executive Officer Paolo Scaroni said in the statement.Eni is one of the few world oil majors which has been able to largely avoid a decline in output as it adds production both through acquisitions and as new fields come onstream.It has made several large acquisitions recently.Earlier this month it won with Italian utility Enel a $5.8 billion auction for assets formerly held by bankrupt oil firm YUKOS but they handed the bulk of the prize to Russian gas monopoly Gazprom.Eni agreed to buy a package of Congolese assets from France's Maurel et Prom for $1.4 billion earlier this year and in March struck a deal to split a stake in one of those fields with Burren Energy.\"|https://sc.cnbcfm.com/applications/cnbc.com/staticcontent/img/cnbc_logo.gif?v=1524171804&w=720&h=405                                                                                                                                                                                                                                                     |\"<div class=\"\"group\"\"><p>Italian oil and gas company<strong> Eni </strong>has bought upstream assets in the Gulf of Mexico from <strong>Dominion Resources </strong>for $4.757 billion                                                                                                                                                                                           |\n",
            "|Strategist Paulsen: Market bottom is not in                                                                                                                     |\"Jim Paulsen, chief investment strategist of Wells Capital Management, believes the stock market sell-off is not over.  \"\"Finding a bottom in the stock market may well be a fool's game                                                                                                                                                                                                                                                                                                                                                                                                                                                                                                                                                                                                                                                                                                                                                                                                                                                                                                                                                                                                                                                                                                                                                                                                                                                                                                                                                                                                                                                                                                                                                                                          |  but that does not stop us fools from trying                                                                                                                                                                                                                                                                                                                                                                                                                                                                                                                                                                                                                                                                  | a quick  recovery back near all-time highs would leave the stock market  with many of the same vulnerabilities that started the  correction. Consequently                                                                                                                                                                                               | we would not be surprised if the stock  market tests its correction low yet again and perhaps even fails  before reaching a final bottom.\"\"  Here is why he believes the market is vulnerable…\"                                                                                                                                                                                 |\n",
            "|CDC says 28 blood clot cases, 3 deaths may be linked to J&J Covid vaccine                                                                                       |\"CDC scientists say their investigation into a rare blood clotting issue linked to the Johnson & Johnson Covid-19 vaccine has identified 28 people who developed the potentially life threatening blockages — three of whom have died.The Food and Drug Administration and Centers for Disease Control and Prevention on April 13 asked states to temporarily halt using J&J's vaccine \"\"out of an abundance of caution\"\" while it investigated six women                                                                                                                                                                                                                                                                                                                                                                                                                                                                                                                                                                                                                                                                                                                                                                                                                                                                                                                                                                                                                                                                                                                                                                                                                                                                                                                         | ages 18 to 48                                                                                                                                                                                                                                                                                                                                                                                                                                                                                                                                                                                                                                                                                                 | or CVST                                                                                                                                                                                                                                                                                                                                                 | in combination with low blood platelets within about two weeks of receiving the shot.They recommended resuming use of the shot 10 days later after the CDC determined that the benefits of the inoculations outweighed their risks.CVST is a form of thrombosis with thrombocytopenia                                                                                           |\n",
            "|The world’s most powerful women are …                                                                                                                           |\"Forbes has \"\"leaned in                                                                                                                                                                                                                                                                                                                                                                                                                                                                                                                                                                                                                                                                                                                                                                                                                                                                                                                                                                                                                                                                                                                                                                                                                                                                                                                                                                                                                                                                                                                                                                                                                                                                                                                                                           |\"\" releasing its annual list of the world's  100 most powerful women                                                                                                                                                                                                                                                                                                                                                                                                                                                                                                                                                                                                                                           | dynamic look at power                                                                                                                                                                                                                                                                                                                                   | not  just traditional power roles such as running a corporation or  head of state                                                                                                                                                                                                                                                                                               |\n",
            "|Banks within Wal-Mart stores collecting high fees                                                                                                               |\"Wal-Mart has a reputation for offering shoppers low  prices, but a report in The Wall Street Journal found  that the independent banks it houses inside its stores levy some  of the highest bank fees, largely as a result of overdraft charges.  After analyzing federal filings, the publication found that last  year, the five banks that have the largest presence in the  discounter's stores were among the top 10 domestic banks in  terms of income from fees as a percentage of deposits.  Those banks are Fort Sill National Bank, First Convenience Bank,  Academy Bank, Woodforest National Bank and City National Bank and  Trust Company.  Overdraft fees can be a big issue for people struggling financially, as accruing them over time makes it makes it difficult to get out of debt.  A Wal-Mart spokesperson told the Journal it plays no part  in operating the banks, but that it ensures \"\"they're in line with  Wal-Mart's philosophy of saving customers money.\"\"To read the full story                                                                                                                                                                                                                                                                                                                                                                                                                                                                                                                                                                                                                                                                                                                                                              | click here.\"                                                                                                                                                                                                                                                                                                                                                                                                                                                                                                                                                                                                                                                                                                  |https://image.cnbcfm.com/api/v1/image/101664136-106894463.jpg?v=1532564490                                                                                                                                                                                                                                                                               |\"<div class=\"\"group\"\"><p>  <a href=\"\"//www.cnbc.com/quotes/WMT\"\" target=\"\"_blank\"\">Wal-Mart</a> has a reputation for offering shoppers low  prices                                                                                                                                                                                                                               |\n",
            "|The Materials Of A Trade                                                                                                                                        |NULL                                                                                                                                                                                                                                                                                                                                                                                                                                                                                                                                                                                                                                                                                                                                                                                                                                                                                                                                                                                                                                                                                                                                                                                                                                                                                                                                                                                                                                                                                                                                                                                                                                                                                                                                                                              |cnbc, Articles, CNBC TV, Fast Money, source:tagname:CNBC US Source                                                                                                                                                                                                                                                                                                                                                                                                                                                                                                                                                                                                                                             |\"<div class=\"\"group\"\"></div>                                                                                                                                                                                                                                                                                                                             |<div class=\"\"group\"\"><p>In Monday’s Web Extra                                                                                                                                                                                                                                                                                                                                    |\n",
            "|CA leaders propose $1B drought relief package                                                                                                                   |\"California Gov. Jerry Brown and state leaders unveiled legislation Thursday for a $1 billion drought relief package designed to help the state deal with ongoing dry  conditions.   \"\"This unprecedented drought continues with no signs yet of  letting up                                                                                                                                                                                                                                                                                                                                                                                                                                                                                                                                                                                                                                                                                                                                                                                                                                                                                                                                                                                                                                                                                                                                                                                                                                                                                                                                                                                                                                                                                                                      |\"\" Brown said in a release. \"\"The programs funded by the  actions announced today will provide direct relief to workers and  communities most impacted by these historic dry  conditions.\"\"Read More2014 California drought was bad. 2015 will be worseThe package would include funding for safe drinking water and infrastructure projects designed to help the state deal with dry weather.\"                                                                                                                                                                                                                                                                                                                |https://image.cnbcfm.com/api/v1/image/102520302-461055862.jpg?v=1532564329                                                                                                                                                                                                                                                                               |\"<div class=\"\"group\"\"><p>  California Gov. Jerry Brown and state leaders unveiled legislation Thursday for a $1 billion drought relief package designed to help the state deal with ongoing dry  conditions. </p><p>  \"\"This unprecedented drought continues with no signs yet of  letting up                                                                                    |\n",
            "|Philippines Q1 GDP growth slows to 1.1% q/q                                                                                                                     |Philippines' economic  growth halved in the first quarter from the previous three-month period as weak exports and  agriculture hurt overall output, the statistics agency said on  Thursday. The economy grew 1.1 percent in the first quarter,  below the 1.6 percent forecast in a Reuters poll, and slower than the upwardly revised  2.1 percent in October-December. From a year earlier, first quarter growth was 6.9  percent, picking up from 6.5 percent in the fourth quarter and stronger than a forecast  6.6 percent.   Follow CNBC International on Twitter and Facebook.                                                                                                                                                                                                                                                                                                                                                                                                                                                                                                                                                                                                                                                                                                                                                                                                                                                                                                                                                                                                                                                                                                                                                                                          |cnbc, Articles, Economy, Asia News, Philippines, Business News, US Economy, Economic Reports, GDP, source:tagname:Reuters                                                                                                                                                                                                                                                                                                                                                                                                                                                                                                                                                                                      |\"<div class=\"\"group\"\"><p><a href=\"\"https://www.cnbc.com/id/10000170\"\">Philippines'</a> economic  growth halved in the first quarter from the previous three-month period as weak exports and  agriculture hurt overall output                                                                                                                            | the statistics agency said on  Thursday. </p><p>The economy grew 1.1 percent in the first quarter                                                                                                                                                                                                                                                                               |\n",
            "|Pitbull fallout: Governor wants tourism head to step down                                                                                                       |\"Gov. Rick Scott wants the head of the state's tourism marketing agency to step down after Visit Florida refused  to publicly disclose it paid rapper Pitbull $1 million to promote  the state.Scott made the request Friday in a letter sent to the agency's  board. The governor is also asking Visit Florida to begin publishing its spending, contracts, salaries, audits and other financial  information.The requests comes after Visit Florida refused to make public the contract it had with Pitbull, who recorded a video of the song  \"\"Sexy Beaches\"\" to promote Florida.House Speaker Richard Corcoran sued this week to have the  contract released                                                                                                                                                                                                                                                                                                                                                                                                                                                                                                                                                                                                                                                                                                                                                                                                                                                                                                                                                                                                                                                                                                                 | and Pitbull — not Visit Florida — made it public two  days later.Scott said it is ridiculous that Visit Florida wasn't transparent  about its spending.\"                                                                                                                                                                                                                                                                                                                                                                                                                                                                                                                                                      |https://image.cnbcfm.com/api/v1/image/103102608-GettyImages-484243088.jpg?v=1529469835                                                                                                                                                                                                                                                                   |\"<div class=\"\"group\"\"><p>  Gov. Rick Scott wants the head of the state's tourism marketing agency to step down after Visit Florida refused  to publicly disclose it paid rapper Pitbull $1 million to promote  the state.</p><p>Scott made the request Friday in a letter sent to the agency's  board. The governor is also asking Visit Florida to begin publishing its spending|\n",
            "+----------------------------------------------------------------------------------------------------------------------------------------------------------------+----------------------------------------------------------------------------------------------------------------------------------------------------------------------------------------------------------------------------------------------------------------------------------------------------------------------------------------------------------------------------------------------------------------------------------------------------------------------------------------------------------------------------------------------------------------------------------------------------------------------------------------------------------------------------------------------------------------------------------------------------------------------------------------------------------------------------------------------------------------------------------------------------------------------------------------------------------------------------------------------------------------------------------------------------------------------------------------------------------------------------------------------------------------------------------------------------------------------------------------------------------------------------------------------------------------------------------------------------------------------------------------------------------------------------------------------------------------------------------------------------------------------------------------------------------------------------------------------------------------------------------------------------------------------------------------------------------------------------------------------------------------------------------+---------------------------------------------------------------------------------------------------------------------------------------------------------------------------------------------------------------------------------------------------------------------------------------------------------------------------------------------------------------------------------------------------------------------------------------------------------------------------------------------------------------------------------------------------------------------------------------------------------------------------------------------------------------------------------------------------------------+---------------------------------------------------------------------------------------------------------------------------------------------------------------------------------------------------------------------------------------------------------------------------------------------------------------------------------------------------------+---------------------------------------------------------------------------------------------------------------------------------------------------------------------------------------------------------------------------------------------------------------------------------------------------------------------------------------------------------------------------------+\n",
            "only showing top 25 rows\n",
            "\n"
          ]
        }
      ],
      "source": [
        "df.select(['title','short_description','keywords','raw_description','description']).show(25,truncate=False)"
      ]
    },
    {
      "cell_type": "markdown",
      "metadata": {
        "id": "RWaqsvp-tO9X"
      },
      "source": [
        "By looking at the table, we can select both with betther interest to the following colums: `short_description`, `keyword` and `title`.\n",
        "\n",
        "Let us select only them."
      ]
    },
    {
      "cell_type": "code",
      "execution_count": 36,
      "metadata": {
        "colab": {
          "base_uri": "https://localhost:8080/"
        },
        "id": "DgD23-2yGtFW",
        "outputId": "fe1d3d6d-f5ff-4faa-e168-cfb8e355c251"
      },
      "outputs": [
        {
          "name": "stdout",
          "output_type": "stream",
          "text": [
            "root\n",
            " |-- title: string (nullable = true)\n",
            " |-- short_description: string (nullable = true)\n",
            " |-- keywords: string (nullable = true)\n",
            " |-- raw_description: string (nullable = true)\n",
            " |-- description: string (nullable = true)\n",
            "\n"
          ]
        }
      ],
      "source": [
        "# Features selection\n",
        "df=df.select(['title','short_description','keywords','raw_description','description'])\n",
        "df.printSchema()"
      ]
    },
    {
      "cell_type": "markdown",
      "metadata": {
        "id": "W8XAvsd1vAeh"
      },
      "source": [
        "Now the schema of our datalooks like:\n",
        "\n",
        "- `short description`: A short description of the news\n",
        "- `keywords`: The key words in the new.\n",
        "- `title`: The title of the news\n",
        "- `raw_description`: The raw description of the new\n",
        "- `description`: The description of the new\n",
        "\n",
        "\n",
        "\n",
        "\n",
        "Let us move to the next section, which consists to handle missing values."
      ]
    },
    {
      "cell_type": "markdown",
      "metadata": {
        "id": "DPD6dfLBvuw3"
      },
      "source": [
        "#### C- Handling missing values\n",
        "\n",
        "First of all we need to identify the missing values"
      ]
    },
    {
      "cell_type": "code",
      "execution_count": 37,
      "metadata": {
        "colab": {
          "base_uri": "https://localhost:8080/"
        },
        "id": "H-ggN5lNvuw5",
        "outputId": "89d2b9e8-c05c-48af-d6a6-4600b4ac507a"
      },
      "outputs": [
        {
          "name": "stdout",
          "output_type": "stream",
          "text": [
            "+--------------------+--------------------+--------------------+--------------------+--------------------+\n",
            "|               title|   short_description|            keywords|     raw_description|         description|\n",
            "+--------------------+--------------------+--------------------+--------------------+--------------------+\n",
            "|                NULL|                NULL|                NULL|                NULL|                NULL|\n",
            "|Articles, Politic...|                NULL|                NULL|                NULL|                NULL|\n",
            "|Trump: 'Mission a...|                NULL|cnbc, Articles, G...|\"<div class=\"\"gro...|<div class=\"\"grou...|\n",
            "|        22. Hexadite|Founders: Eran Ba...|Articles, Technol...|                NULL|                NULL|\n",
            "|The Materials Of ...|                NULL|cnbc, Articles, C...|\"<div class=\"\"gro...|<div class=\"\"grou...|\n",
            "|                NULL|                NULL|                NULL|                NULL|                NULL|\n",
            "| the company is d...|                NULL|                NULL|                NULL|                NULL|\n",
            "|Kendall Jenner ju...|While her sisters...|makeit, Articles,...|                NULL|                NULL|\n",
            "|Strong jobs repor...|Nonfarm payrolls ...|                NULL|                NULL|                NULL|\n",
            "|                NULL|                NULL|                NULL|                NULL|                NULL|\n",
            "|Articles, Busines...|                NULL|                NULL|                NULL|                NULL|\n",
            "|Baseball Hall of ...|                NULL|cnbc, Articles, U...|\"<div class=\"\"gro...|                N.Y.|\n",
            "|This writer's twe...|With a single twe...|makeit, Articles,...|                NULL|                NULL|\n",
            "|The Stocks Analys...|                NULL|cnbc, Articles, C...|\"<div class=\"\"gro...|<div class=\"\"grou...|\n",
            "|Fitch Rates $202M...|NEW YORK, Nov 12,...|                NULL|                NULL|                NULL|\n",
            "|                NULL|                NULL|                NULL|                NULL|                NULL|\n",
            "|                 550|                NULL|                NULL|                NULL|                NULL|\n",
            "| including the un...|                NULL|                NULL|                NULL|                NULL|\n",
            "|                NULL|                NULL|                NULL|                NULL|                NULL|\n",
            "|                NULL|                NULL|                NULL|                NULL|                NULL|\n",
            "+--------------------+--------------------+--------------------+--------------------+--------------------+\n",
            "only showing top 20 rows\n",
            "\n"
          ]
        },
        {
          "data": {
            "text/plain": [
              "637"
            ]
          },
          "execution_count": 37,
          "metadata": {},
          "output_type": "execute_result"
        }
      ],
      "source": [
        "# Check NULL  values in all columns\n",
        "null_values_df= df.filter((df.short_description.isNull() ) | (df.keywords.isNull()) | (df.title.isNull()) | (df.raw_description.isNull()) | (df.description.isNull()) )\n",
        "\n",
        "null_values_df.show()\n",
        "null_values_df.count()"
      ]
    },
    {
      "cell_type": "code",
      "execution_count": 38,
      "metadata": {
        "colab": {
          "base_uri": "https://localhost:8080/"
        },
        "id": "oKnMy6GExe3_",
        "outputId": "ecab66b6-e7d7-49e9-e5eb-baf1a5a4de0a"
      },
      "outputs": [
        {
          "name": "stdout",
          "output_type": "stream",
          "text": [
            "+-----+-----------------+--------+---------------+-----------+\n",
            "|title|short_description|keywords|raw_description|description|\n",
            "+-----+-----------------+--------+---------------+-----------+\n",
            "| NULL|             NULL|    NULL|           NULL|       NULL|\n",
            "| NULL|             NULL|    NULL|           NULL|       NULL|\n",
            "| NULL|             NULL|    NULL|           NULL|       NULL|\n",
            "| NULL|             NULL|    NULL|           NULL|       NULL|\n",
            "| NULL|             NULL|    NULL|           NULL|       NULL|\n",
            "| NULL|             NULL|    NULL|           NULL|       NULL|\n",
            "| NULL|             NULL|    NULL|           NULL|       NULL|\n",
            "| NULL|             NULL|    NULL|           NULL|       NULL|\n",
            "| NULL|             NULL|    NULL|           NULL|       NULL|\n",
            "| NULL|             NULL|    NULL|           NULL|       NULL|\n",
            "| NULL|             NULL|    NULL|           NULL|       NULL|\n",
            "| NULL|             NULL|    NULL|           NULL|       NULL|\n",
            "| NULL|             NULL|    NULL|           NULL|       NULL|\n",
            "| NULL|             NULL|    NULL|           NULL|       NULL|\n",
            "| NULL|             NULL|    NULL|           NULL|       NULL|\n",
            "| NULL|             NULL|    NULL|           NULL|       NULL|\n",
            "| NULL|             NULL|    NULL|           NULL|       NULL|\n",
            "| NULL|             NULL|    NULL|           NULL|       NULL|\n",
            "| NULL|             NULL|    NULL|           NULL|       NULL|\n",
            "| NULL|             NULL|    NULL|           NULL|       NULL|\n",
            "+-----+-----------------+--------+---------------+-----------+\n",
            "only showing top 20 rows\n",
            "\n"
          ]
        },
        {
          "data": {
            "text/plain": [
              "358"
            ]
          },
          "execution_count": 38,
          "metadata": {},
          "output_type": "execute_result"
        }
      ],
      "source": [
        "# Check the instances having new values in both our 5 columns of interest\n",
        "null_values_df= df.filter((df.short_description.isNull() ) & (df.keywords.isNull()) & (df.title.isNull())  & (df.raw_description.isNull()) & (df.description.isNull()) )\n",
        "\n",
        "null_values_df.show()\n",
        "null_values_df.count()"
      ]
    },
    {
      "cell_type": "markdown",
      "metadata": {
        "id": "YbXVgP8lxHCh"
      },
      "source": [
        "Basing on these outputs there are 627 missing values and 358 instances having NULL values for all the 5 columns\n",
        "\n",
        "Now let us drop these 358 instances."
      ]
    },
    {
      "cell_type": "code",
      "execution_count": 39,
      "metadata": {
        "id": "OjkN3py1xHCp"
      },
      "outputs": [],
      "source": [
        "df=df.na.drop(how='all')"
      ]
    },
    {
      "cell_type": "code",
      "execution_count": 40,
      "metadata": {
        "colab": {
          "base_uri": "https://localhost:8080/"
        },
        "id": "tXkHquv5xHCp",
        "outputId": "a9317e50-9b9b-4072-be81-ba41e5b3b1a4"
      },
      "outputs": [
        {
          "name": "stdout",
          "output_type": "stream",
          "text": [
            "+-----+-----------------+--------+---------------+-----------+\n",
            "|title|short_description|keywords|raw_description|description|\n",
            "+-----+-----------------+--------+---------------+-----------+\n",
            "+-----+-----------------+--------+---------------+-----------+\n",
            "\n"
          ]
        },
        {
          "data": {
            "text/plain": [
              "0"
            ]
          },
          "execution_count": 40,
          "metadata": {},
          "output_type": "execute_result"
        }
      ],
      "source": [
        "# Check the drop\n",
        "null_values_df= df.filter((df.short_description.isNull() ) & (df.keywords.isNull()) & (df.title.isNull())  & (df.raw_description.isNull()) & (df.description.isNull()) )\n",
        "null_values_df.show()\n",
        "null_values_df.count()"
      ]
    },
    {
      "cell_type": "code",
      "execution_count": 41,
      "metadata": {
        "colab": {
          "base_uri": "https://localhost:8080/"
        },
        "id": "E523BPioJlT8",
        "outputId": "02577f70-eb81-4f18-e206-a3a840bcf571"
      },
      "outputs": [
        {
          "data": {
            "text/plain": [
              "876"
            ]
          },
          "execution_count": 41,
          "metadata": {},
          "output_type": "execute_result"
        }
      ],
      "source": [
        "df.count()"
      ]
    },
    {
      "cell_type": "code",
      "execution_count": 42,
      "metadata": {
        "colab": {
          "base_uri": "https://localhost:8080/"
        },
        "id": "DHvR2oGiTDI8",
        "outputId": "ab20ab91-7b32-45c1-8ae2-fd90fa7e5e63"
      },
      "outputs": [
        {
          "name": "stdout",
          "output_type": "stream",
          "text": [
            "root\n",
            " |-- title: string (nullable = true)\n",
            " |-- short_description: string (nullable = true)\n",
            " |-- keywords: string (nullable = true)\n",
            " |-- raw_description: string (nullable = true)\n",
            " |-- description: string (nullable = true)\n",
            "\n"
          ]
        }
      ],
      "source": [
        "df.printSchema()"
      ]
    },
    {
      "cell_type": "markdown",
      "metadata": {
        "id": "bzm62vkI3-yb"
      },
      "source": [
        "#### D- Feature engineering\n",
        "\n",
        "Now that we now that our dataframe doesn't contain any rows with NULL values in all our columns of interest, let us add a new colum to the dataframe, called description, with as value the `short_description` if not NULL, else the `keywords` if not NULL, else the `title` if not NULL, else the `raw_description` if NOT NULL, otherwise the `description`."
      ]
    },
    {
      "cell_type": "code",
      "execution_count": 43,
      "metadata": {
        "colab": {
          "base_uri": "https://localhost:8080/"
        },
        "id": "v5SYK4HH3-yd",
        "outputId": "b902985e-d385-4512-e913-98c6a0fc89cf"
      },
      "outputs": [
        {
          "name": "stdout",
          "output_type": "stream",
          "text": [
            "+----------------------------------------------------------------------------------------------------------------------------------------------------------------+----------------------------------------------------------------------------------------------------------------------------------------------------------------------------------------------------------------------------------------------------------------------------------------------------------------------------------------------------------------------------------------------------------------------------------------------------------------------------------------------------------------------------------------------------------------------------------------------------------------------------------------------------------------------------------------------------------------------------------------------------------------------------------------------------------------------------------------------------------------------------------------------------------------------------------------------------------------------------------------------------------------------------------------------------------------------------------------------------------------------------------------------------------------------------------------------------------------------------------------------------------------------------------------------------------------------------------------------------------------------------------------------------------------------------------------------------------------------------------------------------------------------------------------------------------------------------------------------------------------------------------------------------------------------------------------------------------------------------------------------------------------------------------+---------------------------------------------------------------------------------------------------------------------------------------------------------------------------------------------------------------------------------------------------------------------------------------------------------------------------------------------------------------------------------------------------------------------------------------------------------------------------------------------------------------------------------------------------------------------------------------------------------------------------------------------------------------------------------------------------------------+---------------------------------------------------------------------------------------------------------------------------------------------------------------------------------------------------------------------------------------------------------------------------------------------------------------------------------------------------------+----------------------------------------------------------------------------------------------------------------------------------------------------------------------------------------------------------------------------------------------------------------------------------------------------------------------------------------------------------------------------------------------------------------------------------------------------------------------------------------------------------------------------------------------------------------------------------------------------------------------------------------------------------------------------------------------------------------------------------------------------------------------------------------------------------------------------------------------------------------------------------------------------------------------------------------------------------------------------------------------------------------------------------------------------------------------------------------------------------------------------------------------------------------------------------------------------------------------------------------------------------------------------------------------------------------------------------------------------------------------------------------------------------------------------------------------------------------------------------------------------------------------------------------------------------------------------------------------------------------------------------------------------------------------------------------------------------------------------------------------------------------------------------+\n",
            "|title                                                                                                                                                           |short_description                                                                                                                                                                                                                                                                                                                                                                                                                                                                                                                                                                                                                                                                                                                                                                                                                                                                                                                                                                                                                                                                                                                                                                                                                                                                                                                                                                                                                                                                                                                                                                                                                                                                                                                                                                 |keywords                                                                                                                                                                                                                                                                                                                                                                                                                                                                                                                                                                                                                                                                                                       |raw_description                                                                                                                                                                                                                                                                                                                                          |description                                                                                                                                                                                                                                                                                                                                                                                                                                                                                                                                                                                                                                                                                                                                                                                                                                                                                                                                                                                                                                                                                                                                                                                                                                                                                                                                                                                                                                                                                                                                                                                                                                                                                                                                                                       |\n",
            "+----------------------------------------------------------------------------------------------------------------------------------------------------------------+----------------------------------------------------------------------------------------------------------------------------------------------------------------------------------------------------------------------------------------------------------------------------------------------------------------------------------------------------------------------------------------------------------------------------------------------------------------------------------------------------------------------------------------------------------------------------------------------------------------------------------------------------------------------------------------------------------------------------------------------------------------------------------------------------------------------------------------------------------------------------------------------------------------------------------------------------------------------------------------------------------------------------------------------------------------------------------------------------------------------------------------------------------------------------------------------------------------------------------------------------------------------------------------------------------------------------------------------------------------------------------------------------------------------------------------------------------------------------------------------------------------------------------------------------------------------------------------------------------------------------------------------------------------------------------------------------------------------------------------------------------------------------------+---------------------------------------------------------------------------------------------------------------------------------------------------------------------------------------------------------------------------------------------------------------------------------------------------------------------------------------------------------------------------------------------------------------------------------------------------------------------------------------------------------------------------------------------------------------------------------------------------------------------------------------------------------------------------------------------------------------+---------------------------------------------------------------------------------------------------------------------------------------------------------------------------------------------------------------------------------------------------------------------------------------------------------------------------------------------------------+----------------------------------------------------------------------------------------------------------------------------------------------------------------------------------------------------------------------------------------------------------------------------------------------------------------------------------------------------------------------------------------------------------------------------------------------------------------------------------------------------------------------------------------------------------------------------------------------------------------------------------------------------------------------------------------------------------------------------------------------------------------------------------------------------------------------------------------------------------------------------------------------------------------------------------------------------------------------------------------------------------------------------------------------------------------------------------------------------------------------------------------------------------------------------------------------------------------------------------------------------------------------------------------------------------------------------------------------------------------------------------------------------------------------------------------------------------------------------------------------------------------------------------------------------------------------------------------------------------------------------------------------------------------------------------------------------------------------------------------------------------------------------------+\n",
            "|Santoli’s Wednesday market notes: Could September’s stock shakeout tee up strength for the fourth quarter?                                                      |This is the daily notebook of Mike Santoli, CNBC's senior markets commentator, with ideas about trends, stocks and market statistics.                                                                                                                                                                                                                                                                                                                                                                                                                                                                                                                                                                                                                                                                                                                                                                                                                                                                                                                                                                                                                                                                                                                                                                                                                                                                                                                                                                                                                                                                                                                                                                                                                                             |cnbc, Premium, Articles, Investment strategy, Markets, Investing, PRO Home, CNBC Pro, Pro: Santoli on Stocks, source:tagname:CNBC US Source                                                                                                                                                                                                                                                                                                                                                                                                                                                                                                                                                                    |\"<div class=\"\"group\"\"><p><em>This is the daily notebook of Mike Santoli                                                                                                                                                                                                                                                                                  |This is the daily notebook of Mike Santoli, CNBC's senior markets commentator, with ideas about trends, stocks and market statistics.                                                                                                                                                                                                                                                                                                                                                                                                                                                                                                                                                                                                                                                                                                                                                                                                                                                                                                                                                                                                                                                                                                                                                                                                                                                                                                                                                                                                                                                                                                                                                                                                                                             |\n",
            "|My take on the early Brexit winners and losers                                                                                                                  |\"This commentary originally ran on Facebook. Boris Johnson – The former London mayor and grudging \"\"Leave\"\" supporter-turned enthusiastic \"\"Leave\"\" leader chose the winning side. He's now a front-runner to lead the Tory party. ‪#‎HellFreezesOver‬ Theresa May – Boris Johnson's populist approach to the Brexit campaign ticked off quite a few Tory elders                                                                                                                                                                                                                                                                                                                                                                                                                                                                                                                                                                                                                                                                                                                                                                                                                                                                                                                                                                                                                                                                                                                                                                                                                                                                                                                                                                                                                  | so the real money should be on UK Home Secretary Theresa May to succeed outgoing Prime Minister David Cameron. May is a political heavyweight and is generally respected among the Tories                                                                                                                                                                                                                                                                                                                                                                                                                                                                                                                     | not.  Nigel Farage – the once-embattled UK Independence Party leader gets his moment in the sun. Also gets to keep having a political career. And the fact that he quoted \"\"Independence Day\"\" in his victory speech made a crazy night that much crazier.  Marine Le Pen/Geert Wilders – Charismatic figures with a long history agitating for EU exits|\"This commentary originally ran on Facebook. Boris Johnson – The former London mayor and grudging \"\"Leave\"\" supporter-turned enthusiastic \"\"Leave\"\" leader chose the winning side. He's now a front-runner to lead the Tory party. ‪#‎HellFreezesOver‬ Theresa May – Boris Johnson's populist approach to the Brexit campaign ticked off quite a few Tory elders                                                                                                                                                                                                                                                                                                                                                                                                                                                                                                                                                                                                                                                                                                                                                                                                                                                                                                                                                                                                                                                                                                                                                                                                                                                                                                                                                                                                                  |\n",
            "|Articles, Politics, Europe News, European Central Bank, S&P 500 Index, U.S. Markets, Commentary, Brexit, US Economy, stocks, Wall Street, World Economy, Markets|NULL                                                                                                                                                                                                                                                                                                                                                                                                                                                                                                                                                                                                                                                                                                                                                                                                                                                                                                                                                                                                                                                                                                                                                                                                                                                                                                                                                                                                                                                                                                                                                                                                                                                                                                                                                                              |NULL                                                                                                                                                                                                                                                                                                                                                                                                                                                                                                                                                                                                                                                                                                           |NULL                                                                                                                                                                                                                                                                                                                                                     |Articles, Politics, Europe News, European Central Bank, S&P 500 Index, U.S. Markets, Commentary, Brexit, US Economy, stocks, Wall Street, World Economy, Markets                                                                                                                                                                                                                                                                                                                                                                                                                                                                                                                                                                                                                                                                                                                                                                                                                                                                                                                                                                                                                                                                                                                                                                                                                                                                                                                                                                                                                                                                                                                                                                                                                  |\n",
            "|Europe&#039;s recovery depends on Renzi&#039;s Italy                                                                                                            |\"In spring, ambitious reforms began in Italy. Under Matteo Renzi, the ailing economy will either begin a real recovery, or slide further. The outcome is vital to Italy, Europe and the global economy.   Soon the name of Matteo Renzi, the new prime minister of Italy, will be known better internationally, after his meetings with German Chancellor Angela Merkel and President Obama.    Along with French President François Hollande, the two know only too well what's at stake in Italy's recovery. If it succeeds, the recovery of the euro zone will slowly continue. If not, the implications will be global. The reform drive of il Rottamatore   One year after being sworn in as Mayor of Florence in 2009, Matteo Renzi declared that a complete change was necessary in his Democratic Party and Italian politics. So he was nicknamed il Rottamatore (\"\"The Scrapper\"\"). Last February                                                                                                                                                                                                                                                                                                                                                                                                                                                                                                                                                                                                                                                                                                                                                                                                                                                                        | the 39-year-old Renzi became the youngest person in history to be Italy's Prime Minister — even younger than Mussolini.   (Read more: France to ply China with wine)   But can the Great Scrapper reverse Italy's economic decline?   First                                                                                                                                                                                                                                                                                                                                                                                                                                                                   | only two months before Renzi arrived in Rome                                                                                                                                                                                                                                                                                                            |\"In spring, ambitious reforms began in Italy. Under Matteo Renzi, the ailing economy will either begin a real recovery, or slide further. The outcome is vital to Italy, Europe and the global economy.   Soon the name of Matteo Renzi, the new prime minister of Italy, will be known better internationally, after his meetings with German Chancellor Angela Merkel and President Obama.    Along with French President François Hollande, the two know only too well what's at stake in Italy's recovery. If it succeeds, the recovery of the euro zone will slowly continue. If not, the implications will be global. The reform drive of il Rottamatore   One year after being sworn in as Mayor of Florence in 2009, Matteo Renzi declared that a complete change was necessary in his Democratic Party and Italian politics. So he was nicknamed il Rottamatore (\"\"The Scrapper\"\"). Last February                                                                                                                                                                                                                                                                                                                                                                                                                                                                                                                                                                                                                                                                                                                                                                                                                                                                        |\n",
            "|US Moves Closer to Becoming A Major Shareholder In GM                                                                                                           |The US government is increasingly likely to convert a $13.4 billion loan to General Motors into common stock, sharply reducing the company's debt burden and giving taxpayers a major stake in the struggling auto maker, sources tell CNBC.                                                                                                                                                                                                                                                                                                                                                                                                                                                                                                                                                                                                                                                                                                                                                                                                                                                                                                                                                                                                                                                                                                                                                                                                                                                                                                                                                                                                                                                                                                                                      |cnbc, Articles, General Motors Co, Business News, Transportation, Autos, source:tagname:CNBC US Source                                                                                                                                                                                                                                                                                                                                                                                                                                                                                                                                                                                                         |\"<div class=\"\"group\"\"><p>The US government is increasingly likely to convert a $13.4 billion loan to <strong>General Motors</strong> into common stock                                                                                                                                                                                                   |The US government is increasingly likely to convert a $13.4 billion loan to General Motors into common stock, sharply reducing the company's debt burden and giving taxpayers a major stake in the struggling auto maker, sources tell CNBC.                                                                                                                                                                                                                                                                                                                                                                                                                                                                                                                                                                                                                                                                                                                                                                                                                                                                                                                                                                                                                                                                                                                                                                                                                                                                                                                                                                                                                                                                                                                                      |\n",
            "|Trump: 'Mission accomplished' on 'perfectly executed' Syria strike                                                                                              |NULL                                                                                                                                                                                                                                                                                                                                                                                                                                                                                                                                                                                                                                                                                                                                                                                                                                                                                                                                                                                                                                                                                                                                                                                                                                                                                                                                                                                                                                                                                                                                                                                                                                                                                                                                                                              |cnbc, Articles, George W. Bush, Vladimir Putin, Donald Trump, Chemical weapons, Syria, Politics, Europe News, World News, US: News, source:tagname:CNBC US Source                                                                                                                                                                                                                                                                                                                                                                                                                                                                                                                                              |\"<div class=\"\"group\"\"></div>                                                                                                                                                                                                                                                                                                                             |cnbc, Articles, George W. Bush, Vladimir Putin, Donald Trump, Chemical weapons, Syria, Politics, Europe News, World News, US: News, source:tagname:CNBC US Source                                                                                                                                                                                                                                                                                                                                                                                                                                                                                                                                                                                                                                                                                                                                                                                                                                                                                                                                                                                                                                                                                                                                                                                                                                                                                                                                                                                                                                                                                                                                                                                                                 |\n",
            "|Chevron CEO Watson says he supports Trump on tax reform                                                                                                         |\"Chevron Chief Executive John Watson told CNBC Tuesday that he \"\"strongly supports U.S. tax reform\"\" under President Donald Trump's administration. Trump's administration wants to make U.S. tax reform competitive                                                                                                                                                                                                                                                                                                                                                                                                                                                                                                                                                                                                                                                                                                                                                                                                                                                                                                                                                                                                                                                                                                                                                                                                                                                                                                                                                                                                                                                                                                                                                              | Watson said during an interview on CNBC's \"\"Closing Bell.\"\" Specifically he discussed a proposed bill — a border-adjustment tax — that could hike rates on American imports. Despite concerns that a border tax could hurt oil prices                                                                                                                                                                                                                                                                                                                                                                                                                                                                         |\"\" he explained.\"                                                                                                                                                                                                                                                                                                                                        |\"Chevron Chief Executive John Watson told CNBC Tuesday that he \"\"strongly supports U.S. tax reform\"\" under President Donald Trump's administration. Trump's administration wants to make U.S. tax reform competitive                                                                                                                                                                                                                                                                                                                                                                                                                                                                                                                                                                                                                                                                                                                                                                                                                                                                                                                                                                                                                                                                                                                                                                                                                                                                                                                                                                                                                                                                                                                                                              |\n",
            "|22. Hexadite                                                                                                                                                    |Founders: Eran Barak, Barak Klinghofer (chief product officer), Idan Levin (CTO) Launched: 2014 Headquarters: Boston Funding: $10.5 million   The three founders of Hexadite, a Boston-based cybersecurity firm, have backgrounds in investigating and mitigating attacks for military intelligence units and global defense companies. They knew that these same kinds of automated cyberattacks were plaguing a wide variety of companies, leaving them unprepared when responding to a breach or, worse, preventing a future attack.Hexadite uses artificial intelligence to investigate and remediate every alert a company receives, claiming it can resolve incidents in seconds, freeing up a company's response team to focus on threats that truly need their expertise. Hexadite's Automated Incident Response Solution platform can integrate with customers' existing security technologies and can cut response time by 95 percent, the company says.Co-founder and CEO Eran Barak spent five years in an elite intelligence unit of the Israel Defense Forces before starting Hexadite in 2014 and was also head of Elbit Systems' cybertraining and simulation team. Late last year the company formed an alliance with other cybersecurity companies across the country, including Carbon Black, Check Point Software Technologies and Hewlett Packard Enterprise, to better integrate their products and automate important security processes.The goal of the alliance, explains Barak, is to utilize software to lighten the workload of security teams so that they can focus their time on the most dangerous and complex threats. The company has raised $10.5 million in funding from investors, including Hewlett Packard Ventures and TenEleven Ventures.|Articles, Technology, CNBC Upstart 2018, Boston, Special Reports, Crime, Hardware, Start-ups, Cybersecurity, CNBC Upstart, source:tagname:CNBC US Source                                                                                                                                                                                                                                                                                                                                                                                                                                                                                                                                                       |NULL                                                                                                                                                                                                                                                                                                                                                     |Founders: Eran Barak, Barak Klinghofer (chief product officer), Idan Levin (CTO) Launched: 2014 Headquarters: Boston Funding: $10.5 million   The three founders of Hexadite, a Boston-based cybersecurity firm, have backgrounds in investigating and mitigating attacks for military intelligence units and global defense companies. They knew that these same kinds of automated cyberattacks were plaguing a wide variety of companies, leaving them unprepared when responding to a breach or, worse, preventing a future attack.Hexadite uses artificial intelligence to investigate and remediate every alert a company receives, claiming it can resolve incidents in seconds, freeing up a company's response team to focus on threats that truly need their expertise. Hexadite's Automated Incident Response Solution platform can integrate with customers' existing security technologies and can cut response time by 95 percent, the company says.Co-founder and CEO Eran Barak spent five years in an elite intelligence unit of the Israel Defense Forces before starting Hexadite in 2014 and was also head of Elbit Systems' cybertraining and simulation team. Late last year the company formed an alliance with other cybersecurity companies across the country, including Carbon Black, Check Point Software Technologies and Hewlett Packard Enterprise, to better integrate their products and automate important security processes.The goal of the alliance, explains Barak, is to utilize software to lighten the workload of security teams so that they can focus their time on the most dangerous and complex threats. The company has raised $10.5 million in funding from investors, including Hewlett Packard Ventures and TenEleven Ventures.|\n",
            "|European stocks close higher on supportive Fed; Signature Aviation skyrockets 40%                                                                               |LONDON — European stocks closed higher on Thursday as traders reacted positively to comments from the U.S. Federal Reserve that it will continue to support the economy.                                                                                                                                                                                                                                                                                                                                                                                                                                                                                                                                                                                                                                                                                                                                                                                                                                                                                                                                                                                                                                                                                                                                                                                                                                                                                                                                                                                                                                                                                                                                                                                                          |cnbc, Articles, World economy, World Markets, FTSE MIB, CAC 40 Index, DAX, FTSE 100, Jerome Powell, United States, STOXX 600, United Utilities Group PLC, Zalando SE, thyssenkrupp AG, ams AG, Signature Aviation Ltd, Blackstone Inc, World Economy, Europe Economy, Markets, Europe Markets, source:tagname:CNBC Europe Source                                                                                                                                                                                                                                                                                                                                                                               |\"<div class=\"\"group\"\"><p>LONDON — European stocks closed higher on Thursday as traders reacted positively to comments from the U.S. Federal Reserve that it will continue to support the economy.</p></div>                                                                                                                                              |LONDON — European stocks closed higher on Thursday as traders reacted positively to comments from the U.S. Federal Reserve that it will continue to support the economy.                                                                                                                                                                                                                                                                                                                                                                                                                                                                                                                                                                                                                                                                                                                                                                                                                                                                                                                                                                                                                                                                                                                                                                                                                                                                                                                                                                                                                                                                                                                                                                                                          |\n",
            "|Fewer investors have a 'fear of missing out,' so it may be time to buckle up, market bull suggests                                                              |\"Oppenheimer Asset Management's John Stoltzfus suggests investors may want to fasten their seat belts.The long-time bull expects a wave of near-term volatility to pressure stocks. He's blaming uncertainty surrounding this week's Federal Reserve decision on interest rates, another big batch of second quarter earnings results and a fresh round of U.S.-China trade talks.\"\"Any kind of disappointment in a sense                                                                                                                                                                                                                                                                                                                                                                                                                                                                                                                                                                                                                                                                                                                                                                                                                                                                                                                                                                                                                                                                                                                                                                                                                                                                                                                                                         | okay                                                                                                                                                                                                                                                                                                                                                                                                                                                                                                                                                                                                                                                                                                          |\"\" the firm's chief investment strategist told CNBC's \"\"Futures Now\"\" last Thursday.With the fear of missing out gripping fewer investors                                                                                                                                                                                                                |\"Oppenheimer Asset Management's John Stoltzfus suggests investors may want to fasten their seat belts.The long-time bull expects a wave of near-term volatility to pressure stocks. He's blaming uncertainty surrounding this week's Federal Reserve decision on interest rates, another big batch of second quarter earnings results and a fresh round of U.S.-China trade talks.\"\"Any kind of disappointment in a sense                                                                                                                                                                                                                                                                                                                                                                                                                                                                                                                                                                                                                                                                                                                                                                                                                                                                                                                                                                                                                                                                                                                                                                                                                                                                                                                                                         |\n",
            "|Morgan Stanley Tries to Stave Off Ratings Cut                                                                                                                   |James Gorman, Morgan Stanley’s chief executive, has been in discussions with Moody’s in an attempt to maintain its credit ratings and stave off a downgrade that could diminish the bank’s ability to buy the rest of Citigroup brokerage Smith Barney, according to people familiar with the matter.                                                                                                                                                                                                                                                                                                                                                                                                                                                                                                                                                                                                                                                                                                                                                                                                                                                                                                                                                                                                                                                                                                                                                                                                                                                                                                                                                                                                                                                                             |cnbc, Articles, Morgan Stanley, Goldman Sachs Group Inc, Citigroup Inc, Bank of America Corp, Business News, Economy, World Economy, Europe News, source:tagname:Financial Times                                                                                                                                                                                                                                                                                                                                                                                                                                                                                                                               |\"<div class=\"\"group\"\"><p>James Gorman                                                                                                                                                                                                                                                                                                                    |James Gorman, Morgan Stanley’s chief executive, has been in discussions with Moody’s in an attempt to maintain its credit ratings and stave off a downgrade that could diminish the bank’s ability to buy the rest of Citigroup brokerage Smith Barney, according to people familiar with the matter.                                                                                                                                                                                                                                                                                                                                                                                                                                                                                                                                                                                                                                                                                                                                                                                                                                                                                                                                                                                                                                                                                                                                                                                                                                                                                                                                                                                                                                                                             |\n",
            "|Consultant to 'Vampire Squid of Expert Network Firms' Questioned by FBI                                                                                         |\"We know that one of the principal focuses of the government in their investigation into insider trading in general—and into hedge funds in particular—are the so-called \"\"expert-network\"\" firms.\"                                                                                                                                                                                                                                                                                                                                                                                                                                                                                                                                                                                                                                                                                                                                                                                                                                                                                                                                                                                                                                                                                                                                                                                                                                                                                                                                                                                                                                                                                                                                                                               |cnbc, Articles, CNBC EVENTS, NetNet, source:tagname:CNBC US Source                                                                                                                                                                                                                                                                                                                                                                                                                                                                                                                                                                                                                                             |\"<div class=\"\"group\"\"><p>We know that one of the principal focuses of the government in their investigation into insider trading in general—and into hedge funds in particular—are the so-called \"\"expert-network\"\" firms.</p></div>                                                                                                                     |\"We know that one of the principal focuses of the government in their investigation into insider trading in general—and into hedge funds in particular—are the so-called \"\"expert-network\"\" firms.\"                                                                                                                                                                                                                                                                                                                                                                                                                                                                                                                                                                                                                                                                                                                                                                                                                                                                                                                                                                                                                                                                                                                                                                                                                                                                                                                                                                                                                                                                                                                                                                               |\n",
            "|Average tax refunds are down 8.4% in the wake of Trump tax cuts                                                                                                 |The first U.S. tax filing season under the overhaul that President Donald Trump signed into law at the end of 2017 got off to a slow start in the first week, with data released on Friday showing a significant drop in returns and refunds.According to the Internal Revenue Service, the total number of returns received in the week ending Feb. 1, 16.04 million, was down 12.4 percent from the week that ended on Feb. 2, 2018. Only 13.31 million returns were processed, down 25.8 percent from the year before. The average refund of $1,865 was 8.4 percent smaller than the average refund in the period last year.                                                                                                                                                                                                                                                                                                                                                                                                                                                                                                                                                                                                                                                                                                                                                                                                                                                                                                                                                                                                                                                                                                                                                   |cnbc, Articles, Tax planning, Politics, Personal finance, Government taxation and revenue, Personal Finance, US: News, Taxes, Investing, Tax Planning, source:tagname:Reuters                                                                                                                                                                                                                                                                                                                                                                                                                                                                                                                                  |\"<div class=\"\"group\"\"><p>The first U.S. tax filing season under the overhaul that President Donald Trump signed into law at the end of 2017 got off to a slow start in the first week                                                                                                                                                                    |The first U.S. tax filing season under the overhaul that President Donald Trump signed into law at the end of 2017 got off to a slow start in the first week, with data released on Friday showing a significant drop in returns and refunds.According to the Internal Revenue Service, the total number of returns received in the week ending Feb. 1, 16.04 million, was down 12.4 percent from the week that ended on Feb. 2, 2018. Only 13.31 million returns were processed, down 25.8 percent from the year before. The average refund of $1,865 was 8.4 percent smaller than the average refund in the period last year.                                                                                                                                                                                                                                                                                                                                                                                                                                                                                                                                                                                                                                                                                                                                                                                                                                                                                                                                                                                                                                                                                                                                                   |\n",
            "|Watch: Oaktree Capital's Howard Marks speak from the Context Summit                                                                                             |[The stream is slated to start at 3:45 p.m. ET. Please refresh the page if you do not see a player above at that time.]Oaktree Capital Management co-chairman Howard Marks on Wednesday will speak from the Context Summits Miami conference in Miami Beach, Florida.Marks is known for his prescient investment memos, which warned about the financial crisis and the dot-com bubble implosion. During the 2007-09 market meltdown, the longtime investor established an $11 billion distressed-debt fund aimed at buying the financial instruments of companies near or currently in bankruptcy, helping Marks deliver some of the best returns on Wall Street at the time.Oaktree Capital had $124 billion of assets under management as of September 2018, according to its website.Subscribe to CNBC on YouTube.                                                                                                                                                                                                                                                                                                                                                                                                                                                                                                                                                                                                                                                                                                                                                                                                                                                                                                                                                            |cnbc, Articles, Oaktree Capital Group LLC, Investment strategy, Markets, Investing, Investment Strategy, Investment Strategies, US: News, source:tagname:CNBC US Source                                                                                                                                                                                                                                                                                                                                                                                                                                                                                                                                        |\"<div class=\"\"group\"\"><p>[The stream is slated to start at 3:45 p.m. ET. Please refresh the page if you do not see a player above at that time.]</p><p>Oaktree Capital Management co-chairman Howard Marks on Wednesday will speak from the Context Summits Miami conference in Miami Beach                                                              |[The stream is slated to start at 3:45 p.m. ET. Please refresh the page if you do not see a player above at that time.]Oaktree Capital Management co-chairman Howard Marks on Wednesday will speak from the Context Summits Miami conference in Miami Beach, Florida.Marks is known for his prescient investment memos, which warned about the financial crisis and the dot-com bubble implosion. During the 2007-09 market meltdown, the longtime investor established an $11 billion distressed-debt fund aimed at buying the financial instruments of companies near or currently in bankruptcy, helping Marks deliver some of the best returns on Wall Street at the time.Oaktree Capital had $124 billion of assets under management as of September 2018, according to its website.Subscribe to CNBC on YouTube.                                                                                                                                                                                                                                                                                                                                                                                                                                                                                                                                                                                                                                                                                                                                                                                                                                                                                                                                                            |\n",
            "|Guggenheim says solar sell-off is a buying opportunity and has an unusual favorite stock                                                                        |\"Renewable energy is poised to play an ever greater role as the world shifts away from fossil fuels, and the recent pullback in clean tech stocks presents a buying opportunity, Guggenheim said while initiating coverage on solar stocks.\"\"We believe that the shift to distributed energy generation and storage is a large                                                                                                                                                                                                                                                                                                                                                                                                                                                                                                                                                                                                                                                                                                                                                                                                                                                                                                                                                                                                                                                                                                                                                                                                                                                                                                                                                                                                                                                    | sustained phenomenon                                                                                                                                                                                                                                                                                                                                                                                                                                                                                                                                                                                                                                                                                          |\"\" the firm wrote in a note to clients. \"\"We expect distributed solar installations to continue growing robustly                                                                                                                                                                                                                                         |\"Renewable energy is poised to play an ever greater role as the world shifts away from fossil fuels, and the recent pullback in clean tech stocks presents a buying opportunity, Guggenheim said while initiating coverage on solar stocks.\"\"We believe that the shift to distributed energy generation and storage is a large                                                                                                                                                                                                                                                                                                                                                                                                                                                                                                                                                                                                                                                                                                                                                                                                                                                                                                                                                                                                                                                                                                                                                                                                                                                                                                                                                                                                                                                    |\n",
            "|Eni Pays Dominion $4.76 Billion for U.S. Gulf Assets                                                                                                            |\"Italian oil and gas company Eni has bought upstream assets in the Gulf of Mexico from Dominion Resources for $4.757 billion, Eni said in a statement on Monday.Eni said the acquisition would boost its production in the area to more than 110,000 barrels of oil equivalent per day (boepd) in the second half of 2007. In the period from 2007-2010, production from the new assets would average more than 75,000 boepd.Eni, Europe's fourth-biggest oil company by market value, said included in the purchase were exploration assets for $680 million and said around 60% of he overall leases were operated.\"\"Through this transaction we reach the necessary critical mass for our activities in the Gulf of Mexico                                                                                                                                                                                                                                                                                                                                                                                                                                                                                                                                                                                                                                                                                                                                                                                                                                                                                                                                                                                                                                                     |\"\" Eni Chief Executive Officer Paolo Scaroni said in the statement.Eni is one of the few world oil majors which has been able to largely avoid a decline in output as it adds production both through acquisitions and as new fields come onstream.It has made several large acquisitions recently.Earlier this month it won with Italian utility Enel a $5.8 billion auction for assets formerly held by bankrupt oil firm YUKOS but they handed the bulk of the prize to Russian gas monopoly Gazprom.Eni agreed to buy a package of Congolese assets from France's Maurel et Prom for $1.4 billion earlier this year and in March struck a deal to split a stake in one of those fields with Burren Energy.\"|https://sc.cnbcfm.com/applications/cnbc.com/staticcontent/img/cnbc_logo.gif?v=1524171804&w=720&h=405                                                                                                                                                                                                                                                     |\"Italian oil and gas company Eni has bought upstream assets in the Gulf of Mexico from Dominion Resources for $4.757 billion, Eni said in a statement on Monday.Eni said the acquisition would boost its production in the area to more than 110,000 barrels of oil equivalent per day (boepd) in the second half of 2007. In the period from 2007-2010, production from the new assets would average more than 75,000 boepd.Eni, Europe's fourth-biggest oil company by market value, said included in the purchase were exploration assets for $680 million and said around 60% of he overall leases were operated.\"\"Through this transaction we reach the necessary critical mass for our activities in the Gulf of Mexico                                                                                                                                                                                                                                                                                                                                                                                                                                                                                                                                                                                                                                                                                                                                                                                                                                                                                                                                                                                                                                                     |\n",
            "|Strategist Paulsen: Market bottom is not in                                                                                                                     |\"Jim Paulsen, chief investment strategist of Wells Capital Management, believes the stock market sell-off is not over.  \"\"Finding a bottom in the stock market may well be a fool's game                                                                                                                                                                                                                                                                                                                                                                                                                                                                                                                                                                                                                                                                                                                                                                                                                                                                                                                                                                                                                                                                                                                                                                                                                                                                                                                                                                                                                                                                                                                                                                                          |  but that does not stop us fools from trying                                                                                                                                                                                                                                                                                                                                                                                                                                                                                                                                                                                                                                                                  | a quick  recovery back near all-time highs would leave the stock market  with many of the same vulnerabilities that started the  correction. Consequently                                                                                                                                                                                               |\"Jim Paulsen, chief investment strategist of Wells Capital Management, believes the stock market sell-off is not over.  \"\"Finding a bottom in the stock market may well be a fool's game                                                                                                                                                                                                                                                                                                                                                                                                                                                                                                                                                                                                                                                                                                                                                                                                                                                                                                                                                                                                                                                                                                                                                                                                                                                                                                                                                                                                                                                                                                                                                                                          |\n",
            "|CDC says 28 blood clot cases, 3 deaths may be linked to J&J Covid vaccine                                                                                       |\"CDC scientists say their investigation into a rare blood clotting issue linked to the Johnson & Johnson Covid-19 vaccine has identified 28 people who developed the potentially life threatening blockages — three of whom have died.The Food and Drug Administration and Centers for Disease Control and Prevention on April 13 asked states to temporarily halt using J&J's vaccine \"\"out of an abundance of caution\"\" while it investigated six women                                                                                                                                                                                                                                                                                                                                                                                                                                                                                                                                                                                                                                                                                                                                                                                                                                                                                                                                                                                                                                                                                                                                                                                                                                                                                                                         | ages 18 to 48                                                                                                                                                                                                                                                                                                                                                                                                                                                                                                                                                                                                                                                                                                 | or CVST                                                                                                                                                                                                                                                                                                                                                 |\"CDC scientists say their investigation into a rare blood clotting issue linked to the Johnson & Johnson Covid-19 vaccine has identified 28 people who developed the potentially life threatening blockages — three of whom have died.The Food and Drug Administration and Centers for Disease Control and Prevention on April 13 asked states to temporarily halt using J&J's vaccine \"\"out of an abundance of caution\"\" while it investigated six women                                                                                                                                                                                                                                                                                                                                                                                                                                                                                                                                                                                                                                                                                                                                                                                                                                                                                                                                                                                                                                                                                                                                                                                                                                                                                                                         |\n",
            "|The world’s most powerful women are …                                                                                                                           |\"Forbes has \"\"leaned in                                                                                                                                                                                                                                                                                                                                                                                                                                                                                                                                                                                                                                                                                                                                                                                                                                                                                                                                                                                                                                                                                                                                                                                                                                                                                                                                                                                                                                                                                                                                                                                                                                                                                                                                                           |\"\" releasing its annual list of the world's  100 most powerful women                                                                                                                                                                                                                                                                                                                                                                                                                                                                                                                                                                                                                                           | dynamic look at power                                                                                                                                                                                                                                                                                                                                   |\"Forbes has \"\"leaned in                                                                                                                                                                                                                                                                                                                                                                                                                                                                                                                                                                                                                                                                                                                                                                                                                                                                                                                                                                                                                                                                                                                                                                                                                                                                                                                                                                                                                                                                                                                                                                                                                                                                                                                                                           |\n",
            "|Banks within Wal-Mart stores collecting high fees                                                                                                               |\"Wal-Mart has a reputation for offering shoppers low  prices, but a report in The Wall Street Journal found  that the independent banks it houses inside its stores levy some  of the highest bank fees, largely as a result of overdraft charges.  After analyzing federal filings, the publication found that last  year, the five banks that have the largest presence in the  discounter's stores were among the top 10 domestic banks in  terms of income from fees as a percentage of deposits.  Those banks are Fort Sill National Bank, First Convenience Bank,  Academy Bank, Woodforest National Bank and City National Bank and  Trust Company.  Overdraft fees can be a big issue for people struggling financially, as accruing them over time makes it makes it difficult to get out of debt.  A Wal-Mart spokesperson told the Journal it plays no part  in operating the banks, but that it ensures \"\"they're in line with  Wal-Mart's philosophy of saving customers money.\"\"To read the full story                                                                                                                                                                                                                                                                                                                                                                                                                                                                                                                                                                                                                                                                                                                                                              | click here.\"                                                                                                                                                                                                                                                                                                                                                                                                                                                                                                                                                                                                                                                                                                  |https://image.cnbcfm.com/api/v1/image/101664136-106894463.jpg?v=1532564490                                                                                                                                                                                                                                                                               |\"Wal-Mart has a reputation for offering shoppers low  prices, but a report in The Wall Street Journal found  that the independent banks it houses inside its stores levy some  of the highest bank fees, largely as a result of overdraft charges.  After analyzing federal filings, the publication found that last  year, the five banks that have the largest presence in the  discounter's stores were among the top 10 domestic banks in  terms of income from fees as a percentage of deposits.  Those banks are Fort Sill National Bank, First Convenience Bank,  Academy Bank, Woodforest National Bank and City National Bank and  Trust Company.  Overdraft fees can be a big issue for people struggling financially, as accruing them over time makes it makes it difficult to get out of debt.  A Wal-Mart spokesperson told the Journal it plays no part  in operating the banks, but that it ensures \"\"they're in line with  Wal-Mart's philosophy of saving customers money.\"\"To read the full story                                                                                                                                                                                                                                                                                                                                                                                                                                                                                                                                                                                                                                                                                                                                                              |\n",
            "+----------------------------------------------------------------------------------------------------------------------------------------------------------------+----------------------------------------------------------------------------------------------------------------------------------------------------------------------------------------------------------------------------------------------------------------------------------------------------------------------------------------------------------------------------------------------------------------------------------------------------------------------------------------------------------------------------------------------------------------------------------------------------------------------------------------------------------------------------------------------------------------------------------------------------------------------------------------------------------------------------------------------------------------------------------------------------------------------------------------------------------------------------------------------------------------------------------------------------------------------------------------------------------------------------------------------------------------------------------------------------------------------------------------------------------------------------------------------------------------------------------------------------------------------------------------------------------------------------------------------------------------------------------------------------------------------------------------------------------------------------------------------------------------------------------------------------------------------------------------------------------------------------------------------------------------------------------+---------------------------------------------------------------------------------------------------------------------------------------------------------------------------------------------------------------------------------------------------------------------------------------------------------------------------------------------------------------------------------------------------------------------------------------------------------------------------------------------------------------------------------------------------------------------------------------------------------------------------------------------------------------------------------------------------------------+---------------------------------------------------------------------------------------------------------------------------------------------------------------------------------------------------------------------------------------------------------------------------------------------------------------------------------------------------------+----------------------------------------------------------------------------------------------------------------------------------------------------------------------------------------------------------------------------------------------------------------------------------------------------------------------------------------------------------------------------------------------------------------------------------------------------------------------------------------------------------------------------------------------------------------------------------------------------------------------------------------------------------------------------------------------------------------------------------------------------------------------------------------------------------------------------------------------------------------------------------------------------------------------------------------------------------------------------------------------------------------------------------------------------------------------------------------------------------------------------------------------------------------------------------------------------------------------------------------------------------------------------------------------------------------------------------------------------------------------------------------------------------------------------------------------------------------------------------------------------------------------------------------------------------------------------------------------------------------------------------------------------------------------------------------------------------------------------------------------------------------------------------+\n",
            "only showing top 20 rows\n",
            "\n"
          ]
        }
      ],
      "source": [
        "df=df.withColumn(\n",
        "    \"description\",\n",
        "    when(df.short_description.isNotNull(), df.short_description)\n",
        "    .when(df.keywords.isNotNull(), df.keywords)\n",
        "    .when(df.title.isNotNull(), df.title)\n",
        "    .when(df.raw_description.isNotNull(), df.raw_description)\n",
        "    .otherwise(df.description)\n",
        ")\n",
        "\n",
        "df.show(truncate=False)"
      ]
    },
    {
      "cell_type": "markdown",
      "metadata": {
        "id": "_-6YCwVj3-yf"
      },
      "source": [
        "Let us  extract only the relevant column, which is the description.\n",
        "\n",
        "Also, as we know that all these news are financial news we will add a new colum called category with as value, BUSINESS & FINANCE, for all these instances"
      ]
    },
    {
      "cell_type": "code",
      "execution_count": 44,
      "metadata": {
        "colab": {
          "base_uri": "https://localhost:8080/"
        },
        "id": "UREE96zw3-yg",
        "outputId": "cc8647fa-b67c-402e-f1da-5a4b7c65d3dd"
      },
      "outputs": [
        {
          "name": "stdout",
          "output_type": "stream",
          "text": [
            "+--------------------+------------------+\n",
            "|         description|          category|\n",
            "+--------------------+------------------+\n",
            "|This is the daily...|BUSINESS & FINANCE|\n",
            "|\"This commentary ...|BUSINESS & FINANCE|\n",
            "|Articles, Politic...|BUSINESS & FINANCE|\n",
            "|\"In spring, ambit...|BUSINESS & FINANCE|\n",
            "|The US government...|BUSINESS & FINANCE|\n",
            "|cnbc, Articles, G...|BUSINESS & FINANCE|\n",
            "|\"Chevron Chief Ex...|BUSINESS & FINANCE|\n",
            "|Founders: Eran Ba...|BUSINESS & FINANCE|\n",
            "|LONDON — European...|BUSINESS & FINANCE|\n",
            "|\"Oppenheimer Asse...|BUSINESS & FINANCE|\n",
            "|James Gorman, Mor...|BUSINESS & FINANCE|\n",
            "|\"We know that one...|BUSINESS & FINANCE|\n",
            "|The first U.S. ta...|BUSINESS & FINANCE|\n",
            "|[The stream is sl...|BUSINESS & FINANCE|\n",
            "|\"Renewable energy...|BUSINESS & FINANCE|\n",
            "|\"Italian oil and ...|BUSINESS & FINANCE|\n",
            "|\"Jim Paulsen, chi...|BUSINESS & FINANCE|\n",
            "|\"CDC scientists s...|BUSINESS & FINANCE|\n",
            "|\"Forbes has \"\"lea...|BUSINESS & FINANCE|\n",
            "|\"Wal-Mart has a r...|BUSINESS & FINANCE|\n",
            "+--------------------+------------------+\n",
            "only showing top 20 rows\n",
            "\n",
            "root\n",
            " |-- description: string (nullable = true)\n",
            " |-- category: string (nullable = false)\n",
            "\n"
          ]
        },
        {
          "data": {
            "text/plain": [
              "876"
            ]
          },
          "execution_count": 44,
          "metadata": {},
          "output_type": "execute_result"
        }
      ],
      "source": [
        "df=df.select('description').withColumn('category', lit('BUSINESS & FINANCE'))\n",
        "df.show()\n",
        "df.printSchema()\n",
        "df.count()"
      ]
    },
    {
      "cell_type": "markdown",
      "metadata": {
        "id": "VmFn2Eeb3-yh"
      },
      "source": [
        "#### E- Summary\n",
        "\n",
        "Our preprocessed data now contains 876 rows, and 2 colums which are description and category.\n",
        "\n",
        "Let us copy it into anoter variable."
      ]
    },
    {
      "cell_type": "code",
      "execution_count": 45,
      "metadata": {
        "colab": {
          "base_uri": "https://localhost:8080/"
        },
        "id": "VCj5wr98EqUA",
        "outputId": "1070fa87-94b8-4f54-89c3-43a6e7d6255a"
      },
      "outputs": [
        {
          "name": "stdout",
          "output_type": "stream",
          "text": [
            "+--------------------+------------------+\n",
            "|         description|          category|\n",
            "+--------------------+------------------+\n",
            "|This is the daily...|BUSINESS & FINANCE|\n",
            "|\"This commentary ...|BUSINESS & FINANCE|\n",
            "|Articles, Politic...|BUSINESS & FINANCE|\n",
            "|\"In spring, ambit...|BUSINESS & FINANCE|\n",
            "|The US government...|BUSINESS & FINANCE|\n",
            "|cnbc, Articles, G...|BUSINESS & FINANCE|\n",
            "|\"Chevron Chief Ex...|BUSINESS & FINANCE|\n",
            "|Founders: Eran Ba...|BUSINESS & FINANCE|\n",
            "|LONDON — European...|BUSINESS & FINANCE|\n",
            "|\"Oppenheimer Asse...|BUSINESS & FINANCE|\n",
            "|James Gorman, Mor...|BUSINESS & FINANCE|\n",
            "|\"We know that one...|BUSINESS & FINANCE|\n",
            "|The first U.S. ta...|BUSINESS & FINANCE|\n",
            "|[The stream is sl...|BUSINESS & FINANCE|\n",
            "|\"Renewable energy...|BUSINESS & FINANCE|\n",
            "|\"Italian oil and ...|BUSINESS & FINANCE|\n",
            "|\"Jim Paulsen, chi...|BUSINESS & FINANCE|\n",
            "|\"CDC scientists s...|BUSINESS & FINANCE|\n",
            "|\"Forbes has \"\"lea...|BUSINESS & FINANCE|\n",
            "|\"Wal-Mart has a r...|BUSINESS & FINANCE|\n",
            "+--------------------+------------------+\n",
            "only showing top 20 rows\n",
            "\n",
            "root\n",
            " |-- description: string (nullable = true)\n",
            " |-- category: string (nullable = false)\n",
            "\n"
          ]
        }
      ],
      "source": [
        "# Make a copy\n",
        "df4=df\n",
        "df4.show()\n",
        "df4.printSchema()"
      ]
    },
    {
      "cell_type": "markdown",
      "metadata": {
        "id": "ZLFdsnhxOOXh"
      },
      "source": [
        "### Dataset 5: Indian financial news articles dataset\n",
        "\n",
        "[Link to the dataset (Kaggle)](https://www.kaggle.com/datasets/hkapoor/indian-financial-news-articles-20032020)"
      ]
    },
    {
      "cell_type": "markdown",
      "metadata": {
        "id": "uV1N2yVa79Fw"
      },
      "source": [
        "#### A- Data exploration\n",
        "\n",
        "This is a csv file with a header and with values delimited by comas(,)."
      ]
    },
    {
      "cell_type": "code",
      "execution_count": 46,
      "metadata": {
        "colab": {
          "base_uri": "https://localhost:8080/"
        },
        "id": "ey8SJ_fl79F4",
        "outputId": "e1719f0e-44d2-4891-8fb1-a5d73cf4ebd6"
      },
      "outputs": [
        {
          "name": "stdout",
          "output_type": "stream",
          "text": [
            "52513 rows at all\n",
            "root\n",
            " |-- _c0: string (nullable = true)\n",
            " |-- Date: string (nullable = true)\n",
            " |-- Title: string (nullable = true)\n",
            " |-- Description: string (nullable = true)\n",
            "\n",
            "+---+--------------------+--------------------+--------------------+\n",
            "|_c0|                Date|               Title|         Description|\n",
            "+---+--------------------+--------------------+--------------------+\n",
            "|  0|May 26, 2020, Tue...|ATMs to become vi...|Close to 14.6 per...|\n",
            "|  1|May 26, 2020, Tue...|IDFC First Bank s...|V Vaidyanathan, m...|\n",
            "|  2|May 25, 2020, Monday|Huge scam in YES ...|Rana Kapoor's wif...|\n",
            "|  3|May 24, 2020, Sunday|Bank of Maharasht...|The bank said it ...|\n",
            "|  4|May 23, 2020, Sat...|DCB Bank's profit...|Net profit for th...|\n",
            "|  5|May 23, 2020, Sat...|Bank of Baroda to...|Under the scheme,...|\n",
            "|  6|May 22, 2020, Friday|Retail, MSME loan...|HDFC Bank cuts ba...|\n",
            "|  7|May 22, 2020, Friday|RBI forecasts eco...|\"The six-member M...|\n",
            "|  8|May 22, 2020, Friday|RBI extends loan ...|The central bank ...|\n",
            "|  9|May 22, 2020, Friday|Govt seeks to rai...|Two new series wi...|\n",
            "| 10|May 22, 2020, Friday|Covid-19 crisis: ...|Credit costs coul...|\n",
            "| 11|May 22, 2020, Friday|Lockdown 4.0: Nor...|Enquiries for fre...|\n",
            "| 12|May 21, 2020, Thu...|Covid-19: Banking...|While slippages f...|\n",
            "| 13|May 21, 2020, Thu...|FM Sitharaman to ...|The meeting was e...|\n",
            "| 14|May 21, 2020, Thu...|It will be a long...|In a Q&A, the len...|\n",
            "| 15|May 21, 2020, Thu...|Bank credit growt...|Loans sanctioned ...|\n",
            "| 16|May 21, 2020, Thu...|Covid-19 crisis: ...|Senior bank execu...|\n",
            "| 17|May 21, 2020, Thu...|It may be time to...|It may be time to...|\n",
            "| 18|May 20, 2020, Wed...|Govt to use RBI m...|NBFCs cry foul as...|\n",
            "| 19|May 20, 2020, Wed...|RBI may need to s...|The only way to b...|\n",
            "+---+--------------------+--------------------+--------------------+\n",
            "only showing top 20 rows\n",
            "\n"
          ]
        },
        {
          "name": "stderr",
          "output_type": "stream",
          "text": [
            "24/06/26 04:54:57 WARN CSVHeaderChecker: CSV header does not conform to the schema.\n",
            " Header: , Date, Title, Description\n",
            " Schema: _c0, Date, Title, Description\n",
            "Expected: _c0 but found: \n",
            "CSV file: file:///home/starias/Big-Data-News-Recommender/notebooks/data_preprocessing/input/input5.csv\n"
          ]
        }
      ],
      "source": [
        "# Reading the file to get a dataframe\n",
        "df=spark.read.csv('input/input5.csv',header=True,inferSchema=True)\n",
        "\n",
        "# Print the number of records\n",
        "print(df.count(),'rows at all')\n",
        "\n",
        "# Print the schema of the data\n",
        "df.printSchema()\n",
        "\n",
        "# Show the data (first 20 rows)\n",
        "df.show()"
      ]
    },
    {
      "cell_type": "markdown",
      "metadata": {
        "id": "ET4a8mvR79F4"
      },
      "source": [
        "We remark that the dataset contains **4** fields and **52513** instances.\n",
        "\n",
        "The fiedls are the following:\n",
        "\n",
        "- ` _c0`: The identifier of the new.\n",
        "- `Date`: The publication date of the new\n",
        "- ` Title`: The title of the new.\n",
        "-` Description`: The description of the new"
      ]
    },
    {
      "cell_type": "markdown",
      "metadata": {
        "id": "N2FCUmA29iY9"
      },
      "source": [
        "#### B- Features selection\n",
        "\n",
        "Among the 4 columns of our dataset, only 2 are relative to our task. There are `Title`,  and `description`\n",
        "\n",
        "Let us display the data by focussing more on the content of these columns."
      ]
    },
    {
      "cell_type": "code",
      "execution_count": 47,
      "metadata": {
        "colab": {
          "base_uri": "https://localhost:8080/"
        },
        "id": "9PGLXW1t9iZJ",
        "outputId": "ade0093d-092d-44ac-886c-90a3f871cbfc",
        "scrolled": true
      },
      "outputs": [
        {
          "name": "stdout",
          "output_type": "stream",
          "text": [
            "+---------------------------------------------------------------------------+-------------------------------------------------------------------------------------------------------------------------------------+\n",
            "|title                                                                      |description                                                                                                                          |\n",
            "+---------------------------------------------------------------------------+-------------------------------------------------------------------------------------------------------------------------------------+\n",
            "|ATMs to become virtual bank branches, accept deposits with instant credit  |Close to 14.6 per cent (or 35,000) of the 240,000 ATMs in India are new-age recyclers, even though they have been around for only ...|\n",
            "|IDFC First Bank seniors to forgo 65% of bonus amid Covid-19 crisis         |V Vaidyanathan, managing director and chief executive, will take 30 per cent cut in his compensation, including fixed ...            |\n",
            "|Huge scam in YES Bank for many years, says Enforcement Directorate         |Rana Kapoor's wife also charged with abetting crime                                                                                  |\n",
            "|Bank of Maharashtra sanctioned Rs 2,789 cr in loans to MSMEs in 3 months   |The bank said it was now gearing up to extend the stimulus package announced by Finance Minister Nirmala Sitharaman to restart ...   |\n",
            "|DCB Bank's profit before tax declines 37.6% to Rs 93.84 crore in Q4        |Net profit for the financial year ended March 31, 2020 (FY20), stood at Rs 337.25 crore, up marginally from Rs 325.37 crore in ...   |\n",
            "|Bank of Baroda to advance Rs 12,000 crore to MSMEs under govt scheme       |Under the scheme, the government will offer 100 per cent guarantee on loans.                                                         |\n",
            "|Retail, MSME loans to get cheaper as RBI cuts repo rate in surprise action |HDFC Bank cuts base rate by 55 bps; SBI calls ALCO meeting to take call                                                              |\n",
            "|RBI forecasts economic contraction, announces a sharp 40-bp rate cut       |\"The six-member MPC also kept policy stance unchanged at 'accommodative' for \"\"as long as necessary\"\" to revive growth\"              |\n",
            "|RBI extends loan moratorium till Aug 31, silent on one-time restructuring  |The central bank has increased group exposure limits of lenders from 25% to 30%                                                      |\n",
            "|Govt seeks to raise Rs 14,000 cr from second tranche of Bharat Bond ETF    |Two new series will have maturities of April 2025 and April 2031.                                                                    |\n",
            "|Covid-19 crisis: Slippages may jump to Rs 5.5 trillion, says India Ratings |Credit costs could touch Rs 2.7 trillion                                                                                             |\n",
            "|Lockdown 4.0: Normalcy returning for shadow lenders, albeit at a slow pace |Enquiries for fresh loans see uptick                                                                                                 |\n",
            "|Covid-19: Banking slippages may rise by Rs 5.5 trn this fiscal, says report|While slippages from the corporate sector may rise by Rs 3.4 trillion, for non-corporate segments it may increase by Rs 2.1 ...      |\n",
            "|FM Sitharaman to review banking situation, credit offtake with PSB chiefs  |The meeting was earlier scheduled on May 11, but due to the stimulus package announcements, it was deferred, they added              |\n",
            "|It will be a long road to recovery from Covid-19: Axis Bank chief          |In a Q&A, the lender's MD & CEO, Amitabh Chaudhry, also dwells on the stimulus package announced by the government, and risk ...     |\n",
            "|Bank credit growth slowed in Dec quarter on muted industrial demand        |Loans sanctioned by public sector banks (PSBs) at the end of May 8 stood at Rs 5.95 trillion                                         |\n",
            "|Covid-19 crisis: Banks seek relaxed NPA norms, moratorium extension        |Senior bank executives said the Indian Banks' Association (IBA) has already approached the Reserve Bank of India with a plea for ... |\n",
            "|It may be time to change the way UCBs and NBFCs raise retail deposits      |It may be time to link the higher deposit insurance cover and the way co-operative banks and select non-banks raise retail ...       |\n",
            "|Govt to use RBI money to support struggling NBFCs for just three months    |NBFCs cry foul as they were expecting a two-three year support                                                                       |\n",
            "|RBI may need to slash rates alongside providing fiscal stimulus: Economists|The only way to boost demand may be lowering interest rates to boost consumption, analysts said                                      |\n",
            "|RBI refuses a dozen licences to NBFCs with investments from Mauritius      |PE, VC funds domiciled in the island nation on the radar                                                                             |\n",
            "|PSBs report sharp rise in deposits thanks to YES Bank, Franklin fiasco     |Last financial year saw a series of banks failures starting with Punjab & Maharashtra Co-operative Bank and culminated in near ...   |\n",
            "|Moratorium to strain NBFC liquidity even further, bad debts to rise        |These firms operate with very little short-term liquidity, which can become even more strained as customers start defaulting even ...|\n",
            "|PSBs sanctioned loans worth Rs 6.45 trn in lockdown between Mar 1-May 15   |State-owned banks launched an emergency credit line to provide funds to its existing MSME and corporate borrowers in the last ...    |\n",
            "|All for liquidity: Watch every rupee, chase dues, and refinance debt       |Refinancing high-cost debt into low-cost debt is possible, thanks to the RBI's TLTROs                                                |\n",
            "+---------------------------------------------------------------------------+-------------------------------------------------------------------------------------------------------------------------------------+\n",
            "only showing top 25 rows\n",
            "\n"
          ]
        }
      ],
      "source": [
        "df.select(['title','description']).show(25,truncate=False)"
      ]
    },
    {
      "cell_type": "markdown",
      "metadata": {
        "id": "lIdqgdkR9iZJ"
      },
      "source": [
        "By looking at the table, we can select both, with more interest to the column `description`.\n",
        "\n",
        "Let us extract only them."
      ]
    },
    {
      "cell_type": "code",
      "execution_count": 48,
      "metadata": {
        "colab": {
          "base_uri": "https://localhost:8080/"
        },
        "id": "l3_k9n-H9iZJ",
        "outputId": "c1b0dec9-21bb-4a4e-c2b6-fddbc06ef992"
      },
      "outputs": [
        {
          "name": "stdout",
          "output_type": "stream",
          "text": [
            "root\n",
            " |-- description: string (nullable = true)\n",
            " |-- title: string (nullable = true)\n",
            "\n"
          ]
        }
      ],
      "source": [
        "# Features selection\n",
        "df=df.select(['description','title'])\n",
        "df.printSchema()"
      ]
    },
    {
      "cell_type": "markdown",
      "metadata": {
        "id": "hs-sAcoa9iZK"
      },
      "source": [
        "Now the schema of our data looks like:\n",
        "\n",
        "- `description`: A description of the news\n",
        "- `title`: The title of the news\n",
        "\n",
        "\n",
        "Let us move to the next section, which consists to handle missing values."
      ]
    },
    {
      "cell_type": "markdown",
      "metadata": {
        "id": "YZnLOfUkAow2"
      },
      "source": [
        "#### C- Handling missing values\n",
        "\n",
        "First of all we need to identify the missing values"
      ]
    },
    {
      "cell_type": "code",
      "execution_count": 49,
      "metadata": {
        "colab": {
          "base_uri": "https://localhost:8080/"
        },
        "id": "IZsFwI5MAoxL",
        "outputId": "215c6144-0fd3-444f-b1c4-56805606605a"
      },
      "outputs": [
        {
          "name": "stdout",
          "output_type": "stream",
          "text": [
            "+-----------+-----+\n",
            "|description|title|\n",
            "+-----------+-----+\n",
            "|       NULL| NULL|\n",
            "|       NULL| NULL|\n",
            "|       NULL| NULL|\n",
            "|       NULL| NULL|\n",
            "|       NULL| NULL|\n",
            "|       NULL| NULL|\n",
            "|       NULL| NULL|\n",
            "|       NULL| NULL|\n",
            "|       NULL| NULL|\n",
            "|       NULL| NULL|\n",
            "|       NULL| NULL|\n",
            "|       NULL| NULL|\n",
            "|       NULL| NULL|\n",
            "|       NULL| NULL|\n",
            "|       NULL| NULL|\n",
            "|       NULL| NULL|\n",
            "|       NULL| NULL|\n",
            "|       NULL| NULL|\n",
            "|       NULL| NULL|\n",
            "|       NULL| NULL|\n",
            "+-----------+-----+\n",
            "only showing top 20 rows\n",
            "\n"
          ]
        },
        {
          "data": {
            "text/plain": [
              "3221"
            ]
          },
          "execution_count": 49,
          "metadata": {},
          "output_type": "execute_result"
        }
      ],
      "source": [
        "# Check all NULL  values\n",
        "null_values_df= df.filter((df.description.isNull() )  | (df.title.isNull())  )\n",
        "\n",
        "null_values_df.show()\n",
        "null_values_df.count()"
      ]
    },
    {
      "cell_type": "code",
      "execution_count": 50,
      "metadata": {
        "colab": {
          "base_uri": "https://localhost:8080/"
        },
        "id": "RyS7OtYUAoxM",
        "outputId": "2649da75-af1b-4f3c-e50b-41cec1a4942d"
      },
      "outputs": [
        {
          "name": "stdout",
          "output_type": "stream",
          "text": [
            "+-----------+-----+\n",
            "|description|title|\n",
            "+-----------+-----+\n",
            "|       NULL| NULL|\n",
            "|       NULL| NULL|\n",
            "|       NULL| NULL|\n",
            "|       NULL| NULL|\n",
            "|       NULL| NULL|\n",
            "|       NULL| NULL|\n",
            "|       NULL| NULL|\n",
            "|       NULL| NULL|\n",
            "|       NULL| NULL|\n",
            "|       NULL| NULL|\n",
            "|       NULL| NULL|\n",
            "|       NULL| NULL|\n",
            "|       NULL| NULL|\n",
            "|       NULL| NULL|\n",
            "|       NULL| NULL|\n",
            "|       NULL| NULL|\n",
            "|       NULL| NULL|\n",
            "|       NULL| NULL|\n",
            "|       NULL| NULL|\n",
            "|       NULL| NULL|\n",
            "+-----------+-----+\n",
            "only showing top 20 rows\n",
            "\n"
          ]
        },
        {
          "data": {
            "text/plain": [
              "2504"
            ]
          },
          "execution_count": 50,
          "metadata": {},
          "output_type": "execute_result"
        }
      ],
      "source": [
        "# Check the instances having new values in both our 2 columns\n",
        "null_values_df= df.filter((df.description.isNull() )  & (df.title.isNull())  )\n",
        "\n",
        "null_values_df.show()\n",
        "null_values_df.count()"
      ]
    },
    {
      "cell_type": "markdown",
      "metadata": {
        "id": "iOvwBwahAoxM"
      },
      "source": [
        "Basing on these outputs there are 3221 instances missing values and 2504 instances having NULL values for both `description` and `title` columns\n"
      ]
    },
    {
      "cell_type": "code",
      "execution_count": 51,
      "metadata": {
        "id": "w2L9Hm0rAoxM"
      },
      "outputs": [],
      "source": [
        "df=df.na.drop(how='all')"
      ]
    },
    {
      "cell_type": "code",
      "execution_count": 52,
      "metadata": {
        "colab": {
          "base_uri": "https://localhost:8080/"
        },
        "id": "b92Tl7CEAoxM",
        "outputId": "bec23b5c-72a5-442b-8911-0ced9109b836"
      },
      "outputs": [
        {
          "name": "stdout",
          "output_type": "stream",
          "text": [
            "+-----------+-----+\n",
            "|description|title|\n",
            "+-----------+-----+\n",
            "+-----------+-----+\n",
            "\n"
          ]
        },
        {
          "data": {
            "text/plain": [
              "0"
            ]
          },
          "execution_count": 52,
          "metadata": {},
          "output_type": "execute_result"
        }
      ],
      "source": [
        "# Check the drop\n",
        "null_values_df= df.filter((df.description.isNull() )  & (df.title.isNull()) )\n",
        "null_values_df.show()\n",
        "null_values_df.count()"
      ]
    },
    {
      "cell_type": "code",
      "execution_count": 53,
      "metadata": {
        "colab": {
          "base_uri": "https://localhost:8080/"
        },
        "id": "82uL8VUKAoxM",
        "outputId": "4836b3cc-546d-4ff3-b4cc-c2709cb9746f"
      },
      "outputs": [
        {
          "name": "stdout",
          "output_type": "stream",
          "text": [
            "root\n",
            " |-- description: string (nullable = true)\n",
            " |-- title: string (nullable = true)\n",
            "\n"
          ]
        }
      ],
      "source": [
        "df.printSchema()"
      ]
    },
    {
      "cell_type": "markdown",
      "metadata": {
        "id": "1M0g4lmHASP3"
      },
      "source": [
        "Now the schema of our data looks like:\n",
        "\n",
        "- `description`: A description of the news\n",
        "- `title`: The title of the news\n",
        "\n",
        "\n",
        "Let us move to the next section, which consists to handle missing values."
      ]
    },
    {
      "cell_type": "markdown",
      "metadata": {
        "id": "4YXz-R4fCwMK"
      },
      "source": [
        "#### D- Feature engineering\n",
        "\n",
        "Now that we now that our dataframe doesn't contain any rows with NULL values in all our columns of interest, let us add a new colum to the dataframe, called description, with as value the `description` if not NULL, and the `title` otherwise."
      ]
    },
    {
      "cell_type": "code",
      "execution_count": 54,
      "metadata": {
        "colab": {
          "base_uri": "https://localhost:8080/"
        },
        "id": "CmHGQ08aCwMT",
        "outputId": "2ede9d14-9e86-47ba-d7db-4d31396003c2"
      },
      "outputs": [
        {
          "name": "stdout",
          "output_type": "stream",
          "text": [
            "+-------------------------------------------------------------------------------------------------------------------------------------+---------------------------------------------------------------------------+\n",
            "|description                                                                                                                          |title                                                                      |\n",
            "+-------------------------------------------------------------------------------------------------------------------------------------+---------------------------------------------------------------------------+\n",
            "|Close to 14.6 per cent (or 35,000) of the 240,000 ATMs in India are new-age recyclers, even though they have been around for only ...|ATMs to become virtual bank branches, accept deposits with instant credit  |\n",
            "|V Vaidyanathan, managing director and chief executive, will take 30 per cent cut in his compensation, including fixed ...            |IDFC First Bank seniors to forgo 65% of bonus amid Covid-19 crisis         |\n",
            "|Rana Kapoor's wife also charged with abetting crime                                                                                  |Huge scam in YES Bank for many years, says Enforcement Directorate         |\n",
            "|The bank said it was now gearing up to extend the stimulus package announced by Finance Minister Nirmala Sitharaman to restart ...   |Bank of Maharashtra sanctioned Rs 2,789 cr in loans to MSMEs in 3 months   |\n",
            "|Net profit for the financial year ended March 31, 2020 (FY20), stood at Rs 337.25 crore, up marginally from Rs 325.37 crore in ...   |DCB Bank's profit before tax declines 37.6% to Rs 93.84 crore in Q4        |\n",
            "|Under the scheme, the government will offer 100 per cent guarantee on loans.                                                         |Bank of Baroda to advance Rs 12,000 crore to MSMEs under govt scheme       |\n",
            "|HDFC Bank cuts base rate by 55 bps; SBI calls ALCO meeting to take call                                                              |Retail, MSME loans to get cheaper as RBI cuts repo rate in surprise action |\n",
            "|\"The six-member MPC also kept policy stance unchanged at 'accommodative' for \"\"as long as necessary\"\" to revive growth\"              |RBI forecasts economic contraction, announces a sharp 40-bp rate cut       |\n",
            "|The central bank has increased group exposure limits of lenders from 25% to 30%                                                      |RBI extends loan moratorium till Aug 31, silent on one-time restructuring  |\n",
            "|Two new series will have maturities of April 2025 and April 2031.                                                                    |Govt seeks to raise Rs 14,000 cr from second tranche of Bharat Bond ETF    |\n",
            "|Credit costs could touch Rs 2.7 trillion                                                                                             |Covid-19 crisis: Slippages may jump to Rs 5.5 trillion, says India Ratings |\n",
            "|Enquiries for fresh loans see uptick                                                                                                 |Lockdown 4.0: Normalcy returning for shadow lenders, albeit at a slow pace |\n",
            "|While slippages from the corporate sector may rise by Rs 3.4 trillion, for non-corporate segments it may increase by Rs 2.1 ...      |Covid-19: Banking slippages may rise by Rs 5.5 trn this fiscal, says report|\n",
            "|The meeting was earlier scheduled on May 11, but due to the stimulus package announcements, it was deferred, they added              |FM Sitharaman to review banking situation, credit offtake with PSB chiefs  |\n",
            "|In a Q&A, the lender's MD & CEO, Amitabh Chaudhry, also dwells on the stimulus package announced by the government, and risk ...     |It will be a long road to recovery from Covid-19: Axis Bank chief          |\n",
            "|Loans sanctioned by public sector banks (PSBs) at the end of May 8 stood at Rs 5.95 trillion                                         |Bank credit growth slowed in Dec quarter on muted industrial demand        |\n",
            "|Senior bank executives said the Indian Banks' Association (IBA) has already approached the Reserve Bank of India with a plea for ... |Covid-19 crisis: Banks seek relaxed NPA norms, moratorium extension        |\n",
            "|It may be time to link the higher deposit insurance cover and the way co-operative banks and select non-banks raise retail ...       |It may be time to change the way UCBs and NBFCs raise retail deposits      |\n",
            "|NBFCs cry foul as they were expecting a two-three year support                                                                       |Govt to use RBI money to support struggling NBFCs for just three months    |\n",
            "|The only way to boost demand may be lowering interest rates to boost consumption, analysts said                                      |RBI may need to slash rates alongside providing fiscal stimulus: Economists|\n",
            "+-------------------------------------------------------------------------------------------------------------------------------------+---------------------------------------------------------------------------+\n",
            "only showing top 20 rows\n",
            "\n"
          ]
        }
      ],
      "source": [
        "df=df.withColumn(\n",
        "    \"description\",\n",
        "    when(df.description.isNotNull(), df.description)\n",
        "    .otherwise(df.title)\n",
        ")\n",
        "\n",
        "df.show(truncate=False)"
      ]
    },
    {
      "cell_type": "markdown",
      "metadata": {
        "id": "TAN907ltCwMT"
      },
      "source": [
        "Let us  extract only the relevant column, which is the description.\n",
        "\n",
        "Also, as we know that all these news are financial news we will add a new colum called category with as value, FINANCE, for all these instances"
      ]
    },
    {
      "cell_type": "code",
      "execution_count": 55,
      "metadata": {
        "colab": {
          "base_uri": "https://localhost:8080/"
        },
        "id": "eWgK-CG5CwMT",
        "outputId": "ff3e1223-2cea-4a68-8cd5-3fffdb75f8e4"
      },
      "outputs": [
        {
          "name": "stdout",
          "output_type": "stream",
          "text": [
            "+--------------------+--------+\n",
            "|         description|category|\n",
            "+--------------------+--------+\n",
            "|Close to 14.6 per...| FINANCE|\n",
            "|V Vaidyanathan, m...| FINANCE|\n",
            "|Rana Kapoor's wif...| FINANCE|\n",
            "|The bank said it ...| FINANCE|\n",
            "|Net profit for th...| FINANCE|\n",
            "|Under the scheme,...| FINANCE|\n",
            "|HDFC Bank cuts ba...| FINANCE|\n",
            "|\"The six-member M...| FINANCE|\n",
            "|The central bank ...| FINANCE|\n",
            "|Two new series wi...| FINANCE|\n",
            "|Credit costs coul...| FINANCE|\n",
            "|Enquiries for fre...| FINANCE|\n",
            "|While slippages f...| FINANCE|\n",
            "|The meeting was e...| FINANCE|\n",
            "|In a Q&A, the len...| FINANCE|\n",
            "|Loans sanctioned ...| FINANCE|\n",
            "|Senior bank execu...| FINANCE|\n",
            "|It may be time to...| FINANCE|\n",
            "|NBFCs cry foul as...| FINANCE|\n",
            "|The only way to b...| FINANCE|\n",
            "+--------------------+--------+\n",
            "only showing top 20 rows\n",
            "\n",
            "root\n",
            " |-- description: string (nullable = true)\n",
            " |-- category: string (nullable = false)\n",
            "\n"
          ]
        },
        {
          "data": {
            "text/plain": [
              "50009"
            ]
          },
          "execution_count": 55,
          "metadata": {},
          "output_type": "execute_result"
        }
      ],
      "source": [
        "df=df.select('description').withColumn('category', lit('FINANCE'))\n",
        "df.show()\n",
        "df.printSchema()\n",
        "df.count()"
      ]
    },
    {
      "cell_type": "markdown",
      "metadata": {
        "id": "Kf2pxnxjCwMU"
      },
      "source": [
        "#### E- Summary\n",
        "\n",
        "Our preprocessed data now contains 50009 rows, and 2 colums which are description and category.\n",
        "\n",
        "Let us copy it into anoter variable."
      ]
    },
    {
      "cell_type": "code",
      "execution_count": 56,
      "metadata": {
        "colab": {
          "base_uri": "https://localhost:8080/"
        },
        "id": "SBEzdXYN3-yi",
        "outputId": "0995c2ef-44ed-4396-cce5-40301e05ba31"
      },
      "outputs": [
        {
          "name": "stdout",
          "output_type": "stream",
          "text": [
            "+--------------------+--------+\n",
            "|         description|category|\n",
            "+--------------------+--------+\n",
            "|Close to 14.6 per...| FINANCE|\n",
            "|V Vaidyanathan, m...| FINANCE|\n",
            "|Rana Kapoor's wif...| FINANCE|\n",
            "|The bank said it ...| FINANCE|\n",
            "|Net profit for th...| FINANCE|\n",
            "|Under the scheme,...| FINANCE|\n",
            "|HDFC Bank cuts ba...| FINANCE|\n",
            "|\"The six-member M...| FINANCE|\n",
            "|The central bank ...| FINANCE|\n",
            "|Two new series wi...| FINANCE|\n",
            "|Credit costs coul...| FINANCE|\n",
            "|Enquiries for fre...| FINANCE|\n",
            "|While slippages f...| FINANCE|\n",
            "|The meeting was e...| FINANCE|\n",
            "|In a Q&A, the len...| FINANCE|\n",
            "|Loans sanctioned ...| FINANCE|\n",
            "|Senior bank execu...| FINANCE|\n",
            "|It may be time to...| FINANCE|\n",
            "|NBFCs cry foul as...| FINANCE|\n",
            "|The only way to b...| FINANCE|\n",
            "+--------------------+--------+\n",
            "only showing top 20 rows\n",
            "\n",
            "root\n",
            " |-- description: string (nullable = true)\n",
            " |-- category: string (nullable = false)\n",
            "\n"
          ]
        }
      ],
      "source": [
        "# Make a copy\n",
        "df5=df\n",
        "df5.show()\n",
        "df5.printSchema()"
      ]
    },
    {
      "cell_type": "markdown",
      "metadata": {
        "id": "5g3cftzgeyan"
      },
      "source": [
        "## IV- Data integration"
      ]
    },
    {
      "cell_type": "markdown",
      "metadata": {
        "id": "gvuLpPSPC2Z3"
      },
      "source": [
        "First all of we need to join the 5 dataframes"
      ]
    },
    {
      "cell_type": "code",
      "execution_count": 57,
      "metadata": {
        "colab": {
          "base_uri": "https://localhost:8080/"
        },
        "id": "AQra940hEf-7",
        "outputId": "8ee18d39-340a-49ea-a1c6-ca2783bd21cb"
      },
      "outputs": [],
      "source": [
        "# Join the dataframes\n",
        "df= df1.union(df2).union(df3).union(df4).union(df5)"
      ]
    },
    {
      "cell_type": "markdown",
      "metadata": {},
      "source": [
        "Let us cache the dataframe"
      ]
    },
    {
      "cell_type": "code",
      "execution_count": 58,
      "metadata": {},
      "outputs": [],
      "source": [
        "df=df.cache()"
      ]
    },
    {
      "cell_type": "code",
      "execution_count": 59,
      "metadata": {},
      "outputs": [
        {
          "name": "stderr",
          "output_type": "stream",
          "text": [
            "                                                                                \r"
          ]
        },
        {
          "name": "stdout",
          "output_type": "stream",
          "text": [
            "+--------------------+--------+\n",
            "|         description|category|\n",
            "+--------------------+--------+\n",
            "|A closer look at ...| SCIENCE|\n",
            "|An irresistible s...| SCIENCE|\n",
            "|Artificial intell...| SCIENCE|\n",
            "|Glaciers Could Ha...| SCIENCE|\n",
            "|Perseid meteor sh...| SCIENCE|\n",
            "|NASA Releases In-...| SCIENCE|\n",
            "|SpaceX, NASA Demo...| SCIENCE|\n",
            "|Orbital space tou...| SCIENCE|\n",
            "|Greenland's melti...| SCIENCE|\n",
            "|NASA invites engi...| SCIENCE|\n",
            "|Astronomers Detec...| SCIENCE|\n",
            "|NASA Finds Ammoni...| SCIENCE|\n",
            "|Russia targets re...| SCIENCE|\n",
            "|Martian Night Sky...| SCIENCE|\n",
            "|Energy-Efficient ...| SCIENCE|\n",
            "|Scientists may ha...| SCIENCE|\n",
            "|Tradeoff between ...| SCIENCE|\n",
            "|2020's final Mars...| SCIENCE|\n",
            "|In rare find, fos...| SCIENCE|\n",
            "|Nasa SpaceX crew ...| SCIENCE|\n",
            "+--------------------+--------+\n",
            "only showing top 20 rows\n",
            "\n"
          ]
        },
        {
          "data": {
            "text/plain": [
              "429767"
            ]
          },
          "execution_count": 59,
          "metadata": {},
          "output_type": "execute_result"
        }
      ],
      "source": [
        "# Preview the dataframe\n",
        "df.show()\n",
        "df.count()"
      ]
    },
    {
      "cell_type": "markdown",
      "metadata": {
        "id": "HBTJNMELDJyb"
      },
      "source": [
        "Befrore any operation let us drop identic records"
      ]
    },
    {
      "cell_type": "code",
      "execution_count": 60,
      "metadata": {
        "id": "DhMnXKkVia4l"
      },
      "outputs": [],
      "source": [
        "df=df.dropDuplicates()"
      ]
    },
    {
      "cell_type": "markdown",
      "metadata": {
        "id": "8tZpuSqHDdsr"
      },
      "source": [
        "Let us group all the news by categories and count the number of instances for each category"
      ]
    },
    {
      "cell_type": "code",
      "execution_count": 61,
      "metadata": {
        "colab": {
          "base_uri": "https://localhost:8080/"
        },
        "id": "AwfM4e-MbNhg",
        "outputId": "75a302f4-e57c-4e35-d18b-722de34d9dce"
      },
      "outputs": [
        {
          "name": "stderr",
          "output_type": "stream",
          "text": [
            "                                                                                \r"
          ]
        },
        {
          "name": "stdout",
          "output_type": "stream",
          "text": [
            "+------------------+-----+\n",
            "|          category|count|\n",
            "+------------------+-----+\n",
            "|            SPORTS|19175|\n",
            "|             MEDIA| 2403|\n",
            "|      BLACK VOICES| 4169|\n",
            "|          POLITICS|32324|\n",
            "|              ARTS|  864|\n",
            "|     THE WORLDPOST| 3662|\n",
            "|BUSINESS & FINANCE|  722|\n",
            "|      QUEER VOICES| 5596|\n",
            "|    CULTURE & ARTS| 1044|\n",
            "|         PARENTING| 8740|\n",
            "|             GREEN| 2045|\n",
            "|     ENTERTAINMENT|29491|\n",
            "|       ENVIRONMENT|49387|\n",
            "|         U.S. NEWS| 1377|\n",
            "|              TECH| 2049|\n",
            "|          BUSINESS|19793|\n",
            "|     LATINO VOICES| 1023|\n",
            "|            COMEDY| 4597|\n",
            "|    STYLE & BEAUTY| 9319|\n",
            "|             MONEY| 1754|\n",
            "+------------------+-----+\n",
            "only showing top 20 rows\n",
            "\n"
          ]
        },
        {
          "data": {
            "text/plain": [
              "48"
            ]
          },
          "execution_count": 61,
          "metadata": {},
          "output_type": "execute_result"
        }
      ],
      "source": [
        "categories_counts=df.groupBy(df.category).count()\n",
        "categories_counts.show()\n",
        "categories_counts.count()"
      ]
    },
    {
      "cell_type": "markdown",
      "metadata": {
        "id": "isjpAPn0Nn-T"
      },
      "source": [
        "We can see that there are 48 categories of news in our data\n",
        "\n",
        "Let's print them all in descendent order of number of instances"
      ]
    },
    {
      "cell_type": "code",
      "execution_count": 62,
      "metadata": {
        "colab": {
          "base_uri": "https://localhost:8080/"
        },
        "id": "c2GKdPNJbRSX",
        "outputId": "9475d13d-df82-48a9-cc4e-df6a0a073ffb"
      },
      "outputs": [
        {
          "name": "stderr",
          "output_type": "stream",
          "text": [
            "[Stage 167:====================================================>  (26 + 1) / 27]\r"
          ]
        },
        {
          "name": "stdout",
          "output_type": "stream",
          "text": [
            "+------------------+-----+\n",
            "|category          |count|\n",
            "+------------------+-----+\n",
            "|ENVIRONMENT       |49387|\n",
            "|FINANCE           |48970|\n",
            "|POLITICS          |32324|\n",
            "|ENTERTAINMENT     |29491|\n",
            "|BUSINESS          |19793|\n",
            "|SPORTS            |19175|\n",
            "|WELLNESS          |17895|\n",
            "|NATION            |14865|\n",
            "|WORLD             |14337|\n",
            "|TECHNOLOGY        |14271|\n",
            "|HEALTH            |12672|\n",
            "|TRAVEL            |9399 |\n",
            "|STYLE & BEAUTY    |9319 |\n",
            "|PARENTING         |8740 |\n",
            "|FOOD & DRINK      |6327 |\n",
            "|QUEER VOICES      |5596 |\n",
            "|HEALTHY LIVING    |5262 |\n",
            "|SCIENCE           |5057 |\n",
            "|COMEDY            |4597 |\n",
            "|HOME & LIVING     |4212 |\n",
            "|BLACK VOICES      |4169 |\n",
            "|THE WORLDPOST     |3662 |\n",
            "|WEDDINGS          |3594 |\n",
            "|PARENTS           |3511 |\n",
            "|DIVORCE           |3420 |\n",
            "|WORLD NEWS        |3293 |\n",
            "|WOMEN             |3109 |\n",
            "|IMPACT            |3083 |\n",
            "|CRIME             |2831 |\n",
            "|MEDIA             |2403 |\n",
            "|WEIRD NEWS        |2317 |\n",
            "|TECH              |2049 |\n",
            "|GREEN             |2045 |\n",
            "|TASTE             |1941 |\n",
            "|RELIGION          |1878 |\n",
            "|MONEY             |1754 |\n",
            "|STYLE             |1565 |\n",
            "|U.S. NEWS         |1377 |\n",
            "|ARTS & CULTURE    |1338 |\n",
            "|WORLDPOST         |1243 |\n",
            "|CULTURE & ARTS    |1044 |\n",
            "|FIFTY             |1043 |\n",
            "|GOOD NEWS         |1040 |\n",
            "|LATINO VOICES     |1023 |\n",
            "|COLLEGE           |922  |\n",
            "|EDUCATION         |903  |\n",
            "|ARTS              |864  |\n",
            "|BUSINESS & FINANCE|722  |\n",
            "+------------------+-----+\n",
            "\n"
          ]
        },
        {
          "name": "stderr",
          "output_type": "stream",
          "text": [
            "                                                                                \r"
          ]
        }
      ],
      "source": [
        "# Now group by categories in desc order of number of instances\n",
        "\n",
        "df.groupBy(df.category).count().orderBy(col('count').desc()).show(48,truncate=False)"
      ]
    },
    {
      "cell_type": "markdown",
      "metadata": {
        "id": "jRfbw9U5PMXX"
      },
      "source": [
        "Let us group some categories in order to reduce the number of categories.\n",
        "\n",
        "The similar categories will be gouped together:\n",
        "\n",
        "- Group `\"ARTS\"`, `\"CULTURE & ARTS\"`  `\"ARTS & CULTURE\"`, `\"SPORTS\"`, `\"COMEDY\"` and `\"ENTERTAINMENT\"`, to `\"ENTERTAINMENT-ARTS-CULTURE\"`\n",
        "- Group `\"MONEY\"`, `\"BUSINESS\"` `\"BUSINESS & FINANCE\"` to `\"BUSINESS-ECONOMY-FINANCE\"`\n",
        "- Group `\"NATION\"`, `\"U.S. NEWS\"`,  `\"WORLD NEWS\"`, `\"THE WORLDPOST\"`,`\"WORLDPOST\"`  `\"WORLD\" to \"NATION & WORLD\"`\n",
        "- Group `\"SCIENCE\"`, `\"TECH\"` , `\"TECHNOLOGY\"` to `\"SCIENCE & TECHNOLOGY\"`\n",
        "- Group `\"COLLEGE\"`, `\"EDUCATION\"` to `\"EDUCATION\"`\n",
        "- Group `\"HEALTHY LIVING\"`, `\"HEALTH\"` to `\"HEALTH & WELLNESS\"`\n",
        "- Group `\"PARENTS\"`, `\"PARENTING\"` `\"WEDDINGS\"`, `\"DIVORCE\"`, to `\"FAMILY & RELATIONSHIP\"`\n",
        "- Group `\"GREEN\"`, `\"ENVIRONMENT\"` to  `\"ENVIRONMENT\"`\n",
        "- Group `\"STYLE\"` and  `\"STYLE & BEAUTY\"`, `\"HOME & LIVING\"`,  `\"STYLE & BEAUTY\"` to `\"LIFESTYLE\"`\n",
        "- Group `\"TASTE\"`, `\"FOOD & DRINK\"` `\"TRAVEL\"`, to `\"TRAVEL &FOOD\"`\n",
        "- Group `\"BLACK VOICES\"`, `\"QUEER VOICES\"` `\"WOMEN\"`, `\"LATINO VOICES\"` to `\"SOCIAL ISSUES\"`\n",
        "- Group `\"WEIRD NEWS\"`,`\"GOOD NEWS\"`,`\"FIFY\"`  to `\"MISCELLANEOUS\"`\n"
      ]
    },
    {
      "cell_type": "code",
      "execution_count": 63,
      "metadata": {
        "id": "9nVRSpmtSRHe"
      },
      "outputs": [
        {
          "name": "stderr",
          "output_type": "stream",
          "text": [
            "[Stage 173:==================================================>    (25 + 2) / 27]\r"
          ]
        },
        {
          "name": "stdout",
          "output_type": "stream",
          "text": [
            "+-----------------------------------------------------------------------------------------------------------------------------------+------------------------+\n",
            "|description                                                                                                                        |category                |\n",
            "+-----------------------------------------------------------------------------------------------------------------------------------+------------------------+\n",
            "|Getting Canon with filmmaking                                                                                                      |SCIENCE-TECHNOLOGY-MEDIA|\n",
            "|Major Windows 10 fail is playing havoc with passwords                                                                              |SCIENCE-TECHNOLOGY-MEDIA|\n",
            "|Teaming and stream sniping proves to be a problem in FNCS Solos                                                                    |SCIENCE-TECHNOLOGY-MEDIA|\n",
            "|Samsung Galaxy S20 FE 5G renders reveal complete design ahead of launch                                                            |SCIENCE-TECHNOLOGY-MEDIA|\n",
            "|Covid 19 coronavirus: Second Christchurch retirement village goes into lockdown                                                    |HEALTH & WELLNESS       |\n",
            "|Man dies of bubonic plague in western Mongolia | English.news.cn                                                                   |HEALTH & WELLNESS       |\n",
            "|Marvel's first Muslim female superhero revealed                                                                                    |SCIENCE-TECHNOLOGY-MEDIA|\n",
            "|Should you be wearing a mask at home? Experts weigh in                                                                             |HEALTH & WELLNESS       |\n",
            "|UCSF study: Few SF firefighters have coronavirus antibodies                                                                        |SCIENCE-TECHNOLOGY-MEDIA|\n",
            "|4 thoughts on “A Tongue Operated Human Machine Interface”                                                                          |SCIENCE-TECHNOLOGY-MEDIA|\n",
            "|Aberdeen Lockdown Survey: Tell us what you really think about the restrictions                                                     |HEALTH & WELLNESS       |\n",
            "|Japan's Nintendo seen posting bumper profit as fans await pipeline update                                                          |SCIENCE-TECHNOLOGY-MEDIA|\n",
            "|Large study debunks myth that Vitamin D reduces risk of mood disorders                                                             |HEALTH & WELLNESS       |\n",
            "|Sony's PS4 DualShock Controllers Will Not Be Compatible With PlayStation 5                                                         |SCIENCE-TECHNOLOGY-MEDIA|\n",
            "|Study shows high SARS-CoV-2 seroprevalence, but low death rate in Malawi's health care workers                                     |HEALTH & WELLNESS       |\n",
            "|AMD’s Next-Gen Ryzen 9 4950X / 5950X ‘Vermeer’ AM4 Desktop CPU With 16 Zen 3 Cores Spotted, Engineering Sample Boosts Up To 4.8 GHz|SCIENCE-TECHNOLOGY-MEDIA|\n",
            "|Microsoft And TikTok: A Great Window Of Opportunity                                                                                |SCIENCE-TECHNOLOGY-MEDIA|\n",
            "|Google might not release Pixel 5, only the XL variant news                                                                         |SCIENCE-TECHNOLOGY-MEDIA|\n",
            "|AMD's new patent is an awkward copy of Intel's Lakefield architecture                                                              |SCIENCE-TECHNOLOGY-MEDIA|\n",
            "|People in Derry being asked to take part in clinical trials to help find a vaccine for COVID-19                                    |HEALTH & WELLNESS       |\n",
            "+-----------------------------------------------------------------------------------------------------------------------------------+------------------------+\n",
            "only showing top 20 rows\n",
            "\n"
          ]
        },
        {
          "name": "stderr",
          "output_type": "stream",
          "text": [
            "                                                                                \r"
          ]
        }
      ],
      "source": [
        "# Apply the grouping\n",
        "df = df.withColumn(\n",
        "    \"category\",\n",
        "    when(col(\"category\").isin(\"ARTS\", \"CULTURE & ARTS\", \"ARTS & CULTURE\", \"SPORTS\", \"COMEDY\", \"ENTERTAINMENT\"), \"ENTERTAINMENT-ARTS-CULTURE\")\n",
        "    .when(col(\"category\").isin(\"MONEY\", \"BUSINESS\", \"FINANCE\",\"BUSINESS & FINANCE\"), \"BUSINESS-ECONOMY-FINANCE\")\n",
        "    .when(col(\"category\").isin(\"NATION\", \"U.S. NEWS\", \"WORLD NEWS\", \"THE WORLDPOST\", \"WORLDPOST\", \"WORLD\"), \"NATION & WORLD\")\n",
        "    .when(col(\"category\").isin(\"SCIENCE\", \"TECH\", \"TECHNOLOGY\",\"MEDIA\"), \"SCIENCE-TECHNOLOGY-MEDIA\")\n",
        "    .when(col(\"category\").isin(\"HEALTHY LIVING\", \"HEALTH\",\"WELLNESS\"), \"HEALTH & WELLNESS\")\n",
        "    .when(col(\"category\").isin(\"PARENTS\", \"PARENTING\", \"WEDDINGS\", \"DIVORCE\"), \"FAMILY & RELATIONSHIP\")\n",
        "    .when(col(\"category\").isin(\"GREEN\", \"ENVIRONMENT\"), \"ENVIRONMENT\")\n",
        "    .when(col(\"category\").isin(\"STYLE\", \"STYLE & BEAUTY\", \"HOME & LIVING\"), \"LIFESTYLE\")\n",
        "    .when(col(\"category\").isin(\"TASTE\", \"FOOD & DRINK\", \"TRAVEL\"), \"TRAVEL & FOOD\")\n",
        "    .when(col(\"category\").isin(\"BLACK VOICES\", \"QUEER VOICES\", \"WOMEN\", \"LATINO VOICES\"), \"SOCIAL ISSUES\")\n",
        "    .when(col(\"category\").isin(\"COLLEGE\",\"EDUCATION\"), \"EDUCATION\")\n",
        "     .when(col(\"category\").isin( \"WEIRD NEWS\", \"GOOD NEWS\", \"FIFTY\"), \"MISCELLANEOUS\")\n",
        "    .otherwise(col(\"category\"))\n",
        ")\n",
        "\n",
        "df.show(truncate=False)"
      ]
    },
    {
      "cell_type": "code",
      "execution_count": 64,
      "metadata": {
        "colab": {
          "base_uri": "https://localhost:8080/"
        },
        "id": "cqb7_xJ_q30O",
        "outputId": "4b66e27b-7549-401a-b4ea-ff882fb9723d"
      },
      "outputs": [
        {
          "name": "stderr",
          "output_type": "stream",
          "text": [
            "                                                                                \r"
          ]
        },
        {
          "name": "stdout",
          "output_type": "stream",
          "text": [
            "+--------------------------+-----+\n",
            "|category                  |count|\n",
            "+--------------------------+-----+\n",
            "|FAMILY & RELATIONSHIP     |19265|\n",
            "|POLITICS                  |32324|\n",
            "|SOCIAL ISSUES             |13897|\n",
            "|MISCELLANEOUS             |4400 |\n",
            "|ENVIRONMENT               |51432|\n",
            "|SCIENCE-TECHNOLOGY-MEDIA  |23780|\n",
            "|ENTERTAINMENT-ARTS-CULTURE|56509|\n",
            "|IMPACT                    |3083 |\n",
            "|RELIGION                  |1878 |\n",
            "|BUSINESS-ECONOMY-FINANCE  |71239|\n",
            "|EDUCATION                 |1825 |\n",
            "|CRIME                     |2831 |\n",
            "|LIFESTYLE                 |15096|\n",
            "|TRAVEL & FOOD             |17667|\n",
            "|NATION & WORLD            |38777|\n",
            "|HEALTH & WELLNESS         |35829|\n",
            "+--------------------------+-----+\n",
            "\n"
          ]
        },
        {
          "data": {
            "text/plain": [
              "16"
            ]
          },
          "execution_count": 64,
          "metadata": {},
          "output_type": "execute_result"
        }
      ],
      "source": [
        "categories_counts=df.groupBy(df.category).count()\n",
        "categories_counts.show(truncate=False)\n",
        "categories_counts.count()"
      ]
    },
    {
      "cell_type": "code",
      "execution_count": 65,
      "metadata": {
        "colab": {
          "base_uri": "https://localhost:8080/"
        },
        "id": "BG25-vQS4eg6",
        "outputId": "733e444d-587b-48d7-804a-581cfca13005"
      },
      "outputs": [
        {
          "name": "stdout",
          "output_type": "stream",
          "text": [
            "+--------------------------+-----+\n",
            "|category                  |count|\n",
            "+--------------------------+-----+\n",
            "|FAMILY & RELATIONSHIP     |19265|\n",
            "|POLITICS                  |32324|\n",
            "|SOCIAL ISSUES             |13897|\n",
            "|MISCELLANEOUS             |4400 |\n",
            "|ENVIRONMENT               |51432|\n",
            "|SCIENCE-TECHNOLOGY-MEDIA  |23780|\n",
            "|ENTERTAINMENT-ARTS-CULTURE|56509|\n",
            "|IMPACT                    |3083 |\n",
            "|RELIGION                  |1878 |\n",
            "|BUSINESS-ECONOMY-FINANCE  |71239|\n",
            "|EDUCATION                 |1825 |\n",
            "|CRIME                     |2831 |\n",
            "|LIFESTYLE                 |15096|\n",
            "|TRAVEL & FOOD             |17667|\n",
            "|NATION & WORLD            |38777|\n",
            "|HEALTH & WELLNESS         |35829|\n",
            "+--------------------------+-----+\n",
            "\n"
          ]
        },
        {
          "data": {
            "text/plain": [
              "16"
            ]
          },
          "execution_count": 65,
          "metadata": {},
          "output_type": "execute_result"
        }
      ],
      "source": [
        "# Group once again the news in DESC order of counts\n",
        "categories_counts=df.groupBy(df.category).count()\n",
        "categories_counts.show(truncate=False)\n",
        "categories_counts.count()"
      ]
    },
    {
      "cell_type": "markdown",
      "metadata": {
        "id": "siS4y1J1e_jU"
      },
      "source": [
        "Now we have 16 categories of news in our data\n",
        "\n",
        "Let's print them all in descendent order of number of count"
      ]
    },
    {
      "cell_type": "code",
      "execution_count": 66,
      "metadata": {
        "colab": {
          "base_uri": "https://localhost:8080/"
        },
        "id": "_8xunPgPe_jV",
        "outputId": "6ec041f4-6c19-4c71-b658-8ddf6625165b"
      },
      "outputs": [
        {
          "name": "stdout",
          "output_type": "stream",
          "text": [
            "+--------------------------+-----+\n",
            "|category                  |count|\n",
            "+--------------------------+-----+\n",
            "|BUSINESS-ECONOMY-FINANCE  |71239|\n",
            "|ENTERTAINMENT-ARTS-CULTURE|56509|\n",
            "|ENVIRONMENT               |51432|\n",
            "|NATION & WORLD            |38777|\n",
            "|HEALTH & WELLNESS         |35829|\n",
            "|POLITICS                  |32324|\n",
            "|SCIENCE-TECHNOLOGY-MEDIA  |23780|\n",
            "|FAMILY & RELATIONSHIP     |19265|\n",
            "|TRAVEL & FOOD             |17667|\n",
            "|LIFESTYLE                 |15096|\n",
            "|SOCIAL ISSUES             |13897|\n",
            "|MISCELLANEOUS             |4400 |\n",
            "|IMPACT                    |3083 |\n",
            "|CRIME                     |2831 |\n",
            "|RELIGION                  |1878 |\n",
            "|EDUCATION                 |1825 |\n",
            "+--------------------------+-----+\n",
            "\n"
          ]
        }
      ],
      "source": [
        "# Now group by categories in desc order or count\n",
        "\n",
        "df.groupBy(df.category).count().orderBy(col('count').desc()).show(truncate=False)"
      ]
    },
    {
      "cell_type": "markdown",
      "metadata": {},
      "source": [
        "In order to avoid any confusions, let us drop the instances with the following categories `\"MISCELLANEOUS\"`, `\"SOCIAL ISSUES\"`, `\"NATION & WORLD\"`, `\"IMPACT\"`"
      ]
    },
    {
      "cell_type": "code",
      "execution_count": 67,
      "metadata": {
        "id": "NSMjTSpwSRHf"
      },
      "outputs": [],
      "source": [
        "df= df.filter(~col(\"category\").isin(\"MISCELLANEOUS\", \"SOCIAL ISSUES\", \"NATION & WORLD\",\"IMPACT\"))"
      ]
    },
    {
      "cell_type": "code",
      "execution_count": 68,
      "metadata": {},
      "outputs": [
        {
          "name": "stderr",
          "output_type": "stream",
          "text": [
            "[Stage 206:============================================>          (22 + 5) / 27]\r"
          ]
        },
        {
          "name": "stdout",
          "output_type": "stream",
          "text": [
            "+--------------------------+-----+\n",
            "|category                  |count|\n",
            "+--------------------------+-----+\n",
            "|BUSINESS-ECONOMY-FINANCE  |71239|\n",
            "|ENTERTAINMENT-ARTS-CULTURE|56509|\n",
            "|ENVIRONMENT               |51432|\n",
            "|HEALTH & WELLNESS         |35829|\n",
            "|POLITICS                  |32324|\n",
            "|SCIENCE-TECHNOLOGY-MEDIA  |23780|\n",
            "|FAMILY & RELATIONSHIP     |19265|\n",
            "|TRAVEL & FOOD             |17667|\n",
            "|LIFESTYLE                 |15096|\n",
            "|CRIME                     |2831 |\n",
            "|RELIGION                  |1878 |\n",
            "|EDUCATION                 |1825 |\n",
            "+--------------------------+-----+\n",
            "\n"
          ]
        },
        {
          "name": "stderr",
          "output_type": "stream",
          "text": [
            "                                                                                \r"
          ]
        }
      ],
      "source": [
        "# Now group by categories in desc order or count\n",
        "\n",
        "df.groupBy(df.category).count().orderBy(col('count').desc()).show(truncate=False)"
      ]
    },
    {
      "cell_type": "code",
      "execution_count": 69,
      "metadata": {
        "colab": {
          "base_uri": "https://localhost:8080/"
        },
        "id": "tsISy1Ku5irz",
        "outputId": "155212cd-b318-45da-e542-7c30a422df9b"
      },
      "outputs": [
        {
          "name": "stderr",
          "output_type": "stream",
          "text": [
            "                                                                                \r"
          ]
        },
        {
          "data": {
            "text/plain": [
              "12"
            ]
          },
          "execution_count": 69,
          "metadata": {},
          "output_type": "execute_result"
        }
      ],
      "source": [
        "number_of_categories=df.groupBy(df.category).count().orderBy(col('count').desc()).count()\n",
        "number_of_categories"
      ]
    },
    {
      "cell_type": "markdown",
      "metadata": {},
      "source": [
        "Finally we have 12 categories of news. There are\n",
        "\n",
        "- BUSINESS-ECONOMY-FINANCE\n",
        "- ENTERTAINMENT-ARTS-CULTURE\n",
        "- ENVIRONMENT\n",
        "- HEALTH & WELLNESS\n",
        "- POLITICS\n",
        "- SCIENCE-TECHNOLOGY-MEDIA\n",
        "- FAMILY & RELATIONSHIP\n",
        "- TRAVEL & FOOD\n",
        "- LIFESTYLE\n",
        "- CRIME\n",
        "- RELIGION\n",
        "- EDUCATION"
      ]
    },
    {
      "cell_type": "markdown",
      "metadata": {
        "id": "xDyYBMe-EIQI"
      },
      "source": [
        "Let us find the number of instances of our dataframe with empty description."
      ]
    },
    {
      "cell_type": "code",
      "execution_count": 70,
      "metadata": {
        "colab": {
          "base_uri": "https://localhost:8080/"
        },
        "id": "l4wODQ3Pi7zr",
        "outputId": "6e7ddbcf-b4a8-4af1-de4e-20d1f02b60f2"
      },
      "outputs": [
        {
          "data": {
            "text/plain": [
              "27"
            ]
          },
          "execution_count": 70,
          "metadata": {},
          "output_type": "execute_result"
        }
      ],
      "source": [
        "df.filter(df.description=='').count()"
      ]
    },
    {
      "cell_type": "markdown",
      "metadata": {
        "id": "8wn_9A8NEYNN"
      },
      "source": [
        "Let us drop them"
      ]
    },
    {
      "cell_type": "code",
      "execution_count": 71,
      "metadata": {
        "id": "J6bp25h4jJu1"
      },
      "outputs": [],
      "source": [
        "df=df.filter(df.description!='')"
      ]
    },
    {
      "cell_type": "markdown",
      "metadata": {},
      "source": [
        "In order to maintain only meaningfull descriptions of news, let us remove all row with descriptions with less than 15 letters or less than 3 words"
      ]
    },
    {
      "cell_type": "code",
      "execution_count": 72,
      "metadata": {
        "id": "EykEalUZSRHf"
      },
      "outputs": [],
      "source": [
        "\n",
        "min_letters = 15"
      ]
    },
    {
      "cell_type": "code",
      "execution_count": 73,
      "metadata": {
        "id": "s7V-0kwaSRHf",
        "outputId": "07158cb8-3008-435c-801e-2fcbe0b379be"
      },
      "outputs": [
        {
          "data": {
            "text/plain": [
              "3619"
            ]
          },
          "execution_count": 73,
          "metadata": {},
          "output_type": "execute_result"
        }
      ],
      "source": [
        "df.filter(length(df.description) < min_letters).count()"
      ]
    },
    {
      "cell_type": "code",
      "execution_count": 74,
      "metadata": {
        "id": "XXvFJ0KuSRHg",
        "outputId": "34f10714-32f4-4592-aa57-142ef956df96"
      },
      "outputs": [
        {
          "name": "stdout",
          "output_type": "stream",
          "text": [
            "+--------------+--------------------------+\n",
            "|description   |category                  |\n",
            "+--------------+--------------------------+\n",
            "|Expired       |SCIENCE-TECHNOLOGY-MEDIA  |\n",
            "|What Is Mars? |SCIENCE-TECHNOLOGY-MEDIA  |\n",
            "|Geography quiz|HEALTH & WELLNESS         |\n",
            "|Rising Kashmir|HEALTH & WELLNESS         |\n",
            "|Tick bite     |HEALTH & WELLNESS         |\n",
            "|Horoscope     |ENTERTAINMENT-ARTS-CULTURE|\n",
            "|Recall Release|BUSINESS-ECONOMY-FINANCE  |\n",
            "|16. NASA Uncut|SCIENCE-TECHNOLOGY-MEDIA  |\n",
            "|Shock defeat  |ENTERTAINMENT-ARTS-CULTURE|\n",
            "|India News    |ENTERTAINMENT-ARTS-CULTURE|\n",
            "|PG no more?   |ENTERTAINMENT-ARTS-CULTURE|\n",
            "|Luxury Daily  |SCIENCE-TECHNOLOGY-MEDIA  |\n",
            "|Good morning  |HEALTH & WELLNESS         |\n",
            "|Katie Mack    |SCIENCE-TECHNOLOGY-MEDIA  |\n",
            "|China's growth|BUSINESS-ECONOMY-FINANCE  |\n",
            "|nordstrommens |BUSINESS-ECONOMY-FINANCE  |\n",
            "|Bloomberg     |BUSINESS-ECONOMY-FINANCE  |\n",
            "|Remembered    |ENTERTAINMENT-ARTS-CULTURE|\n",
            "|Acer Spin 5   |SCIENCE-TECHNOLOGY-MEDIA  |\n",
            "|Smart Start   |BUSINESS-ECONOMY-FINANCE  |\n",
            "+--------------+--------------------------+\n",
            "only showing top 20 rows\n",
            "\n"
          ]
        }
      ],
      "source": [
        "df.filter(length(df.description) < min_letters).show(truncate=False)"
      ]
    },
    {
      "cell_type": "code",
      "execution_count": 75,
      "metadata": {
        "id": "_TFO-bRfSRHg"
      },
      "outputs": [],
      "source": [
        "\n",
        "# Filter the DataFrame to remove descriptions with fewer than the minimum number of letters\n",
        "df = df.filter(length(df.description) >= min_letters)\n"
      ]
    },
    {
      "cell_type": "code",
      "execution_count": 76,
      "metadata": {
        "id": "txS1e6bZSRHg"
      },
      "outputs": [],
      "source": [
        "\n",
        "\n",
        "# Set the minimum number of words for a description to be considered valid\n",
        "min_words = 3\n",
        "\n"
      ]
    },
    {
      "cell_type": "code",
      "execution_count": 77,
      "metadata": {
        "id": "X6qPdzkaSRHg",
        "outputId": "a8008ae7-cbd4-4c8b-a6ad-7a2a7b64fa44"
      },
      "outputs": [
        {
          "name": "stderr",
          "output_type": "stream",
          "text": [
            "                                                                                \r"
          ]
        },
        {
          "data": {
            "text/plain": [
              "737"
            ]
          },
          "execution_count": 77,
          "metadata": {},
          "output_type": "execute_result"
        }
      ],
      "source": [
        "# Filter the DataFrame to remove descriptions with fewer than the minimum number of words\n",
        "df.filter(size(split(df.description, ' ')) < min_words).count()\n"
      ]
    },
    {
      "cell_type": "code",
      "execution_count": 78,
      "metadata": {
        "id": "2-XMr3WqSRHg",
        "outputId": "a530d823-6dcd-475a-97d6-89bb6b05a284"
      },
      "outputs": [
        {
          "name": "stdout",
          "output_type": "stream",
          "text": [
            "+-------------------------------------------+--------------------------+\n",
            "|description                                |category                  |\n",
            "+-------------------------------------------+--------------------------+\n",
            "|Supplementary Materials                    |HEALTH & WELLNESS         |\n",
            "|Editors' Choice                            |SCIENCE-TECHNOLOGY-MEDIA  |\n",
            "|AK-StSen-N-nominated                       |HEALTH & WELLNESS         |\n",
            "|Anti-dongle Portapalooza                   |SCIENCE-TECHNOLOGY-MEDIA  |\n",
            "|Sargsian's milestone                       |SCIENCE-TECHNOLOGY-MEDIA  |\n",
            "|Exercise Enhancement                       |HEALTH & WELLNESS         |\n",
            "|BMW-M3-Wagon-coming                        |SCIENCE-TECHNOLOGY-MEDIA  |\n",
            "|AK-House-1-nominated                       |HEALTH & WELLNESS         |\n",
            "|leaked-video-tour-of-the-5g-galaxy-z-fold-2|SCIENCE-TECHNOLOGY-MEDIA  |\n",
            "|Procuring vaccines                         |HEALTH & WELLNESS         |\n",
            "|Mosquito Stowaways                         |HEALTH & WELLNESS         |\n",
            "|AmeriGlide stairlifts                      |SCIENCE-TECHNOLOGY-MEDIA  |\n",
            "|Autism-Cholesterol Link                    |HEALTH & WELLNESS         |\n",
            "|Shelby-American-GT500-SE-800hp             |SCIENCE-TECHNOLOGY-MEDIA  |\n",
            "|Fastest Toaster                            |SCIENCE-TECHNOLOGY-MEDIA  |\n",
            "|Kamala, 1950-2020                          |ENTERTAINMENT-ARTS-CULTURE|\n",
            "|Aspirin Caution                            |HEALTH & WELLNESS         |\n",
            "|Filmatique Review                          |ENTERTAINMENT-ARTS-CULTURE|\n",
            "|Coronavirus vaccine                        |HEALTH & WELLNESS         |\n",
            "|Rhino Extinction                           |SCIENCE-TECHNOLOGY-MEDIA  |\n",
            "+-------------------------------------------+--------------------------+\n",
            "only showing top 20 rows\n",
            "\n"
          ]
        }
      ],
      "source": [
        "df.filter(size(split(df.description, ' ')) < min_words).show(truncate=False)"
      ]
    },
    {
      "cell_type": "code",
      "execution_count": 79,
      "metadata": {
        "id": "6WKi61QJSRHg"
      },
      "outputs": [],
      "source": [
        "# Filter the DataFrame to remove descriptions with fewer than the minimum number of words\n",
        "df=df.filter(size(split(df.description, ' ')) >= min_words)\n"
      ]
    },
    {
      "cell_type": "code",
      "execution_count": 80,
      "metadata": {
        "id": "yAHV1yoiSRHh",
        "outputId": "d3ec7710-2d07-4e4f-846f-1b4d7ac4eb49"
      },
      "outputs": [
        {
          "name": "stderr",
          "output_type": "stream",
          "text": [
            "                                                                                \r"
          ]
        },
        {
          "data": {
            "text/plain": [
              "325292"
            ]
          },
          "execution_count": 80,
          "metadata": {},
          "output_type": "execute_result"
        }
      ],
      "source": [
        "df.count()"
      ]
    },
    {
      "cell_type": "markdown",
      "metadata": {
        "id": "AqBUKwslE-oh"
      },
      "source": [
        "Now let us label encode our categories, and save the different label identifier with their description, into a JSON file."
      ]
    },
    {
      "cell_type": "code",
      "execution_count": 81,
      "metadata": {
        "colab": {
          "base_uri": "https://localhost:8080/"
        },
        "id": "qPKBGuUlDlUi",
        "outputId": "c8984986-cd77-4d1d-8cd9-2ac219143c77"
      },
      "outputs": [
        {
          "name": "stderr",
          "output_type": "stream",
          "text": [
            "[Stage 258:==========================================>            (21 + 6) / 27]\r"
          ]
        },
        {
          "name": "stdout",
          "output_type": "stream",
          "text": [
            "+--------------------+--------------------+--------------+\n",
            "|         description|            category|category_label|\n",
            "+--------------------+--------------------+--------------+\n",
            "|Getting Canon wit...|SCIENCE-TECHNOLOG...|           5.0|\n",
            "|Major Windows 10 ...|SCIENCE-TECHNOLOG...|           5.0|\n",
            "|Teaming and strea...|SCIENCE-TECHNOLOG...|           5.0|\n",
            "|Samsung Galaxy S2...|SCIENCE-TECHNOLOG...|           5.0|\n",
            "|Covid 19 coronavi...|   HEALTH & WELLNESS|           3.0|\n",
            "|Man dies of bubon...|   HEALTH & WELLNESS|           3.0|\n",
            "|Marvel's first Mu...|SCIENCE-TECHNOLOG...|           5.0|\n",
            "|Should you be wea...|   HEALTH & WELLNESS|           3.0|\n",
            "|UCSF study: Few S...|SCIENCE-TECHNOLOG...|           5.0|\n",
            "|4 thoughts on “A ...|SCIENCE-TECHNOLOG...|           5.0|\n",
            "|Aberdeen Lockdown...|   HEALTH & WELLNESS|           3.0|\n",
            "|Japan's Nintendo ...|SCIENCE-TECHNOLOG...|           5.0|\n",
            "|Large study debun...|   HEALTH & WELLNESS|           3.0|\n",
            "|Sony's PS4 DualSh...|SCIENCE-TECHNOLOG...|           5.0|\n",
            "|Study shows high ...|   HEALTH & WELLNESS|           3.0|\n",
            "|AMD’s Next-Gen Ry...|SCIENCE-TECHNOLOG...|           5.0|\n",
            "|Microsoft And Tik...|SCIENCE-TECHNOLOG...|           5.0|\n",
            "|Google might not ...|SCIENCE-TECHNOLOG...|           5.0|\n",
            "|AMD's new patent ...|SCIENCE-TECHNOLOG...|           5.0|\n",
            "|People in Derry b...|   HEALTH & WELLNESS|           3.0|\n",
            "+--------------------+--------------------+--------------+\n",
            "only showing top 20 rows\n",
            "\n"
          ]
        },
        {
          "name": "stderr",
          "output_type": "stream",
          "text": [
            "                                                                                \r"
          ]
        }
      ],
      "source": [
        "indexer = StringIndexer(inputCol=\"category\", outputCol=\"category_label\")\n",
        "indexer_model = indexer.fit(df)\n",
        "indexed_df = indexer_model.transform(df)\n",
        "indexed_df.show()"
      ]
    },
    {
      "cell_type": "code",
      "execution_count": 82,
      "metadata": {
        "colab": {
          "base_uri": "https://localhost:8080/"
        },
        "id": "5ix1g7mqFK0n",
        "outputId": "9f153f18-c20d-470a-b6ff-81e45940b13c"
      },
      "outputs": [
        {
          "name": "stdout",
          "output_type": "stream",
          "text": [
            "Label to Index Mapping:  {'BUSINESS-ECONOMY-FINANCE': 0, 'ENTERTAINMENT-ARTS-CULTURE': 1, 'ENVIRONMENT': 2, 'HEALTH & WELLNESS': 3, 'POLITICS': 4, 'SCIENCE-TECHNOLOGY-MEDIA': 5, 'FAMILY & RELATIONSHIP': 6, 'TRAVEL & FOOD': 7, 'LIFESTYLE': 8, 'CRIME': 9, 'RELIGION': 10, 'EDUCATION': 11}\n",
            "Index to Label Mapping:  {0: 'BUSINESS-ECONOMY-FINANCE', 1: 'ENTERTAINMENT-ARTS-CULTURE', 2: 'ENVIRONMENT', 3: 'HEALTH & WELLNESS', 4: 'POLITICS', 5: 'SCIENCE-TECHNOLOGY-MEDIA', 6: 'FAMILY & RELATIONSHIP', 7: 'TRAVEL & FOOD', 8: 'LIFESTYLE', 9: 'CRIME', 10: 'RELIGION', 11: 'EDUCATION'}\n"
          ]
        }
      ],
      "source": [
        "# Retrieve the labels\n",
        "labels = indexer_model.labels\n",
        "\n",
        "# Create the dictionary mapping\n",
        "label_to_index = {label: index for index, label in enumerate(labels)}\n",
        "index_to_label = {index: label for index, label in enumerate(labels)}\n",
        "\n",
        "print(\"Label to Index Mapping: \", label_to_index)\n",
        "print(\"Index to Label Mapping: \", index_to_label)"
      ]
    },
    {
      "cell_type": "code",
      "execution_count": 83,
      "metadata": {
        "colab": {
          "base_uri": "https://localhost:8080/"
        },
        "id": "De1UHnNsI3X4",
        "outputId": "7439bcbb-2a11-49cb-bff2-8a29b6c5dfb6"
      },
      "outputs": [
        {
          "name": "stdout",
          "output_type": "stream",
          "text": [
            "Index to label mapping saved to 'output/new_categories.json'\n"
          ]
        }
      ],
      "source": [
        "# Save the index-to-label mapping to a JSON file\n",
        "with open('output/news_categories.json', 'w') as json_file:\n",
        "    dump(index_to_label, json_file, indent=4)\n",
        "\n",
        "print(\"Index to label mapping saved to 'output/news_categories.json'\")"
      ]
    },
    {
      "cell_type": "code",
      "execution_count": 84,
      "metadata": {
        "id": "gzg1R-fXJWYX"
      },
      "outputs": [],
      "source": [
        "df=indexed_df.select(['description','category_label'])"
      ]
    },
    {
      "cell_type": "code",
      "execution_count": 85,
      "metadata": {
        "colab": {
          "base_uri": "https://localhost:8080/"
        },
        "id": "MB8ubWUhQTbm",
        "outputId": "275aa549-456d-4452-aca1-ce8d71941b96"
      },
      "outputs": [
        {
          "name": "stderr",
          "output_type": "stream",
          "text": [
            "[Stage 261:==================================================>    (25 + 2) / 27]\r"
          ]
        },
        {
          "name": "stdout",
          "output_type": "stream",
          "text": [
            "+-----------------------------------------------------------------------------------------------------------------------------------+--------------+\n",
            "|description                                                                                                                        |category_label|\n",
            "+-----------------------------------------------------------------------------------------------------------------------------------+--------------+\n",
            "|Getting Canon with filmmaking                                                                                                      |5.0           |\n",
            "|Major Windows 10 fail is playing havoc with passwords                                                                              |5.0           |\n",
            "|Teaming and stream sniping proves to be a problem in FNCS Solos                                                                    |5.0           |\n",
            "|Samsung Galaxy S20 FE 5G renders reveal complete design ahead of launch                                                            |5.0           |\n",
            "|Covid 19 coronavirus: Second Christchurch retirement village goes into lockdown                                                    |3.0           |\n",
            "|Man dies of bubonic plague in western Mongolia | English.news.cn                                                                   |3.0           |\n",
            "|Marvel's first Muslim female superhero revealed                                                                                    |5.0           |\n",
            "|Should you be wearing a mask at home? Experts weigh in                                                                             |3.0           |\n",
            "|UCSF study: Few SF firefighters have coronavirus antibodies                                                                        |5.0           |\n",
            "|4 thoughts on “A Tongue Operated Human Machine Interface”                                                                          |5.0           |\n",
            "|Aberdeen Lockdown Survey: Tell us what you really think about the restrictions                                                     |3.0           |\n",
            "|Japan's Nintendo seen posting bumper profit as fans await pipeline update                                                          |5.0           |\n",
            "|Large study debunks myth that Vitamin D reduces risk of mood disorders                                                             |3.0           |\n",
            "|Sony's PS4 DualShock Controllers Will Not Be Compatible With PlayStation 5                                                         |5.0           |\n",
            "|Study shows high SARS-CoV-2 seroprevalence, but low death rate in Malawi's health care workers                                     |3.0           |\n",
            "|AMD’s Next-Gen Ryzen 9 4950X / 5950X ‘Vermeer’ AM4 Desktop CPU With 16 Zen 3 Cores Spotted, Engineering Sample Boosts Up To 4.8 GHz|5.0           |\n",
            "|Microsoft And TikTok: A Great Window Of Opportunity                                                                                |5.0           |\n",
            "|Google might not release Pixel 5, only the XL variant news                                                                         |5.0           |\n",
            "|AMD's new patent is an awkward copy of Intel's Lakefield architecture                                                              |5.0           |\n",
            "|People in Derry being asked to take part in clinical trials to help find a vaccine for COVID-19                                    |3.0           |\n",
            "+-----------------------------------------------------------------------------------------------------------------------------------+--------------+\n",
            "only showing top 20 rows\n",
            "\n"
          ]
        },
        {
          "name": "stderr",
          "output_type": "stream",
          "text": [
            "                                                                                \r"
          ]
        }
      ],
      "source": [
        "df.show(truncate=False)"
      ]
    },
    {
      "cell_type": "code",
      "execution_count": 86,
      "metadata": {
        "colab": {
          "base_uri": "https://localhost:8080/"
        },
        "id": "PDhQEfGZt4pe",
        "outputId": "16b5bf65-e9d4-4439-bdc2-6fc3a90a90b3"
      },
      "outputs": [
        {
          "name": "stderr",
          "output_type": "stream",
          "text": [
            "                                                                                \r"
          ]
        },
        {
          "name": "stdout",
          "output_type": "stream",
          "text": [
            "+--------------+-----+--------------+-----------+----------------+---------+\n",
            "|category_label|count|remaining_nums|sample_size|number_of_copies|remainder|\n",
            "+--------------+-----+--------------+-----------+----------------+---------+\n",
            "|           1.0|56335|         14776|      14776|               1|        0|\n",
            "|           2.0|48782|         22329|      22329|               1|        0|\n",
            "|           3.0|35287|         35824|      35287|               1|      537|\n",
            "|           4.0|32175|         38936|      32175|               1|     6761|\n",
            "|           5.0|23735|         47376|      23735|               1|    23641|\n",
            "|           6.0|18875|         52236|      18875|               2|    14486|\n",
            "|           7.0|17506|         53605|      17506|               3|     1087|\n",
            "|           8.0|15007|         56104|      15007|               3|    11083|\n",
            "|           9.0| 2823|         68288|       2823|              24|      536|\n",
            "|          10.0| 1845|         69266|       1845|              37|     1001|\n",
            "|          11.0| 1811|         69300|       1811|              38|      482|\n",
            "+--------------+-----+--------------+-----------+----------------+---------+\n",
            "\n"
          ]
        },
        {
          "data": {
            "text/plain": [
              "[1.0, 2.0, 3.0, 4.0, 5.0, 6.0, 7.0, 8.0, 9.0, 10.0, 11.0]"
            ]
          },
          "execution_count": 86,
          "metadata": {},
          "output_type": "execute_result"
        }
      ],
      "source": [
        "\n",
        "\n",
        "category_counts=df.groupby('category_label').count().orderBy(desc('count'))\n",
        "#category_counts.show()\n",
        "major_class=category_counts.first()\n",
        "major,max_num=major_class['category_label'], major_class['count']\n",
        "\n",
        "category_counts=category_counts.withColumn('remaining_nums',max_num-category_counts['count'])\n",
        "#category_counts.show()\n",
        "category_counts=category_counts.filter(category_counts.category_label!=major)\n",
        "#category_counts.show()\n",
        "# Adding both new columns in one step\n",
        "category_counts=category_counts.withColumns({\n",
        "    \"sample_size\": when(col(\"remaining_nums\") < col(\"count\"), col(\"remaining_nums\"))\n",
        "                    .otherwise(col('count')),\n",
        "\n",
        "    \"number_of_copies\": when(col(\"remaining_nums\") < col(\"count\"), 1)\n",
        "                    .otherwise(expr(\"remaining_nums div count\")),\n",
        "    \"remainder\": when(col(\"remaining_nums\") < col(\"count\"), 0)\n",
        "                    .otherwise(col(\"remaining_nums\") % col(\"count\")),\n",
        "})\n",
        "\n",
        "category_counts.show()\n",
        "\n",
        "cls = category_counts.select('category_label').collect()\n",
        "cls=[row['category_label'] for row in cls]\n",
        "cls"
      ]
    },
    {
      "cell_type": "code",
      "execution_count": 87,
      "metadata": {
        "colab": {
          "base_uri": "https://localhost:8080/"
        },
        "id": "9Ii12PkqEbJ5",
        "outputId": "23022997-f0d0-4cf5-c1ca-debfd8e75103"
      },
      "outputs": [
        {
          "name": "stdout",
          "output_type": "stream",
          "text": [
            "root\n",
            " |-- description: string (nullable = true)\n",
            " |-- category_label: double (nullable = false)\n",
            "\n"
          ]
        }
      ],
      "source": [
        "df.printSchema()"
      ]
    },
    {
      "cell_type": "markdown",
      "metadata": {
        "id": "dfsARMcqSRHi"
      },
      "source": [
        "We remark that our dataset does not have balanced categories numbers. Let us handle this by doing data augmentation"
      ]
    },
    {
      "cell_type": "code",
      "execution_count": 88,
      "metadata": {
        "id": "WAxQryzKSRHj",
        "outputId": "a0f3c04a-02f8-47c1-ef47-80fe7f266ef5"
      },
      "outputs": [
        {
          "name": "stderr",
          "output_type": "stream",
          "text": [
            "[nltk_data] Downloading package averaged_perceptron_tagger to\n",
            "[nltk_data]     /home/starias/nltk_data...\n",
            "[nltk_data]   Package averaged_perceptron_tagger is already up-to-\n",
            "[nltk_data]       date!\n",
            "[nltk_data] Downloading package punkt to /home/starias/nltk_data...\n",
            "[nltk_data]   Package punkt is already up-to-date!\n",
            "[nltk_data] Downloading package wordnet to /home/starias/nltk_data...\n",
            "[nltk_data]   Package wordnet is already up-to-date!\n",
            "                                                                                \r"
          ]
        },
        {
          "name": "stdout",
          "output_type": "stream",
          "text": [
            "Augmenting data for category: 8.0\n"
          ]
        },
        {
          "name": "stderr",
          "output_type": "stream",
          "text": [
            "                                                                                \r"
          ]
        },
        {
          "name": "stdout",
          "output_type": "stream",
          "text": [
            "Augmenting data for category: 0.0\n",
            "No data found for category: 0.0\n",
            "Augmenting data for category: 7.0\n"
          ]
        },
        {
          "name": "stderr",
          "output_type": "stream",
          "text": [
            "                                                                                \r"
          ]
        },
        {
          "name": "stdout",
          "output_type": "stream",
          "text": [
            "Augmenting data for category: 1.0\n"
          ]
        },
        {
          "name": "stderr",
          "output_type": "stream",
          "text": [
            "                                                                                \r"
          ]
        },
        {
          "name": "stdout",
          "output_type": "stream",
          "text": [
            "Augmenting data for category: 4.0\n"
          ]
        },
        {
          "name": "stderr",
          "output_type": "stream",
          "text": [
            "                                                                                \r"
          ]
        },
        {
          "name": "stdout",
          "output_type": "stream",
          "text": [
            "Augmenting data for category: 11.0\n"
          ]
        },
        {
          "name": "stderr",
          "output_type": "stream",
          "text": [
            "                                                                                \r"
          ]
        },
        {
          "name": "stdout",
          "output_type": "stream",
          "text": [
            "Augmenting data for category: 3.0\n"
          ]
        },
        {
          "name": "stderr",
          "output_type": "stream",
          "text": [
            "                                                                                \r"
          ]
        },
        {
          "name": "stdout",
          "output_type": "stream",
          "text": [
            "Augmenting data for category: 2.0\n"
          ]
        },
        {
          "name": "stderr",
          "output_type": "stream",
          "text": [
            "                                                                                \r"
          ]
        },
        {
          "name": "stdout",
          "output_type": "stream",
          "text": [
            "Augmenting data for category: 10.0\n"
          ]
        },
        {
          "name": "stderr",
          "output_type": "stream",
          "text": [
            "                                                                                \r"
          ]
        },
        {
          "name": "stdout",
          "output_type": "stream",
          "text": [
            "Augmenting data for category: 6.0\n"
          ]
        },
        {
          "name": "stderr",
          "output_type": "stream",
          "text": [
            "                                                                                \r"
          ]
        },
        {
          "name": "stdout",
          "output_type": "stream",
          "text": [
            "Augmenting data for category: 5.0\n"
          ]
        },
        {
          "name": "stderr",
          "output_type": "stream",
          "text": [
            "                                                                                \r"
          ]
        },
        {
          "name": "stdout",
          "output_type": "stream",
          "text": [
            "Augmenting data for category: 9.0\n"
          ]
        },
        {
          "name": "stderr",
          "output_type": "stream",
          "text": [
            "                                                                                \r"
          ]
        }
      ],
      "source": [
        "# Download necessary NLTK data\n",
        "download('averaged_perceptron_tagger')\n",
        "download('punkt')\n",
        "download('wordnet')\n",
        "\n",
        "# Initialize augmenter for synonym replacement using WordNet\n",
        "aug = naw.SynonymAug(aug_src='wordnet')\n",
        "\n",
        "# Function to generate augmented sentences\n",
        "def generate_wordnet_augmented_sentences(original_sentence, num_instances=5):\n",
        "    augmented_sentences = [aug.augment(original_sentence) for _ in range(num_instances)]\n",
        "    return augmented_sentences\n",
        "\n",
        "def augment_data(df, category_counts):\n",
        "    augmented_df = df\n",
        "\n",
        "    for class_num_row in df.select('category_label').distinct().collect():\n",
        "        class_num = class_num_row['category_label']\n",
        "        print(f\"Augmenting data for category: {class_num}\")\n",
        "\n",
        "        # Filter category_counts for the current class_num\n",
        "        filtered_counts = category_counts.filter(col('category_label') == class_num).select(['remaining_nums', 'sample_size', 'number_of_copies', 'remainder']).collect()\n",
        "\n",
        "        # Check if filtered_counts is empty (though it shouldn't be based on provided data)\n",
        "        if len(filtered_counts) == 0:\n",
        "            print(f\"No data found for category: {class_num}\")\n",
        "            continue\n",
        "\n",
        "        x = filtered_counts[0]  # Assuming there's only one row per category_label\n",
        "\n",
        "        r, size, num_cp, remainder = x['remaining_nums'], x['sample_size'], x['number_of_copies'], x['remainder']\n",
        "\n",
        "        # Filter the DataFrame and select the required column\n",
        "        result = df.filter(col('category_label') == class_num).filter(length(col('description')) >= 5).select('description').collect()[:size]\n",
        "\n",
        "        # Convert the result to an array of strings\n",
        "        description_filtered_array = [row['description'] for row in result]\n",
        "\n",
        "        augmented_descriptions = []\n",
        "        for desc in description_filtered_array:\n",
        "            augmented_descriptions.extend(generate_wordnet_augmented_sentences(desc, num_instances=num_cp))\n",
        "\n",
        "        if remainder != 0:\n",
        "            for desc in description_filtered_array[:remainder]:\n",
        "                augmented_descriptions.append(generate_wordnet_augmented_sentences(desc, num_instances=1)[0])\n",
        "\n",
        "        # Create a list of tuples combining category_label and descriptions\n",
        "        rows = [(desc, class_num) for desc in augmented_descriptions]\n",
        "\n",
        "        # Create a new DataFrame from the list of tuples\n",
        "        new_df = spark.createDataFrame(rows, schema=df.schema)\n",
        "\n",
        "        # Union the new DataFrame with the original DataFrame\n",
        "        augmented_df = augmented_df.union(new_df)\n",
        "\n",
        "    return augmented_df\n",
        "\n",
        "# Example usage\n",
        "# Assuming df is your original DataFrame and category_counts is the DataFrame containing category statistics\n",
        "augmented_df = augment_data(df, category_counts)\n"
      ]
    },
    {
      "cell_type": "code",
      "execution_count": 89,
      "metadata": {
        "id": "u_jeUMbYSRHj"
      },
      "outputs": [
        {
          "name": "stdout",
          "output_type": "stream",
          "text": [
            "+-----------------------------------------------------------------------------------------------------------------------------------+--------------+\n",
            "|description                                                                                                                        |category_label|\n",
            "+-----------------------------------------------------------------------------------------------------------------------------------+--------------+\n",
            "|Getting Canon with filmmaking                                                                                                      |5.0           |\n",
            "|Major Windows 10 fail is playing havoc with passwords                                                                              |5.0           |\n",
            "|Teaming and stream sniping proves to be a problem in FNCS Solos                                                                    |5.0           |\n",
            "|Samsung Galaxy S20 FE 5G renders reveal complete design ahead of launch                                                            |5.0           |\n",
            "|Covid 19 coronavirus: Second Christchurch retirement village goes into lockdown                                                    |3.0           |\n",
            "|Man dies of bubonic plague in western Mongolia | English.news.cn                                                                   |3.0           |\n",
            "|Marvel's first Muslim female superhero revealed                                                                                    |5.0           |\n",
            "|Should you be wearing a mask at home? Experts weigh in                                                                             |3.0           |\n",
            "|UCSF study: Few SF firefighters have coronavirus antibodies                                                                        |5.0           |\n",
            "|4 thoughts on “A Tongue Operated Human Machine Interface”                                                                          |5.0           |\n",
            "|Aberdeen Lockdown Survey: Tell us what you really think about the restrictions                                                     |3.0           |\n",
            "|Japan's Nintendo seen posting bumper profit as fans await pipeline update                                                          |5.0           |\n",
            "|Large study debunks myth that Vitamin D reduces risk of mood disorders                                                             |3.0           |\n",
            "|Sony's PS4 DualShock Controllers Will Not Be Compatible With PlayStation 5                                                         |5.0           |\n",
            "|Study shows high SARS-CoV-2 seroprevalence, but low death rate in Malawi's health care workers                                     |3.0           |\n",
            "|AMD’s Next-Gen Ryzen 9 4950X / 5950X ‘Vermeer’ AM4 Desktop CPU With 16 Zen 3 Cores Spotted, Engineering Sample Boosts Up To 4.8 GHz|5.0           |\n",
            "|Microsoft And TikTok: A Great Window Of Opportunity                                                                                |5.0           |\n",
            "|Google might not release Pixel 5, only the XL variant news                                                                         |5.0           |\n",
            "|AMD's new patent is an awkward copy of Intel's Lakefield architecture                                                              |5.0           |\n",
            "|People in Derry being asked to take part in clinical trials to help find a vaccine for COVID-19                                    |3.0           |\n",
            "+-----------------------------------------------------------------------------------------------------------------------------------+--------------+\n",
            "only showing top 20 rows\n",
            "\n"
          ]
        }
      ],
      "source": [
        "augmented_df.show(truncate=False)"
      ]
    },
    {
      "cell_type": "code",
      "execution_count": 90,
      "metadata": {
        "id": "UxE5PP4TY9oF"
      },
      "outputs": [
        {
          "name": "stderr",
          "output_type": "stream",
          "text": [
            "                                                                                \r"
          ]
        },
        {
          "data": {
            "text/plain": [
              "853332"
            ]
          },
          "execution_count": 90,
          "metadata": {},
          "output_type": "execute_result"
        }
      ],
      "source": [
        "augmented_df.count()"
      ]
    },
    {
      "cell_type": "code",
      "execution_count": 91,
      "metadata": {
        "id": "IfHMr1OySRHk",
        "outputId": "6deea643-9775-4d20-eeb5-2a0d5597d5f6"
      },
      "outputs": [],
      "source": [
        "#categories_counts.show()"
      ]
    },
    {
      "cell_type": "code",
      "execution_count": 92,
      "metadata": {
        "colab": {
          "base_uri": "https://localhost:8080/"
        },
        "id": "i8q9WjVrhPfY",
        "outputId": "ebfd9aca-b36d-4fdb-ce0e-ea9d798574a6"
      },
      "outputs": [
        {
          "name": "stdout",
          "output_type": "stream",
          "text": [
            "root\n",
            " |-- description: string (nullable = true)\n",
            " |-- category_label: double (nullable = false)\n",
            "\n"
          ]
        }
      ],
      "source": [
        "augmented_df.printSchema()"
      ]
    },
    {
      "cell_type": "code",
      "execution_count": 93,
      "metadata": {
        "colab": {
          "base_uri": "https://localhost:8080/"
        },
        "id": "l9E31P8-UJ4r",
        "outputId": "b31ca65a-e729-4597-ebb1-bdf3cb04505b"
      },
      "outputs": [
        {
          "name": "stderr",
          "output_type": "stream",
          "text": [
            "[Stage 487:================================================>      (24 + 3) / 27]\r"
          ]
        },
        {
          "name": "stdout",
          "output_type": "stream",
          "text": [
            "+-----------------------------------------------------------------------------------------------------------------------------------+--------------+\n",
            "|description                                                                                                                        |category_label|\n",
            "+-----------------------------------------------------------------------------------------------------------------------------------+--------------+\n",
            "|Getting Canon with filmmaking                                                                                                      |5.0           |\n",
            "|Major Windows 10 fail is playing havoc with passwords                                                                              |5.0           |\n",
            "|Teaming and stream sniping proves to be a problem in FNCS Solos                                                                    |5.0           |\n",
            "|Samsung Galaxy S20 FE 5G renders reveal complete design ahead of launch                                                            |5.0           |\n",
            "|Covid 19 coronavirus: Second Christchurch retirement village goes into lockdown                                                    |3.0           |\n",
            "|Man dies of bubonic plague in western Mongolia | English.news.cn                                                                   |3.0           |\n",
            "|Marvel's first Muslim female superhero revealed                                                                                    |5.0           |\n",
            "|Should you be wearing a mask at home? Experts weigh in                                                                             |3.0           |\n",
            "|UCSF study: Few SF firefighters have coronavirus antibodies                                                                        |5.0           |\n",
            "|4 thoughts on “A Tongue Operated Human Machine Interface”                                                                          |5.0           |\n",
            "|Aberdeen Lockdown Survey: Tell us what you really think about the restrictions                                                     |3.0           |\n",
            "|Japan's Nintendo seen posting bumper profit as fans await pipeline update                                                          |5.0           |\n",
            "|Large study debunks myth that Vitamin D reduces risk of mood disorders                                                             |3.0           |\n",
            "|Sony's PS4 DualShock Controllers Will Not Be Compatible With PlayStation 5                                                         |5.0           |\n",
            "|Study shows high SARS-CoV-2 seroprevalence, but low death rate in Malawi's health care workers                                     |3.0           |\n",
            "|AMD’s Next-Gen Ryzen 9 4950X / 5950X ‘Vermeer’ AM4 Desktop CPU With 16 Zen 3 Cores Spotted, Engineering Sample Boosts Up To 4.8 GHz|5.0           |\n",
            "|Microsoft And TikTok: A Great Window Of Opportunity                                                                                |5.0           |\n",
            "|Google might not release Pixel 5, only the XL variant news                                                                         |5.0           |\n",
            "|AMD's new patent is an awkward copy of Intel's Lakefield architecture                                                              |5.0           |\n",
            "|People in Derry being asked to take part in clinical trials to help find a vaccine for COVID-19                                    |3.0           |\n",
            "+-----------------------------------------------------------------------------------------------------------------------------------+--------------+\n",
            "only showing top 20 rows\n",
            "\n"
          ]
        },
        {
          "name": "stderr",
          "output_type": "stream",
          "text": [
            "                                                                                \r"
          ]
        }
      ],
      "source": [
        "augmented_df.show(truncate=False)"
      ]
    },
    {
      "cell_type": "code",
      "execution_count": 94,
      "metadata": {
        "colab": {
          "base_uri": "https://localhost:8080/"
        },
        "id": "irL47O-IhPfY",
        "outputId": "bee01350-b691-4060-e594-10dc83042c2e"
      },
      "outputs": [
        {
          "name": "stderr",
          "output_type": "stream",
          "text": [
            "[Stage 492:====================================================>  (92 + 4) / 96]\r"
          ]
        },
        {
          "name": "stdout",
          "output_type": "stream",
          "text": [
            "+--------------+-----+\n",
            "|category_label|count|\n",
            "+--------------+-----+\n",
            "|8.0           |71111|\n",
            "|0.0           |71111|\n",
            "|7.0           |71111|\n",
            "|1.0           |71111|\n",
            "|4.0           |71111|\n",
            "|11.0          |71111|\n",
            "|3.0           |71111|\n",
            "|2.0           |71111|\n",
            "|10.0          |71111|\n",
            "|6.0           |71111|\n",
            "|5.0           |71111|\n",
            "|9.0           |71111|\n",
            "+--------------+-----+\n",
            "\n"
          ]
        },
        {
          "name": "stderr",
          "output_type": "stream",
          "text": [
            "                                                                                \r"
          ]
        }
      ],
      "source": [
        "# Now group by categories in desc order or count\n",
        "\n",
        "augmented_df.groupBy(augmented_df.category_label).count().orderBy(col('count').desc()).show(13,truncate=False)"
      ]
    },
    {
      "cell_type": "markdown",
      "metadata": {
        "id": "4X8MJcC5ZE5Q"
      },
      "source": [
        "Now let us perform the following text cleaning tasks on our description column:\n",
        "\n",
        "We wiil:\n",
        " - Remove accents and special characters such as accents, punctuations, to keep only spaces and alpha numerical characters\n",
        " - Remove extra spaces\n",
        " - Transform the text to lowercase\n"
      ]
    },
    {
      "cell_type": "code",
      "execution_count": 95,
      "metadata": {
        "colab": {
          "base_uri": "https://localhost:8080/"
        },
        "id": "h4JwuakTMWuJ",
        "outputId": "7fb270d4-c4b5-47ed-91af-be0ab91fb249"
      },
      "outputs": [
        {
          "name": "stderr",
          "output_type": "stream",
          "text": [
            "[Stage 496:================================================>      (24 + 3) / 27]\r"
          ]
        },
        {
          "name": "stdout",
          "output_type": "stream",
          "text": [
            "+---------------------------------------------------------------------------------------------------------------------------+--------------+\n",
            "|description                                                                                                                |category_label|\n",
            "+---------------------------------------------------------------------------------------------------------------------------+--------------+\n",
            "|Getting Canon with filmmaking                                                                                              |5.0           |\n",
            "|Major Windows 10 fail is playing havoc with passwords                                                                      |5.0           |\n",
            "|Teaming and stream sniping proves to be a problem in FNCS Solos                                                            |5.0           |\n",
            "|Samsung Galaxy S20 FE 5G renders reveal complete design ahead of launch                                                    |5.0           |\n",
            "|Covid 19 coronavirus Second Christchurch retirement village goes into lockdown                                             |3.0           |\n",
            "|Man dies of bubonic plague in western Mongolia Englishnewscn                                                               |3.0           |\n",
            "|Marvels first Muslim female superhero revealed                                                                             |5.0           |\n",
            "|Should you be wearing a mask at home Experts weigh in                                                                      |3.0           |\n",
            "|UCSF study Few SF firefighters have coronavirus antibodies                                                                 |5.0           |\n",
            "|4 thoughts on A Tongue Operated Human Machine Interface                                                                    |5.0           |\n",
            "|Aberdeen Lockdown Survey Tell us what you really think about the restrictions                                              |3.0           |\n",
            "|Japans Nintendo seen posting bumper profit as fans await pipeline update                                                   |5.0           |\n",
            "|Large study debunks myth that Vitamin D reduces risk of mood disorders                                                     |3.0           |\n",
            "|Sonys PS4 DualShock Controllers Will Not Be Compatible With PlayStation 5                                                  |5.0           |\n",
            "|Study shows high SARSCoV2 seroprevalence but low death rate in Malawis health care workers                                 |3.0           |\n",
            "|AMDs NextGen Ryzen 9 4950X 5950X Vermeer AM4 Desktop CPU With 16 Zen 3 Cores Spotted Engineering Sample Boosts Up To 48 GHz|5.0           |\n",
            "|Microsoft And TikTok A Great Window Of Opportunity                                                                         |5.0           |\n",
            "|Google might not release Pixel 5 only the XL variant news                                                                  |5.0           |\n",
            "|AMDs new patent is an awkward copy of Intels Lakefield architecture                                                        |5.0           |\n",
            "|People in Derry being asked to take part in clinical trials to help find a vaccine for COVID19                             |3.0           |\n",
            "+---------------------------------------------------------------------------------------------------------------------------+--------------+\n",
            "only showing top 20 rows\n",
            "\n"
          ]
        },
        {
          "name": "stderr",
          "output_type": "stream",
          "text": [
            "                                                                                \r"
          ]
        }
      ],
      "source": [
        "# Remove accents, and special characters and aso extra spaces from the 'description' column\n",
        "df_cleaned = augmented_df.withColumn(\"description\",\n",
        "                           trim(\n",
        "                               regexp_replace(\n",
        "                                   regexp_replace(col(\"description\"), r'[^a-zA-Z0-9\\s]', ''),\n",
        "                                   r'\\s+', ' ')\n",
        "                               )\n",
        "                           )\n",
        "# Show the result\n",
        "df_cleaned.show(truncate=False)"
      ]
    },
    {
      "cell_type": "code",
      "execution_count": 96,
      "metadata": {
        "colab": {
          "base_uri": "https://localhost:8080/"
        },
        "id": "hp-7qBxFjfe5",
        "outputId": "fc63751d-47b4-4130-9599-393fa8c16298"
      },
      "outputs": [
        {
          "name": "stderr",
          "output_type": "stream",
          "text": [
            "                                                                                \r"
          ]
        },
        {
          "name": "stdout",
          "output_type": "stream",
          "text": [
            "+---------------------------------------------------------------------------------------------------------------------------+--------------+---------------------------------------------------------------------------------------------------------------------------+\n",
            "|description                                                                                                                |category_label|description_lowercase                                                                                                      |\n",
            "+---------------------------------------------------------------------------------------------------------------------------+--------------+---------------------------------------------------------------------------------------------------------------------------+\n",
            "|Getting Canon with filmmaking                                                                                              |5.0           |getting canon with filmmaking                                                                                              |\n",
            "|Major Windows 10 fail is playing havoc with passwords                                                                      |5.0           |major windows 10 fail is playing havoc with passwords                                                                      |\n",
            "|Teaming and stream sniping proves to be a problem in FNCS Solos                                                            |5.0           |teaming and stream sniping proves to be a problem in fncs solos                                                            |\n",
            "|Samsung Galaxy S20 FE 5G renders reveal complete design ahead of launch                                                    |5.0           |samsung galaxy s20 fe 5g renders reveal complete design ahead of launch                                                    |\n",
            "|Covid 19 coronavirus Second Christchurch retirement village goes into lockdown                                             |3.0           |covid 19 coronavirus second christchurch retirement village goes into lockdown                                             |\n",
            "|Man dies of bubonic plague in western Mongolia Englishnewscn                                                               |3.0           |man dies of bubonic plague in western mongolia englishnewscn                                                               |\n",
            "|Marvels first Muslim female superhero revealed                                                                             |5.0           |marvels first muslim female superhero revealed                                                                             |\n",
            "|Should you be wearing a mask at home Experts weigh in                                                                      |3.0           |should you be wearing a mask at home experts weigh in                                                                      |\n",
            "|UCSF study Few SF firefighters have coronavirus antibodies                                                                 |5.0           |ucsf study few sf firefighters have coronavirus antibodies                                                                 |\n",
            "|4 thoughts on A Tongue Operated Human Machine Interface                                                                    |5.0           |4 thoughts on a tongue operated human machine interface                                                                    |\n",
            "|Aberdeen Lockdown Survey Tell us what you really think about the restrictions                                              |3.0           |aberdeen lockdown survey tell us what you really think about the restrictions                                              |\n",
            "|Japans Nintendo seen posting bumper profit as fans await pipeline update                                                   |5.0           |japans nintendo seen posting bumper profit as fans await pipeline update                                                   |\n",
            "|Large study debunks myth that Vitamin D reduces risk of mood disorders                                                     |3.0           |large study debunks myth that vitamin d reduces risk of mood disorders                                                     |\n",
            "|Sonys PS4 DualShock Controllers Will Not Be Compatible With PlayStation 5                                                  |5.0           |sonys ps4 dualshock controllers will not be compatible with playstation 5                                                  |\n",
            "|Study shows high SARSCoV2 seroprevalence but low death rate in Malawis health care workers                                 |3.0           |study shows high sarscov2 seroprevalence but low death rate in malawis health care workers                                 |\n",
            "|AMDs NextGen Ryzen 9 4950X 5950X Vermeer AM4 Desktop CPU With 16 Zen 3 Cores Spotted Engineering Sample Boosts Up To 48 GHz|5.0           |amds nextgen ryzen 9 4950x 5950x vermeer am4 desktop cpu with 16 zen 3 cores spotted engineering sample boosts up to 48 ghz|\n",
            "|Microsoft And TikTok A Great Window Of Opportunity                                                                         |5.0           |microsoft and tiktok a great window of opportunity                                                                         |\n",
            "|Google might not release Pixel 5 only the XL variant news                                                                  |5.0           |google might not release pixel 5 only the xl variant news                                                                  |\n",
            "|AMDs new patent is an awkward copy of Intels Lakefield architecture                                                        |5.0           |amds new patent is an awkward copy of intels lakefield architecture                                                        |\n",
            "|People in Derry being asked to take part in clinical trials to help find a vaccine for COVID19                             |3.0           |people in derry being asked to take part in clinical trials to help find a vaccine for covid19                             |\n",
            "+---------------------------------------------------------------------------------------------------------------------------+--------------+---------------------------------------------------------------------------------------------------------------------------+\n",
            "only showing top 20 rows\n",
            "\n"
          ]
        },
        {
          "name": "stderr",
          "output_type": "stream",
          "text": [
            "                                                                                \r"
          ]
        },
        {
          "data": {
            "text/plain": [
              "0"
            ]
          },
          "execution_count": 96,
          "metadata": {},
          "output_type": "execute_result"
        }
      ],
      "source": [
        "# Transform the cleaned description to lowercase\n",
        "df_lowercase=df_cleaned.withColumn('description_lowercase',lower(df_cleaned['description']))\n",
        "df_lowercase.show(truncate=False)\n",
        "df_lowercase.filter(df_lowercase.description_lowercase.isNull()).count()"
      ]
    },
    {
      "cell_type": "code",
      "execution_count": 97,
      "metadata": {
        "colab": {
          "base_uri": "https://localhost:8080/"
        },
        "id": "zWdjPJH3DE0p",
        "outputId": "84eb1b2e-a669-40e8-83fa-5b8dbf919ba2"
      },
      "outputs": [
        {
          "name": "stderr",
          "output_type": "stream",
          "text": [
            "                                                                                \r"
          ]
        },
        {
          "name": "stdout",
          "output_type": "stream",
          "text": [
            "+---------------------+--------------+\n",
            "|description_lowercase|category_label|\n",
            "+---------------------+--------------+\n",
            "| getting canon wit...|           5.0|\n",
            "| major windows 10 ...|           5.0|\n",
            "| teaming and strea...|           5.0|\n",
            "| samsung galaxy s2...|           5.0|\n",
            "| covid 19 coronavi...|           3.0|\n",
            "| man dies of bubon...|           3.0|\n",
            "| marvels first mus...|           5.0|\n",
            "| should you be wea...|           3.0|\n",
            "| ucsf study few sf...|           5.0|\n",
            "| 4 thoughts on a t...|           5.0|\n",
            "| aberdeen lockdown...|           3.0|\n",
            "| japans nintendo s...|           5.0|\n",
            "| large study debun...|           3.0|\n",
            "| sonys ps4 dualsho...|           5.0|\n",
            "| study shows high ...|           3.0|\n",
            "| amds nextgen ryze...|           5.0|\n",
            "| microsoft and tik...|           5.0|\n",
            "| google might not ...|           5.0|\n",
            "| amds new patent i...|           5.0|\n",
            "| people in derry b...|           3.0|\n",
            "+---------------------+--------------+\n",
            "only showing top 20 rows\n",
            "\n"
          ]
        },
        {
          "name": "stderr",
          "output_type": "stream",
          "text": [
            "                                                                                \r"
          ]
        },
        {
          "data": {
            "text/plain": [
              "853332"
            ]
          },
          "execution_count": 97,
          "metadata": {},
          "output_type": "execute_result"
        }
      ],
      "source": [
        "# Select our relevant columns\n",
        "df=df_lowercase.select(['description_lowercase','category_label'])\n",
        "df.show()\n",
        "df.count()"
      ]
    },
    {
      "cell_type": "markdown",
      "metadata": {
        "id": "ZCGJCM00Gvwf"
      },
      "source": [
        "Let us show the number of rows with empty lowercase description"
      ]
    },
    {
      "cell_type": "code",
      "execution_count": 98,
      "metadata": {
        "colab": {
          "base_uri": "https://localhost:8080/"
        },
        "id": "5u5r_fiZj8B8",
        "outputId": "717c95da-9ca1-4486-ac3c-2a873ca2301e"
      },
      "outputs": [
        {
          "name": "stderr",
          "output_type": "stream",
          "text": [
            "                                                                                \r"
          ]
        },
        {
          "data": {
            "text/plain": [
              "0"
            ]
          },
          "execution_count": 98,
          "metadata": {},
          "output_type": "execute_result"
        }
      ],
      "source": [
        "df.filter(df.description_lowercase=='').count()"
      ]
    },
    {
      "cell_type": "markdown",
      "metadata": {
        "id": "A6MERSlUG6am"
      },
      "source": [
        "Let us drop them"
      ]
    },
    {
      "cell_type": "code",
      "execution_count": 99,
      "metadata": {
        "id": "Pc3URG9ZkWoT"
      },
      "outputs": [],
      "source": [
        "df=df.filter(df.description_lowercase!='')"
      ]
    },
    {
      "cell_type": "markdown",
      "metadata": {
        "id": "YP-M3XOIF20Q"
      },
      "source": [
        "\n",
        "Now it is time to perform the following transformations:\n",
        "\n",
        "- Tokenization:\n",
        "\n",
        "  Here we will split the text into several elements or tokens\n",
        "\n",
        "- Lemmatization: We will convert the words into their root form: for example,  is am to be\n",
        "\n",
        "- Stop words removal: We will remove words that doesn't apport meaningful values to the description: for ex with, at, and, etc."
      ]
    },
    {
      "cell_type": "code",
      "execution_count": 100,
      "metadata": {
        "colab": {
          "base_uri": "https://localhost:8080/"
        },
        "id": "TKG6DX_EkFzu",
        "outputId": "b6699ff1-a420-4917-bd01-29cfa432c473"
      },
      "outputs": [
        {
          "name": "stderr",
          "output_type": "stream",
          "text": [
            "[Stage 519:==================================================>    (25 + 2) / 27]\r"
          ]
        },
        {
          "name": "stdout",
          "output_type": "stream",
          "text": [
            "+---------------------------------------------------------------------------------------------------------------------------+---------------------------------------------------------------------------------------------------------------------------------------------------+\n",
            "|description_lowercase                                                                                                      |tokens                                                                                                                                             |\n",
            "+---------------------------------------------------------------------------------------------------------------------------+---------------------------------------------------------------------------------------------------------------------------------------------------+\n",
            "|getting canon with filmmaking                                                                                              |[getting, canon, with, filmmaking]                                                                                                                 |\n",
            "|major windows 10 fail is playing havoc with passwords                                                                      |[major, windows, 10, fail, is, playing, havoc, with, passwords]                                                                                    |\n",
            "|teaming and stream sniping proves to be a problem in fncs solos                                                            |[teaming, and, stream, sniping, proves, to, be, a, problem, in, fncs, solos]                                                                       |\n",
            "|samsung galaxy s20 fe 5g renders reveal complete design ahead of launch                                                    |[samsung, galaxy, s20, fe, 5g, renders, reveal, complete, design, ahead, of, launch]                                                               |\n",
            "|covid 19 coronavirus second christchurch retirement village goes into lockdown                                             |[covid, 19, coronavirus, second, christchurch, retirement, village, goes, into, lockdown]                                                          |\n",
            "|man dies of bubonic plague in western mongolia englishnewscn                                                               |[man, dies, of, bubonic, plague, in, western, mongolia, englishnewscn]                                                                             |\n",
            "|marvels first muslim female superhero revealed                                                                             |[marvels, first, muslim, female, superhero, revealed]                                                                                              |\n",
            "|should you be wearing a mask at home experts weigh in                                                                      |[should, you, be, wearing, a, mask, at, home, experts, weigh, in]                                                                                  |\n",
            "|ucsf study few sf firefighters have coronavirus antibodies                                                                 |[ucsf, study, few, sf, firefighters, have, coronavirus, antibodies]                                                                                |\n",
            "|4 thoughts on a tongue operated human machine interface                                                                    |[4, thoughts, on, a, tongue, operated, human, machine, interface]                                                                                  |\n",
            "|aberdeen lockdown survey tell us what you really think about the restrictions                                              |[aberdeen, lockdown, survey, tell, us, what, you, really, think, about, the, restrictions]                                                         |\n",
            "|japans nintendo seen posting bumper profit as fans await pipeline update                                                   |[japans, nintendo, seen, posting, bumper, profit, as, fans, await, pipeline, update]                                                               |\n",
            "|large study debunks myth that vitamin d reduces risk of mood disorders                                                     |[large, study, debunks, myth, that, vitamin, d, reduces, risk, of, mood, disorders]                                                                |\n",
            "|sonys ps4 dualshock controllers will not be compatible with playstation 5                                                  |[sonys, ps4, dualshock, controllers, will, not, be, compatible, with, playstation, 5]                                                              |\n",
            "|study shows high sarscov2 seroprevalence but low death rate in malawis health care workers                                 |[study, shows, high, sarscov2, seroprevalence, but, low, death, rate, in, malawis, health, care, workers]                                          |\n",
            "|amds nextgen ryzen 9 4950x 5950x vermeer am4 desktop cpu with 16 zen 3 cores spotted engineering sample boosts up to 48 ghz|[amds, nextgen, ryzen, 9, 4950x, 5950x, vermeer, am4, desktop, cpu, with, 16, zen, 3, cores, spotted, engineering, sample, boosts, up, to, 48, ghz]|\n",
            "|microsoft and tiktok a great window of opportunity                                                                         |[microsoft, and, tiktok, a, great, window, of, opportunity]                                                                                        |\n",
            "|google might not release pixel 5 only the xl variant news                                                                  |[google, might, not, release, pixel, 5, only, the, xl, variant, news]                                                                              |\n",
            "|amds new patent is an awkward copy of intels lakefield architecture                                                        |[amds, new, patent, is, an, awkward, copy, of, intels, lakefield, architecture]                                                                    |\n",
            "|people in derry being asked to take part in clinical trials to help find a vaccine for covid19                             |[people, in, derry, being, asked, to, take, part, in, clinical, trials, to, help, find, a, vaccine, for, covid19]                                  |\n",
            "+---------------------------------------------------------------------------------------------------------------------------+---------------------------------------------------------------------------------------------------------------------------------------------------+\n",
            "only showing top 20 rows\n",
            "\n"
          ]
        },
        {
          "name": "stderr",
          "output_type": "stream",
          "text": [
            "                                                                                \r"
          ]
        }
      ],
      "source": [
        "# Initialize Tokenizer\n",
        "tokenizer = Tokenizer(inputCol=\"description_lowercase\", outputCol=\"tokens\")\n",
        "\n",
        "# Transform the DataFrame\n",
        "df_tokenized = tokenizer.transform(df)\n",
        "\n",
        "# Show the result\n",
        "df_tokenized.select(\"description_lowercase\", \"tokens\").show(truncate=False)"
      ]
    },
    {
      "cell_type": "code",
      "execution_count": 101,
      "metadata": {
        "colab": {
          "base_uri": "https://localhost:8080/"
        },
        "id": "KrUkkq3ilqPQ",
        "outputId": "f5234edd-4dee-40de-e69e-0660e4f5eebb"
      },
      "outputs": [
        {
          "name": "stderr",
          "output_type": "stream",
          "text": [
            "[nltk_data] Downloading package wordnet to /home/starias/nltk_data...\n",
            "[nltk_data]   Package wordnet is already up-to-date!\n",
            "[Stage 524:>                                                        (0 + 1) / 1]\r"
          ]
        },
        {
          "name": "stdout",
          "output_type": "stream",
          "text": [
            "+---------------------------------------------------------------------------------------------------------------------------+---------------------------------------------------------------------------------------------------------------------------------------------------+------------------------------------------------------------------------------------------------------------------------------------------------+\n",
            "|description_lowercase                                                                                                      |tokens                                                                                                                                             |lemmas                                                                                                                                          |\n",
            "+---------------------------------------------------------------------------------------------------------------------------+---------------------------------------------------------------------------------------------------------------------------------------------------+------------------------------------------------------------------------------------------------------------------------------------------------+\n",
            "|getting canon with filmmaking                                                                                              |[getting, canon, with, filmmaking]                                                                                                                 |[getting, canon, with, filmmaking]                                                                                                              |\n",
            "|major windows 10 fail is playing havoc with passwords                                                                      |[major, windows, 10, fail, is, playing, havoc, with, passwords]                                                                                    |[major, window, 10, fail, is, playing, havoc, with, password]                                                                                   |\n",
            "|teaming and stream sniping proves to be a problem in fncs solos                                                            |[teaming, and, stream, sniping, proves, to, be, a, problem, in, fncs, solos]                                                                       |[teaming, and, stream, sniping, prof, to, be, a, problem, in, fncs, solo]                                                                       |\n",
            "|samsung galaxy s20 fe 5g renders reveal complete design ahead of launch                                                    |[samsung, galaxy, s20, fe, 5g, renders, reveal, complete, design, ahead, of, launch]                                                               |[samsung, galaxy, s20, fe, 5g, render, reveal, complete, design, ahead, of, launch]                                                             |\n",
            "|covid 19 coronavirus second christchurch retirement village goes into lockdown                                             |[covid, 19, coronavirus, second, christchurch, retirement, village, goes, into, lockdown]                                                          |[covid, 19, coronavirus, second, christchurch, retirement, village, go, into, lockdown]                                                         |\n",
            "|man dies of bubonic plague in western mongolia englishnewscn                                                               |[man, dies, of, bubonic, plague, in, western, mongolia, englishnewscn]                                                                             |[man, dy, of, bubonic, plague, in, western, mongolia, englishnewscn]                                                                            |\n",
            "|marvels first muslim female superhero revealed                                                                             |[marvels, first, muslim, female, superhero, revealed]                                                                                              |[marvel, first, muslim, female, superhero, revealed]                                                                                            |\n",
            "|should you be wearing a mask at home experts weigh in                                                                      |[should, you, be, wearing, a, mask, at, home, experts, weigh, in]                                                                                  |[should, you, be, wearing, a, mask, at, home, expert, weigh, in]                                                                                |\n",
            "|ucsf study few sf firefighters have coronavirus antibodies                                                                 |[ucsf, study, few, sf, firefighters, have, coronavirus, antibodies]                                                                                |[ucsf, study, few, sf, firefighter, have, coronavirus, antibody]                                                                                |\n",
            "|4 thoughts on a tongue operated human machine interface                                                                    |[4, thoughts, on, a, tongue, operated, human, machine, interface]                                                                                  |[4, thought, on, a, tongue, operated, human, machine, interface]                                                                                |\n",
            "|aberdeen lockdown survey tell us what you really think about the restrictions                                              |[aberdeen, lockdown, survey, tell, us, what, you, really, think, about, the, restrictions]                                                         |[aberdeen, lockdown, survey, tell, u, what, you, really, think, about, the, restriction]                                                        |\n",
            "|japans nintendo seen posting bumper profit as fans await pipeline update                                                   |[japans, nintendo, seen, posting, bumper, profit, as, fans, await, pipeline, update]                                                               |[japan, nintendo, seen, posting, bumper, profit, a, fan, await, pipeline, update]                                                               |\n",
            "|large study debunks myth that vitamin d reduces risk of mood disorders                                                     |[large, study, debunks, myth, that, vitamin, d, reduces, risk, of, mood, disorders]                                                                |[large, study, debunks, myth, that, vitamin, d, reduces, risk, of, mood, disorder]                                                              |\n",
            "|sonys ps4 dualshock controllers will not be compatible with playstation 5                                                  |[sonys, ps4, dualshock, controllers, will, not, be, compatible, with, playstation, 5]                                                              |[sonys, ps4, dualshock, controller, will, not, be, compatible, with, playstation, 5]                                                            |\n",
            "|study shows high sarscov2 seroprevalence but low death rate in malawis health care workers                                 |[study, shows, high, sarscov2, seroprevalence, but, low, death, rate, in, malawis, health, care, workers]                                          |[study, show, high, sarscov2, seroprevalence, but, low, death, rate, in, malawi, health, care, worker]                                          |\n",
            "|amds nextgen ryzen 9 4950x 5950x vermeer am4 desktop cpu with 16 zen 3 cores spotted engineering sample boosts up to 48 ghz|[amds, nextgen, ryzen, 9, 4950x, 5950x, vermeer, am4, desktop, cpu, with, 16, zen, 3, cores, spotted, engineering, sample, boosts, up, to, 48, ghz]|[amd, nextgen, ryzen, 9, 4950x, 5950x, vermeer, am4, desktop, cpu, with, 16, zen, 3, core, spotted, engineering, sample, boost, up, to, 48, ghz]|\n",
            "|microsoft and tiktok a great window of opportunity                                                                         |[microsoft, and, tiktok, a, great, window, of, opportunity]                                                                                        |[microsoft, and, tiktok, a, great, window, of, opportunity]                                                                                     |\n",
            "|google might not release pixel 5 only the xl variant news                                                                  |[google, might, not, release, pixel, 5, only, the, xl, variant, news]                                                                              |[google, might, not, release, pixel, 5, only, the, xl, variant, news]                                                                           |\n",
            "|amds new patent is an awkward copy of intels lakefield architecture                                                        |[amds, new, patent, is, an, awkward, copy, of, intels, lakefield, architecture]                                                                    |[amd, new, patent, is, an, awkward, copy, of, intels, lakefield, architecture]                                                                  |\n",
            "|people in derry being asked to take part in clinical trials to help find a vaccine for covid19                             |[people, in, derry, being, asked, to, take, part, in, clinical, trials, to, help, find, a, vaccine, for, covid19]                                  |[people, in, derry, being, asked, to, take, part, in, clinical, trial, to, help, find, a, vaccine, for, covid19]                                |\n",
            "+---------------------------------------------------------------------------------------------------------------------------+---------------------------------------------------------------------------------------------------------------------------------------------------+------------------------------------------------------------------------------------------------------------------------------------------------+\n",
            "only showing top 20 rows\n",
            "\n"
          ]
        },
        {
          "name": "stderr",
          "output_type": "stream",
          "text": [
            "                                                                                \r"
          ]
        }
      ],
      "source": [
        "download('wordnet')\n",
        "lemmatizer = WordNetLemmatizer()\n",
        "\n",
        "\n",
        "# Broadcast the lemmatizer to all workers\n",
        "lemmatizer_broadcast = spark.sparkContext.broadcast(lemmatizer)\n",
        "\n",
        "# Define a UDF to lemmatize tokens\n",
        "\n",
        "def lemmatize_tokens(tokens):\n",
        "    lemmatizer = lemmatizer_broadcast.value\n",
        "    return [lemmatizer.lemmatize(token) for token in tokens]\n",
        "\n",
        "lemmatize_udf = udf(lemmatize_tokens, ArrayType(StringType()))\n",
        "\n",
        "# Apply the lemmatization UDF\n",
        "df_lemmatized = df_tokenized.withColumn(\"lemmas\", lemmatize_udf(col(\"tokens\")))\n",
        "\n",
        "\n",
        "# Show the result\n",
        "df_lemmatized.select(\"description_lowercase\", \"tokens\", \"lemmas\").show(truncate=False)"
      ]
    },
    {
      "cell_type": "code",
      "execution_count": 102,
      "metadata": {
        "colab": {
          "base_uri": "https://localhost:8080/"
        },
        "id": "BPbSSvXJlVTx",
        "outputId": "6fc6a75a-5929-40c1-ac48-3071e8b79657"
      },
      "outputs": [
        {
          "name": "stderr",
          "output_type": "stream",
          "text": [
            "[Stage 527:>                                                        (0 + 1) / 1]\r"
          ]
        },
        {
          "name": "stdout",
          "output_type": "stream",
          "text": [
            "+---------------------------------------------------------------------------------------------------------------------------+---------------------------------------------------------------------------------------------------------------------------------------------------+------------------------------------------------------------------------------------------------------------------------------------------------+----------------------------------------------------------------------------------------------------------------------------------+\n",
            "|description_lowercase                                                                                                      |tokens                                                                                                                                             |lemmas                                                                                                                                          |description_filtered                                                                                                              |\n",
            "+---------------------------------------------------------------------------------------------------------------------------+---------------------------------------------------------------------------------------------------------------------------------------------------+------------------------------------------------------------------------------------------------------------------------------------------------+----------------------------------------------------------------------------------------------------------------------------------+\n",
            "|getting canon with filmmaking                                                                                              |[getting, canon, with, filmmaking]                                                                                                                 |[getting, canon, with, filmmaking]                                                                                                              |[getting, canon, filmmaking]                                                                                                      |\n",
            "|major windows 10 fail is playing havoc with passwords                                                                      |[major, windows, 10, fail, is, playing, havoc, with, passwords]                                                                                    |[major, window, 10, fail, is, playing, havoc, with, password]                                                                                   |[major, window, 10, fail, playing, havoc, password]                                                                               |\n",
            "|teaming and stream sniping proves to be a problem in fncs solos                                                            |[teaming, and, stream, sniping, proves, to, be, a, problem, in, fncs, solos]                                                                       |[teaming, and, stream, sniping, prof, to, be, a, problem, in, fncs, solo]                                                                       |[teaming, stream, sniping, prof, problem, fncs, solo]                                                                             |\n",
            "|samsung galaxy s20 fe 5g renders reveal complete design ahead of launch                                                    |[samsung, galaxy, s20, fe, 5g, renders, reveal, complete, design, ahead, of, launch]                                                               |[samsung, galaxy, s20, fe, 5g, render, reveal, complete, design, ahead, of, launch]                                                             |[samsung, galaxy, s20, fe, 5g, render, reveal, complete, design, ahead, launch]                                                   |\n",
            "|covid 19 coronavirus second christchurch retirement village goes into lockdown                                             |[covid, 19, coronavirus, second, christchurch, retirement, village, goes, into, lockdown]                                                          |[covid, 19, coronavirus, second, christchurch, retirement, village, go, into, lockdown]                                                         |[covid, 19, coronavirus, second, christchurch, retirement, village, go, lockdown]                                                 |\n",
            "|man dies of bubonic plague in western mongolia englishnewscn                                                               |[man, dies, of, bubonic, plague, in, western, mongolia, englishnewscn]                                                                             |[man, dy, of, bubonic, plague, in, western, mongolia, englishnewscn]                                                                            |[man, dy, bubonic, plague, western, mongolia, englishnewscn]                                                                      |\n",
            "|marvels first muslim female superhero revealed                                                                             |[marvels, first, muslim, female, superhero, revealed]                                                                                              |[marvel, first, muslim, female, superhero, revealed]                                                                                            |[marvel, first, muslim, female, superhero, revealed]                                                                              |\n",
            "|should you be wearing a mask at home experts weigh in                                                                      |[should, you, be, wearing, a, mask, at, home, experts, weigh, in]                                                                                  |[should, you, be, wearing, a, mask, at, home, expert, weigh, in]                                                                                |[wearing, mask, home, expert, weigh]                                                                                              |\n",
            "|ucsf study few sf firefighters have coronavirus antibodies                                                                 |[ucsf, study, few, sf, firefighters, have, coronavirus, antibodies]                                                                                |[ucsf, study, few, sf, firefighter, have, coronavirus, antibody]                                                                                |[ucsf, study, sf, firefighter, coronavirus, antibody]                                                                             |\n",
            "|4 thoughts on a tongue operated human machine interface                                                                    |[4, thoughts, on, a, tongue, operated, human, machine, interface]                                                                                  |[4, thought, on, a, tongue, operated, human, machine, interface]                                                                                |[4, thought, tongue, operated, human, machine, interface]                                                                         |\n",
            "|aberdeen lockdown survey tell us what you really think about the restrictions                                              |[aberdeen, lockdown, survey, tell, us, what, you, really, think, about, the, restrictions]                                                         |[aberdeen, lockdown, survey, tell, u, what, you, really, think, about, the, restriction]                                                        |[aberdeen, lockdown, survey, tell, u, really, think, restriction]                                                                 |\n",
            "|japans nintendo seen posting bumper profit as fans await pipeline update                                                   |[japans, nintendo, seen, posting, bumper, profit, as, fans, await, pipeline, update]                                                               |[japan, nintendo, seen, posting, bumper, profit, a, fan, await, pipeline, update]                                                               |[japan, nintendo, seen, posting, bumper, profit, fan, await, pipeline, update]                                                    |\n",
            "|large study debunks myth that vitamin d reduces risk of mood disorders                                                     |[large, study, debunks, myth, that, vitamin, d, reduces, risk, of, mood, disorders]                                                                |[large, study, debunks, myth, that, vitamin, d, reduces, risk, of, mood, disorder]                                                              |[large, study, debunks, myth, vitamin, d, reduces, risk, mood, disorder]                                                          |\n",
            "|sonys ps4 dualshock controllers will not be compatible with playstation 5                                                  |[sonys, ps4, dualshock, controllers, will, not, be, compatible, with, playstation, 5]                                                              |[sonys, ps4, dualshock, controller, will, not, be, compatible, with, playstation, 5]                                                            |[sonys, ps4, dualshock, controller, compatible, playstation, 5]                                                                   |\n",
            "|study shows high sarscov2 seroprevalence but low death rate in malawis health care workers                                 |[study, shows, high, sarscov2, seroprevalence, but, low, death, rate, in, malawis, health, care, workers]                                          |[study, show, high, sarscov2, seroprevalence, but, low, death, rate, in, malawi, health, care, worker]                                          |[study, show, high, sarscov2, seroprevalence, low, death, rate, malawi, health, care, worker]                                     |\n",
            "|amds nextgen ryzen 9 4950x 5950x vermeer am4 desktop cpu with 16 zen 3 cores spotted engineering sample boosts up to 48 ghz|[amds, nextgen, ryzen, 9, 4950x, 5950x, vermeer, am4, desktop, cpu, with, 16, zen, 3, cores, spotted, engineering, sample, boosts, up, to, 48, ghz]|[amd, nextgen, ryzen, 9, 4950x, 5950x, vermeer, am4, desktop, cpu, with, 16, zen, 3, core, spotted, engineering, sample, boost, up, to, 48, ghz]|[amd, nextgen, ryzen, 9, 4950x, 5950x, vermeer, am4, desktop, cpu, 16, zen, 3, core, spotted, engineering, sample, boost, 48, ghz]|\n",
            "|microsoft and tiktok a great window of opportunity                                                                         |[microsoft, and, tiktok, a, great, window, of, opportunity]                                                                                        |[microsoft, and, tiktok, a, great, window, of, opportunity]                                                                                     |[microsoft, tiktok, great, window, opportunity]                                                                                   |\n",
            "|google might not release pixel 5 only the xl variant news                                                                  |[google, might, not, release, pixel, 5, only, the, xl, variant, news]                                                                              |[google, might, not, release, pixel, 5, only, the, xl, variant, news]                                                                           |[google, might, release, pixel, 5, xl, variant, news]                                                                             |\n",
            "|amds new patent is an awkward copy of intels lakefield architecture                                                        |[amds, new, patent, is, an, awkward, copy, of, intels, lakefield, architecture]                                                                    |[amd, new, patent, is, an, awkward, copy, of, intels, lakefield, architecture]                                                                  |[amd, new, patent, awkward, copy, intels, lakefield, architecture]                                                                |\n",
            "|people in derry being asked to take part in clinical trials to help find a vaccine for covid19                             |[people, in, derry, being, asked, to, take, part, in, clinical, trials, to, help, find, a, vaccine, for, covid19]                                  |[people, in, derry, being, asked, to, take, part, in, clinical, trial, to, help, find, a, vaccine, for, covid19]                                |[people, derry, asked, take, part, clinical, trial, help, find, vaccine, covid19]                                                 |\n",
            "+---------------------------------------------------------------------------------------------------------------------------+---------------------------------------------------------------------------------------------------------------------------------------------------+------------------------------------------------------------------------------------------------------------------------------------------------+----------------------------------------------------------------------------------------------------------------------------------+\n",
            "only showing top 20 rows\n",
            "\n"
          ]
        },
        {
          "name": "stderr",
          "output_type": "stream",
          "text": [
            "                                                                                \r"
          ]
        }
      ],
      "source": [
        "# Initialize stop words remover\n",
        "remover = StopWordsRemover(inputCol=\"lemmas\", outputCol=\"description_filtered\")\n",
        "\n",
        "# Transform the DataFrame\n",
        "# Remove stop words\n",
        "df_no_stopwords = remover.transform(df_lemmatized)\n",
        "\n",
        "# Show the result\n",
        "df_no_stopwords.select(\"description_lowercase\", 'tokens','lemmas',\"description_filtered\").show(truncate=False)"
      ]
    },
    {
      "cell_type": "markdown",
      "metadata": {
        "id": "jzjixi3CLgPI"
      },
      "source": [
        "After all these changes, there may by empty desriptions. Let us check that."
      ]
    },
    {
      "cell_type": "code",
      "execution_count": 103,
      "metadata": {
        "colab": {
          "background_save": true
        },
        "id": "wRtFzl-pnPak",
        "outputId": "da77bfd9-e791-41a6-e5f7-f9069cd58f1d"
      },
      "outputs": [
        {
          "name": "stderr",
          "output_type": "stream",
          "text": [
            "                                                                                \r"
          ]
        },
        {
          "data": {
            "text/plain": [
              "23"
            ]
          },
          "execution_count": 103,
          "metadata": {},
          "output_type": "execute_result"
        }
      ],
      "source": [
        "df_no_stopwords.filter(size(df_no_stopwords.description_filtered)==0).count()"
      ]
    },
    {
      "cell_type": "markdown",
      "metadata": {
        "id": "aKrZPz-cLxYH"
      },
      "source": [
        "Let us remove all news with empty description."
      ]
    },
    {
      "cell_type": "code",
      "execution_count": 104,
      "metadata": {
        "colab": {
          "background_save": true
        },
        "id": "xXzLbRzOt8xb"
      },
      "outputs": [],
      "source": [
        "df_no_stopwords=df_no_stopwords.filter(size(df_no_stopwords.description_filtered)!=0)"
      ]
    },
    {
      "cell_type": "markdown",
      "metadata": {
        "id": "LZnp1rXhtX6P"
      },
      "source": [
        "Now let us apply these change to our dataframe and selct only the relevant colums"
      ]
    },
    {
      "cell_type": "code",
      "execution_count": 105,
      "metadata": {
        "colab": {
          "background_save": true
        },
        "id": "VV6EHjzwpSUe",
        "outputId": "7d02dd8d-b12c-46b9-87ad-902f72bff30f"
      },
      "outputs": [
        {
          "name": "stderr",
          "output_type": "stream",
          "text": [
            "[Stage 534:==================================================>    (25 + 2) / 27]\r"
          ]
        },
        {
          "name": "stdout",
          "output_type": "stream",
          "text": [
            "+--------------+----------------------------------------------------------------------------------------------------------------------------------+\n",
            "|category_label|description_filtered                                                                                                              |\n",
            "+--------------+----------------------------------------------------------------------------------------------------------------------------------+\n",
            "|5.0           |[getting, canon, filmmaking]                                                                                                      |\n",
            "|5.0           |[major, window, 10, fail, playing, havoc, password]                                                                               |\n",
            "|5.0           |[teaming, stream, sniping, prof, problem, fncs, solo]                                                                             |\n",
            "|5.0           |[samsung, galaxy, s20, fe, 5g, render, reveal, complete, design, ahead, launch]                                                   |\n",
            "|3.0           |[covid, 19, coronavirus, second, christchurch, retirement, village, go, lockdown]                                                 |\n",
            "|3.0           |[man, dy, bubonic, plague, western, mongolia, englishnewscn]                                                                      |\n",
            "|5.0           |[marvel, first, muslim, female, superhero, revealed]                                                                              |\n",
            "|3.0           |[wearing, mask, home, expert, weigh]                                                                                              |\n",
            "|5.0           |[ucsf, study, sf, firefighter, coronavirus, antibody]                                                                             |\n",
            "|5.0           |[4, thought, tongue, operated, human, machine, interface]                                                                         |\n",
            "|3.0           |[aberdeen, lockdown, survey, tell, u, really, think, restriction]                                                                 |\n",
            "|5.0           |[japan, nintendo, seen, posting, bumper, profit, fan, await, pipeline, update]                                                    |\n",
            "|3.0           |[large, study, debunks, myth, vitamin, d, reduces, risk, mood, disorder]                                                          |\n",
            "|5.0           |[sonys, ps4, dualshock, controller, compatible, playstation, 5]                                                                   |\n",
            "|3.0           |[study, show, high, sarscov2, seroprevalence, low, death, rate, malawi, health, care, worker]                                     |\n",
            "|5.0           |[amd, nextgen, ryzen, 9, 4950x, 5950x, vermeer, am4, desktop, cpu, 16, zen, 3, core, spotted, engineering, sample, boost, 48, ghz]|\n",
            "|5.0           |[microsoft, tiktok, great, window, opportunity]                                                                                   |\n",
            "|5.0           |[google, might, release, pixel, 5, xl, variant, news]                                                                             |\n",
            "|5.0           |[amd, new, patent, awkward, copy, intels, lakefield, architecture]                                                                |\n",
            "|3.0           |[people, derry, asked, take, part, clinical, trial, help, find, vaccine, covid19]                                                 |\n",
            "+--------------+----------------------------------------------------------------------------------------------------------------------------------+\n",
            "only showing top 20 rows\n",
            "\n"
          ]
        },
        {
          "name": "stderr",
          "output_type": "stream",
          "text": [
            "                                                                                \r"
          ]
        }
      ],
      "source": [
        "df=df_no_stopwords.select('category_label','description_filtered')\n",
        "df.show(truncate=False)"
      ]
    },
    {
      "cell_type": "markdown",
      "metadata": {
        "id": "K_lHhrwxyaxR"
      },
      "source": [
        "Our filter description fields is a field with arrays. Let us transform the values to strings separted by spaces"
      ]
    },
    {
      "cell_type": "code",
      "execution_count": 106,
      "metadata": {
        "colab": {
          "background_save": true
        },
        "id": "Ta5uKNuHyZ7f",
        "outputId": "e1df2c0e-a853-445b-9c4c-e67e08dcf181"
      },
      "outputs": [
        {
          "name": "stderr",
          "output_type": "stream",
          "text": [
            "[Stage 537:==================================================>    (25 + 2) / 27]\r"
          ]
        },
        {
          "name": "stdout",
          "output_type": "stream",
          "text": [
            "+--------------+-------------------------------------------------------------------------------------------------------------+\n",
            "|category_label|description_filtered                                                                                         |\n",
            "+--------------+-------------------------------------------------------------------------------------------------------------+\n",
            "|5.0           |getting canon filmmaking                                                                                     |\n",
            "|5.0           |major window 10 fail playing havoc password                                                                  |\n",
            "|5.0           |teaming stream sniping prof problem fncs solo                                                                |\n",
            "|5.0           |samsung galaxy s20 fe 5g render reveal complete design ahead launch                                          |\n",
            "|3.0           |covid 19 coronavirus second christchurch retirement village go lockdown                                      |\n",
            "|3.0           |man dy bubonic plague western mongolia englishnewscn                                                         |\n",
            "|5.0           |marvel first muslim female superhero revealed                                                                |\n",
            "|3.0           |wearing mask home expert weigh                                                                               |\n",
            "|5.0           |ucsf study sf firefighter coronavirus antibody                                                               |\n",
            "|5.0           |4 thought tongue operated human machine interface                                                            |\n",
            "|3.0           |aberdeen lockdown survey tell u really think restriction                                                     |\n",
            "|5.0           |japan nintendo seen posting bumper profit fan await pipeline update                                          |\n",
            "|3.0           |large study debunks myth vitamin d reduces risk mood disorder                                                |\n",
            "|5.0           |sonys ps4 dualshock controller compatible playstation 5                                                      |\n",
            "|3.0           |study show high sarscov2 seroprevalence low death rate malawi health care worker                             |\n",
            "|5.0           |amd nextgen ryzen 9 4950x 5950x vermeer am4 desktop cpu 16 zen 3 core spotted engineering sample boost 48 ghz|\n",
            "|5.0           |microsoft tiktok great window opportunity                                                                    |\n",
            "|5.0           |google might release pixel 5 xl variant news                                                                 |\n",
            "|5.0           |amd new patent awkward copy intels lakefield architecture                                                    |\n",
            "|3.0           |people derry asked take part clinical trial help find vaccine covid19                                        |\n",
            "+--------------+-------------------------------------------------------------------------------------------------------------+\n",
            "only showing top 20 rows\n",
            "\n"
          ]
        },
        {
          "name": "stderr",
          "output_type": "stream",
          "text": [
            "                                                                                \r"
          ]
        }
      ],
      "source": [
        "df=df.withColumn(\"description_filtered\", concat_ws(\" \", \"description_filtered\"))\n",
        "df.show(truncate=False)"
      ]
    },
    {
      "cell_type": "markdown",
      "metadata": {
        "id": "FbRi8qI7N4q2"
      },
      "source": [
        "Now let us drop the eventual duplicates rows and also the rows containing empty description."
      ]
    },
    {
      "cell_type": "code",
      "execution_count": 107,
      "metadata": {
        "colab": {
          "background_save": true
        },
        "id": "tpj9iz6WOQru",
        "outputId": "639feb70-4a7a-4a6a-e280-c38d9ef2ee39"
      },
      "outputs": [
        {
          "name": "stderr",
          "output_type": "stream",
          "text": [
            "                                                                                \r"
          ]
        },
        {
          "name": "stdout",
          "output_type": "stream",
          "text": [
            "+--------------+--------------------+\n",
            "|category_label|description_filtered|\n",
            "+--------------+--------------------+\n",
            "|           5.0|uv light kill cor...|\n",
            "|           3.0|quickly process i...|\n",
            "|           5.0|class action come...|\n",
            "|           3.0|talk child kilken...|\n",
            "|           5.0|2020 hyundai mode...|\n",
            "|           5.0|kpop group bts la...|\n",
            "|           1.0|wrestler james ka...|\n",
            "|           5.0|grounded continue...|\n",
            "|           3.0|global manual ori...|\n",
            "|           5.0|rajnish kumar lik...|\n",
            "|           3.0|temporary closure...|\n",
            "|           3.0|waterloo region r...|\n",
            "|           0.0|grocer recall pre...|\n",
            "|           5.0|clear app cache a...|\n",
            "|           1.0|mark gatisss stag...|\n",
            "|           0.0|fitch affirms sab...|\n",
            "|           5.0|oneplus confirms ...|\n",
            "|           3.0|speed success dip...|\n",
            "|           1.0|jadon sancho hint...|\n",
            "|           5.0|youtube music add...|\n",
            "+--------------+--------------------+\n",
            "only showing top 20 rows\n",
            "\n"
          ]
        },
        {
          "name": "stderr",
          "output_type": "stream",
          "text": [
            "                                                                                \r"
          ]
        },
        {
          "data": {
            "text/plain": [
              "793624"
            ]
          },
          "execution_count": 107,
          "metadata": {},
          "output_type": "execute_result"
        }
      ],
      "source": [
        "df=df.dropDuplicates().filter(df.description_filtered!='')\n",
        "df.show()\n",
        "n=df.count()\n",
        "n"
      ]
    },
    {
      "cell_type": "code",
      "execution_count": 108,
      "metadata": {
        "colab": {
          "background_save": true
        },
        "id": "x38HTTekhPfc"
      },
      "outputs": [],
      "source": [
        "# Compute the count and percentage of each category\n",
        "categories = df.groupBy('category_label').count() \\\n",
        "    .withColumn('percentage', format_number((col('count') / n * 100), 2)) \\\n",
        "    .orderBy(col('percentage').desc())"
      ]
    },
    {
      "cell_type": "code",
      "execution_count": 109,
      "metadata": {
        "colab": {
          "background_save": true
        },
        "id": "2ZJvpWKehPfc",
        "outputId": "4ece70ce-480e-41e9-b281-d107c342b823"
      },
      "outputs": [
        {
          "name": "stderr",
          "output_type": "stream",
          "text": [
            "[Stage 561:>                                                        (0 + 8) / 8]\r"
          ]
        },
        {
          "name": "stdout",
          "output_type": "stream",
          "text": [
            "+--------------+-----+----------+\n",
            "|category_label|count|percentage|\n",
            "+--------------+-----+----------+\n",
            "|0.0           |70909|8.93      |\n",
            "|1.0           |70288|8.86      |\n",
            "|2.0           |70272|8.85      |\n",
            "|4.0           |69428|8.75      |\n",
            "|3.0           |68664|8.65      |\n",
            "|5.0           |68409|8.62      |\n",
            "|8.0           |68041|8.57      |\n",
            "|6.0           |67607|8.52      |\n",
            "|7.0           |66327|8.36      |\n",
            "|9.0           |64251|8.10      |\n",
            "|11.0          |55259|6.96      |\n",
            "|10.0          |54169|6.83      |\n",
            "+--------------+-----+----------+\n",
            "\n"
          ]
        },
        {
          "name": "stderr",
          "output_type": "stream",
          "text": [
            "                                                                                \r"
          ]
        }
      ],
      "source": [
        "categories.show(truncate=False)"
      ]
    },
    {
      "cell_type": "code",
      "execution_count": 110,
      "metadata": {
        "colab": {
          "background_save": true
        },
        "id": "H4yrCjPshPfc",
        "outputId": "9fe6d432-1472-4dfd-a703-4163bfbc4ec4"
      },
      "outputs": [
        {
          "name": "stderr",
          "output_type": "stream",
          "text": [
            "                                                                                \r"
          ]
        },
        {
          "name": "stdout",
          "output_type": "stream",
          "text": [
            "First count (minimum count): 70909\n",
            "Last count (maximum count): 54169\n"
          ]
        }
      ],
      "source": [
        "# Convert to a list and use indexing\n",
        "categories_list = categories.select('count').collect()\n",
        "\n",
        "# Get the first count (minimum count)\n",
        "first_count = categories_list[0][0]\n",
        "\n",
        "# Get the last count (maximum count)\n",
        "last_count = categories_list[-1][0]\n",
        "\n",
        "print(f\"First count (minimum count): {first_count}\")\n",
        "print(f\"Last count (maximum count): {last_count}\")"
      ]
    },
    {
      "cell_type": "code",
      "execution_count": 111,
      "metadata": {
        "colab": {
          "background_save": true
        },
        "id": "32j0GRfqhPfc",
        "outputId": "a0845de9-5b97-4fd1-8de2-03371f34d79c"
      },
      "outputs": [
        {
          "name": "stderr",
          "output_type": "stream",
          "text": [
            "                                                                                \r"
          ]
        },
        {
          "data": {
            "text/plain": [
              "12"
            ]
          },
          "execution_count": 111,
          "metadata": {},
          "output_type": "execute_result"
        }
      ],
      "source": [
        "classes_len=categories.count()\n",
        "classes_len"
      ]
    },
    {
      "cell_type": "markdown",
      "metadata": {
        "id": "cSIzFoDPSRHo"
      },
      "source": [
        "Let us balance the dataset by undersampling."
      ]
    },
    {
      "cell_type": "code",
      "execution_count": 112,
      "metadata": {
        "colab": {
          "background_save": true
        },
        "id": "oLFUxAr5hPfd",
        "outputId": "f6c51bc2-ba97-40f3-f6cb-44a623c718e8"
      },
      "outputs": [
        {
          "name": "stdout",
          "output_type": "stream",
          "text": [
            "root\n",
            " |-- category_label: double (nullable = false)\n",
            " |-- description_filtered: string (nullable = false)\n",
            "\n",
            "class: 0\n",
            "class: 1\n",
            "class: 2\n",
            "class: 3\n",
            "class: 4\n",
            "class: 5\n",
            "class: 6\n",
            "class: 7\n",
            "class: 8\n",
            "class: 9\n",
            "class: 10\n",
            "class: 11\n"
          ]
        }
      ],
      "source": [
        "balanced_df=spark.createDataFrame([],df.schema)\n",
        "balanced_df=balanced_df.cache()\n",
        "balanced_df.printSchema()\n",
        "\n",
        "for class_num in range(classes_len):\n",
        "    print('class:',class_num)\n",
        "    sub_df=df.filter(df.category_label==class_num).limit(last_count)\n",
        "    balanced_df=balanced_df.unionAll(sub_df)"
      ]
    },
    {
      "cell_type": "code",
      "execution_count": 113,
      "metadata": {
        "id": "Bnrq1HjmhPfd",
        "outputId": "9854dcb9-51ce-47f6-9b41-42d569439c22"
      },
      "outputs": [
        {
          "name": "stderr",
          "output_type": "stream",
          "text": [
            "                                                                                \r"
          ]
        },
        {
          "data": {
            "text/plain": [
              "650028"
            ]
          },
          "execution_count": 113,
          "metadata": {},
          "output_type": "execute_result"
        }
      ],
      "source": [
        "balanced_df.count()"
      ]
    },
    {
      "cell_type": "markdown",
      "metadata": {
        "id": "dhX8mZmaRoJc"
      },
      "source": [
        "### Summary"
      ]
    },
    {
      "cell_type": "markdown",
      "metadata": {
        "id": "tKYoda9EIUeZ"
      },
      "source": [
        "Our final dataset has now:\n",
        "\n",
        "- 2 columns category_label and description_filtered which represent the category of the news and their filtered description\n",
        "- 650028 rows\n",
        "- 12 categories which are balanced\n",
        "\n",
        "The mapping of numerical values to our categories has been saved to a JSON file.\n",
        "\n",
        "To handle imbalanced classes we performed data augmentation to have  balanced dataset After permorming data cleaning tasks, we then undersample the to get balanced dataset.\n",
        "\n",
        "We can now save the final version of our data."
      ]
    },
    {
      "cell_type": "code",
      "execution_count": 114,
      "metadata": {
        "id": "jceZbV385rnO"
      },
      "outputs": [
        {
          "name": "stderr",
          "output_type": "stream",
          "text": [
            "                                                                                \r"
          ]
        }
      ],
      "source": [
        "balanced_df.toPandas().to_csv('output/news.csv',index=False)"
      ]
    },
    {
      "cell_type": "code",
      "execution_count": 115,
      "metadata": {
        "id": "Krp71SnzSRHp"
      },
      "outputs": [],
      "source": [
        "balanced_df.toPandas().to_parquet('output/news.parquet',index=False)"
      ]
    },
    {
      "cell_type": "markdown",
      "metadata": {
        "id": "9Qz1SMJufCdn"
      },
      "source": [
        "## V- Summary"
      ]
    },
    {
      "cell_type": "markdown",
      "metadata": {
        "id": "Lrm4xJhDXKrd"
      },
      "source": [
        "We have preprocessed each dataset and then integrated them to get the final dataset that we saved into csv and parket formats.\n",
        "\n",
        "We can stop the application"
      ]
    },
    {
      "cell_type": "code",
      "execution_count": 118,
      "metadata": {
        "id": "dryMX0xtSa8u"
      },
      "outputs": [],
      "source": [
        "sc.stop()"
      ]
    }
  ],
  "metadata": {
    "colab": {
      "collapsed_sections": [
        "Xtc2oSicYynU",
        "zhP8wlryaWnx",
        "R11PCz51HGxI",
        "U_-HxpX0f_u-",
        "hPRy3HmuXdjq",
        "G2AJde_MYIdA",
        "6uwpZDInfdWf",
        "SkqjfRzgu4X6",
        "6uw13_vRnY5n",
        "AfiLZ8Szh-L5",
        "_wg3O4CVYSAY",
        "pan9fCrS1i3C",
        "LMfQhZ7o4c9V",
        "4qrWbTp0CTAd",
        "SN1RQXlWH_Ep",
        "73Rb3f754tv2",
        "qFxLF_X1Jowh",
        "K_l25vBagPql",
        "fKJkFMMYNXML",
        "NCJwj8LhR5pP",
        "EmuDUgIRVYAH",
        "3OS9nuDDKcpA",
        "KILI5ZQljlUq",
        "en91MnOipohK",
        "DPD6dfLBvuw3",
        "bzm62vkI3-yb",
        "VmFn2Eeb3-yh",
        "ZLFdsnhxOOXh",
        "uV1N2yVa79Fw",
        "N2FCUmA29iY9",
        "YZnLOfUkAow2",
        "4YXz-R4fCwMK",
        "Kf2pxnxjCwMU",
        "dhX8mZmaRoJc",
        "9Qz1SMJufCdn"
      ],
      "provenance": []
    },
    "kernelspec": {
      "display_name": "Python 3 (ipykernel)",
      "language": "python",
      "name": "python3"
    },
    "language_info": {
      "codemirror_mode": {
        "name": "ipython",
        "version": 3
      },
      "file_extension": ".py",
      "mimetype": "text/x-python",
      "name": "python",
      "nbconvert_exporter": "python",
      "pygments_lexer": "ipython3",
      "version": "3.10.14"
    }
  },
  "nbformat": 4,
  "nbformat_minor": 0
}
